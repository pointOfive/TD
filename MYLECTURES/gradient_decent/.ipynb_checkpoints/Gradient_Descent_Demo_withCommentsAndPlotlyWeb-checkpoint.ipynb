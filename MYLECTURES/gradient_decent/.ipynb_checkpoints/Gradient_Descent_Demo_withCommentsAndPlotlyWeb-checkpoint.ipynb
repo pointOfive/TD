{
 "cells": [
  {
   "cell_type": "code",
   "execution_count": 1,
   "metadata": {
    "collapsed": false
   },
   "outputs": [],
   "source": [
    "import numpy as np\n",
    "from sklearn.datasets import make_regression\n",
    "from scipy.spatial.distance import norm\n",
    "from itertools import product\n",
    "from collections import OrderedDict\n",
    "import plotly.plotly as py\n",
    "from plotly.graph_objs import *\n",
    "import plotly.tools as tls\n",
    "import time\n",
    "\n",
    "tls.set_credentials_file(username='', api_key='')\n",
    "\n",
    "def gradient_descent(X, y, \n",
    "                     cost_function, # The cost function from which we'll calculate the cost. \n",
    "                     gradient_of_cost_function, # The function that we'll use to calculate the gradient. \n",
    "                     initial_guess, # Our initial parameters.\n",
    "                     learning_rate=.1, # This is the step size.\n",
    "                     threshold=1e-3, # When the gradient gets this flat, stop.\n",
    "                     max_iter=1e3): # How may times we're willing to take a step.\n",
    "    \n",
    "    \n",
    "    params = initial_guess\n",
    "        # We keep track of the previous parameters. We store a tuple with our initial guess\n",
    "        # and the cost. The number of parameters is hard coded to be 2. This is\n",
    "        # not a general purpose gradient descent function. We will be returning the \n",
    "        # the parameter history, not just the final parameters. This is so that we can\n",
    "        # compare how well this version of gradient descent converges compared to other \n",
    "        # versions.\n",
    "    param_history = [(initial_guess[0], initial_guess[1], cost_function(X, y, params))]\n",
    "        # improvement = (cost_old-cost_new)/cost_old. This may not make sense if the is ever\n",
    "        # close to zero. The function doesn't actually use this parameter.\n",
    "    improvement = threshold\n",
    "        # Start the cost at something high so that it can only get smaller. Probably\n",
    "        # better to start it at float('inf')\n",
    "    old_cost = 100000\n",
    "        # The starting value for our index.\n",
    "    iterations = 0\n",
    "        # We keep track of how long each iteration takes. \n",
    "    initial_time = time.time()\n",
    "    time_history = []\n",
    "    #time_history = [time.time()]\n",
    "        # When the gradient is big, keep descending. However, if the number of iterations\n",
    "        # becomes equal to the maximum number, max_iter, stop. This prevents us from getting\n",
    "        # stuck in an infinite loop.\n",
    "    \n",
    "    while (norm(gradient_of_cost_function(X, y, params)) >= threshold \n",
    "           and iterations < max_iter):\n",
    "        iterations += 1\n",
    "            # Here we calculate the step size and store it in params.\n",
    "        params -= learning_rate*gradient_of_cost_function(X, y, params)\n",
    "            # We calculate the current cost and store it in a temporary variable.\n",
    "        cost = cost_function(X, y, params)\n",
    "            # Because this next line uses params[0] and params[1], we know that this funtion\n",
    "            # is hard coded to do gradient descent with two parameters. \n",
    "            # We will eventually be graphing time vs cost.\n",
    "        param_history.append((params[0], params[1], cost)) # for plotting\n",
    "            # This is how much the cost function improved compared to previously.\n",
    "            # There could be a problem if the old cost is zero. But in linear regression, \n",
    "            # the cost is strictly positive. \n",
    "        improvement = np.abs(cost - old_cost)/old_cost\n",
    "            # update the old cost to be the current one for the next iteration.\n",
    "        old_cost = cost\n",
    "            # keep track of the time at which this iteration happened. This is for graphing.\n",
    "        #time_history.append(time.time())\n",
    "        time_history.append(time.time()-initial_time)\n",
    "        \n",
    "        # This next couple of lines just tells us if we reached the maximum number of iterations.\n",
    "        # If we did, print it. This is important because in this case we may not have actually\n",
    "        # reached a solution.\n",
    "    if iterations == max_iter:\n",
    "        print \"max iterations reached\"\n",
    "    print \"Final gradient of cost function %s\" %gradient_of_cost_function(X, y, params)\n",
    "    print \"Final params %s\" %params\n",
    "    \n",
    "        # We return not just the parameters, but the history of parameters.\n",
    "    return param_history, time_history\n",
    "\n",
    "\n",
    "def stochastic_gradient_descent(X, y, \n",
    "                     cost_function, # The cost function\n",
    "                     gradient_of_cost_function, # The gradient cost function.\n",
    "                     initial_guess, # Our initial guess for the answer. \n",
    "                     learning_rate=.1, # The step size. \n",
    "                     threshold=1e-3, # If the gradient is flatter than this, stop.\n",
    "                     max_iter=1e3, # If we step more than this number of times, stop.\n",
    "                     batch_size=1): # The number of data points used to calculate the gradient.\n",
    "    \n",
    "        # We can't have a batch size that is bigger than the number of data point. We check for this\n",
    "        # in the next line. \n",
    "    batch_size = min(batch_size, X.shape[0])\n",
    "        # Relabeling our parameters. \n",
    "    params = initial_guess\n",
    "        # The gradient descent function above also kept track of the cost function. \n",
    "        # The function returns param_history.\n",
    "    param_history = [(initial_guess[0], initial_guess[1])]\n",
    "        # improvement = (cost_new - cost_old)/cost_old\n",
    "    improvement = threshold\n",
    "        # the initial cost. This is rather arbitrary. I would choose it to be float('inf')\n",
    "    old_cost = 100000\n",
    "        # We keep track of how many times we have gone through our loop with the iterations\n",
    "        # variable. We will add one to it every time we go through the while loop.\n",
    "    iterations = 0\n",
    "        # We clock our initial time. We will return this list. \n",
    "    #time_history = [time.time()]\n",
    "    initial_time = time.time()\n",
    "    time_history = []\n",
    "    \n",
    "        # When the gradient is steep enough and we haven't reached our threshold for\n",
    "        # how many iterations we're willing to do, then go down the hill.\n",
    "    while (norm(gradient_of_cost_function(X, y, params)) >= threshold \n",
    "           and iterations < max_iter):\n",
    "        # select indices of mini-batch\n",
    "            # I am not really sure what this does yet.\n",
    "            # If the iteration is zero, then the min_index is zero. If iteration=1, then the \n",
    "            # min_index = batch_size. So what we are doing is splitting the data into groups.\n",
    "            # They are not random groups though. \n",
    "        min_index = batch_size*iterations % X.shape[0]\n",
    "        indices = []\n",
    "            # Fill up the indices for the next batch.\n",
    "        while len(indices) < batch_size:\n",
    "            indices.append((min_index + len(indices)) % X.shape[0])\n",
    "        Xi, yi = X[indices], y[indices]\n",
    "        # update parameters\n",
    "        params -= learning_rate*gradient_of_cost_function(Xi, yi, params)\n",
    "        cost = cost_function(Xi, yi, params)\n",
    "        param_history.append((params[0], params[1])) # for plotting\n",
    "        improvement = np.abs(cost - old_cost)/old_cost\n",
    "        old_cost = cost\n",
    "        iterations += 1\n",
    "        time_history.append(time.time()-initial_time)\n",
    "    if iterations == max_iter:\n",
    "        print \"max iterations reached\"\n",
    "    print \"Final gradient of cost function %s\" %gradient_of_cost_function(X, y, params)\n",
    "    print \"Final params %s\" %params\n",
    "    return param_history, time_history"
   ]
  },
  {
   "cell_type": "code",
   "execution_count": 2,
   "metadata": {
    "collapsed": false
   },
   "outputs": [],
   "source": [
    "def plot_results(X, y, cost_function, param_history):\n",
    "    params = param_history[-1][0:2]\n",
    "    x_params = np.array([params[0] - (params[0]-p[0]) for p in param_history] +\n",
    "                [params[0] + (params[0]-p[0]) for p in param_history])\n",
    "    x_params.sort()\n",
    "    y_params = np.array([params[1] - (params[1]-p[1]) for p in param_history] +\n",
    "                [params[1] + (params[1]-p[1]) for p in param_history])\n",
    "    y_params.sort()\n",
    "    samples = list(product(x_params, y_params))\n",
    "    costs = [cost_function(X, y, np.array([p[0], p[1]])) for p in samples]\n",
    "    costs = np.reshape(costs, (len(x_params), -1))\n",
    "    cost_surface = Surface(\n",
    "        x = x_params,\n",
    "        y = y_params,\n",
    "        z = costs,\n",
    "        colorscale = [[0, 'rgb(31,119,180)'], \n",
    "                      [0.5, 'rgb(143, 123, 196)'], \n",
    "                      [1, 'rgb(255,127,97)']],\n",
    "        name='Cost Function'\n",
    "    )\n",
    "    param_history = Scatter3d(\n",
    "        x = x_params,\n",
    "        y = y_params,\n",
    "        z = [p[2] for p in param_history],\n",
    "        mode = 'lines+markers'\n",
    "    )\n",
    "    data_3d_plot = Data([cost_surface, param_history])\n",
    "    figure_3d = Figure(data=data_3d_plot)\n",
    "    return figure_3d\n",
    "\n",
    "def plot_sgd_results(X, y, cost_function, param_history):\n",
    "    x_history = [p[0] for p in param_history]\n",
    "    y_history = [p[1] for p in param_history]\n",
    "    x_params = np.linspace(min(x_history),\n",
    "                           max(x_history),\n",
    "                           100)\n",
    "    y_params = np.linspace(min(y_history),\n",
    "                           max(y_history),\n",
    "                           100)\n",
    "    samples = list(product(x_params, y_params))\n",
    "    demo_points = OrderedDict()\n",
    "    for p in param_history:\n",
    "        best_sample = samples[0]\n",
    "        min_distance = ((p[0]-best_sample[0])**2+(p[1]-best_sample[1])**2)**.5\n",
    "        for sample in samples:\n",
    "            d = ((p[0]-sample[0])**2+(p[1]-sample[1])**2)**.5\n",
    "            if d < min_distance:\n",
    "                best_sample = sample\n",
    "                min_distance = d\n",
    "        demo_points[tuple(p)] = best_sample\n",
    "    costs = [cost_function(X, y, np.array([p[0], p[1]])) for p in samples]\n",
    "    costs = np.reshape(costs, (len(x_params), -1))\n",
    "    cost_surface = Surface(\n",
    "        x = x_params,\n",
    "        y = y_params,\n",
    "        z = costs,\n",
    "        colorscale = [[0, 'rgb(31,119,180)'], \n",
    "                      [0.5, 'rgb(143, 123, 196)'], \n",
    "                      [1, 'rgb(255,127,97)']],\n",
    "        name='Cost Function'\n",
    "    )\n",
    "    param_history = Scatter3d(\n",
    "        x = [d[0] for d in demo_points],\n",
    "        y = [d[1] for d in demo_points],\n",
    "        z = [cost_function(X, y, d) for d in demo_points],\n",
    "        mode = 'lines+markers'\n",
    "    )\n",
    "    data_3d_plot = Data([cost_surface, param_history])\n",
    "    figure_3d = Figure(data=data_3d_plot)\n",
    "    return figure_3d"
   ]
  },
  {
   "cell_type": "code",
   "execution_count": 3,
   "metadata": {
    "collapsed": false
   },
   "outputs": [],
   "source": [
    "def predict(X, params):\n",
    "    y_predicted = X.dot(params)\n",
    "    return y_predicted\n",
    "\n",
    "    # make_regression is a sub-module from sklearn. We're using it to generate data. \n",
    "X, y = make_regression(n_samples = 50, n_features = 2, n_informative=2, random_state=0)\n",
    "\n",
    "    # The next line normalizes the data.\n",
    "X = (X - X.mean(axis=0))/X.std()"
   ]
  },
  {
   "cell_type": "markdown",
   "metadata": {},
   "source": [
    "Next we plot the data in a 3-d graph. "
   ]
  },
  {
   "cell_type": "code",
   "execution_count": 4,
   "metadata": {
    "collapsed": false
   },
   "outputs": [
    {
     "data": {
      "image/png": "[encoded data removed]",
      "text/plain": [
       "<matplotlib.figure.Figure at 0x11a03e590>"
      ]
     },
     "metadata": {},
     "output_type": "display_data"
    }
   ],
   "source": [
    "from mpl_toolkits.mplot3d import Axes3D\n",
    "import matplotlib.pyplot as plt\n",
    "%matplotlib inline\n",
    "\n",
    "fig = plt.figure()\n",
    "ax = fig.add_subplot(111, projection='3d')\n",
    "xs = X[:,0]\n",
    "ys = X[:,1]\n",
    "zs = y\n",
    "ax.scatter(xs, ys, zs, c='b')\n",
    "\n",
    "ax.set_xlabel('X_1')\n",
    "ax.set_ylabel('X_2')\n",
    "ax.set_zlabel('Y')\n",
    "\n",
    "plt.show()"
   ]
  },
  {
   "cell_type": "code",
   "execution_count": 5,
   "metadata": {
    "collapsed": false
   },
   "outputs": [
    {
     "name": "stdout",
     "output_type": "stream",
     "text": [
      "Here we do gradient descent on the half average sum of squares cost function, RSS/(2n)\n",
      "The graph is of both the cost function and a history of parameters.\n",
      "\n",
      "Final gradient of cost function [-0.00036218 -0.00086667]\n",
      "Final params [ 42.71922179  61.1163727 ]\n"
     ]
    },
    {
     "data": {
      "text/html": [
       "<iframe id=\"igraph\" scrolling=\"no\" style=\"border:none;\" seamless=\"seamless\" src=\"https://plot.ly/~schwarls37/120.embed\" height=\"525\" width=\"100%\"></iframe>"
      ],
      "text/plain": [
       "<plotly.tools.PlotlyDisplay object>"
      ]
     },
     "execution_count": 5,
     "metadata": {},
     "output_type": "execute_result"
    }
   ],
   "source": [
    "# LINEAR REGRESSION WITHOUT REGULARIZATION\n",
    "\n",
    "def ols_cost_function(X, y, params):\n",
    "    '''\n",
    "    OLS from linear regression\n",
    "    '''\n",
    "        # Get the number of rows in our data.\n",
    "    n_observations = X.shape[0]\n",
    "        # Average square of the residual. RSS/n. I don't understand why the extra factor of 2?\n",
    "        # I think it is over 2 so that the gradient has no factor of two. So this is really\n",
    "        # half of the average of the residuals. \n",
    "    avg_squared_residuals = ((predict(X, params) - y)**2).sum()/(2*n_observations)\n",
    "    return avg_squared_residuals\n",
    "\n",
    "def ols_gradient_of_cost_function(X, y, params):\n",
    "        # The number of rows in our data. \n",
    "    n_observations = X.shape[0]\n",
    "        # The gradient of the RSS/(2n) cost function.\n",
    "    gradient = (predict(X, params) - y).dot(X)/n_observations\n",
    "    return gradient\n",
    "\n",
    "\n",
    "print \"Here we do gradient descent on the half average sum of squares cost function, RSS/(2n)\"\n",
    "print \"The graph is of both the cost function and a history of parameters.\\n\"\n",
    "\n",
    "gd_param_history, gd_time_history = gradient_descent(X, y, \n",
    "                                                     ols_cost_function, \n",
    "                                                     ols_gradient_of_cost_function,\n",
    "                                                     learning_rate=.1, # The step size. \n",
    "                                                     threshold=1e-3,#\n",
    "                                                     initial_guess = np.array([0., 0.]))\n",
    "\n",
    "\n",
    "py.sign_in('schwarls37','q71kqamu80')\n",
    "\n",
    "figure_3d = plot_results(X, y, ols_cost_function, gd_param_history)\n",
    "tls.embed(py.plot(figure_3d))"
   ]
  },
  {
   "cell_type": "code",
   "execution_count": null,
   "metadata": {
    "collapsed": true
   },
   "outputs": [],
   "source": []
  },
  {
   "cell_type": "code",
   "execution_count": 12,
   "metadata": {
    "collapsed": false
   },
   "outputs": [
    {
     "name": "stdout",
     "output_type": "stream",
     "text": [
      "Here we do gradient descent on the ridge regression cost function.\n",
      "This is essentially the average sum of squares $+ \\lambda \\beta \\cdot \beta$\n",
      "The parameters are slightly smaller, by 2 or 3.\n",
      "\n",
      "\n",
      "Final gradient of cost function [-0.00034382 -0.00058411]\n",
      "Final params [ 10.64799024  14.46411654]\n"
     ]
    },
    {
     "data": {
      "text/html": [
       "<iframe id=\"igraph\" scrolling=\"no\" style=\"border:none;\" seamless=\"seamless\" src=\"https://plot.ly/~schwarls37/132.embed\" height=\"525\" width=\"100%\"></iframe>"
      ],
      "text/plain": [
       "<plotly.tools.PlotlyDisplay object>"
      ]
     },
     "execution_count": 12,
     "metadata": {},
     "output_type": "execute_result"
    }
   ],
   "source": [
    "# LINEAR REGRESSION WITH L2 REGULARIZATION\n",
    "\n",
    "LAMBDA_ = 15#150.\n",
    "\n",
    "def ridge_cost_function(X, y, params, lambda_=LAMBDA_):\n",
    "    '''\n",
    "    OLS from linear regression\n",
    "    '''\n",
    "    n_observations = X.shape[0]\n",
    "    avg_squared_residuals = (((predict(X, params) - y)**2).sum()\n",
    "                             + lambda_*(params**2).sum())/(2*n_observations)\n",
    "    return avg_squared_residuals\n",
    "\n",
    "def ridge_gradient_of_cost_function(X, y, params, lambda_=LAMBDA_):\n",
    "    n_observations = X.shape[0]\n",
    "    gradient = ((predict(X, params) - y).dot(X)\n",
    "               + lambda_*params)/n_observations\n",
    "    return gradient\n",
    "\n",
    "print \"Here we do gradient descent on the ridge regression cost function.\"\n",
    "print \"This is essentially the average sum of squares $+ \\lambda \\\\beta \\cdot \\beta$\"\n",
    "print \"The parameters are slightly smaller, by 2 or 3.\"\n",
    "print \"\\n\"\n",
    "\n",
    "\n",
    "ridge_param_history, ridge_time_history = gradient_descent(X, y, ridge_cost_function, ridge_gradient_of_cost_function,\n",
    "                                   initial_guess = np.array([0., 0.]))\n",
    "\n",
    "figure_3d = plot_results(X, y, ridge_cost_function, ridge_param_history)\n",
    "tls.embed(py.plot(figure_3d))"
   ]
  },
  {
   "cell_type": "code",
   "execution_count": 14,
   "metadata": {
    "collapsed": false
   },
   "outputs": [
    {
     "name": "stdout",
     "output_type": "stream",
     "text": [
      "Here we show the cost function for Lasso. This is like the average sum of squares with\n",
      "an additional piece to the cost function that penalizes bigger coefficeints. This is\n",
      "much like ridge regression but the cost is the sum of the absolute values of each of the\n",
      "coefficients. The result of the sum of absolute values is that the cost function is not\n",
      "longer differentiable everywhere. In particular, the gradient changes abruptly when\n",
      "$\beta_1 = 0$ or $\beta_2=0$. Because of this one has to be careful about how one defines\n",
      "the gradient at these points.\n"
     ]
    },
    {
     "data": {
      "text/html": [
       "<iframe id=\"igraph\" scrolling=\"no\" style=\"border:none;\" seamless=\"seamless\" src=\"https://plot.ly/~schwarls37/136.embed\" height=\"525\" width=\"100%\"></iframe>"
      ],
      "text/plain": [
       "<plotly.tools.PlotlyDisplay object>"
      ]
     },
     "execution_count": 14,
     "metadata": {},
     "output_type": "execute_result"
    }
   ],
   "source": [
    "# LASSO\n",
    "PARAM_HISTORY = [] \n",
    "\n",
    "LAMBDA_ = 350#3500.\n",
    "\n",
    "def lasso_cost_function(X, y, params, lambda_=LAMBDA_):\n",
    "    '''\n",
    "    OLS from linear regression\n",
    "    '''\n",
    "    n_observations = X.shape[0]\n",
    "    avg_squared_residuals = (((predict(X, params) - y)**2).sum()\n",
    "                             + lambda_*sum(np.abs(params)))/(2*n_observations)\n",
    "    return avg_squared_residuals\n",
    "\n",
    "x_params = np.linspace(-25, 75, 100)\n",
    "y_params = np.linspace(-25, 75, 100)\n",
    "samples = list(product(x_params, y_params))\n",
    "costs = [lasso_cost_function(X, y, np.array([p[0], p[1]])) for p in samples]\n",
    "costs = np.reshape(costs, (len(x_params), -1))\n",
    "cost_surface = Surface(\n",
    "    z = costs,\n",
    "    x = x_params,\n",
    "    y = y_params,\n",
    "    colorscale = [[0, 'rgb(31,119,180)'], \n",
    "                  [0.5, 'rgb(143, 123, 196)'], \n",
    "                  [1, 'rgb(255,127,97)']],\n",
    "    name='Cost Function'\n",
    ")\n",
    "\n",
    "print \"Here we show the cost function for Lasso. This is like the average sum of squares with\"\n",
    "print \"an additional piece to the cost function that penalizes bigger coefficeints. This is\"\n",
    "print \"much like ridge regression but the cost is the sum of the absolute values of each of the\"\n",
    "print \"coefficients. The result of the sum of absolute values is that the cost function is not\"\n",
    "print \"longer differentiable everywhere. In particular, the gradient changes abruptly when\"\n",
    "print \"$\\beta_1 = 0$ or $\\beta_2=0$. Because of this one has to be careful about how one defines\"\n",
    "print \"the gradient at these points.\"\n",
    "\n",
    "data_3d_plot = Data([cost_surface])\n",
    "figure_3d = Figure(data=data_3d_plot)\n",
    "tls.embed(py.plot(figure_3d))\n"
   ]
  },
  {
   "cell_type": "code",
   "execution_count": 15,
   "metadata": {
    "collapsed": false
   },
   "outputs": [
    {
     "name": "stdout",
     "output_type": "stream",
     "text": [
      "Here we do stochastic gradient descent. By default the batch size is 1. That is, we\n",
      "calculate the gradient from an individual data point. We plot the path that the\n",
      "parameters take. \n",
      "\n",
      "max iterations reached\n",
      "Final gradient of cost function [-1.33573467  0.45502579]\n",
      "Final params [ 41.45343437  61.55137444]\n"
     ]
    },
    {
     "data": {
      "text/html": [
       "<iframe id=\"igraph\" scrolling=\"no\" style=\"border:none;\" seamless=\"seamless\" src=\"https://plot.ly/~schwarls37/138.embed\" height=\"525\" width=\"100%\"></iframe>"
      ],
      "text/plain": [
       "<plotly.tools.PlotlyDisplay object>"
      ]
     },
     "execution_count": 15,
     "metadata": {},
     "output_type": "execute_result"
    }
   ],
   "source": [
    "# SGD: LINEAR REGRESSION\n",
    "\n",
    "print \"Here we do stochastic gradient descent. By default the batch size is 1. That is, we\"\n",
    "print \"calculate the gradient from an individual data point. We plot the path that the\"\n",
    "print \"parameters take. \\n\"\n",
    "\n",
    "    # The next line runs the stochastic gradient descent algorith.\n",
    "sgd_param_history, sgd_time_history = stochastic_gradient_descent(X, y, \n",
    "                                                            ols_cost_function, \n",
    "                                                            ols_gradient_of_cost_function,\n",
    "                                                            initial_guess=np.array([0., 0.]),\n",
    "                                                            learning_rate=.1)\n",
    "\n",
    "    # The next lines plot the results of stochastic gradient descent. \n",
    "figure_3d = plot_sgd_results(X, y, ols_cost_function, sgd_param_history)\n",
    "tls.embed(py.plot(figure_3d))\n"
   ]
  },
  {
   "cell_type": "markdown",
   "metadata": {},
   "source": [
    "Next we do mini-batch stochastic gradient descent for the average sum of squares cost function. Notice that the approach is much smoother. "
   ]
  },
  {
   "cell_type": "code",
   "execution_count": 16,
   "metadata": {
    "collapsed": false
   },
   "outputs": [
    {
     "name": "stdout",
     "output_type": "stream",
     "text": [
      "max iterations reached\n",
      "Final gradient of cost function [-0.07039159  0.12712869]\n",
      "Final params [ 42.65627649  61.24856424]\n"
     ]
    },
    {
     "data": {
      "text/html": [
       "<iframe id=\"igraph\" scrolling=\"no\" style=\"border:none;\" seamless=\"seamless\" src=\"https://plot.ly/~schwarls37/140.embed\" height=\"525\" width=\"100%\"></iframe>"
      ],
      "text/plain": [
       "<plotly.tools.PlotlyDisplay object>"
      ]
     },
     "execution_count": 16,
     "metadata": {},
     "output_type": "execute_result"
    }
   ],
   "source": [
    "# MINIBATCH SGD: LINEAR REGRESSION WITHOUT REGULARIZATION\n",
    "minibatch_param_history, minibatch_time_history = stochastic_gradient_descent(X, y, ols_cost_function, \n",
    "                                                ols_gradient_of_cost_function,\n",
    "                                                initial_guess=np.array([0., 0.]),\n",
    "                                                learning_rate=.1, batch_size=5)\n",
    "figure_3d = plot_sgd_results(X, y, ols_cost_function, minibatch_param_history)\n",
    "tls.embed(py.plot(figure_3d))"
   ]
  },
  {
   "cell_type": "code",
   "execution_count": null,
   "metadata": {
    "collapsed": false
   },
   "outputs": [],
   "source": []
  },
  {
   "cell_type": "code",
   "execution_count": 17,
   "metadata": {
    "collapsed": false
   },
   "outputs": [
    {
     "name": "stdout",
     "output_type": "stream",
     "text": [
      "We are plotting step vs log(Cost)\n"
     ]
    },
    {
     "data": {
      "text/html": [
       "<iframe id=\"igraph\" scrolling=\"no\" style=\"border:none;\" seamless=\"seamless\" src=\"https://plot.ly/~schwarls37/142.embed\" height=\"525\" width=\"100%\"></iframe>"
      ],
      "text/plain": [
       "<plotly.tools.PlotlyDisplay object>"
      ]
     },
     "execution_count": 17,
     "metadata": {},
     "output_type": "execute_result"
    }
   ],
   "source": [
    "# PLOT GD, SGD, and minibatch SGD convergence on log scale\n",
    "gd_convergence = Scatter(\n",
    "    x = [i for i,j in enumerate(gd_param_history)],\n",
    "    y = [ols_cost_function(X, y, (p[0], p[1])) for p in gd_param_history],\n",
    "    mode = 'lines',\n",
    "    name = 'Batch Gradient Descent'\n",
    ")\n",
    "\n",
    "sgd_convergence = Scatter(\n",
    "    x = [i for i,j in enumerate(sgd_param_history)],\n",
    "    y = [ols_cost_function(X, y, (p[0], p[1])) for p in sgd_param_history],\n",
    "    mode = 'lines',\n",
    "    name = 'SGD'\n",
    ")\n",
    "\n",
    "minibatch_convergence = Scatter(\n",
    "    x = [i for i,j in enumerate(minibatch_param_history)],\n",
    "    y = [ols_cost_function(X, y, (p[0], p[1])) for p in minibatch_param_history],\n",
    "    mode = 'lines',\n",
    "    name = 'Mini-batch SGD'\n",
    ")\n",
    "\n",
    "layout = Layout(\n",
    "    xaxis=XAxis(\n",
    "        range=[0,150]\n",
    "    ),\n",
    "    yaxis=YAxis(\n",
    "        type='log',\n",
    "        autorange=True,\n",
    "    )\n",
    ")\n",
    "\n",
    "print \"We are plotting step vs log(Cost)\"\n",
    "\n",
    "data = Data([gd_convergence, sgd_convergence, minibatch_convergence])\n",
    "figure = Figure(data=data, layout=layout)\n",
    "tls.embed(py.plot(figure))"
   ]
  },
  {
   "cell_type": "code",
   "execution_count": 18,
   "metadata": {
    "collapsed": false
   },
   "outputs": [
    {
     "name": "stdout",
     "output_type": "stream",
     "text": [
      "We are plotting step vs log(Cost)\n"
     ]
    },
    {
     "data": {
      "text/html": [
       "<iframe id=\"igraph\" scrolling=\"no\" style=\"border:none;\" seamless=\"seamless\" src=\"https://plot.ly/~schwarls37/144.embed\" height=\"525\" width=\"100%\"></iframe>"
      ],
      "text/plain": [
       "<plotly.tools.PlotlyDisplay object>"
      ]
     },
     "execution_count": 18,
     "metadata": {},
     "output_type": "execute_result"
    }
   ],
   "source": [
    "# PLOT GD, SGD, and minibatch SGD convergence on log scale now with the cpu times. \n",
    "\n",
    "    # start each computation at zero. This may not be valid as the initial time was computed\n",
    "    # for each one. So subtracting the first entry from everything may not be valid. \n",
    "#gd_time_history = np.array(gd_time_history)-gd_time_history[0]\n",
    "#sgd_time_history = np.array(sgd_time_history)-sgd_time_history[0]\n",
    "#minibatch_time_history = np.array(minibatch_time_history) - minibatch_time_history[0]\n",
    "\n",
    "gd_convergence = Scatter(\n",
    "    x = gd_time_history,\n",
    "    y = [ols_cost_function(X, y, (p[0], p[1])) for p in gd_param_history],\n",
    "    mode = 'lines',\n",
    "    name = 'Batch Gradient Descent'\n",
    ")\n",
    "\n",
    "sgd_convergence = Scatter(\n",
    "    x = sgd_time_history,\n",
    "    y = [ols_cost_function(X, y, (p[0], p[1])) for p in sgd_param_history],\n",
    "    mode = 'lines',\n",
    "    name = 'SGD'\n",
    ")\n",
    "\n",
    "minibatch_convergence = Scatter(\n",
    "    x = minibatch_time_history,\n",
    "    y = [ols_cost_function(X, y, (p[0], p[1])) for p in minibatch_param_history],\n",
    "    mode = 'lines',\n",
    "    name = 'Mini-batch SGD'\n",
    ")\n",
    "\n",
    "layout = Layout(\n",
    "    xaxis=XAxis(\n",
    "        range=[0,.01]\n",
    "    ),\n",
    "    yaxis=YAxis(\n",
    "        type='log',\n",
    "        autorange=True,\n",
    "    )\n",
    ")\n",
    "\n",
    "print \"We are plotting step vs log(Cost)\"\n",
    "\n",
    "data = Data([gd_convergence, sgd_convergence, minibatch_convergence])\n",
    "figure = Figure(data=data, layout=layout)\n",
    "tls.embed(py.plot(figure))\n"
   ]
  },
  {
   "cell_type": "code",
   "execution_count": 19,
   "metadata": {
    "collapsed": false
   },
   "outputs": [
    {
     "data": {
      "text/plain": [
       "(0.0017781257629394531, 0.007359027862548828, 0.00032901763916015625)"
      ]
     },
     "execution_count": 19,
     "metadata": {},
     "output_type": "execute_result"
    }
   ],
   "source": [
    "gd_time_history[0],sgd_time_history[0],minibatch_time_history[0]"
   ]
  },
  {
   "cell_type": "code",
   "execution_count": null,
   "metadata": {
    "collapsed": false
   },
   "outputs": [],
   "source": []
  },
  {
   "cell_type": "code",
   "execution_count": null,
   "metadata": {
    "collapsed": false
   },
   "outputs": [],
   "source": []
  },
  {
   "cell_type": "code",
   "execution_count": null,
   "metadata": {
    "collapsed": false
   },
   "outputs": [],
   "source": []
  },
  {
   "cell_type": "code",
   "execution_count": null,
   "metadata": {
    "collapsed": false
   },
   "outputs": [],
   "source": []
  },
  {
   "cell_type": "code",
   "execution_count": null,
   "metadata": {
    "collapsed": false
   },
   "outputs": [],
   "source": []
  },
  {
   "cell_type": "code",
   "execution_count": null,
   "metadata": {
    "collapsed": false
   },
   "outputs": [],
   "source": []
  },
  {
   "cell_type": "code",
   "execution_count": null,
   "metadata": {
    "collapsed": true
   },
   "outputs": [],
   "source": []
  }
 ],
 "metadata": {
  "anaconda-cloud": {},
  "kernelspec": {
   "display_name": "Python [Root]",
   "language": "python",
   "name": "Python [Root]"
  },
  "language_info": {
   "codemirror_mode": {
    "name": "ipython",
    "version": 2
   },
   "file_extension": ".py",
   "mimetype": "text/x-python",
   "name": "python",
   "nbconvert_exporter": "python",
   "pygments_lexer": "ipython2",
   "version": "2.7.12"
  }
 },
 "nbformat": 4,
 "nbformat_minor": 0
}
