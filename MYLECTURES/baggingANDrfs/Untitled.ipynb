{
 "cells": [
  {
   "cell_type": "code",
   "execution_count": 7,
   "metadata": {
    "collapsed": true
   },
   "outputs": [],
   "source": [
    "from bokeh.io import curdoc, push_notebook, show, output_notebook\n",
    "from bokeh.layouts import column, row\n",
    "from bokeh.plotting import ColumnDataSource, Figure\n",
    "from bokeh.models.widgets import Select, TextInput, Slider\n",
    "import numpy as np\n",
    "from numpy import random\n",
    "from sklearn.linear_model import LinearRegression\n",
    "from sklearn.preprocessing import PolynomialFeatures\n",
    "from sklearn.pipeline import Pipeline\n",
    "\n",
    "#bokeh serve --show bagging.py"
   ]
  },
  {
   "cell_type": "code",
   "execution_count": 8,
   "metadata": {
    "collapsed": false
   },
   "outputs": [
    {
     "data": {
      "text/html": [
       "\n",
       "    <div class=\"bk-root\">\n",
       "        <a href=\"http://bokeh.pydata.org\" target=\"_blank\" class=\"bk-logo bk-logo-small bk-logo-notebook\"></a>\n",
       "        <span id=\"395ca4d0-78ff-4b33-becf-fd54ae672f3e\">Loading BokehJS ...</span>\n",
       "    </div>"
      ]
     },
     "metadata": {},
     "output_type": "display_data"
    },
    {
     "data": {
      "application/javascript": [
       "\n",
       "(function(global) {\n",
       "  function now() {\n",
       "    return new Date();\n",
       "  }\n",
       "\n",
       "  if (typeof (window._bokeh_onload_callbacks) === \"undefined\") {\n",
       "    window._bokeh_onload_callbacks = [];\n",
       "  }\n",
       "\n",
       "  function run_callbacks() {\n",
       "    window._bokeh_onload_callbacks.forEach(function(callback) { callback() });\n",
       "    delete window._bokeh_onload_callbacks\n",
       "    console.info(\"Bokeh: all callbacks have finished\");\n",
       "  }\n",
       "\n",
       "  function load_libs(js_urls, callback) {\n",
       "    window._bokeh_onload_callbacks.push(callback);\n",
       "    if (window._bokeh_is_loading > 0) {\n",
       "      console.log(\"Bokeh: BokehJS is being loaded, scheduling callback at\", now());\n",
       "      return null;\n",
       "    }\n",
       "    if (js_urls == null || js_urls.length === 0) {\n",
       "      run_callbacks();\n",
       "      return null;\n",
       "    }\n",
       "    console.log(\"Bokeh: BokehJS not loaded, scheduling load and callback at\", now());\n",
       "    window._bokeh_is_loading = js_urls.length;\n",
       "    for (var i = 0; i < js_urls.length; i++) {\n",
       "      var url = js_urls[i];\n",
       "      var s = document.createElement('script');\n",
       "      s.src = url;\n",
       "      s.async = false;\n",
       "      s.onreadystatechange = s.onload = function() {\n",
       "        window._bokeh_is_loading--;\n",
       "        if (window._bokeh_is_loading === 0) {\n",
       "          console.log(\"Bokeh: all BokehJS libraries loaded\");\n",
       "          run_callbacks()\n",
       "        }\n",
       "      };\n",
       "      s.onerror = function() {\n",
       "        console.warn(\"failed to load library \" + url);\n",
       "      };\n",
       "      console.log(\"Bokeh: injecting script tag for BokehJS library: \", url);\n",
       "      document.getElementsByTagName(\"head\")[0].appendChild(s);\n",
       "    }\n",
       "  };\n",
       "\n",
       "  var js_urls = ['https://cdn.pydata.org/bokeh/release/bokeh-0.12.0.min.js', 'https://cdn.pydata.org/bokeh/release/bokeh-widgets-0.12.0.min.js', 'https://cdn.pydata.org/bokeh/release/bokeh-compiler-0.12.0.min.js'];\n",
       "\n",
       "  var inline_js = [\n",
       "    function(Bokeh) {\n",
       "      Bokeh.set_log_level(\"info\");\n",
       "    },\n",
       "    \n",
       "    function(Bokeh) {\n",
       "      Bokeh.$(\"#395ca4d0-78ff-4b33-becf-fd54ae672f3e\").text(\"BokehJS successfully loaded\");\n",
       "    },\n",
       "    function(Bokeh) {\n",
       "      console.log(\"Bokeh: injecting CSS: https://cdn.pydata.org/bokeh/release/bokeh-0.12.0.min.css\");\n",
       "      Bokeh.embed.inject_css(\"https://cdn.pydata.org/bokeh/release/bokeh-0.12.0.min.css\");\n",
       "      console.log(\"Bokeh: injecting CSS: https://cdn.pydata.org/bokeh/release/bokeh-widgets-0.12.0.min.css\");\n",
       "      Bokeh.embed.inject_css(\"https://cdn.pydata.org/bokeh/release/bokeh-widgets-0.12.0.min.css\");\n",
       "    }\n",
       "  ];\n",
       "\n",
       "  function run_inline_js() {\n",
       "    for (var i = 0; i < inline_js.length; i++) {\n",
       "      inline_js[i](window.Bokeh);\n",
       "    }\n",
       "  }\n",
       "\n",
       "  if (window._bokeh_is_loading === 0) {\n",
       "    console.log(\"Bokeh: BokehJS loaded, going straight to plotting\");\n",
       "    run_inline_js();\n",
       "  } else {\n",
       "    load_libs(js_urls, function() {\n",
       "      console.log(\"Bokeh: BokehJS plotting callback run at\", now());\n",
       "      run_inline_js();\n",
       "    });\n",
       "  }\n",
       "}(this));"
      ]
     },
     "metadata": {},
     "output_type": "display_data"
    }
   ],
   "source": [
    "from ipywidgets import interact\n",
    "\n",
    "output_notebook()"
   ]
  },
  {
   "cell_type": "code",
   "execution_count": 9,
   "metadata": {
    "collapsed": true
   },
   "outputs": [],
   "source": [
    "def get_y(X, power, coeff):\n",
    "    return reduce(lambda x, y: x+y, [coeff[i]*X**i for i in range(power)])\n",
    "\n",
    "def func(x):\n",
    "    return x+5*np.sin(x)"
   ]
  },
  {
   "cell_type": "code",
   "execution_count": 10,
   "metadata": {
    "collapsed": true
   },
   "outputs": [],
   "source": [
    "x_points = 200\n",
    "x = np.linspace(0,20,x_points)\n",
    "err = np.random.normal(size=x_points)\n",
    "\n",
    "p = Figure(title=\"bagging demo\", plot_height=400, plot_width=800, y_range=(-5,30))\n",
    "\n",
    "slider_degrees = Slider(start=1, end=10, step=1, value=5, title=\"Degrees\")\n",
    "slider_lines = Slider(start=1, end=50, step=1, value=10, title=\"Lines\")\n",
    "slider_points = Slider(start=1, end=100, step=1, value=20, title=\"Points\")\n",
    "\n",
    "# The datapoints\n",
    "source_points = ColumnDataSource(data=dict(x=x, y=func(x)+err))\n",
    "p.scatter(x='x', y='y', source=source_points, color=\"#2222aa\", line_width=3)\n",
    "\n",
    "# The function where the datapoints come from\n",
    "source_function = ColumnDataSource(data=dict(x=x, y=func(x)))\n",
    "p.line(x='x', y='y', source=source_function, color=\"#2222aa\", line_width=1)\n",
    "\n",
    "# The bootstrap lines\n",
    "source_lines = ColumnDataSource(data=dict(xs=[ [], [] ], ys=[ [], [] ]))\n",
    "p.multi_line(xs='xs', ys='ys', source=source_lines, color=\"#ff9696\", line_width=0)\n",
    "\n",
    "# The average\n",
    "source_avg = ColumnDataSource(data=dict(x=[], y=[]))\n",
    "p.line(x='x', y='y', source=source_avg, color=\"#f44242\", line_width=2)\n",
    "\n",
    "\n",
    "\n",
    "def update(attrname, old, new):\n",
    "    D=slider_degrees.value\n",
    "    L=slider_lines.value\n",
    "    N=slider_points.value\n",
    "\n",
    "    list_xy=[]\n",
    "    for i in range(L):\n",
    "        filt = np.random.randint(0, len(x), N)\n",
    "        list_xy.append((x[filt], (func(x)+err)[filt]))\n",
    "\n",
    "    model = Pipeline([('poly', PolynomialFeatures(degree=D)), ('linear', LinearRegression(fit_intercept=False))])\n",
    "\n",
    "    coeff_list=[]\n",
    "    for xy in list_xy:\n",
    "        model = model.fit(xy[0][:, np.newaxis], xy[1])\n",
    "        coeff_list.append(model.named_steps['linear'].coef_)\n",
    "\n",
    "    source_points.data = dict(x=x[filt], y=(func(x) + err)[filt])\n",
    "\n",
    "    vtot=np.zeros(len(x))\n",
    "    xs=[]\n",
    "    ys=[]\n",
    "    for i in range(L):\n",
    "        v=np.array(get_y(x, len(coeff_list[i]),coeff_list[i]))\n",
    "        vtot+=v\n",
    "        xs.append(x)\n",
    "        ys.append(v)\n",
    "\n",
    "    source_lines.data = dict(xs=xs, ys=ys)\n",
    "    source_avg.data = dict(x=x, y=vtot/float(len(coeff_list)))    \n",
    "\n",
    "\n",
    "\n",
    "for w in [slider_degrees, slider_lines, slider_points]:\n",
    "    w.on_change('value', update)\n",
    "\n",
    "layout = column(p, slider_degrees, slider_lines, slider_points)\n",
    "curdoc().add_root(layout)"
   ]
  },
  {
   "cell_type": "code",
   "execution_count": 12,
   "metadata": {
    "collapsed": false
   },
   "outputs": [
    {
     "ename": "TypeError",
     "evalue": "show() got an unexpected keyword argument 'notebook_handle'",
     "output_type": "error",
     "traceback": [
      "\u001b[0;31m------------------------------------------------------------------------\u001b[0m",
      "\u001b[0;31mTypeError\u001b[0m                              Traceback (most recent call last)",
      "\u001b[0;32m<ipython-input-12-f4eb9680a0a2>\u001b[0m in \u001b[0;36m<module>\u001b[0;34m()\u001b[0m\n\u001b[1;32m      1\u001b[0m \u001b[0;31m#push_notebook()\u001b[0m\u001b[0;34m\u001b[0m\u001b[0;34m\u001b[0m\u001b[0m\n\u001b[0;32m----> 2\u001b[0;31m \u001b[0mshow\u001b[0m\u001b[0;34m(\u001b[0m\u001b[0mp\u001b[0m\u001b[0;34m,\u001b[0m \u001b[0mnotebook_handle\u001b[0m\u001b[0;34m=\u001b[0m\u001b[0mTrue\u001b[0m\u001b[0;34m)\u001b[0m\u001b[0;34m\u001b[0m\u001b[0m\n\u001b[0m",
      "\u001b[0;31mTypeError\u001b[0m: show() got an unexpected keyword argument 'notebook_handle'"
     ]
    }
   ],
   "source": [
    "#push_notebook()\n",
    "show(p, notebook_handle=True)"
   ]
  }
 ],
 "metadata": {
  "anaconda-cloud": {},
  "kernelspec": {
   "display_name": "Python [Root]",
   "language": "python",
   "name": "Python [Root]"
  },
  "language_info": {
   "codemirror_mode": {
    "name": "ipython",
    "version": 2
   },
   "file_extension": ".py",
   "mimetype": "text/x-python",
   "name": "python",
   "nbconvert_exporter": "python",
   "pygments_lexer": "ipython2",
   "version": "2.7.12"
  }
 },
 "nbformat": 4,
 "nbformat_minor": 0
}
