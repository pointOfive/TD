{
 "cells": [
  {
   "cell_type": "code",
   "execution_count": 1,
   "metadata": {},
   "outputs": [
    {
     "data": {
      "image/jpeg": "[encoded data removed]",
      "text/html": [
       "\n",
       "        <iframe\n",
       "            width=\"400\"\n",
       "            height=\"300\"\n",
       "            src=\"https://www.youtube.com/embed/hlmsjstN6Aw\"\n",
       "            frameborder=\"0\"\n",
       "            allowfullscreen\n",
       "        ></iframe>\n",
       "        "
      ],
      "text/plain": [
       "<IPython.lib.display.YouTubeVideo at 0x103e43e50>"
      ]
     },
     "execution_count": 1,
     "metadata": {},
     "output_type": "execute_result"
    }
   ],
   "source": [
    "from IPython.display import YouTubeVideo\n",
    "YouTubeVideo(\"hlmsjstN6Aw\")"
   ]
  },
  {
   "cell_type": "markdown",
   "metadata": {
    "slideshow": {
     "slide_type": "subslide"
    }
   },
   "source": [
    "# We're not saying \"no\" to Pandas, but first...\n",
    "* Connect to a Postgres server \n",
    "    * in python \n",
    "        * using psycopg2\n",
    "* Understand psycopg2's \"cursors\"\n",
    "    * executes\n",
    "    * commits\n",
    "* Generate dynamic queries\n",
    "\n",
    "# psycopg2 is a python/postgreSQL server interface"
   ]
  },
  {
   "cell_type": "code",
   "execution_count": 2,
   "metadata": {},
   "outputs": [],
   "source": [
    "# install homebrew: http://brew.sh\n",
    "\n",
    "# brew cask install postgres -> double click -> applications\n",
    "### not needed ### brew cask install pgadmin4 -> double click -> applications, click plug\n",
    "# brew tap homebrew/services\n",
    "# brew services start postgresql\n",
    "\n",
    "# https://github.com/zipfian/welcome/blob/master/notes/postgres_setup.md\n",
    "\n",
    "# pip install psycopg2\n",
    "# conda install psycopg2\n",
    "import psycopg2"
   ]
  },
  {
   "cell_type": "code",
   "execution_count": null,
   "metadata": {
    "collapsed": true
   },
   "outputs": [],
   "source": [
    "# https://github.com/zipfian/precourse/tree/master/Chapter_3_SQL/data\n",
    "# psql -f stuff/beds.sql"
   ]
  },
  {
   "cell_type": "markdown",
   "metadata": {},
   "source": [
    "# Step 1: open a connection"
   ]
  },
  {
   "cell_type": "code",
   "execution_count": 3,
   "metadata": {},
   "outputs": [],
   "source": [
    "# ALTER USER schwarls37 ENCRYPTED PASSWORD 'need a password';\n",
    "\n",
    "conn = psycopg2.connect(dbname='schwarls37',port=5432,password=\"\",\n",
    "                        user='schwarls37',host='localhost')\n",
    "\n",
    "# host could be a remote database as well"
   ]
  },
  {
   "cell_type": "markdown",
   "metadata": {
    "slideshow": {
     "slide_type": "subslide"
    }
   },
   "source": [
    "<table align=\"center\">\n",
    "<tr>\n",
    "<td><img src=\"stuff/whywouldyoudothat1.jpg\" width=\"300px\" align=\"center\"></td> \n",
    "<td><img src=\"stuff/whywouldyoudothat2.jpg\" width=\"415px\" align=\"center\"></td> \n",
    "</tr>\n",
    "</table>\n",
    "<table align=\"center\">\n",
    "<tr>\n",
    "<td><img src=\"stuff/whywouldyoudothat3.jpg\" width=\"400px\" align=\"center\"></td> \n",
    "<td><img src=\"stuff/whywouldyoudothat4.jpg\" width=\"305px\" align=\"center\"></td> \n",
    "</tr>\n",
    "</table>"
   ]
  },
  {
   "cell_type": "markdown",
   "metadata": {
    "slideshow": {
     "slide_type": "subslide"
    }
   },
   "source": [
    "## Allows us to combine data sources in one place\n",
    "* Can use python to simultaneously pull data from other databases as well \n",
    "    * mysql-connector-python (MySql)\n",
    "    * sqlite (SQLite)\n",
    "    * pymongo (MongoDB)\n",
    "    * sqlalchemy (all the things)\n",
    "    * [psychopg2 (postgreSQL), obviously]\n",
    "\n",
    "## Allows us to bring other python tools to bear\n",
    "* DataFrames and associated functionality, Machine Learning tools, etc.\n",
    "\n",
    "## Allows for easy dynamic query generation\n",
    "* And hence, automation"
   ]
  },
  {
   "cell_type": "markdown",
   "metadata": {},
   "source": [
    "# Step 2: create a cursor object"
   ]
  },
  {
   "cell_type": "code",
   "execution_count": 4,
   "metadata": {
    "collapsed": true
   },
   "outputs": [],
   "source": [
    "cur = conn.cursor()\n",
    "#cur.close()\n",
    "\n",
    "# The cursor interfaces and traverses the database \n",
    "# We don't have to worry about how it does it\n",
    "# Queries are returned as (single iteration) generators "
   ]
  },
  {
   "cell_type": "markdown",
   "metadata": {},
   "source": [
    "# Step 3: execute some SQL queries"
   ]
  },
  {
   "cell_type": "code",
   "execution_count": 32,
   "metadata": {},
   "outputs": [],
   "source": [
    "query = '''SELECT \"facility_name\", \"available_residential_beds\" \n",
    "           FROM Beds \n",
    "           WHERE \"city\" = 'Cuba' \n",
    "           LIMIT 10;'''\n",
    "\n",
    "cur.execute(query)"
   ]
  },
  {
   "cell_type": "code",
   "execution_count": 31,
   "metadata": {},
   "outputs": [
    {
     "name": "stdout",
     "output_type": "stream",
     "text": [
      "InternalError: current transaction is aborted, commands ignored until end of transaction block\n"
     ]
    }
   ],
   "source": [
    "# If you see this error \n",
    "\n",
    "print \"InternalError: current transaction is aborted, commands ignored until end of transaction block\"\n",
    "\n",
    "# Then the cursor is chocking on a current command \n",
    "# and it needs to be aborted with: conn.rollback()"
   ]
  },
  {
   "cell_type": "code",
   "execution_count": 33,
   "metadata": {},
   "outputs": [
    {
     "name": "stdout",
     "output_type": "stream",
     "text": [
      "('Cuba Memorial Hospital Inc SNF', '4')\n",
      "('Cuba Memorial Hospital Inc SNF', '3')\n",
      "('Cuba Memorial Hospital Inc SNF', '4')\n",
      "('Cuba Memorial Hospital Inc SNF', '3')\n",
      "('Cuba Memorial Hospital Inc SNF', '5')\n",
      "('Cuba Memorial Hospital Inc SNF', '4')\n",
      "('Cuba Memorial Hospital Inc SNF', '6')\n",
      "('Cuba Memorial Hospital Inc SNF', '5')\n",
      "('Cuba Memorial Hospital Inc SNF', '5')\n",
      "('Cuba Memorial Hospital Inc SNF', '5')\n"
     ]
    }
   ],
   "source": [
    "for row in cur:\n",
    "    print row"
   ]
  },
  {
   "cell_type": "code",
   "execution_count": 34,
   "metadata": {},
   "outputs": [],
   "source": [
    "for row in cur:\n",
    "    print row\n",
    "    \n",
    "# See, I told you: cur saves results as a (one pass) generator    "
   ]
  },
  {
   "cell_type": "code",
   "execution_count": null,
   "metadata": {
    "collapsed": true
   },
   "outputs": [],
   "source": [
    "# Other options for iterating through the generator\n",
    "\n",
    "# cur.fetchone(), or cur.next()\n",
    "# cur.fetchmany(n)\n",
    "# cur.fetchall()"
   ]
  },
  {
   "cell_type": "code",
   "execution_count": 35,
   "metadata": {},
   "outputs": [],
   "source": [
    "query = '''ALTER TABLE Beds \n",
    "           RENAME COLUMN \"available_residential_beds\" \n",
    "           TO \"Available Residential Beds\"'''\n",
    "\n",
    "cur.execute(query)"
   ]
  },
  {
   "cell_type": "markdown",
   "metadata": {},
   "source": [
    "# Step 4: commit SQL actions \n",
    "### (to actually make the changes to the DB permanent)"
   ]
  },
  {
   "cell_type": "code",
   "execution_count": 36,
   "metadata": {
    "collapsed": true
   },
   "outputs": [],
   "source": [
    "conn.commit()\n",
    "# conn.autocommit = True\n",
    "\n",
    "# database level operations are also available"
   ]
  },
  {
   "cell_type": "code",
   "execution_count": 37,
   "metadata": {},
   "outputs": [],
   "source": [
    "query = '''ALTER TABLE Beds \n",
    "           RENAME COLUMN \"Available Residential Beds\" \n",
    "           TO \"available_residential_beds\"'''\n",
    "cur.execute(query)\n",
    "conn.commit()"
   ]
  },
  {
   "cell_type": "markdown",
   "metadata": {
    "slideshow": {
     "slide_type": "subslide"
    }
   },
   "source": [
    "# $$\\textbf{Sanitize your queries}$$\n",
    "\n",
    "<table align=\"center\">\n",
    "<tr><td>\n",
    "<img src=\"stuff/exploits_of_a_mom.png\" width=\"600px\" align=\"center\"> \n",
    "</tr></td>\n",
    "</table>"
   ]
  },
  {
   "cell_type": "code",
   "execution_count": null,
   "metadata": {
    "collapsed": true
   },
   "outputs": [],
   "source": [
    "my_name = \"Scott\"\n",
    "unsafe_query = '''SELECT * FROM Users \n",
    "                  WHERE Name = ''' + my_name\n",
    "\n",
    "# what if...\n",
    "my_name = \"Scott; DROP TABLE Users\"\n",
    "\n",
    "# This is called SQL Injection and it's obviously risky"
   ]
  },
  {
   "cell_type": "code",
   "execution_count": null,
   "metadata": {
    "collapsed": true
   },
   "outputs": [],
   "source": [
    "# Instead \n",
    "my_name = \"Scott; DROP TABLE Users\"\n",
    "\n",
    "cur.execute('''SELECT * FROM Users WHERE Name = %s''', my_name)\n",
    "\n",
    "# will search for rows in Name *exactly* equal to 'Scott; DROP TABLE Users'"
   ]
  },
  {
   "cell_type": "markdown",
   "metadata": {},
   "source": [
    "# Step 5: close the connection"
   ]
  },
  {
   "cell_type": "code",
   "execution_count": 38,
   "metadata": {
    "collapsed": true
   },
   "outputs": [],
   "source": [
    "cur.close() # optional, automatically close with conn.close()\n",
    "conn.close()"
   ]
  },
  {
   "cell_type": "code",
   "execution_count": 39,
   "metadata": {},
   "outputs": [
    {
     "data": {
      "text/html": [
       "<div>\n",
       "<table border=\"1\" class=\"dataframe\">\n",
       "  <thead>\n",
       "    <tr style=\"text-align: right;\">\n",
       "      <th></th>\n",
       "      <th>facility_name</th>\n",
       "      <th>available_residential_beds</th>\n",
       "    </tr>\n",
       "  </thead>\n",
       "  <tbody>\n",
       "    <tr>\n",
       "      <th>0</th>\n",
       "      <td>Cuba Memorial Hospital Inc SNF</td>\n",
       "      <td>4</td>\n",
       "    </tr>\n",
       "    <tr>\n",
       "      <th>1</th>\n",
       "      <td>Cuba Memorial Hospital Inc SNF</td>\n",
       "      <td>3</td>\n",
       "    </tr>\n",
       "    <tr>\n",
       "      <th>2</th>\n",
       "      <td>Cuba Memorial Hospital Inc SNF</td>\n",
       "      <td>4</td>\n",
       "    </tr>\n",
       "    <tr>\n",
       "      <th>3</th>\n",
       "      <td>Cuba Memorial Hospital Inc SNF</td>\n",
       "      <td>3</td>\n",
       "    </tr>\n",
       "    <tr>\n",
       "      <th>4</th>\n",
       "      <td>Cuba Memorial Hospital Inc SNF</td>\n",
       "      <td>5</td>\n",
       "    </tr>\n",
       "    <tr>\n",
       "      <th>5</th>\n",
       "      <td>Cuba Memorial Hospital Inc SNF</td>\n",
       "      <td>4</td>\n",
       "    </tr>\n",
       "    <tr>\n",
       "      <th>6</th>\n",
       "      <td>Cuba Memorial Hospital Inc SNF</td>\n",
       "      <td>6</td>\n",
       "    </tr>\n",
       "    <tr>\n",
       "      <th>7</th>\n",
       "      <td>Cuba Memorial Hospital Inc SNF</td>\n",
       "      <td>5</td>\n",
       "    </tr>\n",
       "    <tr>\n",
       "      <th>8</th>\n",
       "      <td>Cuba Memorial Hospital Inc SNF</td>\n",
       "      <td>5</td>\n",
       "    </tr>\n",
       "    <tr>\n",
       "      <th>9</th>\n",
       "      <td>Cuba Memorial Hospital Inc SNF</td>\n",
       "      <td>5</td>\n",
       "    </tr>\n",
       "  </tbody>\n",
       "</table>\n",
       "</div>"
      ],
      "text/plain": [
       "                    facility_name available_residential_beds\n",
       "0  Cuba Memorial Hospital Inc SNF                          4\n",
       "1  Cuba Memorial Hospital Inc SNF                          3\n",
       "2  Cuba Memorial Hospital Inc SNF                          4\n",
       "3  Cuba Memorial Hospital Inc SNF                          3\n",
       "4  Cuba Memorial Hospital Inc SNF                          5\n",
       "5  Cuba Memorial Hospital Inc SNF                          4\n",
       "6  Cuba Memorial Hospital Inc SNF                          6\n",
       "7  Cuba Memorial Hospital Inc SNF                          5\n",
       "8  Cuba Memorial Hospital Inc SNF                          5\n",
       "9  Cuba Memorial Hospital Inc SNF                          5"
      ]
     },
     "execution_count": 39,
     "metadata": {},
     "output_type": "execute_result"
    }
   ],
   "source": [
    "# Or... \n",
    "\n",
    "# just read directly into a pandas data frame... which we shall begin learning about: now.\n",
    "\n",
    "conn = psycopg2.connect(dbname='schwarls37',port=5432,password=\"\",\n",
    "                        user='schwarls37',host='localhost')\n",
    "\n",
    "\n",
    "import pandas as pd\n",
    "query = '''SELECT \"facility_name\", \"available_residential_beds\" \n",
    "           FROM Beds \n",
    "           WHERE \"city\" = 'Cuba' \n",
    "           LIMIT 10;'''\n",
    "rows = pd.read_sql_query(query, conn)\n",
    "conn.close()\n",
    "\n",
    "rows"
   ]
  },
  {
   "cell_type": "markdown",
   "metadata": {},
   "source": [
    "# $$\\textit{pandas}$$\n",
    "$$\\text{Schwartz}$$"
   ]
  },
  {
   "cell_type": "markdown",
   "metadata": {
    "slideshow": {
     "slide_type": "subslide"
    }
   },
   "source": [
    "## $$\\textbf{They're not on the endangered species list any more}$$\n",
    "# $$\\textbf{How China saved the Giant Panda}$$\n",
    "\n",
    "As of September 2016 the International Union for the Conservation of Nature (IUCN) has taken the global icon off the endangered species list. The giant panda is now listed as \"vulnerable\" as opposed to \"endangered\". Thanks to Chinese conservation efforts the Giant Panda population has increased to approximately 2,000 individuals up from a low of about 1,000 in the 1970's when the species was at the most risk.  This population increase has been the result of bamboo forest restoration projects and the incorporation of improved captive breeding and husbandry methods -- initiatives driven by a better understanding of Giant Panda physiology and behaviour. Challenges remain, however. Climate change is predicted to wipe out more than one-third of the panda's bamboo habitat in the next 80 years, and reintroduction of captive-bred pandas into the wild remains challenging. \n",
    "\n",
    "<table align=\"center\">\n",
    "<tr><td>\n",
    "<img src=\"stuff/pandas.png\" width=\"600px\" align=\"center\"> \n",
    "</tr></td>\n",
    "</table>"
   ]
  },
  {
   "cell_type": "code",
   "execution_count": 40,
   "metadata": {},
   "outputs": [
    {
     "data": {
      "image/jpeg": "[encoded data removed]",
      "text/html": [
       "\n",
       "        <iframe\n",
       "            width=\"400\"\n",
       "            height=\"300\"\n",
       "            src=\"https://www.youtube.com/embed/RDrfE9I8_hs\"\n",
       "            frameborder=\"0\"\n",
       "            allowfullscreen\n",
       "        ></iframe>\n",
       "        "
      ],
      "text/plain": [
       "<IPython.lib.display.YouTubeVideo at 0x106215ad0>"
      ]
     },
     "execution_count": 40,
     "metadata": {},
     "output_type": "execute_result"
    }
   ],
   "source": [
    "from IPython.display import YouTubeVideo\n",
    "YouTubeVideo(\"RDrfE9I8_hs\")"
   ]
  },
  {
   "cell_type": "markdown",
   "metadata": {
    "slideshow": {
     "slide_type": "subslide"
    }
   },
   "source": [
    "\n",
    "# QUIZ\n",
    "\n",
    "* 1:\n",
    "* 2:\n",
    "* 3:\n",
    "* 4:\n",
    "* 5:\n",
    "* Bonus #1:\n",
    "* Bonus #2:"
   ]
  },
  {
   "cell_type": "markdown",
   "metadata": {
    "slideshow": {
     "slide_type": "subslide"
    }
   },
   "source": [
    "\n",
    "# Pandas are cute cuddly animals\n",
    "* They are also the Flying Circus' answer to Excel and R Data Frames\n",
    "* They are built on top of NumPy NdArrays\n",
    "* http://pandas.pydata.org/pandas-docs/stable/comparison_with_sql.html\n",
    "\n",
    "# Objectives\n",
    "* psycopg2\n",
    "    * obviously the quizze stuff above\n",
    "* numpy\n",
    "    * Speed\n",
    "    * Broadcasting\n",
    "* Pandas Series\n",
    "    * Pandas Time Series Type\n",
    "* Pandas DataFrames\n",
    "    * Creating and destroying columns\n",
    "    * Merging/Joining DataFrames\n",
    "    * Concatenating/Appening DataFrames\n",
    "    * Sorting\n",
    "    * Accessing data\n",
    "    * Manipulating the DataFrame Index    \n",
    "* Exploratory Data Analysis (EDA) with Matplotlib and Pandas \n",
    "    * Grouping/Aggregation\n",
    "    * Creating pivot tables\n",
    "    * Applying functions/plotting"
   ]
  },
  {
   "cell_type": "markdown",
   "metadata": {
    "slideshow": {
     "slide_type": "subslide"
    }
   },
   "source": [
    "# Pandas is very functional\n",
    "\n",
    "<table align=\"center\">\n",
    "<tr>\n",
    "<td><img src=\"stuff/panda7.jpg\" width=\"300px\" align=\"center\"></td> \n",
    "<td><img src=\"stuff/panda2.jpg\" width=\"180px\" align=\"center\"></td> \n",
    "<td><img src=\"stuff/panda6.jpg\" width=\"475px\" align=\"center\"></td> \n",
    "<tr><td>Killer Panda</td><td>Red Handed Panda</td><td>Sexy Panda</td></tr>\n",
    "\n",
    "\n",
    "</tr>\n",
    "</table>\n",
    "<table align=\"center\">\n",
    "<tr>\n",
    "\n",
    "<td><img src=\"stuff/panda4.jpg\" width=\"230px\" align=\"center\"></td> \n",
    "<td><img src=\"stuff/panda3.jpg\" width=\"300px\" align=\"center\"></td> \n",
    "<td><img src=\"stuff/panda1.jpg\" width=\"205x\" align=\"center\"></td> \n",
    "<td><img src=\"stuff/panda8.jpg\" width=\"210px\" align=\"center\"></td> \n",
    "<tr><td>Lone Ranger Panda</td><td>Assisted Pushup Panda</td><td>Acrobat Panda (Beginner)</td><td>Acrobat Panda (Advanced)</td></tr>\n",
    "</tr>\n",
    "</table>"
   ]
  },
  {
   "cell_type": "markdown",
   "metadata": {
    "slideshow": {
     "slide_type": "subslide"
    }
   },
   "source": [
    "# (Standard Library) Lists\n",
    "* concatenate"
   ]
  },
  {
   "cell_type": "code",
   "execution_count": 41,
   "metadata": {},
   "outputs": [
    {
     "data": {
      "text/plain": [
       "[1, 2, 3, 4, 5, 6]"
      ]
     },
     "execution_count": 41,
     "metadata": {},
     "output_type": "execute_result"
    }
   ],
   "source": [
    "[1,2,3] + [4,5,6]"
   ]
  },
  {
   "cell_type": "markdown",
   "metadata": {
    "slideshow": {
     "slide_type": "subslide"
    }
   },
   "source": [
    "# Numpy NdArrays\n",
    "* operate elementwise"
   ]
  },
  {
   "cell_type": "code",
   "execution_count": 42,
   "metadata": {},
   "outputs": [],
   "source": [
    "import numpy as np"
   ]
  },
  {
   "cell_type": "code",
   "execution_count": 43,
   "metadata": {},
   "outputs": [
    {
     "data": {
      "text/plain": [
       "array([ 11.,  14.,  17.])"
      ]
     },
     "execution_count": 43,
     "metadata": {},
     "output_type": "execute_result"
    }
   ],
   "source": [
    "np.array([1,2,3]) + np.arange(3) + np.linspace(10,12,3)"
   ]
  },
  {
   "cell_type": "markdown",
   "metadata": {
    "slideshow": {
     "slide_type": "subslide"
    }
   },
   "source": [
    "# Numpy NdArrays\n",
    "\n",
    "* have types"
   ]
  },
  {
   "cell_type": "code",
   "execution_count": 44,
   "metadata": {},
   "outputs": [
    {
     "name": "stdout",
     "output_type": "stream",
     "text": [
      "int64 |S1 |S3\n"
     ]
    }
   ],
   "source": [
    "ints = np.array(range(3))\n",
    "chars = np.array(list('ABC'))\n",
    "strings = np.array(['A','BC',\"DEF\"])\n",
    "\n",
    "print ints.dtype, chars.dtype, strings.dtype"
   ]
  },
  {
   "cell_type": "markdown",
   "metadata": {
    "slideshow": {
     "slide_type": "subslide"
    }
   },
   "source": [
    "# Speed\n",
    "\n",
    "https://ipython.org/ipython-doc/3/interactive/magics.html"
   ]
  },
  {
   "cell_type": "code",
   "execution_count": 45,
   "metadata": {},
   "outputs": [
    {
     "name": "stdout",
     "output_type": "stream",
     "text": [
      "python list\n",
      "100 loops, best of 1: 10.1 ms per loop\n",
      "0.0101156687737\n",
      "\n",
      "numpy array\n",
      "1000 loops, best of 1: 727 µs per loop\n",
      "0.000726588010788\n",
      "\n",
      "numpy array -- standard library sum\n",
      "10 loops, best of 1: 85.9 ms per loop\n",
      "0.0859349966049\n"
     ]
    }
   ],
   "source": [
    "numpy_array = np.arange(0, 1000000)\n",
    "python_list = range(1000000)\n",
    "\n",
    "print \"python list\"\n",
    "time = %timeit -r 1 -o sum(python_list)\n",
    "print time.all_runs[0]/time.loops \n",
    "\n",
    "print \"\\n\" + \"numpy array\"\n",
    "time = %timeit -r 1 -o np.sum(numpy_array)\n",
    "print time.all_runs[0]/time.loops\n",
    "\n",
    "print \"\\n\" + \"numpy array -- standard library sum\"\n",
    "time = %timeit -r 1 -o sum(numpy_array)\n",
    "print time.all_runs[0]/time.loops"
   ]
  },
  {
   "cell_type": "markdown",
   "metadata": {
    "slideshow": {
     "slide_type": "subslide"
    }
   },
   "source": [
    "# Broadcasting\n",
    "\n",
    "http://docs.scipy.org/doc/numpy-1.10.1/user/basics.broadcasting.html"
   ]
  },
  {
   "cell_type": "code",
   "execution_count": 47,
   "metadata": {},
   "outputs": [
    {
     "name": "stdout",
     "output_type": "stream",
     "text": [
      "(2, 1) (2, 2)\n",
      "\n",
      "\n",
      "[[ 11  12]\n",
      " [-11 -12]]\n"
     ]
    }
   ],
   "source": [
    "a = np.array([[10], [-10]]) \n",
    "b = np.array([[1, 2], [-1, -2]]) \n",
    "\n",
    "print a.shape, b.shape \n",
    "print \"\\n\"\n",
    "print a + b\n",
    "\n",
    "# elements will \"duplicate, expand, and fill up\" \n",
    "# to make the dimensions compatible for element-wise operations\n",
    "# cool."
   ]
  },
  {
   "cell_type": "code",
   "execution_count": 48,
   "metadata": {
    "scrolled": true
   },
   "outputs": [
    {
     "name": "stdout",
     "output_type": "stream",
     "text": [
      "(2, 4) (2, 2)\n",
      "\n"
     ]
    },
    {
     "ename": "ValueError",
     "evalue": "operands could not be broadcast together with shapes (2,4) (2,2) ",
     "output_type": "error",
     "traceback": [
      "\u001b[0;31m---------------------------------------------------------------------------\u001b[0m",
      "\u001b[0;31mValueError\u001b[0m                                Traceback (most recent call last)",
      "\u001b[0;32m<ipython-input-48-0c487559eaab>\u001b[0m in \u001b[0;36m<module>\u001b[0;34m()\u001b[0m\n\u001b[1;32m      3\u001b[0m \u001b[0;32mprint\u001b[0m \u001b[0ma\u001b[0m\u001b[0;34m.\u001b[0m\u001b[0mshape\u001b[0m\u001b[0;34m,\u001b[0m \u001b[0mb\u001b[0m\u001b[0;34m.\u001b[0m\u001b[0mshape\u001b[0m\u001b[0;34m\u001b[0m\u001b[0m\n\u001b[1;32m      4\u001b[0m \u001b[0;32mprint\u001b[0m \u001b[0;34m\"\"\u001b[0m\u001b[0;34m\u001b[0m\u001b[0m\n\u001b[0;32m----> 5\u001b[0;31m \u001b[0;32mprint\u001b[0m \u001b[0ma\u001b[0m \u001b[0;34m+\u001b[0m \u001b[0mb\u001b[0m\u001b[0;34m\u001b[0m\u001b[0m\n\u001b[0m\u001b[1;32m      6\u001b[0m \u001b[0;34m\u001b[0m\u001b[0m\n\u001b[1;32m      7\u001b[0m \u001b[0;31m# it's not clear how it should fill up in this case... so it can't/doesn't\u001b[0m\u001b[0;34m\u001b[0m\u001b[0;34m\u001b[0m\u001b[0m\n",
      "\u001b[0;31mValueError\u001b[0m: operands could not be broadcast together with shapes (2,4) (2,2) "
     ]
    }
   ],
   "source": [
    "a = np.array([[10, 0, -10, 0],[-10, 0, -10, 0]]) \n",
    "b = np.array([[2,2],[-1,0]]) \n",
    "print a.shape, b.shape \n",
    "print \"\"\n",
    "print a + b\n",
    "\n",
    "# it's not clear how it should fill up in this case... so it can't/doesn't"
   ]
  },
  {
   "cell_type": "markdown",
   "metadata": {},
   "source": [
    "# Dimension Dimentia..."
   ]
  },
  {
   "cell_type": "code",
   "execution_count": 54,
   "metadata": {},
   "outputs": [
    {
     "name": "stdout",
     "output_type": "stream",
     "text": [
      "(2, 1) (2, 2)\n",
      "\n",
      "\n",
      "[[11 12]\n",
      " [ 9  8]]\n"
     ]
    }
   ],
   "source": [
    "a = 10\n",
    "a = np.array(10)\n",
    "a = np.array([10])\n",
    "a = np.array([[[10]]])\n",
    "a = np.array([[10],[10]])\n",
    "b = np.array([[1,2],[-1,-2]])\n",
    "\n",
    "print a.shape, b.shape\n",
    "print \"\\n\"\n",
    "print a + b"
   ]
  },
  {
   "cell_type": "code",
   "execution_count": null,
   "metadata": {
    "collapsed": true
   },
   "outputs": [],
   "source": [
    "# Notes:\n",
    "\n",
    "# a.shape can be assigned into to change the shape with compatible shapes\n",
    "# a.reshape() can be used to change shape as well to compatible shapes \n",
    "\n",
    "# see also a.flatten() and a.ravel(), which leads us to the following... "
   ]
  },
  {
   "cell_type": "markdown",
   "metadata": {},
   "source": [
    "# Aliasing Amnesia... \n",
    "* *Copy* versus *View* (and not accidentally editing another variables memory)\n"
   ]
  },
  {
   "cell_type": "code",
   "execution_count": 58,
   "metadata": {},
   "outputs": [
    {
     "data": {
      "text/plain": [
       "[11, 2, 3, 4, 5]"
      ]
     },
     "execution_count": 58,
     "metadata": {},
     "output_type": "execute_result"
    }
   ],
   "source": [
    "z = [1, 2, 3, 4, 5]\n",
    "zz = z[2:]\n",
    "zz[0]=11\n",
    "z"
   ]
  },
  {
   "cell_type": "code",
   "execution_count": 63,
   "metadata": {},
   "outputs": [
    {
     "name": "stdout",
     "output_type": "stream",
     "text": [
      "[[ 1  2]\n",
      " [-1 -2]]\n",
      "\n",
      "[[666   2]\n",
      " [ -1  -2]]\n",
      "\n",
      "[[ 1  2]\n",
      " [-1 -2]]\n"
     ]
    }
   ],
   "source": [
    "b = np.array([[1,2],[-1,-2]])\n",
    "print b\n",
    "print \"\"\n",
    "\n",
    "c = b.copy()# #[:,:]#\n",
    "# also see \"deepcopy()\"\n",
    "c[0,0]=666\n",
    "\n",
    "print c\n",
    "print \"\"\n",
    "print b"
   ]
  },
  {
   "cell_type": "markdown",
   "metadata": {
    "slideshow": {
     "slide_type": "subslide"
    }
   },
   "source": [
    "# Pandas Series\n",
    "* are (one dimensional) np.ndarray vectors **with an index**\n"
   ]
  },
  {
   "cell_type": "code",
   "execution_count": 64,
   "metadata": {
    "collapsed": true
   },
   "outputs": [],
   "source": [
    "import pandas as pd"
   ]
  },
  {
   "cell_type": "code",
   "execution_count": 65,
   "metadata": {},
   "outputs": [
    {
     "name": "stdout",
     "output_type": "stream",
     "text": [
      "0    5775.0\n",
      "1     373.0\n",
      "2       7.0\n",
      "3      42.0\n",
      "4       NaN\n",
      "5      33.0\n",
      "dtype: float64\n",
      "\n",
      "\n",
      "(6,)\n"
     ]
    }
   ],
   "source": [
    "series = pd.Series([5775,373,7,42,np.nan,33])\n",
    "print series\n",
    "print \"\\n\"\n",
    "print series.shape"
   ]
  },
  {
   "cell_type": "code",
   "execution_count": 68,
   "metadata": {},
   "outputs": [
    {
     "data": {
      "text/plain": [
       "0      cubs\n",
       "1    royals\n",
       "2    giants\n",
       "3       sox\n",
       "4    giants\n",
       "5     cards\n",
       "6    giants\n",
       "7       ...\n",
       "dtype: object"
      ]
     },
     "execution_count": 68,
     "metadata": {},
     "output_type": "execute_result"
    }
   ],
   "source": [
    "world_series = pd.Series([\"cubs\",\"royals\",\"giants\",\"sox\",\"giants\",\"cards\",\"giants\",\"...\", None])\n",
    "world_series"
   ]
  },
  {
   "cell_type": "markdown",
   "metadata": {
    "slideshow": {
     "slide_type": "subslide"
    }
   },
   "source": [
    "# Pandas Date Series\n",
    "* are fancy: http://pandas.pydata.org/pandas-docs/stable/timeseries.html"
   ]
  },
  {
   "cell_type": "code",
   "execution_count": 70,
   "metadata": {},
   "outputs": [
    {
     "data": {
      "text/plain": [
       "(35,)"
      ]
     },
     "execution_count": 70,
     "metadata": {},
     "output_type": "execute_result"
    }
   ],
   "source": [
    "bdays = pd.date_range(start='19821107', periods=34+1, freq=pd.DateOffset(years=1))\n",
    "bdays#.shape"
   ]
  },
  {
   "cell_type": "markdown",
   "metadata": {
    "slideshow": {
     "slide_type": "subslide"
    }
   },
   "source": [
    "### After you learn Pandas you might care about using Date Series Types and the following could be useful:\n",
    "* df = pd.read_csv(infile, parse_dates=['datetime'], date_parser=dateparse)\n",
    "* df['Date'] = df['Date'].apply(lambda x: pd.to_datetime(x))\n",
    "\n"
   ]
  },
  {
   "cell_type": "markdown",
   "metadata": {
    "slideshow": {
     "slide_type": "subslide"
    }
   },
   "source": [
    "# Pandas DataFrames\n",
    "* are a set of Pandas Series **that share the same index** \n",
    "<br>\n",
    "<br>\n",
    "\n",
    "$$\\large \\text{Python List} \\subset \\text{NumPy Array} \\subset \\text{Pandas Series} \\subset \\text{Pandas DataFrame}$$\n",
    "<br>"
   ]
  },
  {
   "cell_type": "code",
   "execution_count": 73,
   "metadata": {},
   "outputs": [
    {
     "name": "stdout",
     "output_type": "stream",
     "text": [
      "          2    3    0  1    C          b\n",
      "0     train  NaN  NaN  1  3.0 2013-01-02\n",
      "1      test  foo  1.0  1  3.0 2013-01-02\n",
      "2  validate  NaN  1.0  1  3.0 2013-01-02\n",
      "3       win  foo  1.0  1  3.0 2013-01-02\n",
      "\n",
      "(4, 6)\n",
      "\n"
     ]
    },
    {
     "data": {
      "text/plain": [
       "2          category\n",
       "3            object\n",
       "0           float64\n",
       "1             int32\n",
       "C           float32\n",
       "b    datetime64[ns]\n",
       "dtype: object"
      ]
     },
     "execution_count": 73,
     "metadata": {},
     "output_type": "execute_result"
    }
   ],
   "source": [
    "mixedTypes_df = pd.DataFrame({ '0' : [np.nan] + 3 * [1.],\n",
    "                               'b' : pd.Timestamp('20130102'),\n",
    "                               'C' : pd.Series(3, index=list(range(4)), dtype='float32'),\n",
    "                               '1' : np.array(4 * [1], dtype='int32'),\n",
    "                                2  : pd.Categorical([\"train\", \"test\", \"validate\", \"win\"]),\n",
    "                                3 : 2*[np.nan, 'foo'] }) #, index=bdays[:4]\n",
    "print mixedTypes_df\n",
    "print \"\"\n",
    "print mixedTypes_df.shape\n",
    "print \"\"\n",
    "mixedTypes_df.dtypes"
   ]
  },
  {
   "cell_type": "markdown",
   "metadata": {
    "slideshow": {
     "slide_type": "subslide"
    }
   },
   "source": [
    "# Managing Columns"
   ]
  },
  {
   "cell_type": "code",
   "execution_count": 74,
   "metadata": {},
   "outputs": [
    {
     "data": {
      "text/html": [
       "<div>\n",
       "<table border=\"1\" class=\"dataframe\">\n",
       "  <thead>\n",
       "    <tr style=\"text-align: right;\">\n",
       "      <th></th>\n",
       "      <th>2</th>\n",
       "      <th>3</th>\n",
       "      <th>0</th>\n",
       "      <th>1</th>\n",
       "      <th>C</th>\n",
       "      <th>B</th>\n",
       "    </tr>\n",
       "  </thead>\n",
       "  <tbody>\n",
       "    <tr>\n",
       "      <th>0</th>\n",
       "      <td>train</td>\n",
       "      <td>NaN</td>\n",
       "      <td>NaN</td>\n",
       "      <td>1</td>\n",
       "      <td>3.0</td>\n",
       "      <td>2013-01-02</td>\n",
       "    </tr>\n",
       "    <tr>\n",
       "      <th>1</th>\n",
       "      <td>test</td>\n",
       "      <td>foo</td>\n",
       "      <td>1.0</td>\n",
       "      <td>1</td>\n",
       "      <td>3.0</td>\n",
       "      <td>2013-01-02</td>\n",
       "    </tr>\n",
       "    <tr>\n",
       "      <th>2</th>\n",
       "      <td>validate</td>\n",
       "      <td>NaN</td>\n",
       "      <td>1.0</td>\n",
       "      <td>1</td>\n",
       "      <td>3.0</td>\n",
       "      <td>2013-01-02</td>\n",
       "    </tr>\n",
       "    <tr>\n",
       "      <th>3</th>\n",
       "      <td>win</td>\n",
       "      <td>foo</td>\n",
       "      <td>1.0</td>\n",
       "      <td>1</td>\n",
       "      <td>3.0</td>\n",
       "      <td>2013-01-02</td>\n",
       "    </tr>\n",
       "  </tbody>\n",
       "</table>\n",
       "</div>"
      ],
      "text/plain": [
       "          2    3    0  1    C          B\n",
       "0     train  NaN  NaN  1  3.0 2013-01-02\n",
       "1      test  foo  1.0  1  3.0 2013-01-02\n",
       "2  validate  NaN  1.0  1  3.0 2013-01-02\n",
       "3       win  foo  1.0  1  3.0 2013-01-02"
      ]
     },
     "execution_count": 74,
     "metadata": {},
     "output_type": "execute_result"
    }
   ],
   "source": [
    "mixedTypes_df.rename(columns={'b': 'B'}, inplace=True)\n",
    "mixedTypes_df"
   ]
  },
  {
   "cell_type": "code",
   "execution_count": 75,
   "metadata": {},
   "outputs": [
    {
     "data": {
      "text/plain": [
       "0    1\n",
       "1    1\n",
       "2    1\n",
       "3    1\n",
       "Name: 1, dtype: int32"
      ]
     },
     "execution_count": 75,
     "metadata": {},
     "output_type": "execute_result"
    }
   ],
   "source": [
    "mixedTypes_df['1']"
   ]
  },
  {
   "cell_type": "code",
   "execution_count": 76,
   "metadata": {},
   "outputs": [
    {
     "data": {
      "text/plain": [
       "pandas.core.series.Series"
      ]
     },
     "execution_count": 76,
     "metadata": {},
     "output_type": "execute_result"
    }
   ],
   "source": [
    "type(mixedTypes_df['1'])"
   ]
  },
  {
   "cell_type": "code",
   "execution_count": 77,
   "metadata": {},
   "outputs": [
    {
     "data": {
      "text/plain": [
       "pandas.core.frame.DataFrame"
      ]
     },
     "execution_count": 77,
     "metadata": {},
     "output_type": "execute_result"
    }
   ],
   "source": [
    "type(mixedTypes_df)"
   ]
  },
  {
   "cell_type": "code",
   "execution_count": 78,
   "metadata": {},
   "outputs": [
    {
     "data": {
      "text/html": [
       "<div>\n",
       "<table border=\"1\" class=\"dataframe\">\n",
       "  <thead>\n",
       "    <tr style=\"text-align: right;\">\n",
       "      <th></th>\n",
       "      <th>2</th>\n",
       "      <th>3</th>\n",
       "      <th>0</th>\n",
       "      <th>C</th>\n",
       "      <th>B</th>\n",
       "    </tr>\n",
       "  </thead>\n",
       "  <tbody>\n",
       "    <tr>\n",
       "      <th>0</th>\n",
       "      <td>train</td>\n",
       "      <td>NaN</td>\n",
       "      <td>NaN</td>\n",
       "      <td>3.0</td>\n",
       "      <td>2013-01-02</td>\n",
       "    </tr>\n",
       "    <tr>\n",
       "      <th>1</th>\n",
       "      <td>test</td>\n",
       "      <td>foo</td>\n",
       "      <td>1.0</td>\n",
       "      <td>3.0</td>\n",
       "      <td>2013-01-02</td>\n",
       "    </tr>\n",
       "    <tr>\n",
       "      <th>2</th>\n",
       "      <td>validate</td>\n",
       "      <td>NaN</td>\n",
       "      <td>1.0</td>\n",
       "      <td>3.0</td>\n",
       "      <td>2013-01-02</td>\n",
       "    </tr>\n",
       "    <tr>\n",
       "      <th>3</th>\n",
       "      <td>win</td>\n",
       "      <td>foo</td>\n",
       "      <td>1.0</td>\n",
       "      <td>3.0</td>\n",
       "      <td>2013-01-02</td>\n",
       "    </tr>\n",
       "  </tbody>\n",
       "</table>\n",
       "</div>"
      ],
      "text/plain": [
       "          2    3    0    C          B\n",
       "0     train  NaN  NaN  3.0 2013-01-02\n",
       "1      test  foo  1.0  3.0 2013-01-02\n",
       "2  validate  NaN  1.0  3.0 2013-01-02\n",
       "3       win  foo  1.0  3.0 2013-01-02"
      ]
     },
     "execution_count": 78,
     "metadata": {},
     "output_type": "execute_result"
    }
   ],
   "source": [
    "del mixedTypes_df['1']\n",
    "mixedTypes_df"
   ]
  },
  {
   "cell_type": "code",
   "execution_count": 79,
   "metadata": {},
   "outputs": [
    {
     "name": "stdout",
     "output_type": "stream",
     "text": [
      "mixedTypes_df\n",
      "                   2    3    0    C          B\n",
      "1982-11-07     train  NaN  NaN  3.0 2013-01-02\n",
      "1983-11-07      test  foo  1.0  3.0 2013-01-02\n",
      "1984-11-07  validate  NaN  1.0  3.0 2013-01-02\n",
      "1985-11-07       win  foo  1.0  3.0 2013-01-02\n",
      "\n",
      "mixedTypes_augmented_df\n",
      "                  2    3    0    C          B        G\n",
      "0     train, I must  NaN  NaN  3.0 2013-01-02  hommies\n",
      "1      test, I must  foo  1.0  3.0 2013-01-02  hommies\n",
      "2  validate, I must  NaN  1.0  3.0 2013-01-02  hommies\n",
      "3       win, I must  foo  1.0  3.0 2013-01-02  hommies\n"
     ]
    }
   ],
   "source": [
    "mixedTypes_augmented_df = mixedTypes_df.copy() # de-referencing\n",
    "\n",
    "mixedTypes_df.index = bdays[:4]\n",
    "\n",
    "mixedTypes_augmented_df[2] = mixedTypes_augmented_df[2] + np.array([\", I\"]*4) # element-wise\n",
    "mixedTypes_augmented_df[2] = mixedTypes_augmented_df[2] + \" must\" # broadcasting\n",
    "mixedTypes_augmented_df['G'] = 'hommies' # broadcasting\n",
    "\n",
    "print \"mixedTypes_df\"\n",
    "print mixedTypes_df\n",
    "print \"\\n\"+\"mixedTypes_augmented_df\"\n",
    "print mixedTypes_augmented_df"
   ]
  },
  {
   "cell_type": "markdown",
   "metadata": {
    "slideshow": {
     "slide_type": "subslide"
    }
   },
   "source": [
    "# Accessing Data part I: skeletons\n",
    "* is kind of special in Pandas"
   ]
  },
  {
   "cell_type": "code",
   "execution_count": 93,
   "metadata": {},
   "outputs": [
    {
     "data": {
      "text/plain": [
       "0        pal\n",
       "1    hommies\n",
       "2    hommies\n",
       "3    hommies\n",
       "Name: G, dtype: object"
      ]
     },
     "execution_count": 93,
     "metadata": {},
     "output_type": "execute_result"
    }
   ],
   "source": [
    "# getting columns\n",
    "b = mixedTypes_augmented_df[\"G\"]\n",
    "mixedTypes_augmented_df.G#.tolist()#values#."
   ]
  },
  {
   "cell_type": "code",
   "execution_count": 88,
   "metadata": {},
   "outputs": [
    {
     "name": "stdout",
     "output_type": "stream",
     "text": [
      "DatetimeIndex(['1982-11-07', '1983-11-07', '1984-11-07', '1985-11-07'], dtype='datetime64[ns]', freq='<DateOffset: kwds={'years': 1}>')\n",
      "\n",
      "datetime64[ns]\n",
      "\n",
      "[Timestamp('1982-11-07 00:00:00', offset='<DateOffset: kwds={'years': 1}>'), Timestamp('1983-11-07 00:00:00', offset='<DateOffset: kwds={'years': 1}>'), Timestamp('1984-11-07 00:00:00', offset='<DateOffset: kwds={'years': 1}>'), Timestamp('1985-11-07 00:00:00', offset='<DateOffset: kwds={'years': 1}>')]\n"
     ]
    }
   ],
   "source": [
    "print mixedTypes_df.index\n",
    "print \"\"\n",
    "print mixedTypes_df.index.values.dtype # type()\n",
    "print \"\"\n",
    "print mixedTypes_df.index.tolist()"
   ]
  },
  {
   "cell_type": "code",
   "execution_count": 94,
   "metadata": {},
   "outputs": [
    {
     "name": "stdout",
     "output_type": "stream",
     "text": [
      "Index([2, 3, u'0', u'C', u'B'], dtype='object')\n",
      "\n",
      "[2 3 '0' 'C' 'B']\n",
      "\n",
      "[2, 3, '0', 'C', 'B']\n"
     ]
    }
   ],
   "source": [
    "print mixedTypes_df.columns\n",
    "print \"\"\n",
    "print mixedTypes_df.columns.values #.dtype\n",
    "print \"\"\n",
    "print mixedTypes_df.columns.tolist()"
   ]
  },
  {
   "cell_type": "markdown",
   "metadata": {
    "slideshow": {
     "slide_type": "subslide"
    }
   },
   "source": [
    "# Accessing Data part II: innards\n",
    "* is kind of special in Pandas"
   ]
  },
  {
   "cell_type": "code",
   "execution_count": 95,
   "metadata": {},
   "outputs": [
    {
     "data": {
      "text/plain": [
       "array([[ 1.,  1.,  1.],\n",
       "       [ 1.,  1.,  1.],\n",
       "       [ 1.,  1.,  1.]])"
      ]
     },
     "execution_count": 95,
     "metadata": {},
     "output_type": "execute_result"
    }
   ],
   "source": [
    "np.ones((10,10))[:3,:3]"
   ]
  },
  {
   "cell_type": "code",
   "execution_count": 96,
   "metadata": {},
   "outputs": [
    {
     "data": {
      "text/plain": [
       "array([[ 1.,  0.,  0.],\n",
       "       [ 0.,  1.,  0.],\n",
       "       [ 0.,  0.,  1.]])"
      ]
     },
     "execution_count": 96,
     "metadata": {},
     "output_type": "execute_result"
    }
   ],
   "source": [
    "zeros_ndarray = np.zeros((3,4))        # Create a matrix of zeros with 3 rows and 4 columns. \n",
    "ones_ndarray = np.ones((10,20))        # Create a matrix of ones with 10 rows and 20 columns.\n",
    "identity_ndarray = np.identity(50)     # Create an identity matrix with 50 rows and 50 columns. \n",
    "random_ndarray = np.random.rand(2, 2)  # Create a 2x2 array of random floats ranging from 0 to 1. \n",
    "range_ndarray = np.arange(0, 20, 0.5)  # Create a numpy array with arguments (start, end, step_size). \n",
    "noise_nparray = np.random.randn(35, 6) # Create a 35x6 array of normally distributed random normal variables\n",
    "\n",
    "identity_ndarray[:3,:3]"
   ]
  },
  {
   "cell_type": "code",
   "execution_count": 99,
   "metadata": {},
   "outputs": [
    {
     "ename": "TypeError",
     "evalue": "unhashable type",
     "output_type": "error",
     "traceback": [
      "\u001b[0;31m---------------------------------------------------------------------------\u001b[0m",
      "\u001b[0;31mTypeError\u001b[0m                                 Traceback (most recent call last)",
      "\u001b[0;32m<ipython-input-99-99902d89f350>\u001b[0m in \u001b[0;36m<module>\u001b[0;34m()\u001b[0m\n\u001b[1;32m      1\u001b[0m \u001b[0mmixedTypes_df\u001b[0m\u001b[0;34m.\u001b[0m\u001b[0mhead\u001b[0m\u001b[0;34m(\u001b[0m\u001b[0;34m)\u001b[0m\u001b[0;34m\u001b[0m\u001b[0m\n\u001b[0;32m----> 2\u001b[0;31m \u001b[0mmixedTypes_df\u001b[0m\u001b[0;34m[\u001b[0m\u001b[0;34m:\u001b[0m\u001b[0;36m3\u001b[0m\u001b[0;34m,\u001b[0m\u001b[0;34m:\u001b[0m\u001b[0;36m3\u001b[0m\u001b[0;34m]\u001b[0m\u001b[0;34m\u001b[0m\u001b[0m\n\u001b[0m\u001b[1;32m      3\u001b[0m \u001b[0;31m# is mixedTypes_df a matrix?\u001b[0m\u001b[0;34m\u001b[0m\u001b[0;34m\u001b[0m\u001b[0m\n",
      "\u001b[0;32m/Users/schwarls37/anaconda/lib/python2.7/site-packages/pandas/core/frame.pyc\u001b[0m in \u001b[0;36m__getitem__\u001b[0;34m(self, key)\u001b[0m\n\u001b[1;32m   1995\u001b[0m             \u001b[0;32mreturn\u001b[0m \u001b[0mself\u001b[0m\u001b[0;34m.\u001b[0m\u001b[0m_getitem_multilevel\u001b[0m\u001b[0;34m(\u001b[0m\u001b[0mkey\u001b[0m\u001b[0;34m)\u001b[0m\u001b[0;34m\u001b[0m\u001b[0m\n\u001b[1;32m   1996\u001b[0m         \u001b[0;32melse\u001b[0m\u001b[0;34m:\u001b[0m\u001b[0;34m\u001b[0m\u001b[0m\n\u001b[0;32m-> 1997\u001b[0;31m             \u001b[0;32mreturn\u001b[0m \u001b[0mself\u001b[0m\u001b[0;34m.\u001b[0m\u001b[0m_getitem_column\u001b[0m\u001b[0;34m(\u001b[0m\u001b[0mkey\u001b[0m\u001b[0;34m)\u001b[0m\u001b[0;34m\u001b[0m\u001b[0m\n\u001b[0m\u001b[1;32m   1998\u001b[0m \u001b[0;34m\u001b[0m\u001b[0m\n\u001b[1;32m   1999\u001b[0m     \u001b[0;32mdef\u001b[0m \u001b[0m_getitem_column\u001b[0m\u001b[0;34m(\u001b[0m\u001b[0mself\u001b[0m\u001b[0;34m,\u001b[0m \u001b[0mkey\u001b[0m\u001b[0;34m)\u001b[0m\u001b[0;34m:\u001b[0m\u001b[0;34m\u001b[0m\u001b[0m\n",
      "\u001b[0;32m/Users/schwarls37/anaconda/lib/python2.7/site-packages/pandas/core/frame.pyc\u001b[0m in \u001b[0;36m_getitem_column\u001b[0;34m(self, key)\u001b[0m\n\u001b[1;32m   2002\u001b[0m         \u001b[0;31m# get column\u001b[0m\u001b[0;34m\u001b[0m\u001b[0;34m\u001b[0m\u001b[0m\n\u001b[1;32m   2003\u001b[0m         \u001b[0;32mif\u001b[0m \u001b[0mself\u001b[0m\u001b[0;34m.\u001b[0m\u001b[0mcolumns\u001b[0m\u001b[0;34m.\u001b[0m\u001b[0mis_unique\u001b[0m\u001b[0;34m:\u001b[0m\u001b[0;34m\u001b[0m\u001b[0m\n\u001b[0;32m-> 2004\u001b[0;31m             \u001b[0;32mreturn\u001b[0m \u001b[0mself\u001b[0m\u001b[0;34m.\u001b[0m\u001b[0m_get_item_cache\u001b[0m\u001b[0;34m(\u001b[0m\u001b[0mkey\u001b[0m\u001b[0;34m)\u001b[0m\u001b[0;34m\u001b[0m\u001b[0m\n\u001b[0m\u001b[1;32m   2005\u001b[0m \u001b[0;34m\u001b[0m\u001b[0m\n\u001b[1;32m   2006\u001b[0m         \u001b[0;31m# duplicate columns & possible reduce dimensionality\u001b[0m\u001b[0;34m\u001b[0m\u001b[0;34m\u001b[0m\u001b[0m\n",
      "\u001b[0;32m/Users/schwarls37/anaconda/lib/python2.7/site-packages/pandas/core/generic.pyc\u001b[0m in \u001b[0;36m_get_item_cache\u001b[0;34m(self, item)\u001b[0m\n\u001b[1;32m   1346\u001b[0m         \u001b[0;34m\"\"\"Return the cached item, item represents a label indexer.\"\"\"\u001b[0m\u001b[0;34m\u001b[0m\u001b[0m\n\u001b[1;32m   1347\u001b[0m         \u001b[0mcache\u001b[0m \u001b[0;34m=\u001b[0m \u001b[0mself\u001b[0m\u001b[0;34m.\u001b[0m\u001b[0m_item_cache\u001b[0m\u001b[0;34m\u001b[0m\u001b[0m\n\u001b[0;32m-> 1348\u001b[0;31m         \u001b[0mres\u001b[0m \u001b[0;34m=\u001b[0m \u001b[0mcache\u001b[0m\u001b[0;34m.\u001b[0m\u001b[0mget\u001b[0m\u001b[0;34m(\u001b[0m\u001b[0mitem\u001b[0m\u001b[0;34m)\u001b[0m\u001b[0;34m\u001b[0m\u001b[0m\n\u001b[0m\u001b[1;32m   1349\u001b[0m         \u001b[0;32mif\u001b[0m \u001b[0mres\u001b[0m \u001b[0;32mis\u001b[0m \u001b[0mNone\u001b[0m\u001b[0;34m:\u001b[0m\u001b[0;34m\u001b[0m\u001b[0m\n\u001b[1;32m   1350\u001b[0m             \u001b[0mvalues\u001b[0m \u001b[0;34m=\u001b[0m \u001b[0mself\u001b[0m\u001b[0;34m.\u001b[0m\u001b[0m_data\u001b[0m\u001b[0;34m.\u001b[0m\u001b[0mget\u001b[0m\u001b[0;34m(\u001b[0m\u001b[0mitem\u001b[0m\u001b[0;34m)\u001b[0m\u001b[0;34m\u001b[0m\u001b[0m\n",
      "\u001b[0;31mTypeError\u001b[0m: unhashable type"
     ]
    }
   ],
   "source": [
    "mixedTypes_df.head()\n",
    "mixedTypes_df[:3,:3]\n",
    "# is mixedTypes_df a matrix?"
   ]
  },
  {
   "cell_type": "code",
   "execution_count": 101,
   "metadata": {},
   "outputs": [
    {
     "name": "stdout",
     "output_type": "stream",
     "text": [
      "[['train' nan nan]\n",
      " ['test' 'foo' 1.0]\n",
      " ['validate' nan 1.0]]\n"
     ]
    }
   ],
   "source": [
    "print mixedTypes_df.values[:3,:3] \n",
    "#mixedTypes_df.as_matrix() # type(\n",
    "\n",
    "# are these the same?"
   ]
  },
  {
   "cell_type": "code",
   "execution_count": 108,
   "metadata": {},
   "outputs": [
    {
     "data": {
      "text/html": [
       "<div>\n",
       "<table border=\"1\" class=\"dataframe\">\n",
       "  <thead>\n",
       "    <tr style=\"text-align: right;\">\n",
       "      <th></th>\n",
       "      <th>2</th>\n",
       "      <th>3</th>\n",
       "      <th>0</th>\n",
       "      <th>B</th>\n",
       "    </tr>\n",
       "  </thead>\n",
       "  <tbody>\n",
       "    <tr>\n",
       "      <th>1982-11-07</th>\n",
       "      <td>train</td>\n",
       "      <td>NaN</td>\n",
       "      <td>NaN</td>\n",
       "      <td>2013-01-02</td>\n",
       "    </tr>\n",
       "    <tr>\n",
       "      <th>1983-11-07</th>\n",
       "      <td>test</td>\n",
       "      <td>foo</td>\n",
       "      <td>1.0</td>\n",
       "      <td>2013-01-02</td>\n",
       "    </tr>\n",
       "    <tr>\n",
       "      <th>1984-11-07</th>\n",
       "      <td>validate</td>\n",
       "      <td>NaN</td>\n",
       "      <td>1.0</td>\n",
       "      <td>2013-01-02</td>\n",
       "    </tr>\n",
       "    <tr>\n",
       "      <th>1985-11-07</th>\n",
       "      <td>win</td>\n",
       "      <td>foo</td>\n",
       "      <td>1.0</td>\n",
       "      <td>2013-01-02</td>\n",
       "    </tr>\n",
       "  </tbody>\n",
       "</table>\n",
       "</div>"
      ],
      "text/plain": [
       "                   2    3    0          B\n",
       "1982-11-07     train  NaN  NaN 2013-01-02\n",
       "1983-11-07      test  foo  1.0 2013-01-02\n",
       "1984-11-07  validate  NaN  1.0 2013-01-02\n",
       "1985-11-07       win  foo  1.0 2013-01-02"
      ]
     },
     "execution_count": 108,
     "metadata": {},
     "output_type": "execute_result"
    }
   ],
   "source": [
    "# getting columns\n",
    "mixedTypes_df[[2,3,\"0\",\"B\"]]"
   ]
  },
  {
   "cell_type": "code",
   "execution_count": 114,
   "metadata": {},
   "outputs": [
    {
     "name": "stdout",
     "output_type": "stream",
     "text": [
      "1983-11-07 00:00:00\n"
     ]
    },
    {
     "data": {
      "text/html": [
       "<div>\n",
       "<table border=\"1\" class=\"dataframe\">\n",
       "  <thead>\n",
       "    <tr style=\"text-align: right;\">\n",
       "      <th></th>\n",
       "      <th>2</th>\n",
       "      <th>3</th>\n",
       "      <th>0</th>\n",
       "      <th>C</th>\n",
       "      <th>B</th>\n",
       "    </tr>\n",
       "  </thead>\n",
       "  <tbody>\n",
       "    <tr>\n",
       "      <th>1982-11-07</th>\n",
       "      <td>train</td>\n",
       "      <td>NaN</td>\n",
       "      <td>NaN</td>\n",
       "      <td>3.0</td>\n",
       "      <td>2013-01-02</td>\n",
       "    </tr>\n",
       "    <tr>\n",
       "      <th>1983-11-07</th>\n",
       "      <td>test</td>\n",
       "      <td>foo</td>\n",
       "      <td>1.0</td>\n",
       "      <td>3.0</td>\n",
       "      <td>2013-01-02</td>\n",
       "    </tr>\n",
       "  </tbody>\n",
       "</table>\n",
       "</div>"
      ],
      "text/plain": [
       "                2    3    0    C          B\n",
       "1982-11-07  train  NaN  NaN  3.0 2013-01-02\n",
       "1983-11-07   test  foo  1.0  3.0 2013-01-02"
      ]
     },
     "execution_count": 114,
     "metadata": {},
     "output_type": "execute_result"
    }
   ],
   "source": [
    "# getting rows\n",
    "print bdays[1]\n",
    "mixedTypes_df[:bdays[1]] # hint: \"slice\""
   ]
  },
  {
   "cell_type": "code",
   "execution_count": 115,
   "metadata": {},
   "outputs": [
    {
     "data": {
      "text/html": [
       "<div>\n",
       "<table border=\"1\" class=\"dataframe\">\n",
       "  <thead>\n",
       "    <tr style=\"text-align: right;\">\n",
       "      <th></th>\n",
       "      <th>2</th>\n",
       "      <th>3</th>\n",
       "      <th>0</th>\n",
       "      <th>C</th>\n",
       "      <th>B</th>\n",
       "    </tr>\n",
       "  </thead>\n",
       "  <tbody>\n",
       "    <tr>\n",
       "      <th>1982-11-07</th>\n",
       "      <td>train</td>\n",
       "      <td>NaN</td>\n",
       "      <td>NaN</td>\n",
       "      <td>3.0</td>\n",
       "      <td>2013-01-02</td>\n",
       "    </tr>\n",
       "    <tr>\n",
       "      <th>1983-11-07</th>\n",
       "      <td>test</td>\n",
       "      <td>foo</td>\n",
       "      <td>1.0</td>\n",
       "      <td>3.0</td>\n",
       "      <td>2013-01-02</td>\n",
       "    </tr>\n",
       "    <tr>\n",
       "      <th>1984-11-07</th>\n",
       "      <td>validate</td>\n",
       "      <td>NaN</td>\n",
       "      <td>1.0</td>\n",
       "      <td>3.0</td>\n",
       "      <td>2013-01-02</td>\n",
       "    </tr>\n",
       "    <tr>\n",
       "      <th>1985-11-07</th>\n",
       "      <td>win</td>\n",
       "      <td>foo</td>\n",
       "      <td>1.0</td>\n",
       "      <td>3.0</td>\n",
       "      <td>2013-01-02</td>\n",
       "    </tr>\n",
       "  </tbody>\n",
       "</table>\n",
       "</div>"
      ],
      "text/plain": [
       "                   2    3    0    C          B\n",
       "1982-11-07     train  NaN  NaN  3.0 2013-01-02\n",
       "1983-11-07      test  foo  1.0  3.0 2013-01-02\n",
       "1984-11-07  validate  NaN  1.0  3.0 2013-01-02\n",
       "1985-11-07       win  foo  1.0  3.0 2013-01-02"
      ]
     },
     "execution_count": 115,
     "metadata": {},
     "output_type": "execute_result"
    }
   ],
   "source": [
    "mixedTypes_df"
   ]
  },
  {
   "cell_type": "code",
   "execution_count": 125,
   "metadata": {},
   "outputs": [
    {
     "data": {
      "text/plain": [
       "1982-11-07    NaN\n",
       "1983-11-07    1.0\n",
       "1984-11-07    1.0\n",
       "1985-11-07    1.0\n",
       "Freq: <DateOffset: kwds={'years': 1}>, Name: 0, dtype: float64"
      ]
     },
     "execution_count": 125,
     "metadata": {},
     "output_type": "execute_result"
    }
   ],
   "source": [
    "# Quiz 1\n",
    "#-------\n",
    "mixedTypes_df[:1]\n",
    "mixedTypes_df[2:3]\n",
    "mixedTypes_df[[2,3]]\n",
    "mixedTypes_df[2]\n",
    "#mixedTypes_df[1]\n",
    "#mixedTypes_df[0]\n",
    "mixedTypes_df['0']"
   ]
  },
  {
   "cell_type": "code",
   "execution_count": 126,
   "metadata": {},
   "outputs": [
    {
     "data": {
      "text/html": [
       "<div>\n",
       "<table border=\"1\" class=\"dataframe\">\n",
       "  <thead>\n",
       "    <tr style=\"text-align: right;\">\n",
       "      <th></th>\n",
       "      <th>index</th>\n",
       "      <th>2</th>\n",
       "      <th>3</th>\n",
       "      <th>0</th>\n",
       "      <th>C</th>\n",
       "      <th>B</th>\n",
       "    </tr>\n",
       "  </thead>\n",
       "  <tbody>\n",
       "    <tr>\n",
       "      <th>0</th>\n",
       "      <td>1982-11-07</td>\n",
       "      <td>train</td>\n",
       "      <td>NaN</td>\n",
       "      <td>NaN</td>\n",
       "      <td>3.0</td>\n",
       "      <td>2013-01-02</td>\n",
       "    </tr>\n",
       "    <tr>\n",
       "      <th>1</th>\n",
       "      <td>1983-11-07</td>\n",
       "      <td>test</td>\n",
       "      <td>foo</td>\n",
       "      <td>1.0</td>\n",
       "      <td>3.0</td>\n",
       "      <td>2013-01-02</td>\n",
       "    </tr>\n",
       "    <tr>\n",
       "      <th>2</th>\n",
       "      <td>1984-11-07</td>\n",
       "      <td>validate</td>\n",
       "      <td>NaN</td>\n",
       "      <td>1.0</td>\n",
       "      <td>3.0</td>\n",
       "      <td>2013-01-02</td>\n",
       "    </tr>\n",
       "    <tr>\n",
       "      <th>3</th>\n",
       "      <td>1985-11-07</td>\n",
       "      <td>win</td>\n",
       "      <td>foo</td>\n",
       "      <td>1.0</td>\n",
       "      <td>3.0</td>\n",
       "      <td>2013-01-02</td>\n",
       "    </tr>\n",
       "  </tbody>\n",
       "</table>\n",
       "</div>"
      ],
      "text/plain": [
       "       index         2    3    0    C          B\n",
       "0 1982-11-07     train  NaN  NaN  3.0 2013-01-02\n",
       "1 1983-11-07      test  foo  1.0  3.0 2013-01-02\n",
       "2 1984-11-07  validate  NaN  1.0  3.0 2013-01-02\n",
       "3 1985-11-07       win  foo  1.0  3.0 2013-01-02"
      ]
     },
     "execution_count": 126,
     "metadata": {},
     "output_type": "execute_result"
    }
   ],
   "source": [
    "mixedTypes_df = mixedTypes_df.reset_index()\n",
    "mixedTypes_df"
   ]
  },
  {
   "cell_type": "code",
   "execution_count": 128,
   "metadata": {},
   "outputs": [
    {
     "data": {
      "text/html": [
       "<div>\n",
       "<table border=\"1\" class=\"dataframe\">\n",
       "  <thead>\n",
       "    <tr style=\"text-align: right;\">\n",
       "      <th></th>\n",
       "      <th>2</th>\n",
       "      <th>3</th>\n",
       "    </tr>\n",
       "  </thead>\n",
       "  <tbody>\n",
       "    <tr>\n",
       "      <th>0</th>\n",
       "      <td>train</td>\n",
       "      <td>NaN</td>\n",
       "    </tr>\n",
       "    <tr>\n",
       "      <th>1</th>\n",
       "      <td>test</td>\n",
       "      <td>foo</td>\n",
       "    </tr>\n",
       "    <tr>\n",
       "      <th>2</th>\n",
       "      <td>validate</td>\n",
       "      <td>NaN</td>\n",
       "    </tr>\n",
       "    <tr>\n",
       "      <th>3</th>\n",
       "      <td>win</td>\n",
       "      <td>foo</td>\n",
       "    </tr>\n",
       "  </tbody>\n",
       "</table>\n",
       "</div>"
      ],
      "text/plain": [
       "          2    3\n",
       "0     train  NaN\n",
       "1      test  foo\n",
       "2  validate  NaN\n",
       "3       win  foo"
      ]
     },
     "execution_count": 128,
     "metadata": {},
     "output_type": "execute_result"
    }
   ],
   "source": [
    "# Quiz 2\n",
    "#-------\n",
    "\n",
    "mixedTypes_df[:1]\n",
    "mixedTypes_df[2:3]\n",
    "mixedTypes_df[[2,3]]\n",
    "#mixedTypes_df[2]\n",
    "#mixedTypes_df[1]\n",
    "#mixedTypes_df[0]\n",
    "#mixedTypes_df['0']"
   ]
  },
  {
   "cell_type": "code",
   "execution_count": 129,
   "metadata": {},
   "outputs": [
    {
     "data": {
      "text/html": [
       "<div>\n",
       "<table border=\"1\" class=\"dataframe\">\n",
       "  <thead>\n",
       "    <tr style=\"text-align: right;\">\n",
       "      <th></th>\n",
       "      <th>index</th>\n",
       "      <th>2</th>\n",
       "      <th>3</th>\n",
       "      <th>0</th>\n",
       "      <th>C</th>\n",
       "      <th>B</th>\n",
       "    </tr>\n",
       "  </thead>\n",
       "  <tbody>\n",
       "    <tr>\n",
       "      <th>0</th>\n",
       "      <td>1982-11-07</td>\n",
       "      <td>train</td>\n",
       "      <td>NaN</td>\n",
       "      <td>NaN</td>\n",
       "      <td>3.0</td>\n",
       "      <td>2013-01-02</td>\n",
       "    </tr>\n",
       "    <tr>\n",
       "      <th>1</th>\n",
       "      <td>1983-11-07</td>\n",
       "      <td>test</td>\n",
       "      <td>foo</td>\n",
       "      <td>1.0</td>\n",
       "      <td>3.0</td>\n",
       "      <td>2013-01-02</td>\n",
       "    </tr>\n",
       "    <tr>\n",
       "      <th>2</th>\n",
       "      <td>1984-11-07</td>\n",
       "      <td>validate</td>\n",
       "      <td>NaN</td>\n",
       "      <td>1.0</td>\n",
       "      <td>3.0</td>\n",
       "      <td>2013-01-02</td>\n",
       "    </tr>\n",
       "    <tr>\n",
       "      <th>3</th>\n",
       "      <td>1985-11-07</td>\n",
       "      <td>win</td>\n",
       "      <td>foo</td>\n",
       "      <td>1.0</td>\n",
       "      <td>3.0</td>\n",
       "      <td>2013-01-02</td>\n",
       "    </tr>\n",
       "  </tbody>\n",
       "</table>\n",
       "</div>"
      ],
      "text/plain": [
       "       index         2    3    0    C          B\n",
       "0 1982-11-07     train  NaN  NaN  3.0 2013-01-02\n",
       "1 1983-11-07      test  foo  1.0  3.0 2013-01-02\n",
       "2 1984-11-07  validate  NaN  1.0  3.0 2013-01-02\n",
       "3 1985-11-07       win  foo  1.0  3.0 2013-01-02"
      ]
     },
     "execution_count": 129,
     "metadata": {},
     "output_type": "execute_result"
    }
   ],
   "source": [
    "mixedTypes_df"
   ]
  },
  {
   "cell_type": "code",
   "execution_count": 130,
   "metadata": {},
   "outputs": [
    {
     "data": {
      "text/html": [
       "<div>\n",
       "<table border=\"1\" class=\"dataframe\">\n",
       "  <thead>\n",
       "    <tr style=\"text-align: right;\">\n",
       "      <th></th>\n",
       "      <th>2</th>\n",
       "      <th>3</th>\n",
       "      <th>0</th>\n",
       "      <th>C</th>\n",
       "      <th>B</th>\n",
       "    </tr>\n",
       "  </thead>\n",
       "  <tbody>\n",
       "    <tr>\n",
       "      <th>1982-11-07</th>\n",
       "      <td>train</td>\n",
       "      <td>NaN</td>\n",
       "      <td>NaN</td>\n",
       "      <td>3.0</td>\n",
       "      <td>2013-01-02</td>\n",
       "    </tr>\n",
       "    <tr>\n",
       "      <th>1983-11-07</th>\n",
       "      <td>test</td>\n",
       "      <td>foo</td>\n",
       "      <td>1.0</td>\n",
       "      <td>3.0</td>\n",
       "      <td>2013-01-02</td>\n",
       "    </tr>\n",
       "    <tr>\n",
       "      <th>1984-11-07</th>\n",
       "      <td>validate</td>\n",
       "      <td>NaN</td>\n",
       "      <td>1.0</td>\n",
       "      <td>3.0</td>\n",
       "      <td>2013-01-02</td>\n",
       "    </tr>\n",
       "    <tr>\n",
       "      <th>1985-11-07</th>\n",
       "      <td>win</td>\n",
       "      <td>foo</td>\n",
       "      <td>1.0</td>\n",
       "      <td>3.0</td>\n",
       "      <td>2013-01-02</td>\n",
       "    </tr>\n",
       "  </tbody>\n",
       "</table>\n",
       "</div>"
      ],
      "text/plain": [
       "                   2    3    0    C          B\n",
       "1982-11-07     train  NaN  NaN  3.0 2013-01-02\n",
       "1983-11-07      test  foo  1.0  3.0 2013-01-02\n",
       "1984-11-07  validate  NaN  1.0  3.0 2013-01-02\n",
       "1985-11-07       win  foo  1.0  3.0 2013-01-02"
      ]
     },
     "execution_count": 130,
     "metadata": {},
     "output_type": "execute_result"
    }
   ],
   "source": [
    "mixedTypes_df = mixedTypes_df.set_index('index')\n",
    "del mixedTypes_df.index.name\n",
    "mixedTypes_df"
   ]
  },
  {
   "cell_type": "markdown",
   "metadata": {
    "slideshow": {
     "slide_type": "subslide"
    }
   },
   "source": [
    "# Accessing Data part III: open sesame and abracadabra\n",
    "* is kind of special in Pandas"
   ]
  },
  {
   "cell_type": "markdown",
   "metadata": {
    "slideshow": {
     "slide_type": "subslide"
    }
   },
   "source": [
    "# The *.loc*"
   ]
  },
  {
   "cell_type": "code",
   "execution_count": 139,
   "metadata": {},
   "outputs": [
    {
     "data": {
      "text/html": [
       "<div>\n",
       "<table border=\"1\" class=\"dataframe\">\n",
       "  <thead>\n",
       "    <tr style=\"text-align: right;\">\n",
       "      <th></th>\n",
       "      <th>2</th>\n",
       "      <th>3</th>\n",
       "    </tr>\n",
       "  </thead>\n",
       "  <tbody>\n",
       "    <tr>\n",
       "      <th>1982-11-07</th>\n",
       "      <td>train</td>\n",
       "      <td>NaN</td>\n",
       "    </tr>\n",
       "    <tr>\n",
       "      <th>1983-11-07</th>\n",
       "      <td>test</td>\n",
       "      <td>foo</td>\n",
       "    </tr>\n",
       "    <tr>\n",
       "      <th>1984-11-07</th>\n",
       "      <td>validate</td>\n",
       "      <td>NaN</td>\n",
       "    </tr>\n",
       "    <tr>\n",
       "      <th>1985-11-07</th>\n",
       "      <td>win</td>\n",
       "      <td>foo</td>\n",
       "    </tr>\n",
       "  </tbody>\n",
       "</table>\n",
       "</div>"
      ],
      "text/plain": [
       "                   2    3\n",
       "1982-11-07     train  NaN\n",
       "1983-11-07      test  foo\n",
       "1984-11-07  validate  NaN\n",
       "1985-11-07       win  foo"
      ]
     },
     "execution_count": 139,
     "metadata": {},
     "output_type": "execute_result"
    }
   ],
   "source": [
    "mixedTypes_df.loc[:,[\"B\",\"C\"]] # hint: :,\n",
    "mixedTypes_df.loc[bdays[1]:bdays[3],[\"B\",\"C\"]] # hint: bdays[1]:bdays[3]\n",
    "mixedTypes_df.loc[bdays[3],[\"B\",\"C\"]] # hint: bdays[3]\n",
    "mixedTypes_df.loc[:,[2,3]] # hint: \""
   ]
  },
  {
   "cell_type": "markdown",
   "metadata": {
    "slideshow": {
     "slide_type": "subslide"
    }
   },
   "source": [
    "# The *.iloc*\n",
    "* as opposed to the *.loc*"
   ]
  },
  {
   "cell_type": "code",
   "execution_count": 142,
   "metadata": {},
   "outputs": [
    {
     "data": {
      "text/html": [
       "<div>\n",
       "<table border=\"1\" class=\"dataframe\">\n",
       "  <thead>\n",
       "    <tr style=\"text-align: right;\">\n",
       "      <th></th>\n",
       "      <th>2</th>\n",
       "      <th>3</th>\n",
       "      <th>0</th>\n",
       "      <th>C</th>\n",
       "      <th>B</th>\n",
       "    </tr>\n",
       "  </thead>\n",
       "  <tbody>\n",
       "    <tr>\n",
       "      <th>1982-11-07</th>\n",
       "      <td>train</td>\n",
       "      <td>NaN</td>\n",
       "      <td>NaN</td>\n",
       "      <td>3.0</td>\n",
       "      <td>2013-01-02</td>\n",
       "    </tr>\n",
       "    <tr>\n",
       "      <th>1983-11-07</th>\n",
       "      <td>test</td>\n",
       "      <td>foo</td>\n",
       "      <td>1.0</td>\n",
       "      <td>3.0</td>\n",
       "      <td>2013-01-02</td>\n",
       "    </tr>\n",
       "    <tr>\n",
       "      <th>1984-11-07</th>\n",
       "      <td>validate</td>\n",
       "      <td>NaN</td>\n",
       "      <td>1.0</td>\n",
       "      <td>3.0</td>\n",
       "      <td>2013-01-02</td>\n",
       "    </tr>\n",
       "    <tr>\n",
       "      <th>1985-11-07</th>\n",
       "      <td>win</td>\n",
       "      <td>foo</td>\n",
       "      <td>1.0</td>\n",
       "      <td>3.0</td>\n",
       "      <td>2013-01-02</td>\n",
       "    </tr>\n",
       "  </tbody>\n",
       "</table>\n",
       "</div>"
      ],
      "text/plain": [
       "                   2    3    0    C          B\n",
       "1982-11-07     train  NaN  NaN  3.0 2013-01-02\n",
       "1983-11-07      test  foo  1.0  3.0 2013-01-02\n",
       "1984-11-07  validate  NaN  1.0  3.0 2013-01-02\n",
       "1985-11-07       win  foo  1.0  3.0 2013-01-02"
      ]
     },
     "execution_count": 142,
     "metadata": {},
     "output_type": "execute_result"
    }
   ],
   "source": [
    "mixedTypes_df"
   ]
  },
  {
   "cell_type": "code",
   "execution_count": 145,
   "metadata": {},
   "outputs": [
    {
     "data": {
      "text/html": [
       "<div>\n",
       "<table border=\"1\" class=\"dataframe\">\n",
       "  <thead>\n",
       "    <tr style=\"text-align: right;\">\n",
       "      <th></th>\n",
       "      <th>B</th>\n",
       "      <th>C</th>\n",
       "    </tr>\n",
       "  </thead>\n",
       "  <tbody>\n",
       "    <tr>\n",
       "      <th>1982-11-07</th>\n",
       "      <td>2013-01-02</td>\n",
       "      <td>3.0</td>\n",
       "    </tr>\n",
       "    <tr>\n",
       "      <th>1983-11-07</th>\n",
       "      <td>2013-01-02</td>\n",
       "      <td>3.0</td>\n",
       "    </tr>\n",
       "    <tr>\n",
       "      <th>1984-11-07</th>\n",
       "      <td>2013-01-02</td>\n",
       "      <td>3.0</td>\n",
       "    </tr>\n",
       "    <tr>\n",
       "      <th>1985-11-07</th>\n",
       "      <td>2013-01-02</td>\n",
       "      <td>3.0</td>\n",
       "    </tr>\n",
       "  </tbody>\n",
       "</table>\n",
       "</div>"
      ],
      "text/plain": [
       "                    B    C\n",
       "1982-11-07 2013-01-02  3.0\n",
       "1983-11-07 2013-01-02  3.0\n",
       "1984-11-07 2013-01-02  3.0\n",
       "1985-11-07 2013-01-02  3.0"
      ]
     },
     "execution_count": 145,
     "metadata": {},
     "output_type": "execute_result"
    }
   ],
   "source": [
    "mixedTypes_df.iloc[2:4,2:4]\n",
    "mixedTypes_df.iloc[:bdays[3],[\"B\",\"C\"]]"
   ]
  },
  {
   "cell_type": "markdown",
   "metadata": {
    "slideshow": {
     "slide_type": "subslide"
    }
   },
   "source": [
    "# The *.ix*\n",
    "* as opposed(?) to the *.loc* and the *.iloc*"
   ]
  },
  {
   "cell_type": "code",
   "execution_count": null,
   "metadata": {},
   "outputs": [],
   "source": [
    "mixedTypes_df"
   ]
  },
  {
   "cell_type": "code",
   "execution_count": null,
   "metadata": {},
   "outputs": [],
   "source": [
    "print mixedTypes_df.ix[:3,1:3]\n",
    "print \"\"\n",
    "print mixedTypes_df.ix[:bdays[3],1:3]\n",
    "print \"\"\n",
    "print mixedTypes_df.ix[:3,['B','C']]\n",
    "print \"\"\n",
    "print mixedTypes_df.ix[:bdays[3],[2,3]]"
   ]
  },
  {
   "cell_type": "markdown",
   "metadata": {
    "slideshow": {
     "slide_type": "subslide"
    }
   },
   "source": [
    "# The *.at/.iat*?\n",
    "* gets you a single scalar. fast."
   ]
  },
  {
   "cell_type": "markdown",
   "metadata": {
    "slideshow": {
     "slide_type": "subslide"
    }
   },
   "source": [
    "# Pandas talks to all sorts of data types\n",
    "## SQL, csv, .xlsx, pickle, etc.\n",
    "* http://pandas.pydata.org/pandas-docs/stable/io.html\n",
    "* https://docs.python.org/2/library/pickle.html"
   ]
  },
  {
   "cell_type": "code",
   "execution_count": null,
   "metadata": {},
   "outputs": [],
   "source": [
    "Schools_df = pd.read_csv(\"stuff/Schools.csv\")\n",
    "Schools_df.head()"
   ]
  },
  {
   "cell_type": "markdown",
   "metadata": {
    "slideshow": {
     "slide_type": "subslide"
    }
   },
   "source": [
    "# Applying functions to Data\n",
    "## A.K.A., transforming data, doing stuff to data, etc.\n",
    "<br>\n",
    "$$\\LARGE \\text{NumPy Array} \\subset \\text{Pandas Series} \\subset \\text{Pandas DataFrame}$$\n",
    "\n",
    "* http://pandas.pydata.org/pandas-docs/stable/basics.html#descriptive-statistics"
   ]
  },
  {
   "cell_type": "markdown",
   "metadata": {
    "slideshow": {
     "slide_type": "subslide"
    }
   },
   "source": [
    "# Filtering (i.e., row selecting or boolean indexing)"
   ]
  },
  {
   "cell_type": "code",
   "execution_count": null,
   "metadata": {},
   "outputs": [],
   "source": [
    "# & | ~ == != VERSUS and or not equals\n",
    "\n",
    "Schools_df[(Schools_df.schoolState.isin([\"TX\"]) & Schools_df.schoolNick.str.contains(\"Tigers\")) \n",
    "           | ((Schools_df.schoolCity.astype(str) == \"Austin\") & \n",
    "              (Schools_df[\"schoolName\"].astype(str) != \"University of Texas at Austin\")) ]"
   ]
  },
  {
   "cell_type": "code",
   "execution_count": null,
   "metadata": {},
   "outputs": [],
   "source": [
    "kp = (Schools_df.schoolState.isin([\"TX\"]) & Schools_df.schoolNick.str.contains(\"Tigers\")) | \\\n",
    "    ((Schools_df.schoolCity.astype(str) == \"Austin\") & ~(Schools_df.schoolName.astype(str) == \"University of Texas at Austin\"))\n",
    "\n",
    "print Schools_df.ix[kp, [\"schoolName\",\"schoolNick\"]]\n",
    "print \"\"\n",
    "print Schools_df.loc[kp, \"schoolName\":\"schoolNick\"]\n",
    "print \"\"\n",
    "print Schools_df.iloc[kp ,1:2]"
   ]
  },
  {
   "cell_type": "code",
   "execution_count": null,
   "metadata": {},
   "outputs": [],
   "source": [
    "pd.DataFrame(Schools_df[Schools_df.schoolNick.notnull() & Schools_df.schoolState.isin([\"TX\"])].schoolNick.reshape(5,8))"
   ]
  },
  {
   "cell_type": "markdown",
   "metadata": {
    "slideshow": {
     "slide_type": "subslide"
    }
   },
   "source": [
    "# Managing Missing Values\n",
    "* http://pandas.pydata.org/pandas-docs/stable/missing_data.html"
   ]
  },
  {
   "cell_type": "code",
   "execution_count": null,
   "metadata": {},
   "outputs": [],
   "source": [
    "print mixedTypes_df\n",
    "print \"\"\n",
    "print mixedTypes_df.dropna(how='any') # subset=['0'], inplace=True\n",
    "print \"\"\n",
    "print mixedTypes_df"
   ]
  },
  {
   "cell_type": "code",
   "execution_count": null,
   "metadata": {},
   "outputs": [],
   "source": [
    "mixedTypes_df[3]= mixedTypes_df[3].fillna(value=\"I pity the\")\n",
    "print mixedTypes_df"
   ]
  },
  {
   "cell_type": "markdown",
   "metadata": {
    "slideshow": {
     "slide_type": "subslide"
    }
   },
   "source": [
    "# Group By\n",
    "* Aggregate, Apply\n",
    "* http://pandas.pydata.org/pandas-docs/stable/groupby.html"
   ]
  },
  {
   "cell_type": "code",
   "execution_count": null,
   "metadata": {},
   "outputs": [],
   "source": [
    "Schools_df.groupby(['schoolState'])[['schoolID']].count().head()\n",
    "#Schools_df.schoolState.value_counts()"
   ]
  },
  {
   "cell_type": "markdown",
   "metadata": {
    "slideshow": {
     "slide_type": "subslide"
    }
   },
   "source": [
    "# Pivot Tables\n",
    "* http://pandas.pydata.org/pandas-docs/version/0.15.2/reshaping.html#pivot-tables-and-cross-tabulations"
   ]
  },
  {
   "cell_type": "code",
   "execution_count": null,
   "metadata": {},
   "outputs": [],
   "source": [
    "nicknames_states = pd.crosstab(Schools_df.schoolNick, Schools_df.schoolState) \n",
    "nicknames_states.ix[\"Tigers\":\"Vandals\",\"IN\":\"VA\"]"
   ]
  },
  {
   "cell_type": "markdown",
   "metadata": {},
   "source": [
    "# More Aggregations"
   ]
  },
  {
   "cell_type": "code",
   "execution_count": null,
   "metadata": {},
   "outputs": [],
   "source": [
    "nicknames_states['total'] = nicknames_states.T.sum() # axis=1\n",
    "nicknames_states.head()"
   ]
  },
  {
   "cell_type": "code",
   "execution_count": null,
   "metadata": {
    "scrolled": true
   },
   "outputs": [],
   "source": [
    "nicknames_states.loc['total'] = (nicknames_states.sum(axis=0).values)\n",
    "nicknames_states.tail()"
   ]
  },
  {
   "cell_type": "markdown",
   "metadata": {},
   "source": [
    "# Sorting"
   ]
  },
  {
   "cell_type": "code",
   "execution_count": null,
   "metadata": {},
   "outputs": [],
   "source": [
    "nicknames_states.sort_values(axis=0, by=['total'], ascending=False).head()"
   ]
  },
  {
   "cell_type": "code",
   "execution_count": null,
   "metadata": {},
   "outputs": [],
   "source": [
    "posts_df = pd.read_csv('stuff/PostsForAnalysis.txt')\n",
    "users_df = pd.read_csv('stuff/UsersForAnalysis.txt')\n",
    "posts_df.describe()"
   ]
  },
  {
   "cell_type": "markdown",
   "metadata": {},
   "source": [
    "# Discretization"
   ]
  },
  {
   "cell_type": "code",
   "execution_count": null,
   "metadata": {},
   "outputs": [],
   "source": [
    "print posts_df.comments_count.quantile([0, .25, .5, .75, 1])\n",
    "print \"\"\n",
    "print pd.qcut(posts_df.comments_count, [0, .25, .5, .75, 1])[:5]\n",
    "print \"\"\n",
    "print pd.cut(posts_df.comments_count, 5)[:5]"
   ]
  },
  {
   "cell_type": "markdown",
   "metadata": {},
   "source": [
    "# .apply - more Aggregations and Transformations\n",
    "* [Guru God Level Extra Credit] Transform versus Apply -- what's the difference?\n",
    "* see also: df.isnull, df.notnull, pd.isnull, pd.notnull\n",
    "* etc."
   ]
  },
  {
   "cell_type": "code",
   "execution_count": null,
   "metadata": {},
   "outputs": [],
   "source": [
    "# show combining columns \n",
    "((posts_df.comments_count/posts_df.votes_count)*np.log(posts_df.votes_count))[:5]"
   ]
  },
  {
   "cell_type": "code",
   "execution_count": null,
   "metadata": {},
   "outputs": [],
   "source": [
    "users_df.twitter_username.unique()"
   ]
  },
  {
   "cell_type": "code",
   "execution_count": null,
   "metadata": {},
   "outputs": [],
   "source": [
    "users_df.headline.apply(lambda x: \"Boss\" if \"founder\" in str(x).lower() or \"ceo\" in str(x).lower() else \"Nots\")[:5]"
   ]
  },
  {
   "cell_type": "code",
   "execution_count": null,
   "metadata": {},
   "outputs": [],
   "source": [
    "users_df[:10].created_at.apply(pd.to_datetime).apply(lambda x: (x - pd.to_datetime('2013-11-21T23:06:54.070-08:00')) / np.timedelta64(1, 'D')).apply(int)"
   ]
  },
  {
   "cell_type": "code",
   "execution_count": null,
   "metadata": {},
   "outputs": [],
   "source": [
    "from scipy.stats import mode\n",
    "posts_df.ix[:, \"date\":\"time_of_day\"].apply(mode)"
   ]
  },
  {
   "cell_type": "markdown",
   "metadata": {
    "slideshow": {
     "slide_type": "subslide"
    }
   },
   "source": [
    "# Merge \n",
    "* http://pandas.pydata.org/pandas-docs/stable/merging.html\n",
    "* adding *columns*\n",
    "* see also: df.join\n",
    "* Inner, Left, Right, Outer..."
   ]
  },
  {
   "cell_type": "code",
   "execution_count": null,
   "metadata": {},
   "outputs": [],
   "source": [
    "left = pd.DataFrame({'key': ['foo', 'foo', 'bar'], 'lval': [1, 2, 3]})\n",
    "right = pd.DataFrame({'key': ['foo', 'foo','post'], 'rval': [\"A\", \"B\", \"C\"]})\n",
    "\n",
    "print \"X\"\n",
    "print left\n",
    "print \"\\n\" + \"Y\"\n",
    "print right\n",
    "print \"\\n\" + \"X outer join Y\"\n",
    "print pd.merge(left, right, on='key', how='outer')\n",
    "print \"\\n\" + \"X inner join Y\"\n",
    "print pd.merge(left, right, on='key', how='inner')\n",
    "print \"\\n\" + \"X left join Y\"\n",
    "print pd.merge(left, right, on='key', how='left')\n",
    "print \"\\n\" + \"X right join Y\"\n",
    "print pd.merge(left, right, on='key', how='right')"
   ]
  },
  {
   "cell_type": "code",
   "execution_count": null,
   "metadata": {},
   "outputs": [],
   "source": [
    "posts_users_df = pd.merge(posts_df, users_df, on='user_id')\n",
    "posts_users_df.head()"
   ]
  },
  {
   "cell_type": "markdown",
   "metadata": {
    "slideshow": {
     "slide_type": "subslide"
    }
   },
   "source": [
    "# Concatenating\n",
    "* adding *rows*\n",
    "* see also: df.append()"
   ]
  },
  {
   "cell_type": "code",
   "execution_count": null,
   "metadata": {},
   "outputs": [],
   "source": [
    "pd.concat([posts_users_df[:3],posts_users_df[-3:]], axis=0)"
   ]
  },
  {
   "cell_type": "code",
   "execution_count": null,
   "metadata": {},
   "outputs": [],
   "source": [
    "pd.concat([posts_users_df[[\"id\",\"date\",\"day\"]],posts_users_df[[\"headline\",\"twitter_username\",\"website_url\"]]], axis=1).head()"
   ]
  },
  {
   "cell_type": "markdown",
   "metadata": {
    "slideshow": {
     "slide_type": "subslide"
    }
   },
   "source": [
    "# Multi-Indexing\n",
    "* group by structuring"
   ]
  },
  {
   "cell_type": "code",
   "execution_count": null,
   "metadata": {},
   "outputs": [],
   "source": [
    "index = pd.MultiIndex.from_tuples(names=['first', 'second'],\n",
    "            tuples = list(zip(['bar', 'bar', 'baz', 'baz','foo', 'foo', 'qux', 'qux'],\n",
    "                              ['one', 'two', 'one', 'two','one', 'two', 'one', 'two'])))\n",
    "df = pd.DataFrame(np.random.randn(8, 3), index=index, columns=['A', 'B', 'C'])\n",
    "df"
   ]
  },
  {
   "cell_type": "code",
   "execution_count": null,
   "metadata": {},
   "outputs": [],
   "source": [
    "stacked = df.stack()\n",
    "stacked"
   ]
  },
  {
   "cell_type": "code",
   "execution_count": null,
   "metadata": {},
   "outputs": [],
   "source": [
    "stacked.unstack() #.unstack() "
   ]
  },
  {
   "cell_type": "code",
   "execution_count": null,
   "metadata": {},
   "outputs": [],
   "source": [
    "stacked.unstack(0)"
   ]
  },
  {
   "cell_type": "code",
   "execution_count": null,
   "metadata": {},
   "outputs": [],
   "source": [
    "stacked.unstack(0).T"
   ]
  },
  {
   "cell_type": "markdown",
   "metadata": {
    "slideshow": {
     "slide_type": "subslide"
    }
   },
   "source": [
    "# Plotting\n",
    "* for good, not evil\n",
    "* http://pandas.pydata.org/pandas-docs/stable/visualization.html\n",
    "* http://matplotlib.org\n",
    "* http://matplotlib.org/users/style_sheets.html\n",
    "* https://stanford.edu/~mwaskom/software/seaborn/ \n",
    "* http://bokeh.pydata.org/en/latest/"
   ]
  },
  {
   "cell_type": "code",
   "execution_count": null,
   "metadata": {},
   "outputs": [],
   "source": [
    "import matplotlib.pyplot as plt\n",
    "%matplotlib inline"
   ]
  },
  {
   "cell_type": "code",
   "execution_count": null,
   "metadata": {},
   "outputs": [],
   "source": [
    "import pylab\n",
    "pylab.rcParams['figure.figsize']=(6,5)"
   ]
  },
  {
   "cell_type": "code",
   "execution_count": null,
   "metadata": {},
   "outputs": [],
   "source": [
    "import matplotlib\n",
    "matplotlib.style.use('classic')\n",
    "#matplotlib.style.use('ggplot')\n",
    "#print plt.style.available "
   ]
  },
  {
   "cell_type": "code",
   "execution_count": null,
   "metadata": {},
   "outputs": [],
   "source": [
    "zeros_ndarray = np.zeros((3,4))        # Create a matrix of zeros with 3 rows and 4 columns. \n",
    "ones_ndarray = np.ones((10,20))        # Create a matrix of ones with 10 rows and 20 columns.\n",
    "identity_ndarray = np.identity(50)     # Create an identity matrix with 50 rows and 50 columns. \n",
    "random_ndarray = np.random.rand(2, 2)  # Create a 2x2 array of random floats ranging from 0 to 1. \n",
    "range_ndarray = np.arange(0, 20, 0.5)  # Create a numpy array with arguments (start, end, step_size). \n",
    "noise_nparray = np.random.randn(35,6)  # Create a 35x6 array of normally distributed random normal variables\n",
    "\n",
    "noise_df = pd.DataFrame(noise_nparray, index=bdays, columns=list('ABC123'))\n",
    "for i in range(6):\n",
    "    noise_df.iloc[i,i] = np.nan\n",
    "    \n",
    "random_walk_df = noise_df.apply(np.cumsum)\n",
    "standarized_walk_df = (random_walk_df - random_walk_df.mean()) / random_walk_df.std()"
   ]
  },
  {
   "cell_type": "code",
   "execution_count": null,
   "metadata": {},
   "outputs": [],
   "source": [
    "standarized_walk_df = standarized_walk_df.reset_index()\n",
    "print standarized_walk_df\n",
    "del standarized_walk_df['index'] # or df.drop('index', inplace=True, axis=1)\n",
    "\n",
    "standarized_walk_df.plot()"
   ]
  },
  {
   "cell_type": "code",
   "execution_count": null,
   "metadata": {},
   "outputs": [],
   "source": [
    "plt.figure()\n",
    "random_walk_df.hist()\n",
    "plt.tight_layout()"
   ]
  },
  {
   "cell_type": "code",
   "execution_count": null,
   "metadata": {},
   "outputs": [],
   "source": [
    "random_walk_df.plot(kind='box')"
   ]
  },
  {
   "cell_type": "code",
   "execution_count": null,
   "metadata": {},
   "outputs": [],
   "source": [
    "pylab.rcParams['figure.figsize']=(17,5)\n",
    "random_walk_df.plot(kind='bar')\n",
    "pylab.rcParams['figure.figsize']=(7,5)"
   ]
  },
  {
   "cell_type": "code",
   "execution_count": null,
   "metadata": {},
   "outputs": [],
   "source": [
    "from pandas.tools.plotting import scatter_matrix\n",
    "scatter_matrix(random_walk_df, alpha=0.9, figsize=(10, 10), diagonal='kde')\n",
    "pylab.rcParams['figure.figsize']=(6,5)"
   ]
  },
  {
   "cell_type": "markdown",
   "metadata": {
    "slideshow": {
     "slide_type": "subslide"
    }
   },
   "source": [
    "\n",
    "\n",
    "# When will I ever even have to use Pandas? \n",
    "\n",
    "\"Is it when I need a team of hardy animals to pull me across the expansive frozen tundra in a sled?\"\n",
    "\n",
    "<br>\n",
    "# Answer: all the time.\n",
    "So you might as well get good at it sooner rather than later... \n",
    "\n",
    "### Some other \"Intro To Pandas\" notebooks that I like a lot\n",
    "* https://github.com/zipfian/DSI_Lectures/blob/master/pandas/sallamander/numpy_notes.ipynb\n",
    "* https://github.com/zipfian/DSI_Lectures/blob/master/pandas/numpy_pandas.ipynb  \n",
    "* http://pandas.pydata.org/pandas-docs/stable/10min.html\n",
    "\n",
    "### The Official Documentation\n",
    "* http://pandas.pydata.org/pandas-docs/stable/index.html\n",
    "\n",
    "### An In-House Cheat Sheet\n",
    "* https://github.com/zipfian/precourse/tree/master/Chapter_4_Pandas#functions-i-use-all-the-time"
   ]
  }
 ],
 "metadata": {
  "anaconda-cloud": {},
  "celltoolbar": "Slideshow",
  "kernelspec": {
   "display_name": "Python 3",
   "language": "python",
   "name": "python3"
  },
  "language_info": {
   "codemirror_mode": {
    "name": "ipython",
    "version": 3
   },
   "file_extension": ".py",
   "mimetype": "text/x-python",
   "name": "python",
   "nbconvert_exporter": "python",
   "pygments_lexer": "ipython3",
   "version": "3.6.3"
  }
 },
 "nbformat": 4,
 "nbformat_minor": 1
}
