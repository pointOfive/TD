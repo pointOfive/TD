{
 "cells": [
  {
   "cell_type": "code",
   "execution_count": 94,
   "metadata": {},
   "outputs": [],
   "source": [
    "import numpy as np\n",
    "\n",
    "class NflTeam(object):\n",
    "    def __init__(self, name, div, conf, city, wins = 0):\n",
    "        self.wins = wins\n",
    "        self.name = name\n",
    "        self.conf = conf\n",
    "        self.div = div\n",
    "        self.city = city\n",
    "\n",
    "    def __repr__(self):\n",
    "        return self.name\n",
    "        \n",
    "    def my_game_score(self):\n",
    "        return np.random.randint(0,5)*7 + np.random.randint(2,6)*3\n",
    "\n",
    "    def play_game(self,visiting_team):\n",
    "        visiting_team_score = visiting_team.my_game_score()\n",
    "        home_team_score = self.my_game_score()\n",
    "        print visiting_team.name + \": \" + str(visiting_team_score) + \", \" + self.name + \": \" + str(home_team_score)\n",
    "        if visiting_team_score > home_team_score:\n",
    "            visiting_team.wins += 1\n",
    "            return visiting_team.name + \" Wins\"\n",
    "        else:\n",
    "            self.wins += 1\n",
    "            return self.name + \" Wins\"       \n",
    "    \n",
    "    def playoffs(self):\n",
    "        if self.wins >= 9:\n",
    "            return True  \n",
    "        else:\n",
    "            return False"
   ]
  },
  {
   "cell_type": "code",
   "execution_count": 96,
   "metadata": {},
   "outputs": [
    {
     "name": "stdout",
     "output_type": "stream",
     "text": [
      "Cowboys\n"
     ]
    },
    {
     "data": {
      "text/plain": [
       "['__class__',\n",
       " '__delattr__',\n",
       " '__dict__',\n",
       " '__doc__',\n",
       " '__format__',\n",
       " '__getattribute__',\n",
       " '__hash__',\n",
       " '__init__',\n",
       " '__module__',\n",
       " '__new__',\n",
       " '__reduce__',\n",
       " '__reduce_ex__',\n",
       " '__repr__',\n",
       " '__setattr__',\n",
       " '__sizeof__',\n",
       " '__str__',\n",
       " '__subclasshook__',\n",
       " '__weakref__',\n",
       " 'city',\n",
       " 'conf',\n",
       " 'div',\n",
       " 'my_game_score',\n",
       " 'name',\n",
       " 'play_game',\n",
       " 'playoffs',\n",
       " 'wins']"
      ]
     },
     "execution_count": 96,
     "metadata": {},
     "output_type": "execute_result"
    }
   ],
   "source": [
    "cowboys = NflTeam(\"Cowboys\",\"NFC East\",\"NFC\", \"Dallas\") \n",
    "redskins = NflTeam(\"Redskins\",\"NFC East\",\"NFC\", \"Washington DC\") \n",
    "\n",
    "\n",
    "print cowboys\n",
    "\n",
    "dir(cowboys)\n",
    "\n",
    "#getattr(cowboys[10], \"playoffs\")\n"
   ]
  },
  {
   "cell_type": "code",
   "execution_count": 80,
   "metadata": {},
   "outputs": [
    {
     "name": "stdout",
     "output_type": "stream",
     "text": [
      "Redskins: 6, Cowboys: 16\n"
     ]
    },
    {
     "data": {
      "text/plain": [
       "'Cowboys Wins'"
      ]
     },
     "execution_count": 80,
     "metadata": {},
     "output_type": "execute_result"
    }
   ],
   "source": [
    "\n",
    "cowboys.play_game(redskins)"
   ]
  },
  {
   "cell_type": "code",
   "execution_count": 82,
   "metadata": {},
   "outputs": [
    {
     "data": {
      "text/plain": [
       "0"
      ]
     },
     "execution_count": 82,
     "metadata": {},
     "output_type": "execute_result"
    }
   ],
   "source": [
    "redskins.wins"
   ]
  },
  {
   "cell_type": "code",
   "execution_count": 62,
   "metadata": {},
   "outputs": [
    {
     "name": "stdout",
     "output_type": "stream",
     "text": [
      "'boys: 36\n",
      "'skins: 27\n"
     ]
    }
   ],
   "source": [
    "cowboys.playoffs()\n",
    "print \"\\'boys:\", cowboys.my_game_score()\n",
    "print \"\\'skins:\", redskins.my_game_score()"
   ]
  },
  {
   "cell_type": "code",
   "execution_count": 73,
   "metadata": {},
   "outputs": [],
   "source": [
    "def play_game(teamA, teamB):\n",
    "    Ascore = teamA.my_game_score()\n",
    "    Bscore = teamB.my_game_score()\n",
    "    print teamA.name + \": \" + str(Ascore) + \", \" + teamB.name + \": \" + str(Bscore)\n",
    "    if Ascore > Bscore:\n",
    "        teamA.wins += 1\n",
    "        return teamA.name + \" Wins\"\n",
    "    else:\n",
    "        teamB.wins += 1\n",
    "        return teamB.name + \" Wins\"       "
   ]
  },
  {
   "cell_type": "code",
   "execution_count": 75,
   "metadata": {},
   "outputs": [
    {
     "name": "stdout",
     "output_type": "stream",
     "text": [
      "Cowboys: 9, Redskins: 9\n"
     ]
    },
    {
     "data": {
      "text/plain": [
       "'Redskins Wins'"
      ]
     },
     "execution_count": 75,
     "metadata": {},
     "output_type": "execute_result"
    }
   ],
   "source": [
    "play_game(cowboys, redskins)"
   ]
  },
  {
   "cell_type": "code",
   "execution_count": 77,
   "metadata": {},
   "outputs": [
    {
     "data": {
      "text/plain": [
       "0"
      ]
     },
     "execution_count": 77,
     "metadata": {},
     "output_type": "execute_result"
    }
   ],
   "source": [
    "cowboys.wins"
   ]
  },
  {
   "cell_type": "code",
   "execution_count": 52,
   "metadata": {},
   "outputs": [
    {
     "data": {
      "text/plain": [
       "37"
      ]
     },
     "execution_count": 52,
     "metadata": {},
     "output_type": "execute_result"
    }
   ],
   "source": []
  },
  {
   "cell_type": "code",
   "execution_count": null,
   "metadata": {
    "collapsed": true
   },
   "outputs": [],
   "source": []
  },
  {
   "cell_type": "code",
   "execution_count": null,
   "metadata": {
    "collapsed": true
   },
   "outputs": [],
   "source": []
  },
  {
   "cell_type": "code",
   "execution_count": null,
   "metadata": {
    "collapsed": true
   },
   "outputs": [],
   "source": []
  },
  {
   "cell_type": "code",
   "execution_count": null,
   "metadata": {
    "collapsed": true
   },
   "outputs": [],
   "source": []
  },
  {
   "cell_type": "code",
   "execution_count": null,
   "metadata": {
    "collapsed": true
   },
   "outputs": [],
   "source": []
  },
  {
   "cell_type": "code",
   "execution_count": null,
   "metadata": {
    "collapsed": true
   },
   "outputs": [],
   "source": []
  },
  {
   "cell_type": "code",
   "execution_count": null,
   "metadata": {
    "collapsed": true
   },
   "outputs": [],
   "source": []
  },
  {
   "cell_type": "code",
   "execution_count": null,
   "metadata": {
    "collapsed": true
   },
   "outputs": [],
   "source": []
  }
 ],
 "metadata": {
  "celltoolbar": "Slideshow",
  "kernelspec": {
   "display_name": "Python 3",
   "language": "python",
   "name": "python3"
  },
  "language_info": {
   "codemirror_mode": {
    "name": "ipython",
    "version": 3
   },
   "file_extension": ".py",
   "mimetype": "text/x-python",
   "name": "python",
   "nbconvert_exporter": "python",
   "pygments_lexer": "ipython3",
   "version": "3.6.3"
  }
 },
 "nbformat": 4,
 "nbformat_minor": 1
}
