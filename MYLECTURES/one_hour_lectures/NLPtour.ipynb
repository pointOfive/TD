{
 "cells": [
  {
   "cell_type": "markdown",
   "metadata": {},
   "source": [
    "# NLP Whirlwind tour\n",
    "\n",
    "1. History/Computational Linguistics\n",
    "2. Parsing/Information Extraction\n",
    "3. Translation/Speech-to-text\n",
    "4. Machine Learning\n",
    "5. Feature Engineering/NLP\n",
    "6. Normalization/BoW\n",
    "7. Cosine Similarity/Clustering\n",
    "8. Topic Modeling: PCA/NMF/LDA\n",
    "9. Word2Vec/Analogies\n",
    "10. Sentiment Analysis"
   ]
  },
  {
   "cell_type": "markdown",
   "metadata": {},
   "source": [
    "## 1. Computational Linguistics\n",
    "\n",
    "What we today call [*Natural Language Processing* (NLP)](https://en.wikipedia.org/wiki/Natural_language_processing) is a natural outgrowth/development of the field of [*Computational Linguistics*](https://en.wikipedia.org/wiki/Computational_linguistics).  The first problems undertaken by computational linguists were translation ([Russian to English](https://en.wikipedia.org/wiki/Computational_linguistics#Origins)) and [language geneology](https://en.wikipedia.org/wiki/Quantitative_comparative_linguistics).  The latter problem seeks to uncover the relationships between languages based on spelling, vocabulary, and sentence structure [similarity](https://en.wikipedia.org/wiki/Kullback–Leibler_divergence#Relation_to_metrics) [metrics](https://en.wikipedia.org/wiki/Metric). This immediately brings to bear notions (and applications) of [distance matricies](https://en.wikipedia.org/wiki/Distance_matrix), [hierarchical clustering](http://84.89.132.1/~michael/stanford/maeb7.pdf), and [graphs](http://www.springer.com/us/book/9781447165682) -- all of which have well established and storied records of mathematical analysis and methodology research. These analyses attempt to distill a large amount of information (e.g., \"languages\") into a simpler characterization with respect to a particular aspect of the data that is *a priori* unknown (e.g., \"language relatedness\"). Using modern termonology, since these analyses are thus descriptive rather than predictive in nature (i.e., there is really no \"gold standard\" of truth for any predictions to be evaluated against), these methodologies are called [*unsupervised*](https://en.wikipedia.org/wiki/Unsupervised_learning) .\n",
    "\n",
    "\n",
    "\n",
    "<table style=\"width:100%\" align=\"left\">\n",
    "<tr>\n",
    "    <td><img src=\"stuffs/indoeuro_fan.jpg\" alt=\"Drawing\" style=\"width: 600px;\"/></td>\n",
    "    <td>\n",
    "        <table style=\"width:100%\" align=\"center\">\n",
    "            <tr><td><img src=\"stuffs/Distance_matrix.PNG\" alt=\"Drawing\" style=\"width: 200px;\"/></td></tr>\n",
    "            <tr><td><img src=\"stuffs/1905522_orig.jpg\" alt=\"Drawing\" style=\"width: 200px;\"/></td></tr>\n",
    "        </table>\n",
    "    </td>\n",
    "    <td><img src=\"stuffs/F1_large.jpg\" alt=\"Drawing\" style=\"width: 275px;\"/></td> \n",
    "  </tr>\n",
    "\n",
    "</table>  "
   ]
  },
  {
   "cell_type": "markdown",
   "metadata": {},
   "source": [
    "## 2. Parsing and Meaning Representation\n",
    "\n",
    "Since languages (and phrasing and expressions therein) are so [idiosyncratic](https://lingroadshow.com/resources/languages-of-the-world/how-can-languages-differ/), the former problem (of language translation) has proven to be very difficult. In general, simplistic one-to-one translation rules result in poor translations. A classical apporoach to address this  has therefore been to define the *[grammars](http://www.nltk.org/book/ch08.html)* (language grammar rules) that govern a language in order to \n",
    "\n",
    "1. *parse* written text into *language representation structures*  \n",
    "2. define and therefore capture meaning within these structures  \n",
    "3. provide mappings between language expressions at the \"meanings\" level  \n",
    "\n",
    "However, parsing efforts suffer from the unavoidable [ambiguity](http://thepoweroflangaugejt.weebly.com/uploads/2/4/2/8/24287582/7129815_orig.gif) that is a hallmark characteristic of natural language. As a result, capturing meaning from text has thus far been restricted to [specialized applications that limit scope](http://www.nltk.org/book/ch07.html) and leverage specialized domain knowledge in order to tackle extremely specific language parsing tasks. E.g., [IBM Watson](https://www.ibm.com/watson/) seeks to transform unstructured written text (data) into structured (tabular) data that stores entity relationship information identified in the text that can be leveraged to answer questions of interest.  \n",
    "\n",
    "\n",
    "<table style=\"width:100%\" align=\"left\">\n",
    "  <tr>\n",
    "    <td><img src=\"stuffs/ch08-tree-3.png\" alt=\"Drawing\" style=\"width: 600px;\"/></td>\n",
    "    <td><img src=\"stuffs/quant-ambig-2.png\" alt=\"Drawing\" style=\"width: 650px;\"/></td>\n",
    "  </tr>\n",
    "</table>"
   ]
  },
  {
   "cell_type": "markdown",
   "metadata": {},
   "source": [
    "## 3. Translation \n",
    "\n",
    "Since semantics-based comprehension approaches to translation have as of yet not provided a general solution to the tranlation problem, recent work has begun to instead cast the problem within a purely [predicitive](https://en.wikipedia.org/wiki/Predictive_analytics) context.  Indeed, sophisticated cutting-edge [deep neural network methodologies](https://blog.google/products/translate/higher-quality-neural-translations-bunch-more-languages/) have improved the results available in the translation arena.  Again using modern terminology, since in the end these approaches are evaluated based upon prediction performance (i.e., there actually *is* a \"gold standard\" of truth to be evaluated against), these methodologies are called [*supervised*](https://en.wikipedia.org/wiki/Supervised_learning).\n",
    "\n",
    "<table style=\"width:100%\" align=\"left\">\n",
    "<tr><td>\n",
    "<img src=\"stuffs/translate2.jpg\" alt=\"Drawing\" style=\"width: 800px;\"/>\n",
    "</td></tr>\n",
    "</table>"
   ]
  },
  {
   "cell_type": "markdown",
   "metadata": {},
   "source": [
    "### Spoken Language\n",
    "\n",
    "In addition to gleaning structured knowledge from unstructured written text, *speech-to-text* and *text-to-speech* represent cutting-edge challenges with enumerable applications that are currently of great interest and correspondingly receiving considerable attention. We do not examine these domains further here as we restrict our scope to \"text data\" only.\n",
    "\n",
    "<table style=\"width:50%\" align=\"center\">\n",
    "  <tr>\n",
    "    <td><img src=\"stuffs/02globalisation-snapshot.jpg\" alt=\"Drawing\" style=\"width: 600px;\"/></td>\n",
    "  </tr>\n",
    "</table>"
   ]
  },
  {
   "cell_type": "markdown",
   "metadata": {},
   "source": [
    "## 4. Machine Learning \n",
    "\n",
    "The terms *supervised*  and *unsupervised* (which we have already come across) are borrowed from the disipline of [*machine learning*](https://www.quora.com/What-is-the-difference-between-statistics-and-machine-learning). Machine learning is a framework of mathematical and computational methodologies that falls under the umbrella of [*data science*](https://www.galvanize.com/austin/data-science) and is concerned with prediction performance (i.e., *supervised learning*) and reduced representations of data (i.e., *unsupervised learning*). In the former (supervised learning) problem, we are interested in identifying (\"learning\") associations between *features* and *outcomes* that can be leveraged to predict the outcomes based on the features.  Examples of such methodologies include [linear regression](https://www.quora.com/What-is-the-best-book-ever-written-on-regression-modeling-predictive-modeling), [logistic regression](http://thestatsgeek.com/stats-books/logistic-regression-generalized-linear-model-books/), ensemble methods (such as [random forests](https://medium.com/rants-on-machine-learning/the-unreasonable-effectiveness-of-random-forests-f33c3ce28883) and [gradient boosting](http://fastml.com/what-is-better-gradient-boosted-trees-or-random-forest/)), [K-nearest neighbors](http://machinelearningmastery.com/parametric-and-nonparametric-machine-learning-algorithms/) and [support vector machines](https://en.wikipedia.org/wiki/Skynet_(Terminator).  In the latter (unsupervised learning) problem we are interested in uncovering (\"learning\") implicit characterizations of the *features* (only -- not *outcomes*) that are inherant and self-evident in the data itself in a relative sense, as opposed to being a directly measureable variable of the data. Examples of such methodologies include [clustering](https://en.wikipedia.org/wiki/Cluster_analysis) and latent featue extraction/reduced representation techniques (such as [PCA](https://stats.stackexchange.com/questions/2691/making-sense-of-principal-component-analysis-eigenvectors-eigenvalues)/[SVD](https://en.wikipedia.org/wiki/Singular-value_decomposition), [UVD](https://en.wikipedia.org/wiki/Matrix_decomposition)/[NMF](https://en.wikipedia.org/wiki/Non-negative_matrix_factorization), [factor analysis](https://stats.stackexchange.com/questions/212445/pca-vs-fa-vs-ica-for-dimensionality-reduction-in-questionaire-data), and [independent components analysis](https://www.ee.columbia.edu/~dpwe/papers/HyvO99-icatut.pdf)). The data analyzed by machine learning techniques -- features and outcomes -- must be numeric since it is processed using quantitative mathematical and computational frameworks as opposed to qualitative, subjective assessments. \n",
    "\n",
    "**Machine learning is of course a general framework that can be utilized in many -- not just NLP -- contexts. Our focus here, however, will be on contexts where the machine learning machinary can be applied along with NLP to provide a solution to the problem at hand (of which, as we will see, there are many instances).**"
   ]
  },
  {
   "cell_type": "markdown",
   "metadata": {},
   "source": [
    "## 5. Feature Engineering\n",
    "\n",
    "While machine learning methodologies often entail high-powered mathematical and computational sophistication, **the success of machine learning tools always just boils down to the data that powers them**. E.g., the prediction of the learned model is only as good as the quality of the data going in: **\"garbage in, garbage out\"**. Sometimes the features of interest in a given problem are obvious.  But other times they're not. For example, what should the features be in contexts where the data is written language text? **The identification (and construction as necessary) of (hopefully useful) features is called *feature engineering***. \n",
    "\n",
    "*These days, methodologies are so sophisticated that it's not a question of weather associations can be captured -- any associations can be caputured and modeled; instead, it's a question of weather or not the data that exposes the appropriate associations can be identified and collected in sufficient quantities.*"
   ]
  },
  {
   "cell_type": "markdown",
   "metadata": {},
   "source": [
    "### Natural Language Procesing (NLP)\n",
    "\n",
    "**NLP as a term essentially means feature engineering (i.e., creating quantitative analytical representations) for written language text data**, e.g., parsing sentences into grammers quantifying meaning is one path towards feature engineering in a written language context.  **The [NLTK](https://nltk.org/) library provides many methodologies and tools for such syntactic parsing; however, as introduced in the next section, for many questions that arise in language text data contexts other useful *simpler* text featurization techniques have been identified.**  NLTK, and other NLP libraries, such as [scikit-learn](https://scikit-learn.org), [gensim](https://radimrehurek.com/gensim/), [Textacy](http://textacy.readthedocs.io/en/latest/api_reference.html) and [spaCy](https://spacy.io) provide interfaces to such text featurization pipelienes. Further, the latter libraries additionally provide machine learning model fitting methodologies that can be applied to featurized text. \n",
    "\n",
    "<table style=\"width:100%\" align=\"center\">\n",
    "  <tr>\n",
    "    <td><a href=\"https://nltk.org/\"><img src=\"stuffs/NLTK.png\" alt=\"Drawing\" style=\"width: 400px;\"/></a></td>\n",
    "    <td><a href=\"https://scikit-learn.org\"><img src=\"stuffs/365630.png\" alt=\"Drawing\" style=\"width: 600px;\"/></a></td>\n",
    "    <td><a href=\"https://radimrehurek.com/gensim/\"><img src=\"stuffs/gensim.png\" alt=\"Drawing\" style=\"width: 600px;\"/></a><br></td>\n",
    "    <td><h2><a href=\"http://textacy.readthedocs.io/en/latest/api_reference.html\">Textacy</a> built on</h2><a href=\"https://spacy.io\"><img src=\"stuffs/social.jpg\" alt=\"Drawing\" style=\"width: 500px;\"/></a><br><br></td>\n",
    "  </tr>\n",
    "</table>"
   ]
  },
  {
   "cell_type": "markdown",
   "metadata": {},
   "source": [
    "## 6. *Text Normalization* and *Bag of Words (or \"Document Vectorization\")*\n",
    "\n",
    "\n",
    "<table style=\"width:100%\" align=\"left\">\n",
    "  <tr>\n",
    "    <td>\n",
    "    Rather than creating features based on sentence parsing and meaning attribution (which is hard), features can be based on raw vocabularly content (which is easy).  For example, in **understanding how text documents relate to each other**, a seemingly useful feature would measure **how prevalent a particular word is in a document**. Now, not all words are very informative, of course. For example **the word \"the\" probably does not offer much discriminative information** about documents.  And further, **capitalization and conjugation** implies that not all distinctively spelled words should be considered different.  For example, the words \"run\", \"runner\", and \"running\" have a shared discrimintive power relative to the words \"democracy\", \"democratic\", and \"democratization\". Unfortunately, **shared spellings and roots of distinct words convolutes this aggregation process; athough, ([chunking](http://www.nltk.org/book/ch07.html#chunking) and subsequent , [POS tagging](http://www.nltk.org/book/ch05.html) and [entity identification](https://spacy.io/docs/usage/entity-recognition) via semantic parsing can help in removing ambiguity\\***. Chunking itself is the process of partitioning sentences (or other grammer units) based on sentence structure and punctuation, which here serves to highlight and remind us of the necessity of addressing punctuation in NLP context.  \n",
    "    \n",
    "    <br>\n",
    "\n",
    "Determining and executing a course of action based on these considerations is known as *text normalization*. **It is very common to (1) ignore capitalization, (2) remove uninformative words (so-called *stopwords*), and (3) collapse different word variations to a single root via *stemming* or *lemmatization***.  All these procedures serve to reduce the number of so-called *tokens* under consideration which reduces computational demand as well as the eventual number of features under consideration. Stemming transforms words to a \"root\" based on words suffix conjugation rules.  Lemmatization goes further and uses a richer understanding of words and sentence context to reduce words down to their true root, or lemma (law).  While stemming is often sufficient for specific problems, lemmatization is a \"superior\" approach in principal.  Collecting stemmatized or lemmatized \"word\" (or *token*) counts across documents is known as ***Bag-of-Words*; *Binary Bag-of-Words*** is a common alternative which instead indicates a token's presence/absence in a document. **Upweighting uncommon token counts that may be more discrimanative is another very common strategy.  One way to do this is *TF-IDF* in which one weights the *token frequency* according to the *inverse document frequency***. \n",
    "    \n",
    "\n",
    "\n",
    "\n",
    "</td>\n",
    "    <td>\n",
    "\n",
    "\n",
    "<h3>Table of a Common Text Featurization Pipeline</h3>\n",
    "including case irrelevance, stemming, stopword removal, and bag-of-words. A stemming/lemmatization comparision is also given.\n",
    "\n",
    "\n",
    "<table style=\"width:40%\" align=\"left\">\n",
    "<tr>\n",
    "<td>\n",
    "\n",
    "\n",
    "\n",
    "<table style=\"width:20%\" align=\"left\">\n",
    "<tr>\n",
    "    <th>Document:1</th>\n",
    "    <th>Document:2</th>\n",
    "    <th>Stopwords</th>\n",
    "</tr>\n",
    "<tr>\n",
    "    <td>Now is the time for all good men to come to the aid of their party</td>\n",
    "    <td>The quick brown fox jumped over the lazy dog's back</td>\n",
    "    <td>\n",
    "<table style=\"width:100%\" align=\"left\">\n",
    "<tr><td>for</td></tr>\n",
    "<tr><td>is</td></tr>\n",
    "<tr><td>of</td></tr>\n",
    "<tr><td>the</td></tr>\n",
    "<tr><td>to</td></tr>\n",
    "</table>\n",
    "    </td>\n",
    "</tr>\n",
    "\n",
    "\n",
    "<tr><th>Original</th><th>Lemmatized</th><th>Stemmed</th></tr>\n",
    "<tr><td>goose</td><td>goose</td><td>goos</td></tr>\n",
    "<tr><td>geese</td><td>goose</td><td>gees</td></tr>\n",
    "<tr><td>generations</td><td>generation</td><td>gener</td></tr>\n",
    "<tr><td>generals</td><td>general</td><td>gener</td></tr>\n",
    "<tr><td>several</td><td>several</td><td>sever</td></tr>\n",
    "<tr><td>severity</td><td>severe</td><td>sever</td></tr>\n",
    "\n",
    "<tr>There are four subtables here. Left to right, top to bottom, they are (A) two \"documents\", (B) \"Stopwords\" that are ignored, (C) example differences between stemming and lemmatization, and (D) term frequencies for the two documents (counts which happen to be 0/1). </tr>\n",
    "\n",
    "</table>\n",
    "\n",
    "\n",
    "\n",
    "\n",
    "</td>\n",
    "\n",
    "\n",
    "\n",
    "<td>\n",
    "\n",
    "<table style=\"width:100%\" align=\"left\">\n",
    "    <tr><th>Token</th><th>Doc:1</th><th>Doc:2</th></tr>\n",
    "    <tr><td>aid</td><td>0</td><td>1</td></tr>\n",
    "    <tr><td>all</td><td>0</td><td>1</td></tr>\n",
    "    <tr><td>back</td><td>1</td><td>0</td></tr>\n",
    "    <tr><td>brown</td><td>1</td><td>0</td></tr>\n",
    "    <tr><td>come</td><td>0</td><td>1</td></tr>\n",
    "    <tr><td>dog</td><td>1</td><td>0</td></tr>\n",
    "    <tr><td>fox</td><td>1</td><td>0</td></tr>\n",
    "    <tr><td>good</td><td>0</td><td>1</td></tr>\n",
    "    <tr><td>jump</td><td>1</td><td>0</td></tr>\n",
    "    <tr><td>lazy</td><td>1</td><td>0</td></tr>\n",
    "    <tr><td>men</td><td>0</td><td>1</td></tr>\n",
    "    <tr><td>now</td><td>0</td><td>1</td></tr>\n",
    "    <tr><td>over</td><td>1</td><td>0</td></tr>\n",
    "    <tr><td>party</td><td>0</td><td>1</td></tr>\n",
    "    <tr><td>quick</td><td>1</td><td>0</td></tr>\n",
    "    <tr><td>their</td><td>0</td><td>1</td></tr>\n",
    "    <tr><td>time</td><td>0</td><td>1</td></tr>\n",
    "</table>\n",
    "\n",
    "\n",
    "\n",
    "\n",
    "\n",
    "     </td>\n",
    "  </tr>\n",
    "</table>\n",
    "</table>\n",
    "\n",
    "<br>\n",
    "\\*The [spaCy](https://spacy.io/docs/usage/pos-tagging) library is particularly oriented towards effectively leveraging this capability. Relevantly, these steps ([chunking](http://www.nltk.org/book/ch07.html#chunking), [POS tagging](http://www.nltk.org/book/ch05.html), and [entity identification](https://spacy.io/docs/usage/entity-recognition)) can themselves can be addressed using either [rule-based or machine learning methologies](http://www.nltk.org/book/ch06.html#part-of-speech-tagging), but we do not examine these problems further here.  \n",
    "\n",
    "\n",
    "#### Remember that [nltk](https://nltk.org/), [scikit-learn](https://scikit-learn.org), [gensim](https://radimrehurek.com/gensim/), [Textacy](http://textacy.readthedocs.io/en/latest/api_reference.html) and [spaCy](https://spacy.io) provide interfaces/tools to accomplish text normalization and featurization tasks.  \n",
    "\n",
    "<br>"
   ]
  },
  {
   "cell_type": "markdown",
   "metadata": {},
   "source": [
    "## 7. Document Similarity (for clustering and nearest neighbor appliations)\n",
    "\n",
    "Vectorizing documents (e.g., via TF-IDF) permits the application of distance measures between documents. The idea is to create a featurization process that produces similar vectors $A$ and $B$ for \"similar\" documents.  The distance measure often used is *cosine similarity* -- the cosine of the angle $\\theta$ between the vectors:\n",
    "$$Cos(\\theta) = \\frac{A\\cdot B}{||A||_2 ||B||_2}$$\n",
    "\n",
    "Even though the dimension of the document vector space may be large (e.g., as determined by the size -- the number of unique tokens -- of the *vocabulary*), comparing *normalized* vectors, e.g. via the L1 (restricting the vector to the simplex) or L2 norm (as used in cosine similarity), restricts the space to a manifold in which the notion of \"neighborhood\" is somewhat robust to the *curse of dimensionality*.  Using meaningful and robust distance measures (such as cosine similarity) between documents enables the applicability of distance based machine learning methodologies such as hierarchical clustering and K-nearest neighbor prediction.   "
   ]
  },
  {
   "cell_type": "code",
   "execution_count": 1,
   "metadata": {
    "collapsed": true
   },
   "outputs": [],
   "source": [
    "import numpy as np\n",
    "import pandas as pd\n",
    "import pickle\n",
    "import codecs\n",
    "\n",
    "from nltk.stem.wordnet import WordNetLemmatizer\n",
    "from nltk.stem.porter import PorterStemmer\n",
    "import nltk\n",
    "\n",
    "from sklearn.feature_extraction.text import CountVectorizer\n",
    "from sklearn.feature_extraction.text import TfidfTransformer"
   ]
  },
  {
   "cell_type": "code",
   "execution_count": 3,
   "metadata": {
    "collapsed": true
   },
   "outputs": [],
   "source": [
    "rooter_method = \"stem\"\n",
    "stemmer = PorterStemmer() \n",
    "rooter_method = \"lemmatize\"\n",
    "lemmatizer = WordNetLemmatizer()  \n",
    "\n",
    "def root_tokens(tokens, rooter=WordNetLemmatizer(), rooter_method=\"lemmatize\"):\n",
    "    rooted = []\n",
    "    for item in tokens:\n",
    "        rooted.append(getattr(rooter, rooter_method)(item))\n",
    "    return rooted\n",
    "\n",
    "def tokenize(text):\n",
    "    tokens = nltk.word_tokenize(text)\n",
    "    roots = root_tokens(tokens)\n",
    "    return roots"
   ]
  },
  {
   "cell_type": "code",
   "execution_count": 4,
   "metadata": {
    "collapsed": true
   },
   "outputs": [],
   "source": [
    "jokes = pickle.load(open('data/galvanize-jester-dataset-case-study/jester_jokes.pkl'))"
   ]
  },
  {
   "cell_type": "code",
   "execution_count": 5,
   "metadata": {
    "collapsed": false
   },
   "outputs": [],
   "source": [
    "count_vect = CountVectorizer(tokenizer=tokenize, stop_words='english')\n",
    "X_train_counts = count_vect.fit_transform(jokes)\n",
    "\n",
    "tfidf_transformer = TfidfTransformer().fit(X_train_counts)\n",
    "X_train_tfidf = tfidf_transformer.transform(X_train_counts)\n",
    "cosine_similarity = X_train_tfidf.dot(X_train_tfidf.T)\n",
    "cosine_similarity = cosine_similarity.todense()\n",
    "np.fill_diagonal(cosine_similarity,0)"
   ]
  },
  {
   "cell_type": "code",
   "execution_count": 6,
   "metadata": {
    "collapsed": true
   },
   "outputs": [],
   "source": [
    "most_similar = cosine_similarity.argmax(axis=0).tolist()[0]\n",
    "most_similar_score = cosine_similarity.max(axis=0).tolist()[0]"
   ]
  },
  {
   "cell_type": "code",
   "execution_count": 7,
   "metadata": {
    "collapsed": false
   },
   "outputs": [
    {
     "name": "stdout",
     "output_type": "stream",
     "text": [
      "\n",
      "<><><><><><><><><><><><><><><><><><><><><><><><><><><><><><><>\n",
      "\n",
      "How many feminists does it take to screw in a light bulb?\n",
      "\n",
      "That's not funny.\n",
      "\n",
      "---------------------- IS 0.56 SIMILAR TO --------------------\n",
      "\n",
      "How many men does it take to screw in a light bulb?\n",
      "\n",
      "One. Men will screw anything.\n",
      "\n",
      "<><><><><><><><><><><><><><><><><><><><><><><><><><><><><><><>\n",
      "\n",
      "\n",
      "A man piloting a hot air balloon discovers he has wandered off course and is hopelessly lost. He descends to a lower altitude and locates a man down on the ground. He lowers the balloon further and shouts, \"Excuse me, can you tell me where I am?\"\n",
      "\n",
      "The man below says, \"Yes, you're in a hot air balloon, about 30 feet above this field.\"\n",
      "\n",
      "\"You must work in Information Technology,\" says the balloonist.\n",
      "\n",
      "\"Yes I do,\" replies the man. \"And how did you know that?\"\n",
      "\n",
      "\"Well,\" says the balloonist, \"what you told me is technically correct, but of no use to anyone.\"\n",
      "\n",
      "The man below says, \"You must work in management.\"\n",
      "\n",
      "\"I do,\" replies the balloonist, \"how did you know?\"\n",
      "\n",
      "\"Well,\" says the man, \"you don't know where you are, or where you're going, but you expect my immediate help. You're in the same position you were before we met, but now it's my fault!\"\n",
      "\n",
      "---------------------- IS 0.65 SIMILAR TO --------------------\n",
      "\n",
      "A man in a hot air balloon realized he was lost. He reduced altitude and spotted a woman below.\n",
      "\n",
      "He descended a bit more and shouted, \"Excuse me, can you help me? I promised a friend I would meet him an hour ago, but I don't know where I am.\"\n",
      "\n",
      "The woman below replied, \"You are in a hot air balloon hovering approximately 30 feet above the ground. You are between 40 and 41 degrees north latitude and between 59 and 60 degrees west longitude.\"\n",
      "\n",
      "\"You must be an engineer,\" said the balloonist.\n",
      "\n",
      "\"I am,\" replied the woman. \"How did you know?\"\n",
      "\n",
      "\"Well,\" answered the balloonist, \"everything you told me is technically correct, but I have no idea what to make of your information, and the fact is, I am still lost. Frankly, you've not been much help so far.\"\n",
      "\n",
      "The woman below responded, \"You must be in management.\"\n",
      "\n",
      "\"I am,\" replied the balloonist, \"but how did you know?\" \n",
      "\n",
      "\"Well,\" said the woman, \"you don't know where you are or where you are going. You have risen to where you are due to a large quantity of hot air. You made a promise that you have no idea how to keep, and you expect people beneath you to solve your problems. The fact is, you are in exactly the same position you were in before we met, but now, somehow, it's my fault!\"\n",
      "\n",
      "<><><><><><><><><><><><><><><><><><><><><><><><><><><><><><><>\n",
      "\n",
      "\n",
      "The new employee stood before the paper shredder looking confused.\n",
      "\n",
      "\"Need some help?\" a secretary asked.\n",
      "\n",
      "\"Yes,\" he replied. \"How does this thing work?\"\n",
      "\n",
      "\"Simple,\" she said, taking the fat report from his hand and feeding it into the shredder.\n",
      "\n",
      "\"Thanks, but where do the copies come out?\"\n",
      "\n",
      "---------------------- IS 0.98 SIMILAR TO --------------------\n",
      "\n",
      "The new employee stood before the paper shredder looking confused. \"Need some help?\" a secretary, walking by, asked. \"Yes,\" he replied, \"how does this thing work?\" \"Simple,\" she said, taking the fat report from his hand and feeding it into the shredder.\n",
      "\n",
      "\"Thanks, but where do the copies come out?\"\n",
      "\n",
      "<><><><><><><><><><><><><><><><><><><><><><><><><><><><><><><>\n",
      "\n",
      "\n"
     ]
    }
   ],
   "source": [
    "compared = []\n",
    "print \"\\n<><><><><><><><><><><><><><><><><><><><><><><><><><><><><><><>\\n\"\n",
    "for i in range(150):\n",
    "    if most_similar_score[i] > .55 and set((i,most_similar[i])) not in compared:\n",
    "        compared.append(set((i,most_similar[i])))\n",
    "        print jokes[i] + \"\\n\"\n",
    "        print \"---------------------- IS \" + str(round(most_similar_score[i], 2)) + \" SIMILAR TO --------------------\\n\"\n",
    "        print jokes[most_similar[i]] + \"\\n\\n<><><><><><><><><><><><><><><><><><><><><><><><><><><><><><><>\\n\\n\""
   ]
  },
  {
   "cell_type": "markdown",
   "metadata": {},
   "source": [
    "## 8. Topic Modeling"
   ]
  },
  {
   "cell_type": "markdown",
   "metadata": {},
   "source": [
    "### Text"
   ]
  },
  {
   "cell_type": "code",
   "execution_count": 8,
   "metadata": {
    "collapsed": true
   },
   "outputs": [],
   "source": [
    "import textacy\n",
    "\n",
    "from scipy.cluster import hierarchy as hc\n",
    "import matplotlib.pyplot as plt\n",
    "%matplotlib inline"
   ]
  },
  {
   "cell_type": "code",
   "execution_count": 9,
   "metadata": {
    "collapsed": false
   },
   "outputs": [],
   "source": [
    "path = 'data/employee_amend_data/exhibits'\n",
    "amendment_name = [f.replace(\"\\n\",\"\") for f in open(path+'/data_list.txt')]\n",
    "amendment_text = []\n",
    "for f in amendment_name:\n",
    "    tmp = \"\".join(open(path+f).readlines())\n",
    "    amendment_text.append(\"\".join(c for c in tmp if ord(c) < 128).replace(\"\\n\",\" \"))  \n",
    "amendment_name = [\"_\".join(f.replace(\"/\",\"_\").split(\"_\")[2:4]) for f in amendment_name]"
   ]
  },
  {
   "cell_type": "code",
   "execution_count": 10,
   "metadata": {
    "collapsed": false
   },
   "outputs": [
    {
     "data": {
      "text/plain": [
       "' ex-10.18 2 dex1018.htm employment agreement - james e. fickenscher  employment agreement - james e. fickenscher exhibit 10.18  amended and restated employment agreement  this amended and restated employment agreement (this agreement) is entered into this 23rd day of december, 2010 by and between au'"
      ]
     },
     "execution_count": 10,
     "metadata": {},
     "output_type": "execute_result"
    }
   ],
   "source": [
    "amendment_text[0][0:300]"
   ]
  },
  {
   "cell_type": "markdown",
   "metadata": {},
   "source": [
    "### Preprocess"
   ]
  },
  {
   "cell_type": "code",
   "execution_count": 11,
   "metadata": {
    "collapsed": false
   },
   "outputs": [],
   "source": [
    "amendment_text = [unicode(doc, \"utf-8\") for doc in amendment_text]\n",
    "amendment_text = [textacy.preprocess.preprocess_text(doc, no_punct=True, fix_unicode=True, transliterate=True, \n",
    "                  no_urls=True, no_emails=True, no_phone_numbers=True, no_numbers=True, \n",
    "                  no_currency_symbols=True, no_contractions=True, no_accents=True) \n",
    "                  for doc in amendment_text]"
   ]
  },
  {
   "cell_type": "code",
   "execution_count": 12,
   "metadata": {
    "collapsed": false
   },
   "outputs": [
    {
     "data": {
      "text/plain": [
       "u'exNUMBER NUMBER dex1018htm employment agreement james e fickenscher employment agreement james e fickenscher exhibit NUMBER amended and restated employment agreement this amended and restated employment agreement this agreement is entered into this 23rd day of december NUMBER by and between auxilium'"
      ]
     },
     "execution_count": 12,
     "metadata": {},
     "output_type": "execute_result"
    }
   ],
   "source": [
    "amendment_text[0][0:300]"
   ]
  },
  {
   "cell_type": "markdown",
   "metadata": {},
   "source": [
    "### Lemmatize"
   ]
  },
  {
   "cell_type": "code",
   "execution_count": 13,
   "metadata": {
    "collapsed": false
   },
   "outputs": [],
   "source": [
    "amendment_corpus = textacy.Corpus(u'en', texts=amendment_text, metadatas=amendment_name)\n",
    "amendment_text = [ \" \".join(doc.to_terms_list(ngrams=1, normalize='lemma', named_entities=True, as_strings=True)) \n",
    "                            for doc in amendment_corpus]"
   ]
  },
  {
   "cell_type": "code",
   "execution_count": 14,
   "metadata": {
    "collapsed": false
   },
   "outputs": [
    {
     "data": {
      "text/plain": [
       "u'number 23rd day of december number section 280 g of the internal revenue code of number number third one one numberyear section29 number number number annual usdnumber annual fiscal year fiscal year number number less than five numberweeks number number anumber annual annual two fiscal year fiscal y'"
      ]
     },
     "execution_count": 14,
     "metadata": {},
     "output_type": "execute_result"
    }
   ],
   "source": [
    "amendment_text[0][0:300]"
   ]
  },
  {
   "cell_type": "markdown",
   "metadata": {},
   "source": [
    "### Vectorize"
   ]
  },
  {
   "cell_type": "code",
   "execution_count": 15,
   "metadata": {
    "collapsed": false
   },
   "outputs": [
    {
     "name": "stdout",
     "output_type": "stream",
     "text": [
      "(104, 4430)\n"
     ]
    }
   ],
   "source": [
    "count_vect = CountVectorizer(tokenizer=tokenize, stop_words='english')\n",
    "amendment_BoW = count_vect.fit_transform(amendment_text)\n",
    "print amendment_BoW.shape\n",
    "\n",
    "tfidf_transformer = TfidfTransformer().fit(amendment_BoW)\n",
    "amendment_tfidf = tfidf_transformer.transform(amendment_BoW)\n",
    "amendment_cosine_similarity = amendment_tfidf.dot(amendment_tfidf.T)\n",
    "amendment_cosine_similarity = amendment_cosine_similarity.todense()\n",
    "np.fill_diagonal(amendment_cosine_similarity, 1)"
   ]
  },
  {
   "cell_type": "code",
   "execution_count": 16,
   "metadata": {
    "collapsed": false
   },
   "outputs": [],
   "source": [
    "amendment_terms_lists = (doc.to_terms_list(ngrams=1, normalize='lemma', named_entities=True, as_strings=True) \n",
    "                         for doc in amendment_corpus)\n",
    "amendment_term_matrix, amendment_id2term = textacy.vsm.doc_term_matrix(amendment_terms_lists, weighting='tfidf', \n",
    "                                                                       normalize=True, smooth_idf=True, min_df=3, \n",
    "                                                                       max_df=0.95, max_n_terms=100000)"
   ]
  },
  {
   "cell_type": "markdown",
   "metadata": {},
   "source": [
    "### Hierarchical Clustering (cosine similarity)"
   ]
  },
  {
   "cell_type": "code",
   "execution_count": 17,
   "metadata": {
    "collapsed": false
   },
   "outputs": [
    {
     "data": {
      "image/png": "[encoded data removed]",
      "text/plain": [
       "<matplotlib.figure.Figure at 0x130c29ed0>"
      ]
     },
     "metadata": {},
     "output_type": "display_data"
    }
   ],
   "source": [
    "amendment_dists = hc.distance.squareform(1-amendment_cosine_similarity)\n",
    "z = hc.linkage(amendment_dists, method='average')\n",
    "plt.figure(figsize=[18,6])\n",
    "dendrogram = hc.dendrogram(z, labels=amendment_name, leaf_font_size=10)\n",
    "plt.show()"
   ]
  },
  {
   "cell_type": "markdown",
   "metadata": {},
   "source": [
    "### Bag of Words Principal Components Analysis (PCA)"
   ]
  },
  {
   "cell_type": "code",
   "execution_count": 18,
   "metadata": {
    "collapsed": false
   },
   "outputs": [
    {
     "data": {
      "image/png": "[encoded data removed]",
      "text/plain": [
       "<matplotlib.figure.Figure at 0x12da56ad0>"
      ]
     },
     "metadata": {},
     "output_type": "display_data"
    },
    {
     "data": {
      "image/png": "[encoded data removed]",
      "text/plain": [
       "<matplotlib.figure.Figure at 0x12da56c50>"
      ]
     },
     "metadata": {},
     "output_type": "display_data"
    }
   ],
   "source": [
    "U, s, VT = np.linalg.svd(amendment_tfidf.todense())\n",
    "\n",
    "plt.figure(figsize=[18, 2])\n",
    "pc_a=0\n",
    "pc_b=1\n",
    "plt.plot(s.cumsum()/s.cumsum()[-1])\n",
    "\n",
    "plt.figure(figsize=[18, 8])\n",
    "plt.plot(U[:, pc_a], U[:, pc_b], color='w')\n",
    "colr = ['red']*72 + ['blue']*32\n",
    "for i in range(104):\n",
    "    plt.text(U[i, pc_a], U[i, pc_b], amendment_name[i], color = colr[i])"
   ]
  },
  {
   "cell_type": "markdown",
   "metadata": {},
   "source": [
    "### Bag of Words Non-negative Matrix Factorization (NMF)"
   ]
  },
  {
   "cell_type": "code",
   "execution_count": 19,
   "metadata": {
    "collapsed": false
   },
   "outputs": [
    {
     "data": {
      "text/plain": [
       "<matplotlib.axes._subplots.AxesSubplot at 0x11f53fa90>"
      ]
     },
     "execution_count": 19,
     "metadata": {},
     "output_type": "execute_result"
    },
    {
     "data": {
      "image/png": "[encoded data removed]",
      "text/plain": [
       "<matplotlib.figure.Figure at 0x141c11ad0>"
      ]
     },
     "metadata": {},
     "output_type": "display_data"
    }
   ],
   "source": [
    "model = textacy.tm.TopicModel('nmf', n_topics=20)\n",
    "model.fit(amendment_term_matrix)\n",
    "model.termite_plot(amendment_term_matrix, amendment_id2term, topics=-1,  n_terms=10, sort_terms_by='seriation')"
   ]
  },
  {
   "cell_type": "markdown",
   "metadata": {},
   "source": [
    "### Bag of Words Latent Dirichlet Allocation (LDA) "
   ]
  },
  {
   "cell_type": "code",
   "execution_count": 20,
   "metadata": {
    "collapsed": true
   },
   "outputs": [],
   "source": [
    "from gensim.corpora import Dictionary, MmCorpus\n",
    "from gensim.models.ldamulticore import LdaMulticore\n",
    "\n",
    "from gensim.models import Phrases\n",
    "from gensim.models.word2vec import LineSentence\n",
    "\n",
    "#pip install pyldavis\n",
    "import pyLDAvis\n",
    "import pyLDAvis.gensim\n",
    "import warnings"
   ]
  },
  {
   "cell_type": "code",
   "execution_count": 21,
   "metadata": {
    "collapsed": false
   },
   "outputs": [],
   "source": [
    "f = open('amendment_tokens.txt', 'w+')\n",
    "for d in amendment_text:\n",
    "    f.write(d + \"\\n\")\n",
    "f.close()"
   ]
  },
  {
   "cell_type": "code",
   "execution_count": 22,
   "metadata": {
    "collapsed": false
   },
   "outputs": [],
   "source": [
    "amendment_dictionary = Dictionary(LineSentence(\"amendment_tokens.txt\"))\n",
    "amendment_dictionary.filter_extremes(no_below=10, no_above=.4)\n",
    "amendment_dictionary.filter_n_most_frequent(300)\n",
    "amendment_dictionary.compactify()\n",
    "#amendment_dictionary.save(\"amendment_dictionary.txt\")\n",
    "#amendment_dictionary = Dictionary.load(\"amendment_dictionary.txt\")"
   ]
  },
  {
   "cell_type": "code",
   "execution_count": 23,
   "metadata": {
    "collapsed": false
   },
   "outputs": [
    {
     "data": {
      "text/html": [
       "\n",
       "<link rel=\"stylesheet\" type=\"text/css\" href=\"https://cdn.rawgit.com/bmabey/pyLDAvis/files/ldavis.v1.0.0.css\">\n",
       "\n",
       "\n",
       "<div id=\"ldavis_el372664739318096121911808\"></div>\n",
       "<script type=\"text/javascript\">\n",
       "\n",
       "var ldavis_el372664739318096121911808_data = {\"plot.opts\": {\"xlab\": \"PC1\", \"ylab\": \"PC2\"}, \"topic.order\": [2, 1, 3, 4, 6, 5], \"token.table\": {\"Topic\": [1, 2, 3, 4, 6, 1, 2, 3, 4, 5, 6, 1, 2, 3, 4, 6, 1, 2, 3, 4, 5, 6, 1, 2, 3, 4, 5, 6, 1, 2, 3, 4, 5, 6, 1, 2, 3, 4, 5, 6, 1, 2, 3, 4, 5, 6, 1, 2, 3, 4, 5, 6, 1, 2, 3, 4, 5, 1, 2, 3, 4, 5, 6, 1, 2, 3, 4, 5, 6, 1, 2, 3, 4, 5, 6, 1, 2, 3, 4, 5, 6, 1, 2, 3, 4, 5, 6, 1, 2, 3, 4, 5, 6, 1, 2, 3, 4, 5, 6, 1, 2, 3, 4, 5, 6, 1, 2, 3, 4, 5, 6, 1, 2, 3, 4, 5, 6, 1, 2, 3, 4, 5, 6, 1, 2, 3, 4, 5, 6, 1, 2, 3, 4, 6, 1, 2, 3, 4, 5, 6, 1, 2, 3, 4, 5, 6, 1, 2, 3, 4, 5, 6, 1, 2, 3, 4, 5, 6, 1, 2, 3, 4, 5, 6, 1, 2, 3, 4, 5, 6, 1, 2, 3, 4, 5, 6, 1, 2, 3, 4, 5, 6, 1, 2, 3, 4, 5, 6, 1, 2, 3, 4, 5, 6, 1, 2, 3, 4, 5, 6, 1, 2, 3, 4, 5, 6, 1, 2, 3, 4, 5, 6, 1, 2, 3, 4, 5, 6, 1, 2, 3, 4, 5, 6, 1, 2, 3, 4, 6, 1, 2, 3, 4, 5, 6, 1, 2, 3, 4, 5, 6, 1, 2, 3, 4, 5, 6, 1, 2, 3, 4, 5, 6, 1, 2, 3, 4, 5, 6, 1, 2, 3, 4, 5, 6, 1, 2, 3, 4, 6, 1, 2, 3, 4, 5, 6, 1, 2, 3, 4, 5, 6, 1, 2, 3, 4, 5, 6, 1, 2, 3, 4, 6, 1, 2, 3, 4, 5, 6, 1, 2, 3, 4, 5, 6, 2, 3, 4, 5, 6, 1, 2, 3, 4, 5, 6, 1, 2, 3, 4, 5, 6, 1, 2, 3, 4, 5, 6, 1, 2, 3, 4, 5, 1, 2, 3, 4, 5, 6, 1, 2, 3, 4, 5, 6, 1, 2, 3, 4, 5, 6, 1, 2, 3, 4, 5, 6, 1, 2, 3, 4, 5, 6, 1, 2, 3, 4, 5, 6, 1, 2, 3, 4, 6, 1, 2, 3, 4, 5, 6, 1, 2, 3, 4, 5, 6, 1, 2, 3, 4, 5, 6, 1, 2, 3, 4, 5, 6, 1, 2, 3, 4, 5, 1, 2, 3, 4, 5, 6, 1, 2, 3, 4, 5, 6, 1, 2, 3, 4, 5, 6, 1, 2, 3, 4, 5, 6, 1, 2, 3, 4, 5, 6, 1, 2, 3, 4, 6, 1, 2, 3, 4, 5, 6, 1, 2, 3, 4, 5, 6, 1, 2, 3, 4, 5, 6, 1, 2, 3, 4, 5, 6, 1, 2, 3, 4, 5, 6, 1, 2, 3, 4, 5, 6, 1, 2, 3, 4, 5, 6, 1, 2, 3, 4, 5, 6, 1, 2, 3, 4, 5, 6, 1, 2, 3, 4, 5, 6, 1, 2, 3, 4, 5, 6, 1, 2, 3, 4, 5, 6, 1, 2, 3, 4, 6, 1, 2, 3, 4, 5, 6, 1, 2, 3, 4, 5, 6, 1, 2, 3, 4, 5, 6, 1, 2, 3, 4, 5, 6, 1, 2, 3, 4, 5, 6, 1, 2, 3, 4, 5, 6, 1, 2, 3, 4, 5, 6, 1, 2, 3, 4, 5, 6, 1, 2, 3, 4, 6, 1, 2, 3, 4, 5, 6, 1, 2, 3, 4, 5, 6, 1, 2, 3, 4, 5, 6, 1, 2, 3, 4, 5, 6, 1, 2, 3, 4, 5, 6, 1, 2, 3, 4, 5, 6, 1, 2, 3, 4, 5, 6, 1, 2, 3, 4, 5, 6, 1, 2, 3, 4, 5, 1, 2, 3, 4, 5, 6, 1, 2, 3, 4, 5, 6, 1, 2, 3, 4, 5, 6, 1, 2, 3, 4, 5, 6, 1, 2, 3, 4, 5, 6, 1, 2, 3, 4, 5, 6, 1, 2, 3, 4, 5, 1, 2, 3, 4, 5, 1, 2, 3, 4, 5, 6, 1, 2, 3, 4, 5, 6, 1, 2, 3, 4, 5, 6, 1, 2, 3, 4, 5, 6, 1, 2, 3, 4, 5, 6, 1, 2, 3, 4, 5, 6, 1, 2, 3, 4, 5, 1, 2, 3, 4, 5, 6, 1, 2, 3, 4, 5, 6, 1, 2, 3, 4, 5, 6, 1, 2, 3, 1, 2, 3, 4, 5, 6, 1, 2, 3, 4, 5, 6, 1, 2, 3, 4, 5, 6, 1, 2, 3, 4, 5, 6, 1, 2, 3, 4, 5, 6, 1, 2, 3, 4, 5, 6, 1, 2, 3, 4, 5, 6, 1, 2, 3, 4, 5, 6, 1, 2, 3, 4, 5, 6, 1, 2, 3, 4, 5, 6, 1, 2, 3, 4, 5, 6, 1, 2, 3, 4, 5, 6, 1, 2, 3, 4, 5, 6, 1, 2, 3, 4, 5, 6, 1, 2, 3, 4, 5, 6, 1, 2, 3, 4, 5, 6, 1, 2, 3, 4, 5, 6, 1, 2, 3, 4, 5, 6, 1, 2, 3, 4, 6, 1, 2, 3, 4, 5, 6, 1, 2, 3, 4, 5, 6, 1, 2, 3, 4, 5, 6, 1, 2, 3, 4, 5, 6, 1, 2, 3, 4, 5, 6, 1, 2, 3, 4, 5, 6, 1, 2, 3, 4, 5, 6, 1, 2, 3, 4, 5, 6, 1, 2, 3, 4, 5, 6, 1, 2, 3, 4, 5, 6, 1, 2, 3, 4, 5, 6, 1, 2, 3, 4, 5, 6, 1, 2, 3, 4, 5, 6, 1, 2, 3, 4, 5, 6, 1, 2, 3, 4, 5, 6, 1, 2, 3, 4, 5, 6, 1, 2, 3, 4, 5, 6, 1, 2, 3, 4, 5, 6, 1, 2, 3, 4, 5, 6, 1, 2, 3, 4, 5, 6, 1, 2, 3, 4, 5, 6, 1, 2, 3, 4, 5, 6, 1, 2, 3, 4, 5, 6, 1, 2, 3, 4, 5, 6, 1, 2, 3, 4, 6, 1, 2, 3, 4, 5, 6, 1, 2, 3, 4, 5, 6, 1, 2, 3, 4, 5, 6, 1, 2, 3, 4, 5, 6, 1, 2, 3, 4, 5, 6, 1, 2, 3, 4, 5, 6, 1, 2, 3, 4, 5, 6, 1, 2, 3, 4, 5, 6, 1, 2, 3, 4, 5, 6, 1, 2, 3, 4, 5, 6, 1, 2, 3, 4, 5, 6, 1, 2, 3, 4, 5, 6, 1, 2, 3, 4, 5, 6, 1, 2, 3, 4, 5, 6, 1, 2, 3, 4, 5, 6, 1, 2, 3, 4, 5, 6, 1, 2, 3, 4, 5, 6, 1, 2, 3, 4, 5, 6, 1, 2, 3, 4, 5, 6, 1, 2, 3, 4, 5, 6, 1, 2, 3, 4, 5, 6, 1, 2, 3, 4, 5, 6, 1, 2, 3, 4, 5, 6, 1, 2, 3, 4, 5, 6, 1, 2, 3, 4, 6, 1, 2, 3, 4, 5, 6, 1, 2, 3, 4, 5, 6, 1, 2, 3, 4, 5, 6, 1, 2, 3, 4, 5, 6, 1, 2, 3, 4, 5, 6, 1, 2, 3, 4, 5, 6, 1, 2, 3, 4, 5, 6, 1, 2, 3, 4, 5, 6, 1, 2, 3, 4, 6, 1, 2, 3, 4, 5, 6, 1, 2, 3, 4, 5, 6, 1, 2, 3, 4, 6, 1, 2, 3, 4, 5, 6, 1, 2, 3, 4, 5, 6, 1, 2, 3, 4, 5, 6, 1, 2, 3, 4, 5, 6, 1, 2, 3, 4, 5, 6, 1, 2, 3, 4, 5, 6, 1, 2, 3, 4, 5, 6, 1, 2, 3, 4, 5, 6, 1, 2, 3, 4, 5, 6, 1, 2, 3, 4, 5, 6, 1, 2, 3, 4, 5, 6, 1, 2, 3, 4, 5, 6, 1, 2, 3, 4, 5, 6, 1, 2, 3, 4, 5, 6, 1, 2, 3, 4, 5, 6, 1, 2, 3, 4, 5, 6, 1, 2, 3, 4, 5, 6, 1, 2, 3, 4, 5, 6, 1, 2, 3, 4, 5, 6, 1, 2, 3, 4, 5, 6, 1, 2, 3, 4, 5, 6, 1, 2, 3, 4, 5, 6, 1, 2, 3, 4, 5, 6, 1, 2, 3, 4, 5, 6, 1, 2, 3, 4, 6, 1, 2, 3, 4, 5, 6, 1, 2, 3, 4, 5, 6, 1, 2, 3, 4, 5, 6], \"Freq\": [0.08070792155545814, 0.64566337244366512, 0.08070792155545814, 0.16141584311091628, 0.04035396077772907, 0.17572227430225665, 0.17572227430225665, 0.3514445486045133, 0.13179170572669247, 0.043930568575564162, 0.13179170572669247, 0.20877890846798522, 0.10438945423399261, 0.31316836270197784, 0.20877890846798522, 0.10438945423399261, 0.59089810963013978, 0.11817962192602795, 0.14772452740753494, 0.059089810963013974, 0.059089810963013974, 0.029544905481506987, 0.64296691400735673, 0.080370864250919591, 0.10716115233455946, 0.080370864250919591, 0.026790288083639865, 0.05358057616727973, 0.39489587370141516, 0.22114168927279249, 0.14216251453250947, 0.078979174740283029, 0.094775009688339643, 0.047387504844169821, 0.16779963089490305, 0.5273702685268381, 0.04794275168425801, 0.11985687921064503, 0.04794275168425801, 0.09588550336851602, 0.16948560546141964, 0.31475898157120791, 0.12106114675815689, 0.072636688054894136, 0.24212229351631379, 0.096848917406525514, 0.22223275122999664, 0.22223275122999664, 0.14815516748666444, 0.074077583743332218, 0.14815516748666444, 0.14815516748666444, 0.63840838006324596, 0.058037125460295082, 0.11607425092059016, 0.058037125460295082, 0.058037125460295082, 0.30946516777108812, 0.13262792904475207, 0.17683723872633608, 0.2210465484079201, 0.044209309681584021, 0.088418619363168041, 0.60595230018867019, 0.1913533579543169, 0.063784452651438978, 0.063784452651438978, 0.031892226325719489, 0.031892226325719489, 0.31470928980251967, 0.11801598367594489, 0.31470928980251967, 0.11801598367594489, 0.039338661225314958, 0.078677322450629916, 0.093174810142639466, 0.27952443042791836, 0.18634962028527893, 0.18634962028527893, 0.18634962028527893, 0.093174810142639466, 0.22062923523543015, 0.3309438528531452, 0.11031461761771508, 0.11031461761771508, 0.11031461761771508, 0.11031461761771508, 0.51689610812258047, 0.18608259892412898, 0.13439298811187092, 0.062027532974709657, 0.062027532974709657, 0.031013766487354828, 0.28479547823119322, 0.14239773911559661, 0.28479547823119322, 0.071198869557798306, 0.071198869557798306, 0.071198869557798306, 0.69120565887510255, 0.11520094314585042, 0.098743665553586074, 0.032914555184528689, 0.032914555184528689, 0.016457277592264345, 0.57102469682786705, 0.081574956689695291, 0.190341565609289, 0.081574956689695291, 0.054383304459796861, 0.02719165222989843, 0.49819200538957847, 0.18799698316587865, 0.13159788821611507, 0.10339834074123326, 0.046999245791469663, 0.028199547474881799, 0.71334142860759009, 0.090943927153158896, 0.085259931706086464, 0.053997956747188096, 0.034103972682434584, 0.019893984064753508, 0.14574000447973426, 0.24290000746622376, 0.34006001045271328, 0.09716000298648951, 0.09716000298648951, 0.09716000298648951, 0.22318327869987331, 0.22318327869987331, 0.22318327869987331, 0.33477491804980997, 0.11159163934993666, 0.15138901287528062, 0.20185201716704082, 0.20185201716704082, 0.25231502145880103, 0.050463004291760205, 0.10092600858352041, 0.64202637860119838, 0.12229073878118064, 0.12229073878118064, 0.030572684695295161, 0.061145369390590322, 0.030572684695295161, 0.18749200969944005, 0.53903952788589016, 0.046873002424860012, 0.14061900727458004, 0.046873002424860012, 0.070309503637290022, 0.22627783724679693, 0.31113202621434577, 0.14142364827924808, 0.14142364827924808, 0.11313891862339846, 0.084854188967548844, 0.22898542755249954, 0.28623178444062441, 0.14311589222031221, 0.20036224910843708, 0.057246356888124884, 0.08586953533218733, 0.25906765245637442, 0.08635588415212482, 0.38860147868456169, 0.17271176830424964, 0.04317794207606241, 0.04317794207606241, 0.14323292926086328, 0.62067602679707423, 0.047744309753621102, 0.095488619507242203, 0.047744309753621102, 0.047744309753621102, 0.12602070193946963, 0.25204140387893925, 0.12602070193946963, 0.12602070193946963, 0.12602070193946963, 0.12602070193946963, 0.59682100703599017, 0.13262689045244228, 0.13262689045244228, 0.033156722613110569, 0.066313445226221138, 0.033156722613110569, 0.21581546501149138, 0.50870788181280113, 0.03083078071592734, 0.12332312286370936, 0.046246171073891014, 0.092492342147782028, 0.37691975178703607, 0.15076790071481441, 0.15076790071481441, 0.17589588416728349, 0.025127983452469069, 0.10051193380987627, 0.17152685690676717, 0.46557289731836798, 0.049007673401933474, 0.098015346803866948, 0.073511510102900218, 0.12251918350483369, 0.10044557185703215, 0.55245064521367682, 0.050222785928516075, 0.10044557185703215, 0.050222785928516075, 0.10044557185703215, 0.58922236007309137, 0.17932854437007129, 0.10247345392575502, 0.05123672696287751, 0.05123672696287751, 0.025618363481438755, 0.16528803562211541, 0.56670183641868133, 0.047225153034890117, 0.094450306069780235, 0.070837729552335166, 0.070837729552335166, 0.16664056645228956, 0.27773427742048262, 0.27773427742048262, 0.19441399419433783, 0.055546855484096526, 0.083880020866048052, 0.2516400625981442, 0.2516400625981442, 0.083880020866048052, 0.1677600417320961, 0.1677600417320961, 0.099315756758790688, 0.26484201802344182, 0.18207888739111627, 0.24828939189697671, 0.082763130632325571, 0.11586838288525581, 0.25825555604406669, 0.086085185348022231, 0.17217037069604446, 0.25825555604406669, 0.086085185348022231, 0.086085185348022231, 0.12088047582647912, 0.32234793553727764, 0.20146745971079852, 0.12088047582647912, 0.16117396776863882, 0.08058698388431941, 0.49327930199943021, 0.068511014166587531, 0.30144846233298511, 0.054808811333270022, 0.027404405666635011, 0.054808811333270022, 0.17684133621370285, 0.54660049375144526, 0.032152970220673247, 0.11253539577235637, 0.064305940441346493, 0.080382425551683123, 0.28849333489478712, 0.19232888992985811, 0.19232888992985811, 0.19232888992985811, 0.096164444964929055, 0.4002890646759017, 0.080057812935180342, 0.2134875011604809, 0.10674375058024045, 0.10674375058024045, 0.10674375058024045, 0.46889458989981719, 0.15629819663327238, 0.18755783595992687, 0.072939158428860451, 0.06251927865330896, 0.052099398877757462, 0.1831446977539066, 0.54943409326171977, 0.04578617443847665, 0.0915723488769533, 0.04578617443847665, 0.0915723488769533, 0.2900808701375216, 0.19338724675834773, 0.19338724675834773, 0.19338724675834773, 0.096693623379173865, 0.1423333964415926, 0.56933358576637039, 0.04744446548053087, 0.09488893096106174, 0.04744446548053087, 0.04744446548053087, 0.20799948464401169, 0.20799948464401169, 0.2599993558050146, 0.15599961348300875, 0.10399974232200584, 0.10399974232200584, 0.24607167469230445, 0.36910751203845665, 0.12303583734615223, 0.12303583734615223, 0.12303583734615223, 0.56975662090754453, 0.12949014111535104, 0.10359211289228083, 0.051796056446140416, 0.077694084669210628, 0.051796056446140416, 0.64550888588441202, 0.14344641908542491, 0.071723209542712454, 0.071723209542712454, 0.071723209542712454, 0.071723209542712454, 0.29570703165344242, 0.11499717897633872, 0.31213520007863366, 0.14785351582672121, 0.049284505275573737, 0.082140842125956223, 0.627352119088184, 0.13941158201959644, 0.13941158201959644, 0.069705791009798221, 0.069705791009798221, 0.15562039119824408, 0.25936731866374013, 0.20749385493099209, 0.10374692746549605, 0.15562039119824408, 0.051873463732748024, 0.44098214895335702, 0.11759523972089521, 0.08819642979067141, 0.20579166951156661, 0.058797619860447604, 0.11759523972089521, 0.20164424002573608, 0.53771797340196292, 0.044809831116830241, 0.11202457779207561, 0.044809831116830241, 0.067214746675245365, 0.20464071005772419, 0.20464071005772419, 0.20464071005772419, 0.10232035502886209, 0.20464071005772419, 0.10232035502886209, 0.53859134084272975, 0.14811261873175069, 0.17504218577388717, 0.05385913408427298, 0.05385913408427298, 0.02692956704213649, 0.25711811349573921, 0.051423622699147846, 0.41138898159318277, 0.10284724539829569, 0.051423622699147846, 0.10284724539829569, 0.20071404330999146, 0.20071404330999146, 0.26761872441332191, 0.26761872441332191, 0.066904681103330477, 0.24429634571192238, 0.24429634571192238, 0.081432115237307465, 0.081432115237307465, 0.16286423047461493, 0.16286423047461493, 0.56980524947981659, 0.11995899989048771, 0.14994874986310963, 0.089969249917865785, 0.059979499945243854, 0.029989749972621927, 0.17852284295534498, 0.58019923960487119, 0.044630710738836246, 0.089261421477672492, 0.044630710738836246, 0.044630710738836246, 0.47473242455240755, 0.22253082400894103, 0.14835388267262736, 0.059341553069050944, 0.059341553069050944, 0.029670776534525472, 0.59824991695971008, 0.15953331118925601, 0.11964998339194201, 0.039883327797314003, 0.039883327797314003, 0.61306012992577918, 0.13137002784123841, 0.13137002784123841, 0.043790009280412802, 0.043790009280412802, 0.043790009280412802, 0.069733565297931302, 0.20920069589379389, 0.27893426119172521, 0.38353460913862214, 0.034866782648965651, 0.034866782648965651, 0.59278346185404307, 0.14819586546351077, 0.12702502754015207, 0.063512513770076037, 0.042341675846717358, 0.021170837923358679, 0.39192912609972774, 0.037326583438069313, 0.37326583438069311, 0.074653166876138627, 0.055989875157103963, 0.074653166876138627, 0.4721208737735107, 0.13219384465658299, 0.24550285436222555, 0.075539339803761707, 0.05665450485282128, 0.037769669901880853, 0.18231276733828927, 0.15952367142100313, 0.31904734284200625, 0.27346915100743391, 0.068367287751858477, 0.22423504494373012, 0.13454102696623807, 0.26908205393247614, 0.22423504494373012, 0.044847008988746023, 0.089694017977492047, 0.53433210732565217, 0.16326814390506036, 0.14842558536823669, 0.059370234147294684, 0.059370234147294684, 0.029685117073647342, 0.23508322407812207, 0.23508322407812207, 0.23508322407812207, 0.078361074692707353, 0.15672214938541471, 0.078361074692707353, 0.57054397016517033, 0.18153671777982691, 0.077801450477068684, 0.051867633651379121, 0.077801450477068684, 0.02593381682568956, 0.45805542008106814, 0.2155554918028556, 0.17513883708982017, 0.053888872950713901, 0.053888872950713901, 0.040416654713035426, 0.23600749073291644, 0.13111527262939801, 0.34089970883643483, 0.13111527262939801, 0.052446109051759213, 0.078669163577638812, 0.18800573855103223, 0.5640172156530967, 0.047001434637758056, 0.094002869275516113, 0.047001434637758056, 0.047001434637758056, 0.38995388778109469, 0.15598155511243786, 0.18197848096451086, 0.20797540681658383, 0.025996925852072979, 0.051993851704145957, 0.2946051978496228, 0.1473025989248114, 0.1473025989248114, 0.19640346523308186, 0.098201732616540929, 0.1473025989248114, 0.15678311930704339, 0.2351746789605651, 0.15678311930704339, 0.15678311930704339, 0.078391559653521695, 0.15678311930704339, 0.62459117988767243, 0.12187144973417999, 0.12187144973417999, 0.060935724867089994, 0.045701793650317492, 0.030467862433544997, 0.63695372517429227, 0.079619215646786534, 0.079619215646786534, 0.079619215646786534, 0.079619215646786534, 0.079619215646786534, 0.23267380436894361, 0.15511586957929574, 0.23267380436894361, 0.23267380436894361, 0.07755793478964787, 0.19484518872155401, 0.19484518872155401, 0.29226778308233103, 0.24355648590194251, 0.048711297180388503, 0.048711297180388503, 0.15596654697566972, 0.36392194294322933, 0.10397769798377982, 0.15596654697566972, 0.10397769798377982, 0.10397769798377982, 0.15310406388419021, 0.22965609582628532, 0.15310406388419021, 0.15310406388419021, 0.15310406388419021, 0.15310406388419021, 0.1852276374861466, 0.49394036662972429, 0.041161697219143686, 0.20580848609571845, 0.061742545828715537, 0.041161697219143686, 0.34774288693769573, 0.17387144346884786, 0.17387144346884786, 0.086935721734423932, 0.1304035826016359, 0.1304035826016359, 0.23618384286292302, 0.21989530197582488, 0.20360676108872675, 0.25247238375002118, 0.0081442704435490693, 0.073298433991941622, 0.14150274249239164, 0.57611830871902314, 0.04042935499782619, 0.12128806499347856, 0.050536693747282736, 0.080858709995652381, 0.23254511769030387, 0.1902641872011577, 0.29596651342402308, 0.16912372195658462, 0.042280930489146155, 0.084561860978292311, 0.35755457297641163, 0.17877728648820582, 0.17877728648820582, 0.26816592973230874, 0.089388643244102908, 0.28775801463915729, 0.11067615947659895, 0.4648398698017156, 0.066405695685959373, 0.044270463790639578, 0.022135231895319789, 0.1505353128970387, 0.52687359513963539, 0.05017843763234623, 0.12544609408086557, 0.075267656448519349, 0.075267656448519349, 0.27421563452460029, 0.13710781726230015, 0.20566172589345022, 0.27421563452460029, 0.068553908631150073, 0.13710781726230015, 0.15525373997660372, 0.56926371324754699, 0.051751246658867905, 0.10350249331773581, 0.051751246658867905, 0.10350249331773581, 0.34600361245665207, 0.2018354405997137, 0.14416817185693837, 0.2018354405997137, 0.057667268742775342, 0.057667268742775342, 0.59351714991656579, 0.14326276032468829, 0.12279665170687568, 0.081864434471250455, 0.040932217235625228, 0.040932217235625228, 0.21054395983829943, 0.49126923962269869, 0.046787546630733208, 0.093575093261466416, 0.070181319946099815, 0.070181319946099815, 0.36009356950493582, 0.13849752673266763, 0.13849752673266763, 0.13849752673266763, 0.13849752673266763, 0.11079802138613409, 0.60472553844458909, 0.13438345298768647, 0.13438345298768647, 0.067191726493843237, 0.067191726493843237, 0.1700234317498463, 0.51007029524953895, 0.024289061678549471, 0.12144530839274736, 0.072867185035648416, 0.097156246714197883, 0.58617853322679203, 0.15986687269821601, 0.12434090098750133, 0.053288957566072, 0.035525971710714671, 0.035525971710714671, 0.11242917205803495, 0.31134232262225059, 0.14702276346050722, 0.086483978506180725, 0.17296795701236145, 0.17296795701236145, 0.57940922286420982, 0.15802069714478451, 0.10534713142985634, 0.052673565714928171, 0.052673565714928171, 0.052673565714928171, 0.14360883232328178, 0.57443532929312713, 0.047869610774427258, 0.14360883232328178, 0.047869610774427258, 0.047869610774427258, 0.15446093083521639, 0.54061325792325732, 0.051486976945072128, 0.10297395389014426, 0.051486976945072128, 0.10297395389014426, 0.61350074809016975, 0.10225012468169496, 0.10225012468169496, 0.051125062340847481, 0.051125062340847481, 0.57757730667933149, 0.15752108363981768, 0.10501405575987845, 0.052507027879939223, 0.052507027879939223, 0.077717843740884474, 0.34973029683398016, 0.23315353122265345, 0.077717843740884474, 0.19429460935221118, 0.11657676561132672, 0.14186006615517488, 0.52015357590230793, 0.047286688718391631, 0.14186006615517488, 0.07093003307758744, 0.07093003307758744, 0.21585566921574953, 0.56122473996094879, 0.043171133843149904, 0.086342267686299809, 0.043171133843149904, 0.043171133843149904, 0.21210229767657227, 0.46662505488845901, 0.042420459535314453, 0.12726137860594336, 0.042420459535314453, 0.12726137860594336, 0.16385885747377552, 0.081929428736887758, 0.40964714368443877, 0.24578828621066329, 0.081929428736887758, 0.081929428736887758, 0.48773792964063489, 0.24386896482031745, 0.12193448241015872, 0.069676847091519264, 0.052257635318639452, 0.017419211772879816, 0.61183063672540583, 0.16686290092511069, 0.11124193395007378, 0.055620966975036892, 0.055620966975036892, 0.17971490837288703, 0.58407345221188289, 0.044928727093221758, 0.089857454186443517, 0.044928727093221758, 0.044928727093221758, 0.60542382659826377, 0.13453862813294751, 0.13453862813294751, 0.067269314066473754, 0.067269314066473754, 0.067269314066473754, 0.60440559797993343, 0.12951548528141432, 0.08634365685427621, 0.043171828427138105, 0.08634365685427621, 0.043171828427138105, 0.071226459184260738, 0.783491051026868, 0.071226459184260738, 0.19247164176359696, 0.43306119396809317, 0.048117910440899241, 0.096235820881798481, 0.048117910440899241, 0.14435373132269774, 0.43544290241372946, 0.037864600209889521, 0.24611990136428188, 0.075729200419779041, 0.075729200419779041, 0.11359380062966856, 0.35779796936837766, 0.15334198687216186, 0.22149398103756709, 0.17037998541351315, 0.034075997082702633, 0.05111399562405395, 0.2718685376775804, 0.31717996062384379, 0.090622845892526796, 0.1359342688387902, 0.090622845892526796, 0.1359342688387902, 0.4736052449509458, 0.21988814944151056, 0.16914473033962352, 0.067657892135849398, 0.050743419101887052, 0.033828946067924699, 0.19328133082347357, 0.57984399247042073, 0.048320332705868392, 0.096640665411736784, 0.048320332705868392, 0.096640665411736784, 0.28421026833254787, 0.18086107984798502, 0.3358848625748293, 0.10334918848456287, 0.077511891363422153, 0.051674594242281435, 0.074268623621130084, 0.3713431181056504, 0.14853724724226017, 0.074268623621130084, 0.22280587086339024, 0.14853724724226017, 0.17280724560087066, 0.54002264250272081, 0.043201811400217664, 0.10800452850054415, 0.064802717100326493, 0.043201811400217664, 0.29769379671747531, 0.085055370490707244, 0.34022148196282898, 0.12758305573606085, 0.12758305573606085, 0.085055370490707244, 0.098982773382408823, 0.07423708003680661, 0.34643970683843089, 0.42067678687523746, 0.024745693345602206, 0.049491386691204411, 0.61359878137292545, 0.079174036306183929, 0.098967545382729907, 0.05938052722963795, 0.098967545382729907, 0.05938052722963795, 0.26087291919481803, 0.16304557449676127, 0.29348203409417029, 0.19565468939611352, 0.032609114899352254, 0.065218229798704508, 0.25808469263633821, 0.19356351947725367, 0.25808469263633821, 0.25808469263633821, 0.064521173159084552, 0.064521173159084552, 0.34769177055781875, 0.11589725685260625, 0.18543561096416999, 0.20861506233469126, 0.046358902741042499, 0.11589725685260625, 0.13697918274884244, 0.27395836549768487, 0.34244795687210611, 0.13697918274884244, 0.068489591374421219, 0.068489591374421219, 0.34950098518016676, 0.063545633669121235, 0.38127380201472738, 0.095318450503681845, 0.031772816834560617, 0.095318450503681845, 0.60937867418689695, 0.11284790262720314, 0.11284790262720314, 0.045139161050881255, 0.067708741576321882, 0.045139161050881255, 0.64380551599429836, 0.080475689499287295, 0.16095137899857459, 0.080475689499287295, 0.080475689499287295, 0.14069121057023698, 0.60966191247102686, 0.046897070190078993, 0.093794140380157986, 0.046897070190078993, 0.046897070190078993, 0.21541746206289508, 0.45041832976787149, 0.078333622568325476, 0.097917028210406848, 0.05875021692624411, 0.078333622568325476, 0.36097115948876868, 0.1148544598373355, 0.18048557974438434, 0.16407779976762213, 0.082038899883811064, 0.098446679860573288, 0.13064874025651893, 0.64235630626121809, 0.027218487553441442, 0.09254285768170091, 0.043549580085506308, 0.059880672617571178, 0.15776967637269482, 0.58600165509858082, 0.045077050392198524, 0.090154100784397048, 0.022538525196099262, 0.067615575588297783, 0.19513920476074914, 0.14635440357056184, 0.14635440357056184, 0.14635440357056184, 0.24392400595093641, 0.09756960238037457, 0.15983459248365994, 0.55521490020639763, 0.033649387891296831, 0.1261852045923631, 0.050474081836945246, 0.075711122755417859, 0.62001994271451399, 0.14588704534459154, 0.10941528400844365, 0.072943522672295771, 0.036471761336147886, 0.036471761336147886, 0.23058721364135701, 0.12810400757853169, 0.15372480909423802, 0.35869122121988867, 0.051241603031412668, 0.10248320606282534, 0.62106081505360622, 0.10196520844163684, 0.12050433724920717, 0.055617386422711003, 0.064886950826496162, 0.037078257615140671, 0.16425144646480977, 0.16425144646480977, 0.4106286161620244, 0.16425144646480977, 0.082125723232404885, 0.082125723232404885, 0.073858838873535379, 0.36929419436767691, 0.14771767774707076, 0.073858838873535379, 0.22157651662060615, 0.073858838873535379, 0.29246232103016512, 0.19497488068677676, 0.097487440343388382, 0.19497488068677676, 0.097487440343388382, 0.097487440343388382, 0.10283111241580906, 0.35990889345533172, 0.15424666862371358, 0.12853889051976133, 0.17995444672766586, 0.077123334311856792, 0.6192475710145745, 0.14290328561874796, 0.095268857079165312, 0.047634428539582656, 0.047634428539582656, 0.047634428539582656, 0.117276925814296, 0.35183077744288799, 0.117276925814296, 0.117276925814296, 0.117276925814296, 0.117276925814296, 0.263493313020771, 0.1317466565103855, 0.17566220868051399, 0.263493313020771, 0.043915552170128498, 0.043915552170128498, 0.17100465438992898, 0.53744319951120534, 0.024429236341418425, 0.12214618170709213, 0.04885847268283685, 0.097716945365673699, 0.58526571857112997, 0.14631642964278249, 0.09754428642852167, 0.048772143214260835, 0.048772143214260835, 0.048772143214260835, 0.28889056843319355, 0.11555622737327741, 0.23111245474655481, 0.11555622737327741, 0.14444528421659678, 0.11555622737327741, 0.23858256507543751, 0.15182526868436932, 0.34702918556427276, 0.15182526868436932, 0.043378648195534095, 0.065067972293301135, 0.16055454551331094, 0.17839393945923437, 0.51734242443177969, 0.071357575783693755, 0.017839393945923439, 0.053518181837770316, 0.47026797070631932, 0.19498915858554702, 0.12616945555535397, 0.068819703030193066, 0.068819703030193066, 0.057349752525160891, 0.13694688980418701, 0.59343652248481038, 0.045648963268062337, 0.13694688980418701, 0.045648963268062337, 0.091297926536124674, 0.29060181440444227, 0.17436108864266536, 0.17436108864266536, 0.23248145152355382, 0.11624072576177691, 0.098314117977974597, 0.29494235393392376, 0.25561670674273396, 0.21629105955154412, 0.058988470786784757, 0.07865129438237968, 0.21425497209424357, 0.26781871511780447, 0.1606912290706827, 0.1606912290706827, 0.10712748604712179, 0.10712748604712179, 0.46208246729608865, 0.17024090900382213, 0.19456103886151102, 0.060800324644222192, 0.072960389573066622, 0.036480194786533311, 0.21314076557738568, 0.21314076557738568, 0.34102522492381709, 0.12788445934643139, 0.085256306230954274, 0.042628153115477137, 0.16194307890831292, 0.57836813895826045, 0.046269451116660837, 0.11567362779165209, 0.046269451116660837, 0.069404176674991255, 0.44094614578729041, 0.15157523761438108, 0.19291393878193955, 0.082677402335116959, 0.06889783527926413, 0.055118268223411301, 0.1758254320549727, 0.52747629616491809, 0.031968260373631402, 0.12787304149452561, 0.063936520747262804, 0.079920650934078505, 0.18702432865423355, 0.18702432865423355, 0.32729257514490873, 0.093512164327116773, 0.093512164327116773, 0.046756082163558386, 0.11853236024326838, 0.23706472048653676, 0.11853236024326838, 0.11853236024326838, 0.23706472048653676, 0.11853236024326838, 0.25940569120094886, 0.25940569120094886, 0.15564341472056933, 0.051881138240189778, 0.15564341472056933, 0.10376227648037956, 0.073211045136676464, 0.29284418054670586, 0.14642209027335293, 0.073211045136676464, 0.21963313541002941, 0.14642209027335293, 0.59628584712369681, 0.1490714617809242, 0.1490714617809242, 0.029814292356184838, 0.059628584712369676, 0.029814292356184838, 0.18877219853472038, 0.25169626471296047, 0.18877219853472038, 0.12584813235648024, 0.12584813235648024, 0.12584813235648024, 0.2995910369440612, 0.1497955184720306, 0.1497955184720306, 0.1497955184720306, 0.1497955184720306, 0.1497955184720306, 0.20059853753998097, 0.20059853753998097, 0.26746471671997463, 0.13373235835998731, 0.13373235835998731, 0.066866179179993657, 0.22294632222288743, 0.13376779333373245, 0.31212485111204241, 0.17835705777830996, 0.044589264444577489, 0.044589264444577489, 0.21370276002959235, 0.49863977340238214, 0.047489502228798303, 0.094979004457596605, 0.047489502228798303, 0.094979004457596605, 0.46611975233121072, 0.18644790093248428, 0.17313019372302113, 0.066588536047315822, 0.066588536047315822, 0.053270828837852655, 0.58116799441209654, 0.15067318373646948, 0.12914844320268812, 0.064574221601344059, 0.043049481067562706, 0.043049481067562706, 0.27395978546154109, 0.1494326102517497, 0.24905435041958285, 0.19924348033566627, 0.024905435041958284, 0.074716305125874849, 0.58663617360022646, 0.14079268166405434, 0.11732723472004529, 0.093861787776036223, 0.046930893888018112, 0.023465446944009056, 0.18116498420085242, 0.24155331226780322, 0.24155331226780322, 0.18116498420085242, 0.060388328066950804, 0.12077665613390161, 0.45754062892813185, 0.2001740251560577, 0.11438515723203296, 0.057192578616016482, 0.10008701257802885, 0.057192578616016482, 0.14961348608140207, 0.58847971192018145, 0.039896929621707218, 0.11969078886512165, 0.039896929621707218, 0.069819626837987633, 0.1864327568791124, 0.0932163784395562, 0.3728655137582248, 0.1864327568791124, 0.0932163784395562, 0.14015583576866161, 0.60184564771248805, 0.032977843710273319, 0.10717799205838828, 0.041222304637841649, 0.074200148348114961, 0.22199608669027657, 0.15539726068319359, 0.36629354303895634, 0.066598826007082973, 0.13319765201416595, 0.066598826007082973, 0.22547617330314657, 0.54114281592755176, 0.045095234660629313, 0.090190469321258626, 0.045095234660629313, 0.045095234660629313, 0.15094375739554067, 0.55346044378364911, 0.050314585798513556, 0.12578646449628389, 0.050314585798513556, 0.075471878697770334, 0.46395546731433346, 0.15998464390149431, 0.15998464390149431, 0.111989250731046, 0.047995393170448285, 0.063993857560597722, 0.31610038547264419, 0.13547159377399035, 0.40641478132197106, 0.045157197924663453, 0.045157197924663453, 0.045157197924663453, 0.14708036059590388, 0.61283483581626619, 0.024513393432650646, 0.098053573730602583, 0.049026786865301292, 0.073540180297951938, 0.14405346530113097, 0.57621386120452389, 0.04801782176704366, 0.14405346530113097, 0.04801782176704366, 0.04801782176704366, 0.39579609337442345, 0.098949023343605863, 0.19789804668721173, 0.19789804668721173, 0.098949023343605863, 0.50208364077643408, 0.1528080645841321, 0.13097834107211323, 0.1200634793161038, 0.021829723512018871, 0.076404032292066049, 0.13320820254714541, 0.1998123038207181, 0.16651025318393176, 0.33302050636786351, 0.066604101273572705, 0.099906151910359051, 0.19728498110156306, 0.14796373582617228, 0.24660622637695381, 0.34524871692773534, 0.049321245275390765, 0.48628068764582, 0.17915604281688105, 0.16635918261567526, 0.063984301006028949, 0.063984301006028949, 0.038390580603617365, 0.49820147301671547, 0.20892319836184842, 0.12856812206882981, 0.064284061034414905, 0.064284061034414905, 0.032142030517207452, 0.15142789292442357, 0.22714183938663535, 0.22714183938663535, 0.075713946462211787, 0.15142789292442357, 0.075713946462211787, 0.11973647992628367, 0.29934119981570917, 0.29934119981570917, 0.23947295985256734, 0.029934119981570917, 0.029934119981570917, 0.17090430150327968, 0.55543897988565893, 0.042726075375819919, 0.085452150751639838, 0.042726075375819919, 0.085452150751639838, 0.35503800411270547, 0.11834600137090182, 0.17751900205635274, 0.11834600137090182, 0.11834600137090182, 0.11834600137090182, 0.19719310485736583, 0.51763190025058525, 0.024649138107170728, 0.12324569053585364, 0.073947414321512181, 0.073947414321512181, 0.30691321767266078, 0.12276528706906431, 0.24553057413812862, 0.15345660883633039, 0.030691321767266078, 0.12276528706906431, 0.13771016341663031, 0.30984786768741818, 0.17213770427078787, 0.17213770427078787, 0.13771016341663031, 0.068855081708315155, 0.66428344011846674, 0.1155275548032116, 0.086645666102408703, 0.057763777401605799, 0.0288818887008029, 0.0288818887008029, 0.1761202115541036, 0.57239068755083666, 0.044030052888525899, 0.088060105777051798, 0.044030052888525899, 0.044030052888525899, 0.3006975076399751, 0.20046500509331672, 0.23387583927553618, 0.10023250254665836, 0.13364333672887782, 0.06682166836443891, 0.31785839298261354, 0.079464598245653384, 0.31785839298261354, 0.15892919649130677, 0.079464598245653384, 0.079464598245653384, 0.31135448536985338, 0.15567724268492669, 0.20756965691323559, 0.25946207114154446, 0.051892414228308897, 0.10378482845661779, 0.46892297213700251, 0.13676920020662572, 0.13676920020662572, 0.19538457172375104, 0.019538457172375106, 0.058615371517125314, 0.18458770971608826, 0.46985962473186099, 0.050342102649842249, 0.134245607066246, 0.083903504416403749, 0.067122803533122999, 0.14986966326946058, 0.53524879739093068, 0.049956554423153526, 0.12132306074194428, 0.071366506318790754, 0.071366506318790754, 0.15516935741925125, 0.62067742967700501, 0.051723119139750418, 0.10344623827950084, 0.051723119139750418, 0.051723119139750418, 0.28423166435108554, 0.056846332870217106, 0.085269499305325652, 0.45477066296173685, 0.056846332870217106, 0.056846332870217106, 0.082976378762078362, 0.33190551504831345, 0.16595275752415672, 0.082976378762078362, 0.16595275752415672, 0.16595275752415672, 0.14708573199940866, 0.22062859799911297, 0.14708573199940866, 0.14708573199940866, 0.22062859799911297, 0.14708573199940866, 0.19164237409338278, 0.14373178057003708, 0.33537415466341985, 0.19164237409338278, 0.095821187046691389, 0.095821187046691389, 0.063184599539892264, 0.15796149884973068, 0.50547679631913811, 0.12636919907978453, 0.063184599539892264, 0.063184599539892264, 0.14239568087942411, 0.61704795047750449, 0.047465226959808038, 0.094930453919616076, 0.047465226959808038, 0.047465226959808038, 0.17924868789928483, 0.17924868789928483, 0.35849737579856966, 0.26887303184892725, 0.089624343949642415, 0.062090686226505862, 0.12418137245301172, 0.37254411735903514, 0.18627205867951757, 0.12418137245301172, 0.062090686226505862, 0.1509050330256701, 0.22635754953850512, 0.3018100660513402, 0.22635754953850512, 0.075452516512835049, 0.075452516512835049, 0.14530832320268844, 0.58123329281075375, 0.048436107734229482, 0.096872215468458964, 0.048436107734229482, 0.096872215468458964], \"Term\": [\"12month\", \"12month\", \"12month\", \"12month\", \"12month\", \"15th\", \"15th\", \"15th\", \"15th\", \"15th\", \"15th\", \"a\", \"a\", \"a\", \"a\", \"a\", \"aabove\", \"aabove\", \"aabove\", \"aabove\", \"aabove\", \"aabove\", \"acceptance\", \"acceptance\", \"acceptance\", \"acceptance\", \"acceptance\", \"acceptance\", \"access\", \"access\", \"access\", \"access\", \"access\", \"access\", \"accident\", \"accident\", \"accident\", \"accident\", \"accident\", \"accident\", \"accountant\", \"accountant\", \"accountant\", \"accountant\", \"accountant\", \"accountant\", \"acrosstheboard\", \"acrosstheboard\", \"acrosstheboard\", \"acrosstheboard\", \"acrosstheboard\", \"acrosstheboard\", \"adams\", \"adams\", \"adams\", \"adams\", \"adams\", \"administer\", \"administer\", \"administer\", \"administer\", \"administer\", \"administer\", \"adrian\", \"adrian\", \"adrian\", \"adrian\", \"adrian\", \"adrian\", \"aggregate\", \"aggregate\", \"aggregate\", \"aggregate\", \"aggregate\", \"aggregate\", \"agreementthis\", \"agreementthis\", \"agreementthis\", \"agreementthis\", \"agreementthis\", \"agreementthis\", \"ambiguity\", \"ambiguity\", \"ambiguity\", \"ambiguity\", \"ambiguity\", \"ambiguity\", \"analogous\", \"analogous\", \"analogous\", \"analogous\", \"analogous\", \"analogous\", \"annualized\", \"annualized\", \"annualized\", \"annualized\", \"annualized\", \"annualized\", \"anumber\", \"anumber\", \"anumber\", \"anumber\", \"anumber\", \"anumber\", \"armando\", \"armando\", \"armando\", \"armando\", \"armando\", \"armando\", \"assigns\", \"assigns\", \"assigns\", \"assigns\", \"assigns\", \"assigns\", \"auxilium\", \"auxilium\", \"auxilium\", \"auxilium\", \"auxilium\", \"auxilium\", \"avoidance\", \"avoidance\", \"avoidance\", \"avoidance\", \"avoidance\", \"avoidance\", \"bad\", \"bad\", \"bad\", \"bad\", \"bad\", \"binding\", \"binding\", \"binding\", \"binding\", \"binding\", \"binding\", \"bnumber\", \"bnumber\", \"bnumber\", \"bnumber\", \"bnumber\", \"bnumber\", \"breadth\", \"breadth\", \"breadth\", \"breadth\", \"breadth\", \"breadth\", \"calculation\", \"calculation\", \"calculation\", \"calculation\", \"calculation\", \"calculation\", \"cancellation\", \"cancellation\", \"cancellation\", \"cancellation\", \"cancellation\", \"cancellation\", \"care\", \"care\", \"care\", \"care\", \"care\", \"care\", \"centre\", \"centre\", \"centre\", \"centre\", \"centre\", \"centre\", \"charitable\", \"charitable\", \"charitable\", \"charitable\", \"charitable\", \"charitable\", \"circulation\", \"circulation\", \"circulation\", \"circulation\", \"circulation\", \"circulation\", \"city\", \"city\", \"city\", \"city\", \"city\", \"city\", \"civil\", \"civil\", \"civil\", \"civil\", \"civil\", \"civil\", \"community\", \"community\", \"community\", \"community\", \"community\", \"community\", \"companywide\", \"companywide\", \"companywide\", \"companywide\", \"companywide\", \"companywide\", \"competitor\", \"competitor\", \"competitor\", \"competitor\", \"competitor\", \"competitor\", \"compile\", \"compile\", \"compile\", \"compile\", \"compile\", \"compile\", \"conclusion\", \"conclusion\", \"conclusion\", \"conclusion\", \"conclusion\", \"conclusive\", \"conclusive\", \"conclusive\", \"conclusive\", \"conclusive\", \"conclusive\", \"constructive\", \"constructive\", \"constructive\", \"constructive\", \"constructive\", \"constructive\", \"contact\", \"contact\", \"contact\", \"contact\", \"contact\", \"contact\", \"contemplate\", \"contemplate\", \"contemplate\", \"contemplate\", \"contemplate\", \"contemplate\", \"contingent\", \"contingent\", \"contingent\", \"contingent\", \"contingent\", \"contingent\", \"continuously\", \"continuously\", \"continuously\", \"continuously\", \"continuously\", \"continuously\", \"contractual\", \"contractual\", \"contractual\", \"contractual\", \"contractual\", \"cooperate\", \"cooperate\", \"cooperate\", \"cooperate\", \"cooperate\", \"cooperate\", \"copyright\", \"copyright\", \"copyright\", \"copyright\", \"copyright\", \"copyright\", \"covenantsblue\", \"covenantsblue\", \"covenantsblue\", \"covenantsblue\", \"covenantsblue\", \"covenantsblue\", \"credit\", \"credit\", \"credit\", \"credit\", \"credit\", \"cresign\", \"cresign\", \"cresign\", \"cresign\", \"cresign\", \"cresign\", \"crime\", \"crime\", \"crime\", \"crime\", \"crime\", \"crime\", \"criterion\", \"criterion\", \"criterion\", \"criterion\", \"criterion\", \"custody\", \"custody\", \"custody\", \"custody\", \"custody\", \"custody\", \"defamation\", \"defamation\", \"defamation\", \"defamation\", \"defamation\", \"defamation\", \"defer\", \"defer\", \"defer\", \"defer\", \"defer\", \"defer\", \"delegable\", \"delegable\", \"delegable\", \"delegable\", \"delegable\", \"dental\", \"dental\", \"dental\", \"dental\", \"dental\", \"dental\", \"deny\", \"deny\", \"deny\", \"deny\", \"deny\", \"deny\", \"derive\", \"derive\", \"derive\", \"derive\", \"derive\", \"derive\", \"desirable\", \"desirable\", \"desirable\", \"desirable\", \"desirable\", \"desirable\", \"develop\", \"develop\", \"develop\", \"develop\", \"develop\", \"develop\", \"diminution\", \"diminution\", \"diminution\", \"diminution\", \"diminution\", \"diminution\", \"discretionary\", \"discretionary\", \"discretionary\", \"discretionary\", \"discretionary\", \"discussion\", \"discussion\", \"discussion\", \"discussion\", \"discussion\", \"discussion\", \"disparage\", \"disparage\", \"disparage\", \"disparage\", \"disparage\", \"disparage\", \"distinguished\", \"distinguished\", \"distinguished\", \"distinguished\", \"distinguished\", \"distinguished\", \"documentation\", \"documentation\", \"documentation\", \"documentation\", \"documentation\", \"documentation\", \"doddfrank\", \"doddfrank\", \"doddfrank\", \"doddfrank\", \"doddfrank\", \"eeoc\", \"eeoc\", \"eeoc\", \"eeoc\", \"eeoc\", \"eeoc\", \"eighteen\", \"eighteen\", \"eighteen\", \"eighteen\", \"eighteen\", \"eighteen\", \"electronic\", \"electronic\", \"electronic\", \"electronic\", \"electronic\", \"electronic\", \"eliminate\", \"eliminate\", \"eliminate\", \"eliminate\", \"eliminate\", \"eliminate\", \"enterprise\", \"enterprise\", \"enterprise\", \"enterprise\", \"enterprise\", \"enterprise\", \"equitybased\", \"equitybased\", \"equitybased\", \"equitybased\", \"equitybased\", \"essential\", \"essential\", \"essential\", \"essential\", \"essential\", \"essential\", \"exception\", \"exception\", \"exception\", \"exception\", \"exception\", \"exception\", \"exclusively\", \"exclusively\", \"exclusively\", \"exclusively\", \"exclusively\", \"exclusively\", \"executes\", \"executes\", \"executes\", \"executes\", \"executes\", \"executes\", \"executor\", \"executor\", \"executor\", \"executor\", \"executor\", \"executor\", \"exempt\", \"exempt\", \"exempt\", \"exempt\", \"exempt\", \"exempt\", \"exercised\", \"exercised\", \"exercised\", \"exercised\", \"exercised\", \"exercised\", \"expire\", \"expire\", \"expire\", \"expire\", \"expire\", \"expire\", \"facsimile\", \"facsimile\", \"facsimile\", \"facsimile\", \"facsimile\", \"facsimile\", \"finally\", \"finally\", \"finally\", \"finally\", \"finally\", \"finally\", \"five\", \"five\", \"five\", \"five\", \"five\", \"five\", \"forever\", \"forever\", \"forever\", \"forever\", \"forever\", \"forever\", \"fortyfive\", \"fortyfive\", \"fortyfive\", \"fortyfive\", \"fortyfive\", \"fraction\", \"fraction\", \"fraction\", \"fraction\", \"fraction\", \"fraction\", \"fulltime\", \"fulltime\", \"fulltime\", \"fulltime\", \"fulltime\", \"fulltime\", \"fund\", \"fund\", \"fund\", \"fund\", \"fund\", \"fund\", \"gerald\", \"gerald\", \"gerald\", \"gerald\", \"gerald\", \"gerald\", \"government\", \"government\", \"government\", \"government\", \"government\", \"government\", \"grossup\", \"grossup\", \"grossup\", \"grossup\", \"grossup\", \"grossup\", \"healthcare\", \"healthcare\", \"healthcare\", \"healthcare\", \"healthcare\", \"healthcare\", \"high\", \"high\", \"high\", \"high\", \"high\", \"high\", \"housing\", \"housing\", \"housing\", \"housing\", \"housing\", \"human\", \"human\", \"human\", \"human\", \"human\", \"human\", \"iian\", \"iian\", \"iian\", \"iian\", \"iian\", \"iian\", \"iiia\", \"iiia\", \"iiia\", \"iiia\", \"iiia\", \"iiia\", \"iiiof\", \"iiiof\", \"iiiof\", \"iiiof\", \"iiiof\", \"iiiof\", \"iiithe\", \"iiithe\", \"iiithe\", \"iiithe\", \"iiithe\", \"iiithe\", \"illness\", \"illness\", \"illness\", \"illness\", \"illness\", \"illness\", \"impact\", \"impact\", \"impact\", \"impact\", \"impact\", \"impact\", \"incorporate\", \"incorporate\", \"incorporate\", \"incorporate\", \"incorporate\", \"incorporate\", \"insider\", \"insider\", \"insider\", \"insider\", \"insider\", \"interpretive\", \"interpretive\", \"interpretive\", \"interpretive\", \"interpretive\", \"interpretive\", \"involuntarily\", \"involuntarily\", \"involuntarily\", \"involuntarily\", \"involuntarily\", \"involuntarily\", \"involuntary\", \"involuntary\", \"involuntary\", \"involuntary\", \"involuntary\", \"involuntary\", \"itemize\", \"itemize\", \"itemize\", \"itemize\", \"itemize\", \"itemize\", \"ithen\", \"ithen\", \"ithen\", \"ithen\", \"ithen\", \"ithen\", \"ito\", \"ito\", \"ito\", \"ito\", \"ito\", \"ito\", \"ivinformation\", \"ivinformation\", \"ivinformation\", \"ivinformation\", \"ivinformation\", \"january1\", \"january1\", \"january1\", \"january1\", \"january1\", \"job\", \"job\", \"job\", \"job\", \"job\", \"job\", \"k\", \"k\", \"k\", \"k\", \"k\", \"k\", \"keyman\", \"keyman\", \"keyman\", \"keyman\", \"keyman\", \"keyman\", \"language\", \"language\", \"language\", \"language\", \"language\", \"language\", \"large\", \"large\", \"large\", \"large\", \"large\", \"large\", \"legitimate\", \"legitimate\", \"legitimate\", \"legitimate\", \"legitimate\", \"legitimate\", \"liable\", \"liable\", \"liable\", \"liable\", \"liable\", \"loan\", \"loan\", \"loan\", \"loan\", \"loan\", \"loan\", \"manager\", \"manager\", \"manager\", \"manager\", \"manager\", \"manager\", \"manufactured\", \"manufactured\", \"manufactured\", \"manufactured\", \"manufactured\", \"manufactured\", \"march\", \"march\", \"march\", \"masculine\", \"masculine\", \"masculine\", \"masculine\", \"masculine\", \"masculine\", \"massachusetts\", \"massachusetts\", \"massachusetts\", \"massachusetts\", \"massachusetts\", \"massachusetts\", \"maximum\", \"maximum\", \"maximum\", \"maximum\", \"maximum\", \"maximum\", \"meet\", \"meet\", \"meet\", \"meet\", \"meet\", \"meet\", \"memorandum\", \"memorandum\", \"memorandum\", \"memorandum\", \"memorandum\", \"memorandum\", \"messenger\", \"messenger\", \"messenger\", \"messenger\", \"messenger\", \"messenger\", \"method\", \"method\", \"method\", \"method\", \"method\", \"method\", \"misappropriation\", \"misappropriation\", \"misappropriation\", \"misappropriation\", \"misappropriation\", \"misappropriation\", \"money\", \"money\", \"money\", \"money\", \"money\", \"money\", \"moral\", \"moral\", \"moral\", \"moral\", \"moral\", \"moral\", \"multiply\", \"multiply\", \"multiply\", \"multiply\", \"multiply\", \"multiply\", \"mutually\", \"mutually\", \"mutually\", \"mutually\", \"mutually\", \"mutually\", \"net\", \"net\", \"net\", \"net\", \"net\", \"net\", \"nine\", \"nine\", \"nine\", \"nine\", \"nine\", \"nine\", \"nonqualified\", \"nonqualified\", \"nonqualified\", \"nonqualified\", \"nonqualified\", \"nonqualified\", \"notification\", \"notification\", \"notification\", \"notification\", \"notification\", \"notification\", \"numb\", \"numb\", \"numb\", \"numb\", \"numb\", \"numb\", \"number409anumberbnumber\", \"number409anumberbnumber\", \"number409anumberbnumber\", \"number409anumberbnumber\", \"number409anumberbnumber\", \"number409anumberbnumber\", \"numberbiii\", \"numberbiii\", \"numberbiii\", \"numberbiii\", \"numberbiii\", \"numbercalendarday\", \"numbercalendarday\", \"numbercalendarday\", \"numbercalendarday\", \"numbercalendarday\", \"numbercalendarday\", \"numberconsecutive\", \"numberconsecutive\", \"numberconsecutive\", \"numberconsecutive\", \"numberconsecutive\", \"numberconsecutive\", \"numberday\", \"numberday\", \"numberday\", \"numberday\", \"numberday\", \"numberday\", \"numberfull\", \"numberfull\", \"numberfull\", \"numberfull\", \"numberfull\", \"numberfull\", \"numbermiles\", \"numbermiles\", \"numbermiles\", \"numbermiles\", \"numbermiles\", \"numbermiles\", \"numbernumber\", \"numbernumber\", \"numbernumber\", \"numbernumber\", \"numbernumber\", \"numbernumber\", \"numberor\", \"numberor\", \"numberor\", \"numberor\", \"numberor\", \"numberor\", \"numberpersonal\", \"numberpersonal\", \"numberpersonal\", \"numberpersonal\", \"numberpersonal\", \"numberpersonal\", \"numberthe\", \"numberthe\", \"numberthe\", \"numberthe\", \"numberthe\", \"numberthe\", \"numberyear\", \"numberyear\", \"numberyear\", \"numberyear\", \"numberyear\", \"numberyear\", \"obligated\", \"obligated\", \"obligated\", \"obligated\", \"obligated\", \"obligated\", \"october\", \"october\", \"october\", \"october\", \"october\", \"october\", \"old\", \"old\", \"old\", \"old\", \"old\", \"old\", \"onehalf\", \"onehalf\", \"onehalf\", \"onehalf\", \"onehalf\", \"onehalf\", \"oneyear\", \"oneyear\", \"oneyear\", \"oneyear\", \"oneyear\", \"oneyear\", \"operational\", \"operational\", \"operational\", \"operational\", \"operational\", \"operational\", \"opinion\", \"opinion\", \"opinion\", \"opinion\", \"opinion\", \"opinion\", \"outplacement\", \"outplacement\", \"outplacement\", \"outplacement\", \"outplacement\", \"outplacement\", \"overbroad\", \"overbroad\", \"overbroad\", \"overbroad\", \"overbroad\", \"overbroad\", \"overnight\", \"overnight\", \"overnight\", \"overnight\", \"overnight\", \"overnight\", \"parachute\", \"parachute\", \"parachute\", \"parachute\", \"parachute\", \"parachute\", \"participant\", \"participant\", \"participant\", \"participant\", \"participant\", \"participant\", \"patent\", \"patent\", \"patent\", \"patent\", \"patent\", \"patent\", \"pencil\", \"pencil\", \"pencil\", \"pencil\", \"pencil\", \"pencil\", \"pending\", \"pending\", \"pending\", \"pending\", \"pending\", \"percentage\", \"percentage\", \"percentage\", \"percentage\", \"percentage\", \"percentage\", \"pertain\", \"pertain\", \"pertain\", \"pertain\", \"pertain\", \"pertain\", \"postpone\", \"postpone\", \"postpone\", \"postpone\", \"postpone\", \"postpone\", \"pro\", \"pro\", \"pro\", \"pro\", \"pro\", \"pro\", \"proehl\", \"proehl\", \"proehl\", \"proehl\", \"proehl\", \"proehl\", \"protect\", \"protect\", \"protect\", \"protect\", \"protect\", \"protect\", \"pto\", \"pto\", \"pto\", \"pto\", \"pto\", \"pto\", \"rata\", \"rata\", \"rata\", \"rata\", \"rata\", \"rata\", \"reassignment\", \"reassignment\", \"reassignment\", \"reassignment\", \"reassignment\", \"reassignment\", \"recital\", \"recital\", \"recital\", \"recital\", \"recital\", \"recital\", \"recognition\", \"recognition\", \"recognition\", \"recognition\", \"recognition\", \"recognition\", \"recoupment\", \"recoupment\", \"recoupment\", \"recoupment\", \"recoupment\", \"recoupment\", \"refuse\", \"refuse\", \"refuse\", \"refuse\", \"refuse\", \"refuse\", \"register\", \"register\", \"register\", \"register\", \"register\", \"register\", \"regular\", \"regular\", \"regular\", \"regular\", \"regular\", \"regular\", \"relevant\", \"relevant\", \"relevant\", \"relevant\", \"relevant\", \"relevant\", \"relieve\", \"relieve\", \"relieve\", \"relieve\", \"relieve\", \"relieve\", \"renew\", \"renew\", \"renew\", \"renew\", \"renew\", \"renew\", \"renewal\", \"renewal\", \"renewal\", \"renewal\", \"renewal\", \"renewal\", \"resolution\", \"resolution\", \"resolution\", \"resolution\", \"resolution\", \"resolution\", \"reveal\", \"reveal\", \"reveal\", \"reveal\", \"reveal\", \"reveal\", \"reverse\", \"reverse\", \"reverse\", \"reverse\", \"reverse\", \"reverse\", \"sanction\", \"sanction\", \"sanction\", \"sanction\", \"sanction\", \"sanction\", \"santarus\", \"santarus\", \"santarus\", \"santarus\", \"santarus\", \"santarus\", \"satisfied\", \"satisfied\", \"satisfied\", \"satisfied\", \"satisfied\", \"scheduled\", \"scheduled\", \"scheduled\", \"scheduled\", \"scheduled\", \"scheduled\", \"second\", \"second\", \"second\", \"second\", \"second\", \"second\", \"section1c\", \"section1c\", \"section1c\", \"section1c\", \"section1c\", \"section1c\", \"section1d\", \"section1d\", \"section1d\", \"section1d\", \"section1d\", \"section1d\", \"section2\", \"section2\", \"section2\", \"section2\", \"section2\", \"section2\", \"section21\", \"section21\", \"section21\", \"section21\", \"section21\", \"section21\", \"section4dii\", \"section4dii\", \"section4dii\", \"section4dii\", \"section4dii\", \"section4dii\", \"section5b\", \"section5b\", \"section5b\", \"section5b\", \"section5b\", \"section5b\", \"section9\", \"section9\", \"section9\", \"section9\", \"section9\", \"seven\", \"seven\", \"seven\", \"seven\", \"seven\", \"seven\", \"single\", \"single\", \"single\", \"single\", \"single\", \"single\", \"sixtieth\", \"sixtieth\", \"sixtieth\", \"sixtieth\", \"sixtieth\", \"software\", \"software\", \"software\", \"software\", \"software\", \"software\", \"specification\", \"specification\", \"specification\", \"specification\", \"specification\", \"specification\", \"status\", \"status\", \"status\", \"status\", \"status\", \"status\", \"statutory\", \"statutory\", \"statutory\", \"statutory\", \"statutory\", \"statutory\", \"strictly\", \"strictly\", \"strictly\", \"strictly\", \"strictly\", \"strictly\", \"sufficient\", \"sufficient\", \"sufficient\", \"sufficient\", \"sufficient\", \"sufficient\", \"telecopy\", \"telecopy\", \"telecopy\", \"telecopy\", \"telecopy\", \"telecopy\", \"ten\", \"ten\", \"ten\", \"ten\", \"ten\", \"ten\", \"thencurrent\", \"thencurrent\", \"thencurrent\", \"thencurrent\", \"thencurrent\", \"thencurrent\", \"timebased\", \"timebased\", \"timebased\", \"timebased\", \"timebased\", \"timebased\", \"transcript\", \"transcript\", \"transcript\", \"transcript\", \"transcript\", \"transcript\", \"travel\", \"travel\", \"travel\", \"travel\", \"travel\", \"travel\", \"treatment\", \"treatment\", \"treatment\", \"treatment\", \"treatment\", \"treatment\", \"trial\", \"trial\", \"trial\", \"trial\", \"trial\", \"trial\", \"twentyone\", \"twentyone\", \"twentyone\", \"twentyone\", \"twentyone\", \"twentyone\", \"unexercised\", \"unexercised\", \"unexercised\", \"unexercised\", \"unexercised\", \"unexercised\", \"usual\", \"usual\", \"usual\", \"usual\", \"usual\", \"usual\", \"vabove\", \"vabove\", \"vabove\", \"vabove\", \"vabove\", \"vabove\", \"w\", \"w\", \"w\", \"w\", \"w\", \"w\", \"washington\", \"washington\", \"washington\", \"washington\", \"washington\", \"washington\", \"week\", \"week\", \"week\", \"week\", \"week\", \"week\", \"wish\", \"wish\", \"wish\", \"wish\", \"wish\", \"wish\", \"x\", \"x\", \"x\", \"x\", \"x\", \"x\", \"xa\", \"xa\", \"xa\", \"xa\", \"xa\", \"xa\", \"xthe\", \"xthe\", \"xthe\", \"xthe\", \"xthe\", \"y\", \"y\", \"y\", \"y\", \"y\", \"y\", \"ythe\", \"ythe\", \"ythe\", \"ythe\", \"ythe\", \"ythe\", \"zmake\", \"zmake\", \"zmake\", \"zmake\", \"zmake\", \"zmake\"]}, \"mdsDat\": {\"y\": [0.035077743554850584, 0.013096647040715307, -0.024204367176023239, -0.025387351840750614, 0.01810460440272146, -0.016687275981513525], \"cluster\": [1, 1, 1, 1, 1, 1], \"Freq\": [36.660736329934188, 25.624219869728186, 14.450042282941341, 10.908210990871629, 6.204519371711875, 6.1522711548127873], \"topics\": [1, 2, 3, 4, 5, 6], \"x\": [-0.050369432286687034, 0.073406840498020168, -0.059800056024258551, 0.012116362462170236, 0.0022109111895104159, 0.022435374161244755]}, \"R\": 30, \"lambda.step\": 0.01, \"tinfo\": {\"Category\": [\"Default\", \"Default\", \"Default\", \"Default\", \"Default\", \"Default\", \"Default\", \"Default\", \"Default\", \"Default\", \"Default\", \"Default\", \"Default\", \"Default\", \"Default\", \"Default\", \"Default\", \"Default\", \"Default\", \"Default\", \"Default\", \"Default\", \"Default\", \"Default\", \"Default\", \"Default\", \"Default\", \"Default\", \"Default\", \"Default\", \"Topic1\", \"Topic1\", \"Topic1\", \"Topic1\", \"Topic1\", \"Topic1\", \"Topic1\", \"Topic1\", \"Topic1\", \"Topic1\", \"Topic1\", \"Topic1\", \"Topic1\", \"Topic1\", \"Topic1\", \"Topic1\", \"Topic1\", \"Topic1\", \"Topic1\", \"Topic1\", \"Topic1\", \"Topic1\", \"Topic1\", \"Topic1\", \"Topic1\", \"Topic1\", \"Topic1\", \"Topic1\", \"Topic1\", \"Topic1\", \"Topic1\", \"Topic1\", \"Topic1\", \"Topic1\", \"Topic1\", \"Topic1\", \"Topic1\", \"Topic1\", \"Topic1\", \"Topic1\", \"Topic1\", \"Topic1\", \"Topic1\", \"Topic1\", \"Topic1\", \"Topic1\", \"Topic1\", \"Topic1\", \"Topic1\", \"Topic1\", \"Topic1\", \"Topic1\", \"Topic1\", \"Topic1\", \"Topic1\", \"Topic1\", \"Topic1\", \"Topic1\", \"Topic1\", \"Topic1\", \"Topic2\", \"Topic2\", \"Topic2\", \"Topic2\", \"Topic2\", \"Topic2\", \"Topic2\", \"Topic2\", \"Topic2\", \"Topic2\", \"Topic2\", \"Topic2\", \"Topic2\", \"Topic2\", \"Topic2\", \"Topic2\", \"Topic2\", \"Topic2\", \"Topic2\", \"Topic2\", \"Topic2\", \"Topic2\", \"Topic2\", \"Topic2\", \"Topic2\", \"Topic2\", \"Topic2\", \"Topic2\", \"Topic2\", \"Topic2\", \"Topic2\", \"Topic2\", \"Topic2\", \"Topic2\", \"Topic2\", \"Topic2\", \"Topic2\", \"Topic2\", \"Topic2\", \"Topic2\", \"Topic2\", \"Topic2\", \"Topic2\", \"Topic2\", \"Topic2\", \"Topic2\", \"Topic2\", \"Topic2\", \"Topic2\", \"Topic2\", \"Topic2\", \"Topic2\", \"Topic2\", \"Topic2\", \"Topic3\", \"Topic3\", \"Topic3\", \"Topic3\", \"Topic3\", \"Topic3\", \"Topic3\", \"Topic3\", \"Topic3\", \"Topic3\", \"Topic3\", \"Topic3\", \"Topic3\", \"Topic3\", \"Topic3\", \"Topic3\", \"Topic3\", \"Topic3\", \"Topic3\", \"Topic3\", \"Topic3\", \"Topic3\", \"Topic3\", \"Topic3\", \"Topic3\", \"Topic3\", \"Topic3\", \"Topic3\", \"Topic3\", \"Topic3\", \"Topic3\", \"Topic3\", \"Topic3\", \"Topic3\", \"Topic3\", \"Topic3\", \"Topic3\", \"Topic3\", \"Topic3\", \"Topic3\", \"Topic3\", \"Topic3\", \"Topic3\", \"Topic3\", \"Topic3\", \"Topic3\", \"Topic3\", \"Topic3\", \"Topic3\", \"Topic3\", \"Topic3\", \"Topic3\", \"Topic3\", \"Topic3\", \"Topic4\", \"Topic4\", \"Topic4\", \"Topic4\", \"Topic4\", \"Topic4\", \"Topic4\", \"Topic4\", \"Topic4\", \"Topic4\", \"Topic4\", \"Topic4\", \"Topic4\", \"Topic4\", \"Topic4\", \"Topic4\", \"Topic4\", \"Topic4\", \"Topic4\", \"Topic4\", \"Topic4\", \"Topic4\", \"Topic4\", \"Topic4\", \"Topic4\", \"Topic4\", \"Topic4\", \"Topic4\", \"Topic4\", \"Topic4\", \"Topic4\", \"Topic4\", \"Topic4\", \"Topic4\", \"Topic4\", \"Topic4\", \"Topic4\", \"Topic4\", \"Topic4\", \"Topic4\", \"Topic4\", \"Topic4\", \"Topic4\", \"Topic4\", \"Topic4\", \"Topic4\", \"Topic4\", \"Topic4\", \"Topic4\", \"Topic4\", \"Topic4\", \"Topic4\", \"Topic4\", \"Topic4\", \"Topic4\", \"Topic4\", \"Topic4\", \"Topic4\", \"Topic5\", \"Topic5\", \"Topic5\", \"Topic5\", \"Topic5\", \"Topic5\", \"Topic5\", \"Topic5\", \"Topic5\", \"Topic5\", \"Topic5\", \"Topic5\", \"Topic5\", \"Topic5\", \"Topic5\", \"Topic5\", \"Topic5\", \"Topic5\", \"Topic5\", \"Topic5\", \"Topic5\", \"Topic5\", \"Topic5\", \"Topic5\", \"Topic5\", \"Topic5\", \"Topic5\", \"Topic5\", \"Topic5\", \"Topic5\", \"Topic5\", \"Topic5\", \"Topic5\", \"Topic5\", \"Topic5\", \"Topic5\", \"Topic5\", \"Topic5\", \"Topic5\", \"Topic5\", \"Topic5\", \"Topic5\", \"Topic5\", \"Topic5\", \"Topic5\", \"Topic5\", \"Topic5\", \"Topic5\", \"Topic5\", \"Topic5\", \"Topic5\", \"Topic5\", \"Topic5\", \"Topic5\", \"Topic5\", \"Topic5\", \"Topic5\", \"Topic5\", \"Topic5\", \"Topic6\", \"Topic6\", \"Topic6\", \"Topic6\", \"Topic6\", \"Topic6\", \"Topic6\", \"Topic6\", \"Topic6\", \"Topic6\", \"Topic6\", \"Topic6\", \"Topic6\", \"Topic6\", \"Topic6\", \"Topic6\", \"Topic6\", \"Topic6\", \"Topic6\", \"Topic6\", \"Topic6\", \"Topic6\", \"Topic6\", \"Topic6\", \"Topic6\", \"Topic6\", \"Topic6\", \"Topic6\", \"Topic6\", \"Topic6\", \"Topic6\", \"Topic6\", \"Topic6\", \"Topic6\", \"Topic6\", \"Topic6\", \"Topic6\", \"Topic6\", \"Topic6\", \"Topic6\", \"Topic6\", \"Topic6\", \"Topic6\", \"Topic6\", \"Topic6\", \"Topic6\", \"Topic6\", \"Topic6\", \"Topic6\", \"Topic6\", \"Topic6\", \"Topic6\", \"Topic6\", \"Topic6\", \"Topic6\", \"Topic6\", \"Topic6\", \"Topic6\", \"Topic6\"], \"Term\": [\"involuntary\", \"numberfull\", \"usual\", \"grossup\", \"second\", \"scheduled\", \"numberor\", \"auxilium\", \"healthcare\", \"santarus\", \"constructive\", \"accountant\", \"multiply\", \"participant\", \"w\", \"massachusetts\", \"numberday\", \"eliminate\", \"defer\", \"city\", \"equitybased\", \"onehalf\", \"contingent\", \"pto\", \"numberthe\", \"continuously\", \"unexercised\", \"percentage\", \"human\", \"sanction\", \"auxilium\", \"anumber\", \"adams\", \"timebased\", \"acceptance\", \"defamation\", \"bnumber\", \"insider\", \"ivinformation\", \"five\", \"numberyear\", \"manager\", \"adrian\", \"numberbiii\", \"eeoc\", \"doddfrank\", \"number409anumberbnumber\", \"numberpersonal\", \"oneyear\", \"mutually\", \"circulation\", \"manufactured\", \"itemize\", \"recoupment\", \"forever\", \"overbroad\", \"liable\", \"delegable\", \"electronic\", \"january1\", \"reveal\", \"illness\", \"involuntarily\", \"renewal\", \"executes\", \"armando\", \"competitor\", \"aabove\", \"disparage\", \"develop\", \"analogous\", \"exception\", \"assigns\", \"seven\", \"custody\", \"copyright\", \"software\", \"patent\", \"contingent\", \"postpone\", \"specification\", \"renew\", \"documentation\", \"executor\", \"sanction\", \"protect\", \"section2\", \"legitimate\", \"memorandum\", \"grossup\", \"march\", \"numberfull\", \"12month\", \"xa\", \"section4dii\", \"centre\", \"numbercalendarday\", \"vabove\", \"scheduled\", \"numbermiles\", \"distinguished\", \"proehl\", \"santarus\", \"pencil\", \"iiiof\", \"zmake\", \"healthcare\", \"transcript\", \"loan\", \"exercised\", \"companywide\", \"messenger\", \"section5b\", \"strictly\", \"keyman\", \"covenantsblue\", \"ithen\", \"compile\", \"cresign\", \"section1c\", \"numberor\", \"ito\", \"usual\", \"section1d\", \"continuously\", \"money\", \"derive\", \"accident\", \"pto\", \"city\", \"k\", \"breadth\", \"outplacement\", \"interpretive\", \"iian\", \"unexercised\", \"telecopy\", \"gerald\", \"impact\", \"relieve\", \"numberconsecutive\", \"involuntary\", \"grossup\", \"auxilium\", \"x\", \"participant\", \"human\", \"obligated\", \"y\", \"diminution\", \"section21\", \"large\", \"eliminate\", \"numb\", \"care\", \"second\", \"treatment\", \"pro\", \"xthe\", \"satisfied\", \"rata\", \"multiply\", \"parachute\", \"exempt\", \"15th\", \"criterion\", \"equitybased\", \"avoidance\", \"method\", \"relevant\", \"wish\", \"moral\", \"notification\", \"annualized\", \"aggregate\", \"defer\", \"contingent\", \"high\", \"statutory\", \"net\", \"grossup\", \"percentage\", \"massachusetts\", \"enterprise\", \"conclusion\", \"maximum\", \"copyright\", \"postpone\", \"protect\", \"auxilium\", \"involuntary\", \"executor\", \"software\", \"renew\", \"develop\", \"analogous\", \"assigns\", \"numberyear\", \"w\", \"multiply\", \"eighteen\", \"numberthe\", \"sixtieth\", \"single\", \"xthe\", \"bad\", \"equitybased\", \"opinion\", \"ythe\", \"fraction\", \"housing\", \"grossup\", \"contact\", \"constructive\", \"nine\", \"iiia\", \"discretionary\", \"trial\", \"binding\", \"administer\", \"old\", \"statutory\", \"a\", \"section9\", \"pending\", \"contractual\", \"fortyfive\", \"credit\", \"essential\", \"percentage\", \"nonqualified\", \"resolution\", \"expire\", \"twentyone\", \"gerald\", \"deny\", \"cancellation\", \"conclusion\", \"maximum\", \"numberday\", \"iiithe\", \"civil\", \"usual\", \"high\", \"numberor\", \"defer\", \"numberfull\", \"santarus\", \"scheduled\", \"healthcare\", \"seven\", \"auxilium\", \"assigns\", \"involuntary\", \"pto\", \"unexercised\", \"accountant\", \"numbernumber\", \"reassignment\", \"october\", \"misappropriation\", \"recognition\", \"week\", \"conclusive\", \"washington\", \"desirable\", \"job\", \"onehalf\", \"charitable\", \"dental\", \"operational\", \"acrosstheboard\", \"involuntary\", \"agreementthis\", \"exclusively\", \"recital\", \"ambiguity\", \"discussion\", \"criterion\", \"refuse\", \"status\", \"contemplate\", \"sufficient\", \"travel\", \"overnight\", \"register\", \"second\", \"incorporate\", \"regular\", \"sanction\", \"access\", \"thencurrent\", \"calculation\", \"usual\", \"mutually\", \"cooperate\", \"postpone\", \"patent\", \"unexercised\", \"constructive\", \"numberyear\", \"auxilium\", \"copyright\", \"numberfull\", \"software\", \"analogous\", \"numberor\", \"renew\", \"numberday\", \"protect\", \"assigns\", \"scheduled\", \"massachusetts\", \"healthcare\", \"documentation\", \"reassignment\", \"involuntary\", \"fund\", \"recognition\", \"acrosstheboard\", \"masculine\", \"facsimile\", \"government\", \"charitable\", \"conclusive\", \"agreementthis\", \"discussion\", \"old\", \"finally\", \"15th\", \"meet\", \"ambiguity\", \"washington\", \"community\", \"pertain\", \"reverse\", \"ten\", \"register\", \"diminution\", \"week\", \"fulltime\", \"constructive\", \"overnight\", \"crime\", \"language\", \"incorporate\", \"massachusetts\", \"numberday\", \"nonqualified\", \"deny\", \"civil\", \"numberor\", \"healthcare\", \"scheduled\", \"grossup\", \"usual\", \"city\", \"seven\", \"numberfull\", \"accountant\", \"santarus\", \"ito\", \"cooperate\", \"second\", \"defer\", \"interpretive\", \"continuously\", \"pto\", \"high\", \"patent\", \"auxilium\", \"copyright\", \"protect\", \"contingent\"], \"loglift\": [30.0, 29.0, 28.0, 27.0, 26.0, 25.0, 24.0, 23.0, 22.0, 21.0, 20.0, 19.0, 18.0, 17.0, 16.0, 15.0, 14.0, 13.0, 12.0, 11.0, 10.0, 9.0, 8.0, 7.0, 6.0, 5.0, 4.0, 3.0, 2.0, 1.0, 0.66610000000000003, 0.63800000000000001, 0.59570000000000001, 0.58279999999999998, 0.58150000000000002, 0.56259999999999999, 0.55369999999999997, 0.53849999999999998, 0.53349999999999997, 0.5302, 0.53000000000000003, 0.52149999999999996, 0.52010000000000001, 0.51770000000000005, 0.5131, 0.51239999999999997, 0.50970000000000004, 0.50880000000000003, 0.50849999999999995, 0.50029999999999997, 0.49809999999999999, 0.49609999999999999, 0.49580000000000002, 0.49540000000000001, 0.49299999999999999, 0.48999999999999999, 0.4844, 0.4844, 0.4819, 0.4763, 0.47170000000000001, 0.46960000000000002, 0.45850000000000002, 0.4632, 0.46079999999999999, 0.45810000000000001, 0.45269999999999999, 0.46050000000000002, 0.4607, 0.37919999999999998, 0.34129999999999999, 0.37419999999999998, 0.31480000000000002, 0.3251, 0.4415, 0.2447, 0.2858, 0.2555, 0.29449999999999998, 0.24249999999999999, 0.30930000000000002, 0.2404, 0.26550000000000001, 0.2296, 0.2361, 0.19539999999999999, 0.25059999999999999, 0.28599999999999998, 0.24379999999999999, -0.42559999999999998, 1.0851, 0.92059999999999997, 0.89429999999999998, 0.877, 0.86140000000000005, 0.86060000000000003, 0.85940000000000005, 0.85129999999999995, 0.84999999999999998, 0.8458, 0.83789999999999998, 0.83150000000000002, 0.82889999999999997, 0.8286, 0.8236, 0.8206, 0.8095, 0.80669999999999997, 0.79900000000000004, 0.79779999999999995, 0.79679999999999995, 0.79649999999999999, 0.79290000000000005, 0.78859999999999997, 0.78480000000000005, 0.78369999999999995, 0.78190000000000004, 0.78080000000000005, 0.7752, 0.77449999999999997, 0.77339999999999998, 0.76700000000000002, 0.73799999999999999, 0.76590000000000003, 0.74990000000000001, 0.74670000000000003, 0.74019999999999997, 0.74299999999999999, 0.70920000000000005, 0.69740000000000002, 0.72989999999999999, 0.72519999999999996, 0.72760000000000002, 0.70679999999999998, 0.70930000000000004, 0.62160000000000004, 0.69379999999999997, 0.64629999999999999, 0.66500000000000004, 0.66669999999999996, 0.58220000000000005, 0.1988, -0.13969999999999999, -1.0284, 1.2825, 1.2745, 1.1781999999999999, 1.0545, 1.0058, 0.98860000000000003, 0.98429999999999995, 0.97130000000000005, 0.94599999999999995, 0.94299999999999995, 0.93569999999999998, 0.92249999999999999, 0.90190000000000003, 0.89890000000000003, 0.89319999999999999, 0.88580000000000003, 0.88349999999999995, 0.87790000000000001, 0.87670000000000003, 0.86719999999999997, 0.8296, 0.82379999999999998, 0.82079999999999997, 0.81489999999999996, 0.81200000000000006, 0.80940000000000001, 0.80549999999999999, 0.79700000000000004, 0.79120000000000001, 0.7853, 0.78210000000000002, 0.76290000000000002, 0.72219999999999995, 0.70199999999999996, 0.73909999999999998, 0.71050000000000002, 0.33589999999999998, 0.56920000000000004, 0.53649999999999998, 0.52829999999999999, 0.63639999999999997, 0.45019999999999999, 0.25119999999999998, 0.2666, 0.30980000000000002, -0.51419999999999999, 0.026200000000000001, 0.2014, 0.1583, 0.1817, 0.18809999999999999, -0.041399999999999999, -0.112, -0.14399999999999999, 1.4224000000000001, 1.3243, 1.2446999999999999, 1.1772, 1.1298999999999999, 1.1296999999999999, 0.96889999999999998, 0.9597, 0.9083, 0.90410000000000001, 0.84660000000000002, 0.84099999999999997, 0.83889999999999998, 0.82830000000000004, 0.82650000000000001, 0.82079999999999997, 0.79790000000000005, 0.79620000000000002, 0.79320000000000002, 0.78500000000000003, 0.76570000000000005, 0.76290000000000002, 0.75039999999999996, 0.74880000000000002, 0.748, 0.74639999999999995, 0.73280000000000001, 0.73140000000000005, 0.72440000000000004, 0.70599999999999996, 0.70169999999999999, 0.68989999999999996, 0.67689999999999995, 0.6532, 0.65600000000000003, 0.60089999999999999, 0.5978, 0.62390000000000001, 0.60229999999999995, 0.58630000000000004, 0.44829999999999998, 0.43120000000000003, 0.57809999999999995, 0.52400000000000002, 0.12529999999999999, 0.45319999999999999, 0.11899999999999999, 0.34710000000000002, -0.14050000000000001, 0.078899999999999998, -0.0247, 0.064100000000000004, 0.084900000000000003, -0.70679999999999998, -0.078100000000000003, -0.23080000000000001, 0.1691, 0.18310000000000001, 1.3718999999999999, 1.3717999999999999, 1.3714, 1.3351, 1.3267, 1.3039000000000001, 1.2166999999999999, 1.1958, 1.1783999999999999, 1.1229, 1.0775999999999999, 1.0677000000000001, 1.0486, 1.0457000000000001, 1.0390999999999999, 1.0125999999999999, 1.0095000000000001, 1.0046999999999999, 1.0008999999999999, 0.99329999999999996, 0.94489999999999996, 0.93899999999999995, 0.89749999999999996, 0.86799999999999999, 0.85719999999999996, 0.83069999999999999, 0.8246, 0.81799999999999995, 0.78280000000000005, 0.77259999999999995, 0.74299999999999999, 0.71150000000000002, 0.69820000000000004, 0.51219999999999999, 0.47739999999999999, 0.6673, 0.59260000000000002, 0.1389, 0.42230000000000001, 0.51570000000000005, 0.17219999999999999, 0.1414, 0.30669999999999997, 0.29620000000000002, 0.012800000000000001, -0.59150000000000003, 0.013299999999999999, -0.3639, 0.1009, -0.038100000000000002, -0.2165, 0.049299999999999997, 0.19270000000000001, 0.061499999999999999, -0.22620000000000001, -0.379, 0.25459999999999999, -0.29949999999999999, 0.020799999999999999, 1.0222, 1.0087999999999999, 0.98919999999999997, 0.88959999999999995, 0.84379999999999999, 0.83479999999999999, 0.83460000000000001, 0.80589999999999995, 0.79590000000000005, 0.79339999999999999, 0.78520000000000001, 0.78369999999999995, 0.77910000000000001, 0.77059999999999995, 0.76529999999999998, 0.73229999999999995, 0.72829999999999995, 0.70909999999999995, 0.70679999999999998, 0.70530000000000004, 0.70509999999999995, 0.70179999999999998, 0.70040000000000002, 0.6845, 0.68379999999999996, 0.67720000000000002, 0.66890000000000005, 0.66639999999999999, 0.66600000000000004, 0.64680000000000004, 0.64539999999999997, 0.59099999999999997, 0.52129999999999999, 0.55489999999999995, 0.56510000000000005, 0.52669999999999995, 0.252, 0.26779999999999998, 0.2127, 0.20649999999999999, 0.1303, 0.33029999999999998, 0.22220000000000001, -0.013100000000000001, 0.4446, 0.1479, 0.46339999999999998, 0.47660000000000002, 0.1152, 0.22220000000000001, 0.41670000000000001, 0.1986, 0.17710000000000001, 0.32740000000000002, -0.073300000000000004, -1.1140000000000001, -0.20119999999999999, -0.0080999999999999996, -0.047600000000000003], \"Freq\": [115.0, 183.0, 140.0, 122.0, 90.0, 121.0, 118.0, 351.0, 98.0, 100.0, 60.0, 41.0, 40.0, 56.0, 35.0, 52.0, 60.0, 53.0, 60.0, 64.0, 43.0, 38.0, 72.0, 62.0, 39.0, 62.0, 59.0, 50.0, 45.0, 69.0, 251.09889985580355, 42.163775658972568, 11.460953537310525, 22.73384481736143, 24.477168671965405, 8.971573780556712, 20.860914894398032, 9.3485371870766976, 12.225933479567864, 40.891307460678611, 67.193854998122973, 9.1805754239599704, 19.337296821904477, 7.6450836925154153, 13.985011879695138, 15.343667602274524, 27.041107036283808, 16.718496848141498, 25.593977767642052, 30.546764693482125, 18.194887728517472, 13.946173004140913, 11.427457000182013, 20.180463114308562, 7.5383265514405569, 12.270109821017117, 10.69911444056204, 8.537013034171439, 28.038838103808015, 11.241462505560699, 25.039903287996019, 28.650016426579384, 32.64591740769869, 27.067502699145034, 22.411883710415015, 21.31642017811529, 22.504415517479469, 19.664848983070598, 19.377013923606828, 39.782307379491975, 49.888751775227327, 35.910803086577047, 53.43091032686452, 46.491395723786937, 22.013234826470104, 44.938119840824172, 38.125531717585417, 41.265187481325349, 35.916874576511766, 38.420793894577521, 31.080860577941596, 35.009513249974852, 32.225230326704981, 34.236324979942054, 32.46893980700581, 32.347289888743532, 29.441050281658349, 28.013090201062127, 27.658368709434864, 29.412276961855341, 10.648012567798915, 118.18802822910004, 15.529517911389974, 12.976761521223262, 24.73702005017908, 12.691229638222174, 12.903783883558111, 11.605817602841167, 72.714564531735434, 26.488917249816229, 13.271269919685079, 25.439238630602972, 58.851894358199928, 12.855469883819996, 11.282698578689601, 12.018831686015009, 56.960091485445879, 13.039357809522746, 12.679667186870374, 12.106851214986095, 11.318431927003843, 11.761274388160679, 11.791932645148842, 13.196546342001279, 13.010582282761915, 12.253600438767487, 11.69983674443108, 23.692408953576397, 11.725061503434233, 12.327297007609193, 66.00866241094478, 21.433709304743186, 75.103366578711842, 21.909417066085613, 33.73914478015498, 25.030231673154859, 23.975909237205961, 22.471033958211788, 32.57982471161408, 33.386754975387063, 22.48636491585464, 22.579793332911688, 21.712962192760138, 21.389896003030429, 20.759403782158586, 28.431294228433671, 20.804355720021938, 23.761806451514882, 21.298207861065727, 21.019259416511346, 23.422126459709261, 36.144356113526136, 27.361282658126477, 32.241501733311708, 16.491256840027894, 28.973092376149545, 21.206450054073425, 5.0509436313633191, 6.3626939363029447, 7.5517410798401201, 8.562584554555011, 4.6586560942878119, 19.938926196876636, 11.677077456186392, 8.5307287987238603, 32.749009634531724, 4.4810423474642072, 8.3281265966639602, 3.9389125618071952, 3.7589486385973929, 7.4769196154650128, 14.049363763011341, 16.00918923010633, 13.115542033680212, 7.5400016070499962, 2.6766948474053001, 14.408760940377881, 6.7191661349374785, 12.59764198796889, 7.280683061692983, 6.7496369645971184, 7.5389473253469834, 4.6544889892319192, 4.450957965016749, 8.0296336533513593, 18.861816085322332, 21.713444816625834, 13.792468950944617, 10.108595096240663, 9.0179727216435754, 24.824677743058647, 12.984744494154075, 13.052103389105252, 12.977486807314008, 9.8316357936308592, 13.30335100874432, 17.828382508264774, 15.514266397863969, 14.294425357105116, 30.404139272397078, 17.152742307654755, 13.118306122693522, 13.229114450867113, 13.012272052092689, 12.95316116713637, 13.410992960468951, 13.744387088266539, 13.497505605917393, 15.91563435496403, 16.57208944681847, 10.862303213060791, 13.816940776395571, 6.8455450451669186, 10.136587892733679, 3.2071662711477011, 2.5522591056793189, 11.870910738849922, 6.1342303455910479, 3.3710367323563371, 5.1923406732550887, 2.8235091988348726, 30.665396982297914, 2.8957230276780885, 14.974381249477002, 3.7545136321358719, 3.5279824593312079, 3.6041137363149511, 4.6087218061740458, 4.6483674578634915, 5.2913022511066607, 2.3698462324539551, 7.7049532503855671, 2.2076877978777145, 2.3253963737345438, 3.9056411517560412, 2.3571482851083592, 2.9020962203093141, 2.285338888958762, 4.9065420262271928, 11.059728739134819, 9.2599408129745608, 8.416851543589372, 8.0858441444581324, 10.181594896700913, 9.6363966864776902, 6.9243728691752118, 6.9598019482818883, 7.0589591552096298, 10.02337514820268, 10.231837467807638, 6.7441747682422015, 7.3308629140256647, 17.325570099264031, 8.11810907432241, 14.605693249586761, 9.395639745603189, 17.411514664727662, 11.834804355730389, 12.90854248876925, 11.506972203467825, 10.879761039431052, 18.931485634462657, 10.732354115092562, 10.013447206302839, 8.0818188901421237, 7.8063942442191019, 10.104167707357993, 5.0138644086774997, 2.0627421912938981, 3.1923533430127655, 3.1482635879050038, 3.1219266256437006, 2.848297316107312, 2.4456245908494783, 2.4295091368127739, 1.8638249155416007, 4.6903307965573475, 7.0201377053817087, 1.4050333328397786, 3.4031947585233353, 1.4954420251650855, 2.3056694935938769, 19.687759792074221, 1.8185901329200278, 2.1543232909607011, 3.2292004756908099, 1.4469113183075986, 1.948651898110203, 1.2372454623846092, 2.3488041941678408, 1.9311492619610859, 3.533649308354339, 2.3917070742902018, 4.208143234781307, 4.6982366318988351, 1.7937657453602116, 11.75060838328575, 4.5630037955289486, 3.7304547619421147, 7.2421518426441951, 6.331408078593789, 3.5125320391746899, 3.9677044234641725, 9.9896122560793756, 4.7819449152341527, 3.8938517562723312, 6.0611002101392728, 6.2310152272277426, 5.02445076264934, 5.0405155806191733, 6.7796528524329283, 12.083449638581252, 6.0344900593152886, 7.9206560708164222, 5.3631063855687193, 5.7773914961494732, 5.9394430799729205, 4.8944154487084237, 4.5852348138727637, 4.788467006320257, 5.2645987964725105, 5.1516582990646533, 4.227604529597933, 4.5497558033097931, 4.2700808088627698, 1.4425708045282422, 19.507958003448987, 2.1611532580984094, 2.0454579891234155, 1.9311618813522897, 2.946324682092849, 2.8868734532347169, 3.1685755176347583, 1.0820303397280235, 1.6215371250700028, 1.4478507932261406, 1.6543104740070667, 1.3755028093237198, 1.6960865565366994, 3.0105014506197536, 2.8240769665670644, 1.1553200077443273, 1.5067040978443744, 5.0906316656892443, 2.3252477994949787, 2.0621407936951739, 4.0439354433058794, 1.6547786703576655, 2.372168792736598, 1.6575573108440018, 2.3293616923311622, 7.2556707089875232, 4.1467972018898767, 2.3028191879154369, 2.7691191592803071, 4.2349775371326368, 5.8681936371211956, 6.3152055704330579, 4.6228280833844542, 3.6824644285107699, 4.1460310110062109, 9.4096020534780163, 7.9564093195166778, 9.2311361479421414, 9.2869687053089418, 9.8208146291252501, 5.5528975156376772, 7.0391181515950443, 11.154467350168137, 3.9634307157659041, 7.1517043060837242, 3.7987595256869962, 3.7132126900457982, 6.2192326564981153, 4.6767397485938389, 3.84225039469192, 4.6675923400298469, 4.5945322457680335, 4.0375152738216746, 4.9845126508366686, 7.1056895967269567, 4.8283170903695112, 4.428589379364432, 4.281262543223213], \"Total\": [115.0, 183.0, 140.0, 122.0, 90.0, 121.0, 118.0, 351.0, 98.0, 100.0, 60.0, 41.0, 40.0, 56.0, 35.0, 52.0, 60.0, 53.0, 60.0, 64.0, 43.0, 38.0, 72.0, 62.0, 39.0, 62.0, 59.0, 50.0, 45.0, 69.0, 351.86516573128318, 60.763391417183399, 17.230350264058643, 34.623774447693947, 37.326959563778416, 13.942488162140627, 32.7089364236923, 14.882784714448881, 19.559878349547326, 65.642937845157391, 107.87993442190837, 14.865619099547031, 31.355603393343223, 12.426112857459348, 22.836259147524281, 25.073133442674919, 44.307425158956377, 27.418472905197486, 41.986438408473091, 50.521612723280825, 30.159796300391523, 23.1632533629591, 18.984854858925772, 33.54096042439037, 12.55978210632323, 20.503507414199564, 17.978831623851622, 14.346010360307577, 47.234786059018369, 19.045069591190074, 42.615851399979796, 48.861267115999432, 56.296841541333492, 46.458167448317447, 38.559692417099917, 36.775992556291065, 39.03449963634597, 33.846782844708336, 33.344726145196752, 74.267811170919131, 96.731237117658154, 67.373828947283471, 106.38468587739544, 91.618201160397319, 38.612978230875143, 95.970397119776081, 78.144168512974346, 87.184334366680389, 72.98096606543119, 82.236403000442635, 62.223822447349328, 75.088000079280164, 67.406392201187003, 74.226826077033579, 69.939144147625839, 72.571220557706368, 62.505999051741476, 57.407878900520181, 59.120966878017008, 122.78570645846885, 14.039726408595291, 183.698671360151, 24.780714971401014, 21.068054743460227, 40.794025631230994, 20.944904328083965, 21.323293671585237, 19.333714142376166, 121.29355803678312, 44.368475368258338, 22.406096238342702, 43.225064307707648, 100.2583416299702, 21.906302540273376, 19.323206001041207, 20.645754722634464, 98.938011754455957, 22.711760136463454, 22.257474553532735, 21.275946313278311, 19.911280935775576, 20.695221742100138, 20.825601062277581, 23.404911197763148, 23.163626038482494, 21.840654133350018, 20.890080028271644, 42.350312735300037, 21.077274027048659, 22.175292079654184, 118.87289043479365, 38.844774322906176, 140.12175340811109, 39.749904888595665, 62.202651458746701, 46.294355148032601, 44.633062659520149, 41.716420725527513, 62.562053005851823, 64.87023531540963, 42.29520091606927, 42.668484981437011, 40.934558331017293, 41.170795860061375, 39.857757522341664, 59.592266554035177, 40.569369835657177, 48.588861371581878, 42.746417455585615, 42.114570718477061, 51.063641241805868, 115.62835305137278, 122.78570645846885, 351.86516573128318, 31.653282834170355, 56.055715963855071, 45.176847693718408, 12.176452890041929, 16.105475084491989, 19.446315671893945, 22.144863852454211, 12.205626420409322, 53.581116078258688, 31.473444901248364, 23.159973632796039, 90.091678183064118, 12.58422016944758, 23.458675239601853, 11.157682789420182, 10.727728503724533, 21.387591811090587, 40.411072182696373, 46.105632222211653, 38.134382820014245, 22.763192747663133, 8.1277132059220598, 43.880635003228555, 20.584602084441148, 38.703738835815578, 22.426922992707279, 20.872210641947564, 23.51409427131366, 14.600758742057112, 14.045166815299126, 25.420285511813159, 60.871058423444346, 72.98096606543119, 47.302648661278056, 33.406694454878071, 30.666272393056087, 122.78570645846885, 50.857395690821889, 52.819783885573358, 52.952541157909458, 36.005638529306395, 58.692339805816658, 95.970397119776081, 82.236403000442635, 72.571220557706368, 351.86516573128318, 115.62835305137278, 74.226826077033579, 78.144168512974346, 75.088000079280164, 74.267811170919131, 96.731237117658154, 106.38468587739544, 107.87993442190837, 35.182568496829788, 40.411072182696373, 28.68059293189949, 39.030785176137812, 20.275238275440667, 30.028180874104276, 11.157682789420182, 8.9612448192837455, 43.880635003228555, 22.770976353115362, 13.253368425821721, 20.52911866207921, 11.187103458648494, 122.78570645846885, 11.616400614777495, 60.413374431332869, 15.498788243269882, 14.587060314539265, 14.946637268258655, 19.270639357813295, 19.816497531901483, 22.619670092169827, 10.257731626531728, 33.406694454878071, 9.5795117173279305, 10.106213949454009, 17.205673716273836, 10.398853758940716, 12.893587261086742, 10.341943605511661, 22.298031073843553, 50.857395690821889, 43.141659567998325, 40.15187842795342, 38.466086555394035, 51.181113799193568, 48.588861371581878, 34.014982319809413, 34.936721019794319, 36.005638529306395, 58.692339805816658, 60.946697323846756, 34.681718825994572, 39.796269441658687, 140.12175340811109, 47.302648661278056, 118.87289043479365, 60.871058423444346, 183.698671360151, 100.2583416299702, 121.29355803678312, 98.938011754455957, 91.618201160397319, 351.86516573128318, 106.38468587739544, 115.62835305137278, 62.562053005851823, 59.592266554035177, 41.301442567601555, 20.498187460096545, 8.4365147032225014, 13.539340927255132, 13.464636225135202, 13.659141160095677, 13.597511959950275, 11.921790071999945, 12.051622581257032, 9.7732264486174252, 25.734115921539317, 38.89873313657791, 7.9352041736787093, 19.277679338167928, 8.5268265096193421, 13.499360393082622, 115.62835305137278, 10.732514490441353, 12.761438047161757, 19.274827691142463, 9.0649817911294939, 12.280167315878074, 8.1277132059220598, 15.892170686607848, 13.207606348971545, 24.817903631570946, 16.899599283729984, 29.930411032124994, 34.615183369382024, 13.35153428086992, 90.091678183064118, 36.101727720027526, 29.910487252700683, 69.939144147625839, 63.30782787288063, 29.046512623025091, 35.354766058129471, 140.12175340811109, 50.521612723280825, 37.47291975648875, 82.236403000442635, 87.184334366680389, 59.592266554035177, 60.413374431332869, 107.87993442190837, 351.86516573128318, 95.970397119776081, 183.698671360151, 78.144168512974346, 96.731237117658154, 118.87289043479365, 75.088000079280164, 60.946697323846756, 72.571220557706368, 106.38468587739544, 121.29355803678312, 52.819783885573358, 98.938011754455957, 67.406392201187003, 8.4365147032225014, 115.62835305137278, 13.063010538458499, 13.659141160095677, 13.499360393082622, 20.782282331820053, 20.366239441106597, 23.005502917543044, 7.9352041736787093, 11.921790071999945, 10.732514490441353, 12.280167315878074, 10.257731626531728, 12.756475370815965, 22.763192747663133, 22.069490097142598, 9.0649817911294939, 12.051622581257032, 40.809935693072404, 18.669345037372267, 16.5594914118392, 32.582500277539467, 13.35153428086992, 19.446315671893945, 13.597511959950275, 19.23489400882864, 60.413374431332869, 34.615183369382024, 19.230816878445378, 23.573530578269988, 36.101727720027526, 52.819783885573358, 60.946697323846756, 43.141659567998325, 34.014982319809413, 39.796269441658687, 118.87289043479365, 98.938011754455957, 121.29355803678312, 122.78570645846885, 140.12175340811109, 64.87023531540963, 91.618201160397319, 183.698671360151, 41.301442567601555, 100.2583416299702, 38.844774322906176, 37.47291975648875, 90.091678183064118, 60.871058423444346, 41.170795860061375, 62.202651458746701, 62.562053005851823, 47.302648661278056, 87.184334366680389, 351.86516573128318, 95.970397119776081, 72.571220557706368, 72.98096606543119], \"logprob\": [30.0, 29.0, 28.0, 27.0, 26.0, 25.0, 24.0, 23.0, 22.0, 21.0, 20.0, 19.0, 18.0, 17.0, 16.0, 15.0, 14.0, 13.0, 12.0, 11.0, 10.0, 9.0, 8.0, 7.0, 6.0, 5.0, 4.0, 3.0, 2.0, 1.0, -3.3083999999999998, -5.0926, -6.3952999999999998, -5.7103000000000002, -5.6364999999999998, -6.6401000000000003, -5.7962999999999996, -6.5990000000000002, -6.3305999999999996, -5.1233000000000004, -4.6265999999999998, -6.6170999999999998, -5.8722000000000003, -6.8000999999999996, -6.1962000000000002, -6.1035000000000004, -5.5368000000000004, -6.0176999999999996, -5.5918000000000001, -5.4149000000000003, -5.9330999999999996, -6.1989999999999998, -6.3982000000000001, -5.8295000000000003, -6.8141999999999996, -6.327, -6.4640000000000004, -6.6898, -5.5006000000000004, -6.4146000000000001, -5.6136999999999997, -5.4790999999999999, -5.3484999999999996, -5.5358999999999998, -5.7245999999999997, -5.7747000000000002, -5.7205000000000004, -5.8554000000000004, -5.8700999999999999, -5.1508000000000003, -4.9244000000000003, -5.2531999999999996, -4.8558000000000003, -4.9949000000000003, -5.7426000000000004, -5.0289000000000001, -5.1932999999999998, -5.1142000000000003, -5.2530000000000001, -5.1856, -5.3975999999999997, -5.2786, -5.3615000000000004, -5.3009000000000004, -5.3539000000000003, -5.3577000000000004, -5.4518000000000004, -5.5015000000000001, -5.5143000000000004, -5.4527999999999999, -6.1106999999999996, -3.7038000000000002, -5.7332999999999998, -5.9128999999999996, -5.2676999999999996, -5.9351000000000003, -5.9184999999999999, -6.0244999999999997, -4.1894999999999998, -5.1993, -5.8903999999999996, -5.2397, -4.4009999999999998, -5.9222999999999999, -6.0528000000000004, -5.9896000000000003, -4.4337, -5.9081000000000001, -5.9359999999999999, -5.9823000000000004, -6.0495999999999999, -6.0111999999999997, -6.0086000000000004, -5.8960999999999997, -5.9103000000000003, -5.9702000000000002, -6.0164999999999997, -5.3109000000000002, -6.0143000000000004, -5.9641999999999999, -4.2862999999999998, -5.4111000000000002, -4.1571999999999996, -5.3891, -4.9573999999999998, -5.2560000000000002, -5.2990000000000004, -5.3638000000000003, -4.9923000000000002, -4.9679000000000002, -5.3631000000000002, -5.359, -5.3981000000000003, -5.4131, -5.4429999999999996, -5.1284999999999998, -5.4409000000000001, -5.3079999999999998, -5.4173999999999998, -5.4306000000000001, -5.3224, -4.8884999999999996, -5.1669, -5.0027999999999997, -5.1003999999999996, -4.5368000000000004, -4.8489000000000004, -6.2835999999999999, -6.0526999999999997, -5.8814000000000002, -5.7557999999999998, -6.3644999999999996, -4.9104999999999999, -5.4455999999999998, -5.7595000000000001, -4.4142999999999999, -6.4032999999999998, -5.7835999999999999, -6.5323000000000002, -6.5791000000000004, -5.8914, -5.2606000000000002, -5.1299999999999999, -5.3293999999999997, -5.883, -6.9185999999999996, -5.2354000000000003, -5.9981999999999998, -5.3696999999999999, -5.9180000000000001, -5.9936999999999996, -5.8830999999999998, -6.3654000000000002, -6.4100999999999999, -5.8201000000000001, -4.9661, -4.8253000000000004, -5.2790999999999997, -5.5898000000000003, -5.7039999999999997, -4.6913999999999998, -5.3394000000000004, -5.3342000000000001, -5.3399999999999999, -5.6176000000000004, -5.3151999999999999, -5.0224000000000002, -5.1614000000000004, -5.2432999999999996, -4.4885999999999999, -5.0609999999999999, -5.3292000000000002, -5.3208000000000002, -5.3372999999999999, -5.3418999999999999, -5.3071000000000002, -5.2826000000000004, -5.3007, -4.8547000000000002, -4.8143000000000002, -5.2366999999999999, -4.9961000000000002, -5.6984000000000004, -5.3059000000000003, -6.4565999999999999, -6.6849999999999996, -5.1478999999999999, -5.8080999999999996, -6.4067999999999996, -5.9748000000000001, -6.5839999999999996, -4.1989000000000001, -6.5587999999999997, -4.9157000000000002, -6.2991000000000001, -6.3613, -6.3399000000000001, -6.0941000000000001, -6.0854999999999997, -5.9558999999999997, -6.7591999999999999, -5.5801999999999996, -6.8300999999999998, -6.7781000000000002, -6.2595999999999998, -6.7645999999999997, -6.5566000000000004, -6.7954999999999997, -6.0313999999999997, -5.2187000000000001, -5.3963000000000001, -5.4917999999999996, -5.5319000000000003, -5.3014000000000001, -5.3564999999999996, -5.6870000000000003, -5.6818999999999997, -5.6677, -5.3170999999999999, -5.2965, -5.7133000000000003, -5.6299000000000001, -4.7698, -5.5278999999999998, -4.9405999999999999, -5.3818000000000001, -4.7648999999999999, -5.1509999999999998, -5.0640999999999998, -5.1791, -5.2351000000000001, -4.6811999999999996, -5.2488000000000001, -5.3181000000000003, -5.5324, -5.5670999999999999, -4.7447999999999997, -5.4455999999999998, -6.3337000000000003, -5.8970000000000002, -5.9108999999999998, -5.9192999999999998, -6.0110999999999999, -6.1635, -6.1700999999999997, -6.4351000000000003, -5.5122999999999998, -5.109, -6.7176999999999998, -5.8331, -6.6554000000000002, -6.2224000000000004, -4.0777999999999999, -6.4596999999999998, -6.2903000000000002, -5.8855000000000004, -6.6882999999999999, -6.3906000000000001, -6.8449, -6.2039, -6.3997000000000002, -5.7953999999999999, -6.1858000000000004, -5.6208, -5.5106000000000002, -6.4734999999999996, -4.5938999999999997, -5.5397999999999996, -5.7412000000000001, -5.0778999999999996, -5.2122999999999999, -5.8014000000000001, -5.6795999999999998, -4.7561999999999998, -5.4928999999999997, -5.6984000000000004, -5.2558999999999996, -5.2282000000000002, -5.4435000000000002, -5.4402999999999997, -5.1439000000000004, -4.5659000000000001, -5.2603, -4.9882999999999997, -5.3781999999999996, -5.3037999999999998, -5.2762000000000002, -5.4696999999999996, -5.5349000000000004, -5.4916, -5.3967999999999998, -5.4184999999999999, -5.6161000000000003, -5.5427, -5.6060999999999996, -6.6829000000000001, -4.0785, -6.2786999999999997, -6.3337000000000003, -6.3912000000000004, -5.9687999999999999, -5.9890999999999996, -5.8959999999999999, -6.9705000000000004, -6.5659000000000001, -6.6791999999999998, -6.5458999999999996, -6.7305000000000001, -6.5209999999999999, -5.9471999999999996, -6.0110999999999999, -6.9048999999999996, -6.6394000000000002, -5.4218999999999999, -6.2054999999999998, -6.3255999999999997, -5.6520999999999999, -6.5457000000000001, -6.1855000000000002, -6.5439999999999996, -6.2037000000000004, -5.0674999999999999, -5.6269999999999998, -6.2152000000000003, -6.0308000000000002, -5.6059000000000001, -5.2797999999999998, -5.2064000000000004, -5.5183, -5.7457000000000003, -5.6272000000000002, -4.8075999999999999, -4.9752999999999998, -4.8266999999999998, -4.8207000000000004, -4.7648000000000001, -5.335, -5.0978000000000003, -4.6375000000000002, -5.6722000000000001, -5.0819999999999999, -5.7145999999999999, -5.7374000000000001, -5.2217000000000002, -5.5067000000000004, -5.7032999999999996, -5.5087000000000002, -5.5244999999999997, -5.6536999999999997, -5.4429999999999996, -5.0884, -5.4748000000000001, -5.5612000000000004, -5.5951000000000004]}};\n",
       "\n",
       "function LDAvis_load_lib(url, callback){\n",
       "  var s = document.createElement('script');\n",
       "  s.src = url;\n",
       "  s.async = true;\n",
       "  s.onreadystatechange = s.onload = callback;\n",
       "  s.onerror = function(){console.warn(\"failed to load library \" + url);};\n",
       "  document.getElementsByTagName(\"head\")[0].appendChild(s);\n",
       "}\n",
       "\n",
       "if(typeof(LDAvis) !== \"undefined\"){\n",
       "   // already loaded: just create the visualization\n",
       "   !function(LDAvis){\n",
       "       new LDAvis(\"#\" + \"ldavis_el372664739318096121911808\", ldavis_el372664739318096121911808_data);\n",
       "   }(LDAvis);\n",
       "}else if(typeof define === \"function\" && define.amd){\n",
       "   // require.js is available: use it to load d3/LDAvis\n",
       "   require.config({paths: {d3: \"https://cdnjs.cloudflare.com/ajax/libs/d3/3.5.5/d3.min\"}});\n",
       "   require([\"d3\"], function(d3){\n",
       "      window.d3 = d3;\n",
       "      LDAvis_load_lib(\"https://cdn.rawgit.com/bmabey/pyLDAvis/files/ldavis.v1.0.0.js\", function(){\n",
       "        new LDAvis(\"#\" + \"ldavis_el372664739318096121911808\", ldavis_el372664739318096121911808_data);\n",
       "      });\n",
       "    });\n",
       "}else{\n",
       "    // require.js not available: dynamically load d3 & LDAvis\n",
       "    LDAvis_load_lib(\"https://cdnjs.cloudflare.com/ajax/libs/d3/3.5.5/d3.min.js\", function(){\n",
       "         LDAvis_load_lib(\"https://cdn.rawgit.com/bmabey/pyLDAvis/files/ldavis.v1.0.0.js\", function(){\n",
       "                 new LDAvis(\"#\" + \"ldavis_el372664739318096121911808\", ldavis_el372664739318096121911808_data);\n",
       "            })\n",
       "         });\n",
       "}\n",
       "</script>"
      ],
      "text/plain": [
       "<IPython.core.display.HTML object>"
      ]
     },
     "execution_count": 23,
     "metadata": {},
     "output_type": "execute_result"
    },
    {
     "data": {
      "text/plain": [
       "<matplotlib.figure.Figure at 0x11f100550>"
      ]
     },
     "metadata": {},
     "output_type": "display_data"
    }
   ],
   "source": [
    "def bow():\n",
    "    for doc in LineSentence(\"amendment_tokens.txt\"):\n",
    "        yield amendment_dictionary.doc2bow(doc)\n",
    "        \n",
    "MmCorpus.serialize(\"amendment_tokens_bow.txt\", bow())\n",
    "lda = LdaMulticore(MmCorpus(\"amendment_tokens_bow.txt\"), num_topics=6, workers=1, id2word=amendment_dictionary)\n",
    "lda_vis = pyLDAvis.gensim.prepare(lda, MmCorpus(\"amendment_tokens_bow.txt\"), amendment_dictionary)\n",
    "\n",
    "plt.figure(figsize=[10, 10])\n",
    "pyLDAvis.display(lda_vis)"
   ]
  },
  {
   "cell_type": "markdown",
   "metadata": {
    "collapsed": true
   },
   "source": [
    "## 9. Word2Vec: [Context based representation](https://quomodocumque.wordpress.com/2016/01/15/messing-around-with-word2vec/)\n",
    "\n",
    "While vectorization can be applied to document level observational units (e.g., with TF-IDF), it can also be applied to word level observational units.  One interesting way to do this is to encode a word based on it's context.  Context vectorization (featurization) of a word can be based on skip-grams (relative positions) or Bag-or-Words (proximity presence) of surrounding words.  While all possible feature vectors representing word contexts exist in a high dimensional space it turns out this space can reasonably be embeded into a lower dimensional space while still preserving the distances between the originally observed feature vectors representing contexts.  Words having similar contexts will have similar vector representations and subsequently similar lower dimensional embeddings. \n",
    "\n",
    "There are a number of ways to embed context feature vectors in a lower dimensional space. One way is to use a *neural network* that predicts a context from a word.  The input to the neural network is the Bag-or-Words representation of the word and the output is the Bag-of-Words representation fo the context.  The hidden layer preceding the output layer provides *feature engineering* that embeds the word into a lower dimensional vector that maps to (predicts) the context.  Thus, a word can be defined by this lower dimensional hidden layer vector that predicts the words context. Words appearing in similar contexts will necessarily have similar embedings.   \n",
    "\n",
    "While Word2Vec provides word vectorization capturing \"context similarity\", these vectors do not necessarily capture \"symantic similarity\". I.e., \"good\" and \"bad\" can appear in similar contexts. The [WordNet](https://wordnet.princeton.edu) attempts to define symantic similarity networks, e.g., \"is a\" and \"has a\" relationships.  Interestingly, however, Word2Vec embeddings can solve [anology](https://quomodocumque.wordpress.com/2016/01/15/messing-around-with-word2vec/) problems.  A commonly cited example is \"king is to man as *what* is to woman?\". It turns out the Word2Vec embedding closest to \"queen\" is the combination \"king\"-\"man\"+\"woman\" of Word2Vec embeddings. \n",
    "\n",
    "\n",
    "<img src=\"stuffs/linear-relationships.png\" alt=\"Drawing\" style=\"width: 1000px;\"/>"
   ]
  },
  {
   "cell_type": "code",
   "execution_count": 24,
   "metadata": {
    "collapsed": true
   },
   "outputs": [],
   "source": [
    "from gensim.models import Word2Vec\n",
    "from sklearn.manifold import TSNE\n",
    "from bokeh.plotting import figure, show, output_notebook\n",
    "from bokeh.models import HoverTool, ColumnDataSource, value"
   ]
  },
  {
   "cell_type": "code",
   "execution_count": 25,
   "metadata": {
    "collapsed": false
   },
   "outputs": [],
   "source": [
    "# tweets = pickle.load( codecs.open( \"data/earlyn.pkl\", \"rb\" ) )\n",
    "# tweets2 = tweets.message.values.tolist()\n",
    "# tweets2 = [unicode(d, \"utf-8\", errors='replace') for d in tweets2]"
   ]
  },
  {
   "cell_type": "code",
   "execution_count": 26,
   "metadata": {
    "collapsed": false
   },
   "outputs": [
    {
     "data": {
      "text/plain": [
       "[u'burned 900 calories doing 110 minutes of Shoulder supersets/ hiit #myfitnesspal',\n",
       " u'All I want is for my lawyer to call back',\n",
       " u'What about the loans they took?']"
      ]
     },
     "execution_count": 26,
     "metadata": {},
     "output_type": "execute_result"
    }
   ],
   "source": [
    "# print len(tweets2)\n",
    "# tweets2[:3]\n",
    "2738387\n",
    "[u'burned 900 calories doing 110 minutes of Shoulder supersets/ hiit #myfitnesspal',\n",
    " u'All I want is for my lawyer to call back',\n",
    " u'What about the loans they took?']"
   ]
  },
  {
   "cell_type": "code",
   "execution_count": 27,
   "metadata": {
    "collapsed": false
   },
   "outputs": [],
   "source": [
    "# f = open('tweets_tokens.txt', 'w+')\n",
    "# for d in tweets2:\n",
    "#     f.write(d.encode('utf8') + \"\\n\")\n",
    "# f.close()\n",
    "# myW2V = Word2Vec(LineSentence(\"tweets_tokens.txt\"), size=300, window=5, min_count=20, sg=1, seed=0)\n",
    "# for i in range(5):\n",
    "#     myW2V.train(LineSentence(\"tweets_tokens.txt\"))\n",
    "# myW2V.init_sims()\n",
    "# myW2V.train_count\n",
    "# pickle.dump(myW2V, open( \"myW2V.pkl\", \"wb\" ) )"
   ]
  },
  {
   "cell_type": "code",
   "execution_count": 28,
   "metadata": {
    "collapsed": false
   },
   "outputs": [],
   "source": [
    "myW2V = pickle.load( open( \"myW2V.pkl\", \"rb\" ) )"
   ]
  },
  {
   "cell_type": "code",
   "execution_count": 29,
   "metadata": {
    "collapsed": false
   },
   "outputs": [
    {
     "data": {
      "text/plain": [
       "[(u'soccer', 0.6129327416419983),\n",
       " (u'football', 0.5161957740783691),\n",
       " (u'shoes', 0.5100372433662415),\n",
       " (u'Basketball', 0.49950915575027466),\n",
       " (u'tennis', 0.48446518182754517)]"
      ]
     },
     "execution_count": 29,
     "metadata": {},
     "output_type": "execute_result"
    }
   ],
   "source": [
    "myW2V.most_similar(positive=['basketball'], topn=5)"
   ]
  },
  {
   "cell_type": "code",
   "execution_count": 30,
   "metadata": {
    "collapsed": false
   },
   "outputs": [
    {
     "name": "stdout",
     "output_type": "stream",
     "text": [
      "King and woman, without man is[(u'Queen', 0.3508613407611847)]\n",
      "walking and swam, without swimming is[(u'walked', 0.47129637002944946)]\n",
      "tx and boston, without man ma[(u'houston', 0.5061923265457153)]\n"
     ]
    }
   ],
   "source": [
    "print \"King and woman, without man is\" + str(myW2V.most_similar(positive=['King', 'Women'], negative=['man'], topn=1))\n",
    "print \"walking and swam, without swimming is\" + str(myW2V.most_similar(positive=['walking', 'swam'], negative=['swimming'], topn=1))\n",
    "print \"tx and boston, without ma\" + str(myW2V.most_similar(positive=['tx', 'boston'], negative=['ma'], topn=1))"
   ]
  },
  {
   "cell_type": "code",
   "execution_count": 34,
   "metadata": {
    "collapsed": false
   },
   "outputs": [
    {
     "data": {
      "text/html": [
       "\n",
       "    <div class=\"bk-root\">\n",
       "        <a href=\"http://bokeh.pydata.org\" target=\"_blank\" class=\"bk-logo bk-logo-small bk-logo-notebook\"></a>\n",
       "        <span id=\"76867223-3db1-471c-8b70-6ca7c4237a25\">Loading BokehJS ...</span>\n",
       "    </div>"
      ]
     },
     "metadata": {},
     "output_type": "display_data"
    },
    {
     "data": {
      "application/javascript": [
       "\n",
       "(function(global) {\n",
       "  function now() {\n",
       "    return new Date();\n",
       "  }\n",
       "\n",
       "  if (typeof (window._bokeh_onload_callbacks) === \"undefined\") {\n",
       "    window._bokeh_onload_callbacks = [];\n",
       "  }\n",
       "\n",
       "  function run_callbacks() {\n",
       "    window._bokeh_onload_callbacks.forEach(function(callback) { callback() });\n",
       "    delete window._bokeh_onload_callbacks\n",
       "    console.info(\"Bokeh: all callbacks have finished\");\n",
       "  }\n",
       "\n",
       "  function load_libs(js_urls, callback) {\n",
       "    window._bokeh_onload_callbacks.push(callback);\n",
       "    if (window._bokeh_is_loading > 0) {\n",
       "      console.log(\"Bokeh: BokehJS is being loaded, scheduling callback at\", now());\n",
       "      return null;\n",
       "    }\n",
       "    if (js_urls == null || js_urls.length === 0) {\n",
       "      run_callbacks();\n",
       "      return null;\n",
       "    }\n",
       "    console.log(\"Bokeh: BokehJS not loaded, scheduling load and callback at\", now());\n",
       "    window._bokeh_is_loading = js_urls.length;\n",
       "    for (var i = 0; i < js_urls.length; i++) {\n",
       "      var url = js_urls[i];\n",
       "      var s = document.createElement('script');\n",
       "      s.src = url;\n",
       "      s.async = false;\n",
       "      s.onreadystatechange = s.onload = function() {\n",
       "        window._bokeh_is_loading--;\n",
       "        if (window._bokeh_is_loading === 0) {\n",
       "          console.log(\"Bokeh: all BokehJS libraries loaded\");\n",
       "          run_callbacks()\n",
       "        }\n",
       "      };\n",
       "      s.onerror = function() {\n",
       "        console.warn(\"failed to load library \" + url);\n",
       "      };\n",
       "      console.log(\"Bokeh: injecting script tag for BokehJS library: \", url);\n",
       "      document.getElementsByTagName(\"head\")[0].appendChild(s);\n",
       "    }\n",
       "  };\n",
       "\n",
       "  var js_urls = ['https://cdn.pydata.org/bokeh/release/bokeh-0.12.0.min.js', 'https://cdn.pydata.org/bokeh/release/bokeh-widgets-0.12.0.min.js', 'https://cdn.pydata.org/bokeh/release/bokeh-compiler-0.12.0.min.js'];\n",
       "\n",
       "  var inline_js = [\n",
       "    function(Bokeh) {\n",
       "      Bokeh.set_log_level(\"info\");\n",
       "    },\n",
       "    \n",
       "    function(Bokeh) {\n",
       "      Bokeh.$(\"#76867223-3db1-471c-8b70-6ca7c4237a25\").text(\"BokehJS successfully loaded\");\n",
       "    },\n",
       "    function(Bokeh) {\n",
       "      console.log(\"Bokeh: injecting CSS: https://cdn.pydata.org/bokeh/release/bokeh-0.12.0.min.css\");\n",
       "      Bokeh.embed.inject_css(\"https://cdn.pydata.org/bokeh/release/bokeh-0.12.0.min.css\");\n",
       "      console.log(\"Bokeh: injecting CSS: https://cdn.pydata.org/bokeh/release/bokeh-widgets-0.12.0.min.css\");\n",
       "      Bokeh.embed.inject_css(\"https://cdn.pydata.org/bokeh/release/bokeh-widgets-0.12.0.min.css\");\n",
       "    }\n",
       "  ];\n",
       "\n",
       "  function run_inline_js() {\n",
       "    for (var i = 0; i < inline_js.length; i++) {\n",
       "      inline_js[i](window.Bokeh);\n",
       "    }\n",
       "  }\n",
       "\n",
       "  if (window._bokeh_is_loading === 0) {\n",
       "    console.log(\"Bokeh: BokehJS loaded, going straight to plotting\");\n",
       "    run_inline_js();\n",
       "  } else {\n",
       "    load_libs(js_urls, function() {\n",
       "      console.log(\"Bokeh: BokehJS plotting callback run at\", now());\n",
       "      run_inline_js();\n",
       "    });\n",
       "  }\n",
       "}(this));"
      ]
     },
     "metadata": {},
     "output_type": "display_data"
    },
    {
     "data": {
      "text/html": [
       "\n",
       "\n",
       "    <div class=\"bk-root\">\n",
       "        <div class=\"plotdiv\" id=\"55fc6360-33c3-43c4-9a19-b096fe0fff84\"></div>\n",
       "    </div>\n",
       "<script type=\"text/javascript\">\n",
       "  \n",
       "  (function(global) {\n",
       "    function now() {\n",
       "      return new Date();\n",
       "    }\n",
       "  \n",
       "    if (typeof (window._bokeh_onload_callbacks) === \"undefined\") {\n",
       "      window._bokeh_onload_callbacks = [];\n",
       "    }\n",
       "  \n",
       "    function run_callbacks() {\n",
       "      window._bokeh_onload_callbacks.forEach(function(callback) { callback() });\n",
       "      delete window._bokeh_onload_callbacks\n",
       "      console.info(\"Bokeh: all callbacks have finished\");\n",
       "    }\n",
       "  \n",
       "    function load_libs(js_urls, callback) {\n",
       "      window._bokeh_onload_callbacks.push(callback);\n",
       "      if (window._bokeh_is_loading > 0) {\n",
       "        console.log(\"Bokeh: BokehJS is being loaded, scheduling callback at\", now());\n",
       "        return null;\n",
       "      }\n",
       "      if (js_urls == null || js_urls.length === 0) {\n",
       "        run_callbacks();\n",
       "        return null;\n",
       "      }\n",
       "      console.log(\"Bokeh: BokehJS not loaded, scheduling load and callback at\", now());\n",
       "      window._bokeh_is_loading = js_urls.length;\n",
       "      for (var i = 0; i < js_urls.length; i++) {\n",
       "        var url = js_urls[i];\n",
       "        var s = document.createElement('script');\n",
       "        s.src = url;\n",
       "        s.async = false;\n",
       "        s.onreadystatechange = s.onload = function() {\n",
       "          window._bokeh_is_loading--;\n",
       "          if (window._bokeh_is_loading === 0) {\n",
       "            console.log(\"Bokeh: all BokehJS libraries loaded\");\n",
       "            run_callbacks()\n",
       "          }\n",
       "        };\n",
       "        s.onerror = function() {\n",
       "          console.warn(\"failed to load library \" + url);\n",
       "        };\n",
       "        console.log(\"Bokeh: injecting script tag for BokehJS library: \", url);\n",
       "        document.getElementsByTagName(\"head\")[0].appendChild(s);\n",
       "      }\n",
       "    };var element = document.getElementById(\"55fc6360-33c3-43c4-9a19-b096fe0fff84\");\n",
       "    if (element == null) {\n",
       "      console.log(\"Bokeh: ERROR: autoload.js configured with elementid '55fc6360-33c3-43c4-9a19-b096fe0fff84' but no matching script tag was found. \")\n",
       "      return false;\n",
       "    }\n",
       "  \n",
       "    var js_urls = [];\n",
       "  \n",
       "    var inline_js = [\n",
       "      function(Bokeh) {\n",
       "        Bokeh.$(function() {\n",
       "            var docs_json = {\"eaae22c8-1fef-44ec-931f-f4b6aa1fc4b5\":{\"roots\":{\"references\":[{\"attributes\":{},\"id\":\"b5c7a4e5-aea0-453f-ab1a-916da7e1a66a\",\"type\":\"BasicTickFormatter\"},{\"attributes\":{\"grid_line_color\":{\"value\":null},\"plot\":{\"id\":\"17868237-9121-41ce-b155-b8f357e2da4b\",\"subtype\":\"Figure\",\"type\":\"Plot\"},\"ticker\":{\"id\":\"72138925-fc4f-4dc8-86bd-13d10c32e53e\",\"type\":\"BasicTicker\"}},\"id\":\"5e7fbb70-fc80-4ed7-91f9-1ee11b9a3aa4\",\"type\":\"Grid\"},{\"attributes\":{\"bottom_units\":\"screen\",\"fill_alpha\":{\"value\":0.5},\"fill_color\":{\"value\":\"lightgrey\"},\"left_units\":\"screen\",\"level\":\"overlay\",\"line_alpha\":{\"value\":1.0},\"line_color\":{\"value\":\"black\"},\"line_dash\":[4,4],\"line_width\":{\"value\":2},\"plot\":null,\"render_mode\":\"css\",\"right_units\":\"screen\",\"top_units\":\"screen\"},\"id\":\"67dd7d0f-f96e-41cc-8235-b8ac41bd4c1a\",\"type\":\"BoxAnnotation\"},{\"attributes\":{\"callback\":null},\"id\":\"4b92a33a-bad8-4482-8c68-bb4bc4d5a09d\",\"type\":\"DataRange1d\"},{\"attributes\":{\"formatter\":{\"id\":\"ca9e0b2f-256e-4c44-b060-61fcbb33c827\",\"type\":\"BasicTickFormatter\"},\"plot\":{\"id\":\"17868237-9121-41ce-b155-b8f357e2da4b\",\"subtype\":\"Figure\",\"type\":\"Plot\"},\"ticker\":{\"id\":\"6de4932d-3484-44c1-9d80-4fddfea876f5\",\"type\":\"BasicTicker\"},\"visible\":false},\"id\":\"4231c2f6-5219-4ca6-ac0d-abf6b58889cf\",\"type\":\"LinearAxis\"},{\"attributes\":{\"active_drag\":\"auto\",\"active_scroll\":{\"id\":\"2cb7374a-5bbb-4076-b159-712919b1b726\",\"type\":\"WheelZoomTool\"},\"active_tap\":\"auto\",\"tools\":[{\"id\":\"8d83d98e-8305-4cc4-9e1f-7a7c9f2ed948\",\"type\":\"PanTool\"},{\"id\":\"2cb7374a-5bbb-4076-b159-712919b1b726\",\"type\":\"WheelZoomTool\"},{\"id\":\"5ec75628-ced4-4e6d-a61e-8019732a3d87\",\"type\":\"BoxZoomTool\"},{\"id\":\"7038b8e6-8e30-4cab-9e56-76b389c4379b\",\"type\":\"BoxSelectTool\"},{\"id\":\"8e2b9627-cf58-4f74-93bd-fcadcc0dc5f1\",\"type\":\"ResizeTool\"},{\"id\":\"e03673cd-af79-49cc-a76a-7ba2fdb70e3e\",\"type\":\"ResetTool\"},{\"id\":\"f90d6362-b722-448e-b68e-6f270a9098fc\",\"type\":\"HoverTool\"}]},\"id\":\"9433ee7f-623a-424e-9b0a-3bcf9cb915e0\",\"type\":\"Toolbar\"},{\"attributes\":{},\"id\":\"ca9e0b2f-256e-4c44-b060-61fcbb33c827\",\"type\":\"BasicTickFormatter\"},{\"attributes\":{\"fill_alpha\":{\"value\":0.1},\"fill_color\":{\"value\":\"#1f77b4\"},\"line_alpha\":{\"value\":0.1},\"line_color\":{\"value\":\"#1f77b4\"},\"size\":{\"units\":\"screen\",\"value\":10},\"x\":{\"field\":\"tsne_x\"},\"y\":{\"field\":\"tsne_y\"}},\"id\":\"72b00306-d198-4ba3-819b-830fb4e03f29\",\"type\":\"Circle\"},{\"attributes\":{},\"id\":\"6de4932d-3484-44c1-9d80-4fddfea876f5\",\"type\":\"BasicTicker\"},{\"attributes\":{\"overlay\":{\"id\":\"67dd7d0f-f96e-41cc-8235-b8ac41bd4c1a\",\"type\":\"BoxAnnotation\"},\"plot\":{\"id\":\"17868237-9121-41ce-b155-b8f357e2da4b\",\"subtype\":\"Figure\",\"type\":\"Plot\"}},\"id\":\"5ec75628-ced4-4e6d-a61e-8019732a3d87\",\"type\":\"BoxZoomTool\"},{\"attributes\":{},\"id\":\"b8bba4c7-da0b-42ef-8dec-3290b04da0b2\",\"type\":\"ToolEvents\"},{\"attributes\":{\"plot\":{\"id\":\"17868237-9121-41ce-b155-b8f357e2da4b\",\"subtype\":\"Figure\",\"type\":\"Plot\"}},\"id\":\"2cb7374a-5bbb-4076-b159-712919b1b726\",\"type\":\"WheelZoomTool\"},{\"attributes\":{\"formatter\":{\"id\":\"b5c7a4e5-aea0-453f-ab1a-916da7e1a66a\",\"type\":\"BasicTickFormatter\"},\"plot\":{\"id\":\"17868237-9121-41ce-b155-b8f357e2da4b\",\"subtype\":\"Figure\",\"type\":\"Plot\"},\"ticker\":{\"id\":\"72138925-fc4f-4dc8-86bd-13d10c32e53e\",\"type\":\"BasicTicker\"},\"visible\":false},\"id\":\"30f2263e-b70e-45ca-87fb-0d68e8e7fbf6\",\"type\":\"LinearAxis\"},{\"attributes\":{\"bottom_units\":\"screen\",\"fill_alpha\":{\"value\":0.5},\"fill_color\":{\"value\":\"lightgrey\"},\"left_units\":\"screen\",\"level\":\"overlay\",\"line_alpha\":{\"value\":1.0},\"line_color\":{\"value\":\"black\"},\"line_dash\":[4,4],\"line_width\":{\"value\":2},\"plot\":null,\"render_mode\":\"css\",\"right_units\":\"screen\",\"top_units\":\"screen\"},\"id\":\"bebfc87a-bfe5-494b-9d8c-e0aa2ff7bb98\",\"type\":\"BoxAnnotation\"},{\"attributes\":{\"fill_alpha\":{\"value\":0.1},\"fill_color\":{\"value\":\"blue\"},\"line_alpha\":{\"value\":0.2},\"line_color\":{\"value\":\"blue\"},\"size\":{\"units\":\"screen\",\"value\":10},\"x\":{\"field\":\"tsne_x\"},\"y\":{\"field\":\"tsne_y\"}},\"id\":\"193a4262-1547-44ec-96eb-7429483cd500\",\"type\":\"Circle\"},{\"attributes\":{\"callback\":null,\"plot\":{\"id\":\"17868237-9121-41ce-b155-b8f357e2da4b\",\"subtype\":\"Figure\",\"type\":\"Plot\"},\"tooltips\":\"@word\"},\"id\":\"f90d6362-b722-448e-b68e-6f270a9098fc\",\"type\":\"HoverTool\"},{\"attributes\":{\"below\":[{\"id\":\"30f2263e-b70e-45ca-87fb-0d68e8e7fbf6\",\"type\":\"LinearAxis\"}],\"left\":[{\"id\":\"4231c2f6-5219-4ca6-ac0d-abf6b58889cf\",\"type\":\"LinearAxis\"}],\"outline_line_color\":{\"value\":null},\"plot_height\":400,\"renderers\":[{\"id\":\"30f2263e-b70e-45ca-87fb-0d68e8e7fbf6\",\"type\":\"LinearAxis\"},{\"id\":\"5e7fbb70-fc80-4ed7-91f9-1ee11b9a3aa4\",\"type\":\"Grid\"},{\"id\":\"4231c2f6-5219-4ca6-ac0d-abf6b58889cf\",\"type\":\"LinearAxis\"},{\"id\":\"43178381-1bac-4a5c-862b-f21727b4ee7b\",\"type\":\"Grid\"},{\"id\":\"67dd7d0f-f96e-41cc-8235-b8ac41bd4c1a\",\"type\":\"BoxAnnotation\"},{\"id\":\"bebfc87a-bfe5-494b-9d8c-e0aa2ff7bb98\",\"type\":\"BoxAnnotation\"},{\"id\":\"eb0e8385-5a3c-4b10-bcf9-7ac845aef447\",\"type\":\"GlyphRenderer\"}],\"title\":{\"id\":\"5784c045-6d85-4973-a335-2e38c0b6ab90\",\"type\":\"Title\"},\"tool_events\":{\"id\":\"b8bba4c7-da0b-42ef-8dec-3290b04da0b2\",\"type\":\"ToolEvents\"},\"toolbar\":{\"id\":\"9433ee7f-623a-424e-9b0a-3bcf9cb915e0\",\"type\":\"Toolbar\"},\"x_range\":{\"id\":\"b82b47d7-ed38-48f4-bcbe-89b2c3f10c5f\",\"type\":\"DataRange1d\"},\"y_range\":{\"id\":\"4b92a33a-bad8-4482-8c68-bb4bc4d5a09d\",\"type\":\"DataRange1d\"}},\"id\":\"17868237-9121-41ce-b155-b8f357e2da4b\",\"subtype\":\"Figure\",\"type\":\"Plot\"},{\"attributes\":{\"dimension\":1,\"grid_line_color\":{\"value\":null},\"plot\":{\"id\":\"17868237-9121-41ce-b155-b8f357e2da4b\",\"subtype\":\"Figure\",\"type\":\"Plot\"},\"ticker\":{\"id\":\"6de4932d-3484-44c1-9d80-4fddfea876f5\",\"type\":\"BasicTicker\"}},\"id\":\"43178381-1bac-4a5c-862b-f21727b4ee7b\",\"type\":\"Grid\"},{\"attributes\":{\"plot\":{\"id\":\"17868237-9121-41ce-b155-b8f357e2da4b\",\"subtype\":\"Figure\",\"type\":\"Plot\"}},\"id\":\"e03673cd-af79-49cc-a76a-7ba2fdb70e3e\",\"type\":\"ResetTool\"},{\"attributes\":{\"plot\":{\"id\":\"17868237-9121-41ce-b155-b8f357e2da4b\",\"subtype\":\"Figure\",\"type\":\"Plot\"}},\"id\":\"8e2b9627-cf58-4f74-93bd-fcadcc0dc5f1\",\"type\":\"ResizeTool\"},{\"attributes\":{\"callback\":null},\"id\":\"b82b47d7-ed38-48f4-bcbe-89b2c3f10c5f\",\"type\":\"DataRange1d\"},{\"attributes\":{\"plot\":null,\"text\":\"tsne word encodings\",\"text_font_size\":{\"value\":\"16pt\"}},\"id\":\"5784c045-6d85-4973-a335-2e38c0b6ab90\",\"type\":\"Title\"},{\"attributes\":{\"callback\":null,\"column_names\":[\"index\",\"word\",\"tsne_y\",\"tsne_x\"],\"data\":{\"index\":[\"deals\",\"into\",\"don't\",\"see\",\"can't\",\"last\",\"had\",\"than\",\"who\",\"our\",\"people\",\"their\",\"A\",\"days,\",\"make\",\"best\",\"0\",\"calories\",\"first\",\"burned\",\"still\",\"am\",\"would\",\"server\",\"work\",\"over\",\"This\",\"load\",\"lost\",\"users,\",\"today\",\"after\",\"much\",\"average:\",\"should\",\"because\",\"Just\",\"shoes\",\"So\",\"I've\",\"It's\",\"think\",\"getting\",\"since\",\"1\",\"year\",\"|\",\"there\",\"?\",\"3\",\"know\",\"health\",\"life\",\"even\",\"poster\",\"them\",\"home\",\"why\",\"right\",\"game\",\"Server:\",\"Uptime:\",\"days\",\"then\",\"take\",\"food\",\"\\ufffd\",\"wanna\",\"next\",\"down\",\"lawyer\",\"never\",\"morning\",\"shopping\",\"things\",\"nike\",\"could\",\"adidas\",\"u\",\"better\",\"way\",\"wait\",\"shipping\",\"she\",\"New\",\"If\",\"every\",\"lbs\",\"too\",\"We\",\"pay\",\"someone\",\"watch\",\"being\",\"look\",\"world\",\"money\",\"under\",\"its\",\"thing\",\"free\",\"great\",\"Obamacare\",\"these\",\"any\",\"black\",\"im\",\"watching\",\"4\",\"amazon\",\"put\",\"And\",\"come\",\"before\",\"5\",\"around\",\"workout\",\"tablet\",\"other\",\"care\",\"It\",\"What\",\"Why\",\"here\",\"two\",\"running\",\"Adidas\",\"In\",\"did\",\"I'll\",\".\",\"gonna\",\"use\",\"while\",\"All\",\"find\",\"loans:\",\"always\",\"sofa\",\"where\",\"ever\",\"him\",\"feel\",\"looking\",\"night\",\"it.\",\"student\",\"THE\",\"us\",\"No\",\"shop\",\"Christmas\",\"week\",\"does\",\"healthcare\",\"wardrobe\",\"stop\",\"old\",\"phone\",\"didn't\",\"most\",\"myself\",\"trying\",\"How\",\"mattress\",\"tomorrow\",\"10\",\"own\",\"Black\",\"play\",\"having\",\"goal\",\",\",\"completed\",\"were\",\"those\",\"also\",\"i'm\",\"2016\",\"that's\",\"Pitch\",\"until\",\"school\",\"That\",\"again\",\"job\",\"said\",\"But\",\"...\",\"diary\",\"another\",\"already\",\"went\",\"sale\",\"left\",\"same\",\"doesn't\",\"Friday\",\"flights\",\"pitch.\",\"weigh-in!\",\"On\",\"actually\",\"say\",\"very\",\"needs\",\"Football\",\"Is\",\"used\",\"Lyft\",\"big\",\"hours\",\"making\",\"high\",\"Now\",\"without\",\"makes\",\"whole\",\":\",\"which\",\"years\",\"long\",\"#Pitch\",\"GM\",\"Pi\",\"working\",\"keep\",\"bed\",\"design\",\"team\",\"When\",\"help\",\"little\",\"wish\",\"printer\",\"System\",\"Can't\",\"happy\",\"6\",\"Best\",\"2017\",\"far.\",\"call\",\"Not\",\"full\",\"Pi2\",\"finally\",\"JST\",\"Hostname:raspi\",\"MY\",\"playing\",\"hiring\",\"Who\",\"For\",\"Kitchen\",\"give\",\"lot\",\"away\",\"coming\",\"weight\",\"through\",\"nice\",\"To\",\"looks\",\"Need\",\"calorie\",\"divorce\",\"bc\",\"ready\",\"sleep\",\"real\",\"gm\",\"credit\",\"let\",\"end\",\"hard\",\"excited\",\"hit\",\"everything\",\"well\",\"live\",\"found\",\"wear\",\"might\",\"dad\",\"done\",\"tennis\",\"run\",\"won't\",\"traffic\",\"Good\",\"Running\",\"beds\",\"He\",\"sure\",\"hope\",\"show\",\"AND\",\"Got\",\"open\",\"tonight\",\"literally\",\"nothing\",\"TO\",\"Up\",\"financial\",\"!\",\"One\",\"IS\",\"isn't\",\"quotes\",\"0.05\",\"#quotes\",\"=\",\"walking\",\"Server\",\"I'd\",\"cause\",\"??\",\"code\",\"using\",\"desktop\",\"today.\",\"few\",\"set\",\"n\",\"video\",\"stuff\",\"weekend\",\"gets\",\"girl\",\"business\",\"place\",\"0.00,\",\"games\",\"wants\",\"babysitting\",\"season\",\"bought\",\"guy\",\"Can\",\"top\",\"came\",\"able\",\"office\",\"against\",\"family\",\"says\",\"now.\",\"min\",\"me.\",\"friends\",\"+\",\"pretty\",\"20\",\"7\",\"football.\",\"Buy\",\"graphic\",\"8\",\"please\",\"machine\",\"order\",\"Get\",\"there's\",\"sitting\",\"post\",\"try\",\"Deals\",\"mins\",\"cool\",\"Mercedes\",\"far\",\"between\",\"gotta\",\"taking\",\"w\",\"30\",\"half\",\"network\",\"almost\",\"skiing\",\"Apple\",\"such\",\"Gm\",\"may\",\"white\",\"mirrors\",\"miss\",\"change\",\"12\",\"First\",\"yet\",\"They\",\"paid\",\"anything\",\"saw\",\"per\",\"instead\",\"Love\",\"wanted\",\"both\",\"month\",\"Travel\",\"must\",\"comes\",\"he's\",\"called\",\"least\",\":)\",\"laptop.\",\"patent\",\"washing\",\"Free\",\"temperature\",\"probably\",\"told\",\"kitchen.\",\"rent\",\"parents\",\"believe\",\"pair\",\"eat\",\"space\",\"table\",\"tell\",\"CPU:\",\"soon\",\"took\",\"Saturday\",\"person\",\"leave\",\"early\",\"buying\",\"BMW\",\"There\",\"hour\",\"kids\",\"spent\",\"driving\",\"wearing\",\"name\",\"perfect\",\"stay\",\"ur\",\"company\",\"w/\",\"House\",\"move\",\"clean\",\"walk\",\"current\",\"due\",\"turn\",\"thought\",\"clothes\",\"goes\",\"fun\",\"drive\",\"0.01,\",\"IN\",\"cost\",\"As\",\"(jogging),\",\"enough\",\"floor\",\"different\",\"Logo\",\"That's\",\"less\",\"store\",\"Health\",\"Day\",\"server.\",\"Great\",\"waiting\",\"bring\",\"US\",\"guess\",\"seen\",\"/\",\"time:\",\"NFL\",\"gone\",\"refrigerator\",\"internship\",\"y'all\",\"spend\",\"brand\",\"card\",\"VC\",\"music\",\"gift\",\"Use\",\"At\",\"loss\",\"Time\",\"trademark\",\"Forget\",\"Looking\",\"point\",\"Someone\",\"Audi\",\"line\",\"Nb.\",\"during\",\"delay\",\"small\",\"talk\",\"win\",\"thinking\",\"water\",\"baby\",\"????\",\"???\",\"Life\",\"1st\",\"air\",\"player\",\"once\",\"hunting\",\"together\",\"Don't\",\"ON\",\"twitter\",\"feeling\",\"Im\",\"golf\",\"Auto\",\"FOR\",\"theft\",\"energy\",\"With\",\"means\",\"She\",\"paying\",\"book\",\"outside\",\"mph,\",\"Today\",\"Our\",\"plan\",\"head\",\"till\",\"favorite\",\"Still\",\"forgot\",\"web\",\"times\",\"seeing\",\"..\",\"goes.\",\"15\",\"past\",\"Used\",\"tech,\",\"eating\",\"#HealthCare\",\"haven't\",\"app\",\"day.\",\"promo\",\"save\",\"Like\",\"C\",\"Walking,\",\":(\",\"Laptop\",\"friend\",\"second\",\"power\",\"Monday\",\"cant\",\"check\",\"mph\",\"UP=\",\"wasn't\",\"million\",\"talking\",\"each\",\"months\",\"idea\",\"designer\",\"Any\",\"via\",\"After\",\"Do\",\"light\",\"straight\",\"Air\",\"9\",\"website\",\"become\",\"TV\",\"IKEA\",\"auto\",\"Lawyer\",\"x\",\"Loans\",\"deal\",\"single\",\"lose\",\"three\",\"rn\",\"Tesla\",\"worst\",\"break\",\"ticket\",\"ain't\",\"asked\",\"Only\",\"hear\",\"close\",\"remember\",\"Oh\",\"payday\",\"couldn't\",\"front\",\"pitch,\",\"tv\",\"sad\",\"cute\",\"year.\",\"RAM:\",\"COLLEGE\",\"tried\",\"\\\"I\",\"amazing\",\"remote\",\"Of\",\"basketball\",\"drunk\",\"we're\",\"Theft\",\"loan\",\"bit\",\"Medicare\",\"low\",\"level\",\"reason\",\"weeks\",\"box\",\"People\",\"payment\",\"services\",\"Really\",\"else\",\"price\",\"Let's\",\"created\",\"crazy\",\"throw\",\"lane\",\"entire\",\"gave\",\"php\",\"side\",\"saying\",\"room.\",\"IT\",\"0.07,\",\"including\",\"club\",\"kind\",\"maybe\",\"rest\",\"computer\",\"OF\",\"day,\",\"Car\",\"child\",\"currently\",\"size\",\"There's\",\"ordered\",\"time.\",\"Will\",\"account\",\"prime\",\"dont\",\"mean\",\"wonder\",\"face\",\"available\",\"Grand\",\"case\",\"0.06,\",\"slow\",\"speeding\",\"ask\",\"Go\",\"Insurance\",\"summer\",\"tho\",\"&gt;\",\"sit\",\"takes\",\"blinds\",\"future\",\"fire\",\"movie\",\"NIKE\",\"logo.\",\"pace\",\"social\",\"Kia\",\"Some\",\"insurance.\",\"afford\",\"beautiful\",\"they're\",\"ikea\",\"mind\",\"0.04,\",\"pick\",\"training\",\"Me\",\"0.08,\",\"blocked\",\"asleep\",\"active\",\"software\",\"Where\",\"vs\",\"Twitter\",\"drop\",\"up.\",\"Chevy\",\"boy\",\"companies\",\"Uber\",\"red\",\"SO\",\"country\",\"Finally\",\"FOOTBALL\",\"coffee\",\"players\",\"laptop,\",\"commercial\",\"wrong\",\"later\",\"11\",\"guys\",\"NOT\",\"ran\",\"Watching\",\"rather\",\"Please\",\"Every\",\"Watch\",\"accident\",\"dog\",\"feels\",\"ball\",\"battle\",\"tweet\",\"gaming\",\"cold\",\"alone\",\"Morning\",\"Be\",\"again.\",\"ya\",\"socks\",\"sell\",\"system\",\"Have\",\"24\",\"100\",\"CPA\",\"body\",\"understand\",\"development\",\"couple\",\"fact\",\"Should\",\"--\",\"decided\",\"service\",\"0.05,\",\"weird\",\"house.\",\"dream\",\"sign\",\"self\",\"Size\",\"car.\",\"tired\",\"cover\",\"Healthcare\",\"ppl\",\"renewable\",\"Accident\",\"glad\",\"email\",\"screen\",\"NEW\",\"late\",\"PHP\",\"count\",\"bike\",\"out.\",\"fast\",\"These\",\"seems\",\"Nothing\",\"she's\",\"Shoes\",\"Most\",\"Well\",\"50\",\"Men's\",\"kg\",\"bag\",\"read\",\"Getting\",\"Patent\",\"inside\",\"forward\",\"fall\",\"Prime\",\"number:\",\"fix\",\"girls\",\"kitchen,\",\"From\",\"ok\",\"GPU\",\"Also\",\"super\",\"hand\",\"Going\",\"giving\",\"#design\",\"sleeping\",\"near\",\"kinda\",\"turned\",\"tech\",\"number\",\"More\",\"#Quotes\",\"paper\",\"gear\",\"Me:\",\"Gotta\",\"Under\",\"india\",\"course\",\"across\",\"0.02,\",\"State\",\"state\",\"credit.\",\"cheap\",\"opening\",\"mile)\",\"send\",\"Nissan\",\"me,\",\"ALL\",\"travel.\",\"Hillary\",\"Exercise\",\"Porsche\",\"presented\",\"honestly\",\"vc\",\"de\",\"needed\",\"extra\",\"thanks\",\"middle\",\"gym\",\"Cadillac\",\"0.03,\",\"meet\",\"charge\",\"though\",\"expensive\",\"ago\",\"access\",\"it,\",\"game.\",\"definitely\",\"cannot\",\"Teamspeak\",\"finish\",\"what's\",\"Nike+\",\"pm\",\"works\",\"hooks\",\"charger\",\"U\",\"2nd\",\"behind\",\"(running)\",\"Obama\",\"Happy\",\"0.09,\",\"private\",\"idk\",\"PING=OK\",\"door\",\"lawyer.\",\"911\",\"blow.\",\"wouldn't\",\"#Obamacare\",\"cut\",\"me:\",\"lit\",\"Maybe\",\"tryna\",\"lead\",\"trade\",\"AUTO\",\"Alzheimer's\",\"upon\",\"yesterday\",\"AM\",\"stand\",\"lanes\",\"dementia\",\"who's\",\"on.\",\"sales\",\"problem\",\"Had\",\"smh\",\"enthusiastically\",\"today,\",\"list\",\"Never\",\"putting\",\"Club\",\"LAPTOP\",\"ME\",\"let's\",\"shows\",\"Low\",\"Thanks\",\"car,\",\"cat\",\"closed.\",\"0.06\",\"huge\",\"Last\",\"PC\",\"woke\",\"kid\",\"either\",\"hair\",\"cash\",\"listening\",\"moving\",\"Trying\",\"SB\",\"walked\",\"fell\",\"missed\",\"news\",\"catch\",\"Does\",\"teams\",\"25\",\"swear\",\"loans.\",\"Sunday\",\"women\",\"morning.\",\"Home\",\"experience\",\"Big\",\"exercise.\",\"wake\",\"plans\",\"November\",\"oh\",\"Been\",\"Perfect\",\"What's\",\"tonight.\",\"build\",\"January\",\"places\",\"type\",\"taken\",\"thy\",\"Or\",\"keeps\",\"realized\",\"Golf\",\"Its\",\"watched\",\"IM\",\"fit\",\"data\",\"loadavg:\",\"Nice=0.0%\",\"learn\",\"American\",\"link\",\"Accident,\",\"Jordan\",\"pls\",\"cars\",\"easy\",\"life.\",\"tax\",\"recruiting\",\"dark\",\"thine\",\"Are\",\"Game\",\"Come\",\"finished\",\"work.\",\"NO\",\"wall\",\"Parkinson's\",\"40\",\"supposed\",\"ACCIDENT\",\"stopped\",\"Echo\",\"books\",\"general\",\"Who's\",\"bank\",\"fan\",\"deals.\",\"Call\",\"THIS\",\"la\",\"benefits\",\"bout\",\"ones\",\"shoes.\",\"back.\",\"stuck\",\"played\",\"?????\",\"cardio\",\"World\",\"!!\",\"heard\",\"NB\",\"\\\"\",\"learning\",\"blue\",\"knows\",\"update\",\"speed:\",\"leads\",\"longer\",\"Mirrors\",\"song\",\"Walking\",\"grand\",\"Dispatch:\",\"crying\",\"Design\",\"0.00\",\"Was\",\"cleaning\",\"JUST\",\"Load\",\"President\",\"60\",\"connections:\",\"BPD\",\"friday\",\"Another\",\"international\",\"Consumer\",\"tomorrow.\",\"EU\",\"Payday\",\"processes:\",\"audi\",\"happen\",\"window\",\"arm_freq=900\",\"T(C):\",\"0.10,\",\"(371)\",\"them.\",\"wild\",\"~\",\"An\",\"Back\",\"road\",\"looked\",\"Dell\",\"market\",\"public\",\"jobs\",\"that.\",\"treat\",\"Then\",\"White\",\"Let\",\"aren't\",\"cooking\",\"sat\",\"fans\",\"plus\",\"Did\",\"temp=51.9'C.\",\"sent\",\"pantry\",\"chevy\",\"write\",\"Bicycling,\",\"interest\",\"#traffic\",\"Accident:\",\"forget\",\"Want\",\"We're\",\"step\",\"government\",\"December\",\"changed\",\"christmas\",\"closed\",\"awesome\",\"yang\",\"men\",\"13\",\"anymore\",\"boys\",\"biggest\",\"2.\",\"temp=50.8'C.\",\"Texas\",\"fixed\",\"within\",\"week.\",\"af\",\"PITCH\",\"rate\",\"temp:\",\"amount\",\"knew\",\"version\",\"degrees\",\"bmw\",\"biking,\",\"About\",\"personal\",\"drivers\",\"(cycling,\",\"delivery\",\"hold\",\"Jan\",\"seriously\",\"\\\"The\",\"Work\",\"daily\",\"Pay\",\"apple\",\"Potential\",\"okay\",\"Next\",\"#travel\",\"minute\",\"costs\",\"beat\",\"area\",\"Super\",\"gives\",\"baseball\",\"F\",\"dropped\",\"mum\",\"i've\",\"45\",\"house,\",\"1.\",\"trip\",\"media\",\"room,\",\"POSTER\",\"selling\",\"Wish\",\"sound\",\"leaving\",\"Take\",\"test\",\"writing\",\"good.\",\"21\",\"Nov\",\"LOVE\",\"chance\",\"building\",\"THAT\",\"officially\",\"jacket\",\"Amazon.\",\"key\",\"won\",\"winter\",\"3rd\",\"wife\",\"law\",\"#webdesign\",\"Dec\",\"appliances\",\"today!\",\"cry\",\"logo,\",\"series\",\"offer\",\"exercises,\",\"asking\",\"figure\",\"lazy\",\"draw\",\"funny\",\"Web\",\"it!\",\"??????\",\"complete\",\"double\",\"holiday\",\"drink\",\"word\",\"one.\",\"pants\",\"Top\",\"swimwear\",\"Even\",\"r\",\"death\",\"#graphic\",\"Think\",\"spending\",\"logo?\",\"throwing\",\"fine\",\"cuz\",\"Netflix\",\"tree\",\"uber\",\"Financial\",\"pro\",\"100%\",\"Living\",\"basically\",\"round\",\"Make\",\"quick\",\"students\",\"#graphicdesign\",\"???????\",\"deep\",\"Red\",\"$50\",\"Business\",\"enjoy\",\"eyes\",\"seeking\",\"sounds\",\"riding)\",\"pictures\",\"America\",\"possible\",\"Office\",\"internet\",\"group\",\"date\",\"episode\",\"ride\",\"WITH\",\"mobile\",\"quality\",\"dinner\",\"boots\",\"calling\",\"world.\",\"onto\",\"football,\",\"absolutely\",\"reebok\",\"LOGO\",\"night.\",\"temp=53.0'C.\",\"anybody\",\"now,\",\"story\",\"true\",\"Two\",\"miles\",\"Google\",\"actual\",\"sold\",\"bathroom\",\"major\",\"completely\",\"city\",\"somebody\",\"study\",\"based\",\"speed\",\"kia\",\"Services\",\"matter\",\"cleaned\",\"forever\",\"question\",\"WB\",\"da\",\"drawing\",\"cyber\",\"insurance,\",\"di\",\"hands\",\"#jobs\",\"Ikea\",\"print\",\"four\",\"tbh\",\"add\",\"#nowplaying\",\"18\",\"movies\",\"sink\",\"up,\",\"shoe\",\"final\",\"dollars\",\":/\",\"worked\",\"crm\",\"Network\",\"lawyer,\",\"dancing\",\"automatically\",\"Run\",\"towards\",\"bio\",\"#news\",\"UK\",\"quite\",\"too.\",\"issues\",\"16\",\"Hyundai\",\"EB\",\"cook\",\"security\",\"envelope\",\"color\",\"Y'all\",\"wow\",\"mother\",\"problems\",\"lady\",\"Student\",\"keeping\",\"planning\",\"telling\",\"He's\",\"bringing\",\"windows\",\"14\",\"usage:\",\"Care\",\"bedroom\",\"cards\",\"lil\",\"green\",\"ice\",\"Anybody\",\"offers\",\"happened\",\"match\",\"center\",\"mine\",\"legal\",\"runs\",\"pull\",\"given\",\"allowed\",\"respect\",\"here.\",\"along\",\"Armour\",\"more.\",\"0.12\",\"threw\",\"HAVE\",\"bags\",\"decide\",\"pitch?\",\"temp=49.8'C.\",\"Obamacare.\",\"Reebok\",\"Check\",\"moved\",\"missing\",\"Php\",\"divorce.\",\"High\",\"text\",\"son\",\"realtor\",\"Would\",\"sorry\",\"nigga\",\"rates\",\"picture\",\"scared\",\"strike\",\"stock\",\"#hiring\",\"weather\",\"local\",\"program\",\"home.\",\"Update:\",\"control\",\"site\",\"2016,\",\"everyday\",\"track\",\"i'll\",\"create\",\"shouldn't\",\"join\",\"totally\",\"iPhone\",\"conference\",\"dress\",\"pizza\",\"battery\",\"Wow\",\"main\",\"N\",\"project\",\"saved\",\"Kershaw\",\"Rd,\",\"Graphic\",\"lights\",\"hiring?\",\"worse\",\"omg\",\"Which\",\"videos\",\"married\",\"GUESTS.\",\"signed\",\"Unsecured\",\"travel,\",\"0.11,\",\"realize\",\"Guess\",\"truck\",\"City\",\"reading\",\"Having\",\"clear\",\"thru\",\"bunch\",\"furniture\",\"rental\",\"Poster\",\"ended\",\"May\",\"PM\",\"special\",\"#seattle\",\"%\",\"By\",\"Might\",\"share\",\"fake\",\"interesting\",\"lots\",\"3D\",\"return\",\"kph\",\"Looks\",\"Americans\",\"**\",\"in.\",\"increase\",\"bigger\",\"dollar\",\"there.\",\"Ima\",\"education\",\"pink\",\"Co.\",\"package\",\"#Graphicdesign\",\"vote\",\"ill\",\"calls\",\"release\",\"Table\",\"others\",\"losing\",\"temp=48.7'C.\",\"Babysitting\",\"medical\",\"seem\",\"felt\",\"installed\",\"adult\",\"meeting\",\"serious\",\"homes\",\"rid\",\"president\",\"South\",\"album\",\"feet\",\"Those\",\"year,\",\"dan\",\"athletic\",\"chill\",\"0.11\",\"healthcare.\",\"dental\",\"un\",\"Am\",\"pada\",\"somewhere\",\"Gonna\",\"Went\",\"cop\",\"greatest\",\"Because\",\"loans,\",\"3.\",\"Very\",\"dance\",\"km)\",\"words\",\"prices\",\"Video\",\"Thursday\",\"total\",\"five\",\"busy\",\"F.\",\"gold\",\"Currently\",\"hat\",\"Nice\",\"temp=51.4'C.\",\"thinks\",\"Things\",\"22\",\"b\",\"#RaspberryPi\",\"football!\",\"you\",\"terrible\",\"warm\",\"purchase\",\"stream\",\"smell\",\"emails\",\"DM\",\"Security\",\"exactly\",\"goals\",\"wifi\",\"mod.\",\"sometimes\",\"nobody\",\"synced\",\"35\",\"pc\",\"far!\",\"field\",\"See\",\"#PHP\",\"record\",\"bus\",\"safe\",\"(C)\",\"tf\",\"train\",\"Molabat\",\"exercise,\",\"mercedes\",\"hasn't\",\"page\",\"T\",\"wit\",\"flat\",\"listen\",\"#quote\",\"all.\",\"form\",\"driver\",\"0.10\",\"BUT\",\"Ok\",\"Early\",\"#business\",\"yes\",\"affordable\",\"is:\",\":D\",\"Temperature:\",\"AT\",\"Vice\",\"replace\",\"opened\",\"17\",\"luck\",\"dope\",\"drinking\",\"uk\",\"GET\",\"coach\",\"likely\",\"continue\",\"Withings\",\"Blue\",\"covered\",\"issue\",\"children\",\"camera\",\"pack\",\"apparently\",\"board\",\"Int'l\",\"slides\",\"coverage\",\"weigh-in\",\"0.07\",\"Scale.\",\"couch\",\"Michael\",\"DO\",\"decent\",\"#best\",\"switch\",\"Optimistic\",\"UP\",\"connect\",\"stick\",\"considering\",\"Being\",\"agent\",\"rugs\",\"ad\",\"lay\",\"present\",\"season.\",\"touch\",\"finding\",\"bucks\",\"BE\",\"healthy\",\"ideas\",\"Idk\",\"hungry\",\"Sometimes\",\"Temp:42.24\",\"loves\",\"(\",\"anywhere\",\"wanting\",\"log\",\"age\",\"down.\",\"CPU\\ufffdUser=1.0%\",\"higher\",\"mental\",\"CRM\",\"laying\",\"changing\",\"apply\",\"preschool\",\"!!!\",\"Shipping\",\"annoying\",\"So,\",\"booked\",\"Temp:41.16\",\"re\",\"WHY\",\"o\",\"Ready\",\"added\",\"voice\",\"John\",\"Hopefully\",\"ways\",\"hoping\",\"debt\",\"off.\",\"Hope\",\"v\",\"wind\",\"inning\",\"years.\",\"lunch\",\"except\",\"90\",\"strong\",\"large\",\"#Nissan\",\"route\",\"camp\",\"search\",\"West\",\"I\\ufffdm\",\"October\",\"KITCHEN\",\"everywhere\",\"fight\",\"#cubevenue\",\"2017,\",\"history\",\"this.\",\"Divorce\",\"na\",\"Social\",\"til\",\"exciting\",\"#pitch\",\"premiums\",\"S\",\"Contact\",\"standing\",\"Out\",\"Windows\",\"....\",\"breakfast\",\"Stay\",\"0.08\",\"everybody\",\"chicken\",\"process\",\"thats\",\"memory\",\"fresh\",\"provide\",\"practice\",\"snow\",\"FREE\",\"NEED\",\"random\",\"sweet\",\"Stop\",\"#debate\",\"back!\",\"well.\",\"note\",\"nearly\",\"Working\",\"trust\",\"regular\",\"Online\",\"nissan\",\"hopefully\",\"normal\",\"joke\",\"it?\",\"Facebook\",\"work,\",\")\",\"ARE\",\"piece\",\"heat\",\"#SanMarcos\",\"San\",\"Hiring\",\"(12\",\"Team\",\"fear\",\"lie\",\"Literally\",\"procurement\",\"often\",\"mess\",\"policy\",\"Cyber\",\"homework\",\"GOT\",\"Parkinson\",\"pen\",\"cpu\",\"ObamaCare\",\"host\",\"turns\",\"Since\",\"United\",\"proud\",\"tea\",\"ive\",\"delivered\",\"score\",\"Athletic\",\"Off\",\"armour\",\"soon.\",\"suit\",\"didnt\",\"pain\",\"tickets\",\"hospital\",\"0.09\",\"Pro\",\"P\",\"imagine\",\"saving\",\"etc\",\"0.13\",\"Flights\",\"legit\",\"grandma\",\"pitch!\",\"ist\",\"download\",\"haha\",\"WAS\",\"focus\",\"Listening\",\"settlement\",\"marketing\",\"whether\",\"spot\",\"upset\",\"RAM\",\"#how\",\"uk:\",\"aid\",\"income\",\"choose\",\"23\",\"singing\",\"official\",\"received\",\"healthcare,\",\"town\",\"Way\",\"interested\",\"GMT\",\"Welcome\",\"Uptime:0\",\"heater\",\"kick\",\"gpu\",\"sense\",\"sun\",\"Tennis\",\"loans-\",\"Florida\",\"NOW\",\"India\",\"Open\",\"His\",\"right?\",\"thing.\",\"customer\",\"especially\",\"em\",\"3.0\",\"contact\",\"ahead\",\"Tech\",\"E\",\"plays\",\"showing\",\"Quotes\",\"I-64\",\"lets\",\"50%\",\"wont\",\"W\",\"ST\",\"#LOGO\",\"#nikeplus\",\"days.\",\"ugly\",\"expect\",\"money.\",\"rain\",\"paint\",\"pulled\",\"yall\",\"review\",\"noch\",\"BACK\",\"turning\",\"immer\",\"September\",\"Pretty\",\"Space\",\"stores\",\"etc.\",\"boyfriend\",\"stairs\",\"ONE\",\"Nike+.\",\"gotten\",\"points\",\"0.12,\",\"things.\",\"happening\",\"hits\",\"visit\",\"Room\",\"king\",\"Dementia\",\"26\",\"cheaper\",\"&lt;3\",\"yeah\",\"Mike\",\"act\",\"products\",\"d\",\"users\",\"St\",\"X\",\"oil\",\"33\",\"is.\",\"Cubs\",\"uni\",\"domestic\",\"bar\",\"third\",\"learned\",\"windbreaker\",\"dell\",\"2017.\",\"street\",\"ground\",\"lives\",\"time,\",\"blessed\",\"Today's\",\"ship\",\"national\",\"Launch\",\"force\",\"orders\",\"out,\",\"empty\",\"handle\",\"19\",\"makeup\",\"mama\",\"information\",\"Keep\",\"eye\",\"model\",\"500\",\"difference\",\"people.\",\"foreign\",\"Jose\",\"songs\",\"V\",\"him.\",\"event\",\"mi\",\"fiscal\",\"loved\",\"lb\",\"truly\",\"himself\",\"Okay\",\"WE\",\"known\",\"earlier\",\"bottle\",\"simple\",\"lower\",\"Find\",\"cup\",\"Sofa\",\"ever.\",\"regard\",\"Remember\",\"Thinking\",\"beer\",\"meant\",\"#Minecraft\",\"doctor\",\"Medium\",\"session\",\"thankful\"],\"tsne_x\":[11.828133852117611,-7.090038953100304,-0.23892506465267913,-2.222562225374984,0.046706527938915006,-13.154436800742108,2.3889128434059486,-8.28776655710214,-4.489451431339841,-2.175028915762302,-3.2635764686975173,-2.197712043955457,10.357772545584368,-15.846515155255593,3.163117408571879,-9.678286310519512,-15.997940843602578,-14.535675368296925,-13.462694166533579,-14.494728643820437,-7.707592630612679,-2.8392209190080915,1.0540621022365504,-9.092978469251156,6.8052699084395645,-6.828652162864487,3.173774795876379,-16.643707406772382,-12.724539010436422,-16.009246197775592,7.232426309079751,-5.550876700010258,-10.017851151648866,-16.88247600809263,1.306299602164796,-8.693595516442914,3.124476761690355,14.989491535966032,-5.80178068633854,-2.9912101345511273,-1.3657412837469245,-1.7681946893243028,3.1299702908855416,-12.500280303223995,-16.448294509508912,8.093464398274186,-14.750590086730726,-1.2653115042560052,-11.490330660035145,-16.617127027632424,-1.0983955633680835,0.7163135027567658,-4.597193915394599,-7.782798803034093,10.387231151900597,-1.6303712396284713,8.001488593350084,0.8834199756921869,-10.107811459019807,5.393645209825836,-15.022170454483971,-15.524938302114279,-12.809766108650749,-4.851702653090713,3.134700444155884,-11.041649450501932,-18.48733724955516,1.2094369076578961,-13.011678572800497,2.8897551442265836,0.7377975326583398,-7.732377563291278,8.513125802048243,2.662454468839199,-3.150472461658402,16.225083704825728,1.0199994426745551,16.168852029421952,-3.281533916758894,-8.272241114667622,-8.263054546584437,0.37728063456200955,7.014490953197943,-2.8318949070541692,11.223016334641262,-4.298116104579299,-11.306037667754143,-12.902646346069368,-10.304954671122507,-2.5050881365527555,1.7013808369222727,-4.614178140202168,7.834155628299424,3.0054925713337712,-1.970572331469483,-5.0504332890652925,-3.61437705225531,-11.229285360261391,-1.5291050739201881,-2.9318592393123657,-8.074135896730628,-8.226627216127367,-1.0056952667061638,-3.2698719690327116,-4.768976034048401,16.14482626040385,-2.7035660333928155,7.855295838444015,-16.667340125977397,8.1899440706249,3.757056121544788,-5.073552182685215,4.1900074563512275,-5.5621781827482,-16.800893805595585,-6.569670834277955,8.539856652075201,11.5034693907693,-10.684567985868684,-0.11444157659500451,2.8878042301212514,1.7131538665593868,0.9713006011292328,2.8300867870925943,-14.831211994828255,14.81530714435563,16.230240401072805,5.839432917079904,0.513765638117066,1.3946471725547047,-9.475305438916257,1.605136608080736,3.066190136363437,-5.676901715206774,-13.008613572063975,1.2510102789885458,-6.179254508481472,-8.394266912218542,11.075709289683484,1.5998414452673033,-7.892026090198813,-1.5767146978673514,-2.8158568329443194,0.0376159864372453,9.03340463017137,5.013152701075002,0.9647403702333754,13.228013969403952,-2.071519347824321,4.428716075709363,2.603521608977894,9.945436278312256,8.249766421409316,0.19811123929859176,0.5063401283888302,13.716125229994253,-10.832172144656417,-3.196756448253892,9.980689822434668,-0.8246119954264722,-10.342537201088676,-1.4684420222555372,1.4559818445463417,1.3902599304323946,11.616228713436854,7.460433275527247,-17.13871444641782,-4.214548470003119,10.743878477548492,5.448661448204453,2.7071418155632427,-10.643329056301166,-9.484074034540386,-11.456893718950004,-1.3595211252262411,-3.2535926146684653,-6.998934266721139,-2.694305026116852,-16.808625185728022,-1.9465140951093554,12.856210624059628,-5.043774914680412,8.071611881173245,3.092049241922618,-0.09517500168804133,1.1753888249128015,0.6861720218362894,-5.164817931167431,-9.421543991148821,-11.326115612745241,-12.564021106371975,-7.8735727155071045,4.326228632171242,3.896603141473632,1.8205858622867115,-10.023101699767567,0.13231825386828924,10.60473293551676,10.891379565366114,12.847091107766904,-12.93682796087006,5.817117921515942,-8.433742026984383,0.5672164343519845,-10.467264148559362,0.7390387527402946,14.955430175618925,-0.6069484501296675,3.1017359242103897,-8.639057058522082,-7.784961265383257,-12.493993146229007,3.1783813966523473,-6.175210614816538,-5.620886146140992,2.3442208569010745,3.150390223571321,-11.461675443210742,-15.843444814273232,2.3230386835054464,-12.801498704326375,-10.066644592103135,13.615830755950293,15.751002409232287,-15.128196955706445,6.112955583566292,3.832502483138243,10.591673253121098,6.394703303053771,-0.09506686793572118,-4.3128510070947765,2.6532420222609248,-6.477243931571601,-3.9409892892040363,11.045318821649264,-18.003827968810285,0.17655447886466413,-6.365646415376266,-16.853780472486424,13.870720608443497,-16.69519409408386,-12.91728419142724,4.736371956137976,-1.9516069953104807,-10.323613295678905,-15.167066916914818,-7.128762047036416,-17.931665192092364,7.444058239107218,13.177461809671701,5.618969922647031,0.726900425979917,-4.540106050068537,5.78659279016641,11.398150087220163,2.6344955705838466,-10.06065022849483,-10.118563889636546,4.172815720231132,-0.5113447606661857,-6.962623897212046,-8.166558158339418,5.488565924660119,-2.48429968457976,2.7119006175189093,-11.289102926716655,-0.051751354160573464,-8.777921714025414,2.240283116515008,7.6435802097734795,-8.247123056667322,15.756287103777234,-8.286445388977299,2.9412527421575456,0.5638917686178966,-7.104244571930047,-6.340684155374216,4.896073299813113,-4.673397183423613,-12.048336070708734,4.793304867055378,1.0796587758857832,14.528954226065434,1.9826679386417105,-4.857692571749952,1.1459182455793002,14.4178984783008,5.454520259237706,0.08039922913116498,-11.309376625220148,5.139789818352906,-13.770631096995686,11.614455059960369,-2.894165455074444,-3.454165449673529,-4.84244274720946,7.368095670343527,12.9717759772138,3.2508300649476984,0.9847094304548034,7.496543619176799,-9.207851849904191,-4.565118314463808,13.164965055341726,-13.179116854921647,2.812247429548903,-9.644409920497308,-14.044350278240712,13.093956118161453,-1.2132312077631733,9.422237063620166,-17.65474912081794,-5.778470930703937,-9.865014922167967,7.682312605913178,-9.049791070548746,1.0421455395546948,-8.749293929962013,-11.604269346997059,-8.688966737901717,3.1097569102881666,11.394095682034836,7.438307670399121,-14.368352854477854,3.813972402192685,-4.375450720959596,6.042292890119322,-3.8320181599706697,8.500440653836476,3.9643755741945257,-4.567313902423282,2.635936551921488,-4.758147828449479,-16.926753601943396,5.470612087409322,0.8076124120426957,10.633602109775405,8.567453882740516,3.976254237896244,-4.469132404707347,1.6664850728578082,4.105366826351403,4.308644496816882,1.0829543887986486,12.251660622499426,-6.2280508412162785,-4.606137518563239,0.639367027711392,1.4869002411566195,-11.96965040233748,4.260415023341729,-4.53092394596131,-9.83609130918483,-10.34512972702893,-17.72409423608077,-17.05832747029916,14.868205051481931,13.87020935444593,6.656843628778847,-17.20251421781573,-0.4024216195214622,11.29082619907677,6.435619997914356,4.3070696648257885,-1.2812619553805888,7.101511853753226,-9.740641293255775,1.48986243045962,-9.35666867406636,-11.78288634322097,-8.444665549720682,15.823079910809422,-10.084528831518165,-9.315265798594215,1.65451342041971,3.0807986973813724,-4.696985001721789,-17.85520149223682,-11.813902371285359,4.679248222038969,-10.32613438046225,10.161436743948878,10.257896522672661,-8.992701369484008,15.746425930674073,2.125870521378495,16.164019403102216,13.039706493721583,-0.6320092223090037,2.686661948610566,-17.374698541027435,-13.429198740117531,-7.832819296998803,-2.7608397917915535,1.6878333596353872,-4.6615942037498295,0.44218814848236904,-13.804452709130958,-5.487341772528728,5.555096752111748,0.830432982378245,-14.72343548274794,8.064483543022432,-1.8997412777696991,1.2314256344141947,4.23151898385854,-2.4158684104999337,4.707191332186513,-6.024129225066414,-10.24279631005012,12.093321859206414,8.227447984895168,11.268628902289237,-8.269236063405808,-16.8191522695531,-7.072398632640866,0.8216744154170862,10.223782348986665,9.068335065740346,-4.661087456613208,-1.2312024542971325,15.35484187434048,8.277216337621926,12.26148423890509,14.06487972198876,0.6955010608706256,-17.348231603342057,0.7124171245154897,3.1994006553444683,9.642399612998785,-4.266722058136249,2.0225343808308,7.954600053842265,3.890004815244266,15.805222020228893,-1.310775277796068,-12.302031210566476,-3.496114983460872,0.4318143949007814,13.723314055299221,14.614454678825568,4.846551914632061,12.646972955900313,4.761606117570856,-3.356595934118519,3.851726793801979,-4.683186390987749,11.308407908697042,2.753491451439512,6.464268720833899,7.313164031115338,-16.868781503650478,-10.072012102978467,3.5717741673290533,-1.512390820995124,13.995340186157723,4.291809134522209,-7.590927038933599,13.848761347224782,-16.990134844847308,13.338774901098235,2.605015342123092,-5.565718234674412,-13.962073957656623,-10.336877852619297,10.487752716345112,-10.113898723391777,14.99143474622777,-1.8656621466077539,-8.310157638201987,6.386061896757187,-1.072009504209593,-2.019935712783121,-9.476104702793906,5.120318483889323,1.741531499205891,3.1736187919202394,-4.866707272467408,-6.2761101163948645,0.34367499636222393,-9.947886739118005,-13.369317633072576,14.956621818401107,3.422205419970146,10.890706509892446,1.3172812376476706,-4.2002303949682736,0.4234061261567381,13.780416017435149,5.3873132955122385,17.054198523176158,6.869124170175247,5.496440601909975,-8.519310694577523,-5.823276585718627,-0.45530072540349853,2.8819035696319757,8.24778184934433,-19.558593148713314,0.06675006758095967,-3.084522427590115,-4.534901205432673,15.827196748762184,6.679153863985815,-14.27838939327312,-5.502525031294825,-11.485503197538028,-7.469954693936499,0.7267442473894322,0.6556973157975338,-2.1392012465502455,9.86039898960842,-4.990932703578612,-11.626681874729572,-11.611222641535914,-1.290104575044337,-13.694167871962426,13.230707868119921,-0.18986460534895544,-0.45097567062558747,11.220758465412205,-5.733677340881749,-0.2296098037974593,13.295990245252213,8.601019068573128,-2.994049951211695,-2.708388508439105,13.899250130606918,10.583034929916604,13.345734885516844,10.568476799601422,-1.3342760705316883,5.794300247462108,-7.055621800228626,-2.911203524527338,1.6984063385096224,6.79102076241548,-1.0222374983212699,-14.926345248235318,6.799655238197758,-2.16631298353361,2.3048629008873083,-1.3925308581911635,-5.044754381588817,-9.72813392432505,-7.4958897235830975,-0.4198777955128796,6.197514123788944,-12.777366193312144,-1.8705083661144821,-9.435992869510375,-19.42388000284508,-17.541188170617108,-13.07802644447632,-7.406330727716346,-19.478540184610765,8.207274413626482,-19.446989929643763,-2.474532559783524,7.545743419407069,8.523202894194018,-8.98855789629543,0.9634362884806383,-4.727032011079078,-16.830426456787503,-14.784429446197887,-9.410497499888821,12.278521189870998,-4.666776038598233,-13.509136456995531,-1.3283817784882563,10.602063209869934,-0.025234333560829426,2.2758127115272893,-13.696345771836869,-15.535040452857354,-1.2311803622817556,-3.694081967642731,0.7417182361601586,-10.870181575731658,-12.752418367266824,-2.992376458574795,6.649622318112815,-4.645946344467889,0.1473638817829877,-5.513364990422547,0.4913808256737802,10.845769278818215,-7.227366903895066,13.625234280780521,-17.314441919392742,6.681791207449605,1.7497004421255689,9.613217535727609,12.676012161993837,10.555612962634877,0.6210225555779515,17.66358804090692,0.7373633758536756,11.891783898755966,-11.20484094781994,-0.6098499251629936,-14.961438563428526,-9.396357576232178,15.643849345783329,-9.667301762420916,4.91407435407836,12.216292120444903,-3.817832335299072,0.962343574254976,-13.936981835035542,0.27296416110564065,0.8735149022502098,-0.734459245791328,-7.384876820682286,-5.840280121011665,0.04367296337523875,-1.2164398172155197,12.85786840307253,9.624583792334375,-6.898042609528016,-8.024448697535483,8.192049098624627,-14.726257684184866,13.101269542942205,1.373026224380504,-8.445154688600988,-8.233111923145144,-9.713065027271917,6.204923816047354,14.94833402430737,13.556098561862486,-2.2334387055615044,10.585872802589133,2.0252297810900663,-6.54565504982762,-0.5297053529361694,-6.152879419852202,-18.559345522400193,-2.4517734419946535,-12.75763867021063,11.760284522530663,-3.2250695452272566,-5.666148190488624,3.44146735453069,-8.327893483401379,-4.942643037022236,3.6104121397075075,3.130837907571479,-5.528330232289171,-7.706488145787675,4.650251445238399,-12.01561849573003,-11.502043474180628,2.639006946395437,-0.7852778504752924,-1.8556727583483008,0.760351678361751,10.25640249736879,12.697830667864622,-17.028990525032075,-14.117122311837912,13.876219094785581,-9.234704720247016,-5.961988721257688,-11.510797507264364,11.367295501895049,13.343660918766247,-16.559977882801846,11.34906374524522,-0.21529907768518913,-6.184732241702681,14.317487369574776,-1.2954360616987566,4.01111376624962,8.535573977335934,1.7712401069391723,5.280042248786785,8.143919505224401,-0.33261692356688316,-7.041638249647918,-3.173786768771838,-1.4293902554643736,5.074487849206109,10.579788946615375,9.809757322580834,-17.036003539317562,-10.001603172873011,12.287851326138439,0.9790071563341146,3.9854884804455732,-0.9103435317434926,9.37122224396652,-8.993636810457595,-9.720564014010453,7.0664581710565955,3.2325273513644017,11.065618326413025,-4.894632531451017,9.876928661631306,8.005262771137453,14.014350044496693,15.037989294179887,-15.123957858290392,5.023441613358815,16.239838296779006,-3.233854662919096,0.6359403396884599,2.5602122200348947,-8.224677418316615,-2.144187517853865,12.681559070015902,-2.5224269105165127,-16.99838941797419,4.560254525904141,-13.520357241063543,6.5886759615266905,-17.042363029628618,-11.808815643276136,6.477690828172028,-16.004553099711792,5.462493439378634,1.5377423876356082,-7.051266883183674,8.60627752756101,4.70460129366424,3.220093540886167,15.640358038835089,-4.638281919521354,3.738645379888497,-8.722089356102533,16.236740434299126,12.390848948341633,-3.2178628574071286,-6.980832228533181,13.111404708813774,9.02544130465721,-0.25304820824193436,12.070501539104265,9.46987134811673,-1.294979768988137,-6.378691671162572,-17.421081585231068,-3.184085639327708,12.174606552111989,4.895782071358342,7.918119365856913,1.0024231102085261,-0.4304923511576772,-11.446907682908817,10.182158648343364,-10.866547382319501,-3.962776260652018,-2.7300488088310937,9.63735561925986,-5.5541692364787885,8.608295086516646,11.584590757964317,8.9497708842651,7.867826662172956,8.391764571657417,4.7762190412558345,0.07830324412240312,-3.3737463085198596,15.053680700980477,3.6780091876418104,4.568633011187961,3.3723968824128154,-18.328424024697416,-17.384617066904205,0.6884779759008757,-2.4325237086165714,-0.860877116517687,5.754661191985706,-14.379364542113036,-1.5657151446908388,1.5720086629714076,-14.58432636134244,1.3122742970790546,4.454240588433789,-17.01339435146691,-7.544003287588114,12.684585174062802,-2.2169285263656313,1.3596894654146654,-3.4993591096169654,14.431836212212943,13.681249060515295,-6.248695371091579,2.3468743353055173,-0.15230131675190042,-3.2573103930055054,-1.299505952752344,-11.472436186976331,-6.3133047029931895,5.5556935608781135,10.71095180506841,14.06588130593634,7.846380817129996,-0.30474588592905083,-3.448331693901867,-15.614405256376678,3.3612530391852657,-9.378050332550407,-3.232613745869451,-2.8601739798848818,-4.40352772970191,-2.569701927961196,14.478420439053432,-10.604478888125344,-5.8784239983582545,-17.752128443140286,14.463470283501998,-12.895544012529724,11.716530366710954,6.678213949341101,3.3414794522377527,8.22023274985887,-1.0422553917925523,-0.026240707080896267,5.949408218127208,8.15294571401993,-9.745455069555916,2.016344164562603,-3.1339564668728275,10.185992075634685,5.811744682009265,-6.574943699873905,11.88553295106803,-6.72929477550796,-10.39732937951926,-1.532881839801958,2.9674769787851534,2.6009790766653054,-4.115551143670667,7.555768762298753,-10.720135503149951,-9.43247373917023,3.642438602650659,17.07752556639096,4.034741502546385,5.647276199603282,-5.678800555782555,10.907597347130864,14.65578065362231,-6.849530181757631,2.275838979860963,17.131275079275316,2.6087605739181954,6.489504462907034,-6.688228770813917,-16.98485308764456,-3.294014548571141,-2.8471683083909176,-9.24058080593725,2.551916804180175,1.0490723200728922,-13.959624987505832,3.518117767025094,15.976138954038417,4.199075707441717,12.702276638627431,-1.735354139074143,-1.8545962298010692,-1.9357144590831097,15.799610711428254,-7.421270076010827,-8.77824178623334,17.033079959988658,-14.006922687681305,0.5347365112471504,-6.793531917358273,4.387841042328173,-1.2358485386475249,8.556451881948417,15.80995537536982,-17.008818300290624,2.351296440556474,1.7058525354712941,-8.961026360581736,2.4953320883967667,-6.438983852279862,0.686408148383748,5.075484632543697,5.350223186823761,-7.240539911249158,0.04934573114642729,-16.013330768888718,1.2076649331240852,1.6018284330179349,-11.394988631452486,-15.460807730067671,5.785310862415127,-9.250698169667174,10.086006639629657,-3.106101828217466,-13.722301922086865,-1.193735900012989,-16.003055890257833,-1.8219145166504336,4.651227464930927,-17.01999689204782,2.024967382544176,-3.4300517484447925,-16.05730482809056,10.928476781791995,0.6647606792794434,-14.156016111847059,-9.29801262376106,0.38723052799505153,-0.9588244158859787,5.19152007656586,-6.840263880465608,-8.304854016288488,-5.599722962628732,1.3506464446333817,-3.451445990490628,3.325510996656961,-13.800493846676218,-4.724153165655991,-6.417740699721725,6.95775385311079,-14.843819745030858,4.69348864128579,-12.085823624261934,-4.725684642825244,-4.512623579786935,3.3956962280480742,5.203194656889557,-1.8245338676609062,2.8098290991639634,-9.180141183974737,-7.351292862338834,7.274708106508606,4.120691288668948,-7.610961515648938,3.747884021116702,-9.136094060223773,13.583978685030143,13.027296624135856,3.120974742673168,7.352378816002474,-14.83544104344712,4.406275515502872,13.594691610722322,-3.928405401392258,-12.855810925230616,-17.650517248308347,-7.802431538934763,-13.275925808579869,11.619310258013355,5.729298960816669,-4.5327731164898175,-6.220655157363445,13.122695464070008,-3.801146161922006,6.916662678861381,2.7216019344038966,1.7512634630868242,-12.172844064225153,4.787359724469787,5.6888274480795,-0.59920441033211,5.901923078905411,5.480705186579484,0.1969028219218258,-0.17671207541628248,-18.142653068761767,-8.837101274836092,0.9793736892181002,9.627130616997958,-2.9210377843965913,8.55216971382537,8.05266642011581,-1.311284133060905,-7.814502185654434,-1.8405069109644046,5.845613522442532,2.3225129990911655,-16.86957568660896,-7.394924357732384,-3.0425403140918372,12.759283014600978,1.6025088147842599,7.54623086009803,2.1310296097206844,-16.84203784481873,-4.694984834968398,-9.16827527252363,3.0794441856738293,-6.428628527244075,-4.688656462274522,3.7078378715174956,-0.5487633867830247,-9.085642537521164,-1.3655865662304085,7.8074443281413375,12.937872744209315,14.545854183878802,3.9595672120418657,-16.716865296371648,-16.00201608601913,-0.5185364018153864,-3.365087788676156,-11.177005068942723,-11.8449098840469,13.635271348550873,-0.42512195492430765,15.022298332378114,-7.133113246581969,-4.600715824843311,0.8347073683899555,0.5550369875451018,9.0415970367892,-6.40397415283274,-0.6829263941458282,-2.1272012456026475,4.01344967955319,1.1412072954234993,6.998715595840948,12.21992046067136,10.439260284472363,-4.751416431485805,-17.975087922516746,0.07867127240484074,-13.735479702691693,-10.868667629706135,8.236923276889362,6.829105302680491,-13.43751347011423,-4.5297560652509015,5.211550326395747,-0.599528698851346,11.755753823167495,3.671995093685184,12.955935310792537,-7.0994020677948875,0.8357296513806484,1.3732958865387288,5.275709870874155,14.984855825088339,4.2138305357865375,6.927792246107207,5.3952011387467955,-11.676300508624086,-14.111439708726651,-2.2579847285401304,-9.66379686025596,0.2994571415610361,-12.201293425608323,-8.806042689599362,-0.5690986352922657,16.19824063471688,-0.9618396459790859,8.076549186879332,-15.414936658420668,-3.4673978462602157,-7.716324013130106,13.041907011699541,6.886929402623824,7.719963377418328,10.580985852885208,-14.207000637202317,6.523322728558736,6.65833468336146,-17.84622686821373,-2.6363064056372374,6.584825234632224,12.690314593001752,-17.798549118138148,-2.4365747561958164,-17.909182488108236,-14.200812856025024,-14.27603057887084,10.651092336524247,-12.609179147359097,1.4786899447632118,-1.39908380172889,7.474514451450649,-5.041451765579117,-6.145547079546242,-14.512011401643694,15.951282683534739,-1.1097976063715431,10.989676918359551,-15.564393444813767,-16.48751832194609,-17.021372874058933,-14.72334530443267,4.48405420970543,-12.608320219986165,-5.716220926409926,10.015083497690581,4.202844284998453,-4.028933120275539,-1.850598846280458,13.157902111231556,3.801388417293163,1.8123390186303494,1.132716430889392,4.910164421076703,-7.368927421147016,-4.920287204341912,15.06468141351866,2.9457044412963036,-1.302438308712805,8.807415569742123,7.031042420831965,-0.5104465637627928,-6.74005400430368,0.5254358285618765,-15.333079951911444,3.6256250682175746,10.818570855257605,15.63325860315966,6.702047867429073,-14.944631999233053,0.7049668098075059,-11.506260873854208,-12.754340453410668,-0.4219510224232577,3.002580295088448,-2.284850554542558,2.279985196659624,1.7101620568422415,-16.859721900068145,2.665617898129944,9.960529329515238,-9.989069318068529,-8.22874666505542,-19.024468002647765,-2.894016027197263,-17.601135224773966,-9.116580840543934,-3.154039956413067,-9.420224039899333,-8.795319822041494,-15.360988170464633,-3.5741634624049814,2.00327624146809,-13.022871249965691,8.27684513103656,-10.223347926952004,13.469113384793548,0.550636261779782,-15.529251635058461,-10.326068997618004,-1.3890719693252194,7.598934407177079,-16.87872222859854,15.834988113848231,-15.480563040863126,3.0927937394311478,2.676995394271137,14.084039291030141,-15.366748522782279,6.6036896331098305,4.352350012619843,-16.30433933681776,-8.725037865630838,-5.260902069878273,6.647256084902921,-6.387206696943162,-6.071458940303418,10.310287255510064,-13.129362301218373,-6.52845242132799,-13.05962033310194,-4.378804547849901,-12.264345954301225,2.53169640745357,4.947332495531939,-11.050444103134874,-10.787824208525208,2.616961339000419,14.8891203272767,-16.90935990013358,4.910911760036844,-4.8389058313482805,-3.0269272540573215,-17.976829610627558,12.764379161293222,-8.796895095915819,2.3252016119015373,5.106302976237972,10.24894930868644,13.94817805349063,3.750767935074816,-3.9603658111278075,-2.718849363450613,2.0130391065253592,4.5091094694918965,7.2892051746450806,6.715410249202269,-12.125653784664866,-18.231491556209164,-16.400571620172016,12.162142016044411,0.46095239009619365,2.1318652213118705,12.936250633180045,-7.410627002633027,15.52503763238647,8.209631861103572,-6.1573760345013016,0.7295731131623904,9.345511605535327,-13.759075238199285,-4.835437565426455,1.1958138119776462,-3.130456726655059,-16.289934587803803,12.301292685107844,7.425494152757805,6.467480566969969,15.049370454621128,7.664363379338665,3.124522887944475,-14.218650184786444,1.0321470751985935,1.3454997767628722,-6.238127559504758,11.451797961420663,-7.603389368716412,6.423084772498799,5.113974458395735,-11.676411895532523,-8.546344119851748,-10.505473575025455,9.80871375279001,8.912207565539958,6.958852537422523,5.356136758544584,15.1676095965681,3.934944721711615,13.94055390304204,-5.962700113624793,-4.115902590060421,-5.7988533300222525,-4.14661293683169,-1.9303515856081945,0.42160707511415085,15.04472430155322,4.585139566798457,-6.417059272665329,-8.796606794644246,8.93015519641858,10.058074092771276,-9.267198465382299,2.5566330007474507,11.743415795606237,-7.757322757905946,11.60977289233813,-9.585258580994186,-6.51572302765895,4.617999810390542,-8.803181519304065,0.9731288014177416,-4.189731817144237,-11.605816655826734,-0.6354272414881207,15.0876198678321,-8.09049463250861,2.3642239049697813,-0.534010930068591,-1.5921145655673576,-1.4394276951880982,-2.697308712414942,-15.495598874237114,8.994860414397461,-3.314789315612776,-7.156625325154226,12.569848264632949,9.26751839125371,4.460787223645866,7.225522695042836,7.787510597410661,-7.796033430094753,13.162882262794076,7.6139489840213175,1.590239075225732,8.945724124327356,15.099888857606857,4.733187694077551,-5.052237639895078,-7.03123361767065,14.884687439280983,-9.453740154490289,16.529374475979495,13.945372784555008,8.919171159566028,-15.34006659625295,-4.643896956584515,1.4543064720789316,6.017487138585477,-7.862212309257515,-14.563687863117519,-12.285078595088317,8.69356071453259,-7.110060828381781,3.7516635907787794,10.536114789778459,-8.561002915790889,-9.903996040784039,-2.637465390471665,-4.643033693761116,7.29692965728611,-1.123593379276348,-16.471111176942166,16.388183613929943,2.5872796984993065,-3.111603573168663,6.4814377199987305,-8.230273022229083,-1.7478872347286787,-12.190589299180209,-4.304494646957071,11.472787027305761,10.770094099441092,0.645721179280395,-18.982708877985598,-1.4757183988060354,-11.184345460184916,12.659014902315764,11.015560881953315,-15.088928923305518,-9.132555866795473,2.869969301978963,-10.956013452991407,-18.033567716982095,8.054840929432538,10.570124389126137,3.196499583507611,15.4771065495689,-13.489497269885899,-3.983430634063761,-9.375087775198555,5.898334460060028,-4.921698342302294,4.505042402475044,0.6854115318514878,7.1816821556815,-11.702899809089025,-9.322813951541548,-6.591439073910144,-11.192002207906972,-3.0697717230632877,-4.77842765305564,-10.32121097988946,-12.002616102371668,-1.7557308125155875,-17.842262270285197,16.040366727493147,-12.170148309405478,8.773908198358757,4.648096594535978,-5.980129038585828,16.052836689282294,-4.1958226860508585,-8.076190150938832,-4.91432972890353,-1.7566587271777907,-4.4954264957077505,0.8375209253075366,-18.207768153048264,2.885765994474058,0.8542114902121926,-2.6737067442609543,3.1618426829850046,11.017638717903994,-17.709116718405408,-15.104372633354792,-1.0656096576286003,10.573024195242635,5.373357364007801,-6.367761048729758,16.31374822468961,9.13243159666719,-4.598029737162715,3.222635401249005,-1.0950923119065774,5.333777944581066,3.8732913707467533,-8.435606426883117,1.9373118740350879,5.3796250396048695,4.896138349028386,2.447788864267288,1.0068934557800233,-6.217544044105712,3.139140688737851,-6.057960521593875,17.116783897106256,4.066131219373612,-17.689219635107765,4.588550681853426,12.74801172104024,11.723103280536803,1.3925128379732357,12.838764697259222,-15.36044074638074,-0.9901773732830201,16.543364557522608,4.98713446871151,2.7821810470403436,-0.6242996842306736,-0.8432949288222081,-0.08106707640213483,-6.254167673685171,4.990263891346729,-4.860769446874641,8.897552782735954,1.2861808490246138,-6.018974806971645,-4.0882667375425,1.2872070224103687,9.12529769586024,-6.275588573942135,9.577909199387442,3.9066237731714244,-11.179820914973766,9.327720673685077,4.555074419350056,4.653559110909503,7.954059264647409,-12.893279990606286,-0.4958397923510544,6.783115017206073,-15.794378061412061,-6.416838046386668,15.5677880772439,1.2549835564934193,2.1198882067467033,0.7411975002236382,2.3033664395129665,-9.890482660166672,10.334341558188278,5.7737442965956145,14.480865626329647,8.921380850060597,10.133804010249522,-7.858195391214217,-9.524634021889034,-12.718742791513993,6.379082866706183,0.9192641362051656,-3.456711188922971,-11.528490092986626,6.686520896940392,10.838797578657294,0.806681429651126,-8.262987093727103,-8.30842444953619,2.270625952181696,8.669815101650025,-3.22675066211177,-9.02689480125539,1.3419363687650234,-6.379957682906374,-1.7159042769368182,-17.01911215683027,-0.5763399263234495,-6.019958455788096,15.189815384739587,-3.9656590941981382,6.7085280053584615,2.741422687557886,0.12464233728704366,-6.96765440867629,-10.009685328686423,12.600853125514973,9.039122431435047,10.403300778410754,0.7532974097921447,2.475567370819842,-14.901051638258105,4.601165611351375,-11.207850532764029,-18.31738038275034,5.550282170935137,2.075737024530466,3.0794203230027755,-0.267314212766945,-7.7733587101498465,-10.05788008712632,11.076795239222154,2.7088748910855514,-14.012716031464132,-2.6337139858123555,-2.939539174184375,-18.014737511060705,3.4104693562270785,-0.7211745158696545,-7.910205162565942,-3.8942312281756895,3.24077144908836,1.6824516237667386,0.44113547243362056,16.17632422504834,-12.812405977307991,6.486005006011782,-3.1242929631084295,-2.1855475263949065,1.24323174753127,4.761151029911845,7.3615623910133285,14.446313254663862,-3.193698292013824,-0.6365329741359427,-15.34760861665949,10.675164655426391,0.8270685317671529,-2.976829248505815,-2.6760394253178297,0.12270663482934085,-6.969426729113597,5.107250783954035,-8.363066738979775,3.9188952240345305,1.9643859293832648,-2.3907539364485015,-4.034647419028508,6.932937206916312,13.275824999590036,-3.2251715348410768,8.118248858920598,-19.037544164418705,14.382207223085,7.3431874707423574,-17.694268807771646,0.3512578870846531,0.8862547369540599,-15.762390728700149,-2.8521999865954877,-19.000056202298634,-4.879871104999212,2.358405744709909,3.119737434306828,5.149986102816773,-9.645899753839464,-5.09597292765341,0.9728961697699098,-8.805210755553412,-10.586003461264708,7.178306597055441,-14.015607402544925,6.989996228482359,3.517242016636757,6.180033506390118,9.69150446551466,-8.558326030637145,-15.265279926308962,-6.70573186546311,-18.237487768362833,16.402815668713068,-6.052322830584488,15.53741554837911,5.096712645165011,-15.36179382292265,-0.993554206279641,-3.253133749030793,-18.17818150365495,-4.304066602206044,-16.330842980211294,14.835061989741307,-2.384747001526531,-8.283500072002822,8.876763068135636,5.919419406108269,8.66597266210299,-2.709848846055456,5.596453788794996,3.350438035096422,4.254235833529665,-9.92817621341567,-10.445466010216142,9.328567404184703,-14.761542850876776,-8.775851720798364,-4.815244631082951,-11.76570963397463,-18.049461601638164,11.551023524339145,-12.935447919402625,-1.747389909834015,5.497768116225521,-0.06608893494745491,6.37247065477354,-4.574756588699372,5.364921295797927,-16.75463123631507,-4.084363806186657,-4.548227635504797,-12.21093773665521,-1.8322948791702023,15.877069716986776,-2.358588032515545,7.088114005388557,-11.885806634069477,-4.270920583216194,10.684447328676272,6.7899602254956,-5.8268881191298805,4.639408283452598,4.424602888066735,14.132664694854695,-17.716389017495924,12.67367773912507,-6.461229518567357,8.123451058016773,-3.060082655275184,-7.1730294150467335,1.1665767453388116,-16.319304093357122,-10.249565150089067,-16.651015730361255,13.577829039893883,-2.4503660614142375,1.993415893138052,1.2424093277473625,-17.98459894668351,5.124969559444177,-8.345654009829497,8.507296652428007,2.477236899648045,13.000928109823004,-0.1441548012663948,-7.0744260297121855,2.1858795999711473,-11.80201962224687,15.08019525699827,2.3483716465847886,-1.7657036765783152,-3.401252159138773,10.312078430311205,11.628860769218502,-6.7470837890460755,10.623413730657134,-14.821112366928858,15.225863196481713,0.8561631759583617,-12.942546936130302,-17.728590138357742,-11.819098998542907,10.469268420804383,13.487630204786747,12.411423840954672,-8.439217151764478,2.5332982710207657,3.309899510041052,-14.820329991592002,13.795170054085391,9.164935640090698,9.869231105403323,-2.29030394752006,3.0535299114756964,-1.3911345522178298,12.366853993920529,9.458057611136525,7.041454983766811,5.5577840065444635,8.529541361992333,10.737545995216896,1.223809678187453,-4.157988879325405,13.003727685605716,-1.538306347811872,5.8605046178383375,-3.3877291179592373,-6.172563632178923,-8.758052318319217,-15.547578201118542,-0.7475478540202944,-12.972598157134353,-4.909524705546086,1.178961335716372,-0.17716161819425325,-3.1959155537177164,3.0194955324586523,-16.003792646973725,-0.8524689957387198,0.49319318410094987,5.378255471973982,7.1944870796299645,2.676441641087699,1.5346611095232585,8.283621516582034,-9.669109946746794,7.066114354924713,-7.480367418435024,-5.969678317915192,10.99653129947696,-15.547895311698204,-6.218906551739205,12.298687425458919,-13.988425826162231,2.6562969072676483,2.907562814016468,6.63568494875651,-4.495934378020113,-4.971111583910062,-8.508422817155045,-4.835618139035606,0.9546815171661098,3.432727562440047,-4.825169036313887,-7.105523648975392,-13.217986024187487,-3.4396764618752935,-12.932165298470844,8.955376267689298,-10.692685187954377,-17.929992692226577,-7.561672026485224,-7.505299238176098,-10.961538605381321,-6.58399414810052,9.37356393936381,8.04906814048396,-4.025963942747283,-2.642097697089987,-16.882315465693864,13.79926768939826,-4.950758019846604,-5.991873578216516,-10.952955214701467,-15.878375079312638,-9.653198993939114,4.9232779969553055,-0.04090860769728069,-13.980778088843625,4.205633610964969,-5.041994461574909,-7.633548752581636,13.609693767300943,-0.5881297816807085,-12.733216890077193,3.5216796363533804,7.169072869114788,5.941300881661445,11.076569681246054,-9.426915018078526,8.912782487851528,4.850518827109959,-17.782771212926725,-4.8413294621157394,8.894953758145407,5.128149678176344,-1.9900581176282703,11.705863927286774,-2.703272485824657,2.4986129421000407,7.802301761685366,9.570603541962168,-8.046772200334404,12.341155672443218,-9.679786212419403,-8.353587757460843,-10.723390260666493,-1.3468094918543911,4.32151685253698,-12.086166003792892,-6.415760056464907,-10.391946952773523,6.0737304952815085,-0.700656508975599,-9.289950231993464,2.004859584694405,15.895691850634906,-5.024571967211323,-9.279419062799969,-6.000134729555623,5.150991825710285,8.563837375042999,7.036490250792048,-12.96560723419164,13.297210510512272,11.2897190172955,4.797026819944081,-10.96758999358989,-3.923355131486449,0.6634700581749957,-13.963117362154529,-0.19627886239398978,-5.635761716360286,6.874794677395039,-9.231848790495677,2.5207197713570078,-8.629787408811325,-5.930514511823765,1.4032750475249451,10.72996947437454,7.193186130279156,13.1500777444005,-4.787418122652024,11.453329712642741,12.048667270684557,-1.0720953640205166,-0.16448757067406292,3.667084751338977,-5.7866357080362265,-3.6176320643951967,-6.2966488371125555,9.002902730078818,-3.0208462269589718,6.474373399793309,-3.2288597155384062,14.518619555328316,3.9507781607423955,16.666822455211186,0.7670578049758242,15.47980069295599,0.0623431601078952,-2.4284666796486962,11.938726538759719,0.6415604064818441,-17.670340726640127,11.663789896424216,-11.917898217705993,-0.8120116718306944,0.9254301637785414,-12.076313152966199,-17.692178931384486,10.965727501682888,-9.05551668143248,-4.914344715932092,12.854300526191613,-17.582166882619905,8.204228905052918,-8.912584738745577,13.05305754743051,-1.1445899318129527,6.85693337841966,-5.868413248501003,5.452326142162626,-6.04071847073521,-4.887774934299724,-6.706923984241206,-14.917448200303884,2.5085220957555814,-6.327228397381682,2.860472538749789,0.7399761865951193,1.5005995152122724,-18.204101539416733,7.019174842842048,5.186484715435394,3.7296995879957366,0.36540123902660415,-2.618076165553183,-8.182653663942375,3.1719921632561956,-16.775126220812048,4.493522242385335,-16.161995244519456,10.019947821580992,4.652545298681591,11.902153339844222,-3.1849583725006885,10.976863928080844,14.471064870126028,-6.35156418792686,-3.42880699068331,13.558291158304888,-4.366548882022121,0.8709580724337426,-2.9609305065970726,-11.686072379674021,-2.8911403613720603,4.570122104426496,-11.604551606247268,-1.5446157132800704,-14.71793855395065,3.5285050546140377,-8.652596814259585,17.147313746941443,-12.690516939636057,5.4147371214921725,7.081591666215094,9.479761128382366,-12.616805489093071,3.1145009831416934,-7.819081012332026,-0.013726112402734927,-12.676442076553489,-13.354971052741202,-17.510629903383556,-11.619880165429239,-12.91962338245441,-7.653762044041049,1.895348939715294,-3.582809343667304,9.412616959651203,12.448765576340652,4.722172192340738,-4.2113554272985425,6.72478540871569,-17.494359076446738,13.294889142579445,3.5648701367403475,-17.493761897237032,-16.881731464662643,-10.415025217112769,12.606961028507543,6.2939410190712906,-12.09164184616882,-4.790270659453149,10.525621901013304,13.076703463171418,-11.610414779385646,1.8313972166987773,-2.9918351692970493,-17.031105531208365,-3.207573831273887,-1.128869921982221,4.892731237702201,2.327580017122071,11.61103149711443,11.43583282328664,-4.7893514473648375,-18.27746108804669,2.506364920402787,-10.306402384801729,-7.299977945649882,-2.287359423425207,-3.1782315575026243,3.7861549630297375,-4.2321716846805275,9.564374159263803,-11.429909398103167,17.660388775798662,9.498537258914116,-18.229164079328108,-2.0525304227187844,-3.2349882747964784,7.221970541642238,1.2345398320290555,10.304690888430738,-13.444818233401072,-0.445269861123101,15.628502748749263,13.182474724873055,-16.531740098240455,-3.909755643521745,12.521532597849667,-4.3337373336595775,8.563617733846216,-6.3431422577137715,6.754413560221453,7.011781311533161,1.3517944246989555,-12.168634897076265,13.126733853421465,6.607031030138178,3.329832061484181,9.302145460807266,2.649754125194768,-18.07525612238642,13.26428789999165,-4.994299236912326,3.907056493942336,4.041277798736856,-1.601054339347993,4.50396107791714,-17.24048392687743,-9.214301556109076,-3.2550934051422984,1.6760757645176738,-3.870370300460098,6.904770487108505,10.622018666239294,4.325783219413496,5.162403842272535,-11.543370639930213,-6.227574483261462,-1.2670862071708564,-12.911448970750213,-8.84971729777653,-1.6679205441565998,-6.490444499133978,13.213385391806133,-0.527624833961147,-6.182156652035228,9.254795861012637,-7.162189282330906,-0.8715676244325539,5.136628850786991,9.055818234148694,11.392980803551552,-7.9428279719035215,-6.278810170988517,-0.7453962711602461,-2.210530412692196,9.012784934844953,0.03306344464497042,-14.711693675969123,0.7309151935265589,-14.526834864529414,5.168499833757851,-6.283391901992522],\"tsne_y\":[-8.390868956839038,3.2984047832944894,-11.883614164583442,-2.276453628974498,-10.426343890717094,-1.7513300840246948,-6.965731044992604,-1.4978043830923649,-5.949406401653124,-9.01461686711983,-0.21922318118224832,-8.899412949836114,-13.203636204354368,10.803839298773338,-3.74058293085531,-0.09294244287989395,10.51864389317525,13.023888262160419,-1.3539114964504584,12.995794793240991,-10.48313455296446,-12.072027250396328,-11.229584348533193,13.59038239754855,-4.484902923298547,2.6951101983298016,-13.042049894610257,10.07320404039612,9.93195604073256,10.443093659929211,-11.512218653469633,-7.762640576950959,-4.7921916373758915,9.852971664195156,-11.451292252006903,-11.838447309156466,-7.39353857602753,1.3171869915029912,-12.679308248405054,-13.30994037995809,-14.830151830341643,-6.298299668307288,-6.01622920835289,-0.23292065313094562,-4.01552420912125,-9.099425485085701,7.322676698091404,-7.9953306397812005,-14.460574660630133,-4.033305136721468,-5.80060586568646,12.015044736402194,3.5561476557237675,-10.816496388769334,4.376132417964,-9.833758862643196,-5.072294264546444,-14.281697571623438,-11.349580170141682,3.301399561423532,10.271660296905655,10.528735965643072,-5.840823814267428,-11.490514928793587,-2.5272349407548282,9.29719070469268,11.121376718199429,-9.002075230155686,-3.26276033554832,-17.9177520000512,9.598438585448168,-7.5077010102341974,-7.053085494014472,7.931698599890644,-1.9384363772476307,1.0660647019018763,-11.1144935801049,1.2206867760179234,-15.747223275917815,-1.554852149878073,4.3654012763082735,-9.585142399716657,7.9635080854558895,-10.659273115468384,-5.667931120682974,-10.845479303108787,-1.8973362682369608,9.970867052898543,-6.588587133939662,-9.474983225207906,5.701180788179132,-4.115096012752937,2.705729224372656,-5.937475779515046,-3.9660829971997904,3.9453963620042702,13.892237427382227,9.356106362905203,-14.928074098179309,-1.6208190768467199,9.574676610814771,-3.68928143902701,12.752459595819808,-8.363970129690001,-4.7703014266843695,3.820313471955945,-12.068514526278413,2.643859242517965,-4.030363775705437,7.345317924579543,0.5153065584054183,-12.472768710379848,-2.285059435777489,-7.806608837938006,-3.961292437336397,2.7161127499979454,-6.776459797762922,8.072711322167212,-1.6850413214177353,10.799881445924974,-13.050051940971139,-13.991128331495995,-14.257660689319032,-15.66962682658668,-4.645750299161311,0.7134341379659387,1.2004577435460775,-8.182032164892036,-12.746898235552464,-10.072615330699264,-15.125056904914588,-9.386976688785808,3.50141882254727,-9.048278344533346,3.499145248741205,-3.120059705153217,14.33048601133898,-7.814219123012749,-0.4314114783854923,-14.343182232230586,-6.88911867653936,-10.06741490376453,-4.138975562364007,-6.442106245336513,-9.940205703983525,-15.096742287967343,14.771855171568399,-13.157581155721497,-9.235670171201798,-11.911086557945517,7.993369403852008,-6.326475582421994,-9.140901253358711,-12.734347857068427,11.934732552007212,1.2682185246594417,2.1647015067091937,2.7148895468576955,9.100844245575844,-11.844824651783618,-0.1701055331350762,-10.04152425238419,-7.92746403186176,-14.14946291595868,-0.17628092838202222,-11.32688056308669,-3.7577520896428096,2.526272382872745,-7.7057372551089465,2.279354831471896,-6.2168155881792835,8.978493190125478,-15.110716966796051,9.38652025425376,-12.656363669665584,-8.347055763641695,-12.251249289869095,-11.991675349866457,2.0760604670533787,-14.472797870567854,-5.6881948497774015,-17.03016977524857,5.607771503697032,-13.066443807244754,-16.561250357742434,7.075743530761053,-5.342007745017705,-12.504256863707132,-15.1556358172247,9.344180101800596,-2.3011898165107922,-10.517501094325233,-2.2558330400896986,8.935008194307933,-0.5386770955079295,-1.733221029442952,-12.207772373338504,-7.884844291420932,-4.17164288734764,-7.0690305174419095,9.965096066558628,-8.204157946472462,-9.7617029030241,-5.30295606214281,-7.097949939834299,-8.292729367759776,-6.90899358140867,-13.45818568434462,3.553794579887758,10.495543377019558,-0.3386249829062394,-5.2673712788423295,-3.7406037046001104,9.758776877148687,-11.944994042985737,-5.205082664471942,-3.742806993690734,-3.582536668733364,6.122009245004035,-13.859300944346506,-5.874892111772115,-4.910790154592503,-6.158003625642575,-4.939274338251774,10.37615511558714,-4.171087151208158,-4.88823759920345,-0.9811428674313828,12.344674598696404,5.663797447088344,-10.973900089414462,-4.287949535094759,-1.1131226533461995,-9.640775341469444,6.407318938818088,8.45166686903394,-10.096254603077433,-5.961024170829905,-3.988731467460289,10.036893674799046,2.215569558590877,9.914710358941354,5.166946115470472,-12.817230605966166,-3.126356816709429,10.373198505049684,-8.866679804212268,8.472770143834687,12.264320503914645,-13.093382392324742,2.1730669447916937,6.879337517850048,-5.567680230469043,-8.000380901313065,-1.84244650509171,-1.734567120736836,-3.7103771152045484,-4.825730912967904,-2.3788578282929937,7.121905778427857,3.455076138046532,-4.246133755255959,-7.830247535969235,-4.155278673560596,-8.51854020397408,9.336321667594992,8.557575296282412,-11.925161862074162,-8.546262294875353,-1.5478627992649645,1.1375019280055214,-4.910341445274153,10.422352620556866,-9.786514697869762,-0.932439205144274,-2.8583830008468136,-5.798932878190671,1.21721642464942,-2.897388102630756,-10.886670651520063,-4.697903831602154,-2.81934565948969,1.7331196201255892,-10.976008422732948,1.3145910153195255,-1.4147707918515213,0.24557530490954185,-2.845131642665116,-11.43321420582067,3.2572361487155894,-10.28069022911431,12.461181364387864,-0.5108045573576585,-10.518336985852212,-6.93040858145624,-10.264562360140275,3.5030764455324452,-13.26335676598205,-7.124176682744677,0.30350473141379936,-11.32817946887675,-9.76833909431995,-3.204576124134342,-13.207670155995224,7.928689994120208,14.133532255375306,-15.047628625656738,-3.459336195242377,-13.164143551329511,-12.62765304826478,4.507516071203229,10.40962492657729,8.18041801386437,6.084382125428719,-2.764571817127261,13.627670252481204,-10.991592022633972,-11.915263177045263,-14.44680709432409,10.584926373399789,3.527726006454553,9.135383875918542,-11.374759846958765,-4.79749848967888,0.9838060902314937,-15.297395651741228,6.413720035610266,-2.2639161050232577,-9.031223883897853,-3.0818078826465953,0.010693069823040788,13.688571750517534,-1.4799825050505118,9.769223649284386,3.241811231257146,-8.049663601101502,-2.8480394626836025,-8.563161951460842,2.8909707954280592,-0.16963395823028726,-11.795012642082902,7.565794596881895,-2.2117389639107974,-7.205244596799752,5.932286394306546,6.248710948244869,1.499718991759757,-5.45001815924896,-16.306491840588507,2.0454995747942286,-14.39582721376574,1.189338746367745,6.080716154830592,-7.181022481771402,-3.0167614450856313,-3.9896310149172045,-7.015967742306629,10.03463236281025,13.154183699667271,-3.939379323056362,-8.98394220896062,0.900586425574221,7.846277767494034,-7.326935208140627,-8.029851280019718,-1.1331422189117804,13.305543229433257,-7.481150827834775,10.911924365452977,2.2529003589907237,-4.496206316429886,-2.8772368945877553,-4.866137022055653,3.961993431088195,-9.351741948087437,-2.4731610904810952,-8.825094932131963,-2.611379029457094,-4.20019455962749,14.689755867328946,-9.12621613845118,-3.7846988665421124,10.891702206501595,-5.649786557500356,-4.967518302482283,-11.149908247213316,3.8514663901406783,-1.4359005983544082,-3.174380551533744,0.9402811526990423,-3.899523501737225,-1.6310208774782018,-10.860477541247507,-9.392928109994156,5.665657415245451,-3.174014075277012,-2.4244923272243044,12.336829565597096,-9.048379780309478,-6.526781785468446,-7.69690682516933,-5.163637570709012,-9.089880308790116,7.920197088024847,-11.333622465359328,-2.5974322904159224,-11.040025138803344,4.676899908935843,-10.828107179613646,-13.632448434588433,8.40718348790411,14.612066945895505,0.8595481931213591,9.32074521028346,4.92692256338318,-9.962748451335937,-5.159336194139325,-1.5183951418192239,5.585369536269337,1.4909173803824085,-5.1632769517673145,1.4346092833650241,-0.5176699302596991,5.925744426357163,0.02942973377719553,-4.854189692493979,9.357123787547856,-15.690455748443764,-2.491815975174945,-8.609658536733482,-0.5962441204338947,-0.5469998456451096,-7.037778043577339,3.726925951220803,-2.9687044788275236,-8.02723163852069,-4.931155952126657,1.4717472815904633,1.8386636847886553,-3.8555443602031447,1.8265550624788092,4.712039464537626,-5.6081828638409075,-4.917372775913886,-15.686269941401834,11.674635762956187,-8.784639317386924,-3.0623481845096183,-0.11232991241391317,-0.025587385224660922,-2.605867749470634,5.0202515422640435,3.3431622856490777,-0.19681345066390063,-5.564472150829539,1.4543616048272334,-2.744417224101716,-3.8026474516447957,-3.7728734810342464,9.762655547070763,-13.180362817651796,9.825377935693423,-12.7609235678739,12.44561789328852,-5.97991466137306,0.3054739182870782,-1.7979497873184318,7.733412305533779,-14.463050243891555,-1.481370504578987,10.198677317784188,14.272804644336626,5.967225511085492,13.426825955119552,-10.221717565516387,-7.916510248497334,-1.2016452312992099,11.100791748931833,-11.115052628586362,-2.2931054034178158,6.1171278680434025,8.02252235047478,-6.841695807009147,-2.3977191111765417,1.293492747421742,7.090750094265114,-7.638150934025814,1.8772499327036622,-2.5053646413199653,8.939411162022605,-5.133299982077952,2.008763172198704,8.817593552843853,10.36264358140076,-11.066863938450929,7.15438371366356,-8.724511739512481,14.587218591126417,8.078089617773479,-6.558417450895239,5.128354037257446,-4.298837620451812,-2.9236757936830386,10.051353121616518,8.573051776822865,-7.6517414537746795,2.98706016954611,-0.40199345773310846,-4.161578075364897,3.4766676901960696,-6.269987619209773,1.0272696159251102,0.3513173267464811,-14.447711595053981,-14.444664795755527,14.734185958630341,-1.0464637970548596,3.9725165209585462,5.241713983479001,-16.5465878117371,-3.0890416103992004,2.845320051635572,-11.91609426638389,-13.214698621172166,10.813670364657764,-4.1432339288199564,-12.12012711393662,6.361349888791815,14.416442547105762,-13.215426744911202,13.909314355685263,10.085965119878548,-8.03144558100221,-11.798516874477698,-10.558185211299683,5.713631485524958,5.485777673321599,1.6695168910099694,13.008243995468794,-12.114343090419673,-8.984200315840924,12.908191427172392,3.41043183532292,-17.040650745965554,-0.0720874191902081,-10.387072489956442,-4.2392981870885995,12.980681809794843,-6.200542856428034,-2.4747668837610868,-15.067294998098742,8.119754778589913,-3.3541879738866673,-5.260246361910059,7.378125167932745,8.121399590600955,-0.38422479003643734,8.132547644486346,-13.402930001615745,11.027829683445756,-10.201021385947401,10.71652994469147,1.84984950748256,-12.47981300988814,4.871088844576951,13.042442495013542,-12.734686907502601,8.501967926403605,1.131902193744549,-0.9208166387632327,10.005862851132594,-7.982822100284156,-10.498734318601802,4.789905230349823,11.682415467119446,10.98240793171539,-12.523542202922231,12.764838939449465,-4.262741690519148,-1.708468991969499,-5.833563105630192,-5.623629855796458,13.125175761213912,-5.096430528530779,17.743038788576225,-7.8192329184739755,-12.740954561294542,2.4547907110915568,12.826300122071254,4.468711175315987,-3.945631220844526,11.668764274721669,3.1257439039733668,7.2573050763126306,-0.4883646849212854,13.856104907483571,9.474611404651956,5.710706912871465,15.342715694950945,-8.45126657387892,-1.898145507647252,6.831726655482099,-4.617382946263676,-11.455236139916922,-3.1694515592741688,-0.10598776952614263,-1.5668049376501274,-4.169450891951237,-14.05030330659305,-5.027597396624986,-3.3201369139926977,-2.5034416780087905,0.21117833394674254,-4.721999098136768,-14.018438960788998,14.622265299331046,-10.659803540527713,1.9576879748908784,-7.036300604412425,7.192289232058352,-5.383526051969216,-4.49854895070195,-9.259011311990934,9.196783297901591,-11.610768939152953,-6.766359811791057,-15.726828064964376,-3.896087212945746,13.306133996712793,-7.941401784968726,0.6848039220617538,-3.92409991824077,-11.333380445245137,14.388594144201944,13.97783962854529,-1.2325050864503246,12.820075177826576,9.709794249454944,5.604236521407669,-1.2789398839337318,-5.806568712405429,3.836075428250227,-0.3723201000640785,14.816885965120644,11.971800387023483,-9.413972112405753,-3.6113245938301994,9.740447198515636,-10.39543759996414,11.047942997801336,-4.835710361019906,-0.8519339115973543,4.209735330164234,-3.612446814234566,-1.865452726128555,17.75234150586917,2.6166476067355586,-5.236079464624763,-1.4720516878136003,-12.414987252124046,9.727591229746622,13.811075616035293,6.388675236690033,-6.6393337044981875,-10.753147887961811,-3.507798719644455,9.203143820666297,-13.270629219837621,11.279017975149033,-5.421226695988888,10.581210810014177,-9.297017647757071,3.826917991875036,-8.026244447214918,2.8909677243133594,-10.344775351145874,-11.654767389120309,10.624116219137267,7.370843254408638,-11.827954686827244,-11.843264518708446,-6.483695223410819,3.4144822139502558,8.061181967549892,14.369023383660034,8.520245452045568,9.718747791583441,2.1305711362498516,-4.145857714706781,-4.810996001055957,-7.953651625182025,14.173983326435136,-4.941966386716712,-12.74425952978868,6.04563319390944,-1.5429866072298328,-2.660111107263336,2.02332959400992,2.503424979784675,6.229081732220416,3.6227934076272508,-10.514591749642092,7.745153778703357,13.07577966087365,14.751512367830353,-2.9112863473508725,-8.49571871289966,12.59255544762235,-4.857572074936101,-3.979690561731319,-11.475786080662829,-0.4668727765991562,4.1502994856102084,9.740637464137988,0.1508259460559704,13.847563880495086,-6.5039438528798375,9.706085356467737,4.254895825852192,-1.2849911132618739,6.4975344137201,13.033700296991393,-14.258363338053766,6.0807133794433215,10.869214508826415,0.012231475394624628,-17.521445969278037,-2.571474040057686,0.02781039053320814,11.615749301891954,10.564352108848885,3.9079016168924494,-12.926397195757879,10.851209081382533,-8.861681975701092,-11.588459832313577,0.3989193441193675,5.253830814234709,8.385407738027302,12.498566611119871,-2.1405414908273235,-7.758535928654899,-3.9519559936398347,0.5486650173062683,-13.773328870660562,-1.997087302131963,2.690934203909369,-10.791749908533923,-8.99898881437486,-1.925246682498809,11.011953027876388,3.850495405978373,1.6909786462613645,-4.139356601889887,2.8520851756745547,11.03452542957974,10.600500679076413,9.460022258657936,-3.1278256472612416,-0.46951480940116214,-7.05611705837307,-7.157960003969895,-16.56372558558834,-15.598163826167795,1.8379378807616316,4.370983624278082,12.99172962183481,-7.375425478327657,-3.553089786330733,-1.7056179664129216,9.194249174925593,4.440790485494572,-5.31586248300391,13.028713211954608,-4.7845082530573455,-4.9477723182947155,-11.510293968202157,9.936511078794817,-6.648565103391348,11.80783356021876,9.72547174659205,-4.744597011507495,-2.6722943059778723,-5.899748797795648,4.277369680629484,3.990048178267825,4.456495701283628,-2.6835132255427507,-5.040770491903736,10.423573132479955,12.785990207502683,-0.21184501586889737,10.156106867904013,4.382735576165584,-6.164492238298835,9.757836379644077,8.29327799082828,-13.13223448711204,-7.023716539042505,17.69106337871603,7.480261424977264,12.80660444060526,-17.28427637133789,1.8140531821795909,-8.459566357663816,-4.529808296327079,-3.254063148931082,-11.023922548596792,4.535266863047674,-0.07860734230688451,-12.730566362190599,-2.1534727789023247,4.541354926858857,9.994687758616326,3.776475060566733,5.013479238991467,-6.708791978554341,14.655791902046843,1.6899613738793744,-6.568052396910611,-1.1380189471773667,7.372456754148958,13.3008769650526,1.8051531296534717,0.7515443606218765,-1.4769924974173883,-8.212229532521532,-13.98132940175891,9.714314671258215,-12.587176805650484,-6.801630110632299,3.174118168365313,-8.791340344438957,-1.8484052794611356,17.198434154258837,-1.4570272064645955,4.008126993464851,-6.96613146757856,-0.5145777521142507,2.3989746502304548,7.678657607684082,-9.127721197639078,8.187060656908814,5.460527370102,1.4072054998526375,-15.346117517363249,-9.17182594622787,0.6911999181894836,7.936458282841509,-7.862473538133285,2.771378721553491,9.74165891637687,9.754580900148499,9.716376197488502,10.822939344928276,9.058257509049097,0.30791870132356786,11.848654040842348,2.232684597166524,-2.9932676257825492,-14.31152906650659,-14.109369607367409,8.026143151646236,12.318053622281784,7.638788952900354,-2.9845246388834523,15.31482078513513,-9.733443478779277,-5.112123459993291,1.2730364571291908,-7.67783689538114,4.742291019603642,-10.337556776549453,1.9418712885283254,-6.47367670251335,-2.997888153534805,9.710192645734317,4.351917800431128,5.455750786001706,-12.663358163509026,9.153318122284508,-7.69263646437745,11.068898999822812,-15.074660346869093,3.2823872202222355,-9.864537228496498,-10.41260520233338,6.537210699448563,-1.4317882380462472,-13.478248886135157,11.534304890081696,3.0566054955831543,-3.815876170360021,10.794005912024437,8.717698385740107,-15.968348337058293,-0.8832774096460465,1.82775035340074,6.531383898775141,12.240640096337339,-9.501927618488793,9.735162870604098,12.428316223283126,-6.913350321879115,8.772258859978294,1.7667394256704672,9.535557227518169,6.844513432763612,10.843158432334722,-11.50259445446832,12.721487336206536,-0.028562804585384734,-15.320187748237275,-4.802213909931415,-11.148638944803157,-8.689270737309013,6.065794579401016,4.948497950201392,6.4146756706199,7.016124072711672,13.036497101432836,-11.467341911106638,2.414305040080386,-4.265753391231184,4.193971281963303,7.004003779957642,-5.919325654517134,-17.262221845156557,12.031726485122249,-0.6240147542256655,-7.239305731464126,-12.689387855213289,15.27523741182345,-11.48504734395375,7.6699521547927425,-7.504695658589337,0.4512707999390289,7.854768613317256,-12.727641350932851,-13.180265197845534,-10.465126493067698,3.5163937397074534,4.049499301260143,-10.249735897869826,-2.6669644221448094,1.7000076132239885,3.8989643503306572,10.43607089827278,-0.34556393839107435,-2.025844053780489,9.594709548251005,-1.6790942286646307,0.07875227725360098,-10.018698420542645,1.6350745471151527,13.964125623948913,1.5100111300071482,-0.11709670631681385,-7.999740866047758,4.365106765532817,-1.9457772876914619,-1.0845403386498655,-3.080063038592133,4.293107703711836,0.5184743963266071,-12.806720834847603,5.523302151802612,-3.2077824221151676,-9.863401447923746,14.620888729821397,-8.586960774691393,0.8760117582115242,-7.261981783199152,-5.106353127639223,0.6919811664981879,-0.12396636114523778,7.5988167921748175,-1.670073823568617,12.884278488951232,1.980691248011269,-14.070391316210745,-12.546273506992959,-5.626949962552364,-13.522160850946307,-11.303077468229096,2.71041713576652,2.033130215781469,-1.737213992494793,-6.540920704258144,-2.3507486491125102,14.163618781421993,-12.083211778299866,-4.87349472176366,-4.277102447715827,7.807429128693963,-14.90430970081221,2.7009375018238453,-13.028641007964294,3.0587996700173035,13.02264668737154,10.251561342272808,8.805168756970973,-0.21250632734611744,11.218709731044314,15.289466108426243,4.344784971651909,4.6760103734391105,-9.005142071285304,-2.3966593501074134,-2.592283496193308,3.577202754490055,13.410020631667383,6.568089120221388,-2.7502473582253115,14.180989964353634,-13.44789718352911,6.199262864748264,-7.992791627883507,-1.3841150039893426,-4.67640188377116,-13.858903312956556,3.827688878131702,7.0325969091847425,-2.4449678332401144,-7.75552777625691,6.343132180645797,2.2766045577508365,7.446110523465758,5.430234659934518,13.624766755631867,-5.708005917593314,10.698593185821583,4.773024662810921,-8.354143071455207,5.975401547077807,-13.114565605466687,12.931937512663547,12.052454567776172,-9.098682508015305,-12.894704574796334,1.223655267143795,-17.31071878118093,-1.0614119282845569,2.1727721638930393,-14.443333705113732,13.619320204051693,6.268314955308412,-15.039428964087241,-2.3902511487397957,4.354066400158692,-15.554538124411934,0.12761880387606395,3.923265640810201,-6.205016428809034,9.285564023376349,8.431592795196153,6.050293712291346,-8.504988139193063,-1.5222801229545186,2.092933418752999,-2.879263382448186,13.881579884595688,6.895271258595345,-2.36677067667517,13.511950634713225,10.646414774186773,-12.410241262116433,0.0025878719605338008,-13.225025988326006,9.371594266325681,11.494904710850067,-2.145470782303153,8.585165706320291,6.987580256334377,-7.850768840569052,-2.315083255693363,8.313953459763477,14.885071120338045,-11.33973935482736,11.099091616167856,15.032527059487423,8.507484978785246,-2.1863486418384954,-1.862765629878849,1.9464605837573903,8.410270791801475,8.407018639408918,9.743971048671167,9.221396631748311,-14.647046834752633,-0.6946523429957052,8.205094118262712,-13.182299440208084,-8.938583692916882,4.954087560160895,-3.870320584420203,9.294679049026406,9.87352549238727,11.81927975805798,7.1631612538014515,-15.190504313462654,7.343827342566241,-11.70501673114953,5.003641713967626,-9.818224419153513,-12.704625280521187,-1.1378718714877878,-1.1778871881364337,4.898862594280128,4.817399696585853,-12.819649977839427,10.479743547269905,2.2858914469391465,1.1903086984481972,-2.3776340418150634,4.960236905654903,12.927643772776234,13.870841511422325,3.1489971113054818,4.182410855499445,-4.286122078249553,-8.413335535911013,-10.870319979740428,0.7274266272580454,11.98002251838499,2.0105964176504503,0.8691863739121937,-6.320773696524516,3.3272130364756096,-3.9180251411520697,6.014179627774063,0.8502970955379092,-3.86084903429174,-11.745586100643827,0.7617573297717044,0.32102798927966625,6.097674616246262,10.462336113358708,9.657933452857357,1.7707945467906392,-3.667840294150223,-9.503428487033453,-6.769337751391334,-12.161213609652542,13.763204704925114,8.013579195821864,-3.9577828642561066,-5.60073910369127,9.35874725205427,8.01331036888616,-2.2374202666619714,12.643759387751073,-8.863912926425822,13.341287111750328,-4.0124006901341485,12.701383679838816,8.259589569433238,-4.0453940385517,3.340317939258769,-9.593157402944412,8.32084507489863,-4.881152944962375,0.034268474649924385,15.198651399963577,10.84359672966255,3.8906176597100153,-13.99334754108394,-3.0783567547252737,16.791208703406177,-4.86714517293792,9.853361529048309,1.58330608092151,4.5282061927277,-6.736710620355379,-1.9861085215922614,-6.670377773018571,4.954751038427586,-0.5045780462094499,1.32534662382811,-13.346185351450915,-2.3555734575802347,-2.6639052953603475,6.0918387149357835,4.233600703308227,14.69010057693405,-1.3670271431713972,-12.499950175709424,4.261543682309171,-9.699305367315427,-3.403987617338882,-0.534247877544123,-6.21974443821925,6.168254138770312,4.9504040801791005,-10.819861701559713,-3.528847144334164,3.459094556564305,-12.462062889412177,3.316354439615858,2.7606087550223504,-13.068127085900425,-8.811341538905166,2.196961578240196,7.328732748494623,9.563912086408742,3.453873930265847,-4.368285485549616,-0.8595101571147701,1.6782958997374666,10.43739268884378,16.446081337773226,3.402398917721711,0.45345969923913937,-11.429006108749691,-2.4565087311036957,7.763405944096875,3.668100911446919,10.848341941712402,13.55827855303012,-4.91383130558001,-3.489944461322891,-4.885217495151625,7.6852197333430095,-4.698719039094947,13.413376905331344,-15.13998537193258,-14.447654516001581,2.49240297295108,-2.4893268265708848,-6.379586160226626,0.3932471279576086,4.407666190910605,-12.986480245083257,2.0065564401470497,7.50902524186044,1.2413040787800387,-12.18302202270333,-15.428431112528084,5.731845589135752,17.205962971221012,-6.562299140947068,1.8673106845414411,7.743969673357334,-0.928089449220672,-14.1694482464406,-11.968436907160644,6.902517183928745,-6.074477921028934,10.843240519732092,15.398749964262757,11.044021495214288,8.240991714664476,-2.015944405487992,-9.667958618600776,2.7045015948956626,-6.95045068308155,1.4467158119903165,14.920648598271725,17.143071116561504,-14.436101376085379,0.20207816831857925,5.076108507115876,10.106148377287385,15.430150215808432,-3.1566786414994796,3.625528913357559,14.951725980244035,-3.6230540020707696,12.6379985596227,4.187405637877128,11.089322547362567,-2.579910387371048,6.000962372566919,9.42617690594378,6.851921202134512,9.063574402183654,3.1881518258282378,10.223138558645354,-13.20035990195268,11.039050995252865,11.098017864893604,-1.013683341485096,1.6270786806067674,4.879475019118403,3.938918508300053,3.2547733101111724,-6.978006723075829,-9.299409163395088,0.9928408582304277,-12.505648125353144,-10.063806268954272,10.49973264098979,-4.880240032980756,-16.295082031116817,4.165581904349541,1.341018233029298,-4.207872586269661,0.947988449433678,11.27905624406849,1.0502203089999198,4.349484111089946,-0.16870357942094805,0.8441914246404096,-9.037058067900409,9.120939173442533,-4.131893470424605,5.942174967850756,9.054675558569315,4.887226133523422,-2.67005081360771,15.498558348577149,-5.942472358313034,-0.032152118894801116,-7.980350525489451,-0.9748529028105635,4.205632221658305,-14.848129523226122,7.802292350403847,-7.94495176073671,12.672344579939482,5.944170128706539,3.258424553851182,15.323729523351467,-0.5019357357761943,6.389242081376471,-4.5906091171270225,-11.012742662777743,1.7472933619540758,7.437610375283104,-3.6459790675266905,3.631162407438672,0.48184664398593874,-17.551959679991114,1.2367827288273314,-1.0614809180458213,12.947777331969803,-12.711332012344354,-3.905290526764515,14.608394224885343,15.05266975876869,9.587739320172943,0.9152372961795456,12.982773260072607,8.045954240892687,12.457298554237777,15.289351140874409,15.545404069932202,11.121291686030345,-7.150080062624868,-9.686484285011247,-0.3615694594421438,-3.780692070345806,-3.0516515536678086,4.203101855789068,-1.1293048046952963,14.74045468494004,14.65081434490832,3.9147483835007,-7.696080605296839,-13.262440128866315,1.3810578724191598,-0.3609425475474146,0.0038540913947125444,15.179032641397708,5.036245847544374,14.186785024111678,-5.044784812627781,-10.817326319103318,-1.239868940300348,10.07124234323255,-3.7838691104344964,7.9612584340528985,13.530708304635914,-0.2482068427522897,8.960267803949685,-1.0916712348661841,3.9206269486077607,0.19875927871054794,-5.199713011498332,10.815594906367016,-1.8819171925038294,3.2606368427279824,12.872161537207221,-11.367989868279874,11.197132246344912,-2.9352469215891572,-0.17000594146443096,-1.8031274854069537,-7.193288452128895,13.19079394346825,-15.813330409700207,2.9171170261999166,0.6886689109974363,-15.61678275881857,10.488916114569685,-1.0201954901462937,-13.248378505716692,3.7895259958080474,-3.6373116314808227,-7.1043916018430595,10.446936365288405,12.750051302425122,0.9884961670826381,-7.004969443805619,-0.21996860244822494,-2.8414645273023202,17.760184098090228,8.547876285284602,9.760219674270212,5.357006102169566,1.492042704713285,5.671337681298485,-11.447905972371201,-6.263388540032988,-14.195180072271322,13.710320898195645,4.219686982876168,-5.137814964577328,2.911359897625531,9.814801159502467,15.32641089541158,-3.9884543985440546,11.966223753799738,13.106314947740232,-5.119594894461129,4.093933337094515,10.089615504104124,11.498151405718234,3.05852291799501,-0.031985653683811226,2.416427190021275,-10.078277668029386,2.7561250498601892,-11.540022851630862,4.452566586174251,-9.031700485096366,10.709038694505246,6.413186648167233,1.7739039708293327,-0.31972495877589074,8.80203148089472,-13.21456354504614,0.7778477232686107,5.394439010452779,12.076617548504592,1.827364358892847,7.582507487523448,3.338672298381079,13.437249331340778,2.435190362227164,6.918842242774967,-1.5155521510183856,-13.157790690959667,-13.83650989660938,4.075771524044375,3.0685459835439657,10.714354035066954,4.198743045806772,14.30871956377688,8.030478538836574,9.714758267896748,-4.391324940584936,-11.322971151779466,-2.361022700021778,10.125351925842713,4.951787558326024,-6.530769263785129,0.5958283945487335,3.4799238655756985,-3.5218592250100427,-0.14365518593927376,5.638180057318995,4.397909575474757,-1.0313701776362119,-11.248661591336244,2.4807453434488878,10.088408339122614,15.282333184527543,5.465679247947714,-7.79834960943795,-10.682593176251691,2.7185193832624486,3.4899346026314375,-3.7255544714765936,-3.6776570394383423,6.4773573094630565,6.407483141616157,12.344063772576382,-4.497996603357893,12.32683282965293,9.577258613905107,-17.21880884454404,12.157224636958235,-0.5519998898265616,12.916370615801949,-15.844287189847487,-9.603080573594008,11.952975558511039,3.757891742405768,4.055471124385034,8.181269338652694,16.431053275707583,12.36667473415501,-10.06381587211549,5.077794692675636,9.156127107003348,-0.4972571403796258,-0.3682041023554459,6.777467372553631,10.421569766558866,-2.869799107535532,11.477373555232127,-4.68432174824935,-4.099534374306252,17.73312822555448,1.1393283685285265,6.412004521583667,1.006041507330223,8.880230472177661,1.7985244043160438,11.521491533395189,10.128077462131861,2.0928000827442523,2.431045351068611,-8.434712142043868,-9.173187522789734,5.99677950505373,1.4886768658696714,-1.9053418716798851,10.497523460549532,11.981516932832207,11.946772606685002,5.913118647377651,-12.130515459734452,6.000414154522168,-2.354493587928478,-9.272331191822651,-7.6279316286742676,0.24184925140692312,0.0265063879659458,-12.5634025407846,14.531204878584932,6.091089063976571,-7.278548690256969,0.8641667389061899,12.22896845384495,4.401843885755726,9.837875036721682,6.5380043707468625,-8.633109241343771,2.5375270636233895,-4.5591695406095685,-3.916218306124547,5.2939672275524465,3.943053112811912,-9.301036167468926,2.3158583101181813,-10.244281916609307,10.485370154010926,-6.249333887934345,-1.964724585686512,-3.5254790523455215,-15.431395910036288,7.735736147276716,-7.070158475549102,-9.326038324917718,-3.584649489525658,-3.1449031760911113,7.5323461717550675,9.042292398231062,-3.296897247708009,9.743690597420171,5.988786507422107,15.2229341651976,-1.850398105655352,8.868087975934065,9.3362473711008,13.072013793002746,-7.90867609196737,-3.9296904290743155,12.931175281204984,-2.455344631478604,9.411474109323425,9.95252055423393,5.322558474938573,-6.554642491486795,17.709801884547897,2.0972034760610336,5.250160180272399,-5.223234439156281,8.32387798880314,-7.10027902722175,5.232199835326322,7.85268683847677,7.588281993457086,-2.3102564620273296,-13.398607892903309,11.255509598613381,6.252312478975604,-14.642387954240897,-0.23273435347326416,1.759224155657999,8.164880904422835,-15.425485112091213,13.421574421344227,-4.008357854942046,10.531166737139639,-13.280928157632694,-13.349794212408064,-7.078543789289017,15.555272642820594,-14.135966357535132,11.26060106330118,7.414747011673909,-13.62224951784322,8.348133920099809,-13.343648654920768,11.454062028060035,1.8279462950315613,0.18101513858389529,-3.6732460480790095,-10.382708787938789,-4.638340760653756,0.17543802669397923,8.143226438760971,-12.889421390242209,5.408495864808925,-9.721212828646538,-3.7507758680543803,12.893339445112531,5.031632025406645,10.358233719321358,-0.46557745553504726,1.568484879700222,8.87206022668611,3.6824962448642844,-10.857836864502246,5.044879857160396,5.401091912161205,1.9018223358956194,12.531035272292263,9.974249167726418,10.5268069894354,12.875676760741076,-1.4044718022024603,4.849787933328891,-13.508709890212208,-2.5265474257806364,7.841738103883997,0.3368071076809613,5.403098782039438,-13.379198962555794,9.278214291789352,6.238211024264738,-6.325291203532393,-5.974963135155897,14.95180471301995,0.3634758681222771,12.474501231916385,-1.536463962370304,8.70904438871183,-8.731199633136823,8.12573309802518,-3.0421350132614897,12.935178760039545,-13.179420019294463,6.854698458765963,11.605211940353756,-6.849036282675563,-4.933986095666822,-7.960663821443998,8.355451293943148,-6.465282753306364,-13.17628960863041,-2.524688356353759,-7.770344138659422,3.498297746551844,2.9727675466894947,-17.784821428231897,8.804729998395981,11.41524701847996,11.703827656627375,13.388415954533354,-1.2499452105617155,0.8505465213890384,4.4813560790307445,5.490449894485293,-15.029620987965254,7.936575940558948,-4.7059340738987805,-12.77058715414235,-4.280954861474192,8.348641998108434,13.182487765935724,-13.237277182844164,1.18342560901673,-8.676762714127138,1.7334157285074312,2.395599410514354,8.375329968625081,-10.41271772058673,4.438680782214408,-10.139121128605854,14.5895688824779,-17.331551863103087,-10.374681899135517,6.051228163135243,11.260182054568014,7.4934210706868125,-5.824999791005889,-1.0037298610846015,-9.993099960888282,-2.0330943577001133,-2.746464619313419,-0.40284060994252047,7.454009051010782,12.902686712822533,-4.954205141318489,11.733617823519813,10.065224115456164,-11.901910915589479,1.9128873438805727,-12.792493511913136,-2.4938360721059314,6.030518063912662,7.445031317852594,3.0076008206135874,0.09997694438973263,-15.161612928499096,8.587993055103405,1.0541182821027177,15.235663011164808,-17.033060230078668,-3.739455392761574,-6.155666166367667,12.662962038745857,5.5034388184829,6.052371351821743,-0.9771004813118558,-8.105670323080815,10.077924269351024,-15.032375598929937,-0.9794835933102497,-5.505388311387179,10.575979644683741,-3.833246999649179,-0.35913849662535563,12.927633499895578,-14.518133625329872,-0.2535422844462503,-2.882994937472951,11.07179977664726,5.88600443891327,-3.932403789106549,9.416002801873118,-13.040720623156675,-3.380549985374869,-4.3770256445104945,1.902205660513459,12.629558254931734,-17.328158574022005,-10.862207682812217,4.933248834254365,-9.083182310549033,-4.333327896883924,-5.311736478490424,-1.5615818081012027,16.007021528336416,-2.154134852386345,-10.378435085545126,-1.599729433677998,-2.6387290958844636,-15.118219619434207,11.022058971315182,-4.557855873674824,-13.176846996423809,-13.72561664760501,4.845992476764923,-4.338894034694306,7.4512112527255665,9.154845118750313,6.938720276667696,11.85818741925484,5.763940740265638,5.511941180391427,-1.6611916556297102,-9.865290080470915,12.134660426723169,-7.7127841251148,-2.591728516469356,12.980132011463398,-7.943909822116136,-3.946285869890698,-12.984763329591368,7.053420114522703,7.898995956031059,9.700241193755144,12.725419644992076,3.5399424255498984,-0.6864243875448635,-12.57296035772019,10.791490899559337,-5.941669388416969,0.35436386416717414,-13.36316180060439,8.179775957060544,6.253652730256246,4.557478750309503,-8.722876544040048,0.9325140692734455,-15.71083439722869,2.361560421049924,-11.812743760063952,4.501602073124467,-4.219911804915017,10.94204408853372,10.439621735892965,10.916562452102626,6.275028814991677,-4.917646869036275,1.847439110237941,-9.293563595575066,10.486240950969673,-4.242657827336699,-9.795715719459068,1.2439680428047095,-7.098411987610428,7.259833493965551,9.294609098918036,-13.162927278894026,-12.881175433236896,9.062849644363506,1.3510752237356114,14.62671596928859,12.317877533788712,-9.913094555418443,-1.1844539356935713,-5.536357788658047,7.892887917186459,7.742965748094296,14.351843616763354,14.296728100586158,13.473437779479285,-3.570722009047093,-3.476089744392347,1.2837200396861832,7.4031605166036725,2.41529367751568,11.960096730103691,9.048983389842213,4.6668605878917475,5.9198234444199445,4.3780172855778146,-9.7617059129119,8.69435538929957,1.091949662437231,-0.10618986241950243,9.658222192538295,-5.453221661324847,2.269891407557751,-0.4897701272975886,14.286430087784934,9.736470461159474,-13.86049895071318,11.328951436247321,0.3564375964014149,-10.420612134096903,-9.806002167866616,-1.6054558279338655,11.74100415719123,-8.838129584222257,-9.920371063180172,13.256983335136074,6.119149568377296,-3.2308829025099057,2.3832393964783494,5.386144968890605,2.176173070819049,3.4344619234654594,4.528866559776353,4.2381932039594865,-10.466515588450182,8.281727995206683,-11.369198833786688,5.330756559425386,5.928513547246115,7.354342512739181,11.4862064699251,-5.911138819455456,-4.729209898390643,-3.6796972996952544,13.917468613639533,-3.9181007150979696,1.5482679903585341,-0.6030690618747406,-7.656614787349974,6.17491298414197,7.330084503129185,-12.247774115203194,-0.36804166440338965,7.340266829805073,1.9138176173863648,-7.4149289298224215,5.984686164175606,10.21911364154209,-9.42167379455432,1.2481974424758877,-3.94853995250674,-14.066086192533291,11.486575759032167,-2.070287771180752,5.532051870593592,9.723526082933711,-1.8325180790733064,-1.838619048269308,1.2456938480103164,4.380295823104116,-2.0048780818825196,-1.3543088471676825,6.9718019618335685,-3.4035537104678393,9.160013829489298,-13.632330820562634,-14.081625043555555,11.37873560979968,-3.072891101131872,11.504858229976966,-15.419391002782595,7.506633019390747,3.748753214970247,5.715013831220698,1.7212450461983437,-2.4886377429101323,-7.355502904864921,7.398726721397071,-4.333245514710656,8.292914205150657,1.5571348188972507,-0.8894576390521319,-0.650150270327299,2.1307285274981487,9.23173070988748,2.3744539304155867,4.889957811422031,2.807804984069656,3.5518910786272477,-10.414241214196766,-6.050807860690064,-12.244354459317208,8.00814068866945,8.540529087932805,7.842396063286477,3.913431177686883,7.932899305253989,-17.28628906525201,1.1038158912182687,-4.75337976702173,-3.5925789566470874,1.597649246022161,1.1325721827379291,13.01282359544142,-5.280311588106991,3.68168934925823,9.902549500042477,-1.5696007602483297,3.9428696345883325,-0.4721531288135667,13.013821396872597,8.117950555687209,1.9934058012370546,14.46310692709199,-14.520548454805558,6.595071336023978,11.481747925486335,14.385425471885473,-3.95971479088438,10.000226861862307,-9.292797068421084,-10.252840888292274,-13.330990592860486,-13.65131771880532,-1.0873743238649374,-7.5755239646993875,0.8207070698488118,-2.124094502017314,11.392697944423466,-7.17652540014173,0.47622771346723064,-1.9716684101622957,-6.740052565044292,13.283244477622699,-4.7570257242997895,-6.451114441603283,0.40030143569634763,-7.713654043047267,9.892285158249786,10.679706973839446,4.114441645465051,6.4262713723588325,-6.084817568264037],\"word\":[\"deals\",\"into\",\"don't\",\"see\",\"can't\",\"last\",\"had\",\"than\",\"who\",\"our\",\"people\",\"their\",\"A\",\"days,\",\"make\",\"best\",\"0\",\"calories\",\"first\",\"burned\",\"still\",\"am\",\"would\",\"server\",\"work\",\"over\",\"This\",\"load\",\"lost\",\"users,\",\"today\",\"after\",\"much\",\"average:\",\"should\",\"because\",\"Just\",\"shoes\",\"So\",\"I've\",\"It's\",\"think\",\"getting\",\"since\",\"1\",\"year\",\"|\",\"there\",\"?\",\"3\",\"know\",\"health\",\"life\",\"even\",\"poster\",\"them\",\"home\",\"why\",\"right\",\"game\",\"Server:\",\"Uptime:\",\"days\",\"then\",\"take\",\"food\",\"\\ufffd\",\"wanna\",\"next\",\"down\",\"lawyer\",\"never\",\"morning\",\"shopping\",\"things\",\"nike\",\"could\",\"adidas\",\"u\",\"better\",\"way\",\"wait\",\"shipping\",\"she\",\"New\",\"If\",\"every\",\"lbs\",\"too\",\"We\",\"pay\",\"someone\",\"watch\",\"being\",\"look\",\"world\",\"money\",\"under\",\"its\",\"thing\",\"free\",\"great\",\"Obamacare\",\"these\",\"any\",\"black\",\"im\",\"watching\",\"4\",\"amazon\",\"put\",\"And\",\"come\",\"before\",\"5\",\"around\",\"workout\",\"tablet\",\"other\",\"care\",\"It\",\"What\",\"Why\",\"here\",\"two\",\"running\",\"Adidas\",\"In\",\"did\",\"I'll\",\".\",\"gonna\",\"use\",\"while\",\"All\",\"find\",\"loans:\",\"always\",\"sofa\",\"where\",\"ever\",\"him\",\"feel\",\"looking\",\"night\",\"it.\",\"student\",\"THE\",\"us\",\"No\",\"shop\",\"Christmas\",\"week\",\"does\",\"healthcare\",\"wardrobe\",\"stop\",\"old\",\"phone\",\"didn't\",\"most\",\"myself\",\"trying\",\"How\",\"mattress\",\"tomorrow\",\"10\",\"own\",\"Black\",\"play\",\"having\",\"goal\",\",\",\"completed\",\"were\",\"those\",\"also\",\"i'm\",\"2016\",\"that's\",\"Pitch\",\"until\",\"school\",\"That\",\"again\",\"job\",\"said\",\"But\",\"...\",\"diary\",\"another\",\"already\",\"went\",\"sale\",\"left\",\"same\",\"doesn't\",\"Friday\",\"flights\",\"pitch.\",\"weigh-in!\",\"On\",\"actually\",\"say\",\"very\",\"needs\",\"Football\",\"Is\",\"used\",\"Lyft\",\"big\",\"hours\",\"making\",\"high\",\"Now\",\"without\",\"makes\",\"whole\",\":\",\"which\",\"years\",\"long\",\"#Pitch\",\"GM\",\"Pi\",\"working\",\"keep\",\"bed\",\"design\",\"team\",\"When\",\"help\",\"little\",\"wish\",\"printer\",\"System\",\"Can't\",\"happy\",\"6\",\"Best\",\"2017\",\"far.\",\"call\",\"Not\",\"full\",\"Pi2\",\"finally\",\"JST\",\"Hostname:raspi\",\"MY\",\"playing\",\"hiring\",\"Who\",\"For\",\"Kitchen\",\"give\",\"lot\",\"away\",\"coming\",\"weight\",\"through\",\"nice\",\"To\",\"looks\",\"Need\",\"calorie\",\"divorce\",\"bc\",\"ready\",\"sleep\",\"real\",\"gm\",\"credit\",\"let\",\"end\",\"hard\",\"excited\",\"hit\",\"everything\",\"well\",\"live\",\"found\",\"wear\",\"might\",\"dad\",\"done\",\"tennis\",\"run\",\"won't\",\"traffic\",\"Good\",\"Running\",\"beds\",\"He\",\"sure\",\"hope\",\"show\",\"AND\",\"Got\",\"open\",\"tonight\",\"literally\",\"nothing\",\"TO\",\"Up\",\"financial\",\"!\",\"One\",\"IS\",\"isn't\",\"quotes\",\"0.05\",\"#quotes\",\"=\",\"walking\",\"Server\",\"I'd\",\"cause\",\"??\",\"code\",\"using\",\"desktop\",\"today.\",\"few\",\"set\",\"n\",\"video\",\"stuff\",\"weekend\",\"gets\",\"girl\",\"business\",\"place\",\"0.00,\",\"games\",\"wants\",\"babysitting\",\"season\",\"bought\",\"guy\",\"Can\",\"top\",\"came\",\"able\",\"office\",\"against\",\"family\",\"says\",\"now.\",\"min\",\"me.\",\"friends\",\"+\",\"pretty\",\"20\",\"7\",\"football.\",\"Buy\",\"graphic\",\"8\",\"please\",\"machine\",\"order\",\"Get\",\"there's\",\"sitting\",\"post\",\"try\",\"Deals\",\"mins\",\"cool\",\"Mercedes\",\"far\",\"between\",\"gotta\",\"taking\",\"w\",\"30\",\"half\",\"network\",\"almost\",\"skiing\",\"Apple\",\"such\",\"Gm\",\"may\",\"white\",\"mirrors\",\"miss\",\"change\",\"12\",\"First\",\"yet\",\"They\",\"paid\",\"anything\",\"saw\",\"per\",\"instead\",\"Love\",\"wanted\",\"both\",\"month\",\"Travel\",\"must\",\"comes\",\"he's\",\"called\",\"least\",\":)\",\"laptop.\",\"patent\",\"washing\",\"Free\",\"temperature\",\"probably\",\"told\",\"kitchen.\",\"rent\",\"parents\",\"believe\",\"pair\",\"eat\",\"space\",\"table\",\"tell\",\"CPU:\",\"soon\",\"took\",\"Saturday\",\"person\",\"leave\",\"early\",\"buying\",\"BMW\",\"There\",\"hour\",\"kids\",\"spent\",\"driving\",\"wearing\",\"name\",\"perfect\",\"stay\",\"ur\",\"company\",\"w/\",\"House\",\"move\",\"clean\",\"walk\",\"current\",\"due\",\"turn\",\"thought\",\"clothes\",\"goes\",\"fun\",\"drive\",\"0.01,\",\"IN\",\"cost\",\"As\",\"(jogging),\",\"enough\",\"floor\",\"different\",\"Logo\",\"That's\",\"less\",\"store\",\"Health\",\"Day\",\"server.\",\"Great\",\"waiting\",\"bring\",\"US\",\"guess\",\"seen\",\"/\",\"time:\",\"NFL\",\"gone\",\"refrigerator\",\"internship\",\"y'all\",\"spend\",\"brand\",\"card\",\"VC\",\"music\",\"gift\",\"Use\",\"At\",\"loss\",\"Time\",\"trademark\",\"Forget\",\"Looking\",\"point\",\"Someone\",\"Audi\",\"line\",\"Nb.\",\"during\",\"delay\",\"small\",\"talk\",\"win\",\"thinking\",\"water\",\"baby\",\"????\",\"???\",\"Life\",\"1st\",\"air\",\"player\",\"once\",\"hunting\",\"together\",\"Don't\",\"ON\",\"twitter\",\"feeling\",\"Im\",\"golf\",\"Auto\",\"FOR\",\"theft\",\"energy\",\"With\",\"means\",\"She\",\"paying\",\"book\",\"outside\",\"mph,\",\"Today\",\"Our\",\"plan\",\"head\",\"till\",\"favorite\",\"Still\",\"forgot\",\"web\",\"times\",\"seeing\",\"..\",\"goes.\",\"15\",\"past\",\"Used\",\"tech,\",\"eating\",\"#HealthCare\",\"haven't\",\"app\",\"day.\",\"promo\",\"save\",\"Like\",\"C\",\"Walking,\",\":(\",\"Laptop\",\"friend\",\"second\",\"power\",\"Monday\",\"cant\",\"check\",\"mph\",\"UP=\",\"wasn't\",\"million\",\"talking\",\"each\",\"months\",\"idea\",\"designer\",\"Any\",\"via\",\"After\",\"Do\",\"light\",\"straight\",\"Air\",\"9\",\"website\",\"become\",\"TV\",\"IKEA\",\"auto\",\"Lawyer\",\"x\",\"Loans\",\"deal\",\"single\",\"lose\",\"three\",\"rn\",\"Tesla\",\"worst\",\"break\",\"ticket\",\"ain't\",\"asked\",\"Only\",\"hear\",\"close\",\"remember\",\"Oh\",\"payday\",\"couldn't\",\"front\",\"pitch,\",\"tv\",\"sad\",\"cute\",\"year.\",\"RAM:\",\"COLLEGE\",\"tried\",\"\\\"I\",\"amazing\",\"remote\",\"Of\",\"basketball\",\"drunk\",\"we're\",\"Theft\",\"loan\",\"bit\",\"Medicare\",\"low\",\"level\",\"reason\",\"weeks\",\"box\",\"People\",\"payment\",\"services\",\"Really\",\"else\",\"price\",\"Let's\",\"created\",\"crazy\",\"throw\",\"lane\",\"entire\",\"gave\",\"php\",\"side\",\"saying\",\"room.\",\"IT\",\"0.07,\",\"including\",\"club\",\"kind\",\"maybe\",\"rest\",\"computer\",\"OF\",\"day,\",\"Car\",\"child\",\"currently\",\"size\",\"There's\",\"ordered\",\"time.\",\"Will\",\"account\",\"prime\",\"dont\",\"mean\",\"wonder\",\"face\",\"available\",\"Grand\",\"case\",\"0.06,\",\"slow\",\"speeding\",\"ask\",\"Go\",\"Insurance\",\"summer\",\"tho\",\"&gt;\",\"sit\",\"takes\",\"blinds\",\"future\",\"fire\",\"movie\",\"NIKE\",\"logo.\",\"pace\",\"social\",\"Kia\",\"Some\",\"insurance.\",\"afford\",\"beautiful\",\"they're\",\"ikea\",\"mind\",\"0.04,\",\"pick\",\"training\",\"Me\",\"0.08,\",\"blocked\",\"asleep\",\"active\",\"software\",\"Where\",\"vs\",\"Twitter\",\"drop\",\"up.\",\"Chevy\",\"boy\",\"companies\",\"Uber\",\"red\",\"SO\",\"country\",\"Finally\",\"FOOTBALL\",\"coffee\",\"players\",\"laptop,\",\"commercial\",\"wrong\",\"later\",\"11\",\"guys\",\"NOT\",\"ran\",\"Watching\",\"rather\",\"Please\",\"Every\",\"Watch\",\"accident\",\"dog\",\"feels\",\"ball\",\"battle\",\"tweet\",\"gaming\",\"cold\",\"alone\",\"Morning\",\"Be\",\"again.\",\"ya\",\"socks\",\"sell\",\"system\",\"Have\",\"24\",\"100\",\"CPA\",\"body\",\"understand\",\"development\",\"couple\",\"fact\",\"Should\",\"--\",\"decided\",\"service\",\"0.05,\",\"weird\",\"house.\",\"dream\",\"sign\",\"self\",\"Size\",\"car.\",\"tired\",\"cover\",\"Healthcare\",\"ppl\",\"renewable\",\"Accident\",\"glad\",\"email\",\"screen\",\"NEW\",\"late\",\"PHP\",\"count\",\"bike\",\"out.\",\"fast\",\"These\",\"seems\",\"Nothing\",\"she's\",\"Shoes\",\"Most\",\"Well\",\"50\",\"Men's\",\"kg\",\"bag\",\"read\",\"Getting\",\"Patent\",\"inside\",\"forward\",\"fall\",\"Prime\",\"number:\",\"fix\",\"girls\",\"kitchen,\",\"From\",\"ok\",\"GPU\",\"Also\",\"super\",\"hand\",\"Going\",\"giving\",\"#design\",\"sleeping\",\"near\",\"kinda\",\"turned\",\"tech\",\"number\",\"More\",\"#Quotes\",\"paper\",\"gear\",\"Me:\",\"Gotta\",\"Under\",\"india\",\"course\",\"across\",\"0.02,\",\"State\",\"state\",\"credit.\",\"cheap\",\"opening\",\"mile)\",\"send\",\"Nissan\",\"me,\",\"ALL\",\"travel.\",\"Hillary\",\"Exercise\",\"Porsche\",\"presented\",\"honestly\",\"vc\",\"de\",\"needed\",\"extra\",\"thanks\",\"middle\",\"gym\",\"Cadillac\",\"0.03,\",\"meet\",\"charge\",\"though\",\"expensive\",\"ago\",\"access\",\"it,\",\"game.\",\"definitely\",\"cannot\",\"Teamspeak\",\"finish\",\"what's\",\"Nike+\",\"pm\",\"works\",\"hooks\",\"charger\",\"U\",\"2nd\",\"behind\",\"(running)\",\"Obama\",\"Happy\",\"0.09,\",\"private\",\"idk\",\"PING=OK\",\"door\",\"lawyer.\",\"911\",\"blow.\",\"wouldn't\",\"#Obamacare\",\"cut\",\"me:\",\"lit\",\"Maybe\",\"tryna\",\"lead\",\"trade\",\"AUTO\",\"Alzheimer's\",\"upon\",\"yesterday\",\"AM\",\"stand\",\"lanes\",\"dementia\",\"who's\",\"on.\",\"sales\",\"problem\",\"Had\",\"smh\",\"enthusiastically\",\"today,\",\"list\",\"Never\",\"putting\",\"Club\",\"LAPTOP\",\"ME\",\"let's\",\"shows\",\"Low\",\"Thanks\",\"car,\",\"cat\",\"closed.\",\"0.06\",\"huge\",\"Last\",\"PC\",\"woke\",\"kid\",\"either\",\"hair\",\"cash\",\"listening\",\"moving\",\"Trying\",\"SB\",\"walked\",\"fell\",\"missed\",\"news\",\"catch\",\"Does\",\"teams\",\"25\",\"swear\",\"loans.\",\"Sunday\",\"women\",\"morning.\",\"Home\",\"experience\",\"Big\",\"exercise.\",\"wake\",\"plans\",\"November\",\"oh\",\"Been\",\"Perfect\",\"What's\",\"tonight.\",\"build\",\"January\",\"places\",\"type\",\"taken\",\"thy\",\"Or\",\"keeps\",\"realized\",\"Golf\",\"Its\",\"watched\",\"IM\",\"fit\",\"data\",\"loadavg:\",\"Nice=0.0%\",\"learn\",\"American\",\"link\",\"Accident,\",\"Jordan\",\"pls\",\"cars\",\"easy\",\"life.\",\"tax\",\"recruiting\",\"dark\",\"thine\",\"Are\",\"Game\",\"Come\",\"finished\",\"work.\",\"NO\",\"wall\",\"Parkinson's\",\"40\",\"supposed\",\"ACCIDENT\",\"stopped\",\"Echo\",\"books\",\"general\",\"Who's\",\"bank\",\"fan\",\"deals.\",\"Call\",\"THIS\",\"la\",\"benefits\",\"bout\",\"ones\",\"shoes.\",\"back.\",\"stuck\",\"played\",\"?????\",\"cardio\",\"World\",\"!!\",\"heard\",\"NB\",\"\\\"\",\"learning\",\"blue\",\"knows\",\"update\",\"speed:\",\"leads\",\"longer\",\"Mirrors\",\"song\",\"Walking\",\"grand\",\"Dispatch:\",\"crying\",\"Design\",\"0.00\",\"Was\",\"cleaning\",\"JUST\",\"Load\",\"President\",\"60\",\"connections:\",\"BPD\",\"friday\",\"Another\",\"international\",\"Consumer\",\"tomorrow.\",\"EU\",\"Payday\",\"processes:\",\"audi\",\"happen\",\"window\",\"arm_freq=900\",\"T(C):\",\"0.10,\",\"(371)\",\"them.\",\"wild\",\"~\",\"An\",\"Back\",\"road\",\"looked\",\"Dell\",\"market\",\"public\",\"jobs\",\"that.\",\"treat\",\"Then\",\"White\",\"Let\",\"aren't\",\"cooking\",\"sat\",\"fans\",\"plus\",\"Did\",\"temp=51.9'C.\",\"sent\",\"pantry\",\"chevy\",\"write\",\"Bicycling,\",\"interest\",\"#traffic\",\"Accident:\",\"forget\",\"Want\",\"We're\",\"step\",\"government\",\"December\",\"changed\",\"christmas\",\"closed\",\"awesome\",\"yang\",\"men\",\"13\",\"anymore\",\"boys\",\"biggest\",\"2.\",\"temp=50.8'C.\",\"Texas\",\"fixed\",\"within\",\"week.\",\"af\",\"PITCH\",\"rate\",\"temp:\",\"amount\",\"knew\",\"version\",\"degrees\",\"bmw\",\"biking,\",\"About\",\"personal\",\"drivers\",\"(cycling,\",\"delivery\",\"hold\",\"Jan\",\"seriously\",\"\\\"The\",\"Work\",\"daily\",\"Pay\",\"apple\",\"Potential\",\"okay\",\"Next\",\"#travel\",\"minute\",\"costs\",\"beat\",\"area\",\"Super\",\"gives\",\"baseball\",\"F\",\"dropped\",\"mum\",\"i've\",\"45\",\"house,\",\"1.\",\"trip\",\"media\",\"room,\",\"POSTER\",\"selling\",\"Wish\",\"sound\",\"leaving\",\"Take\",\"test\",\"writing\",\"good.\",\"21\",\"Nov\",\"LOVE\",\"chance\",\"building\",\"THAT\",\"officially\",\"jacket\",\"Amazon.\",\"key\",\"won\",\"winter\",\"3rd\",\"wife\",\"law\",\"#webdesign\",\"Dec\",\"appliances\",\"today!\",\"cry\",\"logo,\",\"series\",\"offer\",\"exercises,\",\"asking\",\"figure\",\"lazy\",\"draw\",\"funny\",\"Web\",\"it!\",\"??????\",\"complete\",\"double\",\"holiday\",\"drink\",\"word\",\"one.\",\"pants\",\"Top\",\"swimwear\",\"Even\",\"r\",\"death\",\"#graphic\",\"Think\",\"spending\",\"logo?\",\"throwing\",\"fine\",\"cuz\",\"Netflix\",\"tree\",\"uber\",\"Financial\",\"pro\",\"100%\",\"Living\",\"basically\",\"round\",\"Make\",\"quick\",\"students\",\"#graphicdesign\",\"???????\",\"deep\",\"Red\",\"$50\",\"Business\",\"enjoy\",\"eyes\",\"seeking\",\"sounds\",\"riding)\",\"pictures\",\"America\",\"possible\",\"Office\",\"internet\",\"group\",\"date\",\"episode\",\"ride\",\"WITH\",\"mobile\",\"quality\",\"dinner\",\"boots\",\"calling\",\"world.\",\"onto\",\"football,\",\"absolutely\",\"reebok\",\"LOGO\",\"night.\",\"temp=53.0'C.\",\"anybody\",\"now,\",\"story\",\"true\",\"Two\",\"miles\",\"Google\",\"actual\",\"sold\",\"bathroom\",\"major\",\"completely\",\"city\",\"somebody\",\"study\",\"based\",\"speed\",\"kia\",\"Services\",\"matter\",\"cleaned\",\"forever\",\"question\",\"WB\",\"da\",\"drawing\",\"cyber\",\"insurance,\",\"di\",\"hands\",\"#jobs\",\"Ikea\",\"print\",\"four\",\"tbh\",\"add\",\"#nowplaying\",\"18\",\"movies\",\"sink\",\"up,\",\"shoe\",\"final\",\"dollars\",\":/\",\"worked\",\"crm\",\"Network\",\"lawyer,\",\"dancing\",\"automatically\",\"Run\",\"towards\",\"bio\",\"#news\",\"UK\",\"quite\",\"too.\",\"issues\",\"16\",\"Hyundai\",\"EB\",\"cook\",\"security\",\"envelope\",\"color\",\"Y'all\",\"wow\",\"mother\",\"problems\",\"lady\",\"Student\",\"keeping\",\"planning\",\"telling\",\"He's\",\"bringing\",\"windows\",\"14\",\"usage:\",\"Care\",\"bedroom\",\"cards\",\"lil\",\"green\",\"ice\",\"Anybody\",\"offers\",\"happened\",\"match\",\"center\",\"mine\",\"legal\",\"runs\",\"pull\",\"given\",\"allowed\",\"respect\",\"here.\",\"along\",\"Armour\",\"more.\",\"0.12\",\"threw\",\"HAVE\",\"bags\",\"decide\",\"pitch?\",\"temp=49.8'C.\",\"Obamacare.\",\"Reebok\",\"Check\",\"moved\",\"missing\",\"Php\",\"divorce.\",\"High\",\"text\",\"son\",\"realtor\",\"Would\",\"sorry\",\"nigga\",\"rates\",\"picture\",\"scared\",\"strike\",\"stock\",\"#hiring\",\"weather\",\"local\",\"program\",\"home.\",\"Update:\",\"control\",\"site\",\"2016,\",\"everyday\",\"track\",\"i'll\",\"create\",\"shouldn't\",\"join\",\"totally\",\"iPhone\",\"conference\",\"dress\",\"pizza\",\"battery\",\"Wow\",\"main\",\"N\",\"project\",\"saved\",\"Kershaw\",\"Rd,\",\"Graphic\",\"lights\",\"hiring?\",\"worse\",\"omg\",\"Which\",\"videos\",\"married\",\"GUESTS.\",\"signed\",\"Unsecured\",\"travel,\",\"0.11,\",\"realize\",\"Guess\",\"truck\",\"City\",\"reading\",\"Having\",\"clear\",\"thru\",\"bunch\",\"furniture\",\"rental\",\"Poster\",\"ended\",\"May\",\"PM\",\"special\",\"#seattle\",\"%\",\"By\",\"Might\",\"share\",\"fake\",\"interesting\",\"lots\",\"3D\",\"return\",\"kph\",\"Looks\",\"Americans\",\"**\",\"in.\",\"increase\",\"bigger\",\"dollar\",\"there.\",\"Ima\",\"education\",\"pink\",\"Co.\",\"package\",\"#Graphicdesign\",\"vote\",\"ill\",\"calls\",\"release\",\"Table\",\"others\",\"losing\",\"temp=48.7'C.\",\"Babysitting\",\"medical\",\"seem\",\"felt\",\"installed\",\"adult\",\"meeting\",\"serious\",\"homes\",\"rid\",\"president\",\"South\",\"album\",\"feet\",\"Those\",\"year,\",\"dan\",\"athletic\",\"chill\",\"0.11\",\"healthcare.\",\"dental\",\"un\",\"Am\",\"pada\",\"somewhere\",\"Gonna\",\"Went\",\"cop\",\"greatest\",\"Because\",\"loans,\",\"3.\",\"Very\",\"dance\",\"km)\",\"words\",\"prices\",\"Video\",\"Thursday\",\"total\",\"five\",\"busy\",\"F.\",\"gold\",\"Currently\",\"hat\",\"Nice\",\"temp=51.4'C.\",\"thinks\",\"Things\",\"22\",\"b\",\"#RaspberryPi\",\"football!\",\"you\",\"terrible\",\"warm\",\"purchase\",\"stream\",\"smell\",\"emails\",\"DM\",\"Security\",\"exactly\",\"goals\",\"wifi\",\"mod.\",\"sometimes\",\"nobody\",\"synced\",\"35\",\"pc\",\"far!\",\"field\",\"See\",\"#PHP\",\"record\",\"bus\",\"safe\",\"(C)\",\"tf\",\"train\",\"Molabat\",\"exercise,\",\"mercedes\",\"hasn't\",\"page\",\"T\",\"wit\",\"flat\",\"listen\",\"#quote\",\"all.\",\"form\",\"driver\",\"0.10\",\"BUT\",\"Ok\",\"Early\",\"#business\",\"yes\",\"affordable\",\"is:\",\":D\",\"Temperature:\",\"AT\",\"Vice\",\"replace\",\"opened\",\"17\",\"luck\",\"dope\",\"drinking\",\"uk\",\"GET\",\"coach\",\"likely\",\"continue\",\"Withings\",\"Blue\",\"covered\",\"issue\",\"children\",\"camera\",\"pack\",\"apparently\",\"board\",\"Int'l\",\"slides\",\"coverage\",\"weigh-in\",\"0.07\",\"Scale.\",\"couch\",\"Michael\",\"DO\",\"decent\",\"#best\",\"switch\",\"Optimistic\",\"UP\",\"connect\",\"stick\",\"considering\",\"Being\",\"agent\",\"rugs\",\"ad\",\"lay\",\"present\",\"season.\",\"touch\",\"finding\",\"bucks\",\"BE\",\"healthy\",\"ideas\",\"Idk\",\"hungry\",\"Sometimes\",\"Temp:42.24\",\"loves\",\"(\",\"anywhere\",\"wanting\",\"log\",\"age\",\"down.\",\"CPU\\ufffdUser=1.0%\",\"higher\",\"mental\",\"CRM\",\"laying\",\"changing\",\"apply\",\"preschool\",\"!!!\",\"Shipping\",\"annoying\",\"So,\",\"booked\",\"Temp:41.16\",\"re\",\"WHY\",\"o\",\"Ready\",\"added\",\"voice\",\"John\",\"Hopefully\",\"ways\",\"hoping\",\"debt\",\"off.\",\"Hope\",\"v\",\"wind\",\"inning\",\"years.\",\"lunch\",\"except\",\"90\",\"strong\",\"large\",\"#Nissan\",\"route\",\"camp\",\"search\",\"West\",\"I\\ufffdm\",\"October\",\"KITCHEN\",\"everywhere\",\"fight\",\"#cubevenue\",\"2017,\",\"history\",\"this.\",\"Divorce\",\"na\",\"Social\",\"til\",\"exciting\",\"#pitch\",\"premiums\",\"S\",\"Contact\",\"standing\",\"Out\",\"Windows\",\"....\",\"breakfast\",\"Stay\",\"0.08\",\"everybody\",\"chicken\",\"process\",\"thats\",\"memory\",\"fresh\",\"provide\",\"practice\",\"snow\",\"FREE\",\"NEED\",\"random\",\"sweet\",\"Stop\",\"#debate\",\"back!\",\"well.\",\"note\",\"nearly\",\"Working\",\"trust\",\"regular\",\"Online\",\"nissan\",\"hopefully\",\"normal\",\"joke\",\"it?\",\"Facebook\",\"work,\",\")\",\"ARE\",\"piece\",\"heat\",\"#SanMarcos\",\"San\",\"Hiring\",\"(12\",\"Team\",\"fear\",\"lie\",\"Literally\",\"procurement\",\"often\",\"mess\",\"policy\",\"Cyber\",\"homework\",\"GOT\",\"Parkinson\",\"pen\",\"cpu\",\"ObamaCare\",\"host\",\"turns\",\"Since\",\"United\",\"proud\",\"tea\",\"ive\",\"delivered\",\"score\",\"Athletic\",\"Off\",\"armour\",\"soon.\",\"suit\",\"didnt\",\"pain\",\"tickets\",\"hospital\",\"0.09\",\"Pro\",\"P\",\"imagine\",\"saving\",\"etc\",\"0.13\",\"Flights\",\"legit\",\"grandma\",\"pitch!\",\"ist\",\"download\",\"haha\",\"WAS\",\"focus\",\"Listening\",\"settlement\",\"marketing\",\"whether\",\"spot\",\"upset\",\"RAM\",\"#how\",\"uk:\",\"aid\",\"income\",\"choose\",\"23\",\"singing\",\"official\",\"received\",\"healthcare,\",\"town\",\"Way\",\"interested\",\"GMT\",\"Welcome\",\"Uptime:0\",\"heater\",\"kick\",\"gpu\",\"sense\",\"sun\",\"Tennis\",\"loans-\",\"Florida\",\"NOW\",\"India\",\"Open\",\"His\",\"right?\",\"thing.\",\"customer\",\"especially\",\"em\",\"3.0\",\"contact\",\"ahead\",\"Tech\",\"E\",\"plays\",\"showing\",\"Quotes\",\"I-64\",\"lets\",\"50%\",\"wont\",\"W\",\"ST\",\"#LOGO\",\"#nikeplus\",\"days.\",\"ugly\",\"expect\",\"money.\",\"rain\",\"paint\",\"pulled\",\"yall\",\"review\",\"noch\",\"BACK\",\"turning\",\"immer\",\"September\",\"Pretty\",\"Space\",\"stores\",\"etc.\",\"boyfriend\",\"stairs\",\"ONE\",\"Nike+.\",\"gotten\",\"points\",\"0.12,\",\"things.\",\"happening\",\"hits\",\"visit\",\"Room\",\"king\",\"Dementia\",\"26\",\"cheaper\",\"&lt;3\",\"yeah\",\"Mike\",\"act\",\"products\",\"d\",\"users\",\"St\",\"X\",\"oil\",\"33\",\"is.\",\"Cubs\",\"uni\",\"domestic\",\"bar\",\"third\",\"learned\",\"windbreaker\",\"dell\",\"2017.\",\"street\",\"ground\",\"lives\",\"time,\",\"blessed\",\"Today's\",\"ship\",\"national\",\"Launch\",\"force\",\"orders\",\"out,\",\"empty\",\"handle\",\"19\",\"makeup\",\"mama\",\"information\",\"Keep\",\"eye\",\"model\",\"500\",\"difference\",\"people.\",\"foreign\",\"Jose\",\"songs\",\"V\",\"him.\",\"event\",\"mi\",\"fiscal\",\"loved\",\"lb\",\"truly\",\"himself\",\"Okay\",\"WE\",\"known\",\"earlier\",\"bottle\",\"simple\",\"lower\",\"Find\",\"cup\",\"Sofa\",\"ever.\",\"regard\",\"Remember\",\"Thinking\",\"beer\",\"meant\",\"#Minecraft\",\"doctor\",\"Medium\",\"session\",\"thankful\"]}},\"id\":\"325efd01-4cce-4c6e-9834-5f81af079ad6\",\"type\":\"ColumnDataSource\"},{\"attributes\":{\"data_source\":{\"id\":\"325efd01-4cce-4c6e-9834-5f81af079ad6\",\"type\":\"ColumnDataSource\"},\"glyph\":{\"id\":\"193a4262-1547-44ec-96eb-7429483cd500\",\"type\":\"Circle\"},\"hover_glyph\":{\"id\":\"a828c55c-8e71-4da5-a617-ac1a8aed9664\",\"type\":\"Circle\"},\"nonselection_glyph\":{\"id\":\"72b00306-d198-4ba3-819b-830fb4e03f29\",\"type\":\"Circle\"},\"selection_glyph\":null},\"id\":\"eb0e8385-5a3c-4b10-bcf9-7ac845aef447\",\"type\":\"GlyphRenderer\"},{\"attributes\":{\"plot\":{\"id\":\"17868237-9121-41ce-b155-b8f357e2da4b\",\"subtype\":\"Figure\",\"type\":\"Plot\"}},\"id\":\"8d83d98e-8305-4cc4-9e1f-7a7c9f2ed948\",\"type\":\"PanTool\"},{\"attributes\":{},\"id\":\"72138925-fc4f-4dc8-86bd-13d10c32e53e\",\"type\":\"BasicTicker\"},{\"attributes\":{\"fill_color\":{\"value\":\"#1f77b4\"},\"size\":{\"units\":\"screen\",\"value\":10},\"x\":{\"field\":\"tsne_x\"},\"y\":{\"field\":\"tsne_y\"}},\"id\":\"a828c55c-8e71-4da5-a617-ac1a8aed9664\",\"type\":\"Circle\"},{\"attributes\":{\"callback\":null,\"overlay\":{\"id\":\"bebfc87a-bfe5-494b-9d8c-e0aa2ff7bb98\",\"type\":\"BoxAnnotation\"},\"plot\":{\"id\":\"17868237-9121-41ce-b155-b8f357e2da4b\",\"subtype\":\"Figure\",\"type\":\"Plot\"},\"renderers\":[{\"id\":\"eb0e8385-5a3c-4b10-bcf9-7ac845aef447\",\"type\":\"GlyphRenderer\"}]},\"id\":\"7038b8e6-8e30-4cab-9e56-76b389c4379b\",\"type\":\"BoxSelectTool\"}],\"root_ids\":[\"17868237-9121-41ce-b155-b8f357e2da4b\"]},\"title\":\"Bokeh Application\",\"version\":\"0.12.0\"}};\n",
       "            var render_items = [{\"docid\":\"eaae22c8-1fef-44ec-931f-f4b6aa1fc4b5\",\"elementid\":\"55fc6360-33c3-43c4-9a19-b096fe0fff84\",\"modelid\":\"17868237-9121-41ce-b155-b8f357e2da4b\",\"notebook_comms_target\":\"1c31df57-ea21-40cc-a804-31b032b61fff\"}];\n",
       "            \n",
       "            Bokeh.embed.embed_items(docs_json, render_items);\n",
       "        });\n",
       "      },\n",
       "      function(Bokeh) {\n",
       "      }\n",
       "    ];\n",
       "  \n",
       "    function run_inline_js() {\n",
       "      for (var i = 0; i < inline_js.length; i++) {\n",
       "        inline_js[i](window.Bokeh);\n",
       "      }\n",
       "    }\n",
       "  \n",
       "    if (window._bokeh_is_loading === 0) {\n",
       "      console.log(\"Bokeh: BokehJS loaded, going straight to plotting\");\n",
       "      run_inline_js();\n",
       "    } else {\n",
       "      load_libs(js_urls, function() {\n",
       "        console.log(\"Bokeh: BokehJS plotting callback run at\", now());\n",
       "        run_inline_js();\n",
       "      });\n",
       "    }\n",
       "  }(this));\n",
       "</script>"
      ]
     },
     "metadata": {},
     "output_type": "display_data"
    },
    {
     "name": "stderr",
     "output_type": "stream",
     "text": [
      "/Users/schwarls37/anaconda/lib/python2.7/site-packages/ipykernel/comm/comm.py:52: DeprecationWarning: Comm._comm_id_default is deprecated: use @default decorator instead.\n",
      "  def _comm_id_default(self):\n",
      "/Users/schwarls37/anaconda/lib/python2.7/site-packages/ipykernel/comm/comm.py:29: DeprecationWarning: Comm._iopub_socket_default is deprecated: use @default decorator instead.\n",
      "  def _iopub_socket_default(self):\n",
      "/Users/schwarls37/anaconda/lib/python2.7/site-packages/ipykernel/comm/comm.py:24: DeprecationWarning: Comm._kernel_default is deprecated: use @default decorator instead.\n",
      "  def _kernel_default(self):\n",
      "/Users/schwarls37/anaconda/lib/python2.7/site-packages/ipykernel/comm/comm.py:32: DeprecationWarning: Comm._session_default is deprecated: use @default decorator instead.\n",
      "  def _session_default(self):\n",
      "/Users/schwarls37/anaconda/lib/python2.7/site-packages/ipykernel/comm/comm.py:41: DeprecationWarning: Comm._topic_default is deprecated: use @default decorator instead.\n",
      "  def _topic_default(self):\n",
      "/Users/schwarls37/anaconda/lib/python2.7/site-packages/ipykernel/comm/comm.py:24: DeprecationWarning: Comm._kernel_default is deprecated: use @default decorator instead.\n",
      "  def _kernel_default(self):\n",
      "/Users/schwarls37/anaconda/lib/python2.7/site-packages/ipykernel/comm/comm.py:52: DeprecationWarning: Comm._comm_id_default is deprecated: use @default decorator instead.\n",
      "  def _comm_id_default(self):\n",
      "/Users/schwarls37/anaconda/lib/python2.7/site-packages/ipykernel/comm/comm.py:32: DeprecationWarning: Comm._session_default is deprecated: use @default decorator instead.\n",
      "  def _session_default(self):\n",
      "/Users/schwarls37/anaconda/lib/python2.7/site-packages/ipykernel/comm/comm.py:41: DeprecationWarning: Comm._topic_default is deprecated: use @default decorator instead.\n",
      "  def _topic_default(self):\n"
     ]
    },
    {
     "data": {
      "text/html": [
       "<p><code>&lt;Bokeh Notebook handle for <strong>In[34]</strong>&gt;</code></p>"
      ],
      "text/plain": [
       "<bokeh.io._CommsHandle at 0x1a2419a10>"
      ]
     },
     "execution_count": 34,
     "metadata": {},
     "output_type": "execute_result"
    }
   ],
   "source": [
    "tsne = TSNE()\n",
    "\n",
    "ins = pd.DataFrame(myW2V.syn0norm, index=myW2V.index2word)\n",
    "ins = ins[100:2100] \n",
    "\n",
    "tsne_vects = tsne.fit_transform(ins.values)\n",
    "outs = pd.DataFrame(tsne_vects, index=pd.Index(ins.index), columns=['tsne_x','tsne_y'])\n",
    "outs['word'] = outs.index\n",
    "\n",
    "output_notebook()\n",
    "plot_data = ColumnDataSource(outs)\n",
    "tsne_plot = figure(title=\"tsne word encodings\",\n",
    "                   plot_width=600, plot_height=400,\n",
    "                   tools=('pan, wheel_zoom, box_zoom, box_select, resize, reset'),\n",
    "                   active_scroll='wheel_zoom')\n",
    "\n",
    "tsne_plot.add_tools( HoverTool(tooltips = '@word') )\n",
    "tsne_plot.circle('tsne_x','tsne_y', source=plot_data, color='blue', line_alpha=.2, fill_alpha=.1,\n",
    "                 size=10, hover_line_color='black')\n",
    "\n",
    "tsne_plot.title.text_font_size = value('16pt')\n",
    "tsne_plot.xaxis.visible = False\n",
    "tsne_plot.yaxis.visible = False\n",
    "tsne_plot.grid.grid_line_color = None\n",
    "tsne_plot.outline_line_color = None\n",
    "show(tsne_plot)"
   ]
  },
  {
   "cell_type": "markdown",
   "metadata": {},
   "source": [
    "## 10. Sentiment Analysis\n",
    "\n",
    "Historically, sentence polarity (\"good\" versus \"bad\") was been done with lexicons and rule-based polarity scoring based on the the words contained in a sentence.  As these techniques have become more sophisticated, they have started leveraging syntactic analysis to provide richer and more senstive (and accurate) evaluations of sentence polarity.  The current starte of the art of dictionary based scoring is [VADER](http://comp.social.gatech.edu/papers/icwsm14.vader.hutto.pdf), which has the most complete word polarity bank and leverages punctuation, casing, negation, intensity modifiers and slang and shorthand among other things to score a sentences polarity.\n",
    "\n",
    "An alternative to lookup scoring systems is based on predictive modeling.  If gold standard (i.e., validated human) sentence sentiment scores are available, then the sentences can be converted to features (e.g., binary bag-of-words, or even a featurization pipeline that accounted for more advanced sytactic parsing techniques) then machine learning tools can be leveraged to produce predictive models to score sentiment in new sentences.  Interogation of these models can provide evidence of feature relevances regarding sentiment analysis in order to further inform rule-based systems.  The drawback of machine learning approaches is that they are dependent on data availability and quality, and often the data requirements necessary to drive successful machine learning derived models cannot be met. \n",
    "\n",
    "When one considers the possibility of a collection of sentences labeled with sentiment scores, immediate generalizations beyond negative/positive polarity become available.  For example, sentences may be characterized along different dimensions of human emotion, e.g., as \"happy\" versus \"sad\", or as \"engaged\" versus \"disinterested\".  A recent approach utilizing a so called [Emotion Manifold](http://www.jmlr.org/proceedings/papers/v31/kim13a.pdf) to score sentences on a continuous \"emotion space\" that is trained using a collection of sentences classified according to a rich set of human emotions.  This \"emotion space\" can be interpreted as uncovering and recapitulating psychological models of human experience and used to predict the human experience expressed in a sentence.  I.e., sentences are transformed into \"emotion space\" features.\n",
    "\n",
    "<table style=\"width:78%\" align=\"center\">\n",
    "  <tr>\n",
    "    <td><img src=\"stuffs/mani1.tiff\" alt=\"Drawing\" style=\"width: 400px;\"/></td>\n",
    "    <td><img src=\"stuffs/mani4.tiff\" alt=\"Drawing\" style=\"width: 400px;\"/></td>\n",
    "  </tr>  \n",
    "  <tr>  \n",
    "    <td><img src=\"stuffs/mani3.tiff\" alt=\"Drawing\" style=\"width: 400px;\"/></td>\n",
    "    <td><img src=\"stuffs/mani2.tiff\" alt=\"Drawing\" style=\"width: 400px;\"/></td>\n",
    "  </tr>\n",
    "</table>\n",
    "\n",
    "\n",
    "\n"
   ]
  },
  {
   "cell_type": "code",
   "execution_count": 33,
   "metadata": {
    "collapsed": false
   },
   "outputs": [
    {
     "name": "stdout",
     "output_type": "stream",
     "text": [
      "I've always enjoyed watching Kyle Hendricks pitch but now it's more like respect rather than prospect adoration\n",
      " {'neg': 0.0, 'neu': 0.393, 'pos': 0.607, 'compound': 0.9615}\n",
      "\n",
      "It's not quite as gripping or suspenseful as the earlier quintessential network, but with a great love, it's almost as good. #PraiseFOX\n",
      " {'neg': 0.0, 'neu': 0.547, 'pos': 0.453, 'compound': 0.9508}\n",
      "\n",
      "Love is not a feeling. Love is an action, an activity. Genuine love implies commitment and the exercise of wisdom. #ALDUBLessonsOfLOVE\n",
      " {'neg': 0.04, 'neu': 0.412, 'pos': 0.548, 'compound': 0.9597}\n",
      "\n",
      "Think positively Exercise daily Eat healthy Stay strong Work hard Worry less Dance more Love often Be happy! Good morning\n",
      " {'neg': 0.117, 'neu': 0.326, 'pos': 0.557, 'compound': 0.9533}\n",
      "\n",
      "Congratulations to Cindy Dunham who won people's choice award in Procurify's global procurement awards. Great achievement Cindy.\n",
      " {'neg': 0.0, 'neu': 0.397, 'pos': 0.603, 'compound': 0.9595}\n",
      "\n"
     ]
    }
   ],
   "source": [
    "from vaderSentiment.vaderSentiment import SentimentIntensityAnalyzer\n",
    "import codecs \n",
    "tweets2 = codecs.open('earlyn_tokens.txt', 'r', encoding='utf-8')\n",
    "\n",
    "analyzer = SentimentIntensityAnalyzer()\n",
    "i=0\n",
    "for sentence in tweets2:\n",
    "    vs = analyzer.polarity_scores(sentence.encode('utf8'))\n",
    "    if abs(vs['compound']) > .95:\n",
    "        print(\"{:-<65} {}\".format(sentence.encode('utf8'), str(vs))) + \"\\n\"\n",
    "        i += 1\n",
    "    if i == 5:\n",
    "        break"
   ]
  },
  {
   "cell_type": "markdown",
   "metadata": {
    "collapsed": true
   },
   "source": []
  },
  {
   "cell_type": "code",
   "execution_count": 1,
   "metadata": {
    "collapsed": true
   },
   "outputs": [],
   "source": [
    "#<img src=\"stuffs/slide_16.jpg\" alt=\"Drawing\" style=\"width: 2500px;\"/>\n"
   ]
  },
  {
   "cell_type": "code",
   "execution_count": 1,
   "metadata": {
    "collapsed": true
   },
   "outputs": [],
   "source": [
    "import pandas as pd"
   ]
  },
  {
   "cell_type": "code",
   "execution_count": 2,
   "metadata": {
    "collapsed": false
   },
   "outputs": [
    {
     "name": "stderr",
     "output_type": "stream",
     "text": [
      "/Users/schwarls37/anaconda/lib/python2.7/site-packages/IPython/core/interactiveshell.py:2723: DtypeWarning: Columns (13,14,15,16,17,18,19,22,25,31,33,35,36,37,38,39,40,42,43,44,45,46,48,50,51,53,55,56,57,60,63,64,66,67,68,69,70,79,81,83,84,85,86,87,88,90,95,100,103,104,106,107,110,113,114,115,118,119,121,122,126,127,131,132,134,135,138,139,140,141,142,148,149,151,152,154,157,159,163,164,167,169,171,173,174,175,178,179,182,185,187,190,193,200,201,204,209,211,215,216,217,218,219,220,221,227,229,230,232,234,236,237,238,239,243,244,247,248,252,253,254,256,258,259,261,262,264,265,266,268,269,271,272,274,275,277,280,281,282,283,284,287,292,293,298,307,310,311,312) have mixed types. Specify dtype option on import or set low_memory=False.\n",
      "  interactivity=interactivity, compiler=compiler, result=result)\n"
     ]
    }
   ],
   "source": [
    "p = pd.read_csv('data/PostsForAnalysis.txt')\n",
    "u = pd.read_csv('data/UsersForAnalysis.txt')"
   ]
  },
  {
   "cell_type": "code",
   "execution_count": 112,
   "metadata": {
    "collapsed": false
   },
   "outputs": [
    {
     "name": "stdout",
     "output_type": "stream",
     "text": [
      "      id        date        day           created_at time_of_day  \\\n",
      "0  82423  2016-11-16  Wednesday  2016-11-16 00:20:00       Night   \n",
      "1  82480  2016-11-16  Wednesday  2016-11-16 05:40:53     Morning   \n",
      "2  82502  2016-11-16  Wednesday  2016-11-16 10:16:06     Morning   \n",
      "3  82370  2016-11-16  Wednesday  2016-11-16 00:01:00       Night   \n",
      "4  82460  2016-11-16  Wednesday  2016-11-16 01:13:32       Night   \n",
      "\n",
      "                         name  \\\n",
      "0  A.I. Experiments by Google   \n",
      "1                     Init.ai   \n",
      "2             Google Earth VR   \n",
      "3                        Drop   \n",
      "4               Lookback Live   \n",
      "\n",
      "                                             tagline thumbnail_type  \\\n",
      "0  Explore machine learning by playing w/ pics, m...          image   \n",
      "1  Build powerful and intelligent conversational ...          image   \n",
      "2                               Walk the earth in VR          image   \n",
      "3      Beautiful color picker with Touch Bar support          image   \n",
      "4  Real-time user research on mobile and desktop ...          image   \n",
      "\n",
      "  product_state  comments_count  num_makers  num_topics  \n",
      "0       default              24           0           5  \n",
      "1       default              43           4           4  \n",
      "2       default              27           1           2  \n",
      "3       default              38           2           6  \n",
      "4       default              25          11           6  \n",
      "   user_id  votes_count\n",
      "0    61044         1500\n",
      "1        1          802\n",
      "2   344208          544\n",
      "3    28756          446\n",
      "4      591          416\n"
     ]
    }
   ],
   "source": [
    "p.columns.values[12:-2]\n",
    "print p.ix[:,:12].head()\n",
    "print p.ix[:,-2:].head()"
   ]
  },
  {
   "cell_type": "code",
   "execution_count": 12,
   "metadata": {
    "collapsed": false
   },
   "outputs": [
    {
     "data": {
      "text/plain": [
       "array(['id', 'date', 'day', 'created_at', 'time_of_day', 'name', 'tagline',\n",
       "       'thumbnail_type', 'product_state', 'comments_count', 'num_makers',\n",
       "       'num_topics', 'X3d.printing'], dtype=object)"
      ]
     },
     "execution_count": 12,
     "metadata": {},
     "output_type": "execute_result"
    }
   ],
   "source": [
    "p.columns.values[:13]"
   ]
  },
  {
   "cell_type": "code",
   "execution_count": 64,
   "metadata": {
    "collapsed": false
   },
   "outputs": [
    {
     "data": {
      "text/plain": [
       "Index([u'user_id', u'created_at', u'name', u'username', u'headline',\n",
       "       u'twitter_username', u'website_url', u'collections_count',\n",
       "       u'followed_topics_count', u'followers_count', u'followings_count',\n",
       "       u'maker_of_count', u'posts_count', u'votes_count'],\n",
       "      dtype='object')"
      ]
     },
     "execution_count": 64,
     "metadata": {},
     "output_type": "execute_result"
    }
   ],
   "source": [
    "u.columns"
   ]
  },
  {
   "cell_type": "code",
   "execution_count": 101,
   "metadata": {
    "collapsed": false
   },
   "outputs": [],
   "source": [
    "postsusers = pd.merge(p, u, on='user_id')"
   ]
  },
  {
   "cell_type": "code",
   "execution_count": 102,
   "metadata": {
    "collapsed": false
   },
   "outputs": [],
   "source": [
    "postsusers.date = pd.to_datetime(postsusers.date, format='%Y-%m-%d', errors='ignore')"
   ]
  },
  {
   "cell_type": "code",
   "execution_count": 110,
   "metadata": {
    "collapsed": false
   },
   "outputs": [],
   "source": [
    "postsusers.date = (postsusers.date - min(postsusers.date)).apply(lambda x: x.days) / 365.25"
   ]
  },
  {
   "cell_type": "code",
   "execution_count": 138,
   "metadata": {
    "collapsed": false
   },
   "outputs": [],
   "source": [
    "postsusers.website_url = postsusers.website_url.notnull().apply(int)"
   ]
  },
  {
   "cell_type": "code",
   "execution_count": 147,
   "metadata": {
    "collapsed": false
   },
   "outputs": [],
   "source": [
    "postsusers = pd.concat([postsusers,pd.get_dummies(postsusers.time_of_day, prefix=\"time\", dummy_na=True)], axis=1)"
   ]
  },
  {
   "cell_type": "code",
   "execution_count": 149,
   "metadata": {
    "collapsed": false
   },
   "outputs": [],
   "source": [
    "postsusers = pd.concat([postsusers,pd.get_dummies(postsusers.day, prefix=\"day\", dummy_na=True)], axis=1)"
   ]
  },
  {
   "cell_type": "code",
   "execution_count": 172,
   "metadata": {
    "collapsed": false
   },
   "outputs": [],
   "source": [
    "postsusers = pd.concat([postsusers,pd.get_dummies(postsusers.product_state, prefix=\"state\", dummy_na=True)], axis=1)"
   ]
  },
  {
   "cell_type": "code",
   "execution_count": 185,
   "metadata": {
    "collapsed": false
   },
   "outputs": [
    {
     "data": {
      "text/plain": [
       "Index([u'time_Afternoon', u'time_Evening', u'time_Morning', u'time_Night',\n",
       "       u'time_nan', u'day_Friday', u'day_Monday', u'day_Saturday',\n",
       "       u'day_Sunday', u'day_Thursday', u'day_Tuesday', u'day_Wednesday',\n",
       "       u'day_nan', u'state_default', u'state_no_longer_online',\n",
       "       u'state_pre_launch', u'state_nan'],\n",
       "      dtype='object')"
      ]
     },
     "execution_count": 185,
     "metadata": {},
     "output_type": "execute_result"
    }
   ],
   "source": [
    "postsusers.columns[328:]"
   ]
  },
  {
   "cell_type": "markdown",
   "metadata": {},
   "source": [
    "# post stats\n",
    "\n",
    "- comments_count (int)\n",
    "- num_makers (int)\n",
    "- num_topics (int)\n",
    "\n",
    "- indicators\n",
    "    - 'time_Afternoon', 'time_Evening', 'time_Morning', 'time_Night',\n",
    "    - 'day_Friday', 'day_Monday', 'day_Saturday', 'day_Sunday', 'day_Thursday', 'day_Tuesday', 'day_Wednesday'\n",
    "    - 'state_default', 'state_no_longer_online', 'state_pre_launch'\n",
    "\n",
    "- date (float)\n",
    "\n",
    "\n",
    "\n",
    "# (lead) maker stats\n",
    "\n",
    "- website_url (int)\n",
    "- collections_count (int)\n",
    "- followed_topics_count (int)\n",
    "- followers_count (int)\n",
    "- followings_count (int)\n",
    "- maker_of_count (int)\n",
    "- posts_count (int)\n",
    "\n",
    "- votes_count_y (int) -- number of time lead maker voted on other projects\n",
    "\n",
    "# NLP\n",
    "- 'name: tagline'\n",
    "\n",
    "# outcome\n",
    "- votes_count_x (int)\n",
    "\n"
   ]
  },
  {
   "cell_type": "code",
   "execution_count": 77,
   "metadata": {
    "collapsed": false
   },
   "outputs": [
    {
     "data": {
      "text/html": [
       "<div>\n",
       "<table border=\"1\" class=\"dataframe\">\n",
       "  <thead>\n",
       "    <tr style=\"text-align: right;\">\n",
       "      <th></th>\n",
       "      <th>id</th>\n",
       "      <th>date</th>\n",
       "      <th>day</th>\n",
       "      <th>created_at_x</th>\n",
       "      <th>time_of_day</th>\n",
       "      <th>name_x</th>\n",
       "      <th>tagline</th>\n",
       "      <th>thumbnail_type</th>\n",
       "      <th>product_state</th>\n",
       "      <th>comments_count</th>\n",
       "      <th>...</th>\n",
       "      <th>headline</th>\n",
       "      <th>twitter_username</th>\n",
       "      <th>website_url</th>\n",
       "      <th>collections_count</th>\n",
       "      <th>followed_topics_count</th>\n",
       "      <th>followers_count</th>\n",
       "      <th>followings_count</th>\n",
       "      <th>maker_of_count</th>\n",
       "      <th>posts_count</th>\n",
       "      <th>votes_count_y</th>\n",
       "    </tr>\n",
       "  </thead>\n",
       "  <tbody>\n",
       "    <tr>\n",
       "      <th>0</th>\n",
       "      <td>82423</td>\n",
       "      <td>2016-11-16</td>\n",
       "      <td>Wednesday</td>\n",
       "      <td>2016-11-16 00:20:00</td>\n",
       "      <td>Night</td>\n",
       "      <td>A.I. Experiments by Google</td>\n",
       "      <td>Explore machine learning by playing w/ pics, m...</td>\n",
       "      <td>image</td>\n",
       "      <td>default</td>\n",
       "      <td>24</td>\n",
       "      <td>...</td>\n",
       "      <td>NaN</td>\n",
       "      <td>tonybrix</td>\n",
       "      <td>NaN</td>\n",
       "      <td>0</td>\n",
       "      <td>0</td>\n",
       "      <td>7</td>\n",
       "      <td>2</td>\n",
       "      <td>0</td>\n",
       "      <td>2</td>\n",
       "      <td>235</td>\n",
       "    </tr>\n",
       "    <tr>\n",
       "      <th>1</th>\n",
       "      <td>82480</td>\n",
       "      <td>2016-11-16</td>\n",
       "      <td>Wednesday</td>\n",
       "      <td>2016-11-16 05:40:53</td>\n",
       "      <td>Morning</td>\n",
       "      <td>Init.ai</td>\n",
       "      <td>Build powerful and intelligent conversational ...</td>\n",
       "      <td>image</td>\n",
       "      <td>default</td>\n",
       "      <td>43</td>\n",
       "      <td>...</td>\n",
       "      <td>Co-founder and CEO of Hardbound</td>\n",
       "      <td>nbashaw</td>\n",
       "      <td>https://hardbound.co</td>\n",
       "      <td>4</td>\n",
       "      <td>1</td>\n",
       "      <td>4014</td>\n",
       "      <td>1618</td>\n",
       "      <td>27</td>\n",
       "      <td>107</td>\n",
       "      <td>822</td>\n",
       "    </tr>\n",
       "    <tr>\n",
       "      <th>2</th>\n",
       "      <td>80448</td>\n",
       "      <td>2016-10-26</td>\n",
       "      <td>Wednesday</td>\n",
       "      <td>2016-10-26 07:19:25</td>\n",
       "      <td>Morning</td>\n",
       "      <td>Vigilante</td>\n",
       "      <td>Instant crime alerts and live broadcasts, laun...</td>\n",
       "      <td>image</td>\n",
       "      <td>default</td>\n",
       "      <td>9</td>\n",
       "      <td>...</td>\n",
       "      <td>Co-founder and CEO of Hardbound</td>\n",
       "      <td>nbashaw</td>\n",
       "      <td>https://hardbound.co</td>\n",
       "      <td>4</td>\n",
       "      <td>1</td>\n",
       "      <td>4014</td>\n",
       "      <td>1618</td>\n",
       "      <td>27</td>\n",
       "      <td>107</td>\n",
       "      <td>822</td>\n",
       "    </tr>\n",
       "    <tr>\n",
       "      <th>3</th>\n",
       "      <td>80152</td>\n",
       "      <td>2016-10-24</td>\n",
       "      <td>Monday</td>\n",
       "      <td>2016-10-24 09:49:12</td>\n",
       "      <td>Morning</td>\n",
       "      <td>TrueJob</td>\n",
       "      <td>Startup job search, with automated feedback fo...</td>\n",
       "      <td>image</td>\n",
       "      <td>default</td>\n",
       "      <td>7</td>\n",
       "      <td>...</td>\n",
       "      <td>Co-founder and CEO of Hardbound</td>\n",
       "      <td>nbashaw</td>\n",
       "      <td>https://hardbound.co</td>\n",
       "      <td>4</td>\n",
       "      <td>1</td>\n",
       "      <td>4014</td>\n",
       "      <td>1618</td>\n",
       "      <td>27</td>\n",
       "      <td>107</td>\n",
       "      <td>822</td>\n",
       "    </tr>\n",
       "    <tr>\n",
       "      <th>4</th>\n",
       "      <td>78959</td>\n",
       "      <td>2016-10-12</td>\n",
       "      <td>Wednesday</td>\n",
       "      <td>2016-10-12 05:51:05</td>\n",
       "      <td>Morning</td>\n",
       "      <td>PH Boomerang</td>\n",
       "      <td>Get a daily email of a previously upvoted product</td>\n",
       "      <td>image</td>\n",
       "      <td>default</td>\n",
       "      <td>10</td>\n",
       "      <td>...</td>\n",
       "      <td>Co-founder and CEO of Hardbound</td>\n",
       "      <td>nbashaw</td>\n",
       "      <td>https://hardbound.co</td>\n",
       "      <td>4</td>\n",
       "      <td>1</td>\n",
       "      <td>4014</td>\n",
       "      <td>1618</td>\n",
       "      <td>27</td>\n",
       "      <td>107</td>\n",
       "      <td>822</td>\n",
       "    </tr>\n",
       "  </tbody>\n",
       "</table>\n",
       "<p>5 rows × 328 columns</p>\n",
       "</div>"
      ],
      "text/plain": [
       "      id        date        day         created_at_x time_of_day  \\\n",
       "0  82423  2016-11-16  Wednesday  2016-11-16 00:20:00       Night   \n",
       "1  82480  2016-11-16  Wednesday  2016-11-16 05:40:53     Morning   \n",
       "2  80448  2016-10-26  Wednesday  2016-10-26 07:19:25     Morning   \n",
       "3  80152  2016-10-24     Monday  2016-10-24 09:49:12     Morning   \n",
       "4  78959  2016-10-12  Wednesday  2016-10-12 05:51:05     Morning   \n",
       "\n",
       "                       name_x  \\\n",
       "0  A.I. Experiments by Google   \n",
       "1                     Init.ai   \n",
       "2                   Vigilante   \n",
       "3                     TrueJob   \n",
       "4                PH Boomerang   \n",
       "\n",
       "                                             tagline thumbnail_type  \\\n",
       "0  Explore machine learning by playing w/ pics, m...          image   \n",
       "1  Build powerful and intelligent conversational ...          image   \n",
       "2  Instant crime alerts and live broadcasts, laun...          image   \n",
       "3  Startup job search, with automated feedback fo...          image   \n",
       "4  Get a daily email of a previously upvoted product          image   \n",
       "\n",
       "  product_state  comments_count      ...       \\\n",
       "0       default              24      ...        \n",
       "1       default              43      ...        \n",
       "2       default               9      ...        \n",
       "3       default               7      ...        \n",
       "4       default              10      ...        \n",
       "\n",
       "                          headline  twitter_username           website_url  \\\n",
       "0                              NaN          tonybrix                   NaN   \n",
       "1  Co-founder and CEO of Hardbound           nbashaw  https://hardbound.co   \n",
       "2  Co-founder and CEO of Hardbound           nbashaw  https://hardbound.co   \n",
       "3  Co-founder and CEO of Hardbound           nbashaw  https://hardbound.co   \n",
       "4  Co-founder and CEO of Hardbound           nbashaw  https://hardbound.co   \n",
       "\n",
       "  collections_count followed_topics_count followers_count followings_count  \\\n",
       "0                 0                     0               7                2   \n",
       "1                 4                     1            4014             1618   \n",
       "2                 4                     1            4014             1618   \n",
       "3                 4                     1            4014             1618   \n",
       "4                 4                     1            4014             1618   \n",
       "\n",
       "  maker_of_count posts_count votes_count_y  \n",
       "0              0           2           235  \n",
       "1             27         107           822  \n",
       "2             27         107           822  \n",
       "3             27         107           822  \n",
       "4             27         107           822  \n",
       "\n",
       "[5 rows x 328 columns]"
      ]
     },
     "execution_count": 77,
     "metadata": {},
     "output_type": "execute_result"
    }
   ],
   "source": [
    "postsusers.head(10)"
   ]
  },
  {
   "cell_type": "code",
   "execution_count": 186,
   "metadata": {
    "collapsed": false
   },
   "outputs": [
    {
     "data": {
      "text/plain": [
       "[<matplotlib.lines.Line2D at 0x1a6d30dd0>]"
      ]
     },
     "execution_count": 186,
     "metadata": {},
     "output_type": "execute_result"
    },
    {
     "data": {
      "image/png": "[encoded data removed]",
      "text/plain": [
       "<matplotlib.figure.Figure at 0x1a62ad9d0>"
      ]
     },
     "metadata": {},
     "output_type": "display_data"
    }
   ],
   "source": [
    "plt.plot(postsusers.votes_count_x.sort_values().values)"
   ]
  },
  {
   "cell_type": "code",
   "execution_count": 215,
   "metadata": {
    "collapsed": false
   },
   "outputs": [],
   "source": [
    "len(p.columns.values[12:313])\n",
    "tags = postsusers.columns.values[12:313]"
   ]
  },
  {
   "cell_type": "code",
   "execution_count": 3,
   "metadata": {
    "collapsed": true
   },
   "outputs": [],
   "source": [
    "import numpy as np\n",
    "from collections import defaultdict"
   ]
  },
  {
   "cell_type": "code",
   "execution_count": 239,
   "metadata": {
    "collapsed": true
   },
   "outputs": [],
   "source": [
    "limit = len(postsusers)"
   ]
  },
  {
   "cell_type": "code",
   "execution_count": 240,
   "metadata": {
    "collapsed": false
   },
   "outputs": [],
   "source": [
    "tag_text = defaultdict(str)\n",
    "for post in range(len(postsusers[:limit])):\n",
    "    for tag in (postsusers.columns[12:313])[True==postsusers.ix[post,12:313].values].values:\n",
    "        tag_text[tag] += postsusers.loc[post,'name_x'] + \": \" + postsusers.loc[post,'tagline'] + ' '\n",
    "        \n",
    "tags = tag_text.keys()"
   ]
  },
  {
   "cell_type": "code",
   "execution_count": 202,
   "metadata": {
    "collapsed": false
   },
   "outputs": [
    {
     "data": {
      "text/plain": [
       "'Fontself: Make your own fonts in Photoshop & Illustrator '"
      ]
     },
     "execution_count": 202,
     "metadata": {},
     "output_type": "execute_result"
    }
   ],
   "source": [
    "tags\n",
    "tag_text['photoshop']"
   ]
  },
  {
   "cell_type": "code",
   "execution_count": 241,
   "metadata": {
    "collapsed": false
   },
   "outputs": [],
   "source": [
    "post_tags = {}\n",
    "for post in range(len(p[:limit])):\n",
    "    post_tags['post_'+str(post)] = (postsusers.columns[12:313])[True==postsusers.ix[post,12:313].values].values"
   ]
  },
  {
   "cell_type": "code",
   "execution_count": 218,
   "metadata": {
    "collapsed": false
   },
   "outputs": [
    {
     "data": {
      "text/plain": [
       "array(['analytics', 'fintech', 'tech', 'travel', 'web'], dtype=object)"
      ]
     },
     "execution_count": 218,
     "metadata": {},
     "output_type": "execute_result"
    }
   ],
   "source": [
    "post_tags['post_'+str(post)]"
   ]
  },
  {
   "cell_type": "code",
   "execution_count": 242,
   "metadata": {
    "collapsed": false
   },
   "outputs": [],
   "source": [
    "for post in range(len(p[:limit])):\n",
    "    tag_text['post_'+str(post)] = p.loc[post,'name'] + \": \" + p.loc[post,'tagline'] "
   ]
  },
  {
   "cell_type": "code",
   "execution_count": 243,
   "metadata": {
    "collapsed": false
   },
   "outputs": [
    {
     "data": {
      "text/plain": [
       "'Pennies: Incredibly simple personal budgeting app for iOS'"
      ]
     },
     "execution_count": 243,
     "metadata": {},
     "output_type": "execute_result"
    }
   ],
   "source": [
    "tag_text['post_'+str(post)]"
   ]
  },
  {
   "cell_type": "code",
   "execution_count": 124,
   "metadata": {
    "collapsed": false
   },
   "outputs": [],
   "source": [
    "#tag_text.keys()\n",
    "#tag_text['java']\n",
    "#tag_text['public.relations']\n",
    "#tag_text['soccer']\n",
    "#tag_text['twitter']\n",
    "#tag_text['rpgs']\n",
    "#tag_text['meditation']\n",
    "#tag_text"
   ]
  },
  {
   "cell_type": "code",
   "execution_count": 229,
   "metadata": {
    "collapsed": false
   },
   "outputs": [],
   "source": [
    "from collections import Counter"
   ]
  },
  {
   "cell_type": "code",
   "execution_count": 288,
   "metadata": {
    "collapsed": false
   },
   "outputs": [
    {
     "data": {
      "text/plain": [
       "[<matplotlib.lines.Line2D at 0x21fb75450>]"
      ]
     },
     "execution_count": 288,
     "metadata": {},
     "output_type": "execute_result"
    },
    {
     "data": {
      "image/png": "[encoded data removed]",
      "text/plain": [
       "<matplotlib.figure.Figure at 0x19d3df7d0>"
      ]
     },
     "metadata": {},
     "output_type": "display_data"
    }
   ],
   "source": [
    "plt.plot(sorted(Counter([c for a,b in post_tags.items() for c in b ]).values())[:-9])"
   ]
  },
  {
   "cell_type": "code",
   "execution_count": 281,
   "metadata": {
    "collapsed": false
   },
   "outputs": [
    {
     "data": {
      "text/plain": [
       "54781"
      ]
     },
     "execution_count": 281,
     "metadata": {},
     "output_type": "execute_result"
    }
   ],
   "source": [
    "sum(Counter([c for a,b in post_tags.items() for c in b ]).values())"
   ]
  },
  {
   "cell_type": "code",
   "execution_count": 291,
   "metadata": {
    "collapsed": false
   },
   "outputs": [
    {
     "data": {
      "text/plain": [
       "4191"
      ]
     },
     "execution_count": 291,
     "metadata": {},
     "output_type": "execute_result"
    }
   ],
   "source": [
    "sum(postsusers.num_topics==1)"
   ]
  },
  {
   "cell_type": "code",
   "execution_count": 289,
   "metadata": {
    "collapsed": false
   },
   "outputs": [
    {
     "data": {
      "text/plain": [
       "[('tech', 17976),\n",
       " ('web', 4774),\n",
       " ('iphone', 3980),\n",
       " ('android', 1718),\n",
       " ('productivity', 1098),\n",
       " ('developer.tools', 980),\n",
       " ('ipad', 942),\n",
       " ('mac', 828),\n",
       " ('design.tools', 827),\n",
       " ('messaging', 517),\n",
       " ('marketing', 464),\n",
       " ('analytics', 453),\n",
       " ('bots', 434),\n",
       " ('slack', 402),\n",
       " ('lifehacks', 391),\n",
       " ('music', 363),\n",
       " ('video.streaming', 351),\n",
       " ('artificial.intelligence', 337),\n",
       " ('travel', 333),\n",
       " ('education', 320)]"
      ]
     },
     "execution_count": 289,
     "metadata": {},
     "output_type": "execute_result"
    }
   ],
   "source": [
    "sorted(list(Counter([c for a,b in post_tags.items() for c in b ]).items()), key = lambda x: -x[1])[:20]   "
   ]
  },
  {
   "cell_type": "code",
   "execution_count": 9,
   "metadata": {
    "collapsed": false
   },
   "outputs": [],
   "source": [
    "import spacy\n",
    "nlp = spacy.load('en')"
   ]
  },
  {
   "cell_type": "code",
   "execution_count": 10,
   "metadata": {
    "collapsed": true
   },
   "outputs": [],
   "source": [
    "import string"
   ]
  },
  {
   "cell_type": "code",
   "execution_count": 62,
   "metadata": {
    "collapsed": false
   },
   "outputs": [],
   "source": [
    "#set(string.printable)"
   ]
  },
  {
   "cell_type": "code",
   "execution_count": 245,
   "metadata": {
    "collapsed": false
   },
   "outputs": [],
   "source": [
    "printable = set(string.printable)\n",
    "\n",
    "def norm_lem_clean(documents):\n",
    "    \"\"\"documents is a dictionary\"\"\"\n",
    "    for doc in documents:\n",
    "        parsed_doc = nlp(documents[doc].decode('utf-8','ignore').encode(\"utf-8\").decode('unicode-escape'))\n",
    "        documents[doc] = u' '.join([token.lemma_ for sent in parsed_doc.sents for token in sent if not token.is_punct and not token.is_space and not token.is_stop])   \n",
    "        documents[doc] = filter(lambda x: x in printable, documents[doc])\n",
    "    return documents\n",
    "        \n",
    "documents = norm_lem_clean(tag_text.copy())"
   ]
  },
  {
   "cell_type": "code",
   "execution_count": 248,
   "metadata": {
    "collapsed": false
   },
   "outputs": [
    {
     "data": {
      "text/plain": [
       "u'a.i. experiment google explore machine learn play w/ pic music'"
      ]
     },
     "execution_count": 248,
     "metadata": {},
     "output_type": "execute_result"
    }
   ],
   "source": [
    "#tag_text['bots'].decode('utf-8','ignore').encode(\"utf-8\").decode('unicode-escape')\n",
    "documents['bots']\n",
    "documents['post_0']"
   ]
  },
  {
   "cell_type": "code",
   "execution_count": 99,
   "metadata": {
    "collapsed": false
   },
   "outputs": [
    {
     "name": "stdout",
     "output_type": "stream",
     "text": [
      "0 ðð¤. Microsoft Azure Bot Service : ( ORG )\n",
      "1 Intelligent : ( ORG )\n",
      "2 Messenger : ( PERSON )\n",
      "3 News : ( ORG )\n",
      "4 Facebook : ( ORG )\n",
      "5 Morph - Announce : ( ORG )\n"
     ]
    }
   ],
   "source": [
    "[token.orth_ for token in parsed_doc]\n",
    "for i,e in enumerate(parsed_doc.ents):\n",
    "    print i, e, \": (\", e.label_, \")\""
   ]
  },
  {
   "cell_type": "code",
   "execution_count": 16,
   "metadata": {
    "collapsed": false
   },
   "outputs": [],
   "source": [
    "import textacy"
   ]
  },
  {
   "cell_type": "code",
   "execution_count": 250,
   "metadata": {
    "collapsed": false
   },
   "outputs": [],
   "source": [
    "def textacy_on_preprocessed(documents, tags):\n",
    "    \"\"\"documents is a dictionary\"\"\"\n",
    "    for tag in documents:\n",
    "        documents[tag] = textacy.Doc(documents[tag], lang=u'en')\n",
    "    return documents\n",
    "        \n",
    "textacy_documents = textacy_on_preprocessed(documents.copy(), tags)"
   ]
  },
  {
   "cell_type": "code",
   "execution_count": 251,
   "metadata": {
    "collapsed": false
   },
   "outputs": [
    {
     "data": {
      "text/plain": [
       "Doc(7 tokens; \"penny incredibly simple personal budgeting app io\")"
      ]
     },
     "execution_count": 251,
     "metadata": {},
     "output_type": "execute_result"
    }
   ],
   "source": [
    "textacy_documents['post_'+str(post)]"
   ]
  },
  {
   "cell_type": "code",
   "execution_count": 338,
   "metadata": {
    "collapsed": false
   },
   "outputs": [],
   "source": [
    "similarities = defaultdict(list)\n",
    "post_tags_similarities = defaultdict(list)\n",
    "for post in range(len(p[:limit])):\n",
    "    for tag in post_tags['post_'+str(post)]:\n",
    "        if tag not in set(['tech', 'web', 'android', 'iphone', 'productivity', 'developer.tools', 'ipad', 'mac', 'design.tools']):\n",
    "            sim = textacy.similarity.word_movers(textacy_documents[tag],textacy_documents['post_'+str(post)])\n",
    "            similarities[tag].append(sim)\n",
    "            post_tags_similarities['post_'+str(post)].append(sim)"
   ]
  },
  {
   "cell_type": "code",
   "execution_count": 257,
   "metadata": {
    "collapsed": false
   },
   "outputs": [
    {
     "data": {
      "text/plain": [
       "array(['artificial.intelligence', 'design.tools', 'photography.tools',\n",
       "       'tech', 'web'], dtype=object)"
      ]
     },
     "execution_count": 257,
     "metadata": {},
     "output_type": "execute_result"
    }
   ],
   "source": [
    "post_tags['post_'+str(post)]"
   ]
  },
  {
   "cell_type": "code",
   "execution_count": 340,
   "metadata": {
    "collapsed": false
   },
   "outputs": [
    {
     "data": {
      "text/plain": [
       "17975"
      ]
     },
     "execution_count": 340,
     "metadata": {},
     "output_type": "execute_result"
    }
   ],
   "source": [
    "len(similarities)\n",
    "post"
   ]
  },
  {
   "cell_type": "code",
   "execution_count": 294,
   "metadata": {
    "collapsed": false
   },
   "outputs": [
    {
     "data": {
      "text/plain": [
       "defaultdict(list,\n",
       "            {'a.b.testing': [0.41439762078099507, 0.3011524206059947],\n",
       "             'advertising': [0.3257922972409959],\n",
       "             'analytics': [0.400075121691969,\n",
       "              0.4399730865049699,\n",
       "              0.4252619097529694,\n",
       "              0.41562673875996936,\n",
       "              0.38688114158196873,\n",
       "              0.4191392695689695,\n",
       "              0.31557441896396743,\n",
       "              0.4274932230669697,\n",
       "              0.36678817680096854],\n",
       "             'anonymous': [0.39459372532599823, 0.3184377675289981],\n",
       "             'apis': [0.3869968346989827,\n",
       "              0.3770694731799825,\n",
       "              0.33827894730698216,\n",
       "              0.38977109015098277,\n",
       "              0.3786661327679829,\n",
       "              0.30364635996298184,\n",
       "              0.4354570509059835,\n",
       "              0.35891960424698244],\n",
       "             'apple.tv': [0.3974651225909962, 0.35978612494599616],\n",
       "             'apple.watch': [0.3621731433199744,\n",
       "              0.3211155958409737,\n",
       "              0.39609667548997507,\n",
       "              0.38132026344697467,\n",
       "              0.3841807717029748],\n",
       "             'art': [0.3542000108279876,\n",
       "              0.35872988694398744,\n",
       "              0.3416027969399874,\n",
       "              0.34199949661698736,\n",
       "              0.3613030326949874],\n",
       "             'artificial.intelligence': [0.4009230022489705,\n",
       "              0.39346173635197046,\n",
       "              0.38051247832397017,\n",
       "              0.34781420682596964,\n",
       "              0.37705084964997004,\n",
       "              0.3582075049039697,\n",
       "              0.4016895331199706,\n",
       "              0.34215304735796914,\n",
       "              0.34851753111996964,\n",
       "              0.35051520363696953,\n",
       "              0.3702890875759699,\n",
       "              0.3045514103699688,\n",
       "              0.33847633076796935,\n",
       "              0.3250842824219692,\n",
       "              0.3427262755149695,\n",
       "              0.35470655815496965,\n",
       "              0.3834295124369702,\n",
       "              0.34202512700096943,\n",
       "              0.2912478537859686,\n",
       "              0.38407332535097016,\n",
       "              0.3647680155219697,\n",
       "              0.35397323748096976,\n",
       "              0.3867806829519702,\n",
       "              0.3251590169529691,\n",
       "              0.4007577967589704],\n",
       "             'ascii': [0.21615160429399938,\n",
       "              0.26859222957899953,\n",
       "              0.32478213499499986],\n",
       "             'augmented.reality': [0.3539471841439956],\n",
       "             'bootstrap': [0.22375817417799837, 0.3450355778849983],\n",
       "             'bots': [0.39279733966098995,\n",
       "              0.35583994674198993,\n",
       "              0.3492628372979897,\n",
       "              0.39298136653998994,\n",
       "              0.32586883671198996,\n",
       "              0.3708101105329902,\n",
       "              0.43250619802299006,\n",
       "              0.3942828885889903,\n",
       "              0.34990509062299,\n",
       "              0.3215828200129901,\n",
       "              0.44087790375798996,\n",
       "              0.44411483847499,\n",
       "              0.3825845891099896,\n",
       "              0.3485408798679901,\n",
       "              0.36957992076898993,\n",
       "              0.32828639148599004,\n",
       "              0.35158474280199004,\n",
       "              0.35666975049998995,\n",
       "              0.3370677683119899,\n",
       "              0.35572041401399,\n",
       "              0.3730398560129903,\n",
       "              0.3999515431439903,\n",
       "              0.37090199549999014,\n",
       "              0.36183031876199,\n",
       "              0.33301113694099027],\n",
       "             'branding': [0.3678049703979974,\n",
       "              0.40162816202699736,\n",
       "              0.3377373547199971,\n",
       "              0.29142668598699695],\n",
       "             'calendar.and.scheduling': [0.34779462554599794],\n",
       "             'cars': [0.325724882332995, 0.3294840332689951],\n",
       "             'celebrities': [0.27324521153499826,\n",
       "              0.34474635994499825,\n",
       "              0.2749606931379982],\n",
       "             'charity.and.giving': [0.29158063293899994, 0.32477297130299987],\n",
       "             'chat': [0.3839019810259837,\n",
       "              0.4484482992009843,\n",
       "              0.33976943363498335,\n",
       "              0.35196536165598347,\n",
       "              0.36530916507098365,\n",
       "              0.2930076506559829,\n",
       "              0.3780490221209838,\n",
       "              0.4023406958739839,\n",
       "              0.34339209438998375],\n",
       "             'chrome.extensions': [0.3947494016569908,\n",
       "              0.3425562760009908,\n",
       "              0.414084173596991,\n",
       "              0.38343707612599087,\n",
       "              0.3574469431449908],\n",
       "             'couples': [0.33136541493399607],\n",
       "             'crowdfunding': [0.3455073124079866, 0.3452742144809867],\n",
       "             'cryptocurrencies': [0.41927918978499723, 0.35433928541399706],\n",
       "             'css': [0.3124858693749968,\n",
       "              0.2896006271229966,\n",
       "              0.2394154779359965,\n",
       "              0.3523134064139969],\n",
       "             'custom.iphone.keyboards': [0.3358095030549967],\n",
       "             'customer.communication': [0.39415192961199774,\n",
       "              0.37767426727599795,\n",
       "              0.29110005361699776,\n",
       "              0.3489352993239978,\n",
       "              0.3567663332169978],\n",
       "             'dating': [0.3782755609719919],\n",
       "             'developer.podcasts': [0.33924543932899964],\n",
       "             'donald.trump': [0.3033222982589925],\n",
       "             'drake': [0.27318206587399896],\n",
       "             'drinking': [0.3198067905159958],\n",
       "             'drones': [0.3351272887819995],\n",
       "             'e.commerce': [0.3908741378689856,\n",
       "              0.38335141687798513,\n",
       "              0.40553301403998543,\n",
       "              0.4071523308889853],\n",
       "             'education': [0.3632184457749894,\n",
       "              0.4177159286119889,\n",
       "              0.3379646438479895,\n",
       "              0.37809780544198945],\n",
       "             'education.podcasts': [0.3422716735789987],\n",
       "             'email': [0.3336934567759816,\n",
       "              0.36477299349398173,\n",
       "              0.32697467824898185,\n",
       "              0.3736335841889816,\n",
       "              0.41058257248098184],\n",
       "             'email.marketing': [0.41388858588799715, 0.3367648541719974],\n",
       "             'email.newsletters': [0.41699913386299226,\n",
       "              0.30285777206999165,\n",
       "              0.3089087172949917,\n",
       "              0.3535884671659919,\n",
       "              0.37046493963499194],\n",
       "             'emoji': [0.36634200008698836,\n",
       "              0.2941730792709879,\n",
       "              0.23968158571398746,\n",
       "              0.3713406599409882],\n",
       "             'events': [0.3488947847499979,\n",
       "              0.37365130245299805,\n",
       "              0.36849606459199813,\n",
       "              0.3781319288379982],\n",
       "             'facebook': [0.35363361737798604,\n",
       "              0.3105656515599857,\n",
       "              0.336821582466986,\n",
       "              0.27872314046198554,\n",
       "              0.33284727700998595,\n",
       "              0.4315275540219866],\n",
       "             'facebook.messenger': [0.38889620357999133,\n",
       "              0.3226367562429914,\n",
       "              0.4088724344039918,\n",
       "              0.3421795691769913,\n",
       "              0.3221821299959913,\n",
       "              0.44493868642099144,\n",
       "              0.46252845021499134,\n",
       "              0.393902547258991,\n",
       "              0.34565085125199135,\n",
       "              0.3694597892879913,\n",
       "              0.3667889381189914,\n",
       "              0.33536037522599127,\n",
       "              0.31982695515099124,\n",
       "              0.3586127909449913,\n",
       "              0.3315019536589914],\n",
       "             'fashion': [0.3527769978869837,\n",
       "              0.3947380505499841,\n",
       "              0.3650539032829839],\n",
       "             'file.storage': [0.42669031844099004,\n",
       "              0.35187188592498964,\n",
       "              0.3547558990549897,\n",
       "              0.36574908832799,\n",
       "              0.34503406763098965],\n",
       "             'fintech': [0.3265103600839847],\n",
       "             'firefox.extension': [0.329691894108996],\n",
       "             'fonts': [0.3614835324589981],\n",
       "             'freelance': [0.35620067553399815, 0.36745098104099816],\n",
       "             'funny': [0.3996032534159999,\n",
       "              0.3952632289389999,\n",
       "              0.33851591321499985,\n",
       "              0.43123633090199986,\n",
       "              0.387440205502,\n",
       "              0.4053172891459995,\n",
       "              0.392877710975,\n",
       "              0.3368796063949999,\n",
       "              0.38422587297800004],\n",
       "             'furniture': [0.34433726355499905],\n",
       "             'get.shit.done': [0.35476160500298504,\n",
       "              0.35567187702398495,\n",
       "              0.3600972940509851,\n",
       "              0.3599421035069851],\n",
       "             'gifs': [0.3028363499729909],\n",
       "             'github': [0.4720717484449978,\n",
       "              0.3805521847999982,\n",
       "              0.3711490433639978,\n",
       "              0.31496124535899783],\n",
       "             'golf': [0.23875004423299961],\n",
       "             'growth.hacking': [0.4111415101619912, 0.4371854944969913],\n",
       "             'hardware': [0.3723616468099957,\n",
       "              0.38017983077699613,\n",
       "              0.36099690752499614,\n",
       "              0.33673316660999575,\n",
       "              0.34934647328699575,\n",
       "              0.34943882959799577,\n",
       "              0.33403585139799585,\n",
       "              0.3517915465529958],\n",
       "             'health.and.fitness': [0.38370040718599085, 0.3605928126579907],\n",
       "             'hip.hop': [0.28487682666699965],\n",
       "             'hiring.and.recruiting': [0.3607091795489885,\n",
       "              0.3555116758279886,\n",
       "              0.3761828691239888,\n",
       "              0.3440280882079888,\n",
       "              0.33592861586398837],\n",
       "             'home': [0.38147972219498694, 0.36387022600398666],\n",
       "             'icons': [0.31984984512099723,\n",
       "              0.33867715628599726,\n",
       "              0.34743280105399743],\n",
       "             'imessage.apps': [0.3746867937649869,\n",
       "              0.40521474997198725,\n",
       "              0.3248127640549866],\n",
       "             'instagram': [0.39493972020599744],\n",
       "             'internet.of.things': [0.35702828570698886],\n",
       "             'investing': [0.3644133790849927,\n",
       "              0.33146553059899253,\n",
       "              0.30426148218699256],\n",
       "             'java': [0.3050121937239978],\n",
       "             'kickstarter': [0.38119529760399584],\n",
       "             'kids': [0.35509100839299435],\n",
       "             'lead.generation': [0.31149050657599786],\n",
       "             'learn.a.language': [0.34522973270299673,\n",
       "              0.2713643711499968,\n",
       "              0.3704043458719968],\n",
       "             'lifehacks': [0.40231133792198814, 0.35632687779598804],\n",
       "             'linux': [0.36280288207698075,\n",
       "              0.34114986356898047,\n",
       "              0.4118276079299813],\n",
       "             'mac.menu.bar.apps': [0.31929477465099554,\n",
       "              0.28248362706699537,\n",
       "              0.3530477210809957,\n",
       "              0.33069514702599556,\n",
       "              0.36651280529799557,\n",
       "              0.3554421214219956],\n",
       "             'made.in.france': [0.3284082118929952],\n",
       "             'made.in.india': [0.3170256796869868,\n",
       "              0.3716318766729868,\n",
       "              0.36885977382698687,\n",
       "              0.3830898193019868],\n",
       "             'made.in.israel': [0.36128013152099836],\n",
       "             'made.in.italy': [0.42540840404299807,\n",
       "              0.37374177112599793,\n",
       "              0.376303475037998,\n",
       "              0.34864051242499816],\n",
       "             'made.in.nyc': [0.3424719093929961, 0.31106249744399606],\n",
       "             'made.in.the.uk': [0.3133254579579987],\n",
       "             'maps': [0.3545253380759954,\n",
       "              0.35356989623699564,\n",
       "              0.3458758053289954,\n",
       "              0.37040417035899553,\n",
       "              0.3411509618359956],\n",
       "             'marketing': [0.4152601095549845,\n",
       "              0.3730162893059845,\n",
       "              0.3536495407189849,\n",
       "              0.42298132422698476,\n",
       "              0.3974505729809845,\n",
       "              0.3825556021319846],\n",
       "             'meditation': [0.3484910177319983, 0.28985536867599815],\n",
       "             'meetings': [0.32902260685099305, 0.32121935902299303],\n",
       "             'messaging': [0.352041765957978,\n",
       "              0.3766349995189784,\n",
       "              0.38618603192397827,\n",
       "              0.29750625574797807,\n",
       "              0.323706938579978,\n",
       "              0.343398138982978,\n",
       "              0.413646446246978,\n",
       "              0.364972330614978,\n",
       "              0.347329579866978,\n",
       "              0.29425233557297803,\n",
       "              0.37882684414897805,\n",
       "              0.3988915940849782,\n",
       "              0.353399815138978,\n",
       "              0.342898532852978],\n",
       "             'mobile.chargers': [0.3571591942729979],\n",
       "             'movies': [0.3465867356309912,\n",
       "              0.3487216786329911,\n",
       "              0.35213633070199113],\n",
       "             'moving.and.storage': [0.3408046205369989],\n",
       "             'music': [0.348724193100987,\n",
       "              0.33867336979898743,\n",
       "              0.39563476708698797,\n",
       "              0.3371729617489875,\n",
       "              0.34659957839598743,\n",
       "              0.3510196808369874,\n",
       "              0.3783443732729874,\n",
       "              0.2948411453659875,\n",
       "              0.3926737854279875,\n",
       "              0.29179261024598746,\n",
       "              0.3650332312809874,\n",
       "              0.3982402805069878,\n",
       "              0.38840444194798773,\n",
       "              0.3564746631269874],\n",
       "             'music.making.apps': [0.3061119885219916, 0.33715677066399197],\n",
       "             'music.streaming': [0.3900246417709955,\n",
       "              0.25649755173799516,\n",
       "              0.39021543481299514,\n",
       "              0.3667049447079952,\n",
       "              0.3977744828289954,\n",
       "              0.3002992975129951,\n",
       "              0.3913875618829955],\n",
       "             'netflix': [0.38319546543999605,\n",
       "              0.36305712465199613,\n",
       "              0.37497530479699637],\n",
       "             'news': [0.3026813427959846,\n",
       "              0.3919959600579853,\n",
       "              0.3829777429749852],\n",
       "             'nomad.lifestyle': [0.3588396587689985,\n",
       "              0.3106601764079987,\n",
       "              0.3105615185889985,\n",
       "              0.3711277114999988],\n",
       "             'nostalgic': [0.33649142102999674,\n",
       "              0.36609908223999676,\n",
       "              0.34536556712999666],\n",
       "             'note': [0.37444839713400013],\n",
       "             'on.demand': [0.33601744103498765],\n",
       "             'open.source': [0.4023734100919958,\n",
       "              0.374994762964996,\n",
       "              0.3454399817939958,\n",
       "              0.420948501097996,\n",
       "              0.36535025654199615,\n",
       "              0.33161278979599573,\n",
       "              0.3068586613519958,\n",
       "              0.34273342652999594,\n",
       "              0.40261491885599576,\n",
       "              0.38110354766999543,\n",
       "              0.34936267777399577,\n",
       "              0.3759678426859958,\n",
       "              0.39145038122099574,\n",
       "              0.3367454672539961,\n",
       "              0.3315556564569957,\n",
       "              0.36392235900899617,\n",
       "              0.3622719249559959,\n",
       "              0.358329715055996,\n",
       "              0.36907404151099577],\n",
       "             'outdoors': [0.32051531983099857],\n",
       "             'payment': [0.3451284001579922, 0.32784569918699225],\n",
       "             'photo.retouching': [0.3896909479499975],\n",
       "             'photography': [0.37134231103298765,\n",
       "              0.3718315231579875,\n",
       "              0.39572135936598785,\n",
       "              0.3480516446029873,\n",
       "              0.3380271746369874,\n",
       "              0.3594284232289876],\n",
       "             'photography.tools': [0.417466411613987,\n",
       "              0.3688046994259866,\n",
       "              0.3755051225729865,\n",
       "              0.3525884742849863,\n",
       "              0.37564502558698665,\n",
       "              0.34237121858398634,\n",
       "              0.36033968509198644,\n",
       "              0.37820553527898637,\n",
       "              0.33877697854998623,\n",
       "              0.305152179848986],\n",
       "             'photoshop': [0.3659379837769996],\n",
       "             'pokemon': [0.31869360774799294,\n",
       "              0.35465894294399314,\n",
       "              0.35495707137799304,\n",
       "              0.32886736434999275,\n",
       "              0.36162649013899295],\n",
       "             'politics': [0.37768381645599447,\n",
       "              0.3377645024009944,\n",
       "              0.3094873095879944],\n",
       "             'privacy': [0.34537243759099445, 0.4060464964789944],\n",
       "             'product.hunt': [0.3752987890529951, 0.34765576971399503],\n",
       "             'prototyping': [0.35627609980799635,\n",
       "              0.37515131834999627,\n",
       "              0.35876577335699633,\n",
       "              0.40900499927099676,\n",
       "              0.3346326949479963,\n",
       "              0.3978538515029967,\n",
       "              0.3961625812729963,\n",
       "              0.2946999173269963,\n",
       "              0.33566534593499653,\n",
       "              0.40581564521499636,\n",
       "              0.3956910008299964,\n",
       "              0.36983223330599635,\n",
       "              0.37726730756399673,\n",
       "              0.40082405858499637,\n",
       "              0.4040336823949967],\n",
       "             'quantified.self': [0.3507853354739997],\n",
       "             'responsive.design': [0.330672315563994,\n",
       "              0.39120197035499404,\n",
       "              0.37354439318899424,\n",
       "              0.36638422878099386],\n",
       "             'rip': [0.40636142695599775],\n",
       "             'robots': [0.3612834315229966, 0.36162178939599665],\n",
       "             'saas': [0.3863051309589788, 0.3478057456119782],\n",
       "             'sales': [0.36968953526099535],\n",
       "             'seo.tools': [0.325998162785997, 0.3340136753379971],\n",
       "             'skateboarding': [0.3104524002979987],\n",
       "             'sketch': [0.3397990730099971,\n",
       "              0.3361770080629971,\n",
       "              0.3028608269169971,\n",
       "              0.3835051883719971],\n",
       "             'slack': [0.36610468427099063,\n",
       "              0.4243559204099907,\n",
       "              0.3716487686099905,\n",
       "              0.45014212621899086,\n",
       "              0.3734235995949905,\n",
       "              0.3516204714909903,\n",
       "              0.3238518510089903,\n",
       "              0.37580780444199047,\n",
       "              0.3391417116159904,\n",
       "              0.3615055372069904,\n",
       "              0.3466732606869902,\n",
       "              0.3614451162769906],\n",
       "             'smart.home': [0.336001427984981, 0.327613211887981],\n",
       "             'social.media.tools': [0.37083921737198466,\n",
       "              0.4011035743079845,\n",
       "              0.41051534415598456,\n",
       "              0.3702947929029844,\n",
       "              0.4054587302669844,\n",
       "              0.4054087238289845,\n",
       "              0.36544258947798447,\n",
       "              0.3918583094369843,\n",
       "              0.34430833137298444,\n",
       "              0.3647470860039844],\n",
       "             'socks': [0.2574472625699977, 0.278741670037998],\n",
       "             'software.engineering': [0.41484881091899417,\n",
       "              0.40553538548299417,\n",
       "              0.32228541575599445,\n",
       "              0.3445513341729942,\n",
       "              0.35330956026499416,\n",
       "              0.3771726188809942,\n",
       "              0.3920490954399942,\n",
       "              0.31275320037299426,\n",
       "              0.36389978469299433,\n",
       "              0.39304535615099456,\n",
       "              0.3940584486429942,\n",
       "              0.40288884070999453,\n",
       "              0.3571238185759943],\n",
       "             'space': [0.324493480491999, 0.3233439291819986],\n",
       "             'sports': [0.3372613548419915],\n",
       "             'spotify': [0.4088928120329969, 0.37617608326299645],\n",
       "             'spreadsheets': [0.3341175893709991],\n",
       "             'star.wars': [0.2908625733629986],\n",
       "             'startup.books': [0.3533663178089965, 0.33360711402399645],\n",
       "             'stock.photography': [0.33341319380499757, 0.2967693889139975],\n",
       "             'swift': [0.342246957028997,\n",
       "              0.3295011287769969,\n",
       "              0.375324091920997],\n",
       "             'task.management': [0.34453237223299316,\n",
       "              0.34877563409399315,\n",
       "              0.3353899248799931,\n",
       "              0.3936855007259935],\n",
       "             'to.do': [0.3427993754649904,\n",
       "              0.37944206695199056,\n",
       "              0.35899586419299057,\n",
       "              0.33593878267899036],\n",
       "             'touch.bar.apps': [0.25433861213699926],\n",
       "             'transportation': [0.33242683548499263,\n",
       "              0.3270623284199923,\n",
       "              0.3375451724689922],\n",
       "             'travel': [0.3670959732479977,\n",
       "              0.34679111187699796,\n",
       "              0.3748498553139976,\n",
       "              0.3680998720599975,\n",
       "              0.3942950149069976,\n",
       "              0.3367788925589976,\n",
       "              0.3902946814449978,\n",
       "              0.3974800892889977],\n",
       "             'tv': [0.34262834773699624,\n",
       "              0.353871856594996,\n",
       "              0.3263849141069962,\n",
       "              0.30514329046899635],\n",
       "             'twitter': [0.41692131281999767,\n",
       "              0.3405058305339974,\n",
       "              0.33942197300799737,\n",
       "              0.36380980283499764],\n",
       "             'typography': [0.3498884235799977],\n",
       "             'uber': [0.3506814378259999],\n",
       "             'usability': [0.4120766628389969,\n",
       "              0.4231457073599971,\n",
       "              0.3567701552539969,\n",
       "              0.36644302839099685,\n",
       "              0.35986707700099707],\n",
       "             'user.experience': [0.4091837035299788,\n",
       "              0.3949044513849791,\n",
       "              0.3203696558089787,\n",
       "              0.36319170226597897,\n",
       "              0.36366177506097874,\n",
       "              0.39056422839997873,\n",
       "              0.38395643668997903,\n",
       "              0.26057994236797877,\n",
       "              0.3821113861389791,\n",
       "              0.38716677687897894],\n",
       "             'venture.capital': [0.3246544174869993, 0.30262782419499934],\n",
       "             'video.streaming': [0.3752958290079855,\n",
       "              0.37362091226798544,\n",
       "              0.41722880061298595,\n",
       "              0.3576500639459854,\n",
       "              0.38171782154198575,\n",
       "              0.36559888225098547,\n",
       "              0.3564769299029854,\n",
       "              0.36271670816098545,\n",
       "              0.35660769886498545,\n",
       "              0.37191267680398554,\n",
       "              0.37178922562298544,\n",
       "              0.327889592312985,\n",
       "              0.42834381051498605,\n",
       "              0.4042625044229857],\n",
       "             'virtual.reality': [0.38817898128799533, 0.3295771061519952],\n",
       "             'wearables': [0.38722260049499346],\n",
       "             'weather.apps': [0.3919457684079969],\n",
       "             'weird': [0.30263342345999467, 0.3373814624349947],\n",
       "             'wi.fi': [0.39984698072499636,\n",
       "              0.33455672766699607,\n",
       "              0.3245186819559961],\n",
       "             'windows': [0.3659391907919839,\n",
       "              0.3567812772749839,\n",
       "              0.4236349809589839],\n",
       "             'wordpress': [0.39313846549299425],\n",
       "             'writing.tools': [0.37444839289097365,\n",
       "              0.43686658440397463,\n",
       "              0.40579428742897405,\n",
       "              0.35647765833997336,\n",
       "              0.3818933834339737,\n",
       "              0.3790125732729738],\n",
       "             'youtube': [0.31866803247199615,\n",
       "              0.3689988359449964,\n",
       "              0.4300793756679965,\n",
       "              0.4352626857039963]})"
      ]
     },
     "execution_count": 294,
     "metadata": {},
     "output_type": "execute_result"
    }
   ],
   "source": [
    "similarities"
   ]
  },
  {
   "cell_type": "code",
   "execution_count": 341,
   "metadata": {
    "collapsed": false
   },
   "outputs": [
    {
     "data": {
      "image/png": "[encoded data removed]",
      "text/plain": [
       "<matplotlib.figure.Figure at 0x2133f1ed0>"
      ]
     },
     "metadata": {},
     "output_type": "display_data"
    }
   ],
   "source": [
    "import matplotlib.pyplot as plt\n",
    "%matplotlib inline\n",
    "\n",
    "for tag in similarities:\n",
    "    sorteds = np.sort(similarities[tag])\n",
    "    yvals = np.arange(len(sorteds))/float(len(sorteds))\n",
    "    if len(sorteds) > 10:\n",
    "        plt.plot(sorteds, yvals)"
   ]
  },
  {
   "cell_type": "code",
   "execution_count": 343,
   "metadata": {
    "collapsed": false
   },
   "outputs": [
    {
     "data": {
      "text/plain": [
       "[<matplotlib.lines.Line2D at 0x213005710>]"
      ]
     },
     "execution_count": 343,
     "metadata": {},
     "output_type": "execute_result"
    },
    {
     "data": {
      "image/png": "[encoded data removed]",
      "text/plain": [
       "<matplotlib.figure.Figure at 0x212f60f50>"
      ]
     },
     "metadata": {},
     "output_type": "display_data"
    }
   ],
   "source": [
    "similarities_average = dict((n, np.mean(x)) if len(x) > 0 else (n, np.nan) for n,x in similarities.items())\n",
    "similarities_n = dict((n, len(x)) for n,x in similarities.items())\n",
    "\n",
    "tmp = [(similarities_average[post], similarities_n[post]) for post in similarities_average]\n",
    "plt.plot(np.array([t[1] for t in tmp])+np.random.uniform(size=len(tmp)), [t[0] for t in tmp], '.') \n",
    "# having fewer posts in a tag results in more dissimilarity"
   ]
  },
  {
   "cell_type": "code",
   "execution_count": 302,
   "metadata": {
    "collapsed": false
   },
   "outputs": [
    {
     "data": {
      "text/plain": [
       "defaultdict(list,\n",
       "            {'post_0': [0.4009230022489705, 0.417466411613987],\n",
       "             'post_1': [0.39346173635197046, 0.39279733966098995],\n",
       "             'post_10': [0.39415192961199774, 0.36968953526099535],\n",
       "             'post_100': [0.32586883671198996, 0.3226367562429914],\n",
       "             'post_101': [0.3908741378689856, 0.39493972020599744],\n",
       "             'post_102': [0.36634200008698836],\n",
       "             'post_103': [0.33673316660999575],\n",
       "             'post_104': [0.36983223330599635],\n",
       "             'post_105': [0.35978612494599616,\n",
       "              0.3487216786329911,\n",
       "              0.34262834773699624,\n",
       "              0.37362091226798544],\n",
       "             'post_108': [0.3952632289389999],\n",
       "             'post_109': [0.35872988694398744, 0.3755051225729865],\n",
       "             'post_11': [0.400075121691969,\n",
       "              0.3869968346989827,\n",
       "              0.3863051309589788],\n",
       "             'post_111': [0.374994762964996],\n",
       "             'post_112': [0.33976943363498335,\n",
       "              0.32902260685099305,\n",
       "              0.3454399817939958],\n",
       "             'post_113': [0.37705084964997004,\n",
       "              0.3708101105329902,\n",
       "              0.37767426727599795],\n",
       "             'post_114': [0.43250619802299006, 0.3405058305339974],\n",
       "             'post_115': [0.3942828885889903, 0.4088724344039918],\n",
       "             'post_117': [0.41722880061298595],\n",
       "             'post_118': [0.35187188592498964],\n",
       "             'post_119': [0.34990509062299,\n",
       "              0.27324521153499826,\n",
       "              0.3421795691769913],\n",
       "             'post_120': [0.3416027969399874,\n",
       "              0.3582075049039697,\n",
       "              0.3480516446029873,\n",
       "              0.3525884742849863],\n",
       "             'post_121': [0.37365130245299805, 0.35363361737798604],\n",
       "             'post_122': [0.420948501097996, 0.4011035743079845],\n",
       "             'post_123': [0.34934647328699575],\n",
       "             'post_124': [0.3061119885219916],\n",
       "             'post_125': [0.34537243759099445],\n",
       "             'post_126': [0.3351272887819995, 0.37564502558698665],\n",
       "             'post_127': [0.3215828200129901,\n",
       "              0.3089087172949917,\n",
       "              0.3221821299959913,\n",
       "              0.3170256796869868],\n",
       "             'post_128': [0.44087790375798996,\n",
       "              0.34474635994499825,\n",
       "              0.44493868642099144],\n",
       "             'post_129': [0.33851591321499985],\n",
       "             'post_13': [0.34781420682596964,\n",
       "              0.35583994674198993,\n",
       "              0.352041765957978,\n",
       "              0.3465867356309912],\n",
       "             'post_130': [0.3947494016569908, 0.36535025654199615],\n",
       "             'post_131': [0.3746867937649869],\n",
       "             'post_132': [0.3670959732479977],\n",
       "             'post_134': [0.43123633090199986, 0.40521474997198725],\n",
       "             'post_135': [0.3094873095879944],\n",
       "             'post_136': [0.34943882959799577,\n",
       "              0.32051531983099857,\n",
       "              0.3380271746369874],\n",
       "             'post_137': [0.4016895331199706,\n",
       "              0.44411483847499,\n",
       "              0.46252845021499134],\n",
       "             'post_138': [0.387440205502],\n",
       "             'post_139': [0.3825845891099896,\n",
       "              0.393902547258991,\n",
       "              0.4053172891459995],\n",
       "             'post_14': [0.37444839289097365],\n",
       "             'post_140': [0.40162816202699736],\n",
       "             'post_141': [0.392877710975, 0.41051534415598456],\n",
       "             'post_142': [0.34215304735796914,\n",
       "              0.325724882332995,\n",
       "              0.33242683548499263,\n",
       "              0.34679111187699796,\n",
       "              0.3506814378259999],\n",
       "             'post_143': [0.35509100839299435, 0.342246957028997],\n",
       "             'post_144': [0.38147972219498694],\n",
       "             'post_145': [0.3576500639459854, 0.31866803247199615],\n",
       "             'post_146': [0.38319546543999605,\n",
       "              0.353871856594996,\n",
       "              0.38171782154198575],\n",
       "             'post_147': [0.33069514702599556],\n",
       "             'post_149': [0.34851753111996964,\n",
       "              0.3485408798679901,\n",
       "              0.34565085125199135,\n",
       "              0.35567187702398495,\n",
       "              0.35632687779598804,\n",
       "              0.34453237223299316,\n",
       "              0.3427993754649904],\n",
       "             'post_15': [0.37768381645599447],\n",
       "             'post_150': [0.36559888225098547],\n",
       "             'post_151': [0.38370040718599085, 0.3484910177319983],\n",
       "             'post_152': [0.37444839713400013, 0.37944206695199056],\n",
       "             'post_153': [0.3547558990549897],\n",
       "             'post_154': [0.3510196808369874, 0.34237121858398634],\n",
       "             'post_155': [0.3694597892879913, 0.3564769299029854],\n",
       "             'post_156': [0.36745098104099816],\n",
       "             'post_157': [0.3425562760009908, 0.329691894108996],\n",
       "             'post_158': [0.33827894730698216,\n",
       "              0.34199949661698736,\n",
       "              0.35051520363696953,\n",
       "              0.3478057456119782],\n",
       "             'post_159': [0.3702890875759699,\n",
       "              0.36957992076898993,\n",
       "              0.3667889381189914,\n",
       "              0.3748498553139976],\n",
       "             'post_16': [0.3358095030549967, 0.348724193100987],\n",
       "             'post_160': [0.36477299349398173],\n",
       "             'post_161': [0.32828639148599004,\n",
       "              0.2749606931379982,\n",
       "              0.33536037522599127],\n",
       "             'post_162': [0.35158474280199004, 0.3535884671659919],\n",
       "             'post_163': [0.33161278979599573, 0.324493480491999],\n",
       "             'post_164': [0.3294840332689951, 0.3270623284199923],\n",
       "             'post_166': [0.35213633070199113,\n",
       "              0.36305712465199613,\n",
       "              0.3263849141069962],\n",
       "             'post_168': [0.36651280529799557],\n",
       "             'post_169': [0.3408046205369989, 0.3716487686099905],\n",
       "             'post_17': [0.3996032534159999,\n",
       "              0.3507853354739997,\n",
       "              0.37083921737198466],\n",
       "             'post_170': [0.3594284232289876,\n",
       "              0.36033968509198644,\n",
       "              0.36271670816098545],\n",
       "             'post_171': [0.38335141687798513, 0.3947380505499841],\n",
       "             'post_172': [0.3045514103699688, 0.3068586613519958],\n",
       "             'post_173': [0.31869360774799294],\n",
       "             'post_174': [0.4252619097529694],\n",
       "             'post_175': [0.3680998720599975],\n",
       "             'post_176': [0.29158063293899994, 0.31982695515099124],\n",
       "             'post_178': [0.37497530479699637, 0.39984698072499636],\n",
       "             'post_179': [0.29110005361699776, 0.29750625574797807],\n",
       "             'post_18': [0.3766349995189784],\n",
       "             'post_180': [0.35356989623699564, 0.35465894294399314],\n",
       "             'post_181': [0.35666975049998995,\n",
       "              0.3586127909449913,\n",
       "              0.3716318766729868,\n",
       "              0.3372613548419915],\n",
       "             'post_182': [0.35495707137799304],\n",
       "             'post_183': [0.3942950149069976],\n",
       "             'post_184': [0.3613030326949874, 0.37820553527898637],\n",
       "             'post_185': [0.3458758053289954,\n",
       "              0.34273342652999594,\n",
       "              0.32886736434999275],\n",
       "             'post_186': [0.33403585139799585, 0.3375451724689922],\n",
       "             'post_187': [0.37040417035899553, 0.36162649013899295],\n",
       "             'post_189': [0.41562673875996936],\n",
       "             'post_190': [0.33847633076796935, 0.327613211887981],\n",
       "             'post_191': [0.3761828691239888],\n",
       "             'post_193': [0.40579428742897405],\n",
       "             'post_194': [0.3250842824219692,\n",
       "              0.3370677683119899,\n",
       "              0.3105656515599857,\n",
       "              0.3315019536589914,\n",
       "              0.323706938579978,\n",
       "              0.3367788925589976],\n",
       "             'post_195': [0.3440280882079888, 0.33601744103498765],\n",
       "             'post_196': [0.33877697854998623],\n",
       "             'post_197': [0.3730162893059845, 0.3702947929029844],\n",
       "             'post_198': [0.35660769886498545],\n",
       "             'post_199': [0.3124858693749968],\n",
       "             'post_2': [0.3539471841439956, 0.3752958290079855],\n",
       "             'post_20': [0.4177159286119889,\n",
       "              0.41699913386299226,\n",
       "              0.4371854944969913],\n",
       "             'post_202': [0.3427262755149695,\n",
       "              0.33146553059899253,\n",
       "              0.3246544174869993],\n",
       "             'post_203': [0.4060464964789944],\n",
       "             'post_204': [0.3379646438479895,\n",
       "              0.3536495407189849,\n",
       "              0.330672315563994,\n",
       "              0.3567701552539969],\n",
       "             'post_205': [0.3783443732729874, 0.33715677066399197],\n",
       "             'post_206': [0.38977109015098277, 0.3919959600579853],\n",
       "             'post_207': [0.3184377675289981,\n",
       "              0.35196536165598347,\n",
       "              0.3411509618359956],\n",
       "             'post_208': [0.36574908832799, 0.45014212621899086],\n",
       "             'post_209': [0.32697467824898185, 0.3367648541719974],\n",
       "             'post_210': [0.2941730792709879,\n",
       "              0.3248127640549866,\n",
       "              0.343398138982978],\n",
       "             'post_211': [0.36280288207698075,\n",
       "              0.3659391907919839,\n",
       "              0.35647765833997336],\n",
       "             'post_212': [0.31984984512099723],\n",
       "             'post_213': [0.2896006271229966],\n",
       "             'post_214': [0.40261491885599576, 0.40553538548299417],\n",
       "             'post_215': [0.37191267680398554],\n",
       "             'post_216': [0.21615160429399938, 0.23968158571398746],\n",
       "             'post_217': [0.31149050657599786],\n",
       "             'post_218': [0.38110354766999543, 0.3233439291819986],\n",
       "             'post_22': [0.41692131281999767],\n",
       "             'post_220': [0.37178922562298544, 0.3689988359449964],\n",
       "             'post_221': [0.3713406599409882, 0.3805521847999982],\n",
       "             'post_222': [0.39021543481299514, 0.37617608326299645],\n",
       "             'post_223': [0.30514329046899635, 0.327889592312985],\n",
       "             'post_224': [0.38688114158196873],\n",
       "             'post_225': [0.22375817417799837, 0.2394154779359965],\n",
       "             'post_226': [0.2948411453659875],\n",
       "             'post_227': [0.35470655815496965, 0.336821582466986],\n",
       "             'post_228': [0.32228541575599445],\n",
       "             'post_229': [0.34936267777399577, 0.3445513341729942],\n",
       "             'post_23': [0.3451284001579922],\n",
       "             'post_230': [0.3926737854279875],\n",
       "             'post_232': [0.33360711402399645],\n",
       "             'post_233': [0.34114986356898047,\n",
       "              0.35330956026499416,\n",
       "              0.3567812772749839],\n",
       "             'post_234': [0.3759678426859958],\n",
       "             'post_235': [0.3902946814449978],\n",
       "             'post_236': [0.3523134064139969, 0.3771726188809942],\n",
       "             'post_238': [0.26859222957899953],\n",
       "             'post_239': [0.33592861586398837, 0.3106601764079987],\n",
       "             'post_24': [0.4120766628389969],\n",
       "             'post_242': [0.413646446246978],\n",
       "             'post_243': [0.39145038122099574, 0.3920490954399942],\n",
       "             'post_245': [0.35572041401399,\n",
       "              0.36530916507098365,\n",
       "              0.36885977382698687,\n",
       "              0.364972330614978],\n",
       "             'post_246': [0.3834295124369702],\n",
       "             'post_248': [0.3367454672539961],\n",
       "             'post_249': [0.28985536867599815],\n",
       "             'post_250': [0.31275320037299426],\n",
       "             'post_252': [0.2713643711499968],\n",
       "             'post_254': [0.3786661327679829],\n",
       "             'post_255': [0.30263342345999467],\n",
       "             'post_256': [0.4191392695689695, 0.4054587302669844],\n",
       "             'post_257': [0.37726730756399673,\n",
       "              0.36644302839099685,\n",
       "              0.36319170226597897],\n",
       "             'post_258': [0.3257922972409959],\n",
       "             'post_259': [0.34202512700096943, 0.347329579866978],\n",
       "             'post_262': [0.3605928126579907, 0.3315556564569957],\n",
       "             'post_263': [0.34877563409399315, 0.35899586419299057],\n",
       "             'post_264': [0.3782755609719919],\n",
       "             'post_265': [0.3011524206059947,\n",
       "              0.31557441896396743,\n",
       "              0.30364635996298184,\n",
       "              0.2912478537859686,\n",
       "              0.2930076506559829,\n",
       "              0.27872314046198554,\n",
       "              0.29425233557297803],\n",
       "             'post_268': [0.36392235900899617],\n",
       "             'post_270': [0.33284727700998595],\n",
       "             'post_273': [0.29179261024598746],\n",
       "             'post_274': [0.3452742144809867,\n",
       "              0.3517915465529958,\n",
       "              0.33649142102999674],\n",
       "             'post_275': [0.3622719249559959, 0.36389978469299433],\n",
       "             'post_276': [0.36849606459199813],\n",
       "             'post_277': [0.32478213499499986, 0.3919457684079969],\n",
       "             'post_278': [0.39120197035499404, 0.39304535615099456],\n",
       "             'post_279': [0.3730398560129903,\n",
       "              0.3780490221209838,\n",
       "              0.37882684414897805],\n",
       "             'post_280': [0.38407332535097016,\n",
       "              0.3999515431439903,\n",
       "              0.4023406958739839,\n",
       "              0.3988915940849782,\n",
       "              0.3612834315229966],\n",
       "             'post_281': [0.27318206587399896],\n",
       "             'post_282': [0.42834381051498605, 0.4300793756679965],\n",
       "             'post_283': [0.3368796063949999],\n",
       "             'post_284': [0.3295011287769969],\n",
       "             'post_285': [0.4354570509059835],\n",
       "             'post_286': [0.41927918978499723,\n",
       "              0.40553301403998543,\n",
       "              0.4118276079299813,\n",
       "              0.4236349809589839],\n",
       "             'post_288': [0.36609908223999676],\n",
       "             'post_290': [0.3818933834339737],\n",
       "             'post_291': [0.3647680155219697, 0.37090199549999014],\n",
       "             'post_294': [0.3373814624349947],\n",
       "             'post_295': [0.3940584486429942],\n",
       "             'post_297': [0.3028363499729909],\n",
       "             'post_298': [0.3600972940509851, 0.3554421214219956],\n",
       "             'post_299': [0.30426148218699256, 0.30262782419499934],\n",
       "             'post_3': [0.3607091795489885],\n",
       "             'post_301': [0.414084173596991,\n",
       "              0.42298132422698476,\n",
       "              0.4054087238289845,\n",
       "              0.4042625044229857],\n",
       "             'post_302': [0.3377373547199971, 0.3341175893709991],\n",
       "             'post_303': [0.3353899248799931, 0.33593878267899036],\n",
       "             'post_304': [0.28487682666699965,\n",
       "              0.3650332312809874,\n",
       "              0.3667049447079952,\n",
       "              0.34536556712999666],\n",
       "             'post_305': [0.29142668598699695, 0.305152179848986],\n",
       "             'post_306': [0.3711490433639978],\n",
       "             'post_308': [0.3704043458719968, 0.3830898193019868],\n",
       "             'post_309': [0.39313846549299425],\n",
       "             'post_31': [0.43686658440397463],\n",
       "             'post_310': [0.36366177506097874],\n",
       "             'post_311': [0.37354439318899424, 0.3734235995949905],\n",
       "             'post_312': [0.3982402805069878,\n",
       "              0.3977744828289954,\n",
       "              0.4352626857039963],\n",
       "             'post_315': [0.3781319288379982],\n",
       "             'post_316': [0.33867715628599726,\n",
       "              0.40082405858499637,\n",
       "              0.39056422839997873],\n",
       "             'post_317': [0.33455672766699607],\n",
       "             'post_318': [0.3516204714909903],\n",
       "             'post_32': [0.3839019810259837, 0.38618603192397827],\n",
       "             'post_320': [0.4274932230669697],\n",
       "             'post_321': [0.3002992975129951],\n",
       "             'post_322': [0.3105615185889985, 0.3245186819559961],\n",
       "             'post_323': [0.34743280105399743],\n",
       "             'post_325': [0.3489352993239978,\n",
       "              0.353399815138978,\n",
       "              0.33942197300799737],\n",
       "             'post_326': [0.31496124535899783],\n",
       "             'post_328': [0.3567663332169978,\n",
       "              0.32121935902299303,\n",
       "              0.342898532852978],\n",
       "             'post_329': [0.3450355778849983],\n",
       "             'post_331': [0.38343707612599087,\n",
       "              0.358329715055996,\n",
       "              0.36544258947798447,\n",
       "              0.36380980283499764],\n",
       "             'post_332': [0.3711277114999988, 0.3974800892889977],\n",
       "             'post_335': [0.3050121937239978],\n",
       "             'post_338': [0.36638422878099386, 0.38395643668997903],\n",
       "             'post_34': [0.3422716735789987],\n",
       "             'post_340': [0.34503406763098965, 0.3599421035069851],\n",
       "             'post_342': [0.3238518510089903],\n",
       "             'post_344': [0.26057994236797877],\n",
       "             'post_346': [0.37580780444199047],\n",
       "             'post_347': [0.3736335841889816],\n",
       "             'post_348': [0.35891960424698244, 0.3391417116159904],\n",
       "             'post_349': [0.36162178939599665,\n",
       "              0.3615055372069904,\n",
       "              0.3790125732729738],\n",
       "             'post_350': [0.3821113861389791],\n",
       "             'post_351': [0.35397323748096976,\n",
       "              0.36183031876199,\n",
       "              0.36907404151099577],\n",
       "             'post_352': [0.34339209438998375],\n",
       "             'post_353': [0.41058257248098184,\n",
       "              0.37046493963499194,\n",
       "              0.36128013152099836,\n",
       "              0.38716677687897894],\n",
       "             'post_354': [0.3867806829519702, 0.375324091920997],\n",
       "             'post_355': [0.34433726355499905, 0.36387022600398666],\n",
       "             'post_357': [0.3974505729809845,\n",
       "              0.3829777429749852,\n",
       "              0.3918583094369843],\n",
       "             'post_358': [0.39609667548997507],\n",
       "             'post_359': [0.38840444194798773, 0.3913875618829955],\n",
       "             'post_36': [0.42669031844099004],\n",
       "             'post_361': [0.3466732606869902],\n",
       "             'post_363': [0.32477297130299987],\n",
       "             'post_364': [0.4040336823949967, 0.40288884070999453],\n",
       "             'post_365': [0.3650539032829839,\n",
       "              0.38422587297800004,\n",
       "              0.278741670037998,\n",
       "              0.2908625733629986],\n",
       "             'post_366': [0.3896909479499975],\n",
       "             'post_367': [0.33924543932899964, 0.3571238185759943],\n",
       "             'post_368': [0.325998162785997],\n",
       "             'post_37': [0.3295771061519952],\n",
       "             'post_371': [0.2967693889139975],\n",
       "             'post_374': [0.37809780544198945],\n",
       "             'post_377': [0.36678817680096854, 0.3340136753379971],\n",
       "             'post_378': [0.3825556021319846],\n",
       "             'post_379': [0.34430833137298444],\n",
       "             'post_38': [0.31929477465099554, 0.25433861213699926],\n",
       "             'post_381': [0.3251590169529691, 0.33301113694099027],\n",
       "             'post_382': [0.35433928541399706],\n",
       "             'post_384': [0.38132026344697467, 0.3936855007259935],\n",
       "             'post_385': [0.34765576971399503],\n",
       "             'post_386': [0.3104524002979987],\n",
       "             'post_388': [0.35986707700099707],\n",
       "             'post_389': [0.3564746631269874, 0.3614451162769906],\n",
       "             'post_393': [0.23875004423299961],\n",
       "             'post_394': [0.3574469431449908, 0.3647470860039844],\n",
       "             'post_396': [0.3841807717029748],\n",
       "             'post_399': [0.3198067905159958],\n",
       "             'post_4': [0.40231133792198814, 0.3752987890529951],\n",
       "             'post_40': [0.4231457073599971, 0.4091837035299788],\n",
       "             'post_401': [0.3284082118929952, 0.31106249744399606],\n",
       "             'post_402': [0.3614835324589981,\n",
       "              0.3659379837769996,\n",
       "              0.3498884235799977],\n",
       "             'post_403': [0.4007577967589704,\n",
       "              0.4071523308889853,\n",
       "              0.4315275540219866,\n",
       "              0.42688024895997834,\n",
       "              0.4272798532139914,\n",
       "              0.4895949439859878],\n",
       "             'post_404': [0.41869559484899],\n",
       "             'post_405': [0.3737335189599964],\n",
       "             'post_406': [0.3561795835179975],\n",
       "             'post_408': [0.34393232332498436, 0.329773004284973],\n",
       "             'post_41': [0.38017983077699613, 0.3571591942729979],\n",
       "             'post_412': [0.3438048600279988],\n",
       "             'post_413': [0.39736252438498776, 0.3915620576369878],\n",
       "             'post_414': [0.3456029274449999, 0.3394854046539849],\n",
       "             'post_415': [0.3728007621849886],\n",
       "             'post_417': [0.3460832541539952, 0.34705303128299225],\n",
       "             'post_418': [0.3722805878929981,\n",
       "              0.3669005591999851,\n",
       "              0.37546195261999127,\n",
       "              0.37023505498198805,\n",
       "              0.37413092989399854,\n",
       "              0.3855954460359976],\n",
       "             'post_419': [0.39140317086999754],\n",
       "             'post_42': [0.36099690752499614,\n",
       "              0.35702828570698886,\n",
       "              0.336001427984981],\n",
       "             'post_420': [0.3947041047589893,\n",
       "              0.4004535300669977,\n",
       "              0.41945876872399424],\n",
       "             'post_422': [0.34523855658299063, 0.306462542476],\n",
       "             'post_425': [0.4377301014239814],\n",
       "             'post_428': [0.3865403968929688,\n",
       "              0.33518796019599717,\n",
       "              0.36816317540298427],\n",
       "             'post_43': [0.34522973270299673, 0.33867336979898743],\n",
       "             'post_430': [0.3871939623639913, 0.35298013219099034],\n",
       "             'post_431': [0.40307469145498453],\n",
       "             'post_432': [0.28986953614899247, 0.3070318592709932],\n",
       "             'post_433': [0.404943502977969,\n",
       "              0.40232623694999137,\n",
       "              0.4040569152329847,\n",
       "              0.4053986092259845],\n",
       "             'post_434': [0.39312514455496894, 0.40989147668099124],\n",
       "             'post_435': [0.3422651504879919],\n",
       "             'post_437': [0.32140622867996904,\n",
       "              0.3278477818939848,\n",
       "              0.3068424257799932,\n",
       "              0.31225025199899026],\n",
       "             'post_438': [0.3910927303749978],\n",
       "             'post_439': [0.3698871826859882, 0.3582088671659962],\n",
       "             'post_44': [0.35627609980799635, 0.3397990730099971],\n",
       "             'post_440': [0.4112568299299828],\n",
       "             'post_441': [0.3163749111029902],\n",
       "             'post_442': [0.29103015321599457],\n",
       "             'post_446': [0.3473774476279695],\n",
       "             'post_449': [0.35990977448999284],\n",
       "             'post_45': [0.37515131834999627],\n",
       "             'post_450': [0.3426592097849852, 0.31808114345399763],\n",
       "             'post_451': [0.37215525602599553,\n",
       "              0.3742614264129932,\n",
       "              0.3649476441199987],\n",
       "             'post_452': [0.32801926498099754],\n",
       "             'post_453': [0.35037458517699116],\n",
       "             'post_454': [0.35486193213999195, 0.35032356098598494],\n",
       "             'post_455': [0.3274737901239817,\n",
       "              0.3211419489039977,\n",
       "              0.3182309091149903],\n",
       "             'post_456': [0.29211148595399783, 0.29841302257797764],\n",
       "             'post_457': [0.3722043281249865, 0.36688589240198555],\n",
       "             'post_458': [0.41069202950798167,\n",
       "              0.39704049344698544,\n",
       "              0.39367376610198823],\n",
       "             'post_459': [0.2890197021759958,\n",
       "              0.28978019428699775,\n",
       "              0.29463872210197806,\n",
       "              0.28070400076197866],\n",
       "             'post_46': [0.35876577335699633, 0.3361770080629971],\n",
       "             'post_460': [0.35536969895699644,\n",
       "              0.31268295096399734,\n",
       "              0.3355443154899789],\n",
       "             'post_461': [0.35798233258998835, 0.3507751771029787],\n",
       "             'post_462': [0.36262157674296835, 0.349776955417996],\n",
       "             'post_463': [0.35082498793696815, 0.3445227555439905],\n",
       "             'post_464': [0.35472225860599027,\n",
       "              0.35515959874798353,\n",
       "              0.3515930549779782,\n",
       "              0.35694178614697836],\n",
       "             'post_465': [0.38586642120999104,\n",
       "              0.34982356460299047,\n",
       "              0.36628013869099707],\n",
       "             'post_466': [0.38826576396499846,\n",
       "              0.42357430522798545,\n",
       "              0.3941216279289963,\n",
       "              0.35554788006299765],\n",
       "             'post_467': [0.35237854623796816,\n",
       "              0.35446896170699005,\n",
       "              0.3555651429519835,\n",
       "              0.3452456043539912,\n",
       "              0.3499609898949846,\n",
       "              0.357923058211978,\n",
       "              0.3517179496029904],\n",
       "             'post_468': [0.33494807802899784,\n",
       "              0.3589155057039848,\n",
       "              0.33225282655999555],\n",
       "             'post_469': [0.37258197609098787],\n",
       "             'post_47': [0.40900499927099676],\n",
       "             'post_471': [0.3807140619109973],\n",
       "             'post_472': [0.41742112280799504,\n",
       "              0.4055513407609914,\n",
       "              0.41944716246698477],\n",
       "             'post_473': [0.3925711321619689, 0.3493654904149981],\n",
       "             'post_474': [0.4043408591259827,\n",
       "              0.364622632522989,\n",
       "              0.34475230573098103],\n",
       "             'post_475': [0.3251349570709976,\n",
       "              0.34412617167398785,\n",
       "              0.33471141925697867],\n",
       "             'post_476': [0.340387036887968, 0.32297701895799],\n",
       "             'post_477': [0.36288177204899785,\n",
       "              0.37712821232198457,\n",
       "              0.379503903472978],\n",
       "             'post_478': [0.3694628548889686, 0.35296691337398867],\n",
       "             'post_479': [0.37628559411199114,\n",
       "              0.3785028652439846,\n",
       "              0.3607739894099924,\n",
       "              0.3771604675739788],\n",
       "             'post_48': [0.3346326949479963, 0.3028608269169971],\n",
       "             'post_480': [0.3647733218039846,\n",
       "              0.3780585275069852,\n",
       "              0.3759361016369881],\n",
       "             'post_481': [0.3727699767559963, 0.3573893386919905],\n",
       "             'post_482': [0.389092886096995,\n",
       "              0.4142842918049693,\n",
       "              0.4051160670039816,\n",
       "              0.40715618576598456],\n",
       "             'post_483': [0.41798913269699434, 0.41586134920999707],\n",
       "             'post_484': [0.3879483852689921, 0.3786542370849788],\n",
       "             'post_485': [0.33785342984499867,\n",
       "              0.37560786741998553,\n",
       "              0.38059867210499065],\n",
       "             'post_486': [0.35108325533597906],\n",
       "             'post_487': [0.38315342575799605,\n",
       "              0.39793884070299723,\n",
       "              0.36192608468899534],\n",
       "             'post_488': [0.3365575651769692,\n",
       "              0.33706370733099833,\n",
       "              0.3453726988529847],\n",
       "             'post_489': [0.35867419036798454, 0.3486867371809843],\n",
       "             'post_49': [0.3974651225909962,\n",
       "              0.3978538515029967,\n",
       "              0.3949044513849791],\n",
       "             'post_490': [0.33761004413098894,\n",
       "              0.34074346581798776,\n",
       "              0.3406398068699845,\n",
       "              0.3191410423299985,\n",
       "              0.3393763255259976],\n",
       "             'post_491': [0.3515344342209886, 0.3703781529319786],\n",
       "             'post_492': [0.3494247621559696,\n",
       "              0.3504601758949999,\n",
       "              0.32777603054699533],\n",
       "             'post_493': [0.33567742549499746,\n",
       "              0.365251754672989,\n",
       "              0.36560500546898433],\n",
       "             'post_494': [0.37331646610398406],\n",
       "             'post_496': [0.3755558688809867, 0.3823985873019857],\n",
       "             'post_497': [0.3522881723879979, 0.3550162166449903],\n",
       "             'post_498': [0.3443632602409846, 0.3379747457659922],\n",
       "             'post_499': [0.3856577538989856,\n",
       "              0.40933541256598394,\n",
       "              0.3516569376949964],\n",
       "             'post_5': [0.3632184457749894, 0.3424719093929961],\n",
       "             'post_50': [0.3770694731799825],\n",
       "             'post_500': [0.3427019195359984, 0.38113011154498555],\n",
       "             'post_501': [0.3427240102729838, 0.3590206715979999],\n",
       "             'post_502': [0.36248927033599077,\n",
       "              0.34083221768098493,\n",
       "              0.3383609236209921,\n",
       "              0.33157063840099443],\n",
       "             'post_503': [0.36076944633796837,\n",
       "              0.3388068949509907,\n",
       "              0.35535077701898454,\n",
       "              0.34422348748498444,\n",
       "              0.32976711176799745],\n",
       "             'post_504': [0.3540714659709887],\n",
       "             'post_505': [0.3814722925599703,\n",
       "              0.364304850006984,\n",
       "              0.3762051056059942,\n",
       "              0.3677811961739973],\n",
       "             'post_506': [0.3680904457379949,\n",
       "              0.38495470741896876,\n",
       "              0.3611394698319912,\n",
       "              0.36898188577399416],\n",
       "             'post_507': [0.32653871963799885,\n",
       "              0.34744396688998846,\n",
       "              0.3580679041269853],\n",
       "             'post_508': [0.41247288287998907],\n",
       "             'post_509': [0.3296210598149918],\n",
       "             'post_510': [0.366347905929991],\n",
       "             'post_511': [0.32740112920899567,\n",
       "              0.320248815562997,\n",
       "              0.33722358714599776,\n",
       "              0.3523816410639845,\n",
       "              0.335628165382973],\n",
       "             'post_512': [0.3137206690989848, 0.3136235951019981],\n",
       "             'post_513': [0.3982012865659965,\n",
       "              0.4038391794359907,\n",
       "              0.38993588731997886],\n",
       "             'post_514': [0.3604680566609978,\n",
       "              0.3717097499849912,\n",
       "              0.3715612984359846,\n",
       "              0.34756386906999037],\n",
       "             'post_515': [0.36730344568898465, 0.36662953223199235],\n",
       "             'post_516': [0.3504212839619958,\n",
       "              0.3519384913359982,\n",
       "              0.3469658948799902],\n",
       "             'post_517': [0.3773601521419837,\n",
       "              0.38155318890797774,\n",
       "              0.4065332000389882,\n",
       "              0.37104937221599377],\n",
       "             'post_518': [0.32918436990599753, 0.3331300705819903],\n",
       "             'post_519': [0.31758490388897387],\n",
       "             'post_52': [0.3961625812729963],\n",
       "             'post_521': [0.3574350232269915],\n",
       "             'post_522': [0.4056626194769817, 0.3829135786649869],\n",
       "             'post_523': [0.3614097710339912,\n",
       "              0.34703673191398854,\n",
       "              0.3701246507889846],\n",
       "             'post_524': [0.3578528225179699,\n",
       "              0.3574225001519896,\n",
       "              0.33263034024099747],\n",
       "             'post_527': [0.3490025734419743, 0.3604024922549699],\n",
       "             'post_528': [0.39921409764896887],\n",
       "             'post_529': [0.27456228653199855],\n",
       "             'post_53': [0.42540840404299807,\n",
       "              0.39563476708698797,\n",
       "              0.3900246417709955,\n",
       "              0.4088928120329969],\n",
       "             'post_530': [0.36638988350099033, 0.37259037788099036],\n",
       "             'post_531': [0.37901482167696876,\n",
       "              0.36333847152998877,\n",
       "              0.33470164532299773],\n",
       "             'post_532': [0.33265186094399024],\n",
       "             'post_533': [0.3146211681199851],\n",
       "             'post_535': [0.36825966676197, 0.3809292159239738],\n",
       "             'post_538': [0.3698788645879869, 0.37778485767599557],\n",
       "             'post_539': [0.3901877028449897, 0.37552975676999456],\n",
       "             'post_54': [0.40636142695599775],\n",
       "             'post_541': [0.37679686247696864],\n",
       "             'post_542': [0.36828093821198404,\n",
       "              0.39313932070899993,\n",
       "              0.3407673585149974],\n",
       "             'post_543': [0.36305109732799756,\n",
       "              0.37130719907799126,\n",
       "              0.3756048308219847,\n",
       "              0.3563206517979933,\n",
       "              0.36208775217497857,\n",
       "              0.3380524254949958],\n",
       "             'post_544': [0.37335113736198555],\n",
       "             'post_545': [0.38129136328598967],\n",
       "             'post_546': [0.32513665606197395,\n",
       "              0.3632558171729845,\n",
       "              0.34957331137898384],\n",
       "             'post_548': [0.3234321669219875, 0.3469231832599843],\n",
       "             'post_549': [0.30581129427499776, 0.29794551385198564],\n",
       "             'post_552': [0.40599442605598934],\n",
       "             'post_553': [0.331339570819,\n",
       "              0.3894328354069897,\n",
       "              0.3869466534389917],\n",
       "             'post_555': [0.30955975367799715, 0.32299057499999884],\n",
       "             'post_556': [0.3261151751679964],\n",
       "             'post_557': [0.39235993396899194, 0.39549172904999064],\n",
       "             'post_558': [0.3779685963349687, 0.3538713657879824],\n",
       "             'post_56': [0.3621731433199744, 0.3718315231579875],\n",
       "             'post_560': [0.3885668696439999, 0.3459208019119977],\n",
       "             'post_563': [0.357897864170985,\n",
       "              0.34333578792099706,\n",
       "              0.3639340361969845,\n",
       "              0.35338007882898437,\n",
       "              0.3481029411759975],\n",
       "             'post_565': [0.37701614416599716],\n",
       "             'post_569': [0.37387208146599993],\n",
       "             'post_57': [0.28248362706699537, 0.25649755173799516],\n",
       "             'post_570': [0.32674439797099997,\n",
       "              0.35265149828299247,\n",
       "              0.3621971879960001],\n",
       "             'post_573': [0.35994370051099145, 0.3648312362449847],\n",
       "             'post_576': [0.367185786028987, 0.36175108300798764],\n",
       "             'post_577': [0.3606828511679683, 0.3553413415439819],\n",
       "             'post_578': [0.4082782031539819],\n",
       "             'post_584': [0.36093157009497334],\n",
       "             'post_585': [0.3729557147920002, 0.3622408436879977],\n",
       "             'post_586': [0.4072916077359816, 0.382061663691978],\n",
       "             'post_587': [0.25519940730698754, 0.28098780714799776],\n",
       "             'post_589': [0.39782774764198503],\n",
       "             'post_59': [0.33341319380499757],\n",
       "             'post_590': [0.3852628057139884, 0.3871712164769835],\n",
       "             'post_592': [0.37174209161499583],\n",
       "             'post_593': [0.37376542511899613],\n",
       "             'post_594': [0.32132644892299755],\n",
       "             'post_595': [0.40157842770399743],\n",
       "             'post_596': [0.360840782127],\n",
       "             'post_597': [0.3658537234939919],\n",
       "             'post_598': [0.3532048586439961],\n",
       "             'post_599': [0.35649174397599703, 0.38307778644098567],\n",
       "             'post_6': [0.3723616468099957,\n",
       "              0.38119529760399584,\n",
       "              0.38722260049499346],\n",
       "             'post_60': [0.41439762078099507, 0.4399730865049699],\n",
       "             'post_600': [0.3832015838519973, 0.37556421587499744],\n",
       "             'post_601': [0.34428956442899916],\n",
       "             'post_602': [0.3411360679809966],\n",
       "             'post_603': [0.30362804489196726, 0.28578524150699014],\n",
       "             'post_604': [0.36512883677499575, 0.33537503244398115],\n",
       "             'post_605': [0.3860206509759936, 0.38945319468298434],\n",
       "             'post_606': [0.38697808424299585,\n",
       "              0.3500148419379875,\n",
       "              0.3548355099889865],\n",
       "             'post_607': [0.3651915567749955],\n",
       "             'post_608': [0.4047355058499922],\n",
       "             'post_609': [0.3755619350969829],\n",
       "             'post_61': [0.37374177112599793],\n",
       "             'post_610': [0.3845584027139911],\n",
       "             'post_611': [0.3994312045559999, 0.3811428183819914],\n",
       "             'post_612': [0.3227762894889846, 0.3170735380399925],\n",
       "             'post_613': [0.28737021264099705],\n",
       "             'post_615': [0.41919750820899127],\n",
       "             'post_616': [0.40763757888199137, 0.4414370224899882],\n",
       "             'post_617': [0.286018822884997,\n",
       "              0.30276505260598463,\n",
       "              0.30161930563199246,\n",
       "              0.31453772973699734],\n",
       "             'post_619': [0.35693141501799486],\n",
       "             'post_62': [0.2946999173269963],\n",
       "             'post_620': [0.39912619059098187],\n",
       "             'post_621': [0.3872379181029928],\n",
       "             'post_622': [0.3544599854259912,\n",
       "              0.33815432559098746,\n",
       "              0.3409316590329863,\n",
       "              0.33306549005099895],\n",
       "             'post_623': [0.3504875895949948],\n",
       "             'post_624': [0.37360400181397346],\n",
       "             'post_625': [0.4177693678989982],\n",
       "             'post_626': [0.2471290339940001],\n",
       "             'post_627': [0.3652879307349991],\n",
       "             'post_628': [0.37749292064997375],\n",
       "             'post_629': [0.4070709639159915],\n",
       "             'post_63': [0.36610468427099063],\n",
       "             'post_630': [0.432592791900995, 0.45273400752499715],\n",
       "             'post_632': [0.3785106282609997],\n",
       "             'post_633': [0.340293651681995, 0.3356996056289926],\n",
       "             'post_636': [0.3883767166779821, 0.36389577884099467],\n",
       "             'post_638': [0.35767669806098856],\n",
       "             'post_639': [0.38307470216899697, 0.4054412150749843],\n",
       "             'post_64': [0.3211155958409737, 0.33566534593499653],\n",
       "             'post_640': [0.36441609844798695, 0.3710892454669815],\n",
       "             'post_641': [0.3491441763739903],\n",
       "             'post_642': [0.39595913765699786,\n",
       "              0.39831438385499796,\n",
       "              0.3722254254289957],\n",
       "             'post_643': [0.3728504616359912,\n",
       "              0.3657829706249843,\n",
       "              0.3554476674519854],\n",
       "             'post_644': [0.4222229984829978],\n",
       "             'post_645': [0.34231674993598493],\n",
       "             'post_646': [0.30462898055200016,\n",
       "              0.3114204794169969,\n",
       "              0.3342838388679922,\n",
       "              0.33310826808199023],\n",
       "             'post_647': [0.3066782879999993,\n",
       "              0.28844442850598706,\n",
       "              0.30337265271799985],\n",
       "             'post_654': [0.38711629248698287,\n",
       "              0.37235835772198367,\n",
       "              0.3782091645259781],\n",
       "             'post_655': [0.3425482723349902,\n",
       "              0.3504811446939916,\n",
       "              0.3515340506129847],\n",
       "             'post_656': [0.3539424106089919],\n",
       "             'post_657': [0.3815131758659702,\n",
       "              0.37119739277598807,\n",
       "              0.3516090011149976,\n",
       "              0.36075648149997863],\n",
       "             'post_658': [0.4725216999009971,\n",
       "              0.3920297913369809,\n",
       "              0.41519290354798477,\n",
       "              0.4051614259249843],\n",
       "             'post_659': [0.37771848944398767,\n",
       "              0.3412137173819918,\n",
       "              0.37245521748898447],\n",
       "             'post_660': [0.37781620216799583, 0.3930074366859848],\n",
       "             'post_661': [0.3611711872829849, 0.359371331348987],\n",
       "             'post_662': [0.3342851661099848],\n",
       "             'post_663': [0.3383030309869868,\n",
       "              0.3437770118069846,\n",
       "              0.3295468350229843],\n",
       "             'post_664': [0.3680404562399868, 0.3666404719269879],\n",
       "             'post_665': [0.37394196887399334,\n",
       "              0.37659276196099045,\n",
       "              0.36242388294197336],\n",
       "             'post_666': [0.3787261023219868, 0.3629760465679851],\n",
       "             'post_667': [0.3760485521399881, 0.330141704265],\n",
       "             'post_668': [0.4028025830619689,\n",
       "              0.39342855614299554,\n",
       "              0.3903193532579867],\n",
       "             'post_669': [0.4761009718969864],\n",
       "             'post_67': [0.39572135936598785],\n",
       "             'post_670': [0.37492436037998433,\n",
       "              0.372621897057993,\n",
       "              0.352790931779999],\n",
       "             'post_671': [0.3462970846389678,\n",
       "              0.3397289406449904,\n",
       "              0.3369750290999872,\n",
       "              0.3123608740749998],\n",
       "             'post_672': [0.40775155458198165],\n",
       "             'post_673': [0.3664675389599791],\n",
       "             'post_674': [0.3715716931459887, 0.3905207390469788],\n",
       "             'post_675': [0.3951334450279689,\n",
       "              0.38739218468898273,\n",
       "              0.3915482985819788],\n",
       "             'post_676': [0.36736689740797446,\n",
       "              0.39054133028598714,\n",
       "              0.3706027195979964],\n",
       "             'post_677': [0.303127265832983, 0.29809419913199775],\n",
       "             'post_678': [0.3294725713589677,\n",
       "              0.31642835340198205,\n",
       "              0.3243922088369867,\n",
       "              0.3277626279179846,\n",
       "              0.32117981590297795,\n",
       "              0.3233928963659839],\n",
       "             'post_679': [0.3329617319369903, 0.3518084194659976],\n",
       "             'post_680': [0.35020306467796813, 0.33079486387798673],\n",
       "             'post_681': [0.36026463602196834,\n",
       "              0.3443459288969869,\n",
       "              0.3155824629869999],\n",
       "             'post_682': [0.3780951476639959, 0.3994326047489847],\n",
       "             'post_683': [0.32402817211798673],\n",
       "             'post_684': [0.3335956940589986, 0.3458351288979975],\n",
       "             'post_687': [0.37797598452098724],\n",
       "             'post_69': [0.40581564521499636, 0.3835051883719971],\n",
       "             'post_693': [0.34978440935798694],\n",
       "             'post_694': [0.3690003162659976],\n",
       "             'post_7': [0.41388858588799715,\n",
       "              0.4111415101619912,\n",
       "              0.4152601095549845],\n",
       "             'post_700': [0.30669781198199564,\n",
       "              0.31701495084899123,\n",
       "              0.3204099778869868,\n",
       "              0.28639155813799533],\n",
       "             'post_701': [0.4006898571509846],\n",
       "             'post_702': [0.3610422795189946],\n",
       "             'post_704': [0.3659299481839867],\n",
       "             'post_705': [0.36941634909198695],\n",
       "             'post_708': [0.3395317747759805,\n",
       "              0.35957832637998677,\n",
       "              0.3621838762469839],\n",
       "             'post_709': [0.347568851215995,\n",
       "              0.3804713831379869,\n",
       "              0.3557646051099812],\n",
       "             'post_71': [0.3956910008299964],\n",
       "             'post_710': [0.3549073209619975],\n",
       "             'post_712': [0.3709846408549964],\n",
       "             'post_719': [0.35027863371399615],\n",
       "             'post_720': [0.33017821884598497],\n",
       "             'post_721': [0.40846542273898434, 0.3813218029279919],\n",
       "             'post_722': [0.3657686821499958, 0.4078037916429874],\n",
       "             'post_724': [0.32754539349899314],\n",
       "             'post_725': [0.4081829182019695, 0.3993055633279865],\n",
       "             'post_728': [0.4087637220759872, 0.3826906604519925],\n",
       "             'post_729': [0.3355513810169919, 0.2993993980789985],\n",
       "             'post_730': [0.38074346270398673],\n",
       "             'post_731': [0.3593846463649979, 0.3520966188669944],\n",
       "             'post_733': [0.2902216807229997],\n",
       "             'post_734': [0.3296373292499851,\n",
       "              0.28125608452099804,\n",
       "              0.31674634292998094],\n",
       "             'post_735': [0.3354816632809867, 0.3129478723429945],\n",
       "             'post_737': [0.3104193616989994],\n",
       "             'post_739': [0.34605880354098684],\n",
       "             'post_74': [0.3336934567759816,\n",
       "              0.30285777206999165,\n",
       "              0.3203696558089787],\n",
       "             'post_743': [0.3767889965679867],\n",
       "             'post_745': [0.3580885593889983, 0.3697857950169876],\n",
       "             'post_749': [0.3389553489929802, 0.3612467525079842],\n",
       "             'post_756': [0.40260981549896935],\n",
       "             'post_757': [0.4095217498989846, 0.401765584213979],\n",
       "             'post_765': [0.340177768295987],\n",
       "             'post_767': [0.2903213978379867],\n",
       "             'post_768': [0.31396033190099726, 0.30859226384799965],\n",
       "             'post_769': [0.3358991752819853, 0.37948313970799985],\n",
       "             'post_770': [0.3368522383849961],\n",
       "             'post_771': [0.3468334938709907],\n",
       "             'post_772': [0.4012375420439912,\n",
       "              0.4077321911889883,\n",
       "              0.4029286584699846,\n",
       "              0.39798465722898435],\n",
       "             'post_773': [0.2971628014749874,\n",
       "              0.2909988033449984,\n",
       "              0.3025316670889965,\n",
       "              0.2575532630779961],\n",
       "             'post_774': [0.3799593498849999],\n",
       "             'post_775': [0.2984354262799973, 0.325380611915981],\n",
       "             'post_776': [0.3450502582549958, 0.3484479670449875],\n",
       "             'post_777': [0.36682022414299575, 0.3455431344829981],\n",
       "             'post_778': [0.36100974167698485],\n",
       "             'post_779': [0.3476012969319867,\n",
       "              0.33226309554699784,\n",
       "              0.33703192006498117],\n",
       "             'post_78': [0.33136541493399607],\n",
       "             'post_780': [0.21822107907199872, 0.2891383807789907],\n",
       "             'post_781': [0.34224056605699993,\n",
       "              0.3663169904399848,\n",
       "              0.35140936799898526],\n",
       "             'post_782': [0.3841542319859851, 0.40616489646599996],\n",
       "             'post_783': [0.35028339119399476],\n",
       "             'post_784': [0.39468264669897046, 0.3844347671309961],\n",
       "             'post_785': [0.39589398215896887,\n",
       "              0.35955019538298505,\n",
       "              0.35847257491899975],\n",
       "             'post_786': [0.33937828540699344],\n",
       "             'post_788': [0.3694417874689837, 0.367243981576978],\n",
       "             'post_789': [0.37279589743399344],\n",
       "             'post_79': [0.4720717484449978, 0.4023734100919958],\n",
       "             'post_790': [0.3758319786869978,\n",
       "              0.37540058418898925,\n",
       "              0.3554231080379814],\n",
       "             'post_791': [0.34867300038299565,\n",
       "              0.3386001535819987,\n",
       "              0.33373334056699155],\n",
       "             'post_792': [0.2928473126599983,\n",
       "              0.3200788936949964,\n",
       "              0.2988603370189964],\n",
       "             'post_793': [0.35998849585498804, 0.36201560382999565],\n",
       "             'post_794': [0.30742117744099584],\n",
       "             'post_795': [0.2862941047439982,\n",
       "              0.35339254545599086,\n",
       "              0.36480924182099994],\n",
       "             'post_796': [0.3468474468209868, 0.2969564782949985],\n",
       "             'post_797': [0.295194773656996],\n",
       "             'post_798': [0.3797090249019843],\n",
       "             'post_799': [0.3725497812779862, 0.38861664617198566],\n",
       "             'post_8': [0.3545253380759954, 0.38817898128799533],\n",
       "             'post_800': [0.37105891766598686, 0.3499999533259812],\n",
       "             'post_802': [0.3827541340999904,\n",
       "              0.3016367606360001,\n",
       "              0.38345450698898487,\n",
       "              0.38727855906897846],\n",
       "             'post_803': [0.36762021735398476, 0.3530150192729974],\n",
       "             'post_804': [0.3385160991909907, 0.2979805514199916],\n",
       "             'post_805': [0.36700373080098747],\n",
       "             'post_806': [0.3652493481359881, 0.42334346384200006],\n",
       "             'post_807': [0.3647322544139906],\n",
       "             'post_808': [0.2897026373549987, 0.34113703158698805],\n",
       "             'post_809': [0.31963511990098514, 0.30961442031899555],\n",
       "             'post_810': [0.3345858288439927,\n",
       "              0.40810060551899985,\n",
       "              0.3835318339319944],\n",
       "             'post_811': [0.3427327908269875],\n",
       "             'post_812': [0.3944300194089957],\n",
       "             'post_813': [0.35276742282999785,\n",
       "              0.37184354432598943,\n",
       "              0.3434536174179874,\n",
       "              0.3613364011719976],\n",
       "             'post_814': [0.3091794014319864],\n",
       "             'post_815': [0.32572706367298465],\n",
       "             'post_817': [0.34702958383799065, 0.2940800058099987],\n",
       "             'post_818': [0.3983545997799909, 0.3656580390469989],\n",
       "             'post_819': [0.3877771778539909,\n",
       "              0.40729547281699807,\n",
       "              0.41461384903599774],\n",
       "             'post_82': [0.376303475037998],\n",
       "             'post_820': [0.3227097592639878,\n",
       "              0.31835266507599547,\n",
       "              0.29661318106699874],\n",
       "             'post_821': [0.36091372043899805,\n",
       "              0.3612846353879876,\n",
       "              0.3568109988829954],\n",
       "             'post_822': [0.3861061173899941],\n",
       "             'post_823': [0.34805964203198825],\n",
       "             'post_824': [0.3542139720449976],\n",
       "             'post_825': [0.264358332001996],\n",
       "             'post_828': [0.3531147951159841],\n",
       "             'post_83': [0.39459372532599823,\n",
       "              0.4484482992009843,\n",
       "              0.4243559204099907],\n",
       "             'post_831': [0.351031261318998],\n",
       "             'post_835': [0.3149713852879964],\n",
       "             'post_839': [0.35795072774399994, 0.3352967487299965],\n",
       "             'post_84': [0.34864051242499816, 0.3371729617489875],\n",
       "             'post_840': [0.35809234130998857],\n",
       "             'post_841': [0.36327454084998356,\n",
       "              0.35632422650498685,\n",
       "              0.34123157290799033],\n",
       "             'post_842': [0.39209859916798373,\n",
       "              0.3720632410549868,\n",
       "              0.4037374658679782],\n",
       "             'post_843': [0.34540860610798696, 0.34528364303497305],\n",
       "             'post_846': [0.3658225061029954],\n",
       "             'post_847': [0.33525594458898667, 0.3446169283959958],\n",
       "             'post_848': [0.39088752428196916,\n",
       "              0.43143294849098435,\n",
       "              0.38961553297699725],\n",
       "             'post_85': [0.35476160500298504,\n",
       "              0.3530477210809957,\n",
       "              0.34659957839598743],\n",
       "             'post_850': [0.3421914493949956, 0.3696995396589904],\n",
       "             'post_853': [0.3601340475329913,\n",
       "              0.3472595579289971,\n",
       "              0.3494032168779867,\n",
       "              0.3593294187089846],\n",
       "             'post_854': [0.4101161992899911,\n",
       "              0.3929009441219853,\n",
       "              0.391946569197987],\n",
       "             'post_855': [0.33359963514198665,\n",
       "              0.33698885186799576,\n",
       "              0.33034805347398744],\n",
       "             'post_858': [0.38746235860298184,\n",
       "              0.38882103345899743,\n",
       "              0.391532812201992],\n",
       "             'post_859': [0.3872798796919871,\n",
       "              0.389147544619985,\n",
       "              0.38449501789898466],\n",
       "             'post_86': [0.3678049703979974],\n",
       "             'post_860': [0.3301761102279911],\n",
       "             'post_861': [0.3391786002949867, 0.3399946509669812],\n",
       "             'post_862': [0.3705093665609699,\n",
       "              0.39470848633999633,\n",
       "              0.38055445359498985,\n",
       "              0.3825342838099851,\n",
       "              0.3739701061559869,\n",
       "              0.31852469236699876],\n",
       "             'post_863': [0.2810562003419942],\n",
       "             'post_864': [0.3779231015729869],\n",
       "             'post_865': [0.40142929109299086],\n",
       "             'post_866': [0.34267568729096953,\n",
       "              0.34992781550598995,\n",
       "              0.3384264016789834,\n",
       "              0.333191885655978],\n",
       "             'post_867': [0.40837843014199526,\n",
       "              0.3972148462769707,\n",
       "              0.39987305635798975,\n",
       "              0.3892328966169867,\n",
       "              0.42031878197099737,\n",
       "              0.4241736550839842,\n",
       "              0.3948007609269909],\n",
       "             'post_870': [0.34970149446499754],\n",
       "             'post_872': [0.34656975108098487, 0.3595962501879839],\n",
       "             'post_873': [0.3290096780799677,\n",
       "              0.317240804525982,\n",
       "              0.32477836247898173,\n",
       "              0.31446775239899727],\n",
       "             'post_874': [0.3601340339189867, 0.3570705514229936],\n",
       "             'post_875': [0.35941934359396976,\n",
       "              0.3699738740859976,\n",
       "              0.36536380256699086,\n",
       "              0.36850602136698674,\n",
       "              0.35025627805499304,\n",
       "              0.3479294793409953,\n",
       "              0.33848252298899995],\n",
       "             'post_876': [0.33729253133698456],\n",
       "             'post_877': [0.3365938047089869],\n",
       "             'post_878': [0.3602006181429901,\n",
       "              0.35002211579698606,\n",
       "              0.36178028437799126,\n",
       "              0.3808808458239946],\n",
       "             'post_88': [0.3026813427959846],\n",
       "             'post_880': [0.36780436421099405, 0.38158236376197896],\n",
       "             'post_883': [0.31038377756899005],\n",
       "             'post_884': [0.4070663601419827],\n",
       "             'post_885': [0.3526829272639975],\n",
       "             'post_886': [0.34943585788499565,\n",
       "              0.37205277663498526,\n",
       "              0.3641531672109851,\n",
       "              0.3735721521349912,\n",
       "              0.3692068496469868,\n",
       "              0.3753284028999846,\n",
       "              0.36582395786197863],\n",
       "             'post_887': [0.3711011138119841,\n",
       "              0.3820716737549882,\n",
       "              0.3754600227549868],\n",
       "             'post_888': [0.34860493132296944,\n",
       "              0.35301606095999016,\n",
       "              0.32420856101399553,\n",
       "              0.34780792449899034],\n",
       "             'post_89': [0.3265103600839847, 0.32784569918699225],\n",
       "             'post_890': [0.35874639652198703],\n",
       "             'post_892': [0.3445003983529895, 0.3357566975699944],\n",
       "             'post_893': [0.35240813963798534, 0.3462274923489853],\n",
       "             'post_894': [0.4236821053099695, 0.4067675285699971],\n",
       "             'post_896': [0.3957758558089829],\n",
       "             'post_897': [0.36684734492799,\n",
       "              0.34265849346998856,\n",
       "              0.3722812183949906],\n",
       "             'post_9': [0.3542000108279876,\n",
       "              0.38051247832397017,\n",
       "              0.37134231103298765,\n",
       "              0.3688046994259866],\n",
       "             'post_90': [0.3492628372979897],\n",
       "             'post_900': [0.33951114543098604,\n",
       "              0.3492225889539844,\n",
       "              0.34819508001899746],\n",
       "             'post_901': [0.3848264042269869,\n",
       "              0.37179191169599635,\n",
       "              0.3926327322009855],\n",
       "             'post_902': [0.3665576275479684],\n",
       "             'post_903': [0.44303730915098827,\n",
       "              0.43618400817499736,\n",
       "              0.39236613774897866],\n",
       "             'post_904': [0.3625496785449819,\n",
       "              0.3380544699389979,\n",
       "              0.3369783522449955],\n",
       "             'post_906': [0.3578486375709977],\n",
       "             'post_907': [0.3853937000919909,\n",
       "              0.36243526569098483,\n",
       "              0.38389651730198804],\n",
       "             'post_908': [0.39927110428298673],\n",
       "             'post_909': [0.35590089012898496],\n",
       "             'post_91': [0.3455073124079866, 0.3644133790849927],\n",
       "             'post_910': [0.3458831024169975],\n",
       "             'post_911': [0.3745368387779967, 0.35338035635499754],\n",
       "             'post_912': [0.34770258656796804,\n",
       "              0.32850181287798674,\n",
       "              0.3436135003439845],\n",
       "             'post_913': [0.3035593908119868],\n",
       "             'post_915': [0.39854450088498394],\n",
       "             'post_917': [0.3836620458829981,\n",
       "              0.3952933891169872,\n",
       "              0.37610512103199034],\n",
       "             'post_918': [0.33783991730298657,\n",
       "              0.3637029726869959,\n",
       "              0.35400880831399606,\n",
       "              0.35243592954699465],\n",
       "             'post_919': [0.3170353200629873],\n",
       "             'post_92': [0.3555116758279886],\n",
       "             'post_920': [0.39307348735598524,\n",
       "              0.37699518228498197,\n",
       "              0.36985868729199756,\n",
       "              0.3658612421529919],\n",
       "             'post_921': [0.35254271144498206,\n",
       "              0.34800995940199764,\n",
       "              0.3425296497639917,\n",
       "              0.338863742311994],\n",
       "             'post_922': [0.3535171671449908,\n",
       "              0.34702819014598174,\n",
       "              0.3472020157059973,\n",
       "              0.33193662666199186,\n",
       "              0.3602651442609912,\n",
       "              0.365583500338988,\n",
       "              0.3622759820379846,\n",
       "              0.3484792920139843],\n",
       "             'post_923': [0.36949911704699634],\n",
       "             'post_924': [0.36738331142999636,\n",
       "              0.3688420073939971,\n",
       "              0.3568981566009787],\n",
       "             'post_925': [0.38471206380498635, 0.39996898128899716],\n",
       "             'post_926': [0.4022193816069839,\n",
       "              0.38582367661399797,\n",
       "              0.3620358338949955],\n",
       "             'post_927': [0.39714625167898465],\n",
       "             'post_929': [0.3807437614039817],\n",
       "             'post_93': [0.34779462554599794, 0.3488947847499979],\n",
       "             'post_94': [0.35620067553399815, 0.3588396587689985],\n",
       "             'post_95': [0.41484881091899417, 0.3533663178089965],\n",
       "             'post_97': [0.3033222982589925, 0.3377645024009944],\n",
       "             'post_98': [0.3527769978869837,\n",
       "              0.3133254579579987,\n",
       "              0.2574472625699977],\n",
       "             'post_99': [0.39298136653998994, 0.38889620357999133]})"
      ]
     },
     "execution_count": 302,
     "metadata": {},
     "output_type": "execute_result"
    }
   ],
   "source": [
    "post_tags_similarities"
   ]
  },
  {
   "cell_type": "code",
   "execution_count": 347,
   "metadata": {
    "collapsed": false
   },
   "outputs": [
    {
     "data": {
      "image/png": "[encoded data removed]",
      "text/plain": [
       "<matplotlib.figure.Figure at 0x222d602d0>"
      ]
     },
     "metadata": {},
     "output_type": "display_data"
    }
   ],
   "source": [
    "post_tags_similarities_average = dict((n, np.mean(x)) if len(x) > 0 else (n, np.nan) for n,x in post_tags_similarities.items())\n",
    "post_tags_similarities_n = dict((n, len(x)) for n,x in post_tags_similarities.items())\n",
    "tmp = plt.hist(post_tags_similarities_average.values(), 50)\n",
    "# spread in post similarity scores seen"
   ]
  },
  {
   "cell_type": "code",
   "execution_count": 349,
   "metadata": {
    "collapsed": false
   },
   "outputs": [
    {
     "data": {
      "text/plain": [
       "[<matplotlib.lines.Line2D at 0x2237b5d50>]"
      ]
     },
     "execution_count": 349,
     "metadata": {},
     "output_type": "execute_result"
    },
    {
     "data": {
      "image/png": "[encoded data removed]",
      "text/plain": [
       "<matplotlib.figure.Figure at 0x21f3b8950>"
      ]
     },
     "metadata": {},
     "output_type": "display_data"
    }
   ],
   "source": [
    "tmp = [(post_tags_similarities_average[post], post_tags_similarities_n[post]) for post in post_tags_similarities_average]\n",
    "plt.plot(np.array([t[1] for t in tmp])+np.random.uniform(size=len(tmp)), [t[0] for t in tmp], '.') \n",
    "# similarity seems not driven by number of tags applied to post"
   ]
  },
  {
   "cell_type": "code",
   "execution_count": 355,
   "metadata": {
    "collapsed": false
   },
   "outputs": [],
   "source": [
    "# get all the tag indicators\n",
    "for c in postsusers.columns.values[12:313]:\n",
    "    postsusers[c] = postsusers[c].notnull().apply(int)"
   ]
  },
  {
   "cell_type": "code",
   "execution_count": null,
   "metadata": {
    "collapsed": true
   },
   "outputs": [],
   "source": [
    "# get the similarity measure in the dataframe"
   ]
  },
  {
   "cell_type": "code",
   "execution_count": null,
   "metadata": {
    "collapsed": true
   },
   "outputs": [],
   "source": [
    "# drop anythting with a missing similarity score"
   ]
  },
  {
   "cell_type": "code",
   "execution_count": 376,
   "metadata": {
    "collapsed": false
   },
   "outputs": [
    {
     "data": {
      "text/plain": [
       "True"
      ]
     },
     "execution_count": 376,
     "metadata": {},
     "output_type": "execute_result"
    }
   ],
   "source": [
    "post\n",
    "#post_tags_similarities_average\n",
    "post_tags_similarities_average['post_'+str(post)]\n",
    "#post_tags_similarities_average\n",
    "'post_'+str(post) in post_tags_similarities_average"
   ]
  },
  {
   "cell_type": "code",
   "execution_count": null,
   "metadata": {
    "collapsed": false
   },
   "outputs": [
    {
     "name": "stderr",
     "output_type": "stream",
     "text": [
      "/Users/schwarls37/anaconda/lib/python2.7/site-packages/ipykernel/__main__.py:4: SettingWithCopyWarning: \n",
      "A value is trying to be set on a copy of a slice from a DataFrame\n",
      "\n",
      "See the caveats in the documentation: http://pandas.pydata.org/pandas-docs/stable/indexing.html#indexing-view-versus-copy\n",
      "/Users/schwarls37/anaconda/lib/python2.7/site-packages/ipykernel/__main__.py:6: SettingWithCopyWarning: \n",
      "A value is trying to be set on a copy of a slice from a DataFrame\n",
      "\n",
      "See the caveats in the documentation: http://pandas.pydata.org/pandas-docs/stable/indexing.html#indexing-view-versus-copy\n"
     ]
    }
   ],
   "source": [
    "tmp = postsusers.date\n",
    "\n",
    "for post in range(len(p[:limit])):\n",
    "    tmp[post] = np.nan\n",
    "    if 'post_'+str(post) in post_tags_similarities_average:\n",
    "        tmp[post] = post_tags_similarities_average['post_'+str(post)]"
   ]
  },
  {
   "cell_type": "code",
   "execution_count": null,
   "metadata": {
    "collapsed": true
   },
   "outputs": [],
   "source": []
  },
  {
   "cell_type": "code",
   "execution_count": 364,
   "metadata": {
    "collapsed": false
   },
   "outputs": [
    {
     "data": {
      "text/plain": [
       "17976"
      ]
     },
     "execution_count": 364,
     "metadata": {},
     "output_type": "execute_result"
    }
   ],
   "source": [
    "len(postsusers[['votes_count_x', 'website_url', 'comments_count', 'num_makers', 'num_topics', 'date', 'collections_count', 'followed_topics_count', 'followers_count', 'followings_count', 'maker_of_count', 'posts_count', 'votes_count_y', 'time_Afternoon', 'time_Evening', 'time_Morning', 'time_Night','day_Friday', 'day_Monday', 'day_Saturday', 'day_Sunday', 'day_Thursday', 'day_Tuesday', 'day_Wednesday']+list(postsusers.columns.values[12:313])].dropna())\n"
   ]
  },
  {
   "cell_type": "code",
   "execution_count": null,
   "metadata": {
    "collapsed": true
   },
   "outputs": [],
   "source": []
  },
  {
   "cell_type": "code",
   "execution_count": 366,
   "metadata": {
    "collapsed": false
   },
   "outputs": [
    {
     "data": {
      "text/plain": [
       "10796"
      ]
     },
     "execution_count": 366,
     "metadata": {},
     "output_type": "execute_result"
    }
   ],
   "source": [
    "len(post_tags_similarities_average)"
   ]
  },
  {
   "cell_type": "code",
   "execution_count": null,
   "metadata": {
    "collapsed": true
   },
   "outputs": [],
   "source": [
    "from sklearn.ensemble import RandomForestRegressor\n",
    "\n",
    "rf = RandomForestRegressor(n_estimators=100, max_features=\"sqrt\")\n"
   ]
  },
  {
   "cell_type": "code",
   "execution_count": null,
   "metadata": {
    "collapsed": true
   },
   "outputs": [],
   "source": [
    "y = postsusers['votes_count_x']\n",
    "X = postsusers[['website_url', 'comments_count', 'num_makers', 'num_topics', 'date', 'collections_count', 'followed_topics_count', 'followers_count', 'followings_count', 'maker_of_count', 'posts_count', 'votes_count_y', 'time_Afternoon', 'time_Evening', 'time_Morning', 'time_Night','day_Friday', 'day_Monday', 'day_Saturday', 'day_Sunday', 'day_Thursday', 'day_Tuesday', 'day_Wednesday']].dropna()"
   ]
  },
  {
   "cell_type": "code",
   "execution_count": null,
   "metadata": {
    "collapsed": true
   },
   "outputs": [],
   "source": [
    "rf.fit(X,y)"
   ]
  },
  {
   "cell_type": "code",
   "execution_count": null,
   "metadata": {
    "collapsed": true
   },
   "outputs": [],
   "source": []
  },
  {
   "cell_type": "code",
   "execution_count": null,
   "metadata": {
    "collapsed": true
   },
   "outputs": [],
   "source": [
    "rf.feature_importances_"
   ]
  },
  {
   "cell_type": "code",
   "execution_count": 35,
   "metadata": {
    "collapsed": false
   },
   "outputs": [
    {
     "data": {
      "text/plain": [
       "[0.40136736617696556,\n",
       " 0.3994280686959656,\n",
       " 0.37344412162996576,\n",
       " 0.388274644754966,\n",
       " 0.40752735711796595,\n",
       " 0.3752346048199656,\n",
       " 0.3972107371389656,\n",
       " 0.4122929570199656,\n",
       " 0.38073641592196594,\n",
       " 0.3922234053799656,\n",
       " 0.40669717750096557,\n",
       " 0.39150416197396576,\n",
       " 0.33775358162796565,\n",
       " 0.3619717218519656,\n",
       " 0.3911533446879656,\n",
       " 0.39744283717496554,\n",
       " 0.39013868478796554,\n",
       " 0.39107538935696595,\n",
       " 0.38950878469496597,\n",
       " 0.4047292682849656,\n",
       " 0.41454808971996515,\n",
       " 0.3885562041199653,\n",
       " 0.41991541046896586,\n",
       " 0.3665962150739658,\n",
       " 0.428651931040966,\n",
       " 0.3362642232909656,\n",
       " 0.4044713378899656,\n",
       " 0.35456766126496586,\n",
       " 0.3628489772739655,\n",
       " 0.3843399365649658,\n",
       " 0.3844320391049656,\n",
       " 0.4498519624499656,\n",
       " 0.4016737907249658,\n",
       " 0.4026825876729655,\n",
       " 0.4162185400359659,\n",
       " 0.4282304697859656,\n",
       " 0.42522818701296594,\n",
       " 0.35292359725796596,\n",
       " 0.3361246792439656,\n",
       " 0.4418405986089655,\n",
       " 0.4103660692559652,\n",
       " 0.406734853604966,\n",
       " 0.38467180991996597,\n",
       " 0.36861976576196553,\n",
       " 0.35370622926996564,\n",
       " 0.38271613039396557,\n",
       " 0.3673129378579656,\n",
       " 0.410816848938966,\n",
       " 0.3597221373959656,\n",
       " 0.40249233194696554,\n",
       " 0.3697798532639657,\n",
       " 0.41338609314596597,\n",
       " 0.3898245063729656,\n",
       " 0.42815208984196607,\n",
       " 0.41253978028996596,\n",
       " 0.40411369194396596,\n",
       " 0.3802633132219657,\n",
       " 0.2972189925469655,\n",
       " 0.3422171326229655,\n",
       " 0.38848983158596573,\n",
       " 0.4142497633429656,\n",
       " 0.38544402368096586,\n",
       " 0.31942179098696555,\n",
       " 0.39992313998396556,\n",
       " 0.3499177673009658,\n",
       " 0.3651254125579657,\n",
       " 0.40429336284396555,\n",
       " 0.42034888057096564,\n",
       " 0.3638850429349656,\n",
       " 0.4033934055759656,\n",
       " 0.3860311883069659,\n",
       " 0.38930301494596553,\n",
       " 0.41462834018396555,\n",
       " 0.3431396914579655,\n",
       " 0.34103548878596557,\n",
       " 0.4215785686679656,\n",
       " 0.41578569671896526,\n",
       " 0.34633154799996557,\n",
       " 0.377683122417966,\n",
       " 0.40038267391396565,\n",
       " 0.4042466983809655,\n",
       " 0.31375963727096556,\n",
       " 0.3818492019879658,\n",
       " 0.4066253694319658,\n",
       " 0.36715687500796557,\n",
       " 0.36643446304996563,\n",
       " 0.4088794145959652,\n",
       " 0.39009572619696564,\n",
       " 0.3243889929099656,\n",
       " 0.3407204794369656,\n",
       " 0.3682685840829656,\n",
       " 0.3661150227339658,\n",
       " 0.3765641758569652,\n",
       " 0.3765379803549659,\n",
       " 0.37516957488196556,\n",
       " 0.40193549322696553,\n",
       " 0.3470362186739656,\n",
       " 0.35743960339196557,\n",
       " 0.36546307061796557,\n",
       " 0.3819296014599656,\n",
       " 0.34584665016996563,\n",
       " 0.4070802230519651,\n",
       " 0.39421650870396574,\n",
       " 0.37024145441196565,\n",
       " 0.3789823913489656,\n",
       " 0.38550111774496576,\n",
       " 0.3593146106869656,\n",
       " 0.36557519184696596,\n",
       " 0.3762011126549655,\n",
       " 0.39398982489896583,\n",
       " 0.3976708309279656,\n",
       " 0.37601171458896576,\n",
       " 0.3636100003099656,\n",
       " 0.3961857820199657,\n",
       " 0.36037708769496557,\n",
       " 0.398700369962966,\n",
       " 0.38039211680996565,\n",
       " 0.4133311905299656,\n",
       " 0.37715690417196557,\n",
       " 0.3504387074929656,\n",
       " 0.37603089173996584,\n",
       " 0.3942988740149658,\n",
       " 0.40955668484096586,\n",
       " 0.3745794842769655,\n",
       " 0.3695659015369658,\n",
       " 0.38342495038196556,\n",
       " 0.39823185804896566,\n",
       " 0.32833910825196555,\n",
       " 0.39904488421896556,\n",
       " 0.34332197967096567,\n",
       " 0.39053260031396597,\n",
       " 0.3911693569849656,\n",
       " 0.3842396728069658,\n",
       " 0.4310551934019653,\n",
       " 0.41484292446896553,\n",
       " 0.3187873832679655,\n",
       " 0.3743475054619656,\n",
       " 0.39368122159996566,\n",
       " 0.3829095038529656,\n",
       " 0.3974707080999652,\n",
       " 0.41185225125096525,\n",
       " 0.40339713264696575,\n",
       " 0.3572472237029659,\n",
       " 0.3816323742639658,\n",
       " 0.4152208954739657,\n",
       " 0.36738285120996583,\n",
       " 0.40342045705396556,\n",
       " 0.3585032155029655,\n",
       " 0.36247286040896576,\n",
       " 0.36319992456296557,\n",
       " 0.38748699446796575,\n",
       " 0.39409157255596583]"
      ]
     },
     "execution_count": 35,
     "metadata": {},
     "output_type": "execute_result"
    }
   ],
   "source": [
    "fig, axes = plt.subplots(nrows=1, ncols=2, figsize=(9, 4))\n",
    "\n",
    "# generate some random test data\n",
    "all_data = [np.random.normal(0, std, 100) for std in range(6, 10)]\n",
    "\n",
    "# plot violin plot\n",
    "axes[0].violinplot(all_data,\n",
    "                   showmeans=False,\n",
    "                   showmedians=True)\n",
    "axes[0].set_title('violin plot')"
   ]
  },
  {
   "cell_type": "code",
   "execution_count": null,
   "metadata": {
    "collapsed": true
   },
   "outputs": [],
   "source": []
  },
  {
   "cell_type": "code",
   "execution_count": null,
   "metadata": {
    "collapsed": true
   },
   "outputs": [],
   "source": []
  },
  {
   "cell_type": "code",
   "execution_count": 146,
   "metadata": {
    "collapsed": false
   },
   "outputs": [],
   "source": [
    "terms_lists = (textacy_documents[tag].to_terms_list(ngrams=1, named_entities=True, as_strings=True) for tag in tags)"
   ]
  },
  {
   "cell_type": "code",
   "execution_count": 147,
   "metadata": {
    "collapsed": false
   },
   "outputs": [
    {
     "data": {
      "text/plain": [
       "<generator object <genexpr> at 0x18e0a35a0>"
      ]
     },
     "execution_count": 147,
     "metadata": {},
     "output_type": "execute_result"
    }
   ],
   "source": [
    "terms_lists"
   ]
  },
  {
   "cell_type": "code",
   "execution_count": 148,
   "metadata": {
    "collapsed": false
   },
   "outputs": [
    {
     "data": {
      "text/plain": [
       "<228x1000 sparse matrix of type '<type 'numpy.float64'>'\n",
       "\twith 11597 stored elements in Compressed Sparse Row format>"
      ]
     },
     "execution_count": 148,
     "metadata": {},
     "output_type": "execute_result"
    }
   ],
   "source": [
    "doc_term_matrix, id2term = textacy.vsm.doc_term_matrix(\n",
    "    terms_lists, weighting='tfidf', normalize=True, smooth_idf=True, min_df=3, max_df=0.95, max_n_terms=1000)"
   ]
  },
  {
   "cell_type": "code",
   "execution_count": 155,
   "metadata": {
    "collapsed": false
   },
   "outputs": [],
   "source": [
    "#textacy.math_utils.cosine_similarity(doc_term_matrix[0], doc_term_matrix[1])\n",
    "tmp = doc_term_matrix[1]"
   ]
  },
  {
   "cell_type": "code",
   "execution_count": 159,
   "metadata": {
    "collapsed": false
   },
   "outputs": [
    {
     "ename": "AttributeError",
     "evalue": "'function' object has no attribute 'dot'",
     "output_type": "error",
     "traceback": [
      "\u001b[0;31m--------------------------------------------------------------------\u001b[0m",
      "\u001b[0;31mAttributeError\u001b[0m                     Traceback (most recent call last)",
      "\u001b[0;32m<ipython-input-159-b3a30dd6e0d7>\u001b[0m in \u001b[0;36m<module>\u001b[0;34m()\u001b[0m\n\u001b[1;32m      1\u001b[0m \u001b[0;31m#tmp.dot(tmp)\u001b[0m\u001b[0;34m\u001b[0m\u001b[0;34m\u001b[0m\u001b[0m\n\u001b[0;32m----> 2\u001b[0;31m \u001b[0mtmp\u001b[0m\u001b[0;34m.\u001b[0m\u001b[0mtranspose\u001b[0m\u001b[0;34m.\u001b[0m\u001b[0mdot\u001b[0m\u001b[0;34m(\u001b[0m\u001b[0mtmp\u001b[0m\u001b[0;34m)\u001b[0m\u001b[0;34m\u001b[0m\u001b[0m\n\u001b[0m",
      "\u001b[0;31mAttributeError\u001b[0m: 'function' object has no attribute 'dot'"
     ]
    }
   ],
   "source": [
    "#tmp.dot(tmp)\n",
    "tmp.transpose.dot(tmp)"
   ]
  },
  {
   "cell_type": "code",
   "execution_count": 154,
   "metadata": {
    "collapsed": true
   },
   "outputs": [],
   "source": [
    "import scipy as sp"
   ]
  },
  {
   "cell_type": "code",
   "execution_count": null,
   "metadata": {
    "collapsed": true
   },
   "outputs": [],
   "source": [
    "\n",
    "scipy.sparse.csc_matrix.dot"
   ]
  },
  {
   "cell_type": "code",
   "execution_count": 50,
   "metadata": {
    "collapsed": false
   },
   "outputs": [
    {
     "data": {
      "text/plain": [
       "<generator object to_terms_list at 0x180755550>"
      ]
     },
     "execution_count": 50,
     "metadata": {},
     "output_type": "execute_result"
    }
   ],
   "source": [
    "documents['bots'].to_terms_list(ngrams=1, named_entities=True, as_strings=True)"
   ]
  }
 ],
 "metadata": {
  "anaconda-cloud": {},
  "kernelspec": {
   "display_name": "Python [Root]",
   "language": "python",
   "name": "Python [Root]"
  },
  "language_info": {
   "codemirror_mode": {
    "name": "ipython",
    "version": 2
   },
   "file_extension": ".py",
   "mimetype": "text/x-python",
   "name": "python",
   "nbconvert_exporter": "python",
   "pygments_lexer": "ipython2",
   "version": "2.7.12"
  }
 },
 "nbformat": 4,
 "nbformat_minor": 0
}
