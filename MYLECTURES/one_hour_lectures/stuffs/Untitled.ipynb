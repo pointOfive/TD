{
 "cells": [
  {
   "cell_type": "code",
   "execution_count": 3,
   "metadata": {
    "collapsed": false
   },
   "outputs": [
    {
     "name": "stdout",
     "output_type": "stream",
     "text": [
      "Enter a number to find it's divisors:6\n",
      "These are the divisors:\n",
      "index 6\n",
      "6\n",
      "index 5\n",
      "index 4\n",
      "index 3\n",
      "3\n",
      "index 2\n",
      "2\n",
      "index 1\n",
      "1\n"
     ]
    }
   ],
   "source": [
    "user_str = ''\n",
    "while not user_str.isdigit():\n",
    "   user_str = raw_input(\"Enter a number to find it's divisors:\")\n",
    "user_inputted_num = int(user_str)\n",
    "\n",
    "print \"These are the divisors:\"\n",
    "\n",
    "idx = user_inputted_num\n",
    "\n",
    "while idx > 0:\n",
    "    print \"index\", idx\n",
    "    if user_inputted_num % idx == 0:\n",
    "        print idx\n",
    "    idx -= 1"
   ]
  }
 ],
 "metadata": {
  "anaconda-cloud": {},
  "kernelspec": {
   "display_name": "Python [Root]",
   "language": "python",
   "name": "Python [Root]"
  },
  "language_info": {
   "codemirror_mode": {
    "name": "ipython",
    "version": 2
   },
   "file_extension": ".py",
   "mimetype": "text/x-python",
   "name": "python",
   "nbconvert_exporter": "python",
   "pygments_lexer": "ipython2",
   "version": "2.7.12"
  }
 },
 "nbformat": 4,
 "nbformat_minor": 0
}
