{
 "cells": [
  {
   "cell_type": "markdown",
   "metadata": {},
   "source": [
    "# NLP Whirlwind tour\n",
    "\n",
    "1. History/Computational Linguistics\n",
    "2. Parsing/Information Extraction\n",
    "3. Translation/Speech-to-text\n",
    "4. Machine Learning\n",
    "5. Feature Engineering/NLP\n",
    "6. Normalization/BoW\n",
    "7. Cosine Similarity/Clustering\n",
    "8. Topic Modeling: PCA/NMF/LDA\n",
    "9. Word2Vec/Analogies\n",
    "10. Sentiment Analysis\n",
    "11. Predictive modeling"
   ]
  },
  {
   "cell_type": "markdown",
   "metadata": {},
   "source": [
    "## 1. Computational Linguistics\n",
    "\n",
    "What we today call [*Natural Language Processing* (NLP)](https://en.wikipedia.org/wiki/Natural_language_processing) is a natural outgrowth/development of the field of [*Computational Linguistics*](https://en.wikipedia.org/wiki/Computational_linguistics).  The first problems undertaken by computational linguists were translation ([Russian to English](https://en.wikipedia.org/wiki/Computational_linguistics#Origins)) and [language geneology](https://en.wikipedia.org/wiki/Quantitative_comparative_linguistics).  The latter problem seeks to uncover the relationships between languages based on spelling, vocabulary, and sentence structure [similarity](https://en.wikipedia.org/wiki/Kullback–Leibler_divergence#Relation_to_metrics) [metrics](https://en.wikipedia.org/wiki/Metric). This immediately brings to bear notions (and applications) of [distance matricies](https://en.wikipedia.org/wiki/Distance_matrix), [hierarchical clustering](http://84.89.132.1/~michael/stanford/maeb7.pdf), and [graphs](http://www.springer.com/us/book/9781447165682) -- all of which have well established and storied records of mathematical analysis and methodology research. These analyses attempt to distill a large amount of information (e.g., \"languages\") into a simpler characterization with respect to a particular aspect of the data that is *a priori* unknown (e.g., \"language relatedness\"). Using modern termonology, since these analyses are thus descriptive rather than predictive in nature (i.e., there is really no \"gold standard\" of truth for any predictions to be evaluated against), these methodologies are called [*unsupervised*](https://en.wikipedia.org/wiki/Unsupervised_learning) .\n",
    "\n",
    "\n",
    "\n",
    "<table style=\"width:100%\" align=\"left\">\n",
    "<tr>\n",
    "    <td><img src=\"stuffs/indoeuro_fan.jpg\" alt=\"Drawing\" style=\"width: 600px;\"/></td>\n",
    "    <td>\n",
    "        <table style=\"width:100%\" align=\"center\">\n",
    "            <tr><td><img src=\"stuffs/Distance_matrix.PNG\" alt=\"Drawing\" style=\"width: 200px;\"/></td></tr>\n",
    "            <tr><td><img src=\"stuffs/1905522_orig.jpg\" alt=\"Drawing\" style=\"width: 200px;\"/></td></tr>\n",
    "        </table>\n",
    "    </td>\n",
    "    <td><img src=\"stuffs/F1_large.jpg\" alt=\"Drawing\" style=\"width: 275px;\"/></td> \n",
    "  </tr>\n",
    "\n",
    "</table>  "
   ]
  },
  {
   "cell_type": "markdown",
   "metadata": {},
   "source": [
    "## 2. Parsing and Meaning Representation\n",
    "\n",
    "Since languages (and phrasing and expressions therein) are so [idiosyncratic](https://lingroadshow.com/resources/languages-of-the-world/how-can-languages-differ/), the former problem (of language translation) has proven to be very difficult. In general, simplistic one-to-one translation rules result in poor translations. A classical apporoach to address this  has therefore been to define the *[grammars](http://www.nltk.org/book/ch08.html)* (language grammar rules) that govern a language in order to \n",
    "\n",
    "1. *parse* written text into *language representation structures*  \n",
    "2. define and therefore capture meaning within these structures  \n",
    "3. provide mappings between language expressions at the \"meanings\" level  \n",
    "\n",
    "However, parsing efforts suffer from the unavoidable [ambiguity](http://thepoweroflangaugejt.weebly.com/uploads/2/4/2/8/24287582/7129815_orig.gif) that is a hallmark characteristic of natural language. As a result, capturing meaning from text has thus far been restricted to [specialized applications that limit scope](http://www.nltk.org/book/ch07.html) and leverage specialized domain knowledge in order to tackle extremely specific language parsing tasks. E.g., [IBM Watson](https://www.ibm.com/watson/) seeks to transform unstructured written text (data) into structured (tabular) data that stores entity relationship information identified in the text that can be leveraged to answer questions of interest.  \n",
    "\n",
    "\n",
    "<table style=\"width:100%\" align=\"left\">\n",
    "  <tr>\n",
    "    <td><img src=\"stuffs/ch08-tree-3.png\" alt=\"Drawing\" style=\"width: 600px;\"/></td>\n",
    "    <td><img src=\"stuffs/quant-ambig-2.png\" alt=\"Drawing\" style=\"width: 650px;\"/></td>\n",
    "  </tr>\n",
    "</table>"
   ]
  },
  {
   "cell_type": "markdown",
   "metadata": {},
   "source": [
    "## 3. Translation \n",
    "\n",
    "Since semantics-based comprehension approaches to translation have as of yet not provided a general solution to the tranlation problem, recent work has begun to instead cast the problem within a purely [predicitive](https://en.wikipedia.org/wiki/Predictive_analytics) context.  Indeed, sophisticated cutting-edge [deep neural network methodologies](https://blog.google/products/translate/higher-quality-neural-translations-bunch-more-languages/) have improved the results available in the translation arena.  Again using modern terminology, since in the end these approaches are evaluated based upon prediction performance (i.e., there actually *is* a \"gold standard\" of truth to be evaluated against), these methodologies are called [*supervised*](https://en.wikipedia.org/wiki/Supervised_learning).\n",
    "\n",
    "<table style=\"width:100%\" align=\"left\">\n",
    "<tr><td>\n",
    "<img src=\"stuffs/translate2.jpg\" alt=\"Drawing\" style=\"width: 800px;\"/>\n",
    "</td></tr>\n",
    "</table>"
   ]
  },
  {
   "cell_type": "markdown",
   "metadata": {},
   "source": [
    "### Spoken Language\n",
    "\n",
    "In addition to gleaning structured knowledge from unstructured written text, *speech-to-text* and *text-to-speech* represent cutting-edge challenges with enumerable applications that are currently of great interest and correspondingly receiving considerable attention. We do not examine these domains further here as we restrict our scope to \"text data\" only.\n",
    "\n",
    "<table style=\"width:50%\" align=\"center\">\n",
    "  <tr>\n",
    "    <td><img src=\"stuffs/02globalisation-snapshot.jpg\" alt=\"Drawing\" style=\"width: 600px;\"/></td>\n",
    "  </tr>\n",
    "</table>"
   ]
  },
  {
   "cell_type": "markdown",
   "metadata": {},
   "source": [
    "## 4. Machine Learning \n",
    "\n",
    "The terms *supervised*  and *unsupervised* (which we have already come across) are borrowed from the disipline of [*machine learning*](https://www.quora.com/What-is-the-difference-between-statistics-and-machine-learning). Machine learning is a framework of mathematical and computational methodologies that falls under the umbrella of [*data science*](https://www.galvanize.com/austin/data-science) and is concerned with prediction performance (i.e., *supervised learning*) and reduced representations of data (i.e., *unsupervised learning*). In the former (supervised learning) problem, we are interested in identifying (\"learning\") associations between *features* and *outcomes* that can be leveraged to predict the outcomes based on the features.  Examples of such methodologies include [linear regression](https://www.quora.com/What-is-the-best-book-ever-written-on-regression-modeling-predictive-modeling), [logistic regression](http://thestatsgeek.com/stats-books/logistic-regression-generalized-linear-model-books/), ensemble methods (such as [random forests](https://medium.com/rants-on-machine-learning/the-unreasonable-effectiveness-of-random-forests-f33c3ce28883) and [gradient boosting](http://fastml.com/what-is-better-gradient-boosted-trees-or-random-forest/)), [K-nearest neighbors](http://machinelearningmastery.com/parametric-and-nonparametric-machine-learning-algorithms/) and [support vector machines](https://en.wikipedia.org/wiki/Skynet_(Terminator).  In the latter (unsupervised learning) problem we are interested in uncovering (\"learning\") implicit characterizations of the *features* (only -- not *outcomes*) that are inherant and self-evident in the data itself in a relative sense, as opposed to being a directly measureable variable of the data. Examples of such methodologies include [clustering](https://en.wikipedia.org/wiki/Cluster_analysis) and latent featue extraction/reduced representation techniques (such as [PCA](https://stats.stackexchange.com/questions/2691/making-sense-of-principal-component-analysis-eigenvectors-eigenvalues)/[SVD](https://en.wikipedia.org/wiki/Singular-value_decomposition), [UVD](https://en.wikipedia.org/wiki/Matrix_decomposition)/[NMF](https://en.wikipedia.org/wiki/Non-negative_matrix_factorization), [factor analysis](https://stats.stackexchange.com/questions/212445/pca-vs-fa-vs-ica-for-dimensionality-reduction-in-questionaire-data), and [independent components analysis](https://www.ee.columbia.edu/~dpwe/papers/HyvO99-icatut.pdf)). The data analyzed by machine learning techniques -- features and outcomes -- must be numeric since it is processed using quantitative mathematical and computational frameworks as opposed to qualitative, subjective assessments. \n",
    "\n",
    "**Machine learning is of course a general framework that can be utilized in many -- not just NLP -- contexts. Our focus here, however, will be on contexts where the machine learning machinary can be applied along with NLP to provide a solution to the problem at hand (of which, as we will see, there are many instances).**"
   ]
  },
  {
   "cell_type": "markdown",
   "metadata": {},
   "source": [
    "## 5. Feature Engineering\n",
    "\n",
    "While machine learning methodologies often entail high-powered mathematical and computational sophistication, **the success of machine learning tools always just boils down to the data that powers them**. E.g., the prediction of the learned model is only as good as the quality of the data going in: **\"garbage in, garbage out\"**. Sometimes the features of interest in a given problem are obvious.  But other times they're not. For example, what should the features be in contexts where the data is written language text? **The identification (and construction as necessary) of (hopefully useful) features is called *feature engineering***. \n",
    "\n",
    "*These days, methodologies are so sophisticated that it's not a question of weather associations can be captured -- any associations can be caputured and modeled; instead, it's a question of weather or not the data that exposes the appropriate associations can be identified and collected in sufficient quantities.*"
   ]
  },
  {
   "cell_type": "markdown",
   "metadata": {},
   "source": [
    "### Natural Language Procesing (NLP)\n",
    "\n",
    "**NLP as a term essentially means feature engineering (i.e., creating quantitative analytical representations) for written language text data**, e.g., parsing sentences into grammers quantifying meaning is one path towards feature engineering in a written language context.  **The [NLTK](https://nltk.org/) library provides many methodologies and tools for such syntactic parsing; however, as introduced in the next section, for many questions that arise in language text data contexts other useful *simpler* text featurization techniques have been identified.**  NLTK, and other NLP libraries, such as [scikit-learn](https://scikit-learn.org), [gensim](https://radimrehurek.com/gensim/), [Textacy](http://textacy.readthedocs.io/en/latest/api_reference.html) and [spaCy](https://spacy.io) provide interfaces to such text featurization pipelienes. Further, the latter libraries additionally provide machine learning model fitting methodologies that can be applied to featurized text. \n",
    "\n",
    "<table style=\"width:100%\" align=\"center\">\n",
    "  <tr>\n",
    "    <td><a href=\"https://nltk.org/\"><img src=\"stuffs/NLTK.png\" alt=\"Drawing\" style=\"width: 400px;\"/></a></td>\n",
    "    <td><a href=\"https://scikit-learn.org\"><img src=\"stuffs/365630.png\" alt=\"Drawing\" style=\"width: 600px;\"/></a></td>\n",
    "    <td><a href=\"https://radimrehurek.com/gensim/\"><img src=\"stuffs/gensim.png\" alt=\"Drawing\" style=\"width: 600px;\"/></a><br></td>\n",
    "    <td><h2><a href=\"http://textacy.readthedocs.io/en/latest/api_reference.html\">Textacy</a> built on</h2><a href=\"https://spacy.io\"><img src=\"stuffs/social.jpg\" alt=\"Drawing\" style=\"width: 500px;\"/></a><br><br></td>\n",
    "  </tr>\n",
    "</table>"
   ]
  },
  {
   "cell_type": "markdown",
   "metadata": {},
   "source": [
    "## 6. *Text Normalization* and *Bag of Words (or \"Document Vectorization\")*\n",
    "\n",
    "\n",
    "<table style=\"width:100%\" align=\"left\">\n",
    "  <tr>\n",
    "    <td>\n",
    "    Rather than creating features based on sentence parsing and meaning attribution (which is hard), features can be based on raw vocabularly content (which is easy).  For example, in **understanding how text documents relate to each other**, a seemingly useful feature would measure **how prevalent a particular word is in a document**. Now, not all words are very informative, of course. For example **the word \"the\" probably does not offer much discriminative information** about documents.  And further, **capitalization and conjugation** implies that not all distinctively spelled words should be considered different.  For example, the words \"run\", \"runner\", and \"running\" have a shared discrimintive power relative to the words \"democracy\", \"democratic\", and \"democratization\". Unfortunately, **shared spellings and roots of distinct words convolutes this aggregation process; athough, ([chunking](http://www.nltk.org/book/ch07.html#chunking) and subsequent , [POS tagging](http://www.nltk.org/book/ch05.html) and [entity identification](https://spacy.io/docs/usage/entity-recognition) via semantic parsing can help in removing ambiguity\\***. Chunking itself is the process of partitioning sentences (or other grammer units) based on sentence structure and punctuation, which here serves to highlight and remind us of the necessity of addressing punctuation in NLP context.  \n",
    "    \n",
    "    <br>\n",
    "\n",
    "Determining and executing a course of action based on these considerations is known as *text normalization*. **It is very common to (1) ignore capitalization, (2) remove uninformative words (so-called *stopwords*), and (3) collapse different word variations to a single root via *stemming* or *lemmatization***.  All these procedures serve to reduce the number of so-called *tokens* under consideration which reduces computational demand as well as the eventual number of features under consideration. Stemming transforms words to a \"root\" based on words suffix conjugation rules.  Lemmatization goes further and uses a richer understanding of words and sentence context to reduce words down to their true root, or lemma (law).  While stemming is often sufficient for specific problems, lemmatization is a \"superior\" approach in principal.  Collecting stemmatized or lemmatized \"word\" (or *token*) counts across documents is known as ***Bag-of-Words*; *Binary Bag-of-Words*** is a common alternative which instead indicates a token's presence/absence in a document. **Upweighting uncommon token counts that may be more discrimanative is another very common strategy.  One way to do this is *TF-IDF* in which one weights the *token frequency* according to the *inverse document frequency***. \n",
    "    \n",
    "\n",
    "\n",
    "\n",
    "</td>\n",
    "    <td>\n",
    "\n",
    "\n",
    "<h3>Table of a Common Text Featurization Pipeline</h3>\n",
    "including case irrelevance, stemming, stopword removal, and bag-of-words. A stemming/lemmatization comparision is also given.\n",
    "\n",
    "\n",
    "<table style=\"width:40%\" align=\"left\">\n",
    "<tr>\n",
    "<td>\n",
    "\n",
    "\n",
    "\n",
    "<table style=\"width:20%\" align=\"left\">\n",
    "<tr>\n",
    "    <th>Document:1</th>\n",
    "    <th>Document:2</th>\n",
    "    <th>Stopwords</th>\n",
    "</tr>\n",
    "<tr>\n",
    "    <td>Now is the time for all good men to come to the aid of their party</td>\n",
    "    <td>The quick brown fox jumped over the lazy dog's back</td>\n",
    "    <td>\n",
    "<table style=\"width:100%\" align=\"left\">\n",
    "<tr><td>for</td></tr>\n",
    "<tr><td>is</td></tr>\n",
    "<tr><td>of</td></tr>\n",
    "<tr><td>the</td></tr>\n",
    "<tr><td>to</td></tr>\n",
    "</table>\n",
    "    </td>\n",
    "</tr>\n",
    "\n",
    "\n",
    "<tr><th>Original</th><th>Lemmatized</th><th>Stemmed</th></tr>\n",
    "<tr><td>goose</td><td>goose</td><td>goos</td></tr>\n",
    "<tr><td>geese</td><td>goose</td><td>gees</td></tr>\n",
    "<tr><td>generations</td><td>generation</td><td>gener</td></tr>\n",
    "<tr><td>generals</td><td>general</td><td>gener</td></tr>\n",
    "<tr><td>several</td><td>several</td><td>sever</td></tr>\n",
    "<tr><td>severity</td><td>severe</td><td>sever</td></tr>\n",
    "\n",
    "<tr>There are four subtables here. Left to right, top to bottom, they are (A) two \"documents\", (B) \"Stopwords\" that are ignored, (C) example differences between stemming and lemmatization, and (D) term frequencies for the two documents (counts which happen to be 0/1). </tr>\n",
    "\n",
    "</table>\n",
    "\n",
    "\n",
    "\n",
    "\n",
    "</td>\n",
    "\n",
    "\n",
    "\n",
    "<td>\n",
    "\n",
    "<table style=\"width:100%\" align=\"left\">\n",
    "    <tr><th>Token</th><th>Doc:1</th><th>Doc:2</th></tr>\n",
    "    <tr><td>aid</td><td>0</td><td>1</td></tr>\n",
    "    <tr><td>all</td><td>0</td><td>1</td></tr>\n",
    "    <tr><td>back</td><td>1</td><td>0</td></tr>\n",
    "    <tr><td>brown</td><td>1</td><td>0</td></tr>\n",
    "    <tr><td>come</td><td>0</td><td>1</td></tr>\n",
    "    <tr><td>dog</td><td>1</td><td>0</td></tr>\n",
    "    <tr><td>fox</td><td>1</td><td>0</td></tr>\n",
    "    <tr><td>good</td><td>0</td><td>1</td></tr>\n",
    "    <tr><td>jump</td><td>1</td><td>0</td></tr>\n",
    "    <tr><td>lazy</td><td>1</td><td>0</td></tr>\n",
    "    <tr><td>men</td><td>0</td><td>1</td></tr>\n",
    "    <tr><td>now</td><td>0</td><td>1</td></tr>\n",
    "    <tr><td>over</td><td>1</td><td>0</td></tr>\n",
    "    <tr><td>party</td><td>0</td><td>1</td></tr>\n",
    "    <tr><td>quick</td><td>1</td><td>0</td></tr>\n",
    "    <tr><td>their</td><td>0</td><td>1</td></tr>\n",
    "    <tr><td>time</td><td>0</td><td>1</td></tr>\n",
    "</table>\n",
    "\n",
    "\n",
    "\n",
    "\n",
    "\n",
    "     </td>\n",
    "  </tr>\n",
    "</table>\n",
    "</table>\n",
    "\n",
    "<br>\n",
    "\\*The [spaCy](https://spacy.io/docs/usage/pos-tagging) library is particularly oriented towards effectively leveraging this capability. Relevantly, these steps ([chunking](http://www.nltk.org/book/ch07.html#chunking), [POS tagging](http://www.nltk.org/book/ch05.html), and [entity identification](https://spacy.io/docs/usage/entity-recognition)) can themselves can be addressed using either [rule-based or machine learning methologies](http://www.nltk.org/book/ch06.html#part-of-speech-tagging), but we do not examine these problems further here.  \n",
    "\n",
    "\n",
    "#### Remember that [nltk](https://nltk.org/), [scikit-learn](https://scikit-learn.org), [gensim](https://radimrehurek.com/gensim/), [Textacy](http://textacy.readthedocs.io/en/latest/api_reference.html) and [spaCy](https://spacy.io) provide interfaces/tools to accomplish text normalization and featurization tasks.  \n",
    "\n",
    "<br>"
   ]
  },
  {
   "cell_type": "markdown",
   "metadata": {},
   "source": [
    "## 7. Document Similarity (for clustering and nearest neighbor appliations)\n",
    "\n",
    "Vectorizing documents (e.g., via TF-IDF) permits the application of distance measures between documents. The idea is to create a featurization process that produces similar vectors $A$ and $B$ for \"similar\" documents.  The distance measure often used is *cosine similarity* -- the cosine of the angle $\\theta$ between the vectors:\n",
    "$$Cos(\\theta) = \\frac{A\\cdot B}{||A||_2 ||B||_2}$$\n",
    "\n",
    "Even though the dimension of the document vector space may be large (e.g., as determined by the size -- the number of unique tokens -- of the *vocabulary*), comparing *normalized* vectors, e.g. via the L1 (restricting the vector to the simplex) or L2 norm (as used in cosine similarity), restricts the space to a manifold in which the notion of \"neighborhood\" is somewhat robust to the *curse of dimensionality*.  Using meaningful and robust distance measures (such as cosine similarity) between documents enables the applicability of distance based machine learning methodologies such as hierarchical clustering and K-nearest neighbor prediction.   "
   ]
  },
  {
   "cell_type": "code",
   "execution_count": 1,
   "metadata": {
    "collapsed": true
   },
   "outputs": [],
   "source": [
    "import numpy as np\n",
    "import pandas as pd\n",
    "import pickle\n",
    "import codecs\n",
    "\n",
    "from nltk.stem.wordnet import WordNetLemmatizer\n",
    "from nltk.stem.porter import PorterStemmer\n",
    "import nltk\n",
    "\n",
    "from sklearn.feature_extraction.text import CountVectorizer\n",
    "from sklearn.feature_extraction.text import TfidfTransformer"
   ]
  },
  {
   "cell_type": "code",
   "execution_count": 2,
   "metadata": {
    "collapsed": true
   },
   "outputs": [],
   "source": [
    "rooter_method = \"stem\"\n",
    "stemmer = PorterStemmer() \n",
    "rooter_method = \"lemmatize\"\n",
    "lemmatizer = WordNetLemmatizer()  \n",
    "\n",
    "def root_tokens(tokens, rooter=WordNetLemmatizer(), rooter_method=\"lemmatize\"):\n",
    "    rooted = []\n",
    "    for item in tokens:\n",
    "        rooted.append(getattr(rooter, rooter_method)(item))\n",
    "    return rooted\n",
    "\n",
    "def tokenize(text):\n",
    "    tokens = nltk.word_tokenize(text)\n",
    "    roots = root_tokens(tokens)\n",
    "    return roots"
   ]
  },
  {
   "cell_type": "code",
   "execution_count": 3,
   "metadata": {
    "collapsed": true
   },
   "outputs": [],
   "source": [
    "jokes = pickle.load(open('data/galvanize-jester-dataset-case-study/jester_jokes.pkl'))"
   ]
  },
  {
   "cell_type": "code",
   "execution_count": 4,
   "metadata": {
    "collapsed": false
   },
   "outputs": [],
   "source": [
    "count_vect = CountVectorizer(tokenizer=tokenize, stop_words='english')\n",
    "X_train_counts = count_vect.fit_transform(jokes)\n",
    "\n",
    "tfidf_transformer = TfidfTransformer().fit(X_train_counts)\n",
    "X_train_tfidf = tfidf_transformer.transform(X_train_counts)\n",
    "cosine_similarity = X_train_tfidf.dot(X_train_tfidf.T)\n",
    "cosine_similarity = cosine_similarity.todense()\n",
    "np.fill_diagonal(cosine_similarity,0)"
   ]
  },
  {
   "cell_type": "code",
   "execution_count": 5,
   "metadata": {
    "collapsed": true
   },
   "outputs": [],
   "source": [
    "most_similar = cosine_similarity.argmax(axis=0).tolist()[0]\n",
    "most_similar_score = cosine_similarity.max(axis=0).tolist()[0]"
   ]
  },
  {
   "cell_type": "code",
   "execution_count": 6,
   "metadata": {
    "collapsed": false
   },
   "outputs": [
    {
     "name": "stdout",
     "output_type": "stream",
     "text": [
      "\n",
      "<><><><><><><><><><><><><><><><><><><><><><><><><><><><><><><>\n",
      "\n",
      "How many feminists does it take to screw in a light bulb?\n",
      "\n",
      "That's not funny.\n",
      "\n",
      "---------------------- IS 0.56 SIMILAR TO --------------------\n",
      "\n",
      "How many men does it take to screw in a light bulb?\n",
      "\n",
      "One. Men will screw anything.\n",
      "\n",
      "<><><><><><><><><><><><><><><><><><><><><><><><><><><><><><><>\n",
      "\n",
      "\n",
      "A man piloting a hot air balloon discovers he has wandered off course and is hopelessly lost. He descends to a lower altitude and locates a man down on the ground. He lowers the balloon further and shouts, \"Excuse me, can you tell me where I am?\"\n",
      "\n",
      "The man below says, \"Yes, you're in a hot air balloon, about 30 feet above this field.\"\n",
      "\n",
      "\"You must work in Information Technology,\" says the balloonist.\n",
      "\n",
      "\"Yes I do,\" replies the man. \"And how did you know that?\"\n",
      "\n",
      "\"Well,\" says the balloonist, \"what you told me is technically correct, but of no use to anyone.\"\n",
      "\n",
      "The man below says, \"You must work in management.\"\n",
      "\n",
      "\"I do,\" replies the balloonist, \"how did you know?\"\n",
      "\n",
      "\"Well,\" says the man, \"you don't know where you are, or where you're going, but you expect my immediate help. You're in the same position you were before we met, but now it's my fault!\"\n",
      "\n",
      "---------------------- IS 0.65 SIMILAR TO --------------------\n",
      "\n",
      "A man in a hot air balloon realized he was lost. He reduced altitude and spotted a woman below.\n",
      "\n",
      "He descended a bit more and shouted, \"Excuse me, can you help me? I promised a friend I would meet him an hour ago, but I don't know where I am.\"\n",
      "\n",
      "The woman below replied, \"You are in a hot air balloon hovering approximately 30 feet above the ground. You are between 40 and 41 degrees north latitude and between 59 and 60 degrees west longitude.\"\n",
      "\n",
      "\"You must be an engineer,\" said the balloonist.\n",
      "\n",
      "\"I am,\" replied the woman. \"How did you know?\"\n",
      "\n",
      "\"Well,\" answered the balloonist, \"everything you told me is technically correct, but I have no idea what to make of your information, and the fact is, I am still lost. Frankly, you've not been much help so far.\"\n",
      "\n",
      "The woman below responded, \"You must be in management.\"\n",
      "\n",
      "\"I am,\" replied the balloonist, \"but how did you know?\" \n",
      "\n",
      "\"Well,\" said the woman, \"you don't know where you are or where you are going. You have risen to where you are due to a large quantity of hot air. You made a promise that you have no idea how to keep, and you expect people beneath you to solve your problems. The fact is, you are in exactly the same position you were in before we met, but now, somehow, it's my fault!\"\n",
      "\n",
      "<><><><><><><><><><><><><><><><><><><><><><><><><><><><><><><>\n",
      "\n",
      "\n",
      "The new employee stood before the paper shredder looking confused.\n",
      "\n",
      "\"Need some help?\" a secretary asked.\n",
      "\n",
      "\"Yes,\" he replied. \"How does this thing work?\"\n",
      "\n",
      "\"Simple,\" she said, taking the fat report from his hand and feeding it into the shredder.\n",
      "\n",
      "\"Thanks, but where do the copies come out?\"\n",
      "\n",
      "---------------------- IS 0.98 SIMILAR TO --------------------\n",
      "\n",
      "The new employee stood before the paper shredder looking confused. \"Need some help?\" a secretary, walking by, asked. \"Yes,\" he replied, \"how does this thing work?\" \"Simple,\" she said, taking the fat report from his hand and feeding it into the shredder.\n",
      "\n",
      "\"Thanks, but where do the copies come out?\"\n",
      "\n",
      "<><><><><><><><><><><><><><><><><><><><><><><><><><><><><><><>\n",
      "\n",
      "\n"
     ]
    }
   ],
   "source": [
    "compared = []\n",
    "print \"\\n<><><><><><><><><><><><><><><><><><><><><><><><><><><><><><><>\\n\"\n",
    "for i in range(150):\n",
    "    if most_similar_score[i] > .55 and set((i,most_similar[i])) not in compared:\n",
    "        compared.append(set((i,most_similar[i])))\n",
    "        print jokes[i] + \"\\n\"\n",
    "        print \"---------------------- IS \" + str(round(most_similar_score[i], 2)) + \" SIMILAR TO --------------------\\n\"\n",
    "        print jokes[most_similar[i]] + \"\\n\\n<><><><><><><><><><><><><><><><><><><><><><><><><><><><><><><>\\n\\n\""
   ]
  },
  {
   "cell_type": "markdown",
   "metadata": {},
   "source": [
    "## 8. Topic Modeling"
   ]
  },
  {
   "cell_type": "markdown",
   "metadata": {},
   "source": [
    "### Text"
   ]
  },
  {
   "cell_type": "code",
   "execution_count": 8,
   "metadata": {
    "collapsed": true
   },
   "outputs": [],
   "source": [
    "import textacy\n",
    "\n",
    "from scipy.cluster import hierarchy as hc\n",
    "import matplotlib.pyplot as plt\n",
    "%matplotlib inline"
   ]
  },
  {
   "cell_type": "code",
   "execution_count": 9,
   "metadata": {
    "collapsed": false
   },
   "outputs": [],
   "source": [
    "path = 'data/employee_amend_data/exhibits'\n",
    "amendment_name = [f.replace(\"\\n\",\"\") for f in open(path+'/data_list.txt')]\n",
    "amendment_text = []\n",
    "for f in amendment_name:\n",
    "    tmp = \"\".join(open(path+f).readlines())\n",
    "    amendment_text.append(\"\".join(c for c in tmp if ord(c) < 128).replace(\"\\n\",\" \"))  \n",
    "amendment_name = [\"_\".join(f.replace(\"/\",\"_\").split(\"_\")[2:4]) for f in amendment_name]"
   ]
  },
  {
   "cell_type": "code",
   "execution_count": 10,
   "metadata": {
    "collapsed": false
   },
   "outputs": [
    {
     "data": {
      "text/plain": [
       "' ex-10.18 2 dex1018.htm employment agreement - james e. fickenscher  employment agreement - james e. fickenscher exhibit 10.18  amended and restated employment agreement  this amended and restated employment agreement (this agreement) is entered into this 23rd day of december, 2010 by and between au'"
      ]
     },
     "execution_count": 10,
     "metadata": {},
     "output_type": "execute_result"
    }
   ],
   "source": [
    "amendment_text[0][0:300]"
   ]
  },
  {
   "cell_type": "markdown",
   "metadata": {},
   "source": [
    "### Preprocess"
   ]
  },
  {
   "cell_type": "code",
   "execution_count": 11,
   "metadata": {
    "collapsed": false
   },
   "outputs": [],
   "source": [
    "amendment_text = [unicode(doc, \"utf-8\") for doc in amendment_text]\n",
    "amendment_text = [textacy.preprocess.preprocess_text(doc, no_punct=True, fix_unicode=True, transliterate=True, \n",
    "                  no_urls=True, no_emails=True, no_phone_numbers=True, no_numbers=True, \n",
    "                  no_currency_symbols=True, no_contractions=True, no_accents=True) \n",
    "                  for doc in amendment_text]"
   ]
  },
  {
   "cell_type": "code",
   "execution_count": 12,
   "metadata": {
    "collapsed": false
   },
   "outputs": [
    {
     "data": {
      "text/plain": [
       "u'exNUMBER NUMBER dex1018htm employment agreement james e fickenscher employment agreement james e fickenscher exhibit NUMBER amended and restated employment agreement this amended and restated employment agreement this agreement is entered into this 23rd day of december NUMBER by and between auxilium'"
      ]
     },
     "execution_count": 12,
     "metadata": {},
     "output_type": "execute_result"
    }
   ],
   "source": [
    "amendment_text[0][0:300]"
   ]
  },
  {
   "cell_type": "markdown",
   "metadata": {},
   "source": [
    "### Lemmatize"
   ]
  },
  {
   "cell_type": "code",
   "execution_count": 13,
   "metadata": {
    "collapsed": false
   },
   "outputs": [],
   "source": [
    "amendment_corpus = textacy.Corpus(u'en', texts=amendment_text, metadatas=amendment_name)\n",
    "amendment_text = [ \" \".join(doc.to_terms_list(ngrams=1, normalize='lemma', named_entities=True, as_strings=True)) \n",
    "                            for doc in amendment_corpus]"
   ]
  },
  {
   "cell_type": "code",
   "execution_count": 14,
   "metadata": {
    "collapsed": false
   },
   "outputs": [
    {
     "data": {
      "text/plain": [
       "u'number 23rd day of december number section 280 g of the internal revenue code of number number third one one numberyear section29 number number number annual usdnumber annual fiscal year fiscal year number number less than five numberweeks number number anumber annual annual two fiscal year fiscal y'"
      ]
     },
     "execution_count": 14,
     "metadata": {},
     "output_type": "execute_result"
    }
   ],
   "source": [
    "amendment_text[0][0:300]"
   ]
  },
  {
   "cell_type": "markdown",
   "metadata": {},
   "source": [
    "### Vectorize"
   ]
  },
  {
   "cell_type": "code",
   "execution_count": 15,
   "metadata": {
    "collapsed": false
   },
   "outputs": [
    {
     "name": "stdout",
     "output_type": "stream",
     "text": [
      "(104, 4430)\n"
     ]
    }
   ],
   "source": [
    "count_vect = CountVectorizer(tokenizer=tokenize, stop_words='english')\n",
    "amendment_BoW = count_vect.fit_transform(amendment_text)\n",
    "print amendment_BoW.shape\n",
    "\n",
    "tfidf_transformer = TfidfTransformer().fit(amendment_BoW)\n",
    "amendment_tfidf = tfidf_transformer.transform(amendment_BoW)\n",
    "amendment_cosine_similarity = amendment_tfidf.dot(amendment_tfidf.T)\n",
    "amendment_cosine_similarity = amendment_cosine_similarity.todense()\n",
    "np.fill_diagonal(amendment_cosine_similarity, 1)"
   ]
  },
  {
   "cell_type": "code",
   "execution_count": 16,
   "metadata": {
    "collapsed": false
   },
   "outputs": [],
   "source": [
    "amendment_terms_lists = (doc.to_terms_list(ngrams=1, normalize='lemma', named_entities=True, as_strings=True) \n",
    "                         for doc in amendment_corpus)\n",
    "amendment_term_matrix, amendment_id2term = textacy.vsm.doc_term_matrix(amendment_terms_lists, weighting='tfidf', \n",
    "                                                                       normalize=True, smooth_idf=True, min_df=3, \n",
    "                                                                       max_df=0.95, max_n_terms=100000)"
   ]
  },
  {
   "cell_type": "markdown",
   "metadata": {},
   "source": [
    "### Hierarchical Clustering (cosine similarity)"
   ]
  },
  {
   "cell_type": "code",
   "execution_count": 17,
   "metadata": {
    "collapsed": false
   },
   "outputs": [
    {
     "data": {
      "image/png": "[encoded data removed]",
      "text/plain": [
       "<matplotlib.figure.Figure at 0x11fe50050>"
      ]
     },
     "metadata": {},
     "output_type": "display_data"
    }
   ],
   "source": [
    "amendment_dists = hc.distance.squareform(1-amendment_cosine_similarity)\n",
    "z = hc.linkage(amendment_dists, method='average')\n",
    "plt.figure(figsize=[18,6])\n",
    "dendrogram = hc.dendrogram(z, labels=amendment_name, leaf_font_size=10)\n",
    "plt.show()"
   ]
  },
  {
   "cell_type": "markdown",
   "metadata": {},
   "source": [
    "### Bag of Words Principal Components Analysis (PCA)"
   ]
  },
  {
   "cell_type": "code",
   "execution_count": 18,
   "metadata": {
    "collapsed": false
   },
   "outputs": [
    {
     "data": {
      "image/png": "[encoded data removed]",
      "text/plain": [
       "<matplotlib.figure.Figure at 0x194b45e90>"
      ]
     },
     "metadata": {},
     "output_type": "display_data"
    },
    {
     "data": {
      "image/png": "[encoded data removed]",
      "text/plain": [
       "<matplotlib.figure.Figure at 0x194b45790>"
      ]
     },
     "metadata": {},
     "output_type": "display_data"
    }
   ],
   "source": [
    "U, s, VT = np.linalg.svd(amendment_tfidf.todense())\n",
    "\n",
    "plt.figure(figsize=[18, 2])\n",
    "pc_a=0\n",
    "pc_b=1\n",
    "plt.plot(s.cumsum()/s.cumsum()[-1])\n",
    "\n",
    "plt.figure(figsize=[18, 8])\n",
    "plt.plot(U[:, pc_a], U[:, pc_b], color='w')\n",
    "colr = ['red']*72 + ['blue']*32\n",
    "for i in range(104):\n",
    "    plt.text(U[i, pc_a], U[i, pc_b], amendment_name[i], color = colr[i])"
   ]
  },
  {
   "cell_type": "markdown",
   "metadata": {},
   "source": [
    "### Bag of Words Non-negative Matrix Factorization (NMF)"
   ]
  },
  {
   "cell_type": "code",
   "execution_count": 22,
   "metadata": {
    "collapsed": false
   },
   "outputs": [
    {
     "data": {
      "text/plain": [
       "<matplotlib.axes._subplots.AxesSubplot at 0x193e5f0d0>"
      ]
     },
     "execution_count": 22,
     "metadata": {},
     "output_type": "execute_result"
    },
    {
     "data": {
      "image/png": "[encoded data removed]",
      "text/plain": [
       "<matplotlib.figure.Figure at 0x121fbb650>"
      ]
     },
     "metadata": {},
     "output_type": "display_data"
    }
   ],
   "source": [
    "model = textacy.tm.TopicModel('nmf', n_topics=20)\n",
    "model.fit(amendment_term_matrix)\n",
    "model.termite_plot(amendment_term_matrix, amendment_id2term, topics=-1,  n_terms=10, sort_terms_by='seriation')"
   ]
  },
  {
   "cell_type": "markdown",
   "metadata": {},
   "source": [
    "### Bag of Words Latent Dirichlet Allocation (LDA) "
   ]
  },
  {
   "cell_type": "code",
   "execution_count": 23,
   "metadata": {
    "collapsed": true
   },
   "outputs": [],
   "source": [
    "from gensim.corpora import Dictionary, MmCorpus\n",
    "from gensim.models.ldamulticore import LdaMulticore\n",
    "\n",
    "from gensim.models import Phrases\n",
    "from gensim.models.word2vec import LineSentence\n",
    "\n",
    "#pip install pyldavis\n",
    "import pyLDAvis\n",
    "import pyLDAvis.gensim\n",
    "import warnings"
   ]
  },
  {
   "cell_type": "code",
   "execution_count": 25,
   "metadata": {
    "collapsed": false
   },
   "outputs": [],
   "source": [
    "f = open('amendment_tokens.txt', 'w+')\n",
    "for d in amendment_text:\n",
    "    f.write(d + \"\\n\")\n",
    "f.close()"
   ]
  },
  {
   "cell_type": "code",
   "execution_count": 26,
   "metadata": {
    "collapsed": false
   },
   "outputs": [],
   "source": [
    "amendment_dictionary = Dictionary(LineSentence(\"amendment_tokens.txt\"))\n",
    "amendment_dictionary.filter_extremes(no_below=10, no_above=.4)\n",
    "amendment_dictionary.filter_n_most_frequent(300)\n",
    "amendment_dictionary.compactify()\n",
    "#amendment_dictionary.save(\"amendment_dictionary.txt\")\n",
    "#amendment_dictionary = Dictionary.load(\"amendment_dictionary.txt\")"
   ]
  },
  {
   "cell_type": "code",
   "execution_count": 27,
   "metadata": {
    "collapsed": false
   },
   "outputs": [
    {
     "data": {
      "text/html": [
       "\n",
       "<link rel=\"stylesheet\" type=\"text/css\" href=\"https://cdn.rawgit.com/bmabey/pyLDAvis/files/ldavis.v1.0.0.css\">\n",
       "\n",
       "\n",
       "<div id=\"ldavis_el2589153143787044775798887\"></div>\n",
       "<script type=\"text/javascript\">\n",
       "\n",
       "var ldavis_el2589153143787044775798887_data = {\"plot.opts\": {\"xlab\": \"PC1\", \"ylab\": \"PC2\"}, \"topic.order\": [4, 5, 1, 6, 3, 2], \"token.table\": {\"Topic\": [1, 2, 3, 4, 5, 1, 2, 3, 4, 5, 1, 2, 3, 4, 5, 1, 2, 3, 4, 5, 1, 2, 3, 4, 5, 1, 2, 3, 4, 5, 1, 2, 3, 4, 5, 1, 2, 3, 4, 5, 1, 2, 3, 4, 1, 2, 3, 4, 1, 2, 3, 4, 5, 1, 2, 3, 4, 5, 1, 2, 3, 4, 5, 1, 2, 3, 4, 5, 1, 2, 3, 4, 5, 1, 2, 3, 4, 1, 2, 3, 4, 5, 6, 1, 2, 3, 4, 5, 1, 2, 3, 4, 5, 1, 2, 3, 4, 5, 1, 2, 3, 4, 5, 1, 2, 3, 4, 5, 1, 2, 3, 4, 5, 1, 2, 3, 4, 5, 1, 2, 3, 4, 5, 6, 1, 2, 3, 4, 5, 1, 2, 3, 4, 5, 1, 2, 3, 4, 5, 1, 2, 3, 4, 5, 1, 2, 3, 4, 5, 1, 2, 3, 4, 5, 6, 1, 2, 3, 4, 5, 1, 2, 3, 4, 5, 1, 2, 3, 4, 5, 1, 2, 3, 4, 1, 2, 3, 4, 5, 1, 2, 3, 4, 5, 1, 2, 3, 4, 5, 1, 2, 3, 4, 5, 1, 2, 3, 4, 5, 1, 2, 3, 4, 5, 1, 2, 3, 4, 1, 2, 3, 4, 5, 1, 2, 3, 4, 1, 2, 3, 4, 5, 1, 2, 3, 4, 5, 1, 2, 3, 4, 5, 1, 2, 3, 4, 1, 2, 3, 4, 5, 1, 2, 3, 4, 5, 1, 2, 3, 4, 5, 1, 2, 3, 4, 5, 1, 2, 3, 4, 5, 1, 2, 3, 4, 5, 1, 2, 3, 4, 5, 6, 1, 2, 3, 4, 5, 1, 2, 3, 4, 5, 1, 2, 3, 4, 5, 6, 1, 2, 3, 4, 5, 3, 4, 1, 2, 3, 4, 5, 1, 2, 3, 4, 5, 1, 2, 3, 4, 1, 2, 3, 4, 5, 1, 2, 3, 4, 5, 1, 2, 3, 4, 5, 1, 2, 3, 4, 5, 1, 2, 3, 4, 1, 2, 3, 4, 5, 6, 1, 2, 3, 4, 5, 1, 2, 3, 4, 5, 1, 2, 3, 4, 1, 2, 3, 4, 1, 2, 3, 4, 5, 1, 2, 3, 4, 5, 1, 2, 3, 4, 5, 1, 2, 3, 4, 5, 1, 2, 3, 4, 5, 6, 1, 2, 3, 4, 5, 1, 2, 3, 4, 5, 6, 1, 2, 3, 4, 5, 1, 2, 3, 4, 1, 2, 3, 4, 5, 1, 2, 3, 4, 5, 1, 2, 3, 4, 5, 1, 2, 3, 4, 5, 6, 1, 2, 3, 4, 5, 1, 2, 3, 4, 5, 1, 2, 3, 4, 5, 1, 2, 3, 4, 5, 1, 2, 3, 4, 5, 1, 2, 3, 4, 5, 1, 2, 3, 4, 5, 1, 2, 3, 4, 5, 1, 2, 3, 4, 5, 1, 2, 3, 4, 5, 1, 2, 3, 4, 5, 1, 2, 3, 4, 5, 6, 1, 2, 3, 4, 5, 1, 2, 3, 4, 5, 1, 2, 3, 4, 5, 1, 2, 3, 4, 5, 1, 2, 3, 4, 5, 1, 2, 3, 4, 5, 1, 2, 3, 4, 5, 1, 2, 3, 4, 5, 1, 2, 3, 4, 5, 1, 2, 3, 4, 1, 2, 3, 4, 5, 1, 2, 3, 4, 5, 1, 2, 3, 4, 1, 2, 3, 4, 5, 1, 2, 3, 4, 5, 1, 2, 3, 4, 5, 1, 2, 3, 4, 5, 1, 2, 3, 4, 5, 1, 2, 3, 4, 5, 1, 2, 3, 4, 5, 1, 2, 3, 4, 5, 1, 2, 3, 4, 5, 1, 2, 3, 4, 5, 1, 2, 3, 4, 5, 1, 2, 3, 4, 5, 1, 2, 3, 4, 5, 1, 2, 3, 4, 5, 1, 2, 3, 4, 5, 1, 2, 3, 4, 5, 6, 1, 2, 3, 4, 5, 1, 2, 3, 4, 5, 1, 2, 3, 4, 5, 1, 2, 3, 4, 5, 1, 2, 3, 4, 5, 1, 2, 3, 4, 5, 1, 2, 3, 4, 5, 1, 2, 3, 4, 5, 1, 2, 3, 4, 5, 1, 2, 3, 4, 1, 2, 3, 4, 5, 1, 2, 3, 4, 5, 1, 2, 3, 4, 5, 1, 2, 3, 4, 5, 1, 2, 3, 4, 5, 1, 2, 3, 4, 5, 1, 2, 3, 4, 5, 6, 1, 2, 3, 4, 5, 1, 2, 3, 4, 5, 6, 1, 2, 3, 4, 5, 1, 2, 3, 4, 5, 1, 2, 3, 4, 5, 6, 1, 2, 3, 5, 1, 2, 3, 4, 5, 1, 2, 3, 4, 5, 1, 2, 3, 1, 2, 3, 4, 5, 1, 2, 3, 4, 5, 1, 2, 3, 4, 5, 1, 2, 3, 4, 5, 1, 2, 3, 4, 5, 1, 2, 3, 4, 5, 1, 2, 3, 4, 5, 6, 1, 2, 3, 4, 5, 1, 2, 3, 4, 5, 1, 2, 3, 4, 5, 1, 2, 3, 4, 5, 1, 2, 3, 4, 5, 1, 2, 3, 4, 5, 1, 2, 3, 4, 5, 6, 1, 2, 3, 4, 5, 1, 2, 3, 4, 5, 1, 2, 3, 4, 5, 1, 2, 3, 4, 5, 1, 2, 3, 4, 5, 1, 2, 3, 4, 5, 1, 2, 3, 4, 5, 1, 2, 3, 4, 5, 1, 2, 3, 4, 5, 1, 2, 3, 4, 5, 6, 1, 2, 3, 4, 5, 1, 2, 3, 4, 5, 1, 2, 3, 1, 2, 3, 4, 5, 1, 2, 3, 4, 5, 1, 2, 3, 4, 5, 1, 2, 3, 4, 5, 1, 2, 3, 4, 5, 1, 2, 3, 4, 5, 1, 2, 3, 4, 1, 2, 3, 4, 5, 1, 2, 3, 4, 5, 1, 2, 3, 4, 5, 1, 2, 3, 4, 5, 1, 2, 3, 4, 5, 1, 2, 3, 4, 5, 1, 2, 3, 4, 5, 1, 2, 3, 4, 1, 2, 3, 4, 5, 1, 2, 3, 4, 5, 6, 1, 2, 3, 4, 5, 1, 2, 3, 4, 5, 1, 2, 3, 4, 5, 6, 1, 2, 3, 4, 5, 1, 2, 3, 4, 5, 1, 2, 3, 4, 5, 1, 2, 3, 4, 5, 1, 2, 3, 4, 5, 1, 2, 3, 4, 5, 1, 2, 3, 4, 5, 1, 2, 3, 4, 5, 6, 1, 2, 3, 4, 5, 1, 2, 3, 4, 5, 1, 2, 3, 4, 5, 1, 2, 3, 4, 5, 6, 1, 2, 3, 4, 5, 1, 2, 3, 4, 5, 1, 2, 3, 4, 5, 1, 2, 3, 4, 5, 1, 2, 3, 4, 5, 1, 2, 3, 4, 5, 1, 2, 3, 4, 5, 1, 2, 3, 4, 5, 1, 2, 3, 4, 5, 1, 2, 3, 4, 5, 1, 2, 3, 4, 5, 1, 2, 3, 4, 5, 1, 2, 3, 4, 5, 1, 2, 3, 4, 5, 1, 2, 3, 4, 5, 1, 2, 3, 4, 5, 1, 2, 3, 4, 5, 1, 2, 3, 4, 5, 1, 2, 3, 4, 5, 1, 2, 3, 4, 5, 1, 2, 3, 4, 5, 1, 2, 3, 4, 5, 6, 1, 2, 3, 4, 5, 1, 2, 3, 4, 5, 1, 2, 3, 4, 5, 1, 2, 3, 4, 5, 1, 2, 3, 4, 5, 1, 2, 3, 4, 5, 1, 2, 3, 4, 5], \"Freq\": [0.031420987539975138, 0.69126172587945311, 0.062841975079950277, 0.18852592523985084, 0.031420987539975138, 0.07325434903076844, 0.29301739612307376, 0.21976304709230532, 0.29301739612307376, 0.14650869806153688, 0.073916250685524904, 0.22174875205657468, 0.51741375479867424, 0.14783250137104981, 0.073916250685524904, 0.31918703011161814, 0.14508501368709917, 0.20311901916193884, 0.29017002737419834, 0.058034005474839667, 0.57800669963115336, 0.068000788191900405, 0.2040023645757012, 0.1020011822878506, 0.034000394095950202, 0.48248938571456201, 0.11696712380959079, 0.17545068571438618, 0.19007157619058504, 0.029241780952397697, 0.31221382867553948, 0.43709936014575529, 0.10407127622517984, 0.062442765735107902, 0.08325702098014387, 0.12730968001275986, 0.05092387200510394, 0.73839614407400711, 0.05092387200510394, 0.05092387200510394, 0.44381628095272063, 0.088763256190544121, 0.17752651238108824, 0.26628976857163239, 0.47252069885297876, 0.15750689961765957, 0.15750689961765957, 0.23626034942648938, 0.298879120625822, 0.059775824125164398, 0.1195516482503288, 0.41843076887615077, 0.059775824125164398, 0.45246659736415695, 0.11311664934103924, 0.16967497401155887, 0.16967497401155887, 0.056558324670519619, 0.084900446271618094, 0.084900446271618094, 0.59430312390132667, 0.16980089254323619, 0.084900446271618094, 0.070536810753992527, 0.28214724301597011, 0.49375767527794762, 0.14107362150798505, 0.070536810753992527, 0.16149074283344447, 0.2422361142501667, 0.32298148566688895, 0.16149074283344447, 0.16149074283344447, 0.11058320506908245, 0.11058320506908245, 0.66349923041449477, 0.11058320506908245, 0.45545697735050999, 0.1230964803650027, 0.27081225680300597, 0.1230964803650027, 0.036928944109500809, 0.012309648036500271, 0.12396023132155444, 0.20660038553592408, 0.49584092528621776, 0.12396023132155444, 0.041320077107184813, 0.25397225775833787, 0.050794451551667577, 0.10158890310333515, 0.50794451551667574, 0.050794451551667577, 0.52649933742783761, 0.15042838212223933, 0.15042838212223933, 0.15042838212223933, 0.018803547765279916, 0.30548393971548282, 0.39276506534847788, 0.13092168844949265, 0.043640562816497544, 0.087281125632995088, 0.50233556321178308, 0.11960370552661502, 0.16744518773726103, 0.14352444663193803, 0.023920741105323003, 0.3886906884372715, 0.3886906884372715, 0.097172672109317876, 0.048586336054658938, 0.097172672109317876, 0.34423387983724302, 0.43029234979655379, 0.086058469959310754, 0.043029234979655377, 0.086058469959310754, 0.45692883215824531, 0.10626251910656867, 0.21252503821313734, 0.18064628248116674, 0.042505007642627469, 0.010626251910656867, 0.4110164252130849, 0.30285420805174673, 0.10816221716133813, 0.064897330296802877, 0.086529773729070503, 0.1839979355950499, 0.27599690339257488, 0.27599690339257488, 0.1839979355950499, 0.09199896779752495, 0.26835180862350333, 0.067087952155875832, 0.13417590431175166, 0.46961566509113084, 0.067087952155875832, 0.28522607652912962, 0.14261303826456481, 0.28522607652912962, 0.21391955739684723, 0.071306519132282406, 0.16406889462591165, 0.13125511570072931, 0.098441336775546992, 0.59064802065328192, 0.032813778925182328, 0.54958701217460115, 0.095414411835868254, 0.22517801193264908, 0.095414411835868254, 0.02671603531404311, 0.0076331529468694603, 0.093737461141967918, 0.23434365285491979, 0.46868730570983957, 0.093737461141967918, 0.046868730570983959, 0.34003653623998376, 0.068007307247996751, 0.068007307247996751, 0.40804384348798051, 0.068007307247996751, 0.31471702253519107, 0.40463617183095996, 0.089919149295768885, 0.044959574647884443, 0.13487872394365333, 0.20851849508893125, 0.48654315520750629, 0.13901233005928751, 0.13901233005928751, 0.21374481349397545, 0.17099585079518037, 0.12824688809638526, 0.4274896269879509, 0.042748962698795093, 0.54622173425872467, 0.13655543356468117, 0.13655543356468117, 0.13655543356468117, 0.068277716782340583, 0.29122940967156119, 0.41257499703471168, 0.1213455873631505, 0.048538234945260196, 0.097076469890520392, 0.38834916675156134, 0.059746025654086363, 0.089619038481129537, 0.41822217957860452, 0.029873012827043181, 0.17113185019410956, 0.17113185019410956, 0.42782962548527392, 0.17113185019410956, 0.085565925097054782, 0.40252555724809852, 0.061927008807399771, 0.15481752201849944, 0.34059854844069876, 0.030963504403699885, 0.12479582845882391, 0.12479582845882391, 0.62397914229411955, 0.12479582845882391, 0.2856465207521795, 0.3457826303842173, 0.15034027408009448, 0.075170137040047241, 0.13530624667208505, 0.27033305861365642, 0.090111019537885487, 0.45055509768942742, 0.090111019537885487, 0.51260028362151777, 0.12204768657655185, 0.17086676120717259, 0.17086676120717259, 0.02440953731531037, 0.27381249459880358, 0.37912499252142035, 0.14743749709166348, 0.063187498753570062, 0.12637499750714012, 0.27624937137246858, 0.41437405705870284, 0.13812468568623429, 0.069062342843117144, 0.092083123790822854, 0.29006937234954883, 0.072517343087387207, 0.50762140161171043, 0.072517343087387207, 0.24202028517517851, 0.060505071293794628, 0.18151521388138389, 0.48404057035035702, 0.060505071293794628, 0.30018895813260388, 0.42884136876086265, 0.085768273752172539, 0.042884136876086269, 0.085768273752172539, 0.015656112688281761, 0.20352946494766291, 0.56362005677814342, 0.14090501419453585, 0.062624450753127045, 0.5571786133626726, 0.10130520242957684, 0.20261040485915369, 0.10130520242957684, 0.050652601214788422, 0.11682617957366272, 0.19471029928943784, 0.54518883801042595, 0.077884119715775135, 0.077884119715775135, 0.53968005448869405, 0.083027700690568307, 0.20756925172642077, 0.12454155103585246, 0.041513850345284153, 0.50879680583621911, 0.05814820638128218, 0.159907567548526, 0.23259282552512872, 0.02907410319064109, 0.014537051595320545, 0.3374707330295964, 0.38148865472910898, 0.13205376509853772, 0.058690562266016766, 0.088035843399025149, 0.5799276382951547, 0.068226780975900556, 0.1705669524397514, 0.13645356195180111, 0.034113390487950278, 0.49333925146189295, 0.11546237800171963, 0.1994350165484248, 0.14695211745673406, 0.031489739455014445, 0.010496579818338148, 0.32441836409902569, 0.37076384468460083, 0.1390364417567253, 0.092690961171150207, 0.1390364417567253, 0.55979116599574563, 0.33587469959744737, 0.32354872325741818, 0.45296821256038544, 0.12941948930296726, 0.12941948930296726, 0.064709744651483631, 0.29765225001700274, 0.41671315002380388, 0.1190609000068011, 0.059530450003400549, 0.1190609000068011, 0.45635846596746621, 0.091271693193493236, 0.18254338638698647, 0.091271693193493236, 0.51872843667144897, 0.094314261212990719, 0.18862852242598144, 0.14147139181948606, 0.047157130606495359, 0.16999786350339499, 0.24083030662980956, 0.19833084075396082, 0.32582923838150707, 0.056665954501131661, 0.28601478853056189, 0.17160887311833714, 0.40042070394278667, 0.08580443655916857, 0.028601478853056191, 0.34657724851101784, 0.36823832654295646, 0.10830539015969308, 0.064983234095815856, 0.086644312127754461, 0.21670330054403938, 0.10835165027201969, 0.65010990163211813, 0.10835165027201969, 0.41189432228448858, 0.13180618313103634, 0.28008813915345221, 0.13180618313103634, 0.032951545782759085, 0.016475772891379543, 0.30651383796571685, 0.15325691898285843, 0.25542819830476404, 0.15325691898285843, 0.10217127932190563, 0.59924378653918642, 0.049936982211598868, 0.1498109466347966, 0.1498109466347966, 0.049936982211598868, 0.13371702873805191, 0.066858514369025956, 0.33429257184512978, 0.40115108621415574, 0.40628767071415883, 0.20314383535707942, 0.20314383535707942, 0.20314383535707942, 0.50563636710797855, 0.13384492070505313, 0.17845989427340417, 0.14871657856117015, 0.014871657856117016, 0.5288541517981471, 0.068980976321497453, 0.22993658773832484, 0.11496829386916242, 0.022993658773832484, 0.33513158345108729, 0.35607730741678023, 0.14662006775985068, 0.062837171897078867, 0.10472861982846478, 0.0488419774819501, 0.53726175230145101, 0.1465259324458503, 0.1953679099278004, 0.0488419774819501, 0.4041096905422103, 0.067351615090368383, 0.050513711317776287, 0.43778549808739448, 0.033675807545184192, 0.016837903772592096, 0.53109537164508636, 0.10621907432901728, 0.15932861149352592, 0.15932861149352592, 0.053109537164508641, 0.4459541165216222, 0.11148852913040555, 0.20067935243473001, 0.20067935243473001, 0.044595411652162222, 0.022297705826081111, 0.060603715555743537, 0.2020123851858118, 0.26261610074155534, 0.42422600889020479, 0.060603715555743537, 0.095639833876005081, 0.19127966775201016, 0.57383900325603054, 0.19127966775201016, 0.50421615557638788, 0.065060149106630688, 0.19518044731989209, 0.17891541004323441, 0.048795111829973023, 0.45151127644741096, 0.075251879407901831, 0.22575563822370548, 0.15050375881580366, 0.075251879407901831, 0.38863512140800938, 0.34772616125979788, 0.081817920296423027, 0.081817920296423027, 0.081817920296423027, 0.47258317778960768, 0.10671233046862109, 0.24391389821399106, 0.13720156774536998, 0.030489237276748883, 0.015244618638374442, 0.55144967262537237, 0.11028993452507448, 0.16543490178761172, 0.16543490178761172, 0.055144967262537238, 0.19900432033040039, 0.13266954688693361, 0.099502160165200193, 0.49751080082600097, 0.033167386721733402, 0.467129209620673, 0.089832540311667888, 0.1616985725610022, 0.25153111287267005, 0.035933016124667157, 0.54591831281314451, 0.060657590312571605, 0.18197277093771483, 0.12131518062514321, 0.060657590312571605, 0.25337885769701174, 0.47508535818189701, 0.095017071636379402, 0.063344714424252935, 0.095017071636379402, 0.080352355972636125, 0.28123324590422644, 0.20088088993159031, 0.40176177986318062, 0.040176177986318062, 0.052923788118225387, 0.15877136435467618, 0.6350854574187047, 0.10584757623645077, 0.052923788118225387, 0.34579397324458233, 0.25934547993343676, 0.21612123327786395, 0.043224246655572791, 0.12967273996671838, 0.21381187204917268, 0.10690593602458634, 0.17817656004097723, 0.42762374409834536, 0.071270624016390893, 0.065131816383006191, 0.35460655586303375, 0.22434292309702134, 0.27500100250602616, 0.086842421844008269, 0.12058492108639014, 0.16077989478185353, 0.16077989478185353, 0.52253465804102395, 0.080389947390926766, 0.31260870933417972, 0.42549518770485573, 0.10420290311139324, 0.069468602074262156, 0.095519327852110467, 0.0086835752592827695, 0.54768761101847918, 0.10953752220369585, 0.2190750444073917, 0.10953752220369585, 0.054768761101847925, 0.10642737654021821, 0.25542570369652368, 0.34056760492869825, 0.19156927777239277, 0.085141901232174563, 0.38178514550898235, 0.12726171516966078, 0.25452343033932157, 0.19089257275449117, 0.063630857584830391, 0.17757086549831494, 0.49325240416198596, 0.1578407693318355, 0.1578407693318355, 0.019730096166479437, 0.30005678701133459, 0.41546324355415559, 0.13848774785138521, 0.046162582617128398, 0.092325165234256795, 0.34641240124493061, 0.34641240124493061, 0.086603100311232653, 0.086603100311232653, 0.12990465046684899, 0.4087414571299568, 0.29520216348274658, 0.090831434917768183, 0.068123576188326138, 0.11353929364721023, 0.20953528513463765, 0.20953528513463765, 0.18334337449280794, 0.31430292770195645, 0.078575731925489112, 0.33072324964492966, 0.33072324964492966, 0.13228929985797186, 0.06614464992898593, 0.13228929985797186, 0.097020481470433045, 0.097020481470433045, 0.48510240735216525, 0.19404096294086609, 0.175016433390113, 0.087508216695056498, 0.52504930017033891, 0.087508216695056498, 0.087508216695056498, 0.32139376666747316, 0.12052266250030243, 0.14060977291701951, 0.3615679875009073, 0.040174220833434145, 0.51548233794350151, 0.085913722990583585, 0.17182744598116717, 0.085913722990583585, 0.31803597287120183, 0.34075282807628771, 0.15901798643560092, 0.068150565615257536, 0.090867420820343381, 0.50167112979290229, 0.13201871836655324, 0.21122994938648518, 0.10561497469324259, 0.052807487346621294, 0.21770263485880242, 0.11610807192469462, 0.52974307815641919, 0.10885131742940121, 0.029027017981173655, 0.37193024905472627, 0.35005199911033064, 0.131269499666374, 0.04375649988879133, 0.10939124972197832, 0.046141804746607784, 0.4614180474660779, 0.23070902373303895, 0.13842541423982335, 0.092283609493215568, 0.14717302764609794, 0.14717302764609794, 0.62548536749591621, 0.036793256911524484, 0.036793256911524484, 0.38282606699402533, 0.095706516748506332, 0.287119550245519, 0.1435597751227595, 0.047853258374253166, 0.155867670329082, 0.1948345879113525, 0.155867670329082, 0.42863609340497549, 0.077933835164540999, 0.34522902301101133, 0.38358780334556813, 0.095896950836392034, 0.076717560669113616, 0.095896950836392034, 0.35973248440554717, 0.31476592385485375, 0.13489968165208019, 0.089933121101386793, 0.13489968165208019, 0.48797395378855557, 0.13137760294307266, 0.18768228991867522, 0.15014583193494019, 0.037536457983735047, 0.59305038874177207, 0.098841731456962012, 0.19768346291392402, 0.098841731456962012, 0.049420865728481006, 0.36442727725255342, 0.31887386759598424, 0.091106819313138354, 0.091106819313138354, 0.13666022896970753, 0.063613738299949707, 0.76336485959939637, 0.063613738299949707, 0.063613738299949707, 0.063613738299949707, 0.42918034750691564, 0.1287541042520747, 0.21459017375345782, 0.17167213900276626, 0.042918034750691565, 0.36563725199509739, 0.031794543651747602, 0.063589087303495204, 0.47691815477621402, 0.031794543651747602, 0.015897271825873801, 0.29334419195367534, 0.15529986632841636, 0.20706648843788847, 0.27608865125051796, 0.069022162812629489, 0.097355337166433742, 0.097355337166433742, 0.48677668583216871, 0.19471067433286748, 0.097355337166433742, 0.2844544830298758, 0.17778405189367238, 0.071113620757468951, 0.39112491416607925, 0.071113620757468951, 0.48057896022867935, 0.09241903081320757, 0.24028948011433968, 0.14787044930113211, 0.055451418487924536, 0.32754803953335954, 0.40943504941669945, 0.12283051482500983, 0.081887009883339884, 0.081887009883339884, 0.074443969154734474, 0.074443969154734474, 0.74443969154734468, 0.074443969154734474, 0.074443969154734474, 0.30483635426341155, 0.38612604873365464, 0.12193454170536462, 0.081289694470243076, 0.10161211808780385, 0.069988553357042696, 0.23329517785680898, 0.41993132014225615, 0.23329517785680898, 0.046659035571361793, 0.44504413033979945, 0.074174021723299913, 0.12980453801577485, 0.3152395923240246, 0.018543505430824978, 0.26800175291698963, 0.067000438229247408, 0.067000438229247408, 0.53600350583397927, 0.54919384940125193, 0.11768439630026827, 0.19614066050044712, 0.11768439630026827, 0.039228132100089422, 0.24046766493139055, 0.16647761418327039, 0.14798010149624033, 0.36995025374060087, 0.073990050748120165, 0.37230582237224419, 0.26593273026588871, 0.10637309210635548, 0.053186546053177741, 0.15955963815953322, 0.35947592123091932, 0.32352832910782736, 0.089868980307729829, 0.10784277636927579, 0.10784277636927579, 0.24471011694827483, 0.15294382309267177, 0.26000449925754199, 0.24471011694827483, 0.091766293855603059, 0.34577758766772659, 0.34577758766772659, 0.086444396916931648, 0.086444396916931648, 0.086444396916931648, 0.46205491281654337, 0.25356672044810308, 0.095791872169283379, 0.045078528079662769, 0.13523558423898832, 0.011269632019915692, 0.40751617324724371, 0.36870510912845861, 0.07762212823757024, 0.058216596178177676, 0.07762212823757024, 0.40093862644134737, 0.28746543027870186, 0.14373271513935093, 0.060519037953410917, 0.098343436674292739, 0.0075648797441763647, 0.13288022513254338, 0.19932033769881508, 0.28790715445384402, 0.31005385864260121, 0.066440112566271692, 0.077660626255749085, 0.23298187876724724, 0.54362438379024358, 0.15532125251149817, 0.077660626255749085, 0.51047144838495151, 0.10209428967699029, 0.18150095942576053, 0.15881333949754045, 0.034031429892330101, 0.011343809964110033, 0.076616294427938103, 0.076616294427938103, 0.76616294427938103, 0.076616294427938103, 0.052450564559356601, 0.15735169367806981, 0.62940677471227924, 0.1049011291187132, 0.052450564559356601, 0.52171301376328094, 0.099373907383482091, 0.17390433792109367, 0.17390433792109367, 0.024843476845870523, 0.1280454781379558, 0.1280454781379558, 0.76827286882773482, 0.15903567665854945, 0.15903567665854945, 0.15903567665854945, 0.43734811081101099, 0.079517838329274726, 0.32474389732077458, 0.38969267678492947, 0.10824796577359151, 0.064948779464154907, 0.10824796577359151, 0.36625810959574084, 0.32556276408510298, 0.081390691021275746, 0.081390691021275746, 0.12208603653191362, 0.26116876566033287, 0.065292191415083217, 0.17411251044022191, 0.45704533990558255, 0.043528127610055478, 0.35562668639446027, 0.1123031641245664, 0.20588913422837174, 0.26204071629065495, 0.056151582062283198, 0.080547569466346197, 0.75177731501923117, 0.1073967592884616, 0.040273784733173099, 0.0134245949110577, 0.43625612041772005, 0.10264849892181649, 0.26945230966976824, 0.14114168601749766, 0.038493187095681183, 0.012831062365227061, 0.56425435692746095, 0.086808362604224767, 0.19531881585950572, 0.13021254390633716, 0.021702090651056192, 0.14563106150487046, 0.29126212300974091, 0.4186893018265026, 0.10922329612865285, 0.054611648064326425, 0.35499210299958872, 0.31061809012464014, 0.13312203862484578, 0.08874802574989718, 0.13312203862484578, 0.57039532047173136, 0.11407906409434626, 0.17111859614151939, 0.11407906409434626, 0.05703953204717313, 0.28556832383275588, 0.36715927349925753, 0.18357963674962877, 0.1019886870831271, 0.040795474833250835, 0.063246093148531163, 0.25298437259412465, 0.44272265203971817, 0.12649218629706233, 0.094869139722796758, 0.52209994300888041, 0.080323068155212368, 0.22758202643976838, 0.12048460223281855, 0.040161534077606184, 0.013387178025868729, 0.54697122240546225, 0.10939424448109245, 0.21878848896218489, 0.16409136672163868, 0.054697122240546223, 0.54262439456467337, 0.10852487891293466, 0.162787318369402, 0.162787318369402, 0.054262439456467332, 0.23747428504974399, 0.23747428504974399, 0.118737142524872, 0.41557999883705199, 0.059368571262435998, 0.355472341716841, 0.27647848800198743, 0.11849078057228034, 0.11849078057228034, 0.11849078057228034, 0.54899789664909271, 0.12669182230363679, 0.16892242973818239, 0.12669182230363679, 0.042230607434545597, 0.31852929071313141, 0.40347043490329981, 0.10617643023771048, 0.06370585814262629, 0.10617643023771048, 0.55693245145518122, 0.079561778779311615, 0.23868533633793484, 0.079561778779311615, 0.079561778779311615, 0.28368742405475605, 0.44579452351461663, 0.12158032459489544, 0.04052677486496515, 0.081053549729930299, 0.46916792431636012, 0.13404797837610291, 0.24128636107698523, 0.13404797837610291, 0.026809595675220579, 0.37063036916631475, 0.32430157302052542, 0.10810052434017514, 0.061771728194385797, 0.12354345638877159, 0.015442932048596449, 0.15132848620324998, 0.15132848620324998, 0.50442828734416656, 0.10088565746883332, 0.10088565746883332, 0.19866380972330563, 0.19866380972330563, 0.44699357187743766, 0.099331904861652817, 0.049665952430826409, 0.07222136158354571, 0.07222136158354571, 0.79443497741900282, 0.53281868932945464, 0.071042491910593961, 0.17760622977648491, 0.14208498382118792, 0.03552124595529698, 0.14415662702767104, 0.096104418018447366, 0.28831325405534208, 0.43246988108301315, 0.048052209009223683, 0.27883105118167945, 0.11153242047267178, 0.11153242047267178, 0.44612968189068714, 0.055766210236335892, 0.14731168399650865, 0.14731168399650865, 0.26516103119371554, 0.35354804159162073, 0.088387010397905183, 0.46043192190452598, 0.11510798047613149, 0.23021596095226299, 0.15347730730150866, 0.038369326825377165, 0.28987709288498953, 0.42366652037036928, 0.11149118957114981, 0.089192951656919844, 0.089192951656919844, 0.22097561364976867, 0.073658537883256228, 0.073658537883256228, 0.51560976518279356, 0.45514640529411871, 0.085339950992647254, 0.270243178143383, 0.15645657681985331, 0.028446650330882419, 0.5903298836245553, 0.068114986572064079, 0.15893496866814952, 0.13622997314412816, 0.02270499552402136, 0.16444836917166064, 0.21143361750642084, 0.23492624167380091, 0.30540411417594121, 0.09397049666952037, 0.48993878182433642, 0.11306279580561611, 0.11306279580561611, 0.22612559161123222, 0.037687598601872034, 0.56388791826886586, 0.056388791826886588, 0.22555516730754635, 0.11277758365377318, 0.056388791826886588, 0.57011386729528302, 0.10365706678096055, 0.18139986686668094, 0.12957133347620067, 0.025914266695240138, 0.50494185269605152, 0.12623546317401288, 0.18935319476101933, 0.12623546317401288, 0.06311773158700644, 0.51574585648828164, 0.10314917129765633, 0.20629834259531266, 0.10314917129765633, 0.37294323783280181, 0.0810746169201743, 0.38915816121683666, 0.097289540304209166, 0.032429846768069717, 0.34750107834696781, 0.35689299938337232, 0.11270305243685443, 0.056351526218427213, 0.12209497347325896, 0.0093919210364045349, 0.094745319332485506, 0.18949063866497101, 0.37898127732994202, 0.18949063866497101, 0.18949063866497101, 0.1052195981599135, 0.42087839263965399, 0.26304899539978377, 0.052609799079956748, 0.1052195981599135, 0.30285320947887451, 0.35196454074571903, 0.13914877192272615, 0.06548177502245936, 0.13914877192272615, 0.00818522187780742, 0.17505118368777253, 0.26772533975776974, 0.32950811047110123, 0.12356554142666296, 0.092674156069997224, 0.31361238431697436, 0.40321592269325274, 0.08960353837627838, 0.04480176918813919, 0.13440530756441757, 0.38236683150159284, 0.33738249838375839, 0.11246083279458613, 0.067476499676751678, 0.11246083279458613, 0.225246781178365, 0.096534334790727858, 0.19306866958145572, 0.41831545075982068, 0.032178111596909288, 0.31939474744681401, 0.36502256851064457, 0.091255642127661143, 0.045627821063830572, 0.13688346319149172, 0.32153993627906663, 0.38584792353487996, 0.10717997875968888, 0.064307987255813326, 0.10717997875968888, 0.086869639924083419, 0.17373927984816684, 0.086869639924083419, 0.52121783954450052, 0.086869639924083419, 0.30927202093657064, 0.21030497423686803, 0.22267585507433085, 0.18556321256194236, 0.061854404187314124, 0.012370880837462826, 0.40927328199602897, 0.20463664099801449, 0.20463664099801449, 0.13642442733200966, 0.068212213666004828, 0.061794447349896517, 0.27807501307453436, 0.40166390777432737, 0.1544861183747413, 0.061794447349896517, 0.41329259144844754, 0.1180835975566993, 0.26568809450257341, 0.16236494664046153, 0.029520899389174824, 0.46957951742066545, 0.11269908418095971, 0.20661498766509281, 0.16904862627143957, 0.037566361393653235, 0.018783180696826617, 0.077089340268999301, 0.43683959485766266, 0.20557157405066478, 0.23126802080699788, 0.051392893512666196, 0.17216175836175507, 0.17216175836175507, 0.086080879180877534, 0.47344483549482641, 0.043040439590438767, 0.4253387158402569, 0.12760161475207707, 0.21266935792012845, 0.17013548633610276, 0.04253387158402569, 0.33109062566555442, 0.33109062566555442, 0.12415898462458291, 0.082772656416388604, 0.12415898462458291, 0.31490111133927584, 0.31490111133927584, 0.15745055566963792, 0.07872527783481896, 0.11808791675222843, 0.2815563002974088, 0.42233445044611317, 0.1407781501487044, 0.046926050049568131, 0.093852100099136263, 0.3528317261053, 0.14701321921054167, 0.23522115073686667, 0.20581850689475834, 0.029402643842108334, 0.31600237593108105, 0.36461812607432431, 0.1215393753581081, 0.072923625214864854, 0.1215393753581081, 0.30358477544056667, 0.43369253634366667, 0.1301077609031, 0.043369253634366667, 0.086738507268733334, 0.23375376473624268, 0.28050451768349122, 0.11687688236812134, 0.32725527063073973, 0.046750752947248536, 0.32733948016468051, 0.40917435020585063, 0.081834870041170127, 0.040917435020585063, 0.081834870041170127, 0.40278777740310506, 0.16111511096124204, 0.20139388870155253, 0.16111511096124204, 0.040278777740310509, 0.29926363853390686, 0.38476753525788027, 0.12825584508596008, 0.085503896723973391, 0.085503896723973391, 0.25665053408253885, 0.17110035605502591, 0.17110035605502591, 0.25665053408253885, 0.085550178027512955, 0.16187955820584868, 0.080939779102924339, 0.16187955820584868, 0.56657845372047033, 0.080939779102924339, 0.14056951777940208, 0.14056951777940208, 0.14056951777940208, 0.49199331222790732, 0.070284758889701038, 0.54862847572752604, 0.14630092686067361, 0.14630092686067361, 0.14630092686067361, 0.036575231715168403, 0.15156155702832788, 0.15156155702832788, 0.15156155702832788, 0.45468467108498362, 0.050520519009442627, 0.34852326296830044, 0.40661047346301721, 0.08713081574207511, 0.058087210494716747, 0.08713081574207511, 0.33146449752890728, 0.41433062191113407, 0.082866124382226819, 0.082866124382226819, 0.082866124382226819, 0.2887014639377749, 0.16038970218765272, 0.2245455830627138, 0.2245455830627138, 0.064155880875061091, 0.3736587982171069, 0.34874821166929976, 0.11209763946513207, 0.049821173095614256, 0.10586999282818028, 0.006227646636951782, 0.24917708190271065, 0.44851874742487918, 0.099670832761084266, 0.049835416380542133, 0.099670832761084266, 0.11093650343678658, 0.088749202749429268, 0.19968570618621587, 0.55468251718393291, 0.022187300687357317, 0.20264429651147395, 0.13509619767431597, 0.47283669186010591, 0.20264429651147395, 0.067548098837157983, 0.093819555683366113, 0.28145866705009837, 0.5003709636446193, 0.062546370455577413, 0.062546370455577413, 0.31975262803396054, 0.41111052175794932, 0.091357893723988726, 0.045678946861994363, 0.091357893723988726, 0.35952737492602715, 0.31458645306027377, 0.13482276559726017, 0.044940921865753394, 0.13482276559726017, 0.36796087583169396, 0.32196576635273222, 0.091990218957923489, 0.045995109478961745, 0.13798532843688524], \"Term\": [\"12month\", \"12month\", \"12month\", \"12month\", \"12month\", \"15th\", \"15th\", \"15th\", \"15th\", \"15th\", \"abide\", \"abide\", \"abide\", \"abide\", \"abide\", \"absolute\", \"absolute\", \"absolute\", \"absolute\", \"absolute\", \"acceptance\", \"acceptance\", \"acceptance\", \"acceptance\", \"acceptance\", \"access\", \"access\", \"access\", \"access\", \"access\", \"accident\", \"accident\", \"accident\", \"accident\", \"accident\", \"accountant\", \"accountant\", \"accountant\", \"accountant\", \"accountant\", \"adam\", \"adam\", \"adam\", \"adam\", \"adams\", \"adams\", \"adams\", \"adams\", \"advancement\", \"advancement\", \"advancement\", \"advancement\", \"advancement\", \"advise\", \"advise\", \"advise\", \"advise\", \"advise\", \"agreementthis\", \"agreementthis\", \"agreementthis\", \"agreementthis\", \"agreementthis\", \"allow\", \"allow\", \"allow\", \"allow\", \"allow\", \"alternative\", \"alternative\", \"alternative\", \"alternative\", \"alternative\", \"ambiguity\", \"ambiguity\", \"ambiguity\", \"ambiguity\", \"analogous\", \"analogous\", \"analogous\", \"analogous\", \"analogous\", \"analogous\", \"and\", \"and\", \"and\", \"and\", \"and\", \"annualized\", \"annualized\", \"annualized\", \"annualized\", \"annualized\", \"anumber\", \"anumber\", \"anumber\", \"anumber\", \"anumber\", \"apart\", \"apart\", \"apart\", \"apart\", \"apart\", \"appointment\", \"appointment\", \"appointment\", \"appointment\", \"appointment\", \"approved\", \"approved\", \"approved\", \"approved\", \"approved\", \"aprovide\", \"aprovide\", \"aprovide\", \"aprovide\", \"aprovide\", \"assigns\", \"assigns\", \"assigns\", \"assigns\", \"assigns\", \"assigns\", \"assist\", \"assist\", \"assist\", \"assist\", \"assist\", \"assurance\", \"assurance\", \"assurance\", \"assurance\", \"assurance\", \"assure\", \"assure\", \"assure\", \"assure\", \"assure\", \"attach\", \"attach\", \"attach\", \"attach\", \"attach\", \"authorized\", \"authorized\", \"authorized\", \"authorized\", \"authorized\", \"auxilium\", \"auxilium\", \"auxilium\", \"auxilium\", \"auxilium\", \"auxilium\", \"avoidance\", \"avoidance\", \"avoidance\", \"avoidance\", \"avoidance\", \"away\", \"away\", \"away\", \"away\", \"away\", \"bafford\", \"bafford\", \"bafford\", \"bafford\", \"bafford\", \"balance\", \"balance\", \"balance\", \"balance\", \"believe\", \"believe\", \"believe\", \"believe\", \"believe\", \"body\", \"body\", \"body\", \"body\", \"body\", \"breadth\", \"breadth\", \"breadth\", \"breadth\", \"breadth\", \"bylaw\", \"bylaw\", \"bylaw\", \"bylaw\", \"bylaw\", \"calculation\", \"calculation\", \"calculation\", \"calculation\", \"calculation\", \"carry\", \"carry\", \"carry\", \"carry\", \"carry\", \"charitable\", \"charitable\", \"charitable\", \"charitable\", \"city\", \"city\", \"city\", \"city\", \"city\", \"commitment\", \"commitment\", \"commitment\", \"commitment\", \"communicate\", \"communicate\", \"communicate\", \"communicate\", \"communicate\", \"community\", \"community\", \"community\", \"community\", \"community\", \"compile\", \"compile\", \"compile\", \"compile\", \"compile\", \"conclusive\", \"conclusive\", \"conclusive\", \"conclusive\", \"confirm\", \"confirm\", \"confirm\", \"confirm\", \"confirm\", \"consequential\", \"consequential\", \"consequential\", \"consequential\", \"consequential\", \"constructive\", \"constructive\", \"constructive\", \"constructive\", \"constructive\", \"consumer\", \"consumer\", \"consumer\", \"consumer\", \"consumer\", \"contemplate\", \"contemplate\", \"contemplate\", \"contemplate\", \"contemplate\", \"content\", \"content\", \"content\", \"content\", \"content\", \"contingent\", \"contingent\", \"contingent\", \"contingent\", \"contingent\", \"contingent\", \"continuously\", \"continuously\", \"continuously\", \"continuously\", \"continuously\", \"contribute\", \"contribute\", \"contribute\", \"contribute\", \"contribute\", \"copyright\", \"copyright\", \"copyright\", \"copyright\", \"copyright\", \"copyright\", \"covenantsblue\", \"covenantsblue\", \"covenantsblue\", \"covenantsblue\", \"covenantsblue\", \"criterion\", \"criterion\", \"currently\", \"currently\", \"currently\", \"currently\", \"currently\", \"december5\", \"december5\", \"december5\", \"december5\", \"december5\", \"defamation\", \"defamation\", \"defamation\", \"defamation\", \"defend\", \"defend\", \"defend\", \"defend\", \"defend\", \"defer\", \"defer\", \"defer\", \"defer\", \"defer\", \"deny\", \"deny\", \"deny\", \"deny\", \"deny\", \"derive\", \"derive\", \"derive\", \"derive\", \"derive\", \"desirable\", \"desirable\", \"desirable\", \"desirable\", \"develop\", \"develop\", \"develop\", \"develop\", \"develop\", \"develop\", \"diminution\", \"diminution\", \"diminution\", \"diminution\", \"diminution\", \"discover\", \"discover\", \"discover\", \"discover\", \"discover\", \"discussion\", \"discussion\", \"discussion\", \"discussion\", \"distributable\", \"distributable\", \"distributable\", \"distributable\", \"documentation\", \"documentation\", \"documentation\", \"documentation\", \"documentation\", \"drawing\", \"drawing\", \"drawing\", \"drawing\", \"drawing\", \"eighty\", \"eighty\", \"eighty\", \"eighty\", \"eighty\", \"elapse\", \"elapse\", \"elapse\", \"elapse\", \"elapse\", \"eliminate\", \"eliminate\", \"eliminate\", \"eliminate\", \"eliminate\", \"eliminate\", \"energy\", \"energy\", \"energy\", \"energy\", \"energy\", \"enterprise\", \"enterprise\", \"enterprise\", \"enterprise\", \"enterprise\", \"enterprise\", \"equitybased\", \"equitybased\", \"equitybased\", \"equitybased\", \"equitybased\", \"evaluate\", \"evaluate\", \"evaluate\", \"evaluate\", \"exception\", \"exception\", \"exception\", \"exception\", \"exception\", \"exclusion\", \"exclusion\", \"exclusion\", \"exclusion\", \"exclusion\", \"executivelevel\", \"executivelevel\", \"executivelevel\", \"executivelevel\", \"executivelevel\", \"executor\", \"executor\", \"executor\", \"executor\", \"executor\", \"executor\", \"expedient\", \"expedient\", \"expedient\", \"expedient\", \"expedient\", \"facsimile\", \"facsimile\", \"facsimile\", \"facsimile\", \"facsimile\", \"five\", \"five\", \"five\", \"five\", \"five\", \"focus\", \"focus\", \"focus\", \"focus\", \"focus\", \"foreign\", \"foreign\", \"foreign\", \"foreign\", \"foreign\", \"fraction\", \"fraction\", \"fraction\", \"fraction\", \"fraction\", \"fulltime\", \"fulltime\", \"fulltime\", \"fulltime\", \"fulltime\", \"gerald\", \"gerald\", \"gerald\", \"gerald\", \"gerald\", \"government\", \"government\", \"government\", \"government\", \"government\", \"grossup\", \"grossup\", \"grossup\", \"grossup\", \"grossup\", \"guarantee\", \"guarantee\", \"guarantee\", \"guarantee\", \"guarantee\", \"healthcare\", \"healthcare\", \"healthcare\", \"healthcare\", \"healthcare\", \"healthcare\", \"help\", \"help\", \"help\", \"help\", \"help\", \"high\", \"high\", \"high\", \"high\", \"high\", \"hire\", \"hire\", \"hire\", \"hire\", \"hire\", \"human\", \"human\", \"human\", \"human\", \"human\", \"iian\", \"iian\", \"iian\", \"iian\", \"iian\", \"iieach\", \"iieach\", \"iieach\", \"iieach\", \"iieach\", \"iiian\", \"iiian\", \"iiian\", \"iiian\", \"iiian\", \"iiithe\", \"iiithe\", \"iiithe\", \"iiithe\", \"iiithe\", \"impact\", \"impact\", \"impact\", \"impact\", \"impact\", \"impairment\", \"impairment\", \"impairment\", \"impairment\", \"implement\", \"implement\", \"implement\", \"implement\", \"implement\", \"incorporate\", \"incorporate\", \"incorporate\", \"incorporate\", \"incorporate\", \"insider\", \"insider\", \"insider\", \"insider\", \"interpretive\", \"interpretive\", \"interpretive\", \"interpretive\", \"interpretive\", \"investigation\", \"investigation\", \"investigation\", \"investigation\", \"investigation\", \"involuntary\", \"involuntary\", \"involuntary\", \"involuntary\", \"involuntary\", \"ivfor\", \"ivfor\", \"ivfor\", \"ivfor\", \"ivfor\", \"jam\", \"jam\", \"jam\", \"jam\", \"jam\", \"job\", \"job\", \"job\", \"job\", \"job\", \"jointly\", \"jointly\", \"jointly\", \"jointly\", \"jointly\", \"judicial\", \"judicial\", \"judicial\", \"judicial\", \"judicial\", \"k\", \"k\", \"k\", \"k\", \"k\", \"keyman\", \"keyman\", \"keyman\", \"keyman\", \"keyman\", \"legitimate\", \"legitimate\", \"legitimate\", \"legitimate\", \"legitimate\", \"licensed\", \"licensed\", \"licensed\", \"licensed\", \"licensed\", \"loan\", \"loan\", \"loan\", \"loan\", \"loan\", \"march\", \"march\", \"march\", \"march\", \"march\", \"marketing\", \"marketing\", \"marketing\", \"marketing\", \"marketing\", \"massachusetts\", \"massachusetts\", \"massachusetts\", \"massachusetts\", \"massachusetts\", \"massachusetts\", \"maximum\", \"maximum\", \"maximum\", \"maximum\", \"maximum\", \"medically\", \"medically\", \"medically\", \"medically\", \"medically\", \"meet\", \"meet\", \"meet\", \"meet\", \"meet\", \"memorandum\", \"memorandum\", \"memorandum\", \"memorandum\", \"memorandum\", \"mentally\", \"mentally\", \"mentally\", \"mentally\", \"mentally\", \"misappropriation\", \"misappropriation\", \"misappropriation\", \"misappropriation\", \"misappropriation\", \"money\", \"money\", \"money\", \"money\", \"money\", \"multiply\", \"multiply\", \"multiply\", \"multiply\", \"multiply\", \"mutually\", \"mutually\", \"mutually\", \"mutually\", \"mutually\", \"negotiation\", \"negotiation\", \"negotiation\", \"negotiation\", \"newspaper\", \"newspaper\", \"newspaper\", \"newspaper\", \"newspaper\", \"nonqualified\", \"nonqualified\", \"nonqualified\", \"nonqualified\", \"nonqualified\", \"numberas\", \"numberas\", \"numberas\", \"numberas\", \"numberas\", \"numberconsecutive\", \"numberconsecutive\", \"numberconsecutive\", \"numberconsecutive\", \"numberconsecutive\", \"numberday\", \"numberday\", \"numberday\", \"numberday\", \"numberday\", \"numberfiscal\", \"numberfiscal\", \"numberfiscal\", \"numberfiscal\", \"numberfiscal\", \"numberfull\", \"numberfull\", \"numberfull\", \"numberfull\", \"numberfull\", \"numberfull\", \"numbermiles\", \"numbermiles\", \"numbermiles\", \"numbermiles\", \"numbermiles\", \"numberor\", \"numberor\", \"numberor\", \"numberor\", \"numberor\", \"numberor\", \"numberthe\", \"numberthe\", \"numberthe\", \"numberthe\", \"numberthe\", \"numbertimes\", \"numbertimes\", \"numbertimes\", \"numbertimes\", \"numbertimes\", \"numberyear\", \"numberyear\", \"numberyear\", \"numberyear\", \"numberyear\", \"numberyear\", \"october\", \"october\", \"october\", \"october\", \"onehalf\", \"onehalf\", \"onehalf\", \"onehalf\", \"onehalf\", \"oneyear\", \"oneyear\", \"oneyear\", \"oneyear\", \"oneyear\", \"operational\", \"operational\", \"operational\", \"oral\", \"oral\", \"oral\", \"oral\", \"oral\", \"outplacement\", \"outplacement\", \"outplacement\", \"outplacement\", \"outplacement\", \"overall\", \"overall\", \"overall\", \"overall\", \"overall\", \"overnight\", \"overnight\", \"overnight\", \"overnight\", \"overnight\", \"parachute\", \"parachute\", \"parachute\", \"parachute\", \"parachute\", \"participant\", \"participant\", \"participant\", \"participant\", \"participant\", \"patent\", \"patent\", \"patent\", \"patent\", \"patent\", \"patent\", \"pennsylvania\", \"pennsylvania\", \"pennsylvania\", \"pennsylvania\", \"pennsylvania\", \"percentage\", \"percentage\", \"percentage\", \"percentage\", \"percentage\", \"personam\", \"personam\", \"personam\", \"personam\", \"personam\", \"petition\", \"petition\", \"petition\", \"petition\", \"petition\", \"phd\", \"phd\", \"phd\", \"phd\", \"phd\", \"possible\", \"possible\", \"possible\", \"possible\", \"possible\", \"postpone\", \"postpone\", \"postpone\", \"postpone\", \"postpone\", \"postpone\", \"postponed\", \"postponed\", \"postponed\", \"postponed\", \"postponed\", \"postponement\", \"postponement\", \"postponement\", \"postponement\", \"postponement\", \"prepare\", \"prepare\", \"prepare\", \"prepare\", \"prepare\", \"presumption\", \"presumption\", \"presumption\", \"presumption\", \"presumption\", \"produce\", \"produce\", \"produce\", \"produce\", \"produce\", \"proehl\", \"proehl\", \"proehl\", \"proehl\", \"proehl\", \"promote\", \"promote\", \"promote\", \"promote\", \"promote\", \"proprietorship\", \"proprietorship\", \"proprietorship\", \"proprietorship\", \"proprietorship\", \"protect\", \"protect\", \"protect\", \"protect\", \"protect\", \"pto\", \"pto\", \"pto\", \"pto\", \"pto\", \"pto\", \"rata\", \"rata\", \"rata\", \"rata\", \"rata\", \"recital\", \"recital\", \"recital\", \"recital\", \"recital\", \"recognition\", \"recognition\", \"recognition\", \"recruit\", \"recruit\", \"recruit\", \"recruit\", \"recruit\", \"refuse\", \"refuse\", \"refuse\", \"refuse\", \"refuse\", \"register\", \"register\", \"register\", \"register\", \"register\", \"regular\", \"regular\", \"regular\", \"regular\", \"regular\", \"regulatory\", \"regulatory\", \"regulatory\", \"regulatory\", \"regulatory\", \"relieve\", \"relieve\", \"relieve\", \"relieve\", \"relieve\", \"remaining\", \"remaining\", \"remaining\", \"remaining\", \"renew\", \"renew\", \"renew\", \"renew\", \"renew\", \"renewal\", \"renewal\", \"renewal\", \"renewal\", \"renewal\", \"resolution\", \"resolution\", \"resolution\", \"resolution\", \"resolution\", \"resource\", \"resource\", \"resource\", \"resource\", \"resource\", \"restore\", \"restore\", \"restore\", \"restore\", \"restore\", \"reveal\", \"reveal\", \"reveal\", \"reveal\", \"reveal\", \"rule13dnumber\", \"rule13dnumber\", \"rule13dnumber\", \"rule13dnumber\", \"rule13dnumber\", \"running\", \"running\", \"running\", \"running\", \"sanction\", \"sanction\", \"sanction\", \"sanction\", \"sanction\", \"santarus\", \"santarus\", \"santarus\", \"santarus\", \"santarus\", \"santarus\", \"satisfied\", \"satisfied\", \"satisfied\", \"satisfied\", \"satisfied\", \"satisfy\", \"satisfy\", \"satisfy\", \"satisfy\", \"satisfy\", \"scheduled\", \"scheduled\", \"scheduled\", \"scheduled\", \"scheduled\", \"scheduled\", \"second\", \"second\", \"second\", \"second\", \"second\", \"section1c\", \"section1c\", \"section1c\", \"section1c\", \"section1c\", \"section1d\", \"section1d\", \"section1d\", \"section1d\", \"section1d\", \"section23\", \"section23\", \"section23\", \"section23\", \"section23\", \"section4di\", \"section4di\", \"section4di\", \"section4di\", \"section4di\", \"section4dii\", \"section4dii\", \"section4dii\", \"section4dii\", \"section4dii\", \"section9\", \"section9\", \"section9\", \"section9\", \"section9\", \"seven\", \"seven\", \"seven\", \"seven\", \"seven\", \"seven\", \"show\", \"show\", \"show\", \"show\", \"show\", \"single\", \"single\", \"single\", \"single\", \"single\", \"software\", \"software\", \"software\", \"software\", \"software\", \"specification\", \"specification\", \"specification\", \"specification\", \"specification\", \"specification\", \"statutory\", \"statutory\", \"statutory\", \"statutory\", \"statutory\", \"sufficient\", \"sufficient\", \"sufficient\", \"sufficient\", \"sufficient\", \"supplier\", \"supplier\", \"supplier\", \"supplier\", \"supplier\", \"surrender\", \"surrender\", \"surrender\", \"surrender\", \"surrender\", \"survival\", \"survival\", \"survival\", \"survival\", \"survival\", \"talent\", \"talent\", \"talent\", \"talent\", \"talent\", \"technique\", \"technique\", \"technique\", \"technique\", \"technique\", \"telecopy\", \"telecopy\", \"telecopy\", \"telecopy\", \"telecopy\", \"telex\", \"telex\", \"telex\", \"telex\", \"telex\", \"ten\", \"ten\", \"ten\", \"ten\", \"ten\", \"testamentary\", \"testamentary\", \"testamentary\", \"testamentary\", \"testamentary\", \"timebased\", \"timebased\", \"timebased\", \"timebased\", \"timebased\", \"transferable\", \"transferable\", \"transferable\", \"transferable\", \"transferable\", \"treatment\", \"treatment\", \"treatment\", \"treatment\", \"treatment\", \"unaffected\", \"unaffected\", \"unaffected\", \"unaffected\", \"unaffected\", \"undersign\", \"undersign\", \"undersign\", \"undersign\", \"undersign\", \"undersigned\", \"undersigned\", \"undersigned\", \"undersigned\", \"undersigned\", \"undertaking\", \"undertaking\", \"undertaking\", \"undertaking\", \"undertaking\", \"unexercised\", \"unexercised\", \"unexercised\", \"unexercised\", \"unexercised\", \"unfettered\", \"unfettered\", \"unfettered\", \"unfettered\", \"unfettered\", \"unit\", \"unit\", \"unit\", \"unit\", \"unit\", \"usual\", \"usual\", \"usual\", \"usual\", \"usual\", \"usual\", \"vabove\", \"vabove\", \"vabove\", \"vabove\", \"vabove\", \"w\", \"w\", \"w\", \"w\", \"w\", \"washington\", \"washington\", \"washington\", \"washington\", \"washington\", \"whichever\", \"whichever\", \"whichever\", \"whichever\", \"whichever\", \"xa\", \"xa\", \"xa\", \"xa\", \"xa\", \"xis\", \"xis\", \"xis\", \"xis\", \"xis\", \"zmake\", \"zmake\", \"zmake\", \"zmake\", \"zmake\"]}, \"mdsDat\": {\"y\": [-0.035775022544300698, 0.015677777900628138, 0.02135491010377543, 0.01277251292133042, 0.01085394053051467, -0.024884118911948017], \"cluster\": [1, 1, 1, 1, 1, 1], \"Freq\": [34.705924605032251, 21.143477985244267, 20.887006859587792, 16.434791944647888, 6.2068769084384643, 0.62192169704932532], \"topics\": [1, 2, 3, 4, 5, 6], \"x\": [-0.0088891084890722755, 0.053011132664702761, -0.03014629681313382, -0.058901959755060546, 0.03819296319141377, 0.0067332692011501877]}, \"R\": 30, \"lambda.step\": 0.01, \"tinfo\": {\"Category\": [\"Default\", \"Default\", \"Default\", \"Default\", \"Default\", \"Default\", \"Default\", \"Default\", \"Default\", \"Default\", \"Default\", \"Default\", \"Default\", \"Default\", \"Default\", \"Default\", \"Default\", \"Default\", \"Default\", \"Default\", \"Default\", \"Default\", \"Default\", \"Default\", \"Default\", \"Default\", \"Default\", \"Default\", \"Default\", \"Default\", \"Topic1\", \"Topic1\", \"Topic1\", \"Topic1\", \"Topic1\", \"Topic1\", \"Topic1\", \"Topic1\", \"Topic1\", \"Topic1\", \"Topic1\", \"Topic1\", \"Topic1\", \"Topic1\", \"Topic1\", \"Topic1\", \"Topic1\", \"Topic1\", \"Topic1\", \"Topic1\", \"Topic1\", \"Topic1\", \"Topic1\", \"Topic1\", \"Topic1\", \"Topic1\", \"Topic1\", \"Topic1\", \"Topic1\", \"Topic1\", \"Topic1\", \"Topic1\", \"Topic1\", \"Topic1\", \"Topic1\", \"Topic1\", \"Topic1\", \"Topic1\", \"Topic1\", \"Topic1\", \"Topic1\", \"Topic1\", \"Topic1\", \"Topic1\", \"Topic1\", \"Topic1\", \"Topic1\", \"Topic1\", \"Topic1\", \"Topic1\", \"Topic1\", \"Topic1\", \"Topic1\", \"Topic1\", \"Topic1\", \"Topic1\", \"Topic1\", \"Topic1\", \"Topic1\", \"Topic2\", \"Topic2\", \"Topic2\", \"Topic2\", \"Topic2\", \"Topic2\", \"Topic2\", \"Topic2\", \"Topic2\", \"Topic2\", \"Topic2\", \"Topic2\", \"Topic2\", \"Topic2\", \"Topic2\", \"Topic2\", \"Topic2\", \"Topic2\", \"Topic2\", \"Topic2\", \"Topic2\", \"Topic2\", \"Topic2\", \"Topic2\", \"Topic2\", \"Topic2\", \"Topic2\", \"Topic2\", \"Topic2\", \"Topic2\", \"Topic2\", \"Topic2\", \"Topic2\", \"Topic2\", \"Topic2\", \"Topic2\", \"Topic2\", \"Topic2\", \"Topic2\", \"Topic2\", \"Topic2\", \"Topic2\", \"Topic2\", \"Topic2\", \"Topic2\", \"Topic2\", \"Topic2\", \"Topic2\", \"Topic2\", \"Topic2\", \"Topic2\", \"Topic2\", \"Topic2\", \"Topic3\", \"Topic3\", \"Topic3\", \"Topic3\", \"Topic3\", \"Topic3\", \"Topic3\", \"Topic3\", \"Topic3\", \"Topic3\", \"Topic3\", \"Topic3\", \"Topic3\", \"Topic3\", \"Topic3\", \"Topic3\", \"Topic3\", \"Topic3\", \"Topic3\", \"Topic3\", \"Topic3\", \"Topic3\", \"Topic3\", \"Topic3\", \"Topic3\", \"Topic3\", \"Topic3\", \"Topic3\", \"Topic3\", \"Topic3\", \"Topic3\", \"Topic3\", \"Topic3\", \"Topic3\", \"Topic3\", \"Topic3\", \"Topic3\", \"Topic3\", \"Topic3\", \"Topic3\", \"Topic3\", \"Topic3\", \"Topic3\", \"Topic3\", \"Topic3\", \"Topic3\", \"Topic3\", \"Topic3\", \"Topic3\", \"Topic3\", \"Topic3\", \"Topic3\", \"Topic3\", \"Topic3\", \"Topic3\", \"Topic3\", \"Topic3\", \"Topic3\", \"Topic3\", \"Topic4\", \"Topic4\", \"Topic4\", \"Topic4\", \"Topic4\", \"Topic4\", \"Topic4\", \"Topic4\", \"Topic4\", \"Topic4\", \"Topic4\", \"Topic4\", \"Topic4\", \"Topic4\", \"Topic4\", \"Topic4\", \"Topic4\", \"Topic4\", \"Topic4\", \"Topic4\", \"Topic4\", \"Topic4\", \"Topic4\", \"Topic4\", \"Topic4\", \"Topic4\", \"Topic4\", \"Topic4\", \"Topic4\", \"Topic4\", \"Topic4\", \"Topic4\", \"Topic4\", \"Topic4\", \"Topic4\", \"Topic4\", \"Topic4\", \"Topic4\", \"Topic4\", \"Topic4\", \"Topic4\", \"Topic4\", \"Topic4\", \"Topic4\", \"Topic4\", \"Topic4\", \"Topic4\", \"Topic4\", \"Topic4\", \"Topic4\", \"Topic4\", \"Topic4\", \"Topic4\", \"Topic4\", \"Topic4\", \"Topic5\", \"Topic5\", \"Topic5\", \"Topic5\", \"Topic5\", \"Topic5\", \"Topic5\", \"Topic5\", \"Topic5\", \"Topic5\", \"Topic5\", \"Topic5\", \"Topic5\", \"Topic5\", \"Topic5\", \"Topic5\", \"Topic5\", \"Topic5\", \"Topic5\", \"Topic5\", \"Topic5\", \"Topic5\", \"Topic5\", \"Topic5\", \"Topic5\", \"Topic5\", \"Topic5\", \"Topic5\", \"Topic5\", \"Topic5\", \"Topic5\", \"Topic5\", \"Topic5\", \"Topic5\", \"Topic5\", \"Topic5\", \"Topic5\", \"Topic5\", \"Topic5\", \"Topic5\", \"Topic5\", \"Topic5\", \"Topic5\", \"Topic5\", \"Topic5\", \"Topic5\", \"Topic5\", \"Topic5\", \"Topic5\", \"Topic5\", \"Topic5\", \"Topic5\", \"Topic5\", \"Topic5\", \"Topic6\", \"Topic6\", \"Topic6\", \"Topic6\", \"Topic6\", \"Topic6\", \"Topic6\", \"Topic6\", \"Topic6\", \"Topic6\", \"Topic6\", \"Topic6\", \"Topic6\", \"Topic6\", \"Topic6\", \"Topic6\", \"Topic6\", \"Topic6\", \"Topic6\", \"Topic6\", \"Topic6\", \"Topic6\", \"Topic6\", \"Topic6\", \"Topic6\", \"Topic6\", \"Topic6\", \"Topic6\", \"Topic6\", \"Topic6\", \"Topic6\", \"Topic6\", \"Topic6\", \"Topic6\", \"Topic6\", \"Topic6\", \"Topic6\", \"Topic6\", \"Topic6\", \"Topic6\", \"Topic6\", \"Topic6\", \"Topic6\", \"Topic6\", \"Topic6\", \"Topic6\", \"Topic6\", \"Topic6\", \"Topic6\", \"Topic6\", \"Topic6\", \"Topic6\", \"Topic6\", \"Topic6\", \"Topic6\", \"Topic6\", \"Topic6\", \"Topic6\", \"Topic6\", \"Topic6\"], \"Term\": [\"numberfull\", \"auxilium\", \"usual\", \"scheduled\", \"numberor\", \"santarus\", \"healthcare\", \"numberyear\", \"massachusetts\", \"eliminate\", \"contingent\", \"involuntary\", \"pto\", \"grossup\", \"assigns\", \"seven\", \"patent\", \"postpone\", \"participant\", \"analogous\", \"unexercised\", \"city\", \"copyright\", \"continuously\", \"breadth\", \"specification\", \"numberconsecutive\", \"executor\", \"enterprise\", \"iiian\", \"renewal\", \"discover\", \"licensed\", \"reveal\", \"acceptance\", \"contribute\", \"consumer\", \"postponement\", \"pennsylvania\", \"help\", \"produce\", \"focus\", \"auxilium\", \"petition\", \"recruit\", \"restore\", \"expedient\", \"defend\", \"oneyear\", \"newspaper\", \"undersigned\", \"body\", \"rule13dnumber\", \"drawing\", \"promote\", \"insider\", \"postpone\", \"energy\", \"anumber\", \"postponed\", \"content\", \"contingent\", \"numberyear\", \"exception\", \"documentation\", \"appointment\", \"copyright\", \"numberfull\", \"communicate\", \"access\", \"assigns\", \"protect\", \"legitimate\", \"analogous\", \"executor\", \"memorandum\", \"numberor\", \"renew\", \"patent\", \"usual\", \"specification\", \"five\", \"software\", \"santarus\", \"healthcare\", \"scheduled\", \"develop\", \"involuntary\", \"seven\", \"march\", \"participant\", \"12month\", \"elapse\", \"human\", \"foreign\", \"balance\", \"vabove\", \"jam\", \"currently\", \"accident\", \"statutory\", \"proprietorship\", \"xa\", \"testamentary\", \"telex\", \"iian\", \"unfettered\", \"relieve\", \"healthcare\", \"consequential\", \"satisfy\", \"unexercised\", \"breadth\", \"aprovide\", \"mentally\", \"talent\", \"apart\", \"compile\", \"transferable\", \"proehl\", \"money\", \"continuously\", \"usual\", \"grossup\", \"k\", \"santarus\", \"scheduled\", \"section4dii\", \"outplacement\", \"community\", \"phd\", \"city\", \"numberor\", \"numbermiles\", \"derive\", \"numberfull\", \"second\", \"pto\", \"numberconsecutive\", \"auxilium\", \"executivelevel\", \"seven\", \"recognition\", \"october\", \"accountant\", \"misappropriation\", \"operational\", \"ambiguity\", \"charitable\", \"desirable\", \"fulltime\", \"onehalf\", \"job\", \"criterion\", \"constructive\", \"agreementthis\", \"evaluate\", \"contemplate\", \"involuntary\", \"implement\", \"numbertimes\", \"and\", \"conclusive\", \"abide\", \"impairment\", \"medically\", \"commitment\", \"avoidance\", \"whichever\", \"rata\", \"washington\", \"allow\", \"recital\", \"percentage\", \"multiply\", \"possible\", \"calculation\", \"sanction\", \"deny\", \"second\", \"single\", \"auxilium\", \"high\", \"grossup\", \"analogous\", \"patent\", \"renew\", \"software\", \"develop\", \"assigns\", \"numberday\", \"protect\", \"copyright\", \"seven\", \"executor\", \"postpone\", \"numberor\", \"usual\", \"scheduled\", \"numberyear\", \"numberfull\", \"authorized\", \"w\", \"unaffected\", \"negotiation\", \"section9\", \"remaining\", \"undersign\", \"guarantee\", \"facsimile\", \"annualized\", \"sufficient\", \"massachusetts\", \"assure\", \"confirm\", \"overnight\", \"believe\", \"undertaking\", \"advancement\", \"eliminate\", \"discussion\", \"judicial\", \"oral\", \"equitybased\", \"section23\", \"register\", \"away\", \"government\", \"refuse\", \"bylaw\", \"prepare\", \"fraction\", \"nonqualified\", \"incorporate\", \"meet\", \"defer\", \"grossup\", \"mutually\", \"ten\", \"regular\", \"maximum\", \"numberthe\", \"carry\", \"numberday\", \"contingent\", \"parachute\", \"resolution\", \"auxilium\", \"five\", \"assigns\", \"iiithe\", \"seven\", \"numberyear\", \"copyright\", \"involuntary\", \"access\", \"numberas\", \"satisfied\", \"december5\", \"loan\", \"zmake\", \"city\", \"alternative\", \"15th\", \"numberfull\", \"scheduled\", \"section4di\", \"section1c\", \"community\", \"overall\", \"diminution\", \"gerald\", \"iieach\", \"numberfiscal\", \"personam\", \"pto\", \"impact\", \"xis\", \"satisfy\", \"telecopy\", \"assurance\", \"bafford\", \"covenantsblue\", \"surrender\", \"santarus\", \"keyman\", \"survival\", \"numberconsecutive\", \"usual\", \"iiian\", \"numberor\", \"outplacement\", \"healthcare\", \"second\", \"grossup\", \"section1d\", \"ivfor\", \"section4dii\", \"proehl\", \"unexercised\", \"eighty\", \"numberday\", \"interpretive\", \"continuously\", \"breadth\", \"accident\", \"money\", \"k\", \"auxilium\", \"seven\", \"marketing\", \"adam\", \"adams\", \"advise\", \"numberas\", \"running\", \"attach\", \"breadth\", \"presumption\", \"numberfull\", \"enterprise\", \"show\", \"treatment\", \"unit\", \"timebased\", \"defamation\", \"resource\", \"absolute\", \"technique\", \"exclusion\", \"acceptance\", \"jointly\", \"distributable\", \"regulatory\", \"bylaw\", \"hire\", \"investigation\", \"numberyear\", \"approved\", \"personam\", \"specification\", \"contingent\", \"eliminate\", \"supplier\", \"iiian\", \"auxilium\", \"pto\", \"telecopy\", \"seven\", \"scheduled\", \"massachusetts\", \"patent\", \"santarus\", \"postpone\", \"analogous\", \"assigns\", \"numberor\", \"develop\", \"usual\", \"executor\", \"five\", \"copyright\", \"healthcare\", \"software\", \"assist\", \"unexercised\", \"continuously\", \"access\", \"city\", \"protect\"], \"loglift\": [30.0, 29.0, 28.0, 27.0, 26.0, 25.0, 24.0, 23.0, 22.0, 21.0, 20.0, 19.0, 18.0, 17.0, 16.0, 15.0, 14.0, 13.0, 12.0, 11.0, 10.0, 9.0, 8.0, 7.0, 6.0, 5.0, 4.0, 3.0, 2.0, 1.0, 0.53779999999999994, 0.52249999999999996, 0.50619999999999998, 0.4985, 0.49070000000000003, 0.48830000000000001, 0.48449999999999999, 0.48110000000000003, 0.47499999999999998, 0.47010000000000002, 0.4667, 0.4592, 0.45850000000000002, 0.45529999999999998, 0.45050000000000001, 0.44390000000000002, 0.44230000000000003, 0.4325, 0.42970000000000003, 0.42799999999999999, 0.42780000000000001, 0.42620000000000002, 0.42559999999999998, 0.4244, 0.42220000000000002, 0.4214, 0.41909999999999997, 0.41710000000000003, 0.41189999999999999, 0.41160000000000002, 0.4108, 0.39560000000000001, 0.38229999999999997, 0.38, 0.37480000000000002, 0.38900000000000001, 0.35299999999999998, 0.28089999999999998, 0.38179999999999997, 0.3322, 0.28320000000000001, 0.30530000000000002, 0.3306, 0.26179999999999998, 0.2928, 0.32019999999999998, 0.15029999999999999, 0.26129999999999998, 0.23499999999999999, 0.067100000000000007, 0.2964, 0.28179999999999999, 0.18529999999999999, -0.002, -0.1134, -0.1484, 0.1825, -0.46200000000000002, -0.1013, 1.2836000000000001, 1.2662, 1.1797, 0.94969999999999999, 0.84989999999999999, 0.8397, 0.83779999999999999, 0.75949999999999995, 0.74409999999999998, 0.73280000000000001, 0.71340000000000003, 0.71140000000000003, 0.7107, 0.70920000000000005, 0.70509999999999995, 0.69840000000000002, 0.69699999999999995, 0.69569999999999999, 0.69289999999999996, 0.6895, 0.68899999999999995, 0.68049999999999999, 0.6714, 0.67090000000000005, 0.66830000000000001, 0.66490000000000005, 0.66439999999999999, 0.65949999999999998, 0.65559999999999996, 0.65200000000000002, 0.63109999999999999, 0.61680000000000001, 0.59089999999999998, 0.50900000000000001, 0.51659999999999995, 0.5978, 0.52580000000000005, 0.5091, 0.6038, 0.59740000000000004, 0.59160000000000001, 0.56940000000000002, 0.48130000000000001, 0.3049, 0.53159999999999996, 0.54990000000000006, 0.17860000000000001, 0.248, 0.4178, 0.43009999999999998, -0.80469999999999997, 0.52159999999999995, 0.020799999999999999, 1.337, 1.3084, 1.2588999999999999, 1.2391000000000001, 1.2374000000000001, 1.1666000000000001, 1.1521999999999999, 1.1411, 1.1142000000000001, 1.0993999999999999, 1.0788, 1.0123, 1.0049999999999999, 1.0026999999999999, 0.95279999999999998, 0.93779999999999997, 0.93340000000000001, 0.92310000000000003, 0.91379999999999995, 0.90110000000000001, 0.90100000000000002, 0.89129999999999998, 0.88839999999999997, 0.88300000000000001, 0.8619, 0.85289999999999999, 0.84230000000000005, 0.84019999999999995, 0.82530000000000003, 0.81089999999999995, 0.78539999999999999, 0.68700000000000006, 0.70479999999999998, 0.72840000000000005, 0.71130000000000004, 0.63129999999999997, 0.68069999999999997, 0.45200000000000001, 0.6845, 0.070699999999999999, 0.51300000000000001, 0.0746, 0.24249999999999999, 0.25230000000000002, 0.28129999999999999, 0.2606, 0.2676, 0.026100000000000002, 0.20930000000000001, 0.1263, -0.039899999999999998, 0.059200000000000003, 0.17780000000000001, 0.067500000000000004, -0.39860000000000001, -0.60260000000000002, -0.40200000000000002, -0.14910000000000001, -0.80430000000000001, 1.2718, 1.23, 1.2148000000000001, 1.1855, 1.1721999999999999, 1.1613, 1.1559999999999999, 1.1246, 1.1096999999999999, 1.1051, 1.0848, 1.0774999999999999, 1.0466, 1.0431999999999999, 1.0228999999999999, 0.99719999999999998, 0.99690000000000001, 0.98329999999999995, 0.97089999999999999, 0.96140000000000003, 0.9597, 0.95340000000000003, 0.95099999999999996, 0.94779999999999998, 0.9456, 0.94320000000000004, 0.93669999999999998, 0.93459999999999999, 0.92279999999999995, 0.89070000000000005, 0.88939999999999997, 0.81989999999999996, 0.80420000000000003, 0.87370000000000003, 0.69489999999999996, 0.50290000000000001, 0.65210000000000001, 0.70020000000000004, 0.77180000000000004, 0.54810000000000003, 0.60609999999999997, 0.76080000000000003, 0.40179999999999999, 0.36099999999999999, 0.48399999999999999, 0.60240000000000005, -0.52859999999999996, 0.4244, 0.070499999999999993, 0.65920000000000001, 0.1168, -0.030499999999999999, -0.1076, -0.43640000000000001, 0.14249999999999999, 1.0207999999999999, 0.9405, 0.86619999999999997, 0.81179999999999997, 0.81059999999999999, 0.80720000000000003, 0.79710000000000003, 0.7893, 0.78080000000000005, 0.77969999999999995, 0.75439999999999996, 0.752, 0.74539999999999995, 0.73050000000000004, 0.71840000000000004, 0.71089999999999998, 0.71030000000000004, 0.70450000000000002, 0.69079999999999997, 0.68920000000000003, 0.68899999999999995, 0.68230000000000002, 0.68130000000000002, 0.6754, 0.66900000000000004, 0.66669999999999996, 0.66549999999999998, 0.64959999999999996, 0.64910000000000001, 0.64839999999999998, 0.64729999999999999, 0.63160000000000005, 0.54100000000000004, 0.59999999999999998, 0.4859, 0.5907, 0.436, 0.4219, 0.31929999999999997, 0.54420000000000002, 0.51160000000000005, 0.49459999999999998, 0.48749999999999999, 0.36890000000000001, 0.48199999999999998, 0.36659999999999998, 0.49759999999999999, 0.29699999999999999, 0.49790000000000001, 0.41149999999999998, 0.3962, 0.34560000000000002, -0.81989999999999996, -0.1072, 0.90380000000000005, 0.82589999999999997, 0.79530000000000001, 0.71089999999999998, 0.70809999999999995, 0.65400000000000003, 0.63639999999999997, 0.62250000000000005, 0.60509999999999997, 0.60440000000000005, 0.59799999999999998, 0.59009999999999996, 0.5857, 0.56069999999999998, 0.55969999999999998, 0.55389999999999995, 0.54569999999999996, 0.53380000000000005, 0.52159999999999995, 0.51800000000000002, 0.50600000000000001, 0.50460000000000005, 0.50429999999999997, 0.50080000000000002, 0.50029999999999997, 0.47899999999999998, 0.47860000000000003, 0.47560000000000002, 0.47460000000000002, 0.47170000000000001, 0.46800000000000003, 0.46400000000000002, 0.45600000000000002, 0.47039999999999998, 0.44219999999999998, 0.26350000000000001, 0.38129999999999997, 0.40949999999999998, 0.3039, 0.2349, 0.33019999999999999, 0.26290000000000002, 0.18229999999999999, 0.26729999999999998, 0.2253, 0.15920000000000001, 0.045400000000000003, 0.28470000000000001, -0.045699999999999998, 0.2394, 0.27750000000000002, 0.037499999999999999, -0.096199999999999994, 0.14030000000000001, 0.34370000000000001, 0.1052, 0.1108, 0.014500000000000001, 0.017299999999999999, -0.088099999999999998], \"Freq\": [177.0, 262.0, 160.0, 122.0, 132.0, 106.0, 115.0, 88.0, 62.0, 59.0, 68.0, 137.0, 64.0, 138.0, 94.0, 80.0, 77.0, 74.0, 74.0, 81.0, 68.0, 66.0, 95.0, 68.0, 41.0, 53.0, 55.0, 65.0, 44.0, 44.0, 26.173452600282236, 11.719492999495017, 11.650119153277988, 22.047994469804152, 16.673632562071909, 16.578492845918436, 11.122915326729171, 10.348188633606236, 25.714394107997968, 10.140273318889644, 13.105095003525998, 9.0558904103259525, 143.83677807012646, 9.5931715451170803, 15.330177214665357, 9.5936090192431198, 9.7949823047924589, 11.342278585944523, 21.469521525535985, 13.573747525440876, 14.555178368848408, 7.7839827191782573, 8.4156106649146594, 23.073693452706866, 6.6538144916853481, 6.1565708462854474, 39.422345893379173, 9.9169221368037945, 27.864256097101876, 9.5761178212827929, 12.606999201704808, 35.461176368001411, 44.840841490607417, 31.201291524908594, 33.94934293438552, 21.407367516491142, 47.061714787825061, 81.567544760209159, 20.828438837317712, 33.089528730905762, 43.352013223350504, 35.135759935868009, 25.736597145783556, 36.631717966572126, 30.508968011536201, 25.863283879821019, 53.318069156928921, 31.687694063824999, 34.214348395984466, 59.594611379760821, 24.850645974795455, 25.605921464037081, 28.298864979481014, 36.878765650034936, 35.68192671844357, 36.55130608636464, 25.282231085420065, 30.131672447215536, 25.3512102606681, 11.997130537320341, 55.872520517303549, 21.893272926695982, 11.189965308423238, 25.069156731280692, 15.458046659885992, 7.0306222748864151, 9.0678609745049279, 9.6433954020245771, 6.7991903983499702, 20.732748358512232, 16.760214162722136, 10.619326381606388, 9.4076825236376322, 10.458774475497028, 9.8014810945517734, 18.391075694963057, 10.2325972391303, 18.958936708360692, 48.519426121391191, 9.8203813123451908, 7.9369930179369392, 28.492852902311434, 17.041215720881318, 9.586589175245571, 10.040363498997182, 8.7562098008344798, 9.3691500853681866, 17.69135886639874, 9.4920762395580045, 18.715951025617237, 19.278804186153533, 26.020198667679455, 56.482340119210733, 48.978149643028495, 20.042083192375461, 38.087639058357425, 42.978391821909696, 18.041374576750751, 17.749708546280811, 18.137974757094657, 18.318067134931137, 22.758305324118723, 37.912466954102861, 18.540871376621528, 16.916272243204414, 44.859280810984018, 26.311616513174602, 20.791070842182435, 18.085464005205118, 24.776095988889793, 17.41424120886122, 17.449921372859169, 11.012024755945482, 10.087091565116841, 28.886618361989086, 9.6865150034532714, 5.6220374218357323, 6.0648158436784101, 5.2973470981229509, 6.0343038655455219, 12.025401410923413, 23.911408329216659, 16.696186751552631, 5.1339642642734509, 36.44552430006069, 6.7054296360251211, 5.6628802981307214, 13.700821251863836, 73.201893050463539, 6.0080448348706152, 6.706788062932306, 12.447014590877281, 7.0917739612027368, 6.8903204042214163, 5.2340243013984251, 5.18781943393103, 5.4879907950167715, 10.45647409918074, 15.506236239516825, 9.5937269713315327, 7.0582380661997695, 6.6626156845644582, 9.2239423274840231, 22.807635140393828, 18.116816035092135, 13.683616641312717, 14.915206703476034, 24.217934870637414, 14.425155627783553, 31.877100707527621, 13.404053345736713, 58.736278063694314, 16.390772159636406, 31.098357681965449, 21.62535525111231, 20.950838821768112, 19.454661215089377, 18.36307972270032, 16.566713009333803, 20.175775170659485, 16.836708225322273, 17.679931632433487, 19.119712897242152, 17.913749375918353, 16.367536102426769, 16.692059594284459, 18.534651778604115, 18.35870499297862, 17.071674713571955, 15.862279169689685, 16.584771379030954, 17.866515075447555, 25.343155480113019, 6.8416651656679726, 8.0270744692902749, 6.1090757360260159, 7.1265924257126132, 7.4292317462537723, 12.589681584390846, 15.030332873148323, 9.769775322606467, 11.297941773360311, 30.365044030821362, 6.9766779331746598, 7.7097864782463583, 21.002970561194445, 10.420980257978307, 8.8151236862094464, 7.3500806515882386, 25.770712226672817, 6.4287247147918745, 11.01214675429922, 10.724462793810638, 21.057490437094913, 13.177449315484168, 7.5870469196416126, 6.2060743546231958, 11.767052416844667, 8.7087609069771688, 13.844335565048693, 6.7460392044362125, 9.95579613400254, 20.170449341845064, 18.28563300739448, 11.073229786905976, 23.242290303295508, 37.549722983195345, 17.012203439416325, 14.160925128852192, 12.069090078360562, 16.476418345201964, 13.604918160980656, 11.358451093124023, 16.058814047016735, 16.220195982266347, 14.247449900920241, 12.777746948911922, 25.381276473171003, 13.983261559842761, 16.595561097857871, 12.131203599239521, 14.931722612208674, 14.053055246274013, 14.059763518760159, 14.638388234984674, 12.962352203993335, 3.2387789990752083, 1.67787091618226, 2.4793611347212305, 3.0685218650565367, 3.0353119506765287, 9.2551018028871699, 1.7058205592592071, 3.7313446006490545, 24.048556407102758, 16.53784370373954, 2.8924776925726174, 2.9387987889952232, 6.2101886003504836, 3.1665145554017911, 2.4920885813636287, 5.8465668726653819, 2.9164137006257209, 1.4524347321483819, 2.7909264718663684, 8.0071006375632834, 5.6072203900095081, 2.7324401862688164, 2.3318767155849791, 5.0170974988885479, 1.3171909187426862, 2.6891193875445616, 2.6054362221943901, 2.8717547542236788, 12.648069578373885, 2.6397394244156653, 3.0122614603255551, 6.494043184364541, 17.12073382588753, 4.9806630768421289, 13.338220497498094, 5.175755429286891, 11.054226115217258, 9.1912172379844925, 11.802477117649392, 4.7553589376055081, 4.7321329271728603, 4.7482908055141104, 4.7594168067308207, 6.1809699718897839, 4.7983635530696054, 5.8554631866902955, 4.4940313580250377, 5.6929949667568627, 4.2079502884135938, 4.4999713563219119, 4.5390669686171066, 4.5724772294594107, 7.1637809293132557, 4.5071321339545545, 0.35777861463951743, 0.16002804114669023, 0.17492542434446778, 0.22386459560956729, 0.23739229276324547, 0.11595837392759861, 0.32961956674619058, 0.47755059526257992, 0.28838676605723185, 2.0198995407034532, 0.50719643978473961, 0.16449879620731422, 0.13057776393135434, 0.33966505275975506, 0.27023461959925271, 0.11856006858784168, 0.28479298967082078, 0.36551049515341266, 0.35636514858999796, 0.13873801579645509, 0.30339719653974312, 0.21525882171606378, 0.10138518280591978, 0.26746331430063791, 0.34333981652820394, 0.15779653967851859, 0.38011227190248059, 0.88216056316058555, 0.20575685797675766, 0.22462611574459648, 0.52869062966683378, 0.68038517471655069, 0.58274244139085363, 0.23404934601763755, 0.42619094020451542, 2.1207158825619015, 0.58964148461320087, 0.38531211717713709, 0.68125191735402113, 0.96098614777386016, 0.54424952131675908, 0.63045393293091978, 0.79460965403154227, 0.60691787713371592, 0.63292664875381244, 0.68628348067032807, 0.86028512723182737, 0.50179365663614961, 0.95400139504209991, 0.51829458661797401, 0.45688748883750407, 0.61511514979792969, 0.65053190855749632, 0.48481497856068789, 0.40541303383037391, 0.4757919317451289, 0.4735226837908591, 0.43159347172185053, 0.4208847083553045, 0.42480961388956001], \"Total\": [177.0, 262.0, 160.0, 122.0, 132.0, 106.0, 115.0, 88.0, 62.0, 59.0, 68.0, 137.0, 64.0, 138.0, 94.0, 80.0, 77.0, 74.0, 74.0, 81.0, 68.0, 66.0, 95.0, 68.0, 41.0, 53.0, 55.0, 65.0, 44.0, 44.0, 44.043170981558802, 20.02523892538564, 20.234368323169718, 38.588782455637741, 29.411423796382124, 29.314002088218864, 19.742322724149499, 18.428953987633776, 46.078509949977203, 18.258583540723173, 23.679507843924057, 16.485982955256709, 262.01492540775672, 17.531700631291553, 28.152165643583754, 17.734020673292608, 18.134021101855843, 21.205700752756602, 40.252014893246304, 25.491909669533321, 27.340906758638035, 14.646066786150074, 15.843408418781992, 43.490251370435743, 12.568849205518633, 11.639584052359169, 74.698341806439629, 18.829009880136315, 53.18145344074189, 18.282497488665204, 24.088346218976938, 68.789740026918423, 88.153803983303419, 61.481568286051385, 67.241998819161893, 41.804724845145927, 95.269127402141095, 177.46808382612673, 40.967593407547753, 68.395286978442698, 94.106558776111726, 74.600155266367878, 53.281532340281593, 81.237091185290126, 65.59691808116176, 54.101411321935785, 132.18980787762359, 70.307047639586173, 77.935869340800593, 160.57430010021659, 53.239119409043859, 55.65911842916654, 67.748613402117101, 106.47448973685422, 115.15993932694909, 122.17139803030857, 60.695179922225087, 137.80265002055395, 80.834987672962868, 15.719874774295267, 74.490143399136045, 31.825861575093931, 20.47419149582052, 50.683990162144056, 31.573273605828359, 14.387212984251239, 20.066050865593702, 21.672320913574953, 15.453623026730217, 48.043996204884245, 38.9158862889688, 24.675045160440007, 21.891923275315623, 24.439459597037601, 23.057809766123803, 43.325132317400062, 24.135314821468366, 44.846592984005909, 115.15993932694909, 23.318645840756933, 19.007865787135831, 68.86197436462912, 41.204629757458903, 23.240013457659874, 24.423898281904478, 21.310125163820455, 22.914461580270171, 43.439012875871249, 23.390746815393321, 47.091430638663155, 49.2067294146891, 68.154058260165883, 160.57430010021659, 138.18131444508933, 52.139301160163114, 106.47448973685422, 122.17139803030857, 46.65050374016807, 46.190244447252368, 47.477745743662652, 49.025045257467532, 66.515776036649058, 132.18980787762359, 51.531697092324016, 46.165754009358615, 177.46808382612673, 97.114453280828997, 64.754542521663581, 55.636549818179468, 262.01492540775672, 48.889045156710914, 80.834987672962868, 13.846318846304213, 13.052053841373858, 39.274311266031503, 13.432921583230792, 7.8097252206173424, 9.0429645204738804, 8.0130883567950963, 9.2292087613753324, 18.89509491962518, 38.131143426238339, 27.178893197866842, 8.9319022945031605, 63.87281567974896, 11.778501102346929, 10.455894364020725, 25.679175771629186, 137.80265002055395, 11.427498328354027, 12.876537934510562, 24.201310113869997, 13.789804720161182, 13.528824726980249, 10.307102014379815, 10.271650523796664, 11.09742188167751, 21.336187001810792, 31.976275928280586, 19.824423512508321, 14.80426565980423, 14.176994810378467, 20.134517734111249, 54.933335768705149, 42.864152152076464, 31.622506631406814, 35.06068562453094, 61.671583412142141, 34.963227081285893, 97.114453280828997, 32.365367533355716, 262.01492540775672, 46.98039322721192, 138.18131444508933, 81.237091185290126, 77.935869340800593, 70.307047639586173, 67.748613402117101, 60.695179922225087, 94.106558776111726, 65.383483934103026, 74.600155266367878, 95.269127402141095, 80.834987672962868, 65.59691808116176, 74.698341806439629, 132.18980787762359, 160.57430010021659, 122.17139803030857, 88.153803983303419, 177.46808382612673, 30.475002659098443, 45.070827411187345, 12.354864457047551, 14.925275512055896, 11.511501611770393, 13.576158701180466, 14.227835675858481, 24.878732539458419, 30.150099204069516, 19.687189632962383, 23.233963442653717, 62.903875014103846, 14.905806003387092, 16.527540231203059, 45.947301430396877, 23.392380466536693, 19.793937584312886, 16.729171276770746, 59.389815591401018, 14.956958129229349, 25.662794545878796, 25.151589153093138, 49.501915393959436, 31.077025666604072, 17.932005703131402, 14.704302235543318, 28.06205260024155, 20.810697793478106, 33.475029980729921, 16.843929013880874, 24.890371611270453, 54.06132256371815, 49.783168372877128, 28.124007450287827, 70.58912243188486, 138.18131444508933, 53.927236343226355, 42.780059655011563, 33.941639008882028, 57.952400171211252, 45.153445473284002, 32.296085965014612, 65.383483934103026, 68.789740026918423, 53.426811673309707, 42.566551649369039, 262.01492540775672, 55.65911842916654, 94.106558776111726, 38.179727079663799, 80.834987672962868, 88.153803983303419, 95.269127402141095, 137.80265002055395, 68.395286978442698, 18.801747325351144, 10.554611109502357, 16.798126000103764, 21.952253575288449, 21.741441890847156, 66.515776036649058, 12.384610813653421, 27.302133272114069, 177.46808382612673, 122.17139803030857, 21.916453091219505, 22.320547115017497, 47.477745743662652, 24.572834741963238, 19.574972666229481, 46.270326373453294, 23.093861453140086, 11.56812975352174, 22.53571257614502, 64.754542521663581, 45.355142150133887, 22.251434961373949, 19.007865787135831, 41.138931192198541, 10.869687170847834, 22.24220330890196, 21.577076931018969, 24.162568734522445, 106.47448973685422, 22.238747810667938, 25.404800783255304, 55.636549818179468, 160.57430010021659, 44.037617633380925, 132.18980787762359, 46.190244447252368, 115.15993932694909, 97.114453280828997, 138.18131444508933, 44.45992329731974, 45.707495002641203, 46.65050374016807, 47.091430638663155, 68.86197436462912, 47.742441447137473, 65.383483934103026, 44.020177571767071, 68.154058260165883, 41.204629757458903, 48.043996204884245, 49.2067294146891, 52.139301160163114, 262.01492540775672, 80.834987672962868, 23.300228116430386, 11.265922893289815, 12.69785644219335, 17.6808631766499, 18.801747325351144, 9.6946973729368313, 28.047926393514633, 41.204629757458903, 25.318425496994475, 177.46808382612673, 44.847663154221145, 14.660131173816071, 11.689046394250633, 31.174071226531119, 24.826969836257277, 10.956299428783797, 26.533927262490202, 34.462553181291085, 34.01054698924294, 13.28870465253782, 29.411423796382124, 20.89721857974957, 9.8452409175226361, 26.06248487368843, 33.475029980729921, 15.715645489561973, 37.873417208288423, 88.153803983303419, 20.58191831701436, 22.53571257614502, 53.239119409043859, 68.789740026918423, 59.389815591401018, 23.510674264027422, 44.037617633380925, 262.01492540775672, 64.754542521663581, 41.138931192198541, 80.834987672962868, 122.17139803030857, 62.903875014103846, 77.935869340800593, 106.47448973685422, 74.698341806439629, 81.237091185290126, 94.106558776111726, 132.18980787762359, 60.695179922225087, 160.57430010021659, 65.59691808116176, 55.65911842916654, 95.269127402141095, 115.15993932694909, 67.748613402117101, 46.226863050910325, 68.86197436462912, 68.154058260165883, 68.395286978442698, 66.515776036649058, 74.600155266367878], \"logprob\": [30.0, 29.0, 28.0, 27.0, 26.0, 25.0, 24.0, 23.0, 22.0, 21.0, 20.0, 19.0, 18.0, 17.0, 16.0, 15.0, 14.0, 13.0, 12.0, 11.0, 10.0, 9.0, 8.0, 7.0, 6.0, 5.0, 4.0, 3.0, 2.0, 1.0, -5.5147000000000004, -6.3182, -6.3240999999999996, -5.6862000000000004, -5.9656000000000002, -5.9713000000000003, -6.3704000000000001, -6.4425999999999997, -5.5324, -6.4629000000000003, -6.2064000000000004, -6.5759999999999996, -3.8107000000000002, -6.5183999999999997, -6.0495999999999999, -6.5183, -6.4974999999999996, -6.3509000000000002, -5.7127999999999997, -6.1712999999999996, -6.1014999999999997, -6.7272999999999996, -6.6493000000000002, -5.6406999999999998, -6.8841999999999999, -6.9619, -5.1051000000000002, -6.4851999999999999, -5.4520999999999997, -6.5201000000000002, -6.2451999999999996, -5.2110000000000003, -4.9763000000000002, -5.3388999999999998, -5.2545000000000002, -5.7157, -4.9279000000000002, -4.3780000000000001, -5.7431000000000001, -5.2801999999999998, -5.0101000000000004, -5.2202000000000002, -5.5315000000000003, -5.1784999999999997, -5.3613999999999997, -5.5266000000000002, -4.8030999999999997, -5.3235000000000001, -5.2468000000000004, -4.6917999999999997, -5.5664999999999996, -5.5366, -5.4366000000000003, -5.1718000000000002, -5.2047999999999996, -5.1806999999999999, -5.5492999999999997, -5.3738000000000001, -5.5465999999999998, -5.7991999999999999, -4.2607999999999997, -5.1977000000000002, -5.8688000000000002, -5.0621999999999998, -5.5457000000000001, -6.3335999999999997, -6.0791000000000004, -6.0175999999999998, -6.367, -5.2521000000000004, -5.4648000000000003, -5.9211999999999998, -6.0423, -5.9363999999999999, -6.0012999999999996, -5.3719999999999999, -5.9583000000000004, -5.3415999999999997, -4.4019000000000004, -5.9993999999999996, -6.2122999999999999, -4.9341999999999997, -5.4481999999999999, -6.0235000000000003, -5.9771999999999998, -6.1140999999999996, -6.0464000000000002, -5.4108000000000001, -6.0334000000000003, -5.3544999999999998, -5.3247999999999998, -5.0250000000000004, -4.2499000000000002, -4.3925000000000001, -5.2859999999999996, -4.6439000000000004, -4.5231000000000003, -5.3912000000000004, -5.4074999999999998, -5.3857999999999997, -5.3758999999999997, -5.1589, -4.6485000000000003, -5.3639000000000001, -5.4555999999999996, -4.4802999999999997, -5.0137999999999998, -5.2492999999999999, -5.3887, -5.0739999999999998, -5.4264999999999999, -5.4245000000000001, -5.8726000000000003, -5.9603999999999999, -4.9081999999999999, -6.0008999999999997, -6.5449000000000002, -6.4691000000000001, -6.6044, -6.4741999999999997, -5.7846000000000002, -5.0972999999999997, -5.4564000000000004, -6.6356999999999999, -4.6757999999999997, -6.3686999999999996, -6.5377000000000001, -5.6542000000000003, -3.9784000000000002, -6.4785000000000004, -6.3685, -5.7500999999999998, -6.3127000000000004, -6.3414999999999999, -6.6163999999999996, -6.6253000000000002, -6.5690999999999997, -5.9244000000000003, -5.5304000000000002, -6.0105000000000004, -6.3174000000000001, -6.3750999999999998, -6.0498000000000003, -5.1444999999999999, -5.3747999999999996, -5.6554000000000002, -5.5692000000000004, -5.0845000000000002, -5.6026999999999996, -4.8097000000000003, -5.6760999999999999, -4.1985999999999999, -5.4748999999999999, -4.8345000000000002, -5.1978, -5.2294, -5.3034999999999997, -5.3613, -5.4641999999999999, -5.2671000000000001, -5.4481000000000002, -5.3992000000000004, -5.3209, -5.3860999999999999, -5.4763000000000002, -5.4566999999999997, -5.3520000000000003, -5.3615000000000004, -5.4341999999999997, -5.5076999999999998, -5.4630999999999998, -5.149, -4.7994000000000003, -6.1089000000000002, -5.9490999999999996, -6.2221000000000002, -6.0681000000000003, -6.0265000000000004, -5.4989999999999997, -5.3217999999999996, -5.7526000000000002, -5.6073000000000004, -4.6185999999999998, -6.0892999999999997, -5.9893999999999998, -4.9871999999999996, -5.6881000000000004, -5.8554000000000004, -6.0372000000000003, -4.7827000000000002, -6.1711, -5.6329000000000002, -5.6593999999999998, -4.9846000000000004, -5.4534000000000002, -6.0054999999999996, -6.2064000000000004, -5.5666000000000002, -5.8676000000000004, -5.4039999999999999, -6.1228999999999996, -5.7336999999999998, -5.0277000000000003, -5.1257999999999999, -5.6273999999999997, -4.8859000000000004, -4.4062000000000001, -5.1980000000000004, -5.3814000000000002, -5.5412999999999997, -5.2300000000000004, -5.4215, -5.6018999999999997, -5.2556000000000003, -5.2455999999999996, -5.3753000000000002, -5.4842000000000004, -4.7979000000000003, -5.3940000000000001, -5.2228000000000003, -5.5361000000000002, -5.3284000000000002, -5.3891, -5.3886000000000003, -5.3483000000000001, -5.4698000000000002, -5.883, -6.5406000000000004, -6.1501999999999999, -5.9370000000000003, -5.9478, -4.8330000000000002, -6.5240999999999998, -5.7413999999999996, -3.8780999999999999, -4.2525000000000004, -5.9960000000000004, -5.9802, -5.2320000000000002, -5.9055, -6.1449999999999996, -5.2923, -5.9878, -6.6848999999999998, -6.0317999999999996, -4.9778000000000002, -5.3341000000000003, -6.0529999999999999, -6.2115, -5.4452999999999996, -6.7827000000000002, -6.0689000000000002, -6.1006, -6.0031999999999996, -4.5206999999999997, -6.0875000000000004, -5.9554999999999998, -5.1872999999999996, -4.2179000000000002, -5.4526000000000003, -4.4675000000000002, -5.4142000000000001, -4.6553000000000004, -4.8399000000000001, -4.5898000000000003, -5.4988999999999999, -5.5038, -5.5004, -5.4980000000000002, -5.2366999999999999, -5.4898999999999996, -5.2907999999999999, -5.5553999999999997, -5.3189000000000002, -5.6212, -5.5541, -5.5453999999999999, -5.5381, -5.0891000000000002, -5.5525000000000002, -5.7854000000000001, -6.5899999999999999, -6.5010000000000003, -6.2542999999999997, -6.1955999999999998, -6.9120999999999997, -5.8673999999999999, -5.4965999999999999, -6.0010000000000003, -4.0545, -5.4363999999999999, -6.5624000000000002, -6.7933000000000003, -5.8373999999999997, -6.0659999999999998, -6.8898999999999999, -6.0134999999999996, -5.7640000000000002, -5.7893999999999997, -6.7327000000000004, -5.9503000000000004, -6.2934999999999999, -7.0464000000000002, -6.0762999999999998, -5.8266, -6.6040000000000001, -5.7248000000000001, -4.8829000000000002, -6.3385999999999996, -6.2508999999999997, -5.3948999999999998, -5.1426999999999996, -5.2976000000000001, -6.2098000000000004, -5.6104000000000003, -4.0057999999999998, -5.2858000000000001, -5.7112999999999996, -5.1414, -4.7973999999999997, -5.3658999999999999, -5.2188999999999997, -4.9874999999999998, -5.2568999999999999, -5.2149999999999999, -5.1340000000000003, -4.9080000000000004, -5.4470999999999998, -4.8045999999999998, -5.4147999999999996, -5.5408999999999997, -5.2435, -5.1875, -5.4814999999999996, -5.6604000000000001, -5.5003000000000002, -5.5050999999999997, -5.5978000000000003, -5.6230000000000002, -5.6136999999999997]}};\n",
       "\n",
       "function LDAvis_load_lib(url, callback){\n",
       "  var s = document.createElement('script');\n",
       "  s.src = url;\n",
       "  s.async = true;\n",
       "  s.onreadystatechange = s.onload = callback;\n",
       "  s.onerror = function(){console.warn(\"failed to load library \" + url);};\n",
       "  document.getElementsByTagName(\"head\")[0].appendChild(s);\n",
       "}\n",
       "\n",
       "if(typeof(LDAvis) !== \"undefined\"){\n",
       "   // already loaded: just create the visualization\n",
       "   !function(LDAvis){\n",
       "       new LDAvis(\"#\" + \"ldavis_el2589153143787044775798887\", ldavis_el2589153143787044775798887_data);\n",
       "   }(LDAvis);\n",
       "}else if(typeof define === \"function\" && define.amd){\n",
       "   // require.js is available: use it to load d3/LDAvis\n",
       "   require.config({paths: {d3: \"https://cdnjs.cloudflare.com/ajax/libs/d3/3.5.5/d3.min\"}});\n",
       "   require([\"d3\"], function(d3){\n",
       "      window.d3 = d3;\n",
       "      LDAvis_load_lib(\"https://cdn.rawgit.com/bmabey/pyLDAvis/files/ldavis.v1.0.0.js\", function(){\n",
       "        new LDAvis(\"#\" + \"ldavis_el2589153143787044775798887\", ldavis_el2589153143787044775798887_data);\n",
       "      });\n",
       "    });\n",
       "}else{\n",
       "    // require.js not available: dynamically load d3 & LDAvis\n",
       "    LDAvis_load_lib(\"https://cdnjs.cloudflare.com/ajax/libs/d3/3.5.5/d3.min.js\", function(){\n",
       "         LDAvis_load_lib(\"https://cdn.rawgit.com/bmabey/pyLDAvis/files/ldavis.v1.0.0.js\", function(){\n",
       "                 new LDAvis(\"#\" + \"ldavis_el2589153143787044775798887\", ldavis_el2589153143787044775798887_data);\n",
       "            })\n",
       "         });\n",
       "}\n",
       "</script>"
      ],
      "text/plain": [
       "<IPython.core.display.HTML object>"
      ]
     },
     "execution_count": 27,
     "metadata": {},
     "output_type": "execute_result"
    },
    {
     "data": {
      "text/plain": [
       "<matplotlib.figure.Figure at 0x193e731d0>"
      ]
     },
     "metadata": {},
     "output_type": "display_data"
    }
   ],
   "source": [
    "def bow():\n",
    "    for doc in LineSentence(\"amendment_tokens.txt\"):\n",
    "        yield amendment_dictionary.doc2bow(doc)\n",
    "        \n",
    "MmCorpus.serialize(\"amendment_tokens_bow.txt\", bow())\n",
    "lda = LdaMulticore(MmCorpus(\"amendment_tokens_bow.txt\"), num_topics=6, workers=1, id2word=amendment_dictionary)\n",
    "lda_vis = pyLDAvis.gensim.prepare(lda, MmCorpus(\"amendment_tokens_bow.txt\"), amendment_dictionary)\n",
    "\n",
    "plt.figure(figsize=[10, 10])\n",
    "pyLDAvis.display(lda_vis)"
   ]
  },
  {
   "cell_type": "markdown",
   "metadata": {
    "collapsed": true
   },
   "source": [
    "## 9. Word2Vec: [Context based representation](https://quomodocumque.wordpress.com/2016/01/15/messing-around-with-word2vec/)\n",
    "\n",
    "While vectorization can be applied to document level observational units (e.g., with TF-IDF), it can also be applied to word level observational units.  One interesting way to do this is to encode a word based on it's context.  Context vectorization (featurization) of a word can be based on skip-grams (relative positions) or Bag-or-Words (proximity presence) of surrounding words.  While all possible feature vectors representing word contexts exist in a high dimensional space it turns out this space can reasonably be embeded into a lower dimensional space while still preserving the distances between the originally observed feature vectors representing contexts.  Words having similar contexts will have similar vector representations and subsequently similar lower dimensional embeddings. \n",
    "\n",
    "There are a number of ways to embed context feature vectors in a lower dimensional space. One way is to use a *neural network* that predicts a context from a word.  The input to the neural network is the Bag-or-Words representation of the word and the output is the Bag-of-Words representation fo the context.  The hidden layer preceding the output layer provides *feature engineering* that embeds the word into a lower dimensional vector that maps to (predicts) the context.  Thus, a word can be defined by this lower dimensional hidden layer vector that predicts the words context. Words appearing in similar contexts will necessarily have similar embedings.   \n",
    "\n",
    "While Word2Vec provides word vectorization capturing \"context similarity\", these vectors do not necessarily capture \"symantic similarity\". I.e., \"good\" and \"bad\" can appear in similar contexts. The [WordNet](https://wordnet.princeton.edu) attempts to define symantic similarity networks, e.g., \"is a\" and \"has a\" relationships.  Interestingly, however, Word2Vec embeddings can solve [anology](https://quomodocumque.wordpress.com/2016/01/15/messing-around-with-word2vec/) problems.  A commonly cited example is \"king is to man as *what* is to woman?\". It turns out the Word2Vec embedding closest to \"queen\" is the combination \"king\"-\"man\"+\"woman\" of Word2Vec embeddings. \n",
    "\n",
    "\n",
    "<img src=\"stuffs/linear-relationships.png\" alt=\"Drawing\" style=\"width: 1000px;\"/>"
   ]
  },
  {
   "cell_type": "code",
   "execution_count": 28,
   "metadata": {
    "collapsed": true
   },
   "outputs": [],
   "source": [
    "from gensim.models import Word2Vec\n",
    "from sklearn.manifold import TSNE\n",
    "from bokeh.plotting import figure, show, output_notebook\n",
    "from bokeh.models import HoverTool, ColumnDataSource, value"
   ]
  },
  {
   "cell_type": "code",
   "execution_count": 198,
   "metadata": {
    "collapsed": false
   },
   "outputs": [],
   "source": [
    "# tweets = pickle.load( codecs.open( \"data/earlyn.pkl\", \"rb\" ) )\n",
    "# tweets2 = tweets.message.values.tolist()\n",
    "# tweets2 = [unicode(d, \"utf-8\", errors='replace') for d in tweets2]"
   ]
  },
  {
   "cell_type": "code",
   "execution_count": 29,
   "metadata": {
    "collapsed": false
   },
   "outputs": [
    {
     "data": {
      "text/plain": [
       "[u'burned 900 calories doing 110 minutes of Shoulder supersets/ hiit #myfitnesspal',\n",
       " u'All I want is for my lawyer to call back',\n",
       " u'What about the loans they took?']"
      ]
     },
     "execution_count": 29,
     "metadata": {},
     "output_type": "execute_result"
    }
   ],
   "source": [
    "# print len(tweets2)\n",
    "# tweets2[:3]\n",
    "2738387\n",
    "[u'burned 900 calories doing 110 minutes of Shoulder supersets/ hiit #myfitnesspal',\n",
    " u'All I want is for my lawyer to call back',\n",
    " u'What about the loans they took?']"
   ]
  },
  {
   "cell_type": "code",
   "execution_count": 5,
   "metadata": {
    "collapsed": false
   },
   "outputs": [],
   "source": [
    "# f = open('tweets_tokens.txt', 'w+')\n",
    "# for d in tweets2:\n",
    "#     f.write(d.encode('utf8') + \"\\n\")\n",
    "# f.close()\n",
    "# myW2V = Word2Vec(LineSentence(\"tweets_tokens.txt\"), size=300, window=5, min_count=20, sg=1, seed=0)\n",
    "# for i in range(5):\n",
    "#     myW2V.train(LineSentence(\"tweets_tokens.txt\"))\n",
    "# myW2V.init_sims()\n",
    "# myW2V.train_count\n",
    "# pickle.dump(myW2V, open( \"myW2V.pkl\", \"wb\" ) )"
   ]
  },
  {
   "cell_type": "code",
   "execution_count": 31,
   "metadata": {
    "collapsed": false
   },
   "outputs": [],
   "source": [
    "myW2V = pickle.load( open( \"myW2V.pkl\", \"rb\" ) )"
   ]
  },
  {
   "cell_type": "code",
   "execution_count": 32,
   "metadata": {
    "collapsed": false
   },
   "outputs": [
    {
     "data": {
      "text/plain": [
       "[(u'soccer', 0.6129327416419983),\n",
       " (u'football', 0.5161957740783691),\n",
       " (u'shoes', 0.5100372433662415),\n",
       " (u'Basketball', 0.49950915575027466),\n",
       " (u'tennis', 0.48446518182754517)]"
      ]
     },
     "execution_count": 32,
     "metadata": {},
     "output_type": "execute_result"
    }
   ],
   "source": [
    "myW2V.most_similar(positive=['basketball'], topn=5)"
   ]
  },
  {
   "cell_type": "code",
   "execution_count": 34,
   "metadata": {
    "collapsed": false
   },
   "outputs": [
    {
     "name": "stdout",
     "output_type": "stream",
     "text": [
      "King and woman, without man is[(u'Queen', 0.3508613407611847)]\n",
      "walking and swam, without swimming is[(u'walked', 0.47129637002944946)]\n",
      "tx and boston, without man ma[(u'houston', 0.5061923265457153)]\n"
     ]
    }
   ],
   "source": [
    "print \"King and woman, without man is\" + str(myW2V.most_similar(positive=['King', 'Women'], negative=['man'], topn=1))\n",
    "print \"walking and swam, without swimming is\" + str(myW2V.most_similar(positive=['walking', 'swam'], negative=['swimming'], topn=1))\n",
    "print \"tx and boston, without man ma\" + str(myW2V.most_similar(positive=['tx', 'boston'], negative=['ma'], topn=1))"
   ]
  },
  {
   "cell_type": "code",
   "execution_count": 35,
   "metadata": {
    "collapsed": false
   },
   "outputs": [
    {
     "data": {
      "text/html": [
       "\n",
       "    <div class=\"bk-root\">\n",
       "        <a href=\"http://bokeh.pydata.org\" target=\"_blank\" class=\"bk-logo bk-logo-small bk-logo-notebook\"></a>\n",
       "        <span id=\"d6179d2c-449d-4f08-9219-7042a5e9c91b\">Loading BokehJS ...</span>\n",
       "    </div>"
      ]
     },
     "metadata": {},
     "output_type": "display_data"
    },
    {
     "data": {
      "application/javascript": [
       "\n",
       "(function(global) {\n",
       "  function now() {\n",
       "    return new Date();\n",
       "  }\n",
       "\n",
       "  if (typeof (window._bokeh_onload_callbacks) === \"undefined\") {\n",
       "    window._bokeh_onload_callbacks = [];\n",
       "  }\n",
       "\n",
       "  function run_callbacks() {\n",
       "    window._bokeh_onload_callbacks.forEach(function(callback) { callback() });\n",
       "    delete window._bokeh_onload_callbacks\n",
       "    console.info(\"Bokeh: all callbacks have finished\");\n",
       "  }\n",
       "\n",
       "  function load_libs(js_urls, callback) {\n",
       "    window._bokeh_onload_callbacks.push(callback);\n",
       "    if (window._bokeh_is_loading > 0) {\n",
       "      console.log(\"Bokeh: BokehJS is being loaded, scheduling callback at\", now());\n",
       "      return null;\n",
       "    }\n",
       "    if (js_urls == null || js_urls.length === 0) {\n",
       "      run_callbacks();\n",
       "      return null;\n",
       "    }\n",
       "    console.log(\"Bokeh: BokehJS not loaded, scheduling load and callback at\", now());\n",
       "    window._bokeh_is_loading = js_urls.length;\n",
       "    for (var i = 0; i < js_urls.length; i++) {\n",
       "      var url = js_urls[i];\n",
       "      var s = document.createElement('script');\n",
       "      s.src = url;\n",
       "      s.async = false;\n",
       "      s.onreadystatechange = s.onload = function() {\n",
       "        window._bokeh_is_loading--;\n",
       "        if (window._bokeh_is_loading === 0) {\n",
       "          console.log(\"Bokeh: all BokehJS libraries loaded\");\n",
       "          run_callbacks()\n",
       "        }\n",
       "      };\n",
       "      s.onerror = function() {\n",
       "        console.warn(\"failed to load library \" + url);\n",
       "      };\n",
       "      console.log(\"Bokeh: injecting script tag for BokehJS library: \", url);\n",
       "      document.getElementsByTagName(\"head\")[0].appendChild(s);\n",
       "    }\n",
       "  };\n",
       "\n",
       "  var js_urls = ['https://cdn.pydata.org/bokeh/release/bokeh-0.12.0.min.js', 'https://cdn.pydata.org/bokeh/release/bokeh-widgets-0.12.0.min.js', 'https://cdn.pydata.org/bokeh/release/bokeh-compiler-0.12.0.min.js'];\n",
       "\n",
       "  var inline_js = [\n",
       "    function(Bokeh) {\n",
       "      Bokeh.set_log_level(\"info\");\n",
       "    },\n",
       "    \n",
       "    function(Bokeh) {\n",
       "      Bokeh.$(\"#d6179d2c-449d-4f08-9219-7042a5e9c91b\").text(\"BokehJS successfully loaded\");\n",
       "    },\n",
       "    function(Bokeh) {\n",
       "      console.log(\"Bokeh: injecting CSS: https://cdn.pydata.org/bokeh/release/bokeh-0.12.0.min.css\");\n",
       "      Bokeh.embed.inject_css(\"https://cdn.pydata.org/bokeh/release/bokeh-0.12.0.min.css\");\n",
       "      console.log(\"Bokeh: injecting CSS: https://cdn.pydata.org/bokeh/release/bokeh-widgets-0.12.0.min.css\");\n",
       "      Bokeh.embed.inject_css(\"https://cdn.pydata.org/bokeh/release/bokeh-widgets-0.12.0.min.css\");\n",
       "    }\n",
       "  ];\n",
       "\n",
       "  function run_inline_js() {\n",
       "    for (var i = 0; i < inline_js.length; i++) {\n",
       "      inline_js[i](window.Bokeh);\n",
       "    }\n",
       "  }\n",
       "\n",
       "  if (window._bokeh_is_loading === 0) {\n",
       "    console.log(\"Bokeh: BokehJS loaded, going straight to plotting\");\n",
       "    run_inline_js();\n",
       "  } else {\n",
       "    load_libs(js_urls, function() {\n",
       "      console.log(\"Bokeh: BokehJS plotting callback run at\", now());\n",
       "      run_inline_js();\n",
       "    });\n",
       "  }\n",
       "}(this));"
      ]
     },
     "metadata": {},
     "output_type": "display_data"
    },
    {
     "data": {
      "text/html": [
       "\n",
       "\n",
       "    <div class=\"bk-root\">\n",
       "        <div class=\"plotdiv\" id=\"61ab4afd-5711-462b-a4ed-e5c0d084cec3\"></div>\n",
       "    </div>\n",
       "<script type=\"text/javascript\">\n",
       "  \n",
       "  (function(global) {\n",
       "    function now() {\n",
       "      return new Date();\n",
       "    }\n",
       "  \n",
       "    if (typeof (window._bokeh_onload_callbacks) === \"undefined\") {\n",
       "      window._bokeh_onload_callbacks = [];\n",
       "    }\n",
       "  \n",
       "    function run_callbacks() {\n",
       "      window._bokeh_onload_callbacks.forEach(function(callback) { callback() });\n",
       "      delete window._bokeh_onload_callbacks\n",
       "      console.info(\"Bokeh: all callbacks have finished\");\n",
       "    }\n",
       "  \n",
       "    function load_libs(js_urls, callback) {\n",
       "      window._bokeh_onload_callbacks.push(callback);\n",
       "      if (window._bokeh_is_loading > 0) {\n",
       "        console.log(\"Bokeh: BokehJS is being loaded, scheduling callback at\", now());\n",
       "        return null;\n",
       "      }\n",
       "      if (js_urls == null || js_urls.length === 0) {\n",
       "        run_callbacks();\n",
       "        return null;\n",
       "      }\n",
       "      console.log(\"Bokeh: BokehJS not loaded, scheduling load and callback at\", now());\n",
       "      window._bokeh_is_loading = js_urls.length;\n",
       "      for (var i = 0; i < js_urls.length; i++) {\n",
       "        var url = js_urls[i];\n",
       "        var s = document.createElement('script');\n",
       "        s.src = url;\n",
       "        s.async = false;\n",
       "        s.onreadystatechange = s.onload = function() {\n",
       "          window._bokeh_is_loading--;\n",
       "          if (window._bokeh_is_loading === 0) {\n",
       "            console.log(\"Bokeh: all BokehJS libraries loaded\");\n",
       "            run_callbacks()\n",
       "          }\n",
       "        };\n",
       "        s.onerror = function() {\n",
       "          console.warn(\"failed to load library \" + url);\n",
       "        };\n",
       "        console.log(\"Bokeh: injecting script tag for BokehJS library: \", url);\n",
       "        document.getElementsByTagName(\"head\")[0].appendChild(s);\n",
       "      }\n",
       "    };var element = document.getElementById(\"61ab4afd-5711-462b-a4ed-e5c0d084cec3\");\n",
       "    if (element == null) {\n",
       "      console.log(\"Bokeh: ERROR: autoload.js configured with elementid '61ab4afd-5711-462b-a4ed-e5c0d084cec3' but no matching script tag was found. \")\n",
       "      return false;\n",
       "    }\n",
       "  \n",
       "    var js_urls = [];\n",
       "  \n",
       "    var inline_js = [\n",
       "      function(Bokeh) {\n",
       "        Bokeh.$(function() {\n",
       "            var docs_json = {\"d8f15132-e6f6-453a-acfe-c3e010e14ed8\":{\"roots\":{\"references\":[{\"attributes\":{\"callback\":null,\"overlay\":{\"id\":\"50654234-1954-4f29-a011-41a27e0b5d6a\",\"type\":\"BoxAnnotation\"},\"plot\":{\"id\":\"2ee9eadf-c45f-4578-ac72-a6fcbfef808a\",\"subtype\":\"Figure\",\"type\":\"Plot\"},\"renderers\":[{\"id\":\"bba872da-67b5-4e18-ba42-9a5574556e6a\",\"type\":\"GlyphRenderer\"}]},\"id\":\"4fddeba1-8c23-4741-987e-225ba4e564d1\",\"type\":\"BoxSelectTool\"},{\"attributes\":{},\"id\":\"179f2e56-0015-4563-9d61-871c876172d7\",\"type\":\"ToolEvents\"},{\"attributes\":{},\"id\":\"f8abd965-01b2-4431-b239-59ca18bc50e3\",\"type\":\"BasicTicker\"},{\"attributes\":{\"plot\":{\"id\":\"2ee9eadf-c45f-4578-ac72-a6fcbfef808a\",\"subtype\":\"Figure\",\"type\":\"Plot\"}},\"id\":\"3b9912f4-0e82-4763-bd73-273349fcf977\",\"type\":\"ResizeTool\"},{\"attributes\":{\"plot\":{\"id\":\"2ee9eadf-c45f-4578-ac72-a6fcbfef808a\",\"subtype\":\"Figure\",\"type\":\"Plot\"}},\"id\":\"0fdffbf8-bfaa-4534-8e7d-006782c697f7\",\"type\":\"WheelZoomTool\"},{\"attributes\":{\"callback\":null,\"plot\":{\"id\":\"2ee9eadf-c45f-4578-ac72-a6fcbfef808a\",\"subtype\":\"Figure\",\"type\":\"Plot\"},\"tooltips\":\"@word\"},\"id\":\"9dea72b0-dc94-4557-9d12-423891952f8f\",\"type\":\"HoverTool\"},{\"attributes\":{\"grid_line_color\":{\"value\":null},\"plot\":{\"id\":\"2ee9eadf-c45f-4578-ac72-a6fcbfef808a\",\"subtype\":\"Figure\",\"type\":\"Plot\"},\"ticker\":{\"id\":\"f8abd965-01b2-4431-b239-59ca18bc50e3\",\"type\":\"BasicTicker\"}},\"id\":\"5450743b-e6dc-48d5-a298-e426bbe88b9a\",\"type\":\"Grid\"},{\"attributes\":{\"formatter\":{\"id\":\"cbeb6838-f85a-44a4-9c22-6e9c515bf22e\",\"type\":\"BasicTickFormatter\"},\"plot\":{\"id\":\"2ee9eadf-c45f-4578-ac72-a6fcbfef808a\",\"subtype\":\"Figure\",\"type\":\"Plot\"},\"ticker\":{\"id\":\"f8abd965-01b2-4431-b239-59ca18bc50e3\",\"type\":\"BasicTicker\"},\"visible\":false},\"id\":\"23e0b293-43a9-41c3-a36e-d4c8d81b003f\",\"type\":\"LinearAxis\"},{\"attributes\":{\"active_drag\":\"auto\",\"active_scroll\":{\"id\":\"0fdffbf8-bfaa-4534-8e7d-006782c697f7\",\"type\":\"WheelZoomTool\"},\"active_tap\":\"auto\",\"tools\":[{\"id\":\"bd36b8cb-77f3-4d40-8c67-938cc36b3889\",\"type\":\"PanTool\"},{\"id\":\"0fdffbf8-bfaa-4534-8e7d-006782c697f7\",\"type\":\"WheelZoomTool\"},{\"id\":\"816b7d9d-2f5d-4193-9a5f-111e8241acc2\",\"type\":\"BoxZoomTool\"},{\"id\":\"4fddeba1-8c23-4741-987e-225ba4e564d1\",\"type\":\"BoxSelectTool\"},{\"id\":\"3b9912f4-0e82-4763-bd73-273349fcf977\",\"type\":\"ResizeTool\"},{\"id\":\"023e6aea-a773-46b8-b713-cd0e7ad1ac85\",\"type\":\"ResetTool\"},{\"id\":\"9dea72b0-dc94-4557-9d12-423891952f8f\",\"type\":\"HoverTool\"}]},\"id\":\"029f5133-8e05-42ed-afdf-06ed9407a3e5\",\"type\":\"Toolbar\"},{\"attributes\":{\"callback\":null,\"column_names\":[\"index\",\"word\",\"tsne_y\",\"tsne_x\"],\"data\":{\"index\":[\"deals\",\"into\",\"don't\",\"see\",\"can't\",\"last\",\"had\",\"than\",\"who\",\"our\",\"people\",\"their\",\"A\",\"days,\",\"make\",\"best\",\"0\",\"calories\",\"first\",\"burned\",\"still\",\"am\",\"would\",\"server\",\"work\",\"over\",\"This\",\"load\",\"lost\",\"users,\",\"today\",\"after\",\"much\",\"average:\",\"should\",\"because\",\"Just\",\"shoes\",\"So\",\"I've\",\"It's\",\"think\",\"getting\",\"since\",\"1\",\"year\",\"|\",\"there\",\"?\",\"3\",\"know\",\"health\",\"life\",\"even\",\"poster\",\"them\",\"home\",\"why\",\"right\",\"game\",\"Server:\",\"Uptime:\",\"days\",\"then\",\"take\",\"food\",\"\\ufffd\",\"wanna\",\"next\",\"down\",\"lawyer\",\"never\",\"morning\",\"shopping\",\"things\",\"nike\",\"could\",\"adidas\",\"u\",\"better\",\"way\",\"wait\",\"shipping\",\"she\",\"New\",\"If\",\"every\",\"lbs\",\"too\",\"We\",\"pay\",\"someone\",\"watch\",\"being\",\"look\",\"world\",\"money\",\"under\",\"its\",\"thing\",\"free\",\"great\",\"Obamacare\",\"these\",\"any\",\"black\",\"im\",\"watching\",\"4\",\"amazon\",\"put\",\"And\",\"come\",\"before\",\"5\",\"around\",\"workout\",\"tablet\",\"other\",\"care\",\"It\",\"What\",\"Why\",\"here\",\"two\",\"running\",\"Adidas\",\"In\",\"did\",\"I'll\",\".\",\"gonna\",\"use\",\"while\",\"All\",\"find\",\"loans:\",\"always\",\"sofa\",\"where\",\"ever\",\"him\",\"feel\",\"looking\",\"night\",\"it.\",\"student\",\"THE\",\"us\",\"No\",\"shop\",\"Christmas\",\"week\",\"does\",\"healthcare\",\"wardrobe\",\"stop\",\"old\",\"phone\",\"didn't\",\"most\",\"myself\",\"trying\",\"How\",\"mattress\",\"tomorrow\",\"10\",\"own\",\"Black\",\"play\",\"having\",\"goal\",\",\",\"completed\",\"were\",\"those\",\"also\",\"i'm\",\"2016\",\"that's\",\"Pitch\",\"until\",\"school\",\"That\",\"again\",\"job\",\"said\",\"But\",\"...\",\"diary\",\"another\",\"already\",\"went\",\"sale\",\"left\",\"same\",\"doesn't\",\"Friday\",\"flights\",\"pitch.\",\"weigh-in!\",\"On\",\"actually\",\"say\",\"very\",\"needs\",\"Football\",\"Is\",\"used\",\"Lyft\",\"big\",\"hours\",\"making\",\"high\",\"Now\",\"without\",\"makes\",\"whole\",\":\",\"which\",\"years\",\"long\",\"#Pitch\",\"GM\",\"Pi\",\"working\",\"keep\",\"bed\",\"design\",\"team\",\"When\",\"help\",\"little\",\"wish\",\"printer\",\"System\",\"Can't\",\"happy\",\"6\",\"Best\",\"2017\",\"far.\",\"call\",\"Not\",\"full\",\"Pi2\",\"finally\",\"JST\",\"Hostname:raspi\",\"MY\",\"playing\",\"hiring\",\"Who\",\"For\",\"Kitchen\",\"give\",\"lot\",\"away\",\"coming\",\"weight\",\"through\",\"nice\",\"To\",\"looks\",\"Need\",\"calorie\",\"divorce\",\"bc\",\"ready\",\"sleep\",\"real\",\"gm\",\"credit\",\"let\",\"end\",\"hard\",\"excited\",\"hit\",\"everything\",\"well\",\"live\",\"found\",\"wear\",\"might\",\"dad\",\"done\",\"tennis\",\"run\",\"won't\",\"traffic\",\"Good\",\"Running\",\"beds\",\"He\",\"sure\",\"hope\",\"show\",\"AND\",\"Got\",\"open\",\"tonight\",\"literally\",\"nothing\",\"TO\",\"Up\",\"financial\",\"!\",\"One\",\"IS\",\"isn't\",\"quotes\",\"0.05\",\"#quotes\",\"=\",\"walking\",\"Server\",\"I'd\",\"cause\",\"??\",\"code\",\"using\",\"desktop\",\"today.\",\"few\",\"set\",\"n\",\"video\",\"stuff\",\"weekend\",\"gets\",\"girl\",\"business\",\"place\",\"0.00,\",\"games\",\"wants\",\"babysitting\",\"season\",\"bought\",\"guy\",\"Can\",\"top\",\"came\",\"able\",\"office\",\"against\",\"family\",\"says\",\"now.\",\"min\",\"me.\",\"friends\",\"+\",\"pretty\",\"20\",\"7\",\"football.\",\"Buy\",\"graphic\",\"8\",\"please\",\"machine\",\"order\",\"Get\",\"there's\",\"sitting\",\"post\",\"try\",\"Deals\",\"mins\",\"cool\",\"Mercedes\",\"far\",\"between\",\"gotta\",\"taking\",\"w\",\"30\",\"half\",\"network\",\"almost\",\"skiing\",\"Apple\",\"such\",\"Gm\",\"may\",\"white\",\"mirrors\",\"miss\",\"change\",\"12\",\"First\",\"yet\",\"They\",\"paid\",\"anything\",\"saw\",\"per\",\"instead\",\"Love\",\"wanted\",\"both\",\"month\",\"Travel\",\"must\",\"comes\",\"he's\",\"called\",\"least\",\":)\",\"laptop.\",\"patent\",\"washing\",\"Free\",\"temperature\",\"probably\",\"told\",\"kitchen.\",\"rent\",\"parents\",\"believe\",\"pair\",\"eat\",\"space\",\"table\",\"tell\",\"CPU:\",\"soon\",\"took\",\"Saturday\",\"person\",\"leave\",\"early\",\"buying\",\"BMW\",\"There\",\"hour\",\"kids\",\"spent\",\"driving\",\"wearing\",\"name\",\"perfect\",\"stay\",\"ur\",\"company\",\"w/\",\"House\",\"move\",\"clean\",\"walk\",\"current\",\"due\",\"turn\",\"thought\",\"clothes\",\"goes\",\"fun\",\"drive\",\"0.01,\",\"IN\",\"cost\",\"As\",\"(jogging),\",\"enough\",\"floor\",\"different\",\"Logo\",\"That's\",\"less\",\"store\",\"Health\",\"Day\",\"server.\",\"Great\",\"waiting\",\"bring\",\"US\",\"guess\",\"seen\",\"/\",\"time:\",\"NFL\",\"gone\",\"refrigerator\",\"internship\",\"y'all\",\"spend\",\"brand\",\"card\",\"VC\",\"music\",\"gift\",\"Use\",\"At\",\"loss\",\"Time\",\"trademark\",\"Forget\",\"Looking\",\"point\",\"Someone\",\"Audi\",\"line\",\"Nb.\",\"during\",\"delay\",\"small\",\"talk\",\"win\",\"thinking\",\"water\",\"baby\",\"????\",\"???\",\"Life\",\"1st\",\"air\",\"player\",\"once\",\"hunting\",\"together\",\"Don't\",\"ON\",\"twitter\",\"feeling\",\"Im\",\"golf\",\"Auto\",\"FOR\",\"theft\",\"energy\",\"With\",\"means\",\"She\",\"paying\",\"book\",\"outside\",\"mph,\",\"Today\",\"Our\",\"plan\",\"head\",\"till\",\"favorite\",\"Still\",\"forgot\",\"web\",\"times\",\"seeing\",\"..\",\"goes.\",\"15\",\"past\",\"Used\",\"tech,\",\"eating\",\"#HealthCare\",\"haven't\",\"app\",\"day.\",\"promo\",\"save\",\"Like\",\"C\",\"Walking,\",\":(\",\"Laptop\",\"friend\",\"second\",\"power\",\"Monday\",\"cant\",\"check\",\"mph\",\"UP=\",\"wasn't\",\"million\",\"talking\",\"each\",\"months\",\"idea\",\"designer\",\"Any\",\"via\",\"After\",\"Do\",\"light\",\"straight\",\"Air\",\"9\",\"website\",\"become\",\"TV\",\"IKEA\",\"auto\",\"Lawyer\",\"x\",\"Loans\",\"deal\",\"single\",\"lose\",\"three\",\"rn\",\"Tesla\",\"worst\",\"break\",\"ticket\",\"ain't\",\"asked\",\"Only\",\"hear\",\"close\",\"remember\",\"Oh\",\"payday\",\"couldn't\",\"front\",\"pitch,\",\"tv\",\"sad\",\"cute\",\"year.\",\"RAM:\",\"COLLEGE\",\"tried\",\"\\\"I\",\"amazing\",\"remote\",\"Of\",\"basketball\",\"drunk\",\"we're\",\"Theft\",\"loan\",\"bit\",\"Medicare\",\"low\",\"level\",\"reason\",\"weeks\",\"box\",\"People\",\"payment\",\"services\",\"Really\",\"else\",\"price\",\"Let's\",\"created\",\"crazy\",\"throw\",\"lane\",\"entire\",\"gave\",\"php\",\"side\",\"saying\",\"room.\",\"IT\",\"0.07,\",\"including\",\"club\",\"kind\",\"maybe\",\"rest\",\"computer\",\"OF\",\"day,\",\"Car\",\"child\",\"currently\",\"size\",\"There's\",\"ordered\",\"time.\",\"Will\",\"account\",\"prime\",\"dont\",\"mean\",\"wonder\",\"face\",\"available\",\"Grand\",\"case\",\"0.06,\",\"slow\",\"speeding\",\"ask\",\"Go\",\"Insurance\",\"summer\",\"tho\",\"&gt;\",\"sit\",\"takes\",\"blinds\",\"future\",\"fire\",\"movie\",\"NIKE\",\"logo.\",\"pace\",\"social\",\"Kia\",\"Some\",\"insurance.\",\"afford\",\"beautiful\",\"they're\",\"ikea\",\"mind\",\"0.04,\",\"pick\",\"training\",\"Me\",\"0.08,\",\"blocked\",\"asleep\",\"active\",\"software\",\"Where\",\"vs\",\"Twitter\",\"drop\",\"up.\",\"Chevy\",\"boy\",\"companies\",\"Uber\",\"red\",\"SO\",\"country\",\"Finally\",\"FOOTBALL\",\"coffee\",\"players\",\"laptop,\",\"commercial\",\"wrong\",\"later\",\"11\",\"guys\",\"NOT\",\"ran\",\"Watching\",\"rather\",\"Please\",\"Every\",\"Watch\",\"accident\",\"dog\",\"feels\",\"ball\",\"battle\",\"tweet\",\"gaming\",\"cold\",\"alone\",\"Morning\",\"Be\",\"again.\",\"ya\",\"socks\",\"sell\",\"system\",\"Have\",\"24\",\"100\",\"CPA\",\"body\",\"understand\",\"development\",\"couple\",\"fact\",\"Should\",\"--\",\"decided\",\"service\",\"0.05,\",\"weird\",\"house.\",\"dream\",\"sign\",\"self\",\"Size\",\"car.\",\"tired\",\"cover\",\"Healthcare\",\"ppl\",\"renewable\",\"Accident\",\"glad\",\"email\",\"screen\",\"NEW\",\"late\",\"PHP\",\"count\",\"bike\",\"out.\",\"fast\",\"These\",\"seems\",\"Nothing\",\"she's\",\"Shoes\",\"Most\",\"Well\",\"50\",\"Men's\",\"kg\",\"bag\",\"read\",\"Getting\",\"Patent\",\"inside\",\"forward\",\"fall\",\"Prime\",\"number:\",\"fix\",\"girls\",\"kitchen,\",\"From\",\"ok\",\"GPU\",\"Also\",\"super\",\"hand\",\"Going\",\"giving\",\"#design\",\"sleeping\",\"near\",\"kinda\",\"turned\",\"tech\",\"number\",\"More\",\"#Quotes\",\"paper\",\"gear\",\"Me:\",\"Gotta\",\"Under\",\"india\",\"course\",\"across\",\"0.02,\",\"State\",\"state\",\"credit.\",\"cheap\",\"opening\",\"mile)\",\"send\",\"Nissan\",\"me,\",\"ALL\",\"travel.\",\"Hillary\",\"Exercise\",\"Porsche\",\"presented\",\"honestly\",\"vc\",\"de\",\"needed\",\"extra\",\"thanks\",\"middle\",\"gym\",\"Cadillac\",\"0.03,\",\"meet\",\"charge\",\"though\",\"expensive\",\"ago\",\"access\",\"it,\",\"game.\",\"definitely\",\"cannot\",\"Teamspeak\",\"finish\",\"what's\",\"Nike+\",\"pm\",\"works\",\"hooks\",\"charger\",\"U\",\"2nd\",\"behind\",\"(running)\",\"Obama\",\"Happy\",\"0.09,\",\"private\",\"idk\",\"PING=OK\",\"door\",\"lawyer.\",\"911\",\"blow.\",\"wouldn't\",\"#Obamacare\",\"cut\",\"me:\",\"lit\",\"Maybe\",\"tryna\",\"lead\",\"trade\",\"AUTO\",\"Alzheimer's\",\"upon\",\"yesterday\",\"AM\",\"stand\",\"lanes\",\"dementia\",\"who's\",\"on.\",\"sales\",\"problem\",\"Had\",\"smh\",\"enthusiastically\",\"today,\",\"list\",\"Never\",\"putting\",\"Club\",\"LAPTOP\",\"ME\",\"let's\",\"shows\",\"Low\",\"Thanks\",\"car,\",\"cat\",\"closed.\",\"0.06\",\"huge\",\"Last\",\"PC\",\"woke\",\"kid\",\"either\",\"hair\",\"cash\",\"listening\",\"moving\",\"Trying\",\"SB\",\"walked\",\"fell\",\"missed\",\"news\",\"catch\",\"Does\",\"teams\",\"25\",\"swear\",\"loans.\",\"Sunday\",\"women\",\"morning.\",\"Home\",\"experience\",\"Big\",\"exercise.\",\"wake\",\"plans\",\"November\",\"oh\",\"Been\",\"Perfect\",\"What's\",\"tonight.\",\"build\",\"January\",\"places\",\"type\",\"taken\",\"thy\",\"Or\",\"keeps\",\"realized\",\"Golf\",\"Its\",\"watched\",\"IM\",\"fit\",\"data\",\"loadavg:\",\"Nice=0.0%\",\"learn\",\"American\",\"link\",\"Accident,\",\"Jordan\",\"pls\",\"cars\",\"easy\",\"life.\",\"tax\",\"recruiting\",\"dark\",\"thine\",\"Are\",\"Game\",\"Come\",\"finished\",\"work.\",\"NO\",\"wall\",\"Parkinson's\",\"40\",\"supposed\",\"ACCIDENT\",\"stopped\",\"Echo\",\"books\",\"general\",\"Who's\",\"bank\",\"fan\",\"deals.\",\"Call\",\"THIS\",\"la\",\"benefits\",\"bout\",\"ones\",\"shoes.\",\"back.\",\"stuck\",\"played\",\"?????\",\"cardio\",\"World\",\"!!\",\"heard\",\"NB\",\"\\\"\",\"learning\",\"blue\",\"knows\",\"update\",\"speed:\",\"leads\",\"longer\",\"Mirrors\",\"song\",\"Walking\",\"grand\",\"Dispatch:\",\"crying\",\"Design\",\"0.00\",\"Was\",\"cleaning\",\"JUST\",\"Load\",\"President\",\"60\",\"connections:\",\"BPD\",\"friday\",\"Another\",\"international\",\"Consumer\",\"tomorrow.\",\"EU\",\"Payday\",\"processes:\",\"audi\",\"happen\",\"window\",\"arm_freq=900\",\"T(C):\",\"0.10,\",\"(371)\",\"them.\",\"wild\",\"~\",\"An\",\"Back\",\"road\",\"looked\",\"Dell\",\"market\",\"public\",\"jobs\",\"that.\",\"treat\",\"Then\",\"White\",\"Let\",\"aren't\",\"cooking\",\"sat\",\"fans\",\"plus\",\"Did\",\"temp=51.9'C.\",\"sent\",\"pantry\",\"chevy\",\"write\",\"Bicycling,\",\"interest\",\"#traffic\",\"Accident:\",\"forget\",\"Want\",\"We're\",\"step\",\"government\",\"December\",\"changed\",\"christmas\",\"closed\",\"awesome\",\"yang\",\"men\",\"13\",\"anymore\",\"boys\",\"biggest\",\"2.\",\"temp=50.8'C.\",\"Texas\",\"fixed\",\"within\",\"week.\",\"af\",\"PITCH\",\"rate\",\"temp:\",\"amount\",\"knew\",\"version\",\"degrees\",\"bmw\",\"biking,\",\"About\",\"personal\",\"drivers\",\"(cycling,\",\"delivery\",\"hold\",\"Jan\",\"seriously\",\"\\\"The\",\"Work\",\"daily\",\"Pay\",\"apple\",\"Potential\",\"okay\",\"Next\",\"#travel\",\"minute\",\"costs\",\"beat\",\"area\",\"Super\",\"gives\",\"baseball\",\"F\",\"dropped\",\"mum\",\"i've\",\"45\",\"house,\",\"1.\",\"trip\",\"media\",\"room,\",\"POSTER\",\"selling\",\"Wish\",\"sound\",\"leaving\",\"Take\",\"test\",\"writing\",\"good.\",\"21\",\"Nov\",\"LOVE\",\"chance\",\"building\",\"THAT\",\"officially\",\"jacket\",\"Amazon.\",\"key\",\"won\",\"winter\",\"3rd\",\"wife\",\"law\",\"#webdesign\",\"Dec\",\"appliances\",\"today!\",\"cry\",\"logo,\",\"series\",\"offer\",\"exercises,\",\"asking\",\"figure\",\"lazy\",\"draw\",\"funny\",\"Web\",\"it!\",\"??????\",\"complete\",\"double\",\"holiday\",\"drink\",\"word\",\"one.\",\"pants\",\"Top\",\"swimwear\",\"Even\",\"r\",\"death\",\"#graphic\",\"Think\",\"spending\",\"logo?\",\"throwing\",\"fine\",\"cuz\",\"Netflix\",\"tree\",\"uber\",\"Financial\",\"pro\",\"100%\",\"Living\",\"basically\",\"round\",\"Make\",\"quick\",\"students\",\"#graphicdesign\",\"???????\",\"deep\",\"Red\",\"$50\",\"Business\",\"enjoy\",\"eyes\",\"seeking\",\"sounds\",\"riding)\",\"pictures\",\"America\",\"possible\",\"Office\",\"internet\",\"group\",\"date\",\"episode\",\"ride\",\"WITH\",\"mobile\",\"quality\",\"dinner\",\"boots\",\"calling\",\"world.\",\"onto\",\"football,\",\"absolutely\",\"reebok\",\"LOGO\",\"night.\",\"temp=53.0'C.\",\"anybody\",\"now,\",\"story\",\"true\",\"Two\",\"miles\",\"Google\",\"actual\",\"sold\",\"bathroom\",\"major\",\"completely\",\"city\",\"somebody\",\"study\",\"based\",\"speed\",\"kia\",\"Services\",\"matter\",\"cleaned\",\"forever\",\"question\",\"WB\",\"da\",\"drawing\",\"cyber\",\"insurance,\",\"di\",\"hands\",\"#jobs\",\"Ikea\",\"print\",\"four\",\"tbh\",\"add\",\"#nowplaying\",\"18\",\"movies\",\"sink\",\"up,\",\"shoe\",\"final\",\"dollars\",\":/\",\"worked\",\"crm\",\"Network\",\"lawyer,\",\"dancing\",\"automatically\",\"Run\",\"towards\",\"bio\",\"#news\",\"UK\",\"quite\",\"too.\",\"issues\",\"16\",\"Hyundai\",\"EB\",\"cook\",\"security\",\"envelope\",\"color\",\"Y'all\",\"wow\",\"mother\",\"problems\",\"lady\",\"Student\",\"keeping\",\"planning\",\"telling\",\"He's\",\"bringing\",\"windows\",\"14\",\"usage:\",\"Care\",\"bedroom\",\"cards\",\"lil\",\"green\",\"ice\",\"Anybody\",\"offers\",\"happened\",\"match\",\"center\",\"mine\",\"legal\",\"runs\",\"pull\",\"given\",\"allowed\",\"respect\",\"here.\",\"along\",\"Armour\",\"more.\",\"0.12\",\"threw\",\"HAVE\",\"bags\",\"decide\",\"pitch?\",\"temp=49.8'C.\",\"Obamacare.\",\"Reebok\",\"Check\",\"moved\",\"missing\",\"Php\",\"divorce.\",\"High\",\"text\",\"son\",\"realtor\",\"Would\",\"sorry\",\"nigga\",\"rates\",\"picture\",\"scared\",\"strike\",\"stock\",\"#hiring\",\"weather\",\"local\",\"program\",\"home.\",\"Update:\",\"control\",\"site\",\"2016,\",\"everyday\",\"track\",\"i'll\",\"create\",\"shouldn't\",\"join\",\"totally\",\"iPhone\",\"conference\",\"dress\",\"pizza\",\"battery\",\"Wow\",\"main\",\"N\",\"project\",\"saved\",\"Kershaw\",\"Rd,\",\"Graphic\",\"lights\",\"hiring?\",\"worse\",\"omg\",\"Which\",\"videos\",\"married\",\"GUESTS.\",\"signed\",\"Unsecured\",\"travel,\",\"0.11,\",\"realize\",\"Guess\",\"truck\",\"City\",\"reading\",\"Having\",\"clear\",\"thru\",\"bunch\",\"furniture\",\"rental\",\"Poster\",\"ended\",\"May\",\"PM\",\"special\",\"#seattle\",\"%\",\"By\",\"Might\",\"share\",\"fake\",\"interesting\",\"lots\",\"3D\",\"return\",\"kph\",\"Looks\",\"Americans\",\"**\",\"in.\",\"increase\",\"bigger\",\"dollar\",\"there.\",\"Ima\",\"education\",\"pink\",\"Co.\",\"package\",\"#Graphicdesign\",\"vote\",\"ill\",\"calls\",\"release\",\"Table\",\"others\",\"losing\",\"temp=48.7'C.\",\"Babysitting\",\"medical\",\"seem\",\"felt\",\"installed\",\"adult\",\"meeting\",\"serious\",\"homes\",\"rid\",\"president\",\"South\",\"album\",\"feet\",\"Those\",\"year,\",\"dan\",\"athletic\",\"chill\",\"0.11\",\"healthcare.\",\"dental\",\"un\",\"Am\",\"pada\",\"somewhere\",\"Gonna\",\"Went\",\"cop\",\"greatest\",\"Because\",\"loans,\",\"3.\",\"Very\",\"dance\",\"km)\",\"words\",\"prices\",\"Video\",\"Thursday\",\"total\",\"five\",\"busy\",\"F.\",\"gold\",\"Currently\",\"hat\",\"Nice\",\"temp=51.4'C.\",\"thinks\",\"Things\",\"22\",\"b\",\"#RaspberryPi\",\"football!\",\"you\",\"terrible\",\"warm\",\"purchase\",\"stream\",\"smell\",\"emails\",\"DM\",\"Security\",\"exactly\",\"goals\",\"wifi\",\"mod.\",\"sometimes\",\"nobody\",\"synced\",\"35\",\"pc\",\"far!\",\"field\",\"See\",\"#PHP\",\"record\",\"bus\",\"safe\",\"(C)\",\"tf\",\"train\",\"Molabat\",\"exercise,\",\"mercedes\",\"hasn't\",\"page\",\"T\",\"wit\",\"flat\",\"listen\",\"#quote\",\"all.\",\"form\",\"driver\",\"0.10\",\"BUT\",\"Ok\",\"Early\",\"#business\",\"yes\",\"affordable\",\"is:\",\":D\",\"Temperature:\",\"AT\",\"Vice\",\"replace\",\"opened\",\"17\",\"luck\",\"dope\",\"drinking\",\"uk\",\"GET\",\"coach\",\"likely\",\"continue\",\"Withings\",\"Blue\",\"covered\",\"issue\",\"children\",\"camera\",\"pack\",\"apparently\",\"board\",\"Int'l\",\"slides\",\"coverage\",\"weigh-in\",\"0.07\",\"Scale.\",\"couch\",\"Michael\",\"DO\",\"decent\",\"#best\",\"switch\",\"Optimistic\",\"UP\",\"connect\",\"stick\",\"considering\",\"Being\",\"agent\",\"rugs\",\"ad\",\"lay\",\"present\",\"season.\",\"touch\",\"finding\",\"bucks\",\"BE\",\"healthy\",\"ideas\",\"Idk\",\"hungry\",\"Sometimes\",\"Temp:42.24\",\"loves\",\"(\",\"anywhere\",\"wanting\",\"log\",\"age\",\"down.\",\"CPU\\ufffdUser=1.0%\",\"higher\",\"mental\",\"CRM\",\"laying\",\"changing\",\"apply\",\"preschool\",\"!!!\",\"Shipping\",\"annoying\",\"So,\",\"booked\",\"Temp:41.16\",\"re\",\"WHY\",\"o\",\"Ready\",\"added\",\"voice\",\"John\",\"Hopefully\",\"ways\",\"hoping\",\"debt\",\"off.\",\"Hope\",\"v\",\"wind\",\"inning\",\"years.\",\"lunch\",\"except\",\"90\",\"strong\",\"large\",\"#Nissan\",\"route\",\"camp\",\"search\",\"West\",\"I\\ufffdm\",\"October\",\"KITCHEN\",\"everywhere\",\"fight\",\"#cubevenue\",\"2017,\",\"history\",\"this.\",\"Divorce\",\"na\",\"Social\",\"til\",\"exciting\",\"#pitch\",\"premiums\",\"S\",\"Contact\",\"standing\",\"Out\",\"Windows\",\"....\",\"breakfast\",\"Stay\",\"0.08\",\"everybody\",\"chicken\",\"process\",\"thats\",\"memory\",\"fresh\",\"provide\",\"practice\",\"snow\",\"FREE\",\"NEED\",\"random\",\"sweet\",\"Stop\",\"#debate\",\"back!\",\"well.\",\"note\",\"nearly\",\"Working\",\"trust\",\"regular\",\"Online\",\"nissan\",\"hopefully\",\"normal\",\"joke\",\"it?\",\"Facebook\",\"work,\",\")\",\"ARE\",\"piece\",\"heat\",\"#SanMarcos\",\"San\",\"Hiring\",\"(12\",\"Team\",\"fear\",\"lie\",\"Literally\",\"procurement\",\"often\",\"mess\",\"policy\",\"Cyber\",\"homework\",\"GOT\",\"Parkinson\",\"pen\",\"cpu\",\"ObamaCare\",\"host\",\"turns\",\"Since\",\"United\",\"proud\",\"tea\",\"ive\",\"delivered\",\"score\",\"Athletic\",\"Off\",\"armour\",\"soon.\",\"suit\",\"didnt\",\"pain\",\"tickets\",\"hospital\",\"0.09\",\"Pro\",\"P\",\"imagine\",\"saving\",\"etc\",\"0.13\",\"Flights\",\"legit\",\"grandma\",\"pitch!\",\"ist\",\"download\",\"haha\",\"WAS\",\"focus\",\"Listening\",\"settlement\",\"marketing\",\"whether\",\"spot\",\"upset\",\"RAM\",\"#how\",\"uk:\",\"aid\",\"income\",\"choose\",\"23\",\"singing\",\"official\",\"received\",\"healthcare,\",\"town\",\"Way\",\"interested\",\"GMT\",\"Welcome\",\"Uptime:0\",\"heater\",\"kick\",\"gpu\",\"sense\",\"sun\",\"Tennis\",\"loans-\",\"Florida\",\"NOW\",\"India\",\"Open\",\"His\",\"right?\",\"thing.\",\"customer\",\"especially\",\"em\",\"3.0\",\"contact\",\"ahead\",\"Tech\",\"E\",\"plays\",\"showing\",\"Quotes\",\"I-64\",\"lets\",\"50%\",\"wont\",\"W\",\"ST\",\"#LOGO\",\"#nikeplus\",\"days.\",\"ugly\",\"expect\",\"money.\",\"rain\",\"paint\",\"pulled\",\"yall\",\"review\",\"noch\",\"BACK\",\"turning\",\"immer\",\"September\",\"Pretty\",\"Space\",\"stores\",\"etc.\",\"boyfriend\",\"stairs\",\"ONE\",\"Nike+.\",\"gotten\",\"points\",\"0.12,\",\"things.\",\"happening\",\"hits\",\"visit\",\"Room\",\"king\",\"Dementia\",\"26\",\"cheaper\",\"&lt;3\",\"yeah\",\"Mike\",\"act\",\"products\",\"d\",\"users\",\"St\",\"X\",\"oil\",\"33\",\"is.\",\"Cubs\",\"uni\",\"domestic\",\"bar\",\"third\",\"learned\",\"windbreaker\",\"dell\",\"2017.\",\"street\",\"ground\",\"lives\",\"time,\",\"blessed\",\"Today's\",\"ship\",\"national\",\"Launch\",\"force\",\"orders\",\"out,\",\"empty\",\"handle\",\"19\",\"makeup\",\"mama\",\"information\",\"Keep\",\"eye\",\"model\",\"500\",\"difference\",\"people.\",\"foreign\",\"Jose\",\"songs\",\"V\",\"him.\",\"event\",\"mi\",\"fiscal\",\"loved\",\"lb\",\"truly\",\"himself\",\"Okay\",\"WE\",\"known\",\"earlier\",\"bottle\",\"simple\",\"lower\",\"Find\",\"cup\",\"Sofa\",\"ever.\",\"regard\",\"Remember\",\"Thinking\",\"beer\",\"meant\",\"#Minecraft\",\"doctor\",\"Medium\",\"session\",\"thankful\"],\"tsne_x\":[0.4221319497966446,-2.4510410616766976,-16.65186658181691,-6.085067823188349,-15.756581490716911,20.072189392355202,-12.89295293767833,-3.6394827418261713,-10.513645028403042,-8.425047478661806,-6.173426518579732,-8.285735684918023,-6.625085872058508,20.617180261055804,-10.42113207270734,2.416629416280414,20.44758149781024,17.079265037767122,-0.14894540024717332,17.090561993672093,-10.039825786892981,-11.756090436804662,-15.42955908655388,14.335639680220728,1.4914472210726186,-1.8836216769975882,-12.201689413727694,20.52395998355096,20.137300063085036,20.369208338726082,-0.2599729573866752,-2.504464248295383,-0.779410801692133,20.36838441576399,-15.890970166066252,-9.12755386395581,-11.04445568523386,10.76849007712098,-12.816942234974658,-12.943347760310084,-12.230810172551475,-11.801008536193374,-11.691974306942893,20.120829627422047,4.817499095403605,1.9120883338289558,17.02570697587908,-9.68901811774354,-12.285832389600015,4.843527563018262,-11.133602534894486,0.7000254494931185,3.817821267121148,-9.856638093155425,7.184969982606997,-7.267254055449575,2.7400930705035593,-14.556107717237026,-8.028220629923688,0.22985317660216822,19.792484307170657,20.224175916812587,1.9256699093376148,-13.623928864005183,-10.403528009070351,2.604498441292381,20.612666496875573,-14.734740468746514,0.23490170714919334,11.545443985626383,7.041795077931797,-7.051803291553949,0.17246115560025968,2.967348504529068,-5.710870664652052,11.604953495984292,-15.456632721556995,11.527086297316417,-9.322104057955546,-3.53271495714363,10.888034101350705,-15.270680612408647,3.5949846135020302,-10.8176719711136,4.188518253134186,-15.172657817645785,-2.962010699404747,20.10302561279525,-4.1230403117340355,-8.761996877903703,-3.5594700606663072,-4.584583054494678,-2.9977105751862885,-12.190716246029442,-8.20969882190231,4.11517509886829,-2.3514549060060923,14.562403721428145,-12.333005488713926,-5.98796149704885,14.937276936018893,-2.3654458519045787,1.8576126531162345,-7.0889419151781,-9.506635431857603,8.585320543106453,-11.71475595000673,-3.047761332744867,4.869696251664047,5.895805617641308,-7.513038749600896,-13.362747799324564,-8.90713870514703,-2.5185529644286944,4.974270091444387,-1.7821212343626627,0.23996829569464886,7.32278829109245,-2.802104727863797,0.9635364297968301,-11.920406629805361,-13.744326639201978,-14.470538155804334,-4.218660285863797,3.113991401727511,11.460564992224539,11.604383826259541,5.301184948924645,-17.429202170416,-14.390701383265034,-7.694719597977418,-14.223394123326058,-3.7348752567601284,-10.598302901327433,12.367991849809794,-10.13435169962487,-4.339389169979692,-6.981281554759302,6.521831719642563,-13.983193541146763,1.6559003690483647,-7.178497662987122,-6.101734103719379,-8.37351665918528,0.7806220276108695,-5.553121009598037,-1.3555434977748126,-9.21191964786877,-8.290704485159507,-11.422434874538911,3.0246185932561036,1.1743187273462312,1.7233432518504133,-17.3541743149615,1.3112015744700143,9.487210628183286,-9.451146151962872,3.5773918307520622,6.954788188662551,-16.401627888669562,2.3017134626625593,-7.330092789919684,-14.243264192260012,-14.131818747485609,7.030085515753932,-0.25018554437326207,5.273043234083453,2.308703949277166,8.809190163472659,-4.707562802911217,-12.44858780255463,14.36425122354927,-7.73054107434133,14.907835464816129,-12.950526490505416,-7.041737252214641,-11.562524620246444,-11.67052286043301,15.871197733316663,-12.590785681593598,5.260741249424402,-16.903065849608744,2.5250249080318974,-12.20456451711862,-4.080074793159196,3.8005156979802153,-13.253947276832218,-13.315520096562334,-7.6539259990743655,14.833545237921921,-4.702226800377324,-10.010533352081737,-8.598306966929547,3.0003600552876843,-6.969480678808725,-2.069502816255907,-16.76438639192443,8.38099632129224,2.2942359153809457,-1.1318479434399036,20.09876413376862,5.362468204919228,-9.074116910674965,-13.260359659198139,-4.24810834746221,-15.004465002876033,11.136284067396844,-15.920554526607495,-3.7327397937927693,15.8987469459314,-2.0519028382315345,2.2837866713520056,-10.482652314841223,7.830826407594455,-12.682257010844483,-7.448299692695283,-10.565032752159135,2.3353576255314388,14.837951749786647,-13.278723096047603,1.8005826284723796,-0.6996032191332152,5.856833927652586,8.905824912311415,19.95924665288,-4.21087867359609,-6.925257477203499,6.2425089249261525,4.763889336089713,4.784653422082094,-15.12121213824101,-11.169924251756168,-2.238583943280616,-15.223618111441972,6.490118805962408,21.925979031193823,-15.583884723600137,-4.841796019675586,4.9709040705300795,6.6487273324518394,15.774113585511458,20.076303085518976,-12.154566757307105,-11.767748729841088,-0.4115009821045994,19.943146572542524,-10.539947894508536,21.866876587305487,6.0194187597871105,-9.180226287795211,-4.703788655649148,4.243611364813755,-10.285951721048638,5.182346080735815,7.604789022295319,-10.71484100567023,-0.648464099661365,-0.5352851600939967,-8.928674399309749,13.478351795333275,-2.676715029209294,-2.6886180804441193,4.847637366987394,-6.26963068541581,-14.167014921190237,14.822709862515426,7.638852589855622,-9.063456329606444,-13.30047126694252,-4.979132937684499,0.7296954134348509,8.881842874096154,15.632523492501042,-15.913294744266738,-7.041604799549057,-1.7991088970130282,-4.6290840036815215,-6.2042985702083655,-6.778466058449031,-2.6265321742064325,-5.9392727801805485,-9.785638915169987,10.064784838409668,-16.03059448056011,1.0648539251040152,-4.680924383353877,11.14852523343766,-5.57501211956886,-15.832338895229746,11.462459633157883,-5.292612801562123,17.084084448699844,6.87554016159147,-10.904998726910828,-11.272658972598427,-14.989549492606475,-2.311245876566518,-9.339767079240405,-12.103344238261469,-3.288089188235899,-0.22422109882940955,-8.86049348185761,-6.803423857851766,-9.286943318773234,16.608531572281738,-2.3801157820594425,-7.720655932906684,-1.5118090391755845,-9.262386472211656,-13.426094246324253,5.321213478670048,20.133606040209465,12.023197108125824,14.299079493676754,12.672170139848777,14.293177369549966,-15.11849191622973,-9.071683712758054,-12.288414304807628,15.982584125430895,-3.7311982022959462,8.058435890066871,-0.2415476713705148,3.121502411901427,-6.861065697586414,-8.676185967115531,1.284471048420583,-0.6852112509422623,1.5321993474727507,-9.62697699781371,-0.6908499624519386,3.0387010265742447,-4.071831363947916,20.110581942321023,0.1879483496888837,-14.777182405489391,4.050242827206984,1.9373445615198237,-9.164252039904481,-0.7777103020948302,-16.51249684831147,7.0114714479556,-8.662771346939014,-15.396409868840808,3.1192271191118737,-6.071177358512541,1.024318032834379,-13.369676238000283,-3.9720277473828762,11.33315586085116,-6.396279626041639,0.7675014934051203,14.304106634726656,-4.361797609719922,6.151646397564424,5.035009095409016,11.087317807193187,6.640236974995699,5.412553538631897,5.124932543583713,-12.308473040554894,5.0547202936101465,2.8793355779533973,3.217551361723925,-9.82374111549288,-4.813086551708974,14.982401672927276,-14.196779803741821,16.65670927824932,11.32708451802889,-2.7996806924101985,9.142457422475228,-0.6588156363992217,-15.888370596994829,-14.480809794531426,-10.396152185049885,0.04222024955057585,6.564149205382526,2.4203915842616164,4.0768376686051955,-8.722855200957886,3.8741469476066284,10.189483349625295,-3.189800001829049,8.904720815768776,-16.141717188149297,8.656462268474757,7.617159875664558,-8.531416080302463,-8.13034177294886,5.226701639346994,-0.45927713811013154,-9.96110986587244,-8.395168696272332,-3.623994563922911,-6.919855876855281,-8.724186367965055,16.82055823312472,-10.507235982180669,1.5136355957716114,-14.706106211327,2.740487588602063,1.8988322340189405,10.139183041917095,-15.669221807232248,-9.035482368632543,-11.012494952665422,-12.161228732733827,-12.507502950912231,-8.282593518027761,7.544053242475286,9.896366567373459,5.080840903349158,14.863486238869474,16.998596608517772,-11.467341686579285,-13.054090648641132,5.528548347607281,4.9964721238400545,1.1209441657018917,-10.219624214362305,10.87351062094426,1.9604830755480966,3.127828001287893,11.135480211895874,-12.745962501149192,19.64544101089557,-0.8813409685149216,-10.31096713765122,0.6150820598652131,-1.1486471512522598,-6.91565460051257,-0.6660943613311737,-8.95443135195271,9.2378419394479,-9.723145726152406,2.460575418360569,0.3217710620185035,-8.801414462748651,8.19497664469775,10.113663794149382,-11.93336539335477,5.025130487480193,-6.059479910078329,-9.344842455470289,2.5333558851488807,0.07606173964402593,4.70084355980134,-7.6794582448781,-0.4840079767989583,-7.3643872176966,17.072705695222613,-3.0772194953418937,-8.159825465346485,-10.667049351275766,9.674766767960117,-9.052682195858972,-2.658435626965818,8.251195182745658,20.089948698132527,-9.250088012427618,-1.414095963012387,-13.486278536057794,17.19252485772387,-3.822384246348049,5.959834851148448,-2.2059966372379862,8.15921804909456,-12.508451085608067,-3.642466988263088,3.5055228466620916,3.2140099221298777,6.366420318101688,14.725725388736997,-5.210526535622201,-12.965648688841686,-9.311323525654307,13.208021528140014,-12.058274723334309,-8.831305202225062,14.393464411750676,16.779069317886776,11.046682200672427,-9.943808169520796,4.69516068961774,3.6817779431619138,-9.25580472827135,-8.773376331142751,5.7332625059475255,0.11961567482108847,8.977441431567657,-4.770290583085488,0.18455842663067604,15.72377394505659,-12.670108698607248,13.405550923317065,-13.497216460894608,9.861355680774322,16.10413996213891,-8.408980779981471,-0.7322433046590494,-4.6084373247415344,9.2116812468416,3.618586210226408,17.48879304108477,-2.2219265714710166,11.51435291566578,-1.8291221584368356,-12.125091526336895,-6.319765332799222,-10.582910120943842,4.177594751173288,-0.19216034830963255,-12.287263160605908,-12.287148683925585,11.960712374857094,0.06329275116855414,12.124365073233033,4.711639417340172,-4.110572864897653,4.6172024997800865,-2.059084446975126,-16.855036875672546,-9.291205241729772,6.268854370695399,-6.008483562377678,-11.736637250554484,11.027748092560266,9.134833504044218,-9.29041679277119,8.90353620079992,1.0585537932543314,5.203386937242184,-14.924513319009774,-10.868109566764213,-3.5745456422508926,-1.3900197623961519,3.931599483399306,17.28557103654118,-3.1217429934049767,-8.514212516226069,-0.16673684877129957,5.441190789881624,-16.922772329874125,2.3725028804579824,-10.18385975159971,-10.126438639508136,4.737425246342717,1.6957683551512825,-6.380721618072382,-7.751322389787243,16.21930525992128,5.778747478944771,0.9156319412385291,11.940953368647316,16.189682461106305,2.1628058146314153,16.21465791430772,-13.539788790154075,4.478889987278561,0.9391531497864495,16.278185325044618,-9.162469388025091,-13.473025711040062,17.012905569832085,17.171030207074185,-8.893213850531177,7.7183480880165884,0.7475645266958687,0.13384844396337064,0.9561717230908579,8.19200727172014,-15.786120369125722,2.0569952979583856,17.98388730889807,20.618459115324093,-13.53538227110589,-1.4733467142462358,-12.166462463833467,-2.8996418635952526,1.819178169899391,-8.934493576121051,5.382827567780792,-9.844298535945532,12.297009031081316,-2.5970680158962995,-17.400838171581505,4.574713297218023,-6.050980617937492,11.858428424207746,5.158549220732118,4.495659281853396,-3.275341402240558,-1.0996368934056993,6.178074033564907,8.882127170707463,7.238780630020556,13.414937598334776,-1.7831727707317169,0.3328524930489213,-2.8031912947202646,-7.434345014420733,3.2733744426384708,-8.482285682505529,9.40328761830352,2.307941332614509,0.18157918034498605,-0.2042650057897511,-8.98530429420111,-13.034202133474801,-1.7218836108854998,-8.753077552586719,-3.301182459312642,-10.071671835252774,-11.225284282797505,-3.9323442100379187,-15.845153884188381,4.117189145719113,-1.104177954769389,-1.1654120332382716,-4.185398629731709,-2.936655237796204,1.7083519105524037,18.276555693809957,-7.8533009542583585,-14.173307559682316,-7.430344934955075,-2.450168390076261,14.965559159311047,5.7433624888212655,11.0651417999481,8.100474481292997,-10.94951693279503,9.100527412958394,-1.0085119619845704,-2.363108573144975,2.00034331616158,7.733424444193663,19.174091035933074,-15.160121891750313,1.8468178186223367,5.560162809980215,-6.528153870327274,-3.54668292918678,1.868637228401356,-8.498431790121762,-7.328280152854214,-0.812057145884988,-13.40012136688383,13.496892898909362,-3.4885948094109107,-7.363185734042652,11.939160151402975,2.3422426507991543,-10.795149150854213,12.813054220622245,4.700068305349383,-13.171829646420775,5.633686100711001,-8.531880801252855,20.101641057865866,16.266632886485137,11.031017888670629,-5.195108150251368,-12.51172745428567,2.4240268650036465,8.138395062266156,-9.336550407238706,21.269829179524695,3.9337048536147186,0.9223853015817752,-11.026078571654491,10.371189912892314,-9.80482960460146,-9.204105104919293,1.0771771361805,-16.364320625037823,-0.4992984663078989,5.714391072678596,-16.57714707062063,-14.869355918805747,-11.24227072556024,5.391752025667304,-0.11865016038886558,9.074564558772499,6.278959055832863,20.112611261991244,10.899556584567812,-0.1769234467844852,-12.971286001729764,2.9906547658119,3.3558073526575387,3.25583645111545,-9.477170020990382,14.158289308461844,-4.6645144986260245,-10.324071599889947,5.252132485728429,2.0673784567120888,-1.156618646392286,-1.8595049245663517,11.073673562046519,8.332006447371379,17.282798375930618,4.305902945964954,9.224551036981422,-6.958896312936159,0.4587551795216739,-3.507288995591133,-2.4638635770255974,-11.088385463702279,6.146709586249633,4.699682210500678,20.110892982267845,-6.61241320919262,15.83115217100672,7.072041050563977,20.09880138097175,11.77899889721561,-5.446265753249982,15.405070844239315,3.977769073727129,-14.031099964817052,-0.008781691321292195,6.248460896712553,-6.610104816740367,11.740872023789542,8.84350418953033,-0.6708650095441884,2.365676351487432,15.988891079857519,8.657280442810352,-9.12965938804086,7.26737912863596,-10.695443902964668,-7.827699963897613,3.020193362974962,4.66845536502829,7.508786138013008,5.7974594773663375,-7.573772270733606,0.053201168313141,5.194021736269313,-0.7502594945006468,-10.017024864043002,-7.677518568580384,-3.031993128412601,-14.829768971881764,-12.28436955282984,-3.032723103663898,10.529819027152008,11.027161049340979,1.9709557017207835,-6.150421971183941,-0.8062068214565393,13.503698360834111,6.596123244405788,8.414290357566601,3.464247830250756,-3.9092973969410796,-0.06693801785110295,3.9937676957905985,-4.032429085560094,-9.335250496469957,10.540769140663736,-2.065045529097667,3.105075482716568,-12.754023061690098,5.891440410805678,7.181672014821586,7.2785222059586525,4.796982153707404,-10.80771607764619,4.2854894377835535,3.1139056315764453,-9.98544547126359,-16.027913291250233,19.362685207410543,-14.165018088234369,2.871101706424221,20.103241021398038,-3.481890429074016,5.293327156590338,-10.62013418900005,-4.823498711023535,-7.396818197020062,10.941963040812087,5.70432309495432,-3.9416919713424003,-2.3279008018940646,2.458232305508942,-6.197079040793874,1.1072716690024427,11.393189454058502,-4.990632144199161,2.8832542605108578,7.789688275770951,-9.184117393726023,-0.7651908649819262,12.479172634316058,0.29963603487668533,17.755256237615253,11.778652326434202,10.740295247780479,-7.0784915785359805,-6.292797040613524,-6.722093926575302,-11.000297990241577,10.985401761541008,2.419315488163819,-12.704108158981176,6.919565598954105,10.992722621193812,20.092180092171066,5.5560502575309165,-1.9991871086876962,-11.90886121403403,9.928297906750094,3.9268693170836104,-8.297946394061064,-5.7945579995633985,5.691609557911432,14.973769557505081,-3.2275925415585265,-0.5798279867593599,5.521893472642475,5.73127992305275,-11.95938391220487,8.682507616184363,-11.838261775757664,-4.275800214101942,5.233768533767995,-13.674096076732713,-10.833539862673055,14.131763133614706,-5.022716613108344,10.833544211241346,-5.2167459788438135,-8.316585895650553,10.829324970767901,6.865153693383583,-6.202915279797864,11.98815013395714,6.079256838755361,10.284060321978378,-11.92066425858916,-14.188791823823973,12.438802248466608,2.9165738087324424,5.924655470733085,-1.8771337523173333,20.111762400276856,8.579662458469823,8.359962313661708,16.518628284800872,-1.4751321867142022,-3.3352838710504558,17.862861324500212,-10.130361153654043,9.311521862388568,-6.483230557829532,-10.245950030850102,9.767810711677889,2.0416057703402393,10.227821941885255,9.281611168226666,9.37605667503412,-8.676340934507758,8.98383647123784,13.75492741803823,-14.932968281907609,-1.8770998865862647,-5.9031100331992175,4.05371114045643,0.3772008529612055,9.31055585352862,20.090073759802273,-0.04219533324138767,-3.7802583902228113,-9.603880542148993,-1.6023181887544324,0.2397360299052749,0.5148699254051373,-5.609579611528736,0.27126622583860005,-11.336481441196229,-15.799405699753377,15.42408771363731,-4.712160021262415,-13.51307481165466,11.211036819544459,15.151210136079548,-4.6067794846309775,16.50210035301438,6.6683617274889055,-9.165039797884882,0.17657620588590173,3.984228628578824,15.40187655122786,1.9922351999432975,-5.1302908283961175,20.124944409514633,2.416198311629835,-11.050931698283177,18.708207992951312,5.197397917936173,7.1313498181903645,17.96241452024545,16.568543140924454,-15.809822597646999,1.7646678907464766,-6.402874048722232,-11.918772184019664,-3.1100377894130515,-12.775273655898555,-14.405802197399158,4.688979010238107,0.36707128585229143,17.858215118532794,10.360038375979025,-5.345132161504001,-0.20592669310111242,16.52705823830859,-5.8745076863208325,11.990030234834816,10.351081527827048,-10.530793925588803,11.71914219471188,3.755153011940225,-14.236548034517327,-12.798861598794513,-9.040067745204507,9.359949432417189,-0.255666938761478,6.897573584475442,-7.07538643492656,-7.591089760640433,11.616242378114032,-8.806059223680288,-9.282451967065072,-13.385475312638915,-2.3360176946390316,14.492380202797053,-5.895784479142339,5.677529055527765,2.0064614137375405,12.446400560399528,20.109724249105582,-2.000822802216316,-1.2231434637091043,8.545189910349306,-6.176133323977478,-0.6211820594461366,-12.731460829544586,8.737867978993975,-2.530423087675087,-4.80822381585298,-7.740744681154308,-14.102398738916596,12.272959314211374,-7.8843499749926895,-6.091766707747223,-8.525790550237165,-2.0529032322408907,-5.749666864420992,-17.397432138654246,4.7370663804395585,6.128041210832884,-8.909040967602108,-1.2565364044023097,0.5973477032041897,-0.3145945226102556,0.23170412128846402,5.901555480760667,-1.3386296050633053,-2.218284427040753,10.15086375240079,-6.065064286888491,-0.1706120890081228,15.954907569437863,-11.232814227549504,-11.774322295309442,5.175992747539882,-13.551567593504982,-0.23974153889939231,-2.979107858393433,15.933151503419259,-4.199171451692438,-5.1826831738745645,-10.315650847546118,-4.62129951116627,-13.25941938193038,-7.104281526582225,-10.076754950910999,11.51650410626915,-12.26728189833516,-3.1600497828060328,-9.135241471992314,10.097616834798298,2.2077773881002694,20.522831200647165,18.627643737099547,-1.50186811817765,7.45704903825503,16.590286753360807,11.774301272456409,11.903268067319592,-12.299633486037735,8.315253831857687,-1.6392598979782231,3.8288781988022786,-1.017883493679992,4.384364780018106,3.862446369231272,-4.589608374615962,-15.925708303908323,6.642482043595797,2.908231056101157,-4.687520885425278,1.4923098755661988,-10.130168291532735,6.191355953765891,10.431279002723748,6.753997866070363,-15.924405568846872,17.831503703407446,-9.45217318046376,5.870851141720456,-1.3991897571390182,16.053016790054077,-10.372295914220482,-0.5533272962583293,4.38989022456601,0.4729594262551172,2.611428092388651,-9.211622649260908,-5.879015034915064,0.5323894914250009,-14.08141660328305,-5.57158412792334,10.836684925234252,11.125125942896485,-4.849301869680035,-4.800875497718573,-12.286383397347274,16.39062910975073,6.747435584961266,-7.727068728402859,-8.817393495570533,12.287903613397367,-7.523455058538218,-1.312439361291186,8.626224024049478,-11.562018295949251,1.3996737135598072,18.27494002592895,4.695068741084736,-9.734849056217431,7.668064995553101,-4.772802704168386,12.858470523043927,8.893968671354394,18.000268189847432,-4.683035946996558,5.581646172124056,20.27398890196216,-11.9841547087427,-0.3876426317065371,-9.346625776194127,20.87575607529476,7.1562026198848825,6.989988316092154,17.436154866204507,18.04743168618881,8.301516250201459,-4.735580468172097,4.467384357851989,12.201500087845663,-0.27850164559176327,13.263304104469585,-3.4886417963255827,17.644653306885523,8.69823562960415,-7.472773303221638,5.232994431471815,18.357540246722902,18.713654034432345,20.1212035943192,18.28134533500025,-6.225096097492806,-0.2522528301606407,12.019989220893056,-6.266590607515611,5.537570567684891,6.92126061998163,-8.267711309607634,8.828920775360338,-0.692993003123494,1.9586264037898795,3.823338837445728,-5.389427387276637,11.881251551029308,-13.507855470200454,9.989069317142977,-15.928434083483856,-13.099325018076803,1.950187233920915,-4.8582278789036675,4.456715207464365,-1.9010510755952472,-17.47563021817042,20.099617050180054,-10.115822855328336,4.606143352662779,8.673982999782666,-2.097416270215233,17.35900773444417,-1.3068702405539474,11.56068754701149,12.541567048492269,-10.100532297582898,-14.217430536473682,-10.473111489816242,-7.2195629860823685,1.8995268119414774,15.950723757999986,-8.169296530703235,1.1707068390017672,-3.1916159323131943,-2.468804492583189,19.801309467313533,-0.33669225749306453,5.340091612292566,-8.837180811724446,-0.5903705175941839,2.31117517805714,13.333031855737266,20.096930075429505,8.690241931661998,-3.218634114917663,0.38934018107113055,1.4261790917601074,-4.332515549691078,-8.340334032107187,-1.3365369774812197,18.316098794205075,-0.44436248835772246,-10.769444961955614,1.4627974355547537,18.3984338472649,8.665638819812505,17.804167792425964,-13.555821144246005,2.9232757581689572,8.540954591380338,17.712804682631262,2.9208433541413283,-6.113026114372862,15.879794553161895,-8.6630111475964,-2.361927066480988,1.2700796443530324,0.0014642815291877438,-3.348888986689983,10.056917960792179,12.595746792359808,-11.991456335133442,0.1110863987791796,13.841178052029393,2.6369388842219688,-1.4053905548684253,-6.021824243461837,10.931364739568973,10.243054683080686,-10.857565158720812,10.978710519130251,17.177110160667137,-6.697699038835754,1.1015656440776858,-12.930534206178883,6.833869258641423,5.338500162272982,13.336783759900783,0.3385073668060231,4.350743098732786,5.60713626454131,-8.573223512068221,-2.1058630144078183,-15.232109358433714,-5.623731817515677,-6.967735366957188,-10.642324382418314,1.92820764483187,-2.103895562273123,-2.715160007780432,5.867614211357997,16.025459493198234,-8.69932840456244,-15.56880170668804,-2.910201969042304,-9.1983063710746,-10.214418104490374,10.305810748710917,5.97014418529603,7.530628243395413,-6.418261289679504,3.201365183705338,0.1991871795857101,1.3006544784166318,1.925745306677451,8.635396560499661,15.896308614925411,6.513772193448723,-0.29852747044079275,-4.699603113712529,8.374973952501426,-1.9118214736296308,-0.4727833786005684,16.518955993007513,-12.961049644117688,-10.486362508876427,-3.7966206628134436,7.162057431404349,-3.4109127490618807,5.276861811762827,-5.545788982703168,-12.285675156510223,-3.122804568276922,-1.7198331598098902,1.1908229828462453,2.9938557476174616,-6.036600264677928,-5.266643295981823,10.422276642956827,7.050880331576949,9.633097215399896,-13.268891070818118,-8.93046290814087,-4.322912592759028,14.177617618474983,-11.922168993144663,-8.782282452914831,8.327889651887057,-7.515749070488382,-12.128698076451203,-9.048820760116621,-1.6272513603881285,1.3441926727637663,16.55687360640126,4.8730203728740555,9.748393109568646,10.262619996026098,8.357833219289938,-8.92965094038268,-1.7126538233220194,3.79558625321392,0.4946782860155613,-1.3743897718068514,14.101111120563548,-12.296215504171222,-1.2798223791124423,10.05400297888683,15.289118679023176,4.409767752801186,-8.342778698928512,5.291014826008189,12.21089671716916,-5.789168660975184,17.80719297647097,0.2653043409298965,7.399629087331204,-1.7392737847037296,9.0413868190702,1.782143222424285,1.8479331364002463,1.7679046621235894,-2.3886361355954966,15.125552523090606,-9.298768808287068,4.411976289535669,0.021205053904806755,2.0303129190319624,10.608555148687895,-12.158366488016839,4.107027312892388,-2.401399417922389,11.085497078219301,-8.691092490074464,11.916799726091515,-8.582988296703574,0.7968068622447637,20.138602892304824,-9.711384731566444,-4.009197273425985,-2.188821596654652,-2.2775045451833527,2.8986624340134286,15.993498983888532,5.775269243937706,1.0412407462345261,-1.9990161496332344,5.412652828304026,1.2448477729660927,-8.660711708914304,7.346204189748663,-4.651762860419069,1.646442370412397,-1.5102396674076268,16.467739195271438,9.029852174411014,4.94629581480265,-9.047867888736484,-0.46433281066567555,-7.229405239347338,-14.009690116426292,12.198014333784345,-8.51751422036109,7.228284470747006,8.130947404559079,0.3748875429923648,19.736411928160862,5.356088544467889,16.604109878541077,6.1676253401196295,6.442013754247194,3.391173214226102,-8.61604425180663,-7.661099042996946,7.345195175437002,5.694029804928289,-1.8233721965208458,4.91909453655452,11.765043423110209,11.09885792394288,0.059266208606373605,-1.6446645010098537,-8.928501416193244,-4.535734274380463,-3.981795762796596,4.212501080293598,7.1304986669803085,-4.835057781648731,14.334924312159185,11.883239073468575,-5.821809927277528,16.633608139741415,8.508551898919398,13.110120505077838,-4.36576633767008,-3.1804231882919765,-14.29302346074139,5.5003495539401746,9.425780930102608,12.169491369315326,1.9220591570591812,4.056945843403975,-3.9438667964032286,8.353881007939847,-9.33961640274896,-10.389441793414226,1.1058100480366249,-14.291097189153701,-0.7128863714186693,-1.5307280261215364,18.595895137143735,-2.4673016541463246,-12.957100319489138,-11.001936634313791,-9.345109945103555,9.017240908898348,5.450050986430347,17.85447444578721,2.8820617625422873,5.612272394538873,0.1385129775766884,-2.1879427752048786,8.636051620695564,3.161474208970409,-9.919746445625066,-0.5044475823944176,-7.514113465037846,0.13979124835606518,2.2107508512981338,-5.215107608043741,1.8563528771001934,-5.551370292974656,-6.799955317052929,-10.882325480071506,-15.469688788833526,-5.123276759771043,-4.2085973629231805,-2.104365760792239,12.417115457503142,-4.579317841487032,20.126433320746752,-7.5514909509436725,-9.408279041073556,5.509655332890588,-10.581234174606426,-1.2014313862844284,20.088172777605756,1.8251404822673223,11.941801055640159,3.199586509600936,-7.81942361621467,-8.367717680508171,12.8756298121118,7.661227329566218,8.008766423489591,-11.985481607712064,1.1560683236740108,6.565326575039463,-15.466453086292017,-5.436824128665505,-8.675172364791583,-1.2329261265458205,0.32657357685390775,-4.047070026818944,-0.6200981717972515,-0.7369991069212366,16.610198408974217,3.3997772798511643,3.0951966993013413,3.1923175277294575,2.689831678018914,12.707841098280117,0.44613804246273014,4.448932208137014,15.232978904057079,-0.13925560334746223,10.41820714153281,-14.31171469797243,-3.1197134346741637,-15.860073516472212,0.014299713060790824,-8.670677956406323,9.937699760126424,1.387408277844545,9.98392209666576,2.536480963104087,6.775633471178777,-10.480465489536707,2.7253795415495237,13.236812500829984,4.433821759968497,-9.154900887356957,0.3456498523317391,11.640190308645648,5.558054295207427,4.634145697076006,4.132410443100618,-3.5636421233901574,-10.214727294361998,-13.334009597699556,0.19397534541822894,7.583097749732617,16.29125382562143,-4.944429160806528,-4.460211465216226,9.73458468609429,20.113343882523967,-10.17780219531078,-12.305014294037349,8.361706424613345,9.088602976397738,-2.0712368755165156,-12.59308464809222,-0.7007640782187396,-2.716325326826498,-0.6770465581717728,6.233038551501434,4.999373369476214,7.224180634320642,-7.139646539965613,-16.316105029444962,16.52261645680438,0.7590767855506436,16.691168693395138,18.899420257509878,4.789441152352549,-15.968725801366654,-2.2612498116798587,7.06117166958438,-2.612321939089259,-0.6504364699900637,6.536296429205221,-2.6651358258967894,17.159491809884614,-6.591091452056,1.0748848007787617,21.02343758584546,11.724997741723985,-0.7962066712823619,-2.123794890640703,-1.584627441666822,-4.263574346635607,-14.260134222295642,1.2583636694257814,8.746651173072511,12.530197422792627,2.8914011277825318,8.640958691684766,-3.5339426846042774,-14.285641006129623,-12.18800717658069,1.573696683349974,11.801766332024199,-6.257176192576555,-7.46841213623018,20.063035556037672,4.100774360806752,0.7495851754921288,-6.342100004529697,-6.136072089243274,12.26533413321408,1.1180011159834262,1.4375631550723864,0.8510891801586342,3.0533476412314067,-3.21197920541723,7.086090668228079,9.155840317555365,-4.721904412670995,5.924731693261562,-6.979038950924735,1.8665235979217805,19.79826668617842,10.04818588269944,-4.020035647520699,20.12335909693736,1.236369722324825,0.5666524678991498,14.372995220940968,-11.793791324208385,19.77040990747718,-6.575167957553262,-13.961643865422655,-12.513637145412304,-6.504714560657172,2.3834620590898923,-13.45723538527486,-1.189181796089998,13.33970465293217,-4.267300120297398,-4.8912062659461615,17.02782931219949,-6.031121777737704,-0.8537884009910229,5.1775721665555405,0.5806572125005555,-3.1053747655544917,3.544926798165726,-2.9802840351566275,18.74181090178594,8.653417987455597,-11.073356558920064,10.202918398175244,-5.25425186256948,20.11461471136851,-11.661264158803174,-5.638119872754844,5.851454015582148,-8.754078676267035,18.826282768173563,11.102240753123986,-8.861852172949064,-2.2963927314007675,3.4082853977730694,-1.0445005953124806,1.143461690948057,-5.564966607914117,2.9394317484447523,2.4997604264431597,3.999636414416499,-2.1241567177166245,14.189343478254603,1.711181163508944,17.1343450016867,-6.785747683374219,-7.338753577656578,14.403551165647462,6.772746485211257,8.364244360771204,20.093227723625485,2.1176057124229786,1.5693678094000592,12.37338334247738,-5.310966776409249,7.187757384869374,-5.565989905113054,18.752633750285842,-9.760146905601042,7.143471764590006,18.59165765782598,10.143688627737172,8.71643894994653,-13.595910104717714,4.735187207734109,19.30209031615357,-8.53980198385217,5.713433526949145,-4.868562920251136,12.027795496912226,-5.093425268481172,3.0120620338958464,8.57268362165964,20.147518735776902,-9.401284578431499,-12.15787675573849,-0.4456290267703518,8.486319135845356,-11.482114011260862,0.14085310407811003,18.666171237061295,-8.293363652748988,18.70675378183852,-9.39888456292215,7.185762202061587,-3.199189411541603,-3.5265592944546698,5.648491391742317,-5.412043249129743,-2.9393457403475627,2.7264716033562157,3.0696153123960457,-9.014648283738328,4.987850672032053,-11.33132303215907,-6.979154224364917,14.436352877662419,10.06490704618488,-2.3707207568541944,-14.271679195339178,0.3502308516402143,8.516263860994256,5.460732827938899,-11.547639638981346,6.299679736228654,15.210009371226954,10.549114340817118,0.353340453990817,20.091458067723824,20.14499474130523,14.466736592813517,6.17891088831267,12.04345707752777,-9.700167018126923,-1.7647018765068163,6.197967411799697,-8.083430073151723,15.210646782735463,-9.350706596762771,1.560634137232286,-1.1507052629619616,-10.475572857965831,-12.240058159023306,12.13038031588356,6.661663602144554,5.778085691835848,-4.707671459393891,0.22352374127513008,1.882036762944671,7.767584717083878,-10.146708831078373,-1.676778802223542,-9.2610290926906,1.516182845518572,-8.819496769004383,-11.105450950770258,-3.835239346929349,-6.844916908288142,18.343782526802446,-11.786760753393173,17.863492775515184,-6.683171194179807,-14.46934337739922,7.007577384629998,3.6560091915886064,11.594247732607826,18.625504752660994,-1.2449626761654928,0.967721115592323,4.1617255266021855,-4.808581322643824,-8.193302539124543,-4.384733513406858,3.597718049252836,-7.732820416421846,3.6850888778907107,-3.4967646957740066,-12.71844626383142,2.1346666772274663,18.338466961435255,-5.1172268308553175,-9.461892825493049,13.625514259851355,-13.399528300004471,-7.72274566818994,-4.862728722212062,6.384056501635055,-14.824459818583483,11.133296515958184,-15.01066853087466,-1.289846881244752,11.689500947504019,-14.947004500488486,-0.025806897810853636,18.231069582938186,0.11334412709477479,1.586082668959887,2.0488839676236474,-7.666066751531518,7.09691401976037,-1.9226662981038796,-1.818403511488875,7.429204721197536,-5.544360175347283,3.2831538739296064,5.37261168827076,9.146511857059336,-11.523370804342637,15.954150361481688,-8.851779633949834,-6.556784650053943,-6.232393885339122,7.3545796472770695,15.264759927986827,2.624304673809139,-5.384416074802006,7.663751397422281,13.482518813224377,3.9007692716573277,-16.916170604877983,-2.648365587898832,5.817603817806686,-0.42285470517754387,13.289896707463138,2.5661289166649275,-4.8452421908242025,5.630633979054496,8.99650194574477,-7.754929645620237,2.035469667279642,-6.071682354496686,20.17735818195988,-7.321930778070209,2.4846654709255964,3.629485135773386,-12.59770634047022,7.3174239541970545,-1.0599352916275282,-0.13265028249910182,2.0982529581521927,3.5474250384909825,14.82195401561189,-9.292647908979587,-1.0159880146261215,-2.610711344125595,-9.430515202176005,1.7983639311872528,11.058744394029466,-2.637404843537676,-5.191913384925177,-8.708727117638414,-4.087005779482553,-10.951513664699496,-1.4157812861126093,4.369359517199538,8.596396756235004,-14.805208866471286,-1.466838251227642,-4.258551562963221,-5.535301938107014,6.061047527861662,1.5485919149309653,17.85788973392874,-9.80162908262799,5.755548544122721,-5.781568710908215,7.391908649622546,8.96642169508782,4.297615762899664,17.883583707727308,5.069337851939295,-4.388002580892044,-4.575469112224533,-8.889040655320668,1.9620869477825713,-6.743720649869429,-4.235433934354569,0.2517757872265267,8.168619007643366,1.5237258292488205,-9.10778564530348,10.48951353195257,7.2107065513857425,8.647512074585547,1.8420620102103327,7.0040765203787485,-8.432925330099772,-13.30315512504787,7.886281165700749,-4.819775297408358,3.0026155734213047,-12.928763202526431,2.819323311423859,-5.884425377416008,10.981529312220202,5.484912271878572,12.091476336151716,-0.8895607256720289,10.298703374259924,-16.39823569012398,4.791865312530033,-0.28826629019628897,0.8619877054730452,20.12535000354183,9.691491439084094,19.322123448443964,-10.023297854546337,-9.20398127510676,-3.15499053152815,20.16179804858199,2.2745097845846964,-8.813994775587062,1.010581343414543,-1.2056019306421009,19.35746792856008,1.3642288497079136,-8.953671114020782,-8.994728219924212,-1.6298039120148247,7.1832386379064985,-3.9207298732960854,4.011508303190837,-12.94529318289229,-3.894572853936842,-4.380081136325987,17.580043293002053,6.227923004136474,-4.4327722525391895,-2.444085968429041,-1.0565494320011763,-10.480893428139131,5.904172740062893,-4.807143095296521,1.0771249246295007,-9.737241568104956,1.2260722516427902,7.29879803063871,10.990778706550929,2.432425687198224,16.76818322481958,-5.77878009368885,18.708923625600665,4.329013301752541,-6.8670785678591075,8.60961297708814,-8.80953306420585,4.705491058086434,11.807498126143082,-4.489583106100567,8.614627323779303,-9.90706816425649,9.14594462077779,-3.1548694201723144,-10.86108468862606,-10.825896671172085,-5.9845445792031455,2.926173528823331,-6.555673360451922,-7.464339655574123,16.994458184323122,2.5311614919058436,-2.2840675775330803,10.894722123831542,13.216642167729313,-4.818682709482244,-2.6037597160393613,5.339792626326704,12.481926119296089,-13.406739763112304,10.278392353044993,-15.796447880445813,13.170670023832702,13.596077310722237,19.34240294324082,12.86493192253932,1.6571289341547086,-3.3953906946212498,-9.928730975809282,-2.3349036086891712,3.488767130192417,8.004098470035414,-7.2259097698094745,-9.234161606292536,2.1995485541698585,19.321656495533126,-8.347705984983904,-8.296804425166199,19.32846945424422,15.957114156760026,-4.431429589354788,9.07393118111699,3.4780342073612713,-3.14951021256393,0.9182689951409717,2.2887847101137906,-10.094568668657619,12.852931772003423,-10.639998983666827,-0.31191444836724813,20.12286956754556,-5.619557562372858,-7.48050746948464,-6.208680822185155,0.1685059485053643,8.375892224330723,7.036576582773088,10.374004515816935,5.996161616411983,-1.633792063505957,-8.249773955617302,-11.297625213755593,6.227787620744486,-5.363970954301285,1.8639317551866084,-8.756123708172323,-0.798606459909761,11.532070853161596,13.408545252729219,4.116726584885583,6.811019445684961,-9.43874732866396,0.5432248436837707,1.7408556710511445,4.575622161692246,3.946038212119837,0.10586449041093272,-9.231014426041511,10.366480150647705,8.839149007253166,15.60982764405126,6.587546260287395,6.151393580294925,-6.113197897934097,1.1191274166015672,-4.899433703351285,-3.0863843009953014,3.4982058036417123,4.5353238204443524,18.570571902364843,12.226515004271027,3.0863335293029257,11.825389458173259,3.6459077592995626,-3.5127948689770023,5.753506210000323,8.86693902833312,0.9166862273320433,2.112357285865738,-6.92444953959622,5.274403693296436,0.9319117866236973,7.247693044218111,-15.865826100822215,-5.976665812549617,0.42534730400606346,0.5055180654211994,-4.770100220620139,9.146750854536819,-6.509037007711546,1.5603114955082595,12.82765555403171,-4.348536169237652,-9.147632407853546,20.156624756520877,-8.398366069985556,-7.362245935151766,-12.131492141654102,-9.727087095090447,-9.280872754858606,-0.17705671134299872,3.433818182462274,-1.4302510753344382,-1.286000477397844,3.5956185364970388,3.0905746256905404,7.011818749087651,1.7908595033577501,-5.093681665622808,-10.059875961720264,-10.65449734192044,3.0518083063508294,-15.945451327345472,19.348364695779466,0.6719853814221756,14.277073015559866,1.4688009985130144,-4.970673439034737],\"tsne_y\":[14.859466150455596,-0.7570563435613235,-1.823936861109288,-0.8719873482602303,-1.2231983178918828,2.666825073683574,1.7416551867198096,-5.964111330086982,-6.84112561323351,-3.5586018880695045,-4.632651936517496,-3.562026814355444,15.772097887845977,-0.43028133997387374,7.51650356055918,-9.26268409484496,-0.7299869625949087,0.9879031357400059,-14.14935640134899,1.0151429954008881,-10.707681699166217,-4.017646429953126,-3.1912831723948134,8.23525588750081,1.7154237607707021,-0.9950004410442166,-6.718965119757415,-1.5548773249072196,2.4720584410047732,-0.7782941604769815,-4.082959678956233,-2.1726707390651354,-7.721130231400126,-1.816264184134233,-3.177519572800959,-9.801042795470943,-11.064632006727361,4.946997654126765,-11.237383183715803,-4.522829033062243,-5.932734800714224,-8.990314692636217,2.7924433907307105,2.654702030886575,-14.946594956291017,-4.806014830385895,-3.921401259927725,-3.3012168628506995,11.019990573880492,-15.147235257018679,0.2175868064368171,11.061351476147,-9.585786436568679,-10.418709760452064,4.736479197967571,-3.7315931065178227,1.6711646540111376,-7.142855175248083,-10.46876576007267,3.4518097736615743,0.041934756206333246,-0.2919868262825324,-5.8386370862058685,-9.617936608468908,4.900540113686823,-1.3909283152717722,-4.0127045275610635,-0.28586541968067025,-6.252119151620443,12.402523794305848,0.8072748627899767,-12.292016656551402,-2.1102364609643676,4.42384863395347,-1.3582477561047104,5.670266897734648,-3.1093898556471125,5.6966128365443,-5.250044058501513,-6.133720347196276,-7.225597054880823,-0.7530913367854892,6.169876572568602,-5.319913561170023,13.030550172917634,-8.011216033769502,-5.198124095061841,2.332975892306986,-12.129508828276522,-4.1020759781307525,10.318523565070645,-10.561569997038562,3.7732852128122287,2.76371874351471,1.749634722626577,-9.076450034804887,14.156057163862814,0.9748436353280245,-5.647354192212812,-1.5577067870188082,5.603975203809248,-9.484634866488992,12.12219709395195,-4.845735305720198,-7.722059191082841,6.7525465505043,-4.160537467461168,3.7666217407366234,-15.18658825543861,5.978795555333097,6.260291707712827,-10.48587524920382,4.16572521143716,-2.2032721117508434,-15.297707157202234,-0.85337410158023,-1.8221224210621934,2.9662512678692896,-5.427551202963476,9.89630722120756,-6.217121442866444,-7.367043765237116,-7.2328304136870605,-2.711284888792098,-14.275091053136647,4.440830148694704,5.7591587145752525,15.418069940837453,-2.5212785958016743,-1.9870599843907593,-7.053709207824195,-0.990557630103961,8.42613989261139,-2.519518623937449,-11.955616233789238,2.680342293803781,13.19704523921226,-12.728794424423874,-2.372197870681852,-7.472090293113602,-9.564031925156629,-3.232673302069445,-10.476933492098201,1.391796294773024,-3.2194470372516824,-3.0335122008598616,12.730764705603889,15.651519329873887,-3.5894619826692504,-7.267834433080851,4.479147500526108,-0.4756931868005811,-4.63995113364198,-2.3048374105669294,10.897705793506649,4.402677388362657,10.39448737879961,-7.096108242282212,2.679947431084176,-2.007550606635288,-9.668090872708664,-2.9406645281919683,0.9093982972436578,-7.335988682671385,-2.074927160476186,-3.859070739278056,-15.550670935479413,-11.11520152048049,8.003291453650194,5.602188206262748,2.3655254378970545,0.3238245467992709,-7.057540911448702,0.43530021597810137,-3.237006230460165,-4.808170522160472,-11.345207330634063,-4.1534250021953065,-8.557061626572366,-5.905451205460374,-9.847210653004048,-7.543098217513752,1.7727045771993564,-6.712476830958825,-4.321800957553343,2.1529079838660636,4.175392611677417,-10.55422351748613,-7.035632919432681,0.4612208589440859,-5.3838255460462925,-10.830625156900677,3.8367195679186343,3.751567911008491,2.723263040335236,-6.038956213351957,-2.070280038783339,7.965561928801013,1.3095921406497397,-16.80032801328548,2.337343921930139,15.338665043506742,-11.55237899623195,4.105457398207334,-12.483397739219876,0.741232932071403,2.5454980656336694,6.411633690502874,8.449948235167957,4.993204367948936,-4.402037519573415,-6.129871641151105,7.500832139643936,-11.980936648343768,-10.605359508710851,-0.08766859376597905,7.468622637310697,-7.505064401150272,-2.815869788563144,-7.764071698739165,-5.7131016856656105,-7.615077527950749,-9.02915485390998,-2.026388053356287,0.020636891739533102,4.594667837422182,0.8948855791248627,-2.4798595824554397,8.26928227023349,4.486531001377796,-8.015388585882548,3.710430562382989,-11.816749021654475,-5.290361040838403,4.184059733251103,-2.5779548105929955,-0.9897919788570885,-8.25559608592694,-15.35644412653439,5.5680565349566775,-8.402349044604334,2.327122494266815,7.220609780276767,-7.341455024217897,-8.618706765690378,-0.03303083775568424,-11.440874361393293,-2.558058917459769,-7.623813490375615,15.56421741801781,5.6424878084493635,2.6520852687371526,-7.151488527268682,15.412880852461628,-1.0017111762682325,5.88898586806457,-8.898476975521122,-7.216220445738565,4.149151906225993,-1.2309663769031327,-0.792029297661978,-9.650240911765763,15.553577066239846,-10.876757679271558,0.17652151999272048,0.4640597479810367,-0.02618008217611609,-9.749979928170298,-0.019344315025156704,3.0350093487927947,-8.351266031931143,-2.0701968113294953,5.0522818720018865,0.3919938171425422,2.0862504752923208,-7.812694165322965,-8.262238633770885,6.1765886562901295,-9.005351828004107,-6.950134073344461,0.8394203986809989,2.7924529881157767,4.94557275961762,-3.964566487031006,-11.879959428031276,0.4629458913585097,3.968208813134935,4.998806871688909,-2.1385499570427386,-9.699567817264636,-6.506076606119309,2.0118614487653455,-2.244923136648686,-5.50991357827468,-8.196856613807276,-9.001987608285807,3.7080672325373714,15.43301132448064,1.9991911496424148,0.9995979993422044,-3.841975971443849,-12.34997552176107,-9.265091312700482,15.556342842772992,-2.2071733106165667,11.813053137414574,-7.200296623144568,-14.013378442965614,15.488173836490558,-3.3507707542686567,12.802021916632535,-2.9138992463189486,-6.189198375675998,-5.070153863989992,3.9495787530930997,8.233051995961278,-3.2482315987823855,-9.733330432844163,11.062196490592738,4.997455840487648,8.432728851038101,2.9070672024572572,-3.9312402647676348,-13.696091872668694,6.442431228757159,-5.5028339939218665,4.264758429172741,1.872659248973193,-4.131100732404105,4.295109248699259,-11.898535501857326,9.729736145007799,-1.3480533043347311,-1.9488182481339456,3.6112436961479,0.8804366784993529,0.629404588123067,-3.7782812077643975,6.4778545546130415,-11.919171328282925,-3.4153697784298003,10.968411448289634,3.961068805092626,1.9719514016033008,2.8218545480524413,11.109570711818838,-11.548954428655135,4.098106182222276,-3.6157301776474635,-8.741717821279403,-3.204156980853782,-11.582441279183456,-5.068021037618649,-12.46436566924939,-15.819515137780368,-15.554468266282646,2.310177938929076,5.575776967747408,8.712605933087179,-15.680360950473561,-1.7763540473122952,-1.2962113721178625,6.25708033430382,16.171723558165304,-3.341813576008399,2.5934613940771243,8.125980379076896,1.3191885431613224,4.845385642082839,-8.974753523964639,-9.96351172742013,-3.9219934000207552,-7.447008283384916,5.030181677540974,-0.7038392997161905,4.917507220520146,17.33700333548408,-15.772474590530763,-6.990207977735278,10.094451935700656,-13.898248114804778,-0.08094418978049533,1.2878313419104683,-11.071875336203323,-2.0536913645266734,-4.112472130954006,6.554063646826336,-2.782287785658902,-0.04841402103665518,7.290192340168522,-15.821939213005232,-14.076252419729192,-10.321402567311395,-4.38068916963986,10.290228358328227,-9.085713649334025,2.597647740079293,2.271801729928789,-2.3883202243417174,16.4954646074519,1.4504482275622135,-14.288899619212296,-4.931314929788438,-0.11010693121813696,-3.215717293015854,4.188122276677118,-4.801463470532389,7.06385898447596,-9.498642772746967,-8.213426374124118,2.216347334314343,10.320440523994108,-1.3595966881034376,5.603581595994433,-6.187714455484007,-9.65880199532728,4.324992591066529,-1.4511102773172728,1.1604324541747977,-11.69264530174689,-0.06156637849347924,5.166560100035137,-1.7644881893675943,2.8179432835495044,3.689235065999173,4.296940909346543,-2.3953149707888564,-5.076019393031069,4.896705714294805,-2.8658203795139094,-11.925723987971685,2.7695601683907376,-2.4064628030878796,6.549563448321969,-3.9651702459792397,-3.3567019899536077,-6.318512511636528,-10.811369944600917,8.931800900196464,-5.441949220096382,5.03362145471156,7.6174401628108175,-10.028406989879137,0.9523539458107868,-5.2838082225563126,8.900451449293177,17.335836457342843,0.7478913529544563,5.500415999103306,-0.26734648583823195,3.6299224383113224,-6.129289312553547,0.4908101049236963,5.77622099035153,-0.5253901921064907,4.668330784167919,4.250020574112575,-8.818165657543583,-5.332124244246428,-2.0338522242045602,15.724986172013097,9.597229824728839,-11.364633757385901,1.8151283263935938,-11.892267822078873,-2.8933881579499823,-5.904606982942485,10.15672987229583,-6.18048897169044,-5.8747821953691455,5.10548847037846,12.308127959707718,12.456644165529113,8.16844720111089,-6.524439451982383,0.49635779414343123,5.299067248830462,10.432946176529793,-10.049422732624139,2.4928875117224925,-5.053098450095326,-2.1807967256207537,2.601063722951132,4.084869153373275,-1.77287470087347,1.6879103515135032,-6.489271238843332,8.967805808677042,0.6530085853755714,6.496539077401812,-1.178236885432621,7.093796595235116,6.3674192817855175,4.704037635893106,-9.653734840182425,-1.218659138614306,-0.017529191418551242,10.30345201890021,-1.0476506849702825,1.2455883142354904,6.572040820380747,-10.597032035925187,-3.937031169142065,5.122521424226333,-1.693942159708494,-2.0970025380616533,-9.473342976731589,-4.202094688672601,4.487537700503842,7.873786309296687,-1.3854720131042604,-2.182826343020781,-11.971146791627085,11.076503241297667,11.073886582440604,-2.7646238661191167,-14.326546537604083,7.741951206253586,4.148279890971511,-4.4604583188454425,0.7187469638219318,0.04666652669783629,-1.5856156952147944,15.681361110754223,7.624813245154057,-10.352756691880236,-3.966651475675677,-4.3567502804066605,-7.90642126508638,15.733270044848368,-7.109039493165792,8.172594890356208,15.372340136520775,-10.643214799801463,-5.49640779141221,10.36205858444931,5.213415419130645,-4.653062169076273,0.8121314074396057,-14.25440060393687,-3.5245281820090453,11.846561905066096,-5.494470803877819,-7.525002680557382,-9.32671300711872,-10.646679169484601,0.7863272332792229,8.537453072678453,-6.099823507680019,-0.5671362517032756,-7.071706674288058,-1.0423926147437796,-15.778937284952164,-5.953259034995569,-1.0477641682362155,-1.0466805621939117,-1.873451256398473,-1.0474887214653603,-4.223998029079674,7.37918269954395,-3.801951619544283,4.919783797170403,8.366401458847518,-10.162796579822265,-6.265440729472391,0.8939415078365008,-9.120645590672233,2.2078125799241706,-11.720623679092297,-14.475953721345967,8.063500909722606,8.004706913807766,-1.2734999417254076,15.410647094867873,2.1716650764359047,0.007771403656984532,-3.289525255312748,15.20520256566485,4.473836357998161,-5.325231347059129,-5.666833185420454,-1.6061378407564546,8.6889936870556,-7.496405859609175,1.061502668468677,-2.197570158588512,-2.588834639474367,-3.5992180199670494,12.648765699930316,8.039781422058804,-15.786411324404197,7.788863521436301,7.6102879968946615,3.8357323822832665,-0.4743797756422444,-7.055562587091085,0.7779017771786365,6.901085513116702,13.100480916962493,14.867134944777002,-5.165059672643842,9.25096797763684,-14.322426196955783,-10.424889103352674,-4.16579916640737,-9.281796750356445,0.6023769636376615,5.313147339790407,-6.239962277445361,4.667476386213392,-14.019599582015015,2.5522072985387005,0.8796767889019472,0.2682884777076343,-13.080654120475495,13.070501424337694,-1.426001627045831,-5.015696378672201,-16.794863564969422,3.782007526309297,-8.790554966326969,-9.74114981861072,-4.43434301092746,-0.6002622763352456,15.20885074909965,2.000407953314962,-6.198538054695151,-9.637416637445911,8.124988930005943,15.341624522399565,4.352284606692933,-5.536114567413016,-4.220333233200495,-7.846971670944736,12.506928761315237,-11.848324882483224,11.813604678750398,-11.990081890196487,-6.3351207372896585,-6.631134378642478,-5.683211666156341,2.406944458356713,-4.783742020889614,13.007190774339017,9.071438898915476,-11.677633031919697,-9.062056965110006,8.607509029985934,-1.642573866240543,10.38760154882849,-9.465912415125054,4.52797613888961,-10.993018990862419,-7.485547973923092,5.83930500657364,1.6689107219911552,-5.326686089493837,4.256636527555821,-1.7488066312561743,15.126413318762628,-2.0655295658931734,1.07385211655904,-4.3714007564007655,-13.21321190254212,-9.395540396137434,-7.5417687098304595,2.909874554981695,15.732861818947137,-0.7689224349345107,12.716884874879415,9.697918898425582,-2.9035348786329225,7.5819272318292645,-3.365238764107277,6.521947126572314,-4.0092057419919165,-3.4800826623596954,13.606698438273714,6.1554706982378695,-1.8007411822241308,-10.663440049052602,-8.22182831393924,-5.5618434088756095,7.48064183985449,-7.8939954882713925,2.5267564147567447,-2.062774149775184,-8.502273677505782,5.295955350482865,4.852041261108412,16.248429900658184,12.366989935749887,0.6621529782113096,-9.253214385361694,-5.095893670652453,2.823977713718462,4.878837589809159,-3.6500615507087573,-11.17450892872767,2.5814307362736333,3.812742813678037,8.380362167059323,10.237232752270286,0.6393313575015436,10.084058074316072,-3.516591511893642,-5.252249272660163,11.591315531363602,5.506472204942805,-9.729918560906048,-4.368697175681038,-0.4756236422771073,-7.4590262361827175,-2.0262469232617235,4.518082087636768,1.5283587963395395,14.811815589165363,-2.0844155988119293,-10.91134203957147,3.199529022249262,-2.6049495183719054,8.59760375074621,-7.410109209285489,2.7203774844078623,7.621975139518405,4.484789036016583,12.859790981219613,-3.9670103022856433,-11.902171807179561,8.946565202669813,4.860017945405591,6.459582198001016,14.773337065848802,-9.83017788694057,-11.35876222392497,15.215758295002079,-2.227624705715371,4.146216804036134,2.2113739603892633,10.212986981470848,-1.3144598296593386,-5.29106578115524,-15.883790584264426,-10.849701204447642,14.732238044977422,3.9311498286411743,3.7281614389497584,-3.4664906313591004,-1.773376049427474,-5.181536358389656,1.0520679804672854,-10.4024247387154,-12.14063742300132,-10.71694440863092,-16.75524343843618,10.385335244560054,7.564795417560607,2.7168955081799417,-3.2043515028074943,1.873023069115513,-2.0638981600829935,16.095359438605982,-4.192857947776726,-5.571599880503468,5.330833657768929,7.916110151315636,8.52576763652096,1.4726154160064908,-16.58695877966622,-14.996480229189421,0.9853303628704941,-7.362631304410406,0.5010435957434579,8.591836753050083,-13.692066993097201,-0.28163366949564256,-3.3770416855637615,0.22314164353596153,2.120080723918211,7.899311499878522,-2.0348088567580422,-9.222202115760636,0.045896448567089895,-1.1977367721024514,9.275770032031057,-2.6145768456511718,8.234191241859648,0.4587405261734842,-7.866176420252309,9.933713640175649,11.56597738052801,-4.674013210840375,8.299244902732111,-10.750245605910852,-8.349375575653795,10.680653086241866,3.413062967626546,16.471957175140265,-2.4732644835861186,1.5131229002179671,-16.712802661035134,0.5261838222677913,13.0224660585668,-8.28981088132347,-5.015295054609407,-11.146143016035332,-9.385342684691373,-4.917277908547044,8.294667143683291,-9.877005921391778,-11.24979619231707,-15.49624472817669,8.316677766543075,2.319345025367248,2.377023526285417,5.232674823532891,2.3554981145667027,10.341842537167249,-4.729832019128823,1.0320796321318522,3.464228301583126,6.227384776182476,8.120216083663799,6.271177537324608,-10.817013147354853,-1.512581022193917,14.642565108206837,-12.691259707962075,2.332239068625109,-11.494030723843068,-12.250102848486781,-5.468612559794579,-0.29270685036701066,5.863919123342926,2.9130939009733727,3.026709056902206,-10.570370106636341,-12.876646556578654,5.452792599221289,6.77315987182436,10.579691448138377,-5.7463838098034365,-6.2033704089896915,3.9048076753206176,4.789510358434005,-14.007583325666426,-0.5187142856790528,5.529061421971517,4.442997851349034,15.436801758098566,-0.9115469977400512,-2.0337014781697684,-9.726583113336568,-9.588872073841191,4.825647349335603,8.676311601546214,1.114719388383695,1.9115820467147306,6.342787189994196,-3.8667350667711156,-3.1966952129492525,15.251781488675764,-0.09741743593729152,12.063339928389718,-0.37623278754968326,-3.994806999505759,15.411977195005143,-11.716050724443175,-1.2574428084671756,-3.182124826491855,1.5881806276489598,-3.1575920653084792,-7.305582877630155,-5.118199485781918,-1.5912478188678205,-4.032421469272936,-2.0523745876159962,1.6506202405146027,9.688552582105297,-9.330387482620212,8.793070841407381,-5.328305145062296,9.06107713665934,-3.0689747931651117,3.3109243246398914,-9.786157794570942,-1.204611476263185,-2.6326006450442647,0.521682086463113,-6.36108053400933,0.6576553145840902,-7.289887497621333,4.707733459568928,4.768362271307893,2.510943884103242,12.53645251285044,-14.445596783684149,-4.977636934325973,-2.635312637076007,12.163584647107479,-7.722584011075343,-2.045199506609189,10.644756232461082,-8.28489443429565,-1.2559632614234761,-3.5804007911888753,0.7860207863389974,-4.502700294010543,4.806039891446065,-2.4941982046891873,12.10535818442219,5.111721868542852,-13.986581896329598,-9.986547108812777,-9.540685656555425,-0.046632098698061286,-11.740521237908574,14.530958592205192,-4.858043102723917,-1.8547944387247202,12.18473668584954,-4.564182254088966,9.133092857328215,1.5551179661026346,-11.03281704220205,-1.8603730071018896,-6.8480210271401285,13.030436052089728,9.037934165035061,6.262248758425302,1.5884277493398624,-9.091538758467491,15.408715098024723,-4.063654738608965,10.809094423409405,-12.235684369801852,6.233860085776757,-4.377501119589316,15.941076162230154,15.417972456934052,-1.686960218824845,3.7419074660629636,-7.410612209521985,-7.255290080858264,0.43230712418020256,-12.148718375944751,-11.606979104822543,-2.9285257445263744,-4.411040246876105,-13.956028829478289,2.6398701913913274,2.937212107017071,-11.898043930273124,-8.5352037459462,4.811580956467303,13.977388716465834,6.780593801714607,5.5125278520183425,0.779134791956954,-10.618733087973707,3.7443416669340306,3.5537335286394605,-0.023123497970820465,2.4087176266771166,4.243454934838868,-2.417034240917283,4.344368378862268,-16.282620100190424,-11.917275273844684,12.679776120155866,-2.825013976658881,-10.511771543061323,-2.307444536421997,11.649009506452645,1.0317267525734173,-4.290393890030531,-0.36023325970964054,2.9807004521675737,11.827821957410569,-8.665613938254015,-13.10311781278711,-3.109575340939201,-9.930716260288422,-6.416114984997689,-3.835846129702745,7.159504748306403,-8.605588812539008,-1.4209196920633973,-13.368975226406832,4.796220857534918,13.333161421861398,-9.558185463070304,0.8941525874070415,0.8247247217336215,-4.415761741807285,-5.832266078245682,3.683492882425903,15.334446685528816,6.6428121817747305,7.888773729974134,-1.599761231420888,-1.3159820354599434,1.174443047015748,-9.932897478269064,-3.9603299787038515,-10.986059277199319,8.214533586335836,-1.8122566154578366,-4.385945801468785,-7.748286570674621,-9.565700278506588,11.471448392648021,2.989582801410043,-3.4972469873759033,13.320994126581951,6.430889892020591,12.337928479200372,16.107496300277315,0.5062122585078148,1.5614358045947587,14.9129443295187,-4.242710689787603,-1.8285474948684814,-15.81167428448753,1.6242867737475601,-4.914783500190455,10.365101673082417,6.480639973057478,5.201517014759808,1.7460188625215167,-7.036018559816397,13.568943077211669,3.8330801748901893,14.867097591756025,14.589364263584434,15.379807135591033,12.63472212561274,11.040846628547653,-0.8023735497834141,-4.531049125653413,4.844499743137965,13.600146744263661,2.4836605201139914,5.539204172642665,11.089573508590783,1.1195808138177827,12.453275023034628,-7.228149881579288,2.5206459052528394,-10.642498708300476,-6.559133712363843,1.1288347480171028,6.436865476466509,0.1267583253781123,5.504068041670869,-2.6318512971649506,-11.743939924324225,-11.507876420902148,-2.796162705847771,7.1845841464352125,3.8962273474519495,-7.093837956267618,-4.410917016931722,1.7139919853824397,9.071107967533807,-3.152783660939818,-3.2772479992128556,-0.19288020601109215,15.146310500251964,-2.385164375777018,-8.863959595958823,-15.62700509323527,-1.6884188735855936,-4.322757552928141,7.789026225185363,-5.419631116272068,5.275171279163107,-2.706999647812967,-3.9233837019417503,10.432621319917251,13.088685239897421,-1.7870858587183482,-3.6921109776381225,-1.1271423618870324,-3.659222549365293,-2.5950044974570345,-1.784875845718902,-2.0576886319880714,-0.575968232115648,-3.2236050147344195,-15.041745188491008,-6.224771968647104,15.779995098578873,14.136554377996996,-5.569884360290937,2.103056296192817,1.4392581690056037,8.38652576781388,10.345652841491944,2.371487145106492,-2.9900224483913496,-1.0625467361145375,-9.833654978281485,8.371105291563683,0.26265725311184324,-3.3144325812568383,-1.2889652945824601,2.6466766131171444,3.928947830787537,-3.067235503273707,-2.6238093985346307,-0.1204616132571987,6.397739643295386,-1.640783627527228,-3.907051457165549,5.2642837856837,0.8327445861525685,11.311526509699398,-9.587780530210823,-10.97875452826733,0.6997747070965619,0.27196054844276507,-4.100640906500258,6.89141633200854,10.548686790078548,-8.6327578247107,7.277487252914158,-0.4646815343663916,0.748847394263522,-9.61735912619636,-6.0451645451393725,-10.496526430832278,-16.02264914634792,-9.962841460737087,-10.8446158714691,-9.014826520309501,-5.50449396376168,-0.15781813410593917,-9.707111366822353,6.207498004177974,-6.154662767140139,-4.29687371449269,-12.15499378971701,15.818991278879974,11.005564477689685,-2.900158192370764,-9.172908042421549,-0.3766782857695656,5.6206102053932705,-1.7593869165907443,-3.745121789462248,0.5446496969384709,-0.2346373359267242,9.968742411106376,-5.594160827508183,0.6136940406946982,6.353891911651956,1.7811090148364734,-7.347165121428999,-11.897665587984415,1.8128847862827702,1.6321483684177365,-1.5725579608621874,13.009024712804008,1.298524706290719,-11.799859997859228,-12.698249065684827,-6.35649798344099,2.5336645707660455,-6.236170695577883,9.667179038131447,6.558917386734835,-10.731850678582342,-6.044644985031974,5.848519221983709,2.8321352209793815,-6.214176078326192,4.142464646210581,-11.8816668748598,-4.5802359550810525,-15.775843032262122,0.07754186424312406,-5.499638773526286,0.974102731562789,9.978286484493733,-1.8059824966656424,16.310958574372812,7.927426319727054,-5.339041886304209,-10.62448731854782,2.7959999051831583,4.823809480706643,2.7633499701438025,5.257888024248474,-7.084351522460285,-16.4893552611599,-7.261476311926813,14.524928476097797,-6.606392655533682,7.1409728160943,15.348493747669785,-11.564320056819222,5.790559744668785,5.939433681176183,-11.989369428770837,7.879684119419984,-0.4007972297339901,-14.456100310349758,-11.662520537424959,10.098736022922827,12.31433858541891,-7.302651339226122,-1.1192080715674801,-3.931368013341563,1.6196494442016032,10.252240804556322,3.54988155381311,9.299817376913385,1.0841836920463128,4.817103840513078,2.32180930252161,-7.80595815632718,3.411450571005563,-9.31219858246551,8.960478491956192,-3.0321058232050886,11.091685629604376,16.62346819010198,-4.996988205028069,-0.4186764704022505,-2.2192633882058215,9.25636117342699,-4.273262925252264,5.565323761831575,11.092903592445154,4.407952943832522,-11.046367745911375,-5.20877095535463,-0.34101454322731667,2.896959401335413,-9.021044123272112,8.966885092227416,10.239360097163777,4.5267480036438705,-12.864541104919562,-9.674120818414302,3.8552746558595787,-0.4533948712871328,4.801822035910013,11.46453125759501,2.228819512702178,11.423797015008718,-0.6424667623212282,-12.734391043765756,-0.8113128989727181,16.16584689694163,-8.213278538425868,12.75683644574179,2.843321553075687,11.056755347840149,1.0305267733731849,8.42807825616761,5.350332783900989,11.618647217777886,0.03572982281707499,-5.811095513987933,-2.713133128298029,-10.75002512239033,0.537227064532872,4.454666098464101,-9.846113779125552,-7.50650535227577,9.338549111962752,6.544426625054532,3.7326645165791934,5.567095549534395,3.451116293394978,4.719741499886908,15.564337252361701,7.411779204095567,9.643820261682357,-1.4802968028859673,5.203784244570243,7.181537373312705,-9.090116223835237,-0.7152785824979051,2.365422241440241,-12.885215156861147,5.801318001100462,16.30859440714027,-3.369964547332449,-0.10827227250938055,-7.454606267591642,-3.614825490524159,2.4701238090254423,2.2667266745301977,-14.247321246870092,2.612622103597903,7.212615025964641,-7.718530099708302,7.9269413739713235,-2.3854797660098264,-8.58035853364144,-13.46782444924799,-6.944928488028426,-10.521704905345851,2.4368772959851306,6.438606174688757,-5.96827461334618,-3.312955172376828,11.43690307401509,-1.8723458959494956,-0.21516760648742408,-12.503400035800013,5.815081146856287,-10.769593628843525,-5.7163187474317025,3.319984191858746,8.018730657441774,11.631889967050581,-6.091457429275169,-5.487656414411218,-3.907632346528194,-0.4643027307913049,4.301693833731467,-14.383790589490447,-10.92592361997908,7.528038487438729,14.707239232807968,-16.349072364435116,3.8511963887264535,-2.149800785112357,12.837930919927272,5.2447100561081745,-14.261457672079578,15.214271006651208,-9.147257137635261,4.7116129585298205,12.108497563745507,10.533108589721236,0.7978460668650406,6.473030766586861,-1.3767227884390314,-4.177680444178825,11.567266838204175,-3.95212327635317,12.868450275443337,10.464902471133,-12.468222033390068,-3.423160294730248,6.444239187184068,-16.221373783232067,-3.878434299622583,-10.777459811518545,-1.353705473330512,10.217768003248086,13.119152163106286,6.214790832053913,-6.56935060041713,-12.482822954659001,-11.89445647773701,6.443384960644226,-11.952564500991501,12.996107989413456,-6.736763099923457,11.678394886283007,4.374979307483797,-5.148341179006696,5.315528268395093,2.689570492389756,-16.09575101978805,-2.8713768967876017,12.275200291212274,-2.4605509841534063,6.501630997011863,-11.801756301753468,6.419985870080918,-2.225365401535186,-7.360637701114081,9.290328021491364,-1.14597340833641,3.313778372139537,7.668934577004963,-14.491732950794338,9.726414571800278,4.989406697731329,4.784908657271014,5.873135040962584,2.0009642122543023,12.381103189266904,-2.777109067946833,-0.116070239323288,5.516667678668906,-2.732219472200032,-2.994011108145671,4.356396373369026,15.160720491460802,2.393278879458754,2.192440289664468,-16.820599295936862,-0.16540673631313477,12.114703749940533,5.889383131617939,15.747634937061333,5.3964457008005455,-0.0941608037483821,1.6692744061827511,-0.039565776490434426,-11.962516093983377,7.330392004155884,-11.767798636677318,0.8110264957181919,-3.377421586091613,-7.976273619016497,-6.270434401840738,11.050436149891286,4.475608175668961,-7.920504209097082,-16.741416245214264,8.282289009341824,-3.8898318697876992,-0.5776705782137765,7.71597796940407,8.530868651683893,1.5706594885998717,-11.216910974524016,8.599452611766074,7.644810178225069,-7.512954745439322,-1.5293824214951277,6.15325344524301,-2.104068347661262,7.3731690499289,-2.8010047945242045,1.6193211808664063,-13.476150507764052,1.4427568274859495,4.005048357899554,4.963501569028855,-1.7167909058293525,2.4716932493528776,-12.495996121241976,-8.62019567069127,-9.913752875829767,7.972401513685251,8.37167089692243,-16.679541379386198,-9.77731525585415,8.94784071370991,-3.5940938633205493,2.515049211873619,-6.141501621643969,-12.333428342366556,-7.629824117733777,4.424727372759176,-0.22165102345301427,4.846896424452271,9.258813219639844,13.412467749178532,-0.08603605693931662,-2.052374762106972,0.7680250677528551,-10.100177860138672,-4.310025721379718,-9.599836796254788,5.196687154299203,2.135066897928439,-0.3007241859955454,-0.7989273773678323,-8.934209796796022,-0.5552210856014155,1.2706961491199267,4.819459544627247,2.2483370438511816,-4.372274927782056,9.120595873167412,0.22474131494909647,-3.932631497177017,-6.397429015230146,15.56623787628074,-3.9199104842188404,7.02414726106255,9.169182447342868,-8.766883969683064,-8.956945093461876,4.3244552335593065,8.939886660652126,1.9039104414502384,-10.930145341437633,12.830057364064732,-2.3663209234742753,13.044837253943808,10.777942218245887,-4.547824413648414,15.244506733898202,-2.7567620865641387,-1.1166011293713434,10.897320426400892,6.3802356973999945,-11.343037557230698,6.324340856720272,12.319742346466322,11.151338957955666,-2.13408520566201,7.195069390132715,5.604361230834535,3.444095357743226,-4.524567780483005,9.244421700741947,-0.1707480643962497,0.6022628308043936,10.642116075405513,-11.251427670385791,-10.528517498395688,1.0948094127672594,-7.714595421004489,3.3609156604432293,-8.473408239461449,3.5752771326821597,6.2482638634325225,-8.824383966857264,-9.764103220445897,7.246666457983184,-4.655455851031086,-4.935458289387227,-4.592842562677498,-6.061801732842808,4.738975421097949,2.7784537774855758,-2.9956929920507083,11.076327221866354,11.006256372664472,-2.9505280051055878,-3.996605275515068,-6.05358159935766,-8.564950602157335,-0.6770132439234604,1.2812961966087442,4.848475603009033,-9.246132161170074,-10.595299765345992,12.61919425496181,-5.501724832290439,-12.623784673143545,6.440061938022046,2.0907962108439078,9.250679205576033,8.726651934805464,6.230064533080472,-2.892301839285418,16.62229482478288,-14.462892520449998,-7.979174056311235,-6.531806827260517,6.422138371018184,-2.9233053064540195,5.83596643981999,-6.496630833383185,-0.14499950504329392,0.10828935704008383,-1.402560467023226,-16.43769379366289,-5.332880862963072,-3.1837382847327893,2.24670941196644,-4.103619684322415,-9.617466914521058,-3.2541345604295424,7.402758657323728,5.048453753783706,-10.57901720895866,10.72628296946532,14.36200567223348,10.882961637508874,-6.137809769055035,0.2897746590005126,6.467807156680924,0.9079190330379924,-13.123837734422107,-8.899032651599532,-1.3578736978250256,-15.882663865738817,2.738169295186031,2.2556368346204865,7.307593621789457,16.4277279800603,1.28201712928337,7.73090362801334,-5.498477659991917,0.2312937187133815,-1.8047854353002268,-8.309904095420006,-5.543318013066777,4.275005246110228,-0.3600374150202631,-3.738162302010409,-4.1497999463131805,7.3026932074425375,5.859050123133571,-5.8485438668507905,-2.885894504130848,6.999751249281,-6.193785071281618,-2.9505387118611983,8.595705085117403,-5.5961239291064775,-3.0297789750132207,15.093509379177332,-12.062804973006601,-2.225534358685361,12.871908425471775,-13.058573744998917,9.801327238885154,-3.419120949648983,-8.211321823360949,-1.7753822691889949,15.984608704688759,-8.833431948736836,6.303280842440777,1.171932707569486,-16.314731833950916,-6.555809895064584,-9.960624646168903,-2.176862497971055,4.631380373134608,15.385822962045184,3.8898199477883044,-9.648644009860202,0.804401878071994,-1.3561646509095773,8.40020785021964,9.898660944198333,6.374504568602606,-10.703241489465057,0.12357792677095406,2.279143358753365,-10.260723943383583,3.824537848972192,-3.9496049855512356,5.480058708292319,11.595913760655748,2.253647412019474,-3.033371404037266,-1.3500638898280546,-2.5846821273634326,8.378617762857886,14.875856463980252,-9.241130611425126,-6.790221138654105,6.388335555351877,-3.943028281254683,16.21705794810346,6.425316825348478,2.6034168264024853,-1.4616960296036372,2.738773298478587,-2.6896573571308156,-1.2120834662336688,10.208601094210469,2.966051410530294,6.141513905327078,-3.8969378709228133,3.607271272800309,2.7642168021351776,15.304739809546623,15.373733483144228,-1.9064609794520373,-1.5117543374908682,-8.27599189608135,-7.739454659229722,-13.105186672520833,-2.6400528612010064,0.18956337652683994,7.274670048038357,-8.629878804571637,1.2698340629391798,9.13084088602465,-6.98098061368213,12.578918112220192,-1.3264763429515543,10.36330366150589,10.876614240470792,8.96135166330711,2.8070278987292943,7.310626950726961,9.288609463395833,1.0825870272468936,-7.226257066706961,6.196204506194838,-9.243718202397933,-11.370375977178414,0.6801528270933277,-2.647429855608071,12.385890095100152,14.727262232955368,-3.2568281722606383,-0.04945096015502128,7.647521169415836,7.602637000359754,-10.567885343877666,-9.094223373200304,-7.361862383960339,-8.993300548982877,12.627654582600803,13.053706725296783,-9.020843864188274,2.6461867622278454,2.640523668787333,-16.664588474441217,-5.779195325887682,-1.4616582458351999,-9.586159239559969,-15.595450733768399,-7.581685842593322,-4.207501147150511,14.685072212376866,12.016075402631708,0.7461953994297368,7.476951830803103,-9.75652446748177,-4.026260523034588,-8.731452564359424,16.136860857761736,-8.722929064925657,10.752230615770126,14.706765978139503,-7.588540728959175,-9.209958099503826,-2.9893249089131673,0.04372091888004018,-3.3642339802933847,10.950474876535072,-7.5291640369445085,-8.74162277485982,-9.03352465307359,11.100828631685397,-9.833462491873432,14.455259105852141,2.425812056606931,15.220127339402055,2.6528813805509777,-7.121984517079037,-1.5267777261724462,0.8294201985229359,-3.090796579545022,-8.830196447236776,-1.7284404228684704,8.544291699568117,-5.791569423733565,-1.8999463040505986,-6.462444661211196,9.394787426446984,2.387298600992255,-0.49391395907208824,5.7029072071885585,14.740051358738743,-9.023284179485492,-10.027349613261276,10.465201027410155,12.271875388463108,13.67374860628866,-6.929422698731871,10.321810119375398,-13.965110582571041,4.555390428699698,0.754285500971992,-5.869505586412766,12.221564333121266,-3.654130982167877,-9.104320113161652,-5.928624082172887,-6.535692134895445,-2.996172153988579,7.613304712146281,1.6227376062713377,7.280281719186431,15.703743302458408,3.2646033186769055,1.4117143544288349,14.701847555686838,-8.368803907145317,2.6673753705020284,1.9174102120282897,4.639266595532824,-0.49726435334658703,3.1737054553582245,-12.372563573570101,9.572062985790398,-13.05990885113367,-6.500266916887295,12.056523271205181,8.043121245809125,2.034568959847198,15.52791975762441,-1.8563827474618073,3.1279319387930564,2.2284723175868772,12.167484825461303,9.130746201335857,5.32998091267498,-11.327503489962833,-9.552738033073796,-8.261326353554914,-2.2059022713086485,-4.580816335800095,6.335725412305959,7.995629243328835,8.324634449266368,14.169064464538176,5.493044434400977,-4.991198517652421,6.02656643410964,-1.9354880240704055,-7.339245175184346,5.347102746048531,10.195408146506278,-2.952115617859097,2.1756425366649053,5.835546495847343,0.13963730910053254,8.360841160066505,-3.3092190228686555,-2.9749852755336774,0.15497965555499627,-12.171573164766192,-11.927935183964891,-16.810147141090802,-4.366869741714879,5.511249675700582,-9.190371122283226,15.439746603150233,6.453664211153336,14.70579622157544,13.112086837734356,9.090373682002568,-8.247115401183015,-1.2315786471130272,-8.654250007792875,-2.8116409118042576,-6.8225908591646025,13.251689694056747,11.882236961203803,11.482793899240535,2.1865088333733937,-16.443380773979165,6.61508197112667,-7.551012320384251,6.559614845312632,11.017133556650423,-6.92472260240015,-7.067650815429083,14.30292705220488,-6.6326241267727,-7.0533495674471665,-1.3754253366696827,-2.1805053108691563,4.997067929452499,2.3193383970155863,-1.8157642461499992,-3.6837422864832665,3.4609767717166178,13.394370833798794,-9.741503715671609,15.993983309000665,12.4551424445548,1.0541635804052076,-5.522867941693349,-9.283128423052396,-1.5902259895489421,7.926179336604699,-13.402163441465031,-3.915794265988725,0.9238908586576958,14.331741585025867,-8.375300874199985,6.8421017375278455,-9.92601038470493,5.544584988384345,3.8270007909530177,12.87060189480229,-11.013400927426872,-1.6902552495169914,11.3974374141688,-2.0472896327205317,-9.958947938013692,-9.471906071450672,-4.25766464406847,-0.0047936026833901085,-5.7332842392540035,-9.513706455140623,1.8924159321563307,14.194755474238809,-0.6145435759080078,5.461499371036499,4.613344680739575,-6.4910911686465464,4.462259165786369,-4.259856087446313,15.56086470659159,5.658258284373589,-4.2549140326491415,-8.72492187467458,-12.640041104603666,9.328181140229818,5.155292217436219,-3.310728140883528,-11.79154151229141,0.05338535272580547,15.839446265186584,0.00782805368692174,3.744369700020858,6.526061539556298,-2.0611521386787146,-1.598836721182504,-1.1819398892608004,6.176937864510489,1.313222513035294,-0.5585390444077841,-2.2556120011958503,-1.921951645360046,-16.484715835761538,8.829485192467875,-8.214416304293769,-13.061520883707821,-9.025579415942197,-10.001465345351964,8.77449807172523,-5.284016305878547,4.049911669956683,-9.919942157412773,6.9180183345683695,-1.537661238903193,-16.06112780193571,-1.7318147743786185,-16.661921824121627,1.6586428132477666,5.360861341956882,-1.6277912571428417,-14.543386255052742,1.248092765321401,5.7986161203900695,1.3146129721440551,-8.200031823854042,-5.069721042394221,-4.171097892234125,0.09214977946082728,-4.029599263880587,-8.334035972089811,-14.309556982485114,6.173926565561682,5.475375777387106,4.298954663821021,7.72449247822776,6.237900348201972,13.02395607691034,-2.765960683420014,5.457495168812104,-16.36840440365938,4.7689435045349775,-11.964944795913082,8.0278818887024,0.8304831858966825,-5.895887148557584,7.183336004878399,-14.822733137888438,5.038981894509767,-4.212894595142929,12.5568749016335,-16.637684907150927,7.080438041871723,-7.85523740339306,-3.182639440938555,3.3834538985654463,-0.05220665372835315,13.30658955969755,-0.4417478794785524,2.246571175360219,-11.921357214649522,-2.8848752817911754,-12.052672305948603,15.606552485378312,1.0417295896800056,-4.911146103689171,-2.312942823735124,-7.732958769252689,10.351357462150446,15.689254696426083,-2.287438097560838,-2.181298891063218,-9.51326804090707,12.43928130905332,0.18878628492137303,-1.5358374723250978,-2.203077285045605,1.6571056175473924,0.1210517716292401,10.459557345298208,-7.517437654468484,3.2364523856465137,-8.305764043419021],\"word\":[\"deals\",\"into\",\"don't\",\"see\",\"can't\",\"last\",\"had\",\"than\",\"who\",\"our\",\"people\",\"their\",\"A\",\"days,\",\"make\",\"best\",\"0\",\"calories\",\"first\",\"burned\",\"still\",\"am\",\"would\",\"server\",\"work\",\"over\",\"This\",\"load\",\"lost\",\"users,\",\"today\",\"after\",\"much\",\"average:\",\"should\",\"because\",\"Just\",\"shoes\",\"So\",\"I've\",\"It's\",\"think\",\"getting\",\"since\",\"1\",\"year\",\"|\",\"there\",\"?\",\"3\",\"know\",\"health\",\"life\",\"even\",\"poster\",\"them\",\"home\",\"why\",\"right\",\"game\",\"Server:\",\"Uptime:\",\"days\",\"then\",\"take\",\"food\",\"\\ufffd\",\"wanna\",\"next\",\"down\",\"lawyer\",\"never\",\"morning\",\"shopping\",\"things\",\"nike\",\"could\",\"adidas\",\"u\",\"better\",\"way\",\"wait\",\"shipping\",\"she\",\"New\",\"If\",\"every\",\"lbs\",\"too\",\"We\",\"pay\",\"someone\",\"watch\",\"being\",\"look\",\"world\",\"money\",\"under\",\"its\",\"thing\",\"free\",\"great\",\"Obamacare\",\"these\",\"any\",\"black\",\"im\",\"watching\",\"4\",\"amazon\",\"put\",\"And\",\"come\",\"before\",\"5\",\"around\",\"workout\",\"tablet\",\"other\",\"care\",\"It\",\"What\",\"Why\",\"here\",\"two\",\"running\",\"Adidas\",\"In\",\"did\",\"I'll\",\".\",\"gonna\",\"use\",\"while\",\"All\",\"find\",\"loans:\",\"always\",\"sofa\",\"where\",\"ever\",\"him\",\"feel\",\"looking\",\"night\",\"it.\",\"student\",\"THE\",\"us\",\"No\",\"shop\",\"Christmas\",\"week\",\"does\",\"healthcare\",\"wardrobe\",\"stop\",\"old\",\"phone\",\"didn't\",\"most\",\"myself\",\"trying\",\"How\",\"mattress\",\"tomorrow\",\"10\",\"own\",\"Black\",\"play\",\"having\",\"goal\",\",\",\"completed\",\"were\",\"those\",\"also\",\"i'm\",\"2016\",\"that's\",\"Pitch\",\"until\",\"school\",\"That\",\"again\",\"job\",\"said\",\"But\",\"...\",\"diary\",\"another\",\"already\",\"went\",\"sale\",\"left\",\"same\",\"doesn't\",\"Friday\",\"flights\",\"pitch.\",\"weigh-in!\",\"On\",\"actually\",\"say\",\"very\",\"needs\",\"Football\",\"Is\",\"used\",\"Lyft\",\"big\",\"hours\",\"making\",\"high\",\"Now\",\"without\",\"makes\",\"whole\",\":\",\"which\",\"years\",\"long\",\"#Pitch\",\"GM\",\"Pi\",\"working\",\"keep\",\"bed\",\"design\",\"team\",\"When\",\"help\",\"little\",\"wish\",\"printer\",\"System\",\"Can't\",\"happy\",\"6\",\"Best\",\"2017\",\"far.\",\"call\",\"Not\",\"full\",\"Pi2\",\"finally\",\"JST\",\"Hostname:raspi\",\"MY\",\"playing\",\"hiring\",\"Who\",\"For\",\"Kitchen\",\"give\",\"lot\",\"away\",\"coming\",\"weight\",\"through\",\"nice\",\"To\",\"looks\",\"Need\",\"calorie\",\"divorce\",\"bc\",\"ready\",\"sleep\",\"real\",\"gm\",\"credit\",\"let\",\"end\",\"hard\",\"excited\",\"hit\",\"everything\",\"well\",\"live\",\"found\",\"wear\",\"might\",\"dad\",\"done\",\"tennis\",\"run\",\"won't\",\"traffic\",\"Good\",\"Running\",\"beds\",\"He\",\"sure\",\"hope\",\"show\",\"AND\",\"Got\",\"open\",\"tonight\",\"literally\",\"nothing\",\"TO\",\"Up\",\"financial\",\"!\",\"One\",\"IS\",\"isn't\",\"quotes\",\"0.05\",\"#quotes\",\"=\",\"walking\",\"Server\",\"I'd\",\"cause\",\"??\",\"code\",\"using\",\"desktop\",\"today.\",\"few\",\"set\",\"n\",\"video\",\"stuff\",\"weekend\",\"gets\",\"girl\",\"business\",\"place\",\"0.00,\",\"games\",\"wants\",\"babysitting\",\"season\",\"bought\",\"guy\",\"Can\",\"top\",\"came\",\"able\",\"office\",\"against\",\"family\",\"says\",\"now.\",\"min\",\"me.\",\"friends\",\"+\",\"pretty\",\"20\",\"7\",\"football.\",\"Buy\",\"graphic\",\"8\",\"please\",\"machine\",\"order\",\"Get\",\"there's\",\"sitting\",\"post\",\"try\",\"Deals\",\"mins\",\"cool\",\"Mercedes\",\"far\",\"between\",\"gotta\",\"taking\",\"w\",\"30\",\"half\",\"network\",\"almost\",\"skiing\",\"Apple\",\"such\",\"Gm\",\"may\",\"white\",\"mirrors\",\"miss\",\"change\",\"12\",\"First\",\"yet\",\"They\",\"paid\",\"anything\",\"saw\",\"per\",\"instead\",\"Love\",\"wanted\",\"both\",\"month\",\"Travel\",\"must\",\"comes\",\"he's\",\"called\",\"least\",\":)\",\"laptop.\",\"patent\",\"washing\",\"Free\",\"temperature\",\"probably\",\"told\",\"kitchen.\",\"rent\",\"parents\",\"believe\",\"pair\",\"eat\",\"space\",\"table\",\"tell\",\"CPU:\",\"soon\",\"took\",\"Saturday\",\"person\",\"leave\",\"early\",\"buying\",\"BMW\",\"There\",\"hour\",\"kids\",\"spent\",\"driving\",\"wearing\",\"name\",\"perfect\",\"stay\",\"ur\",\"company\",\"w/\",\"House\",\"move\",\"clean\",\"walk\",\"current\",\"due\",\"turn\",\"thought\",\"clothes\",\"goes\",\"fun\",\"drive\",\"0.01,\",\"IN\",\"cost\",\"As\",\"(jogging),\",\"enough\",\"floor\",\"different\",\"Logo\",\"That's\",\"less\",\"store\",\"Health\",\"Day\",\"server.\",\"Great\",\"waiting\",\"bring\",\"US\",\"guess\",\"seen\",\"/\",\"time:\",\"NFL\",\"gone\",\"refrigerator\",\"internship\",\"y'all\",\"spend\",\"brand\",\"card\",\"VC\",\"music\",\"gift\",\"Use\",\"At\",\"loss\",\"Time\",\"trademark\",\"Forget\",\"Looking\",\"point\",\"Someone\",\"Audi\",\"line\",\"Nb.\",\"during\",\"delay\",\"small\",\"talk\",\"win\",\"thinking\",\"water\",\"baby\",\"????\",\"???\",\"Life\",\"1st\",\"air\",\"player\",\"once\",\"hunting\",\"together\",\"Don't\",\"ON\",\"twitter\",\"feeling\",\"Im\",\"golf\",\"Auto\",\"FOR\",\"theft\",\"energy\",\"With\",\"means\",\"She\",\"paying\",\"book\",\"outside\",\"mph,\",\"Today\",\"Our\",\"plan\",\"head\",\"till\",\"favorite\",\"Still\",\"forgot\",\"web\",\"times\",\"seeing\",\"..\",\"goes.\",\"15\",\"past\",\"Used\",\"tech,\",\"eating\",\"#HealthCare\",\"haven't\",\"app\",\"day.\",\"promo\",\"save\",\"Like\",\"C\",\"Walking,\",\":(\",\"Laptop\",\"friend\",\"second\",\"power\",\"Monday\",\"cant\",\"check\",\"mph\",\"UP=\",\"wasn't\",\"million\",\"talking\",\"each\",\"months\",\"idea\",\"designer\",\"Any\",\"via\",\"After\",\"Do\",\"light\",\"straight\",\"Air\",\"9\",\"website\",\"become\",\"TV\",\"IKEA\",\"auto\",\"Lawyer\",\"x\",\"Loans\",\"deal\",\"single\",\"lose\",\"three\",\"rn\",\"Tesla\",\"worst\",\"break\",\"ticket\",\"ain't\",\"asked\",\"Only\",\"hear\",\"close\",\"remember\",\"Oh\",\"payday\",\"couldn't\",\"front\",\"pitch,\",\"tv\",\"sad\",\"cute\",\"year.\",\"RAM:\",\"COLLEGE\",\"tried\",\"\\\"I\",\"amazing\",\"remote\",\"Of\",\"basketball\",\"drunk\",\"we're\",\"Theft\",\"loan\",\"bit\",\"Medicare\",\"low\",\"level\",\"reason\",\"weeks\",\"box\",\"People\",\"payment\",\"services\",\"Really\",\"else\",\"price\",\"Let's\",\"created\",\"crazy\",\"throw\",\"lane\",\"entire\",\"gave\",\"php\",\"side\",\"saying\",\"room.\",\"IT\",\"0.07,\",\"including\",\"club\",\"kind\",\"maybe\",\"rest\",\"computer\",\"OF\",\"day,\",\"Car\",\"child\",\"currently\",\"size\",\"There's\",\"ordered\",\"time.\",\"Will\",\"account\",\"prime\",\"dont\",\"mean\",\"wonder\",\"face\",\"available\",\"Grand\",\"case\",\"0.06,\",\"slow\",\"speeding\",\"ask\",\"Go\",\"Insurance\",\"summer\",\"tho\",\"&gt;\",\"sit\",\"takes\",\"blinds\",\"future\",\"fire\",\"movie\",\"NIKE\",\"logo.\",\"pace\",\"social\",\"Kia\",\"Some\",\"insurance.\",\"afford\",\"beautiful\",\"they're\",\"ikea\",\"mind\",\"0.04,\",\"pick\",\"training\",\"Me\",\"0.08,\",\"blocked\",\"asleep\",\"active\",\"software\",\"Where\",\"vs\",\"Twitter\",\"drop\",\"up.\",\"Chevy\",\"boy\",\"companies\",\"Uber\",\"red\",\"SO\",\"country\",\"Finally\",\"FOOTBALL\",\"coffee\",\"players\",\"laptop,\",\"commercial\",\"wrong\",\"later\",\"11\",\"guys\",\"NOT\",\"ran\",\"Watching\",\"rather\",\"Please\",\"Every\",\"Watch\",\"accident\",\"dog\",\"feels\",\"ball\",\"battle\",\"tweet\",\"gaming\",\"cold\",\"alone\",\"Morning\",\"Be\",\"again.\",\"ya\",\"socks\",\"sell\",\"system\",\"Have\",\"24\",\"100\",\"CPA\",\"body\",\"understand\",\"development\",\"couple\",\"fact\",\"Should\",\"--\",\"decided\",\"service\",\"0.05,\",\"weird\",\"house.\",\"dream\",\"sign\",\"self\",\"Size\",\"car.\",\"tired\",\"cover\",\"Healthcare\",\"ppl\",\"renewable\",\"Accident\",\"glad\",\"email\",\"screen\",\"NEW\",\"late\",\"PHP\",\"count\",\"bike\",\"out.\",\"fast\",\"These\",\"seems\",\"Nothing\",\"she's\",\"Shoes\",\"Most\",\"Well\",\"50\",\"Men's\",\"kg\",\"bag\",\"read\",\"Getting\",\"Patent\",\"inside\",\"forward\",\"fall\",\"Prime\",\"number:\",\"fix\",\"girls\",\"kitchen,\",\"From\",\"ok\",\"GPU\",\"Also\",\"super\",\"hand\",\"Going\",\"giving\",\"#design\",\"sleeping\",\"near\",\"kinda\",\"turned\",\"tech\",\"number\",\"More\",\"#Quotes\",\"paper\",\"gear\",\"Me:\",\"Gotta\",\"Under\",\"india\",\"course\",\"across\",\"0.02,\",\"State\",\"state\",\"credit.\",\"cheap\",\"opening\",\"mile)\",\"send\",\"Nissan\",\"me,\",\"ALL\",\"travel.\",\"Hillary\",\"Exercise\",\"Porsche\",\"presented\",\"honestly\",\"vc\",\"de\",\"needed\",\"extra\",\"thanks\",\"middle\",\"gym\",\"Cadillac\",\"0.03,\",\"meet\",\"charge\",\"though\",\"expensive\",\"ago\",\"access\",\"it,\",\"game.\",\"definitely\",\"cannot\",\"Teamspeak\",\"finish\",\"what's\",\"Nike+\",\"pm\",\"works\",\"hooks\",\"charger\",\"U\",\"2nd\",\"behind\",\"(running)\",\"Obama\",\"Happy\",\"0.09,\",\"private\",\"idk\",\"PING=OK\",\"door\",\"lawyer.\",\"911\",\"blow.\",\"wouldn't\",\"#Obamacare\",\"cut\",\"me:\",\"lit\",\"Maybe\",\"tryna\",\"lead\",\"trade\",\"AUTO\",\"Alzheimer's\",\"upon\",\"yesterday\",\"AM\",\"stand\",\"lanes\",\"dementia\",\"who's\",\"on.\",\"sales\",\"problem\",\"Had\",\"smh\",\"enthusiastically\",\"today,\",\"list\",\"Never\",\"putting\",\"Club\",\"LAPTOP\",\"ME\",\"let's\",\"shows\",\"Low\",\"Thanks\",\"car,\",\"cat\",\"closed.\",\"0.06\",\"huge\",\"Last\",\"PC\",\"woke\",\"kid\",\"either\",\"hair\",\"cash\",\"listening\",\"moving\",\"Trying\",\"SB\",\"walked\",\"fell\",\"missed\",\"news\",\"catch\",\"Does\",\"teams\",\"25\",\"swear\",\"loans.\",\"Sunday\",\"women\",\"morning.\",\"Home\",\"experience\",\"Big\",\"exercise.\",\"wake\",\"plans\",\"November\",\"oh\",\"Been\",\"Perfect\",\"What's\",\"tonight.\",\"build\",\"January\",\"places\",\"type\",\"taken\",\"thy\",\"Or\",\"keeps\",\"realized\",\"Golf\",\"Its\",\"watched\",\"IM\",\"fit\",\"data\",\"loadavg:\",\"Nice=0.0%\",\"learn\",\"American\",\"link\",\"Accident,\",\"Jordan\",\"pls\",\"cars\",\"easy\",\"life.\",\"tax\",\"recruiting\",\"dark\",\"thine\",\"Are\",\"Game\",\"Come\",\"finished\",\"work.\",\"NO\",\"wall\",\"Parkinson's\",\"40\",\"supposed\",\"ACCIDENT\",\"stopped\",\"Echo\",\"books\",\"general\",\"Who's\",\"bank\",\"fan\",\"deals.\",\"Call\",\"THIS\",\"la\",\"benefits\",\"bout\",\"ones\",\"shoes.\",\"back.\",\"stuck\",\"played\",\"?????\",\"cardio\",\"World\",\"!!\",\"heard\",\"NB\",\"\\\"\",\"learning\",\"blue\",\"knows\",\"update\",\"speed:\",\"leads\",\"longer\",\"Mirrors\",\"song\",\"Walking\",\"grand\",\"Dispatch:\",\"crying\",\"Design\",\"0.00\",\"Was\",\"cleaning\",\"JUST\",\"Load\",\"President\",\"60\",\"connections:\",\"BPD\",\"friday\",\"Another\",\"international\",\"Consumer\",\"tomorrow.\",\"EU\",\"Payday\",\"processes:\",\"audi\",\"happen\",\"window\",\"arm_freq=900\",\"T(C):\",\"0.10,\",\"(371)\",\"them.\",\"wild\",\"~\",\"An\",\"Back\",\"road\",\"looked\",\"Dell\",\"market\",\"public\",\"jobs\",\"that.\",\"treat\",\"Then\",\"White\",\"Let\",\"aren't\",\"cooking\",\"sat\",\"fans\",\"plus\",\"Did\",\"temp=51.9'C.\",\"sent\",\"pantry\",\"chevy\",\"write\",\"Bicycling,\",\"interest\",\"#traffic\",\"Accident:\",\"forget\",\"Want\",\"We're\",\"step\",\"government\",\"December\",\"changed\",\"christmas\",\"closed\",\"awesome\",\"yang\",\"men\",\"13\",\"anymore\",\"boys\",\"biggest\",\"2.\",\"temp=50.8'C.\",\"Texas\",\"fixed\",\"within\",\"week.\",\"af\",\"PITCH\",\"rate\",\"temp:\",\"amount\",\"knew\",\"version\",\"degrees\",\"bmw\",\"biking,\",\"About\",\"personal\",\"drivers\",\"(cycling,\",\"delivery\",\"hold\",\"Jan\",\"seriously\",\"\\\"The\",\"Work\",\"daily\",\"Pay\",\"apple\",\"Potential\",\"okay\",\"Next\",\"#travel\",\"minute\",\"costs\",\"beat\",\"area\",\"Super\",\"gives\",\"baseball\",\"F\",\"dropped\",\"mum\",\"i've\",\"45\",\"house,\",\"1.\",\"trip\",\"media\",\"room,\",\"POSTER\",\"selling\",\"Wish\",\"sound\",\"leaving\",\"Take\",\"test\",\"writing\",\"good.\",\"21\",\"Nov\",\"LOVE\",\"chance\",\"building\",\"THAT\",\"officially\",\"jacket\",\"Amazon.\",\"key\",\"won\",\"winter\",\"3rd\",\"wife\",\"law\",\"#webdesign\",\"Dec\",\"appliances\",\"today!\",\"cry\",\"logo,\",\"series\",\"offer\",\"exercises,\",\"asking\",\"figure\",\"lazy\",\"draw\",\"funny\",\"Web\",\"it!\",\"??????\",\"complete\",\"double\",\"holiday\",\"drink\",\"word\",\"one.\",\"pants\",\"Top\",\"swimwear\",\"Even\",\"r\",\"death\",\"#graphic\",\"Think\",\"spending\",\"logo?\",\"throwing\",\"fine\",\"cuz\",\"Netflix\",\"tree\",\"uber\",\"Financial\",\"pro\",\"100%\",\"Living\",\"basically\",\"round\",\"Make\",\"quick\",\"students\",\"#graphicdesign\",\"???????\",\"deep\",\"Red\",\"$50\",\"Business\",\"enjoy\",\"eyes\",\"seeking\",\"sounds\",\"riding)\",\"pictures\",\"America\",\"possible\",\"Office\",\"internet\",\"group\",\"date\",\"episode\",\"ride\",\"WITH\",\"mobile\",\"quality\",\"dinner\",\"boots\",\"calling\",\"world.\",\"onto\",\"football,\",\"absolutely\",\"reebok\",\"LOGO\",\"night.\",\"temp=53.0'C.\",\"anybody\",\"now,\",\"story\",\"true\",\"Two\",\"miles\",\"Google\",\"actual\",\"sold\",\"bathroom\",\"major\",\"completely\",\"city\",\"somebody\",\"study\",\"based\",\"speed\",\"kia\",\"Services\",\"matter\",\"cleaned\",\"forever\",\"question\",\"WB\",\"da\",\"drawing\",\"cyber\",\"insurance,\",\"di\",\"hands\",\"#jobs\",\"Ikea\",\"print\",\"four\",\"tbh\",\"add\",\"#nowplaying\",\"18\",\"movies\",\"sink\",\"up,\",\"shoe\",\"final\",\"dollars\",\":/\",\"worked\",\"crm\",\"Network\",\"lawyer,\",\"dancing\",\"automatically\",\"Run\",\"towards\",\"bio\",\"#news\",\"UK\",\"quite\",\"too.\",\"issues\",\"16\",\"Hyundai\",\"EB\",\"cook\",\"security\",\"envelope\",\"color\",\"Y'all\",\"wow\",\"mother\",\"problems\",\"lady\",\"Student\",\"keeping\",\"planning\",\"telling\",\"He's\",\"bringing\",\"windows\",\"14\",\"usage:\",\"Care\",\"bedroom\",\"cards\",\"lil\",\"green\",\"ice\",\"Anybody\",\"offers\",\"happened\",\"match\",\"center\",\"mine\",\"legal\",\"runs\",\"pull\",\"given\",\"allowed\",\"respect\",\"here.\",\"along\",\"Armour\",\"more.\",\"0.12\",\"threw\",\"HAVE\",\"bags\",\"decide\",\"pitch?\",\"temp=49.8'C.\",\"Obamacare.\",\"Reebok\",\"Check\",\"moved\",\"missing\",\"Php\",\"divorce.\",\"High\",\"text\",\"son\",\"realtor\",\"Would\",\"sorry\",\"nigga\",\"rates\",\"picture\",\"scared\",\"strike\",\"stock\",\"#hiring\",\"weather\",\"local\",\"program\",\"home.\",\"Update:\",\"control\",\"site\",\"2016,\",\"everyday\",\"track\",\"i'll\",\"create\",\"shouldn't\",\"join\",\"totally\",\"iPhone\",\"conference\",\"dress\",\"pizza\",\"battery\",\"Wow\",\"main\",\"N\",\"project\",\"saved\",\"Kershaw\",\"Rd,\",\"Graphic\",\"lights\",\"hiring?\",\"worse\",\"omg\",\"Which\",\"videos\",\"married\",\"GUESTS.\",\"signed\",\"Unsecured\",\"travel,\",\"0.11,\",\"realize\",\"Guess\",\"truck\",\"City\",\"reading\",\"Having\",\"clear\",\"thru\",\"bunch\",\"furniture\",\"rental\",\"Poster\",\"ended\",\"May\",\"PM\",\"special\",\"#seattle\",\"%\",\"By\",\"Might\",\"share\",\"fake\",\"interesting\",\"lots\",\"3D\",\"return\",\"kph\",\"Looks\",\"Americans\",\"**\",\"in.\",\"increase\",\"bigger\",\"dollar\",\"there.\",\"Ima\",\"education\",\"pink\",\"Co.\",\"package\",\"#Graphicdesign\",\"vote\",\"ill\",\"calls\",\"release\",\"Table\",\"others\",\"losing\",\"temp=48.7'C.\",\"Babysitting\",\"medical\",\"seem\",\"felt\",\"installed\",\"adult\",\"meeting\",\"serious\",\"homes\",\"rid\",\"president\",\"South\",\"album\",\"feet\",\"Those\",\"year,\",\"dan\",\"athletic\",\"chill\",\"0.11\",\"healthcare.\",\"dental\",\"un\",\"Am\",\"pada\",\"somewhere\",\"Gonna\",\"Went\",\"cop\",\"greatest\",\"Because\",\"loans,\",\"3.\",\"Very\",\"dance\",\"km)\",\"words\",\"prices\",\"Video\",\"Thursday\",\"total\",\"five\",\"busy\",\"F.\",\"gold\",\"Currently\",\"hat\",\"Nice\",\"temp=51.4'C.\",\"thinks\",\"Things\",\"22\",\"b\",\"#RaspberryPi\",\"football!\",\"you\",\"terrible\",\"warm\",\"purchase\",\"stream\",\"smell\",\"emails\",\"DM\",\"Security\",\"exactly\",\"goals\",\"wifi\",\"mod.\",\"sometimes\",\"nobody\",\"synced\",\"35\",\"pc\",\"far!\",\"field\",\"See\",\"#PHP\",\"record\",\"bus\",\"safe\",\"(C)\",\"tf\",\"train\",\"Molabat\",\"exercise,\",\"mercedes\",\"hasn't\",\"page\",\"T\",\"wit\",\"flat\",\"listen\",\"#quote\",\"all.\",\"form\",\"driver\",\"0.10\",\"BUT\",\"Ok\",\"Early\",\"#business\",\"yes\",\"affordable\",\"is:\",\":D\",\"Temperature:\",\"AT\",\"Vice\",\"replace\",\"opened\",\"17\",\"luck\",\"dope\",\"drinking\",\"uk\",\"GET\",\"coach\",\"likely\",\"continue\",\"Withings\",\"Blue\",\"covered\",\"issue\",\"children\",\"camera\",\"pack\",\"apparently\",\"board\",\"Int'l\",\"slides\",\"coverage\",\"weigh-in\",\"0.07\",\"Scale.\",\"couch\",\"Michael\",\"DO\",\"decent\",\"#best\",\"switch\",\"Optimistic\",\"UP\",\"connect\",\"stick\",\"considering\",\"Being\",\"agent\",\"rugs\",\"ad\",\"lay\",\"present\",\"season.\",\"touch\",\"finding\",\"bucks\",\"BE\",\"healthy\",\"ideas\",\"Idk\",\"hungry\",\"Sometimes\",\"Temp:42.24\",\"loves\",\"(\",\"anywhere\",\"wanting\",\"log\",\"age\",\"down.\",\"CPU\\ufffdUser=1.0%\",\"higher\",\"mental\",\"CRM\",\"laying\",\"changing\",\"apply\",\"preschool\",\"!!!\",\"Shipping\",\"annoying\",\"So,\",\"booked\",\"Temp:41.16\",\"re\",\"WHY\",\"o\",\"Ready\",\"added\",\"voice\",\"John\",\"Hopefully\",\"ways\",\"hoping\",\"debt\",\"off.\",\"Hope\",\"v\",\"wind\",\"inning\",\"years.\",\"lunch\",\"except\",\"90\",\"strong\",\"large\",\"#Nissan\",\"route\",\"camp\",\"search\",\"West\",\"I\\ufffdm\",\"October\",\"KITCHEN\",\"everywhere\",\"fight\",\"#cubevenue\",\"2017,\",\"history\",\"this.\",\"Divorce\",\"na\",\"Social\",\"til\",\"exciting\",\"#pitch\",\"premiums\",\"S\",\"Contact\",\"standing\",\"Out\",\"Windows\",\"....\",\"breakfast\",\"Stay\",\"0.08\",\"everybody\",\"chicken\",\"process\",\"thats\",\"memory\",\"fresh\",\"provide\",\"practice\",\"snow\",\"FREE\",\"NEED\",\"random\",\"sweet\",\"Stop\",\"#debate\",\"back!\",\"well.\",\"note\",\"nearly\",\"Working\",\"trust\",\"regular\",\"Online\",\"nissan\",\"hopefully\",\"normal\",\"joke\",\"it?\",\"Facebook\",\"work,\",\")\",\"ARE\",\"piece\",\"heat\",\"#SanMarcos\",\"San\",\"Hiring\",\"(12\",\"Team\",\"fear\",\"lie\",\"Literally\",\"procurement\",\"often\",\"mess\",\"policy\",\"Cyber\",\"homework\",\"GOT\",\"Parkinson\",\"pen\",\"cpu\",\"ObamaCare\",\"host\",\"turns\",\"Since\",\"United\",\"proud\",\"tea\",\"ive\",\"delivered\",\"score\",\"Athletic\",\"Off\",\"armour\",\"soon.\",\"suit\",\"didnt\",\"pain\",\"tickets\",\"hospital\",\"0.09\",\"Pro\",\"P\",\"imagine\",\"saving\",\"etc\",\"0.13\",\"Flights\",\"legit\",\"grandma\",\"pitch!\",\"ist\",\"download\",\"haha\",\"WAS\",\"focus\",\"Listening\",\"settlement\",\"marketing\",\"whether\",\"spot\",\"upset\",\"RAM\",\"#how\",\"uk:\",\"aid\",\"income\",\"choose\",\"23\",\"singing\",\"official\",\"received\",\"healthcare,\",\"town\",\"Way\",\"interested\",\"GMT\",\"Welcome\",\"Uptime:0\",\"heater\",\"kick\",\"gpu\",\"sense\",\"sun\",\"Tennis\",\"loans-\",\"Florida\",\"NOW\",\"India\",\"Open\",\"His\",\"right?\",\"thing.\",\"customer\",\"especially\",\"em\",\"3.0\",\"contact\",\"ahead\",\"Tech\",\"E\",\"plays\",\"showing\",\"Quotes\",\"I-64\",\"lets\",\"50%\",\"wont\",\"W\",\"ST\",\"#LOGO\",\"#nikeplus\",\"days.\",\"ugly\",\"expect\",\"money.\",\"rain\",\"paint\",\"pulled\",\"yall\",\"review\",\"noch\",\"BACK\",\"turning\",\"immer\",\"September\",\"Pretty\",\"Space\",\"stores\",\"etc.\",\"boyfriend\",\"stairs\",\"ONE\",\"Nike+.\",\"gotten\",\"points\",\"0.12,\",\"things.\",\"happening\",\"hits\",\"visit\",\"Room\",\"king\",\"Dementia\",\"26\",\"cheaper\",\"&lt;3\",\"yeah\",\"Mike\",\"act\",\"products\",\"d\",\"users\",\"St\",\"X\",\"oil\",\"33\",\"is.\",\"Cubs\",\"uni\",\"domestic\",\"bar\",\"third\",\"learned\",\"windbreaker\",\"dell\",\"2017.\",\"street\",\"ground\",\"lives\",\"time,\",\"blessed\",\"Today's\",\"ship\",\"national\",\"Launch\",\"force\",\"orders\",\"out,\",\"empty\",\"handle\",\"19\",\"makeup\",\"mama\",\"information\",\"Keep\",\"eye\",\"model\",\"500\",\"difference\",\"people.\",\"foreign\",\"Jose\",\"songs\",\"V\",\"him.\",\"event\",\"mi\",\"fiscal\",\"loved\",\"lb\",\"truly\",\"himself\",\"Okay\",\"WE\",\"known\",\"earlier\",\"bottle\",\"simple\",\"lower\",\"Find\",\"cup\",\"Sofa\",\"ever.\",\"regard\",\"Remember\",\"Thinking\",\"beer\",\"meant\",\"#Minecraft\",\"doctor\",\"Medium\",\"session\",\"thankful\"]}},\"id\":\"b356a474-0a80-4ecc-b2ca-31d5d0f69d3c\",\"type\":\"ColumnDataSource\"},{\"attributes\":{\"fill_alpha\":{\"value\":0.1},\"fill_color\":{\"value\":\"#1f77b4\"},\"line_alpha\":{\"value\":0.1},\"line_color\":{\"value\":\"#1f77b4\"},\"size\":{\"units\":\"screen\",\"value\":10},\"x\":{\"field\":\"tsne_x\"},\"y\":{\"field\":\"tsne_y\"}},\"id\":\"4c8d6840-4f28-4f71-8fcf-30f73dc1d4df\",\"type\":\"Circle\"},{\"attributes\":{\"overlay\":{\"id\":\"89ae1baa-5745-4098-b6df-c50481bf8839\",\"type\":\"BoxAnnotation\"},\"plot\":{\"id\":\"2ee9eadf-c45f-4578-ac72-a6fcbfef808a\",\"subtype\":\"Figure\",\"type\":\"Plot\"}},\"id\":\"816b7d9d-2f5d-4193-9a5f-111e8241acc2\",\"type\":\"BoxZoomTool\"},{\"attributes\":{\"bottom_units\":\"screen\",\"fill_alpha\":{\"value\":0.5},\"fill_color\":{\"value\":\"lightgrey\"},\"left_units\":\"screen\",\"level\":\"overlay\",\"line_alpha\":{\"value\":1.0},\"line_color\":{\"value\":\"black\"},\"line_dash\":[4,4],\"line_width\":{\"value\":2},\"plot\":null,\"render_mode\":\"css\",\"right_units\":\"screen\",\"top_units\":\"screen\"},\"id\":\"50654234-1954-4f29-a011-41a27e0b5d6a\",\"type\":\"BoxAnnotation\"},{\"attributes\":{},\"id\":\"68e0e2c1-96c1-4e17-816f-17c3494f619b\",\"type\":\"BasicTickFormatter\"},{\"attributes\":{\"callback\":null},\"id\":\"c843f991-7b69-4fc3-9d8d-353e620094a6\",\"type\":\"DataRange1d\"},{\"attributes\":{},\"id\":\"cbeb6838-f85a-44a4-9c22-6e9c515bf22e\",\"type\":\"BasicTickFormatter\"},{\"attributes\":{\"bottom_units\":\"screen\",\"fill_alpha\":{\"value\":0.5},\"fill_color\":{\"value\":\"lightgrey\"},\"left_units\":\"screen\",\"level\":\"overlay\",\"line_alpha\":{\"value\":1.0},\"line_color\":{\"value\":\"black\"},\"line_dash\":[4,4],\"line_width\":{\"value\":2},\"plot\":null,\"render_mode\":\"css\",\"right_units\":\"screen\",\"top_units\":\"screen\"},\"id\":\"89ae1baa-5745-4098-b6df-c50481bf8839\",\"type\":\"BoxAnnotation\"},{\"attributes\":{\"plot\":null,\"text\":\"tsne word encodings\",\"text_font_size\":{\"value\":\"16pt\"}},\"id\":\"093394c5-1164-48ac-a6da-fad813a31bda\",\"type\":\"Title\"},{\"attributes\":{\"dimension\":1,\"grid_line_color\":{\"value\":null},\"plot\":{\"id\":\"2ee9eadf-c45f-4578-ac72-a6fcbfef808a\",\"subtype\":\"Figure\",\"type\":\"Plot\"},\"ticker\":{\"id\":\"a7b3265b-5b8a-4814-aa53-cc51149223de\",\"type\":\"BasicTicker\"}},\"id\":\"d03fcf7d-f05b-4853-86c7-37054ddef281\",\"type\":\"Grid\"},{\"attributes\":{\"fill_alpha\":{\"value\":0.1},\"fill_color\":{\"value\":\"blue\"},\"line_alpha\":{\"value\":0.2},\"line_color\":{\"value\":\"blue\"},\"size\":{\"units\":\"screen\",\"value\":10},\"x\":{\"field\":\"tsne_x\"},\"y\":{\"field\":\"tsne_y\"}},\"id\":\"88642453-c3ea-4bf4-8982-224749e6aeda\",\"type\":\"Circle\"},{\"attributes\":{\"plot\":{\"id\":\"2ee9eadf-c45f-4578-ac72-a6fcbfef808a\",\"subtype\":\"Figure\",\"type\":\"Plot\"}},\"id\":\"023e6aea-a773-46b8-b713-cd0e7ad1ac85\",\"type\":\"ResetTool\"},{\"attributes\":{\"callback\":null},\"id\":\"246030e7-8fe6-4bd5-bffe-d94976b6743d\",\"type\":\"DataRange1d\"},{\"attributes\":{},\"id\":\"a7b3265b-5b8a-4814-aa53-cc51149223de\",\"type\":\"BasicTicker\"},{\"attributes\":{\"below\":[{\"id\":\"23e0b293-43a9-41c3-a36e-d4c8d81b003f\",\"type\":\"LinearAxis\"}],\"left\":[{\"id\":\"d81fc796-2cdd-4c9d-b0b6-068d46aae302\",\"type\":\"LinearAxis\"}],\"outline_line_color\":{\"value\":null},\"plot_height\":400,\"renderers\":[{\"id\":\"23e0b293-43a9-41c3-a36e-d4c8d81b003f\",\"type\":\"LinearAxis\"},{\"id\":\"5450743b-e6dc-48d5-a298-e426bbe88b9a\",\"type\":\"Grid\"},{\"id\":\"d81fc796-2cdd-4c9d-b0b6-068d46aae302\",\"type\":\"LinearAxis\"},{\"id\":\"d03fcf7d-f05b-4853-86c7-37054ddef281\",\"type\":\"Grid\"},{\"id\":\"89ae1baa-5745-4098-b6df-c50481bf8839\",\"type\":\"BoxAnnotation\"},{\"id\":\"50654234-1954-4f29-a011-41a27e0b5d6a\",\"type\":\"BoxAnnotation\"},{\"id\":\"bba872da-67b5-4e18-ba42-9a5574556e6a\",\"type\":\"GlyphRenderer\"}],\"title\":{\"id\":\"093394c5-1164-48ac-a6da-fad813a31bda\",\"type\":\"Title\"},\"tool_events\":{\"id\":\"179f2e56-0015-4563-9d61-871c876172d7\",\"type\":\"ToolEvents\"},\"toolbar\":{\"id\":\"029f5133-8e05-42ed-afdf-06ed9407a3e5\",\"type\":\"Toolbar\"},\"x_range\":{\"id\":\"c843f991-7b69-4fc3-9d8d-353e620094a6\",\"type\":\"DataRange1d\"},\"y_range\":{\"id\":\"246030e7-8fe6-4bd5-bffe-d94976b6743d\",\"type\":\"DataRange1d\"}},\"id\":\"2ee9eadf-c45f-4578-ac72-a6fcbfef808a\",\"subtype\":\"Figure\",\"type\":\"Plot\"},{\"attributes\":{\"data_source\":{\"id\":\"b356a474-0a80-4ecc-b2ca-31d5d0f69d3c\",\"type\":\"ColumnDataSource\"},\"glyph\":{\"id\":\"88642453-c3ea-4bf4-8982-224749e6aeda\",\"type\":\"Circle\"},\"hover_glyph\":{\"id\":\"f900a5ad-d494-4ba4-bcfa-5a9dcb953fc3\",\"type\":\"Circle\"},\"nonselection_glyph\":{\"id\":\"4c8d6840-4f28-4f71-8fcf-30f73dc1d4df\",\"type\":\"Circle\"},\"selection_glyph\":null},\"id\":\"bba872da-67b5-4e18-ba42-9a5574556e6a\",\"type\":\"GlyphRenderer\"},{\"attributes\":{\"fill_color\":{\"value\":\"#1f77b4\"},\"size\":{\"units\":\"screen\",\"value\":10},\"x\":{\"field\":\"tsne_x\"},\"y\":{\"field\":\"tsne_y\"}},\"id\":\"f900a5ad-d494-4ba4-bcfa-5a9dcb953fc3\",\"type\":\"Circle\"},{\"attributes\":{\"plot\":{\"id\":\"2ee9eadf-c45f-4578-ac72-a6fcbfef808a\",\"subtype\":\"Figure\",\"type\":\"Plot\"}},\"id\":\"bd36b8cb-77f3-4d40-8c67-938cc36b3889\",\"type\":\"PanTool\"},{\"attributes\":{\"formatter\":{\"id\":\"68e0e2c1-96c1-4e17-816f-17c3494f619b\",\"type\":\"BasicTickFormatter\"},\"plot\":{\"id\":\"2ee9eadf-c45f-4578-ac72-a6fcbfef808a\",\"subtype\":\"Figure\",\"type\":\"Plot\"},\"ticker\":{\"id\":\"a7b3265b-5b8a-4814-aa53-cc51149223de\",\"type\":\"BasicTicker\"},\"visible\":false},\"id\":\"d81fc796-2cdd-4c9d-b0b6-068d46aae302\",\"type\":\"LinearAxis\"}],\"root_ids\":[\"2ee9eadf-c45f-4578-ac72-a6fcbfef808a\"]},\"title\":\"Bokeh Application\",\"version\":\"0.12.0\"}};\n",
       "            var render_items = [{\"docid\":\"d8f15132-e6f6-453a-acfe-c3e010e14ed8\",\"elementid\":\"61ab4afd-5711-462b-a4ed-e5c0d084cec3\",\"modelid\":\"2ee9eadf-c45f-4578-ac72-a6fcbfef808a\",\"notebook_comms_target\":\"cf0ab2ae-2759-4249-8e8f-9bebd2eddc50\"}];\n",
       "            \n",
       "            Bokeh.embed.embed_items(docs_json, render_items);\n",
       "        });\n",
       "      },\n",
       "      function(Bokeh) {\n",
       "      }\n",
       "    ];\n",
       "  \n",
       "    function run_inline_js() {\n",
       "      for (var i = 0; i < inline_js.length; i++) {\n",
       "        inline_js[i](window.Bokeh);\n",
       "      }\n",
       "    }\n",
       "  \n",
       "    if (window._bokeh_is_loading === 0) {\n",
       "      console.log(\"Bokeh: BokehJS loaded, going straight to plotting\");\n",
       "      run_inline_js();\n",
       "    } else {\n",
       "      load_libs(js_urls, function() {\n",
       "        console.log(\"Bokeh: BokehJS plotting callback run at\", now());\n",
       "        run_inline_js();\n",
       "      });\n",
       "    }\n",
       "  }(this));\n",
       "</script>"
      ]
     },
     "metadata": {},
     "output_type": "display_data"
    },
    {
     "name": "stderr",
     "output_type": "stream",
     "text": [
      "/Users/schwarls37/anaconda/lib/python2.7/site-packages/ipykernel/comm/comm.py:52: DeprecationWarning: Comm._comm_id_default is deprecated: use @default decorator instead.\n",
      "  def _comm_id_default(self):\n",
      "/Users/schwarls37/anaconda/lib/python2.7/site-packages/ipykernel/comm/comm.py:29: DeprecationWarning: Comm._iopub_socket_default is deprecated: use @default decorator instead.\n",
      "  def _iopub_socket_default(self):\n",
      "/Users/schwarls37/anaconda/lib/python2.7/site-packages/ipykernel/comm/comm.py:24: DeprecationWarning: Comm._kernel_default is deprecated: use @default decorator instead.\n",
      "  def _kernel_default(self):\n",
      "/Users/schwarls37/anaconda/lib/python2.7/site-packages/ipykernel/comm/comm.py:32: DeprecationWarning: Comm._session_default is deprecated: use @default decorator instead.\n",
      "  def _session_default(self):\n",
      "/Users/schwarls37/anaconda/lib/python2.7/site-packages/ipykernel/comm/comm.py:41: DeprecationWarning: Comm._topic_default is deprecated: use @default decorator instead.\n",
      "  def _topic_default(self):\n",
      "/Users/schwarls37/anaconda/lib/python2.7/site-packages/ipykernel/comm/comm.py:24: DeprecationWarning: Comm._kernel_default is deprecated: use @default decorator instead.\n",
      "  def _kernel_default(self):\n",
      "/Users/schwarls37/anaconda/lib/python2.7/site-packages/ipykernel/comm/comm.py:52: DeprecationWarning: Comm._comm_id_default is deprecated: use @default decorator instead.\n",
      "  def _comm_id_default(self):\n",
      "/Users/schwarls37/anaconda/lib/python2.7/site-packages/ipykernel/comm/comm.py:32: DeprecationWarning: Comm._session_default is deprecated: use @default decorator instead.\n",
      "  def _session_default(self):\n",
      "/Users/schwarls37/anaconda/lib/python2.7/site-packages/ipykernel/comm/comm.py:41: DeprecationWarning: Comm._topic_default is deprecated: use @default decorator instead.\n",
      "  def _topic_default(self):\n"
     ]
    },
    {
     "data": {
      "text/html": [
       "<p><code>&lt;Bokeh Notebook handle for <strong>In[35]</strong>&gt;</code></p>"
      ],
      "text/plain": [
       "<bokeh.io._CommsHandle at 0x13dfc5ad0>"
      ]
     },
     "execution_count": 35,
     "metadata": {},
     "output_type": "execute_result"
    }
   ],
   "source": [
    "tsne = TSNE()\n",
    "\n",
    "ins = pd.DataFrame(myW2V.syn0norm, index=myW2V.index2word)\n",
    "ins = ins[100:2100] \n",
    "\n",
    "tsne_vects = tsne.fit_transform(ins.values)\n",
    "outs = pd.DataFrame(tsne_vects, index=pd.Index(ins.index), columns=['tsne_x','tsne_y'])\n",
    "outs['word'] = outs.index\n",
    "\n",
    "output_notebook()\n",
    "plot_data = ColumnDataSource(outs)\n",
    "tsne_plot = figure(title=\"tsne word encodings\",\n",
    "                   plot_width=600, plot_height=400,\n",
    "                   tools=('pan, wheel_zoom, box_zoom, box_select, resize, reset'),\n",
    "                   active_scroll='wheel_zoom')\n",
    "\n",
    "tsne_plot.add_tools( HoverTool(tooltips = '@word') )\n",
    "tsne_plot.circle('tsne_x','tsne_y', source=plot_data, color='blue', line_alpha=.2, fill_alpha=.1,\n",
    "                 size=10, hover_line_color='black')\n",
    "\n",
    "tsne_plot.title.text_font_size = value('16pt')\n",
    "tsne_plot.xaxis.visible = False\n",
    "tsne_plot.yaxis.visible = False\n",
    "tsne_plot.grid.grid_line_color = None\n",
    "tsne_plot.outline_line_color = None\n",
    "show(tsne_plot)"
   ]
  },
  {
   "cell_type": "markdown",
   "metadata": {},
   "source": [
    "## 10. Sentiment Analysis\n",
    "\n",
    "Historically, sentence polarity (\"good\" versus \"bad\") was been done with lexicons and rule-based polarity scoring based on the the words contained in a sentence.  As these techniques have become more sophisticated, they have started leveraging syntactic analysis to provide richer and more senstive (and accurate) evaluations of sentence polarity.  The current starte of the art of dictionary based scoring is [VADER](http://comp.social.gatech.edu/papers/icwsm14.vader.hutto.pdf), which has the most complete word polarity bank and leverages punctuation, casing, negation, intensity modifiers and slang and shorthand among other things to score a sentences polarity.\n",
    "\n",
    "An alternative to lookup scoring systems is based on predictive modeling.  If gold standard (i.e., validated human) sentence sentiment scores are available, then the sentences can be converted to features (e.g., binary bag-of-words, or even a featurization pipeline that accounted for more advanced sytactic parsing techniques) then machine learning tools can be leveraged to produce predictive models to score sentiment in new sentences.  Interogation of these models can provide evidence of feature relevances regarding sentiment analysis in order to further inform rule-based systems.  The drawback of machine learning approaches is that they are dependent on data availability and quality, and often the data requirements necessary to drive successful machine learning derived models cannot be met. \n",
    "\n",
    "When one considers the possibility of a collection of sentences labeled with sentiment scores, immediate generalizations beyond negative/positive polarity become available.  For example, sentences may be characterized along different dimensions of human emotion, e.g., as \"happy\" versus \"sad\", or as \"engaged\" versus \"disinterested\".  A recent approach utilizing a so called [Emotion Manifold](http://www.jmlr.org/proceedings/papers/v31/kim13a.pdf) to score sentences on a continuous \"emotion space\" that is trained using a collection of sentences classified according to a rich set of human emotions.  This \"emotion space\" can be interpreted as uncovering and recapitulating psychological models of human experience and used to predict the human experience expressed in a sentence.  I.e., sentences are transformed into \"emotion space\" features.\n",
    "\n",
    "<table style=\"width:78%\" align=\"center\">\n",
    "  <tr>\n",
    "    <td><img src=\"stuffs/mani1.tiff\" alt=\"Drawing\" style=\"width: 400px;\"/></td>\n",
    "    <td><img src=\"stuffs/mani4.tiff\" alt=\"Drawing\" style=\"width: 400px;\"/></td>\n",
    "  </tr>  \n",
    "  <tr>  \n",
    "    <td><img src=\"stuffs/mani3.tiff\" alt=\"Drawing\" style=\"width: 400px;\"/></td>\n",
    "    <td><img src=\"stuffs/mani2.tiff\" alt=\"Drawing\" style=\"width: 400px;\"/></td>\n",
    "  </tr>\n",
    "</table>\n",
    "\n",
    "\n",
    "\n"
   ]
  },
  {
   "cell_type": "code",
   "execution_count": 41,
   "metadata": {
    "collapsed": false
   },
   "outputs": [
    {
     "name": "stdout",
     "output_type": "stream",
     "text": [
      "I've always enjoyed watching Kyle Hendricks pitch but now it's more like respect rather than prospect adoration\n",
      " {'neg': 0.0, 'neu': 0.393, 'pos': 0.607, 'compound': 0.9615}\n",
      "\n",
      "It's not quite as gripping or suspenseful as the earlier quintessential network, but with a great love, it's almost as good. #PraiseFOX\n",
      " {'neg': 0.0, 'neu': 0.547, 'pos': 0.453, 'compound': 0.9508}\n",
      "\n",
      "Love is not a feeling. Love is an action, an activity. Genuine love implies commitment and the exercise of wisdom. #ALDUBLessonsOfLOVE\n",
      " {'neg': 0.04, 'neu': 0.412, 'pos': 0.548, 'compound': 0.9597}\n",
      "\n",
      "Think positively Exercise daily Eat healthy Stay strong Work hard Worry less Dance more Love often Be happy! Good morning\n",
      " {'neg': 0.117, 'neu': 0.326, 'pos': 0.557, 'compound': 0.9533}\n",
      "\n",
      "Congratulations to Cindy Dunham who won people's choice award in Procurify's global procurement awards. Great achievement Cindy.\n",
      " {'neg': 0.0, 'neu': 0.397, 'pos': 0.603, 'compound': 0.9595}\n",
      "\n"
     ]
    }
   ],
   "source": [
    "from vaderSentiment.vaderSentiment import SentimentIntensityAnalyzer\n",
    "import codecs \n",
    "tweets2 = codecs.open('earlyn_tokens.txt', 'r', encoding='utf-8')\n",
    "\n",
    "analyzer = SentimentIntensityAnalyzer()\n",
    "i=0\n",
    "for sentence in tweets2:\n",
    "    vs = analyzer.polarity_scores(sentence.encode('utf8'))\n",
    "    if abs(vs['compound']) > .95:\n",
    "        print(\"{:-<65} {}\".format(sentence.encode('utf8'), str(vs))) + \"\\n\"\n",
    "        i += 1\n",
    "    if i == 5:\n",
    "        break"
   ]
  },
  {
   "cell_type": "markdown",
   "metadata": {
    "collapsed": true
   },
   "source": []
  },
  {
   "cell_type": "code",
   "execution_count": 1,
   "metadata": {
    "collapsed": true
   },
   "outputs": [],
   "source": [
    "#<img src=\"stuffs/slide_16.jpg\" alt=\"Drawing\" style=\"width: 2500px;\"/>\n"
   ]
  },
  {
   "cell_type": "code",
   "execution_count": 1,
   "metadata": {
    "collapsed": true
   },
   "outputs": [],
   "source": [
    "import pandas as pd"
   ]
  },
  {
   "cell_type": "code",
   "execution_count": 2,
   "metadata": {
    "collapsed": false
   },
   "outputs": [
    {
     "name": "stderr",
     "output_type": "stream",
     "text": [
      "/Users/schwarls37/anaconda/lib/python2.7/site-packages/IPython/core/interactiveshell.py:2723: DtypeWarning: Columns (13,14,15,16,17,18,19,22,25,31,33,35,36,37,38,39,40,42,43,44,45,46,48,50,51,53,55,56,57,60,63,64,66,67,68,69,70,79,81,83,84,85,86,87,88,90,95,100,103,104,106,107,110,113,114,115,118,119,121,122,126,127,131,132,134,135,138,139,140,141,142,148,149,151,152,154,157,159,163,164,167,169,171,173,174,175,178,179,182,185,187,190,193,200,201,204,209,211,215,216,217,218,219,220,221,227,229,230,232,234,236,237,238,239,243,244,247,248,252,253,254,256,258,259,261,262,264,265,266,268,269,271,272,274,275,277,280,281,282,283,284,287,292,293,298,307,310,311,312) have mixed types. Specify dtype option on import or set low_memory=False.\n",
      "  interactivity=interactivity, compiler=compiler, result=result)\n"
     ]
    }
   ],
   "source": [
    "p = pd.read_csv('data/PostsForAnalysis.txt')\n",
    "u = pd.read_csv('data/UsersForAnalysis.txt')"
   ]
  },
  {
   "cell_type": "code",
   "execution_count": 112,
   "metadata": {
    "collapsed": false
   },
   "outputs": [
    {
     "name": "stdout",
     "output_type": "stream",
     "text": [
      "      id        date        day           created_at time_of_day  \\\n",
      "0  82423  2016-11-16  Wednesday  2016-11-16 00:20:00       Night   \n",
      "1  82480  2016-11-16  Wednesday  2016-11-16 05:40:53     Morning   \n",
      "2  82502  2016-11-16  Wednesday  2016-11-16 10:16:06     Morning   \n",
      "3  82370  2016-11-16  Wednesday  2016-11-16 00:01:00       Night   \n",
      "4  82460  2016-11-16  Wednesday  2016-11-16 01:13:32       Night   \n",
      "\n",
      "                         name  \\\n",
      "0  A.I. Experiments by Google   \n",
      "1                     Init.ai   \n",
      "2             Google Earth VR   \n",
      "3                        Drop   \n",
      "4               Lookback Live   \n",
      "\n",
      "                                             tagline thumbnail_type  \\\n",
      "0  Explore machine learning by playing w/ pics, m...          image   \n",
      "1  Build powerful and intelligent conversational ...          image   \n",
      "2                               Walk the earth in VR          image   \n",
      "3      Beautiful color picker with Touch Bar support          image   \n",
      "4  Real-time user research on mobile and desktop ...          image   \n",
      "\n",
      "  product_state  comments_count  num_makers  num_topics  \n",
      "0       default              24           0           5  \n",
      "1       default              43           4           4  \n",
      "2       default              27           1           2  \n",
      "3       default              38           2           6  \n",
      "4       default              25          11           6  \n",
      "   user_id  votes_count\n",
      "0    61044         1500\n",
      "1        1          802\n",
      "2   344208          544\n",
      "3    28756          446\n",
      "4      591          416\n"
     ]
    }
   ],
   "source": [
    "p.columns.values[12:-2]\n",
    "print p.ix[:,:12].head()\n",
    "print p.ix[:,-2:].head()"
   ]
  },
  {
   "cell_type": "code",
   "execution_count": 12,
   "metadata": {
    "collapsed": false
   },
   "outputs": [
    {
     "data": {
      "text/plain": [
       "array(['id', 'date', 'day', 'created_at', 'time_of_day', 'name', 'tagline',\n",
       "       'thumbnail_type', 'product_state', 'comments_count', 'num_makers',\n",
       "       'num_topics', 'X3d.printing'], dtype=object)"
      ]
     },
     "execution_count": 12,
     "metadata": {},
     "output_type": "execute_result"
    }
   ],
   "source": [
    "p.columns.values[:13]"
   ]
  },
  {
   "cell_type": "code",
   "execution_count": 64,
   "metadata": {
    "collapsed": false
   },
   "outputs": [
    {
     "data": {
      "text/plain": [
       "Index([u'user_id', u'created_at', u'name', u'username', u'headline',\n",
       "       u'twitter_username', u'website_url', u'collections_count',\n",
       "       u'followed_topics_count', u'followers_count', u'followings_count',\n",
       "       u'maker_of_count', u'posts_count', u'votes_count'],\n",
       "      dtype='object')"
      ]
     },
     "execution_count": 64,
     "metadata": {},
     "output_type": "execute_result"
    }
   ],
   "source": [
    "u.columns"
   ]
  },
  {
   "cell_type": "code",
   "execution_count": 101,
   "metadata": {
    "collapsed": false
   },
   "outputs": [],
   "source": [
    "postsusers = pd.merge(p, u, on='user_id')"
   ]
  },
  {
   "cell_type": "code",
   "execution_count": 102,
   "metadata": {
    "collapsed": false
   },
   "outputs": [],
   "source": [
    "postsusers.date = pd.to_datetime(postsusers.date, format='%Y-%m-%d', errors='ignore')"
   ]
  },
  {
   "cell_type": "code",
   "execution_count": 110,
   "metadata": {
    "collapsed": false
   },
   "outputs": [],
   "source": [
    "postsusers.date = (postsusers.date - min(postsusers.date)).apply(lambda x: x.days) / 365.25"
   ]
  },
  {
   "cell_type": "code",
   "execution_count": 138,
   "metadata": {
    "collapsed": false
   },
   "outputs": [],
   "source": [
    "postsusers.website_url = postsusers.website_url.notnull().apply(int)"
   ]
  },
  {
   "cell_type": "code",
   "execution_count": 147,
   "metadata": {
    "collapsed": false
   },
   "outputs": [],
   "source": [
    "postsusers = pd.concat([postsusers,pd.get_dummies(postsusers.time_of_day, prefix=\"time\", dummy_na=True)], axis=1)"
   ]
  },
  {
   "cell_type": "code",
   "execution_count": 149,
   "metadata": {
    "collapsed": false
   },
   "outputs": [],
   "source": [
    "postsusers = pd.concat([postsusers,pd.get_dummies(postsusers.day, prefix=\"day\", dummy_na=True)], axis=1)"
   ]
  },
  {
   "cell_type": "code",
   "execution_count": 172,
   "metadata": {
    "collapsed": false
   },
   "outputs": [],
   "source": [
    "postsusers = pd.concat([postsusers,pd.get_dummies(postsusers.product_state, prefix=\"state\", dummy_na=True)], axis=1)"
   ]
  },
  {
   "cell_type": "code",
   "execution_count": 185,
   "metadata": {
    "collapsed": false
   },
   "outputs": [
    {
     "data": {
      "text/plain": [
       "Index([u'time_Afternoon', u'time_Evening', u'time_Morning', u'time_Night',\n",
       "       u'time_nan', u'day_Friday', u'day_Monday', u'day_Saturday',\n",
       "       u'day_Sunday', u'day_Thursday', u'day_Tuesday', u'day_Wednesday',\n",
       "       u'day_nan', u'state_default', u'state_no_longer_online',\n",
       "       u'state_pre_launch', u'state_nan'],\n",
       "      dtype='object')"
      ]
     },
     "execution_count": 185,
     "metadata": {},
     "output_type": "execute_result"
    }
   ],
   "source": [
    "postsusers.columns[328:]"
   ]
  },
  {
   "cell_type": "markdown",
   "metadata": {},
   "source": [
    "# post stats\n",
    "\n",
    "- comments_count (int)\n",
    "- num_makers (int)\n",
    "- num_topics (int)\n",
    "\n",
    "- indicators\n",
    "    - 'time_Afternoon', 'time_Evening', 'time_Morning', 'time_Night',\n",
    "    - 'day_Friday', 'day_Monday', 'day_Saturday', 'day_Sunday', 'day_Thursday', 'day_Tuesday', 'day_Wednesday'\n",
    "    - 'state_default', 'state_no_longer_online', 'state_pre_launch'\n",
    "\n",
    "- date (float)\n",
    "\n",
    "\n",
    "\n",
    "# (lead) maker stats\n",
    "\n",
    "- website_url (int)\n",
    "- collections_count (int)\n",
    "- followed_topics_count (int)\n",
    "- followers_count (int)\n",
    "- followings_count (int)\n",
    "- maker_of_count (int)\n",
    "- posts_count (int)\n",
    "\n",
    "- votes_count_y (int) -- number of time lead maker voted on other projects\n",
    "\n",
    "# NLP\n",
    "- 'name: tagline'\n",
    "\n",
    "# outcome\n",
    "- votes_count_x (int)\n",
    "\n"
   ]
  },
  {
   "cell_type": "code",
   "execution_count": 77,
   "metadata": {
    "collapsed": false
   },
   "outputs": [
    {
     "data": {
      "text/html": [
       "<div>\n",
       "<table border=\"1\" class=\"dataframe\">\n",
       "  <thead>\n",
       "    <tr style=\"text-align: right;\">\n",
       "      <th></th>\n",
       "      <th>id</th>\n",
       "      <th>date</th>\n",
       "      <th>day</th>\n",
       "      <th>created_at_x</th>\n",
       "      <th>time_of_day</th>\n",
       "      <th>name_x</th>\n",
       "      <th>tagline</th>\n",
       "      <th>thumbnail_type</th>\n",
       "      <th>product_state</th>\n",
       "      <th>comments_count</th>\n",
       "      <th>...</th>\n",
       "      <th>headline</th>\n",
       "      <th>twitter_username</th>\n",
       "      <th>website_url</th>\n",
       "      <th>collections_count</th>\n",
       "      <th>followed_topics_count</th>\n",
       "      <th>followers_count</th>\n",
       "      <th>followings_count</th>\n",
       "      <th>maker_of_count</th>\n",
       "      <th>posts_count</th>\n",
       "      <th>votes_count_y</th>\n",
       "    </tr>\n",
       "  </thead>\n",
       "  <tbody>\n",
       "    <tr>\n",
       "      <th>0</th>\n",
       "      <td>82423</td>\n",
       "      <td>2016-11-16</td>\n",
       "      <td>Wednesday</td>\n",
       "      <td>2016-11-16 00:20:00</td>\n",
       "      <td>Night</td>\n",
       "      <td>A.I. Experiments by Google</td>\n",
       "      <td>Explore machine learning by playing w/ pics, m...</td>\n",
       "      <td>image</td>\n",
       "      <td>default</td>\n",
       "      <td>24</td>\n",
       "      <td>...</td>\n",
       "      <td>NaN</td>\n",
       "      <td>tonybrix</td>\n",
       "      <td>NaN</td>\n",
       "      <td>0</td>\n",
       "      <td>0</td>\n",
       "      <td>7</td>\n",
       "      <td>2</td>\n",
       "      <td>0</td>\n",
       "      <td>2</td>\n",
       "      <td>235</td>\n",
       "    </tr>\n",
       "    <tr>\n",
       "      <th>1</th>\n",
       "      <td>82480</td>\n",
       "      <td>2016-11-16</td>\n",
       "      <td>Wednesday</td>\n",
       "      <td>2016-11-16 05:40:53</td>\n",
       "      <td>Morning</td>\n",
       "      <td>Init.ai</td>\n",
       "      <td>Build powerful and intelligent conversational ...</td>\n",
       "      <td>image</td>\n",
       "      <td>default</td>\n",
       "      <td>43</td>\n",
       "      <td>...</td>\n",
       "      <td>Co-founder and CEO of Hardbound</td>\n",
       "      <td>nbashaw</td>\n",
       "      <td>https://hardbound.co</td>\n",
       "      <td>4</td>\n",
       "      <td>1</td>\n",
       "      <td>4014</td>\n",
       "      <td>1618</td>\n",
       "      <td>27</td>\n",
       "      <td>107</td>\n",
       "      <td>822</td>\n",
       "    </tr>\n",
       "    <tr>\n",
       "      <th>2</th>\n",
       "      <td>80448</td>\n",
       "      <td>2016-10-26</td>\n",
       "      <td>Wednesday</td>\n",
       "      <td>2016-10-26 07:19:25</td>\n",
       "      <td>Morning</td>\n",
       "      <td>Vigilante</td>\n",
       "      <td>Instant crime alerts and live broadcasts, laun...</td>\n",
       "      <td>image</td>\n",
       "      <td>default</td>\n",
       "      <td>9</td>\n",
       "      <td>...</td>\n",
       "      <td>Co-founder and CEO of Hardbound</td>\n",
       "      <td>nbashaw</td>\n",
       "      <td>https://hardbound.co</td>\n",
       "      <td>4</td>\n",
       "      <td>1</td>\n",
       "      <td>4014</td>\n",
       "      <td>1618</td>\n",
       "      <td>27</td>\n",
       "      <td>107</td>\n",
       "      <td>822</td>\n",
       "    </tr>\n",
       "    <tr>\n",
       "      <th>3</th>\n",
       "      <td>80152</td>\n",
       "      <td>2016-10-24</td>\n",
       "      <td>Monday</td>\n",
       "      <td>2016-10-24 09:49:12</td>\n",
       "      <td>Morning</td>\n",
       "      <td>TrueJob</td>\n",
       "      <td>Startup job search, with automated feedback fo...</td>\n",
       "      <td>image</td>\n",
       "      <td>default</td>\n",
       "      <td>7</td>\n",
       "      <td>...</td>\n",
       "      <td>Co-founder and CEO of Hardbound</td>\n",
       "      <td>nbashaw</td>\n",
       "      <td>https://hardbound.co</td>\n",
       "      <td>4</td>\n",
       "      <td>1</td>\n",
       "      <td>4014</td>\n",
       "      <td>1618</td>\n",
       "      <td>27</td>\n",
       "      <td>107</td>\n",
       "      <td>822</td>\n",
       "    </tr>\n",
       "    <tr>\n",
       "      <th>4</th>\n",
       "      <td>78959</td>\n",
       "      <td>2016-10-12</td>\n",
       "      <td>Wednesday</td>\n",
       "      <td>2016-10-12 05:51:05</td>\n",
       "      <td>Morning</td>\n",
       "      <td>PH Boomerang</td>\n",
       "      <td>Get a daily email of a previously upvoted product</td>\n",
       "      <td>image</td>\n",
       "      <td>default</td>\n",
       "      <td>10</td>\n",
       "      <td>...</td>\n",
       "      <td>Co-founder and CEO of Hardbound</td>\n",
       "      <td>nbashaw</td>\n",
       "      <td>https://hardbound.co</td>\n",
       "      <td>4</td>\n",
       "      <td>1</td>\n",
       "      <td>4014</td>\n",
       "      <td>1618</td>\n",
       "      <td>27</td>\n",
       "      <td>107</td>\n",
       "      <td>822</td>\n",
       "    </tr>\n",
       "  </tbody>\n",
       "</table>\n",
       "<p>5 rows × 328 columns</p>\n",
       "</div>"
      ],
      "text/plain": [
       "      id        date        day         created_at_x time_of_day  \\\n",
       "0  82423  2016-11-16  Wednesday  2016-11-16 00:20:00       Night   \n",
       "1  82480  2016-11-16  Wednesday  2016-11-16 05:40:53     Morning   \n",
       "2  80448  2016-10-26  Wednesday  2016-10-26 07:19:25     Morning   \n",
       "3  80152  2016-10-24     Monday  2016-10-24 09:49:12     Morning   \n",
       "4  78959  2016-10-12  Wednesday  2016-10-12 05:51:05     Morning   \n",
       "\n",
       "                       name_x  \\\n",
       "0  A.I. Experiments by Google   \n",
       "1                     Init.ai   \n",
       "2                   Vigilante   \n",
       "3                     TrueJob   \n",
       "4                PH Boomerang   \n",
       "\n",
       "                                             tagline thumbnail_type  \\\n",
       "0  Explore machine learning by playing w/ pics, m...          image   \n",
       "1  Build powerful and intelligent conversational ...          image   \n",
       "2  Instant crime alerts and live broadcasts, laun...          image   \n",
       "3  Startup job search, with automated feedback fo...          image   \n",
       "4  Get a daily email of a previously upvoted product          image   \n",
       "\n",
       "  product_state  comments_count      ...       \\\n",
       "0       default              24      ...        \n",
       "1       default              43      ...        \n",
       "2       default               9      ...        \n",
       "3       default               7      ...        \n",
       "4       default              10      ...        \n",
       "\n",
       "                          headline  twitter_username           website_url  \\\n",
       "0                              NaN          tonybrix                   NaN   \n",
       "1  Co-founder and CEO of Hardbound           nbashaw  https://hardbound.co   \n",
       "2  Co-founder and CEO of Hardbound           nbashaw  https://hardbound.co   \n",
       "3  Co-founder and CEO of Hardbound           nbashaw  https://hardbound.co   \n",
       "4  Co-founder and CEO of Hardbound           nbashaw  https://hardbound.co   \n",
       "\n",
       "  collections_count followed_topics_count followers_count followings_count  \\\n",
       "0                 0                     0               7                2   \n",
       "1                 4                     1            4014             1618   \n",
       "2                 4                     1            4014             1618   \n",
       "3                 4                     1            4014             1618   \n",
       "4                 4                     1            4014             1618   \n",
       "\n",
       "  maker_of_count posts_count votes_count_y  \n",
       "0              0           2           235  \n",
       "1             27         107           822  \n",
       "2             27         107           822  \n",
       "3             27         107           822  \n",
       "4             27         107           822  \n",
       "\n",
       "[5 rows x 328 columns]"
      ]
     },
     "execution_count": 77,
     "metadata": {},
     "output_type": "execute_result"
    }
   ],
   "source": [
    "postsusers.head(10)"
   ]
  },
  {
   "cell_type": "code",
   "execution_count": 186,
   "metadata": {
    "collapsed": false
   },
   "outputs": [
    {
     "data": {
      "text/plain": [
       "[<matplotlib.lines.Line2D at 0x1a6d30dd0>]"
      ]
     },
     "execution_count": 186,
     "metadata": {},
     "output_type": "execute_result"
    },
    {
     "data": {
      "image/png": "[encoded data removed]",
      "text/plain": [
       "<matplotlib.figure.Figure at 0x1a62ad9d0>"
      ]
     },
     "metadata": {},
     "output_type": "display_data"
    }
   ],
   "source": [
    "plt.plot(postsusers.votes_count_x.sort_values().values)"
   ]
  },
  {
   "cell_type": "code",
   "execution_count": 215,
   "metadata": {
    "collapsed": false
   },
   "outputs": [],
   "source": [
    "len(p.columns.values[12:313])\n",
    "tags = postsusers.columns.values[12:313]"
   ]
  },
  {
   "cell_type": "code",
   "execution_count": 3,
   "metadata": {
    "collapsed": true
   },
   "outputs": [],
   "source": [
    "import numpy as np\n",
    "from collections import defaultdict"
   ]
  },
  {
   "cell_type": "code",
   "execution_count": 239,
   "metadata": {
    "collapsed": true
   },
   "outputs": [],
   "source": [
    "limit = len(postsusers)"
   ]
  },
  {
   "cell_type": "code",
   "execution_count": 240,
   "metadata": {
    "collapsed": false
   },
   "outputs": [],
   "source": [
    "tag_text = defaultdict(str)\n",
    "for post in range(len(postsusers[:limit])):\n",
    "    for tag in (postsusers.columns[12:313])[True==postsusers.ix[post,12:313].values].values:\n",
    "        tag_text[tag] += postsusers.loc[post,'name_x'] + \": \" + postsusers.loc[post,'tagline'] + ' '\n",
    "        \n",
    "tags = tag_text.keys()"
   ]
  },
  {
   "cell_type": "code",
   "execution_count": 202,
   "metadata": {
    "collapsed": false
   },
   "outputs": [
    {
     "data": {
      "text/plain": [
       "'Fontself: Make your own fonts in Photoshop & Illustrator '"
      ]
     },
     "execution_count": 202,
     "metadata": {},
     "output_type": "execute_result"
    }
   ],
   "source": [
    "tags\n",
    "tag_text['photoshop']"
   ]
  },
  {
   "cell_type": "code",
   "execution_count": 241,
   "metadata": {
    "collapsed": false
   },
   "outputs": [],
   "source": [
    "post_tags = {}\n",
    "for post in range(len(p[:limit])):\n",
    "    post_tags['post_'+str(post)] = (postsusers.columns[12:313])[True==postsusers.ix[post,12:313].values].values"
   ]
  },
  {
   "cell_type": "code",
   "execution_count": 218,
   "metadata": {
    "collapsed": false
   },
   "outputs": [
    {
     "data": {
      "text/plain": [
       "array(['analytics', 'fintech', 'tech', 'travel', 'web'], dtype=object)"
      ]
     },
     "execution_count": 218,
     "metadata": {},
     "output_type": "execute_result"
    }
   ],
   "source": [
    "post_tags['post_'+str(post)]"
   ]
  },
  {
   "cell_type": "code",
   "execution_count": 242,
   "metadata": {
    "collapsed": false
   },
   "outputs": [],
   "source": [
    "for post in range(len(p[:limit])):\n",
    "    tag_text['post_'+str(post)] = p.loc[post,'name'] + \": \" + p.loc[post,'tagline'] "
   ]
  },
  {
   "cell_type": "code",
   "execution_count": 243,
   "metadata": {
    "collapsed": false
   },
   "outputs": [
    {
     "data": {
      "text/plain": [
       "'Pennies: Incredibly simple personal budgeting app for iOS'"
      ]
     },
     "execution_count": 243,
     "metadata": {},
     "output_type": "execute_result"
    }
   ],
   "source": [
    "tag_text['post_'+str(post)]"
   ]
  },
  {
   "cell_type": "code",
   "execution_count": 124,
   "metadata": {
    "collapsed": false
   },
   "outputs": [],
   "source": [
    "#tag_text.keys()\n",
    "#tag_text['java']\n",
    "#tag_text['public.relations']\n",
    "#tag_text['soccer']\n",
    "#tag_text['twitter']\n",
    "#tag_text['rpgs']\n",
    "#tag_text['meditation']\n",
    "#tag_text"
   ]
  },
  {
   "cell_type": "code",
   "execution_count": 229,
   "metadata": {
    "collapsed": false
   },
   "outputs": [],
   "source": [
    "from collections import Counter"
   ]
  },
  {
   "cell_type": "code",
   "execution_count": 288,
   "metadata": {
    "collapsed": false
   },
   "outputs": [
    {
     "data": {
      "text/plain": [
       "[<matplotlib.lines.Line2D at 0x21fb75450>]"
      ]
     },
     "execution_count": 288,
     "metadata": {},
     "output_type": "execute_result"
    },
    {
     "data": {
      "image/png": "[encoded data removed]",
      "text/plain": [
       "<matplotlib.figure.Figure at 0x19d3df7d0>"
      ]
     },
     "metadata": {},
     "output_type": "display_data"
    }
   ],
   "source": [
    "plt.plot(sorted(Counter([c for a,b in post_tags.items() for c in b ]).values())[:-9])"
   ]
  },
  {
   "cell_type": "code",
   "execution_count": 281,
   "metadata": {
    "collapsed": false
   },
   "outputs": [
    {
     "data": {
      "text/plain": [
       "54781"
      ]
     },
     "execution_count": 281,
     "metadata": {},
     "output_type": "execute_result"
    }
   ],
   "source": [
    "sum(Counter([c for a,b in post_tags.items() for c in b ]).values())"
   ]
  },
  {
   "cell_type": "code",
   "execution_count": 291,
   "metadata": {
    "collapsed": false
   },
   "outputs": [
    {
     "data": {
      "text/plain": [
       "4191"
      ]
     },
     "execution_count": 291,
     "metadata": {},
     "output_type": "execute_result"
    }
   ],
   "source": [
    "sum(postsusers.num_topics==1)"
   ]
  },
  {
   "cell_type": "code",
   "execution_count": 289,
   "metadata": {
    "collapsed": false
   },
   "outputs": [
    {
     "data": {
      "text/plain": [
       "[('tech', 17976),\n",
       " ('web', 4774),\n",
       " ('iphone', 3980),\n",
       " ('android', 1718),\n",
       " ('productivity', 1098),\n",
       " ('developer.tools', 980),\n",
       " ('ipad', 942),\n",
       " ('mac', 828),\n",
       " ('design.tools', 827),\n",
       " ('messaging', 517),\n",
       " ('marketing', 464),\n",
       " ('analytics', 453),\n",
       " ('bots', 434),\n",
       " ('slack', 402),\n",
       " ('lifehacks', 391),\n",
       " ('music', 363),\n",
       " ('video.streaming', 351),\n",
       " ('artificial.intelligence', 337),\n",
       " ('travel', 333),\n",
       " ('education', 320)]"
      ]
     },
     "execution_count": 289,
     "metadata": {},
     "output_type": "execute_result"
    }
   ],
   "source": [
    "sorted(list(Counter([c for a,b in post_tags.items() for c in b ]).items()), key = lambda x: -x[1])[:20]   "
   ]
  },
  {
   "cell_type": "code",
   "execution_count": 9,
   "metadata": {
    "collapsed": false
   },
   "outputs": [],
   "source": [
    "import spacy\n",
    "nlp = spacy.load('en')"
   ]
  },
  {
   "cell_type": "code",
   "execution_count": 10,
   "metadata": {
    "collapsed": true
   },
   "outputs": [],
   "source": [
    "import string"
   ]
  },
  {
   "cell_type": "code",
   "execution_count": 62,
   "metadata": {
    "collapsed": false
   },
   "outputs": [],
   "source": [
    "#set(string.printable)"
   ]
  },
  {
   "cell_type": "code",
   "execution_count": 245,
   "metadata": {
    "collapsed": false
   },
   "outputs": [],
   "source": [
    "printable = set(string.printable)\n",
    "\n",
    "def norm_lem_clean(documents):\n",
    "    \"\"\"documents is a dictionary\"\"\"\n",
    "    for doc in documents:\n",
    "        parsed_doc = nlp(documents[doc].decode('utf-8','ignore').encode(\"utf-8\").decode('unicode-escape'))\n",
    "        documents[doc] = u' '.join([token.lemma_ for sent in parsed_doc.sents for token in sent if not token.is_punct and not token.is_space and not token.is_stop])   \n",
    "        documents[doc] = filter(lambda x: x in printable, documents[doc])\n",
    "    return documents\n",
    "        \n",
    "documents = norm_lem_clean(tag_text.copy())"
   ]
  },
  {
   "cell_type": "code",
   "execution_count": 248,
   "metadata": {
    "collapsed": false
   },
   "outputs": [
    {
     "data": {
      "text/plain": [
       "u'a.i. experiment google explore machine learn play w/ pic music'"
      ]
     },
     "execution_count": 248,
     "metadata": {},
     "output_type": "execute_result"
    }
   ],
   "source": [
    "#tag_text['bots'].decode('utf-8','ignore').encode(\"utf-8\").decode('unicode-escape')\n",
    "documents['bots']\n",
    "documents['post_0']"
   ]
  },
  {
   "cell_type": "code",
   "execution_count": 99,
   "metadata": {
    "collapsed": false
   },
   "outputs": [
    {
     "name": "stdout",
     "output_type": "stream",
     "text": [
      "0 ðð¤. Microsoft Azure Bot Service : ( ORG )\n",
      "1 Intelligent : ( ORG )\n",
      "2 Messenger : ( PERSON )\n",
      "3 News : ( ORG )\n",
      "4 Facebook : ( ORG )\n",
      "5 Morph - Announce : ( ORG )\n"
     ]
    }
   ],
   "source": [
    "[token.orth_ for token in parsed_doc]\n",
    "for i,e in enumerate(parsed_doc.ents):\n",
    "    print i, e, \": (\", e.label_, \")\""
   ]
  },
  {
   "cell_type": "code",
   "execution_count": 16,
   "metadata": {
    "collapsed": false
   },
   "outputs": [],
   "source": [
    "import textacy"
   ]
  },
  {
   "cell_type": "code",
   "execution_count": 250,
   "metadata": {
    "collapsed": false
   },
   "outputs": [],
   "source": [
    "def textacy_on_preprocessed(documents, tags):\n",
    "    \"\"\"documents is a dictionary\"\"\"\n",
    "    for tag in documents:\n",
    "        documents[tag] = textacy.Doc(documents[tag], lang=u'en')\n",
    "    return documents\n",
    "        \n",
    "textacy_documents = textacy_on_preprocessed(documents.copy(), tags)"
   ]
  },
  {
   "cell_type": "code",
   "execution_count": 251,
   "metadata": {
    "collapsed": false
   },
   "outputs": [
    {
     "data": {
      "text/plain": [
       "Doc(7 tokens; \"penny incredibly simple personal budgeting app io\")"
      ]
     },
     "execution_count": 251,
     "metadata": {},
     "output_type": "execute_result"
    }
   ],
   "source": [
    "textacy_documents['post_'+str(post)]"
   ]
  },
  {
   "cell_type": "code",
   "execution_count": 338,
   "metadata": {
    "collapsed": false
   },
   "outputs": [],
   "source": [
    "similarities = defaultdict(list)\n",
    "post_tags_similarities = defaultdict(list)\n",
    "for post in range(len(p[:limit])):\n",
    "    for tag in post_tags['post_'+str(post)]:\n",
    "        if tag not in set(['tech', 'web', 'android', 'iphone', 'productivity', 'developer.tools', 'ipad', 'mac', 'design.tools']):\n",
    "            sim = textacy.similarity.word_movers(textacy_documents[tag],textacy_documents['post_'+str(post)])\n",
    "            similarities[tag].append(sim)\n",
    "            post_tags_similarities['post_'+str(post)].append(sim)"
   ]
  },
  {
   "cell_type": "code",
   "execution_count": 257,
   "metadata": {
    "collapsed": false
   },
   "outputs": [
    {
     "data": {
      "text/plain": [
       "array(['artificial.intelligence', 'design.tools', 'photography.tools',\n",
       "       'tech', 'web'], dtype=object)"
      ]
     },
     "execution_count": 257,
     "metadata": {},
     "output_type": "execute_result"
    }
   ],
   "source": [
    "post_tags['post_'+str(post)]"
   ]
  },
  {
   "cell_type": "code",
   "execution_count": 340,
   "metadata": {
    "collapsed": false
   },
   "outputs": [
    {
     "data": {
      "text/plain": [
       "17975"
      ]
     },
     "execution_count": 340,
     "metadata": {},
     "output_type": "execute_result"
    }
   ],
   "source": [
    "len(similarities)\n",
    "post"
   ]
  },
  {
   "cell_type": "code",
   "execution_count": 294,
   "metadata": {
    "collapsed": false
   },
   "outputs": [
    {
     "data": {
      "text/plain": [
       "defaultdict(list,\n",
       "            {'a.b.testing': [0.41439762078099507, 0.3011524206059947],\n",
       "             'advertising': [0.3257922972409959],\n",
       "             'analytics': [0.400075121691969,\n",
       "              0.4399730865049699,\n",
       "              0.4252619097529694,\n",
       "              0.41562673875996936,\n",
       "              0.38688114158196873,\n",
       "              0.4191392695689695,\n",
       "              0.31557441896396743,\n",
       "              0.4274932230669697,\n",
       "              0.36678817680096854],\n",
       "             'anonymous': [0.39459372532599823, 0.3184377675289981],\n",
       "             'apis': [0.3869968346989827,\n",
       "              0.3770694731799825,\n",
       "              0.33827894730698216,\n",
       "              0.38977109015098277,\n",
       "              0.3786661327679829,\n",
       "              0.30364635996298184,\n",
       "              0.4354570509059835,\n",
       "              0.35891960424698244],\n",
       "             'apple.tv': [0.3974651225909962, 0.35978612494599616],\n",
       "             'apple.watch': [0.3621731433199744,\n",
       "              0.3211155958409737,\n",
       "              0.39609667548997507,\n",
       "              0.38132026344697467,\n",
       "              0.3841807717029748],\n",
       "             'art': [0.3542000108279876,\n",
       "              0.35872988694398744,\n",
       "              0.3416027969399874,\n",
       "              0.34199949661698736,\n",
       "              0.3613030326949874],\n",
       "             'artificial.intelligence': [0.4009230022489705,\n",
       "              0.39346173635197046,\n",
       "              0.38051247832397017,\n",
       "              0.34781420682596964,\n",
       "              0.37705084964997004,\n",
       "              0.3582075049039697,\n",
       "              0.4016895331199706,\n",
       "              0.34215304735796914,\n",
       "              0.34851753111996964,\n",
       "              0.35051520363696953,\n",
       "              0.3702890875759699,\n",
       "              0.3045514103699688,\n",
       "              0.33847633076796935,\n",
       "              0.3250842824219692,\n",
       "              0.3427262755149695,\n",
       "              0.35470655815496965,\n",
       "              0.3834295124369702,\n",
       "              0.34202512700096943,\n",
       "              0.2912478537859686,\n",
       "              0.38407332535097016,\n",
       "              0.3647680155219697,\n",
       "              0.35397323748096976,\n",
       "              0.3867806829519702,\n",
       "              0.3251590169529691,\n",
       "              0.4007577967589704],\n",
       "             'ascii': [0.21615160429399938,\n",
       "              0.26859222957899953,\n",
       "              0.32478213499499986],\n",
       "             'augmented.reality': [0.3539471841439956],\n",
       "             'bootstrap': [0.22375817417799837, 0.3450355778849983],\n",
       "             'bots': [0.39279733966098995,\n",
       "              0.35583994674198993,\n",
       "              0.3492628372979897,\n",
       "              0.39298136653998994,\n",
       "              0.32586883671198996,\n",
       "              0.3708101105329902,\n",
       "              0.43250619802299006,\n",
       "              0.3942828885889903,\n",
       "              0.34990509062299,\n",
       "              0.3215828200129901,\n",
       "              0.44087790375798996,\n",
       "              0.44411483847499,\n",
       "              0.3825845891099896,\n",
       "              0.3485408798679901,\n",
       "              0.36957992076898993,\n",
       "              0.32828639148599004,\n",
       "              0.35158474280199004,\n",
       "              0.35666975049998995,\n",
       "              0.3370677683119899,\n",
       "              0.35572041401399,\n",
       "              0.3730398560129903,\n",
       "              0.3999515431439903,\n",
       "              0.37090199549999014,\n",
       "              0.36183031876199,\n",
       "              0.33301113694099027],\n",
       "             'branding': [0.3678049703979974,\n",
       "              0.40162816202699736,\n",
       "              0.3377373547199971,\n",
       "              0.29142668598699695],\n",
       "             'calendar.and.scheduling': [0.34779462554599794],\n",
       "             'cars': [0.325724882332995, 0.3294840332689951],\n",
       "             'celebrities': [0.27324521153499826,\n",
       "              0.34474635994499825,\n",
       "              0.2749606931379982],\n",
       "             'charity.and.giving': [0.29158063293899994, 0.32477297130299987],\n",
       "             'chat': [0.3839019810259837,\n",
       "              0.4484482992009843,\n",
       "              0.33976943363498335,\n",
       "              0.35196536165598347,\n",
       "              0.36530916507098365,\n",
       "              0.2930076506559829,\n",
       "              0.3780490221209838,\n",
       "              0.4023406958739839,\n",
       "              0.34339209438998375],\n",
       "             'chrome.extensions': [0.3947494016569908,\n",
       "              0.3425562760009908,\n",
       "              0.414084173596991,\n",
       "              0.38343707612599087,\n",
       "              0.3574469431449908],\n",
       "             'couples': [0.33136541493399607],\n",
       "             'crowdfunding': [0.3455073124079866, 0.3452742144809867],\n",
       "             'cryptocurrencies': [0.41927918978499723, 0.35433928541399706],\n",
       "             'css': [0.3124858693749968,\n",
       "              0.2896006271229966,\n",
       "              0.2394154779359965,\n",
       "              0.3523134064139969],\n",
       "             'custom.iphone.keyboards': [0.3358095030549967],\n",
       "             'customer.communication': [0.39415192961199774,\n",
       "              0.37767426727599795,\n",
       "              0.29110005361699776,\n",
       "              0.3489352993239978,\n",
       "              0.3567663332169978],\n",
       "             'dating': [0.3782755609719919],\n",
       "             'developer.podcasts': [0.33924543932899964],\n",
       "             'donald.trump': [0.3033222982589925],\n",
       "             'drake': [0.27318206587399896],\n",
       "             'drinking': [0.3198067905159958],\n",
       "             'drones': [0.3351272887819995],\n",
       "             'e.commerce': [0.3908741378689856,\n",
       "              0.38335141687798513,\n",
       "              0.40553301403998543,\n",
       "              0.4071523308889853],\n",
       "             'education': [0.3632184457749894,\n",
       "              0.4177159286119889,\n",
       "              0.3379646438479895,\n",
       "              0.37809780544198945],\n",
       "             'education.podcasts': [0.3422716735789987],\n",
       "             'email': [0.3336934567759816,\n",
       "              0.36477299349398173,\n",
       "              0.32697467824898185,\n",
       "              0.3736335841889816,\n",
       "              0.41058257248098184],\n",
       "             'email.marketing': [0.41388858588799715, 0.3367648541719974],\n",
       "             'email.newsletters': [0.41699913386299226,\n",
       "              0.30285777206999165,\n",
       "              0.3089087172949917,\n",
       "              0.3535884671659919,\n",
       "              0.37046493963499194],\n",
       "             'emoji': [0.36634200008698836,\n",
       "              0.2941730792709879,\n",
       "              0.23968158571398746,\n",
       "              0.3713406599409882],\n",
       "             'events': [0.3488947847499979,\n",
       "              0.37365130245299805,\n",
       "              0.36849606459199813,\n",
       "              0.3781319288379982],\n",
       "             'facebook': [0.35363361737798604,\n",
       "              0.3105656515599857,\n",
       "              0.336821582466986,\n",
       "              0.27872314046198554,\n",
       "              0.33284727700998595,\n",
       "              0.4315275540219866],\n",
       "             'facebook.messenger': [0.38889620357999133,\n",
       "              0.3226367562429914,\n",
       "              0.4088724344039918,\n",
       "              0.3421795691769913,\n",
       "              0.3221821299959913,\n",
       "              0.44493868642099144,\n",
       "              0.46252845021499134,\n",
       "              0.393902547258991,\n",
       "              0.34565085125199135,\n",
       "              0.3694597892879913,\n",
       "              0.3667889381189914,\n",
       "              0.33536037522599127,\n",
       "              0.31982695515099124,\n",
       "              0.3586127909449913,\n",
       "              0.3315019536589914],\n",
       "             'fashion': [0.3527769978869837,\n",
       "              0.3947380505499841,\n",
       "              0.3650539032829839],\n",
       "             'file.storage': [0.42669031844099004,\n",
       "              0.35187188592498964,\n",
       "              0.3547558990549897,\n",
       "              0.36574908832799,\n",
       "              0.34503406763098965],\n",
       "             'fintech': [0.3265103600839847],\n",
       "             'firefox.extension': [0.329691894108996],\n",
       "             'fonts': [0.3614835324589981],\n",
       "             'freelance': [0.35620067553399815, 0.36745098104099816],\n",
       "             'funny': [0.3996032534159999,\n",
       "              0.3952632289389999,\n",
       "              0.33851591321499985,\n",
       "              0.43123633090199986,\n",
       "              0.387440205502,\n",
       "              0.4053172891459995,\n",
       "              0.392877710975,\n",
       "              0.3368796063949999,\n",
       "              0.38422587297800004],\n",
       "             'furniture': [0.34433726355499905],\n",
       "             'get.shit.done': [0.35476160500298504,\n",
       "              0.35567187702398495,\n",
       "              0.3600972940509851,\n",
       "              0.3599421035069851],\n",
       "             'gifs': [0.3028363499729909],\n",
       "             'github': [0.4720717484449978,\n",
       "              0.3805521847999982,\n",
       "              0.3711490433639978,\n",
       "              0.31496124535899783],\n",
       "             'golf': [0.23875004423299961],\n",
       "             'growth.hacking': [0.4111415101619912, 0.4371854944969913],\n",
       "             'hardware': [0.3723616468099957,\n",
       "              0.38017983077699613,\n",
       "              0.36099690752499614,\n",
       "              0.33673316660999575,\n",
       "              0.34934647328699575,\n",
       "              0.34943882959799577,\n",
       "              0.33403585139799585,\n",
       "              0.3517915465529958],\n",
       "             'health.and.fitness': [0.38370040718599085, 0.3605928126579907],\n",
       "             'hip.hop': [0.28487682666699965],\n",
       "             'hiring.and.recruiting': [0.3607091795489885,\n",
       "              0.3555116758279886,\n",
       "              0.3761828691239888,\n",
       "              0.3440280882079888,\n",
       "              0.33592861586398837],\n",
       "             'home': [0.38147972219498694, 0.36387022600398666],\n",
       "             'icons': [0.31984984512099723,\n",
       "              0.33867715628599726,\n",
       "              0.34743280105399743],\n",
       "             'imessage.apps': [0.3746867937649869,\n",
       "              0.40521474997198725,\n",
       "              0.3248127640549866],\n",
       "             'instagram': [0.39493972020599744],\n",
       "             'internet.of.things': [0.35702828570698886],\n",
       "             'investing': [0.3644133790849927,\n",
       "              0.33146553059899253,\n",
       "              0.30426148218699256],\n",
       "             'java': [0.3050121937239978],\n",
       "             'kickstarter': [0.38119529760399584],\n",
       "             'kids': [0.35509100839299435],\n",
       "             'lead.generation': [0.31149050657599786],\n",
       "             'learn.a.language': [0.34522973270299673,\n",
       "              0.2713643711499968,\n",
       "              0.3704043458719968],\n",
       "             'lifehacks': [0.40231133792198814, 0.35632687779598804],\n",
       "             'linux': [0.36280288207698075,\n",
       "              0.34114986356898047,\n",
       "              0.4118276079299813],\n",
       "             'mac.menu.bar.apps': [0.31929477465099554,\n",
       "              0.28248362706699537,\n",
       "              0.3530477210809957,\n",
       "              0.33069514702599556,\n",
       "              0.36651280529799557,\n",
       "              0.3554421214219956],\n",
       "             'made.in.france': [0.3284082118929952],\n",
       "             'made.in.india': [0.3170256796869868,\n",
       "              0.3716318766729868,\n",
       "              0.36885977382698687,\n",
       "              0.3830898193019868],\n",
       "             'made.in.israel': [0.36128013152099836],\n",
       "             'made.in.italy': [0.42540840404299807,\n",
       "              0.37374177112599793,\n",
       "              0.376303475037998,\n",
       "              0.34864051242499816],\n",
       "             'made.in.nyc': [0.3424719093929961, 0.31106249744399606],\n",
       "             'made.in.the.uk': [0.3133254579579987],\n",
       "             'maps': [0.3545253380759954,\n",
       "              0.35356989623699564,\n",
       "              0.3458758053289954,\n",
       "              0.37040417035899553,\n",
       "              0.3411509618359956],\n",
       "             'marketing': [0.4152601095549845,\n",
       "              0.3730162893059845,\n",
       "              0.3536495407189849,\n",
       "              0.42298132422698476,\n",
       "              0.3974505729809845,\n",
       "              0.3825556021319846],\n",
       "             'meditation': [0.3484910177319983, 0.28985536867599815],\n",
       "             'meetings': [0.32902260685099305, 0.32121935902299303],\n",
       "             'messaging': [0.352041765957978,\n",
       "              0.3766349995189784,\n",
       "              0.38618603192397827,\n",
       "              0.29750625574797807,\n",
       "              0.323706938579978,\n",
       "              0.343398138982978,\n",
       "              0.413646446246978,\n",
       "              0.364972330614978,\n",
       "              0.347329579866978,\n",
       "              0.29425233557297803,\n",
       "              0.37882684414897805,\n",
       "              0.3988915940849782,\n",
       "              0.353399815138978,\n",
       "              0.342898532852978],\n",
       "             'mobile.chargers': [0.3571591942729979],\n",
       "             'movies': [0.3465867356309912,\n",
       "              0.3487216786329911,\n",
       "              0.35213633070199113],\n",
       "             'moving.and.storage': [0.3408046205369989],\n",
       "             'music': [0.348724193100987,\n",
       "              0.33867336979898743,\n",
       "              0.39563476708698797,\n",
       "              0.3371729617489875,\n",
       "              0.34659957839598743,\n",
       "              0.3510196808369874,\n",
       "              0.3783443732729874,\n",
       "              0.2948411453659875,\n",
       "              0.3926737854279875,\n",
       "              0.29179261024598746,\n",
       "              0.3650332312809874,\n",
       "              0.3982402805069878,\n",
       "              0.38840444194798773,\n",
       "              0.3564746631269874],\n",
       "             'music.making.apps': [0.3061119885219916, 0.33715677066399197],\n",
       "             'music.streaming': [0.3900246417709955,\n",
       "              0.25649755173799516,\n",
       "              0.39021543481299514,\n",
       "              0.3667049447079952,\n",
       "              0.3977744828289954,\n",
       "              0.3002992975129951,\n",
       "              0.3913875618829955],\n",
       "             'netflix': [0.38319546543999605,\n",
       "              0.36305712465199613,\n",
       "              0.37497530479699637],\n",
       "             'news': [0.3026813427959846,\n",
       "              0.3919959600579853,\n",
       "              0.3829777429749852],\n",
       "             'nomad.lifestyle': [0.3588396587689985,\n",
       "              0.3106601764079987,\n",
       "              0.3105615185889985,\n",
       "              0.3711277114999988],\n",
       "             'nostalgic': [0.33649142102999674,\n",
       "              0.36609908223999676,\n",
       "              0.34536556712999666],\n",
       "             'note': [0.37444839713400013],\n",
       "             'on.demand': [0.33601744103498765],\n",
       "             'open.source': [0.4023734100919958,\n",
       "              0.374994762964996,\n",
       "              0.3454399817939958,\n",
       "              0.420948501097996,\n",
       "              0.36535025654199615,\n",
       "              0.33161278979599573,\n",
       "              0.3068586613519958,\n",
       "              0.34273342652999594,\n",
       "              0.40261491885599576,\n",
       "              0.38110354766999543,\n",
       "              0.34936267777399577,\n",
       "              0.3759678426859958,\n",
       "              0.39145038122099574,\n",
       "              0.3367454672539961,\n",
       "              0.3315556564569957,\n",
       "              0.36392235900899617,\n",
       "              0.3622719249559959,\n",
       "              0.358329715055996,\n",
       "              0.36907404151099577],\n",
       "             'outdoors': [0.32051531983099857],\n",
       "             'payment': [0.3451284001579922, 0.32784569918699225],\n",
       "             'photo.retouching': [0.3896909479499975],\n",
       "             'photography': [0.37134231103298765,\n",
       "              0.3718315231579875,\n",
       "              0.39572135936598785,\n",
       "              0.3480516446029873,\n",
       "              0.3380271746369874,\n",
       "              0.3594284232289876],\n",
       "             'photography.tools': [0.417466411613987,\n",
       "              0.3688046994259866,\n",
       "              0.3755051225729865,\n",
       "              0.3525884742849863,\n",
       "              0.37564502558698665,\n",
       "              0.34237121858398634,\n",
       "              0.36033968509198644,\n",
       "              0.37820553527898637,\n",
       "              0.33877697854998623,\n",
       "              0.305152179848986],\n",
       "             'photoshop': [0.3659379837769996],\n",
       "             'pokemon': [0.31869360774799294,\n",
       "              0.35465894294399314,\n",
       "              0.35495707137799304,\n",
       "              0.32886736434999275,\n",
       "              0.36162649013899295],\n",
       "             'politics': [0.37768381645599447,\n",
       "              0.3377645024009944,\n",
       "              0.3094873095879944],\n",
       "             'privacy': [0.34537243759099445, 0.4060464964789944],\n",
       "             'product.hunt': [0.3752987890529951, 0.34765576971399503],\n",
       "             'prototyping': [0.35627609980799635,\n",
       "              0.37515131834999627,\n",
       "              0.35876577335699633,\n",
       "              0.40900499927099676,\n",
       "              0.3346326949479963,\n",
       "              0.3978538515029967,\n",
       "              0.3961625812729963,\n",
       "              0.2946999173269963,\n",
       "              0.33566534593499653,\n",
       "              0.40581564521499636,\n",
       "              0.3956910008299964,\n",
       "              0.36983223330599635,\n",
       "              0.37726730756399673,\n",
       "              0.40082405858499637,\n",
       "              0.4040336823949967],\n",
       "             'quantified.self': [0.3507853354739997],\n",
       "             'responsive.design': [0.330672315563994,\n",
       "              0.39120197035499404,\n",
       "              0.37354439318899424,\n",
       "              0.36638422878099386],\n",
       "             'rip': [0.40636142695599775],\n",
       "             'robots': [0.3612834315229966, 0.36162178939599665],\n",
       "             'saas': [0.3863051309589788, 0.3478057456119782],\n",
       "             'sales': [0.36968953526099535],\n",
       "             'seo.tools': [0.325998162785997, 0.3340136753379971],\n",
       "             'skateboarding': [0.3104524002979987],\n",
       "             'sketch': [0.3397990730099971,\n",
       "              0.3361770080629971,\n",
       "              0.3028608269169971,\n",
       "              0.3835051883719971],\n",
       "             'slack': [0.36610468427099063,\n",
       "              0.4243559204099907,\n",
       "              0.3716487686099905,\n",
       "              0.45014212621899086,\n",
       "              0.3734235995949905,\n",
       "              0.3516204714909903,\n",
       "              0.3238518510089903,\n",
       "              0.37580780444199047,\n",
       "              0.3391417116159904,\n",
       "              0.3615055372069904,\n",
       "              0.3466732606869902,\n",
       "              0.3614451162769906],\n",
       "             'smart.home': [0.336001427984981, 0.327613211887981],\n",
       "             'social.media.tools': [0.37083921737198466,\n",
       "              0.4011035743079845,\n",
       "              0.41051534415598456,\n",
       "              0.3702947929029844,\n",
       "              0.4054587302669844,\n",
       "              0.4054087238289845,\n",
       "              0.36544258947798447,\n",
       "              0.3918583094369843,\n",
       "              0.34430833137298444,\n",
       "              0.3647470860039844],\n",
       "             'socks': [0.2574472625699977, 0.278741670037998],\n",
       "             'software.engineering': [0.41484881091899417,\n",
       "              0.40553538548299417,\n",
       "              0.32228541575599445,\n",
       "              0.3445513341729942,\n",
       "              0.35330956026499416,\n",
       "              0.3771726188809942,\n",
       "              0.3920490954399942,\n",
       "              0.31275320037299426,\n",
       "              0.36389978469299433,\n",
       "              0.39304535615099456,\n",
       "              0.3940584486429942,\n",
       "              0.40288884070999453,\n",
       "              0.3571238185759943],\n",
       "             'space': [0.324493480491999, 0.3233439291819986],\n",
       "             'sports': [0.3372613548419915],\n",
       "             'spotify': [0.4088928120329969, 0.37617608326299645],\n",
       "             'spreadsheets': [0.3341175893709991],\n",
       "             'star.wars': [0.2908625733629986],\n",
       "             'startup.books': [0.3533663178089965, 0.33360711402399645],\n",
       "             'stock.photography': [0.33341319380499757, 0.2967693889139975],\n",
       "             'swift': [0.342246957028997,\n",
       "              0.3295011287769969,\n",
       "              0.375324091920997],\n",
       "             'task.management': [0.34453237223299316,\n",
       "              0.34877563409399315,\n",
       "              0.3353899248799931,\n",
       "              0.3936855007259935],\n",
       "             'to.do': [0.3427993754649904,\n",
       "              0.37944206695199056,\n",
       "              0.35899586419299057,\n",
       "              0.33593878267899036],\n",
       "             'touch.bar.apps': [0.25433861213699926],\n",
       "             'transportation': [0.33242683548499263,\n",
       "              0.3270623284199923,\n",
       "              0.3375451724689922],\n",
       "             'travel': [0.3670959732479977,\n",
       "              0.34679111187699796,\n",
       "              0.3748498553139976,\n",
       "              0.3680998720599975,\n",
       "              0.3942950149069976,\n",
       "              0.3367788925589976,\n",
       "              0.3902946814449978,\n",
       "              0.3974800892889977],\n",
       "             'tv': [0.34262834773699624,\n",
       "              0.353871856594996,\n",
       "              0.3263849141069962,\n",
       "              0.30514329046899635],\n",
       "             'twitter': [0.41692131281999767,\n",
       "              0.3405058305339974,\n",
       "              0.33942197300799737,\n",
       "              0.36380980283499764],\n",
       "             'typography': [0.3498884235799977],\n",
       "             'uber': [0.3506814378259999],\n",
       "             'usability': [0.4120766628389969,\n",
       "              0.4231457073599971,\n",
       "              0.3567701552539969,\n",
       "              0.36644302839099685,\n",
       "              0.35986707700099707],\n",
       "             'user.experience': [0.4091837035299788,\n",
       "              0.3949044513849791,\n",
       "              0.3203696558089787,\n",
       "              0.36319170226597897,\n",
       "              0.36366177506097874,\n",
       "              0.39056422839997873,\n",
       "              0.38395643668997903,\n",
       "              0.26057994236797877,\n",
       "              0.3821113861389791,\n",
       "              0.38716677687897894],\n",
       "             'venture.capital': [0.3246544174869993, 0.30262782419499934],\n",
       "             'video.streaming': [0.3752958290079855,\n",
       "              0.37362091226798544,\n",
       "              0.41722880061298595,\n",
       "              0.3576500639459854,\n",
       "              0.38171782154198575,\n",
       "              0.36559888225098547,\n",
       "              0.3564769299029854,\n",
       "              0.36271670816098545,\n",
       "              0.35660769886498545,\n",
       "              0.37191267680398554,\n",
       "              0.37178922562298544,\n",
       "              0.327889592312985,\n",
       "              0.42834381051498605,\n",
       "              0.4042625044229857],\n",
       "             'virtual.reality': [0.38817898128799533, 0.3295771061519952],\n",
       "             'wearables': [0.38722260049499346],\n",
       "             'weather.apps': [0.3919457684079969],\n",
       "             'weird': [0.30263342345999467, 0.3373814624349947],\n",
       "             'wi.fi': [0.39984698072499636,\n",
       "              0.33455672766699607,\n",
       "              0.3245186819559961],\n",
       "             'windows': [0.3659391907919839,\n",
       "              0.3567812772749839,\n",
       "              0.4236349809589839],\n",
       "             'wordpress': [0.39313846549299425],\n",
       "             'writing.tools': [0.37444839289097365,\n",
       "              0.43686658440397463,\n",
       "              0.40579428742897405,\n",
       "              0.35647765833997336,\n",
       "              0.3818933834339737,\n",
       "              0.3790125732729738],\n",
       "             'youtube': [0.31866803247199615,\n",
       "              0.3689988359449964,\n",
       "              0.4300793756679965,\n",
       "              0.4352626857039963]})"
      ]
     },
     "execution_count": 294,
     "metadata": {},
     "output_type": "execute_result"
    }
   ],
   "source": [
    "similarities"
   ]
  },
  {
   "cell_type": "code",
   "execution_count": 341,
   "metadata": {
    "collapsed": false
   },
   "outputs": [
    {
     "data": {
      "image/png": "[encoded data removed]",
      "text/plain": [
       "<matplotlib.figure.Figure at 0x2133f1ed0>"
      ]
     },
     "metadata": {},
     "output_type": "display_data"
    }
   ],
   "source": [
    "import matplotlib.pyplot as plt\n",
    "%matplotlib inline\n",
    "\n",
    "for tag in similarities:\n",
    "    sorteds = np.sort(similarities[tag])\n",
    "    yvals = np.arange(len(sorteds))/float(len(sorteds))\n",
    "    if len(sorteds) > 10:\n",
    "        plt.plot(sorteds, yvals)"
   ]
  },
  {
   "cell_type": "code",
   "execution_count": 343,
   "metadata": {
    "collapsed": false
   },
   "outputs": [
    {
     "data": {
      "text/plain": [
       "[<matplotlib.lines.Line2D at 0x213005710>]"
      ]
     },
     "execution_count": 343,
     "metadata": {},
     "output_type": "execute_result"
    },
    {
     "data": {
      "image/png": "[encoded data removed]",
      "text/plain": [
       "<matplotlib.figure.Figure at 0x212f60f50>"
      ]
     },
     "metadata": {},
     "output_type": "display_data"
    }
   ],
   "source": [
    "similarities_average = dict((n, np.mean(x)) if len(x) > 0 else (n, np.nan) for n,x in similarities.items())\n",
    "similarities_n = dict((n, len(x)) for n,x in similarities.items())\n",
    "\n",
    "tmp = [(similarities_average[post], similarities_n[post]) for post in similarities_average]\n",
    "plt.plot(np.array([t[1] for t in tmp])+np.random.uniform(size=len(tmp)), [t[0] for t in tmp], '.') \n",
    "# having fewer posts in a tag results in more dissimilarity"
   ]
  },
  {
   "cell_type": "code",
   "execution_count": 302,
   "metadata": {
    "collapsed": false
   },
   "outputs": [
    {
     "data": {
      "text/plain": [
       "defaultdict(list,\n",
       "            {'post_0': [0.4009230022489705, 0.417466411613987],\n",
       "             'post_1': [0.39346173635197046, 0.39279733966098995],\n",
       "             'post_10': [0.39415192961199774, 0.36968953526099535],\n",
       "             'post_100': [0.32586883671198996, 0.3226367562429914],\n",
       "             'post_101': [0.3908741378689856, 0.39493972020599744],\n",
       "             'post_102': [0.36634200008698836],\n",
       "             'post_103': [0.33673316660999575],\n",
       "             'post_104': [0.36983223330599635],\n",
       "             'post_105': [0.35978612494599616,\n",
       "              0.3487216786329911,\n",
       "              0.34262834773699624,\n",
       "              0.37362091226798544],\n",
       "             'post_108': [0.3952632289389999],\n",
       "             'post_109': [0.35872988694398744, 0.3755051225729865],\n",
       "             'post_11': [0.400075121691969,\n",
       "              0.3869968346989827,\n",
       "              0.3863051309589788],\n",
       "             'post_111': [0.374994762964996],\n",
       "             'post_112': [0.33976943363498335,\n",
       "              0.32902260685099305,\n",
       "              0.3454399817939958],\n",
       "             'post_113': [0.37705084964997004,\n",
       "              0.3708101105329902,\n",
       "              0.37767426727599795],\n",
       "             'post_114': [0.43250619802299006, 0.3405058305339974],\n",
       "             'post_115': [0.3942828885889903, 0.4088724344039918],\n",
       "             'post_117': [0.41722880061298595],\n",
       "             'post_118': [0.35187188592498964],\n",
       "             'post_119': [0.34990509062299,\n",
       "              0.27324521153499826,\n",
       "              0.3421795691769913],\n",
       "             'post_120': [0.3416027969399874,\n",
       "              0.3582075049039697,\n",
       "              0.3480516446029873,\n",
       "              0.3525884742849863],\n",
       "             'post_121': [0.37365130245299805, 0.35363361737798604],\n",
       "             'post_122': [0.420948501097996, 0.4011035743079845],\n",
       "             'post_123': [0.34934647328699575],\n",
       "             'post_124': [0.3061119885219916],\n",
       "             'post_125': [0.34537243759099445],\n",
       "             'post_126': [0.3351272887819995, 0.37564502558698665],\n",
       "             'post_127': [0.3215828200129901,\n",
       "              0.3089087172949917,\n",
       "              0.3221821299959913,\n",
       "              0.3170256796869868],\n",
       "             'post_128': [0.44087790375798996,\n",
       "              0.34474635994499825,\n",
       "              0.44493868642099144],\n",
       "             'post_129': [0.33851591321499985],\n",
       "             'post_13': [0.34781420682596964,\n",
       "              0.35583994674198993,\n",
       "              0.352041765957978,\n",
       "              0.3465867356309912],\n",
       "             'post_130': [0.3947494016569908, 0.36535025654199615],\n",
       "             'post_131': [0.3746867937649869],\n",
       "             'post_132': [0.3670959732479977],\n",
       "             'post_134': [0.43123633090199986, 0.40521474997198725],\n",
       "             'post_135': [0.3094873095879944],\n",
       "             'post_136': [0.34943882959799577,\n",
       "              0.32051531983099857,\n",
       "              0.3380271746369874],\n",
       "             'post_137': [0.4016895331199706,\n",
       "              0.44411483847499,\n",
       "              0.46252845021499134],\n",
       "             'post_138': [0.387440205502],\n",
       "             'post_139': [0.3825845891099896,\n",
       "              0.393902547258991,\n",
       "              0.4053172891459995],\n",
       "             'post_14': [0.37444839289097365],\n",
       "             'post_140': [0.40162816202699736],\n",
       "             'post_141': [0.392877710975, 0.41051534415598456],\n",
       "             'post_142': [0.34215304735796914,\n",
       "              0.325724882332995,\n",
       "              0.33242683548499263,\n",
       "              0.34679111187699796,\n",
       "              0.3506814378259999],\n",
       "             'post_143': [0.35509100839299435, 0.342246957028997],\n",
       "             'post_144': [0.38147972219498694],\n",
       "             'post_145': [0.3576500639459854, 0.31866803247199615],\n",
       "             'post_146': [0.38319546543999605,\n",
       "              0.353871856594996,\n",
       "              0.38171782154198575],\n",
       "             'post_147': [0.33069514702599556],\n",
       "             'post_149': [0.34851753111996964,\n",
       "              0.3485408798679901,\n",
       "              0.34565085125199135,\n",
       "              0.35567187702398495,\n",
       "              0.35632687779598804,\n",
       "              0.34453237223299316,\n",
       "              0.3427993754649904],\n",
       "             'post_15': [0.37768381645599447],\n",
       "             'post_150': [0.36559888225098547],\n",
       "             'post_151': [0.38370040718599085, 0.3484910177319983],\n",
       "             'post_152': [0.37444839713400013, 0.37944206695199056],\n",
       "             'post_153': [0.3547558990549897],\n",
       "             'post_154': [0.3510196808369874, 0.34237121858398634],\n",
       "             'post_155': [0.3694597892879913, 0.3564769299029854],\n",
       "             'post_156': [0.36745098104099816],\n",
       "             'post_157': [0.3425562760009908, 0.329691894108996],\n",
       "             'post_158': [0.33827894730698216,\n",
       "              0.34199949661698736,\n",
       "              0.35051520363696953,\n",
       "              0.3478057456119782],\n",
       "             'post_159': [0.3702890875759699,\n",
       "              0.36957992076898993,\n",
       "              0.3667889381189914,\n",
       "              0.3748498553139976],\n",
       "             'post_16': [0.3358095030549967, 0.348724193100987],\n",
       "             'post_160': [0.36477299349398173],\n",
       "             'post_161': [0.32828639148599004,\n",
       "              0.2749606931379982,\n",
       "              0.33536037522599127],\n",
       "             'post_162': [0.35158474280199004, 0.3535884671659919],\n",
       "             'post_163': [0.33161278979599573, 0.324493480491999],\n",
       "             'post_164': [0.3294840332689951, 0.3270623284199923],\n",
       "             'post_166': [0.35213633070199113,\n",
       "              0.36305712465199613,\n",
       "              0.3263849141069962],\n",
       "             'post_168': [0.36651280529799557],\n",
       "             'post_169': [0.3408046205369989, 0.3716487686099905],\n",
       "             'post_17': [0.3996032534159999,\n",
       "              0.3507853354739997,\n",
       "              0.37083921737198466],\n",
       "             'post_170': [0.3594284232289876,\n",
       "              0.36033968509198644,\n",
       "              0.36271670816098545],\n",
       "             'post_171': [0.38335141687798513, 0.3947380505499841],\n",
       "             'post_172': [0.3045514103699688, 0.3068586613519958],\n",
       "             'post_173': [0.31869360774799294],\n",
       "             'post_174': [0.4252619097529694],\n",
       "             'post_175': [0.3680998720599975],\n",
       "             'post_176': [0.29158063293899994, 0.31982695515099124],\n",
       "             'post_178': [0.37497530479699637, 0.39984698072499636],\n",
       "             'post_179': [0.29110005361699776, 0.29750625574797807],\n",
       "             'post_18': [0.3766349995189784],\n",
       "             'post_180': [0.35356989623699564, 0.35465894294399314],\n",
       "             'post_181': [0.35666975049998995,\n",
       "              0.3586127909449913,\n",
       "              0.3716318766729868,\n",
       "              0.3372613548419915],\n",
       "             'post_182': [0.35495707137799304],\n",
       "             'post_183': [0.3942950149069976],\n",
       "             'post_184': [0.3613030326949874, 0.37820553527898637],\n",
       "             'post_185': [0.3458758053289954,\n",
       "              0.34273342652999594,\n",
       "              0.32886736434999275],\n",
       "             'post_186': [0.33403585139799585, 0.3375451724689922],\n",
       "             'post_187': [0.37040417035899553, 0.36162649013899295],\n",
       "             'post_189': [0.41562673875996936],\n",
       "             'post_190': [0.33847633076796935, 0.327613211887981],\n",
       "             'post_191': [0.3761828691239888],\n",
       "             'post_193': [0.40579428742897405],\n",
       "             'post_194': [0.3250842824219692,\n",
       "              0.3370677683119899,\n",
       "              0.3105656515599857,\n",
       "              0.3315019536589914,\n",
       "              0.323706938579978,\n",
       "              0.3367788925589976],\n",
       "             'post_195': [0.3440280882079888, 0.33601744103498765],\n",
       "             'post_196': [0.33877697854998623],\n",
       "             'post_197': [0.3730162893059845, 0.3702947929029844],\n",
       "             'post_198': [0.35660769886498545],\n",
       "             'post_199': [0.3124858693749968],\n",
       "             'post_2': [0.3539471841439956, 0.3752958290079855],\n",
       "             'post_20': [0.4177159286119889,\n",
       "              0.41699913386299226,\n",
       "              0.4371854944969913],\n",
       "             'post_202': [0.3427262755149695,\n",
       "              0.33146553059899253,\n",
       "              0.3246544174869993],\n",
       "             'post_203': [0.4060464964789944],\n",
       "             'post_204': [0.3379646438479895,\n",
       "              0.3536495407189849,\n",
       "              0.330672315563994,\n",
       "              0.3567701552539969],\n",
       "             'post_205': [0.3783443732729874, 0.33715677066399197],\n",
       "             'post_206': [0.38977109015098277, 0.3919959600579853],\n",
       "             'post_207': [0.3184377675289981,\n",
       "              0.35196536165598347,\n",
       "              0.3411509618359956],\n",
       "             'post_208': [0.36574908832799, 0.45014212621899086],\n",
       "             'post_209': [0.32697467824898185, 0.3367648541719974],\n",
       "             'post_210': [0.2941730792709879,\n",
       "              0.3248127640549866,\n",
       "              0.343398138982978],\n",
       "             'post_211': [0.36280288207698075,\n",
       "              0.3659391907919839,\n",
       "              0.35647765833997336],\n",
       "             'post_212': [0.31984984512099723],\n",
       "             'post_213': [0.2896006271229966],\n",
       "             'post_214': [0.40261491885599576, 0.40553538548299417],\n",
       "             'post_215': [0.37191267680398554],\n",
       "             'post_216': [0.21615160429399938, 0.23968158571398746],\n",
       "             'post_217': [0.31149050657599786],\n",
       "             'post_218': [0.38110354766999543, 0.3233439291819986],\n",
       "             'post_22': [0.41692131281999767],\n",
       "             'post_220': [0.37178922562298544, 0.3689988359449964],\n",
       "             'post_221': [0.3713406599409882, 0.3805521847999982],\n",
       "             'post_222': [0.39021543481299514, 0.37617608326299645],\n",
       "             'post_223': [0.30514329046899635, 0.327889592312985],\n",
       "             'post_224': [0.38688114158196873],\n",
       "             'post_225': [0.22375817417799837, 0.2394154779359965],\n",
       "             'post_226': [0.2948411453659875],\n",
       "             'post_227': [0.35470655815496965, 0.336821582466986],\n",
       "             'post_228': [0.32228541575599445],\n",
       "             'post_229': [0.34936267777399577, 0.3445513341729942],\n",
       "             'post_23': [0.3451284001579922],\n",
       "             'post_230': [0.3926737854279875],\n",
       "             'post_232': [0.33360711402399645],\n",
       "             'post_233': [0.34114986356898047,\n",
       "              0.35330956026499416,\n",
       "              0.3567812772749839],\n",
       "             'post_234': [0.3759678426859958],\n",
       "             'post_235': [0.3902946814449978],\n",
       "             'post_236': [0.3523134064139969, 0.3771726188809942],\n",
       "             'post_238': [0.26859222957899953],\n",
       "             'post_239': [0.33592861586398837, 0.3106601764079987],\n",
       "             'post_24': [0.4120766628389969],\n",
       "             'post_242': [0.413646446246978],\n",
       "             'post_243': [0.39145038122099574, 0.3920490954399942],\n",
       "             'post_245': [0.35572041401399,\n",
       "              0.36530916507098365,\n",
       "              0.36885977382698687,\n",
       "              0.364972330614978],\n",
       "             'post_246': [0.3834295124369702],\n",
       "             'post_248': [0.3367454672539961],\n",
       "             'post_249': [0.28985536867599815],\n",
       "             'post_250': [0.31275320037299426],\n",
       "             'post_252': [0.2713643711499968],\n",
       "             'post_254': [0.3786661327679829],\n",
       "             'post_255': [0.30263342345999467],\n",
       "             'post_256': [0.4191392695689695, 0.4054587302669844],\n",
       "             'post_257': [0.37726730756399673,\n",
       "              0.36644302839099685,\n",
       "              0.36319170226597897],\n",
       "             'post_258': [0.3257922972409959],\n",
       "             'post_259': [0.34202512700096943, 0.347329579866978],\n",
       "             'post_262': [0.3605928126579907, 0.3315556564569957],\n",
       "             'post_263': [0.34877563409399315, 0.35899586419299057],\n",
       "             'post_264': [0.3782755609719919],\n",
       "             'post_265': [0.3011524206059947,\n",
       "              0.31557441896396743,\n",
       "              0.30364635996298184,\n",
       "              0.2912478537859686,\n",
       "              0.2930076506559829,\n",
       "              0.27872314046198554,\n",
       "              0.29425233557297803],\n",
       "             'post_268': [0.36392235900899617],\n",
       "             'post_270': [0.33284727700998595],\n",
       "             'post_273': [0.29179261024598746],\n",
       "             'post_274': [0.3452742144809867,\n",
       "              0.3517915465529958,\n",
       "              0.33649142102999674],\n",
       "             'post_275': [0.3622719249559959, 0.36389978469299433],\n",
       "             'post_276': [0.36849606459199813],\n",
       "             'post_277': [0.32478213499499986, 0.3919457684079969],\n",
       "             'post_278': [0.39120197035499404, 0.39304535615099456],\n",
       "             'post_279': [0.3730398560129903,\n",
       "              0.3780490221209838,\n",
       "              0.37882684414897805],\n",
       "             'post_280': [0.38407332535097016,\n",
       "              0.3999515431439903,\n",
       "              0.4023406958739839,\n",
       "              0.3988915940849782,\n",
       "              0.3612834315229966],\n",
       "             'post_281': [0.27318206587399896],\n",
       "             'post_282': [0.42834381051498605, 0.4300793756679965],\n",
       "             'post_283': [0.3368796063949999],\n",
       "             'post_284': [0.3295011287769969],\n",
       "             'post_285': [0.4354570509059835],\n",
       "             'post_286': [0.41927918978499723,\n",
       "              0.40553301403998543,\n",
       "              0.4118276079299813,\n",
       "              0.4236349809589839],\n",
       "             'post_288': [0.36609908223999676],\n",
       "             'post_290': [0.3818933834339737],\n",
       "             'post_291': [0.3647680155219697, 0.37090199549999014],\n",
       "             'post_294': [0.3373814624349947],\n",
       "             'post_295': [0.3940584486429942],\n",
       "             'post_297': [0.3028363499729909],\n",
       "             'post_298': [0.3600972940509851, 0.3554421214219956],\n",
       "             'post_299': [0.30426148218699256, 0.30262782419499934],\n",
       "             'post_3': [0.3607091795489885],\n",
       "             'post_301': [0.414084173596991,\n",
       "              0.42298132422698476,\n",
       "              0.4054087238289845,\n",
       "              0.4042625044229857],\n",
       "             'post_302': [0.3377373547199971, 0.3341175893709991],\n",
       "             'post_303': [0.3353899248799931, 0.33593878267899036],\n",
       "             'post_304': [0.28487682666699965,\n",
       "              0.3650332312809874,\n",
       "              0.3667049447079952,\n",
       "              0.34536556712999666],\n",
       "             'post_305': [0.29142668598699695, 0.305152179848986],\n",
       "             'post_306': [0.3711490433639978],\n",
       "             'post_308': [0.3704043458719968, 0.3830898193019868],\n",
       "             'post_309': [0.39313846549299425],\n",
       "             'post_31': [0.43686658440397463],\n",
       "             'post_310': [0.36366177506097874],\n",
       "             'post_311': [0.37354439318899424, 0.3734235995949905],\n",
       "             'post_312': [0.3982402805069878,\n",
       "              0.3977744828289954,\n",
       "              0.4352626857039963],\n",
       "             'post_315': [0.3781319288379982],\n",
       "             'post_316': [0.33867715628599726,\n",
       "              0.40082405858499637,\n",
       "              0.39056422839997873],\n",
       "             'post_317': [0.33455672766699607],\n",
       "             'post_318': [0.3516204714909903],\n",
       "             'post_32': [0.3839019810259837, 0.38618603192397827],\n",
       "             'post_320': [0.4274932230669697],\n",
       "             'post_321': [0.3002992975129951],\n",
       "             'post_322': [0.3105615185889985, 0.3245186819559961],\n",
       "             'post_323': [0.34743280105399743],\n",
       "             'post_325': [0.3489352993239978,\n",
       "              0.353399815138978,\n",
       "              0.33942197300799737],\n",
       "             'post_326': [0.31496124535899783],\n",
       "             'post_328': [0.3567663332169978,\n",
       "              0.32121935902299303,\n",
       "              0.342898532852978],\n",
       "             'post_329': [0.3450355778849983],\n",
       "             'post_331': [0.38343707612599087,\n",
       "              0.358329715055996,\n",
       "              0.36544258947798447,\n",
       "              0.36380980283499764],\n",
       "             'post_332': [0.3711277114999988, 0.3974800892889977],\n",
       "             'post_335': [0.3050121937239978],\n",
       "             'post_338': [0.36638422878099386, 0.38395643668997903],\n",
       "             'post_34': [0.3422716735789987],\n",
       "             'post_340': [0.34503406763098965, 0.3599421035069851],\n",
       "             'post_342': [0.3238518510089903],\n",
       "             'post_344': [0.26057994236797877],\n",
       "             'post_346': [0.37580780444199047],\n",
       "             'post_347': [0.3736335841889816],\n",
       "             'post_348': [0.35891960424698244, 0.3391417116159904],\n",
       "             'post_349': [0.36162178939599665,\n",
       "              0.3615055372069904,\n",
       "              0.3790125732729738],\n",
       "             'post_350': [0.3821113861389791],\n",
       "             'post_351': [0.35397323748096976,\n",
       "              0.36183031876199,\n",
       "              0.36907404151099577],\n",
       "             'post_352': [0.34339209438998375],\n",
       "             'post_353': [0.41058257248098184,\n",
       "              0.37046493963499194,\n",
       "              0.36128013152099836,\n",
       "              0.38716677687897894],\n",
       "             'post_354': [0.3867806829519702, 0.375324091920997],\n",
       "             'post_355': [0.34433726355499905, 0.36387022600398666],\n",
       "             'post_357': [0.3974505729809845,\n",
       "              0.3829777429749852,\n",
       "              0.3918583094369843],\n",
       "             'post_358': [0.39609667548997507],\n",
       "             'post_359': [0.38840444194798773, 0.3913875618829955],\n",
       "             'post_36': [0.42669031844099004],\n",
       "             'post_361': [0.3466732606869902],\n",
       "             'post_363': [0.32477297130299987],\n",
       "             'post_364': [0.4040336823949967, 0.40288884070999453],\n",
       "             'post_365': [0.3650539032829839,\n",
       "              0.38422587297800004,\n",
       "              0.278741670037998,\n",
       "              0.2908625733629986],\n",
       "             'post_366': [0.3896909479499975],\n",
       "             'post_367': [0.33924543932899964, 0.3571238185759943],\n",
       "             'post_368': [0.325998162785997],\n",
       "             'post_37': [0.3295771061519952],\n",
       "             'post_371': [0.2967693889139975],\n",
       "             'post_374': [0.37809780544198945],\n",
       "             'post_377': [0.36678817680096854, 0.3340136753379971],\n",
       "             'post_378': [0.3825556021319846],\n",
       "             'post_379': [0.34430833137298444],\n",
       "             'post_38': [0.31929477465099554, 0.25433861213699926],\n",
       "             'post_381': [0.3251590169529691, 0.33301113694099027],\n",
       "             'post_382': [0.35433928541399706],\n",
       "             'post_384': [0.38132026344697467, 0.3936855007259935],\n",
       "             'post_385': [0.34765576971399503],\n",
       "             'post_386': [0.3104524002979987],\n",
       "             'post_388': [0.35986707700099707],\n",
       "             'post_389': [0.3564746631269874, 0.3614451162769906],\n",
       "             'post_393': [0.23875004423299961],\n",
       "             'post_394': [0.3574469431449908, 0.3647470860039844],\n",
       "             'post_396': [0.3841807717029748],\n",
       "             'post_399': [0.3198067905159958],\n",
       "             'post_4': [0.40231133792198814, 0.3752987890529951],\n",
       "             'post_40': [0.4231457073599971, 0.4091837035299788],\n",
       "             'post_401': [0.3284082118929952, 0.31106249744399606],\n",
       "             'post_402': [0.3614835324589981,\n",
       "              0.3659379837769996,\n",
       "              0.3498884235799977],\n",
       "             'post_403': [0.4007577967589704,\n",
       "              0.4071523308889853,\n",
       "              0.4315275540219866,\n",
       "              0.42688024895997834,\n",
       "              0.4272798532139914,\n",
       "              0.4895949439859878],\n",
       "             'post_404': [0.41869559484899],\n",
       "             'post_405': [0.3737335189599964],\n",
       "             'post_406': [0.3561795835179975],\n",
       "             'post_408': [0.34393232332498436, 0.329773004284973],\n",
       "             'post_41': [0.38017983077699613, 0.3571591942729979],\n",
       "             'post_412': [0.3438048600279988],\n",
       "             'post_413': [0.39736252438498776, 0.3915620576369878],\n",
       "             'post_414': [0.3456029274449999, 0.3394854046539849],\n",
       "             'post_415': [0.3728007621849886],\n",
       "             'post_417': [0.3460832541539952, 0.34705303128299225],\n",
       "             'post_418': [0.3722805878929981,\n",
       "              0.3669005591999851,\n",
       "              0.37546195261999127,\n",
       "              0.37023505498198805,\n",
       "              0.37413092989399854,\n",
       "              0.3855954460359976],\n",
       "             'post_419': [0.39140317086999754],\n",
       "             'post_42': [0.36099690752499614,\n",
       "              0.35702828570698886,\n",
       "              0.336001427984981],\n",
       "             'post_420': [0.3947041047589893,\n",
       "              0.4004535300669977,\n",
       "              0.41945876872399424],\n",
       "             'post_422': [0.34523855658299063, 0.306462542476],\n",
       "             'post_425': [0.4377301014239814],\n",
       "             'post_428': [0.3865403968929688,\n",
       "              0.33518796019599717,\n",
       "              0.36816317540298427],\n",
       "             'post_43': [0.34522973270299673, 0.33867336979898743],\n",
       "             'post_430': [0.3871939623639913, 0.35298013219099034],\n",
       "             'post_431': [0.40307469145498453],\n",
       "             'post_432': [0.28986953614899247, 0.3070318592709932],\n",
       "             'post_433': [0.404943502977969,\n",
       "              0.40232623694999137,\n",
       "              0.4040569152329847,\n",
       "              0.4053986092259845],\n",
       "             'post_434': [0.39312514455496894, 0.40989147668099124],\n",
       "             'post_435': [0.3422651504879919],\n",
       "             'post_437': [0.32140622867996904,\n",
       "              0.3278477818939848,\n",
       "              0.3068424257799932,\n",
       "              0.31225025199899026],\n",
       "             'post_438': [0.3910927303749978],\n",
       "             'post_439': [0.3698871826859882, 0.3582088671659962],\n",
       "             'post_44': [0.35627609980799635, 0.3397990730099971],\n",
       "             'post_440': [0.4112568299299828],\n",
       "             'post_441': [0.3163749111029902],\n",
       "             'post_442': [0.29103015321599457],\n",
       "             'post_446': [0.3473774476279695],\n",
       "             'post_449': [0.35990977448999284],\n",
       "             'post_45': [0.37515131834999627],\n",
       "             'post_450': [0.3426592097849852, 0.31808114345399763],\n",
       "             'post_451': [0.37215525602599553,\n",
       "              0.3742614264129932,\n",
       "              0.3649476441199987],\n",
       "             'post_452': [0.32801926498099754],\n",
       "             'post_453': [0.35037458517699116],\n",
       "             'post_454': [0.35486193213999195, 0.35032356098598494],\n",
       "             'post_455': [0.3274737901239817,\n",
       "              0.3211419489039977,\n",
       "              0.3182309091149903],\n",
       "             'post_456': [0.29211148595399783, 0.29841302257797764],\n",
       "             'post_457': [0.3722043281249865, 0.36688589240198555],\n",
       "             'post_458': [0.41069202950798167,\n",
       "              0.39704049344698544,\n",
       "              0.39367376610198823],\n",
       "             'post_459': [0.2890197021759958,\n",
       "              0.28978019428699775,\n",
       "              0.29463872210197806,\n",
       "              0.28070400076197866],\n",
       "             'post_46': [0.35876577335699633, 0.3361770080629971],\n",
       "             'post_460': [0.35536969895699644,\n",
       "              0.31268295096399734,\n",
       "              0.3355443154899789],\n",
       "             'post_461': [0.35798233258998835, 0.3507751771029787],\n",
       "             'post_462': [0.36262157674296835, 0.349776955417996],\n",
       "             'post_463': [0.35082498793696815, 0.3445227555439905],\n",
       "             'post_464': [0.35472225860599027,\n",
       "              0.35515959874798353,\n",
       "              0.3515930549779782,\n",
       "              0.35694178614697836],\n",
       "             'post_465': [0.38586642120999104,\n",
       "              0.34982356460299047,\n",
       "              0.36628013869099707],\n",
       "             'post_466': [0.38826576396499846,\n",
       "              0.42357430522798545,\n",
       "              0.3941216279289963,\n",
       "              0.35554788006299765],\n",
       "             'post_467': [0.35237854623796816,\n",
       "              0.35446896170699005,\n",
       "              0.3555651429519835,\n",
       "              0.3452456043539912,\n",
       "              0.3499609898949846,\n",
       "              0.357923058211978,\n",
       "              0.3517179496029904],\n",
       "             'post_468': [0.33494807802899784,\n",
       "              0.3589155057039848,\n",
       "              0.33225282655999555],\n",
       "             'post_469': [0.37258197609098787],\n",
       "             'post_47': [0.40900499927099676],\n",
       "             'post_471': [0.3807140619109973],\n",
       "             'post_472': [0.41742112280799504,\n",
       "              0.4055513407609914,\n",
       "              0.41944716246698477],\n",
       "             'post_473': [0.3925711321619689, 0.3493654904149981],\n",
       "             'post_474': [0.4043408591259827,\n",
       "              0.364622632522989,\n",
       "              0.34475230573098103],\n",
       "             'post_475': [0.3251349570709976,\n",
       "              0.34412617167398785,\n",
       "              0.33471141925697867],\n",
       "             'post_476': [0.340387036887968, 0.32297701895799],\n",
       "             'post_477': [0.36288177204899785,\n",
       "              0.37712821232198457,\n",
       "              0.379503903472978],\n",
       "             'post_478': [0.3694628548889686, 0.35296691337398867],\n",
       "             'post_479': [0.37628559411199114,\n",
       "              0.3785028652439846,\n",
       "              0.3607739894099924,\n",
       "              0.3771604675739788],\n",
       "             'post_48': [0.3346326949479963, 0.3028608269169971],\n",
       "             'post_480': [0.3647733218039846,\n",
       "              0.3780585275069852,\n",
       "              0.3759361016369881],\n",
       "             'post_481': [0.3727699767559963, 0.3573893386919905],\n",
       "             'post_482': [0.389092886096995,\n",
       "              0.4142842918049693,\n",
       "              0.4051160670039816,\n",
       "              0.40715618576598456],\n",
       "             'post_483': [0.41798913269699434, 0.41586134920999707],\n",
       "             'post_484': [0.3879483852689921, 0.3786542370849788],\n",
       "             'post_485': [0.33785342984499867,\n",
       "              0.37560786741998553,\n",
       "              0.38059867210499065],\n",
       "             'post_486': [0.35108325533597906],\n",
       "             'post_487': [0.38315342575799605,\n",
       "              0.39793884070299723,\n",
       "              0.36192608468899534],\n",
       "             'post_488': [0.3365575651769692,\n",
       "              0.33706370733099833,\n",
       "              0.3453726988529847],\n",
       "             'post_489': [0.35867419036798454, 0.3486867371809843],\n",
       "             'post_49': [0.3974651225909962,\n",
       "              0.3978538515029967,\n",
       "              0.3949044513849791],\n",
       "             'post_490': [0.33761004413098894,\n",
       "              0.34074346581798776,\n",
       "              0.3406398068699845,\n",
       "              0.3191410423299985,\n",
       "              0.3393763255259976],\n",
       "             'post_491': [0.3515344342209886, 0.3703781529319786],\n",
       "             'post_492': [0.3494247621559696,\n",
       "              0.3504601758949999,\n",
       "              0.32777603054699533],\n",
       "             'post_493': [0.33567742549499746,\n",
       "              0.365251754672989,\n",
       "              0.36560500546898433],\n",
       "             'post_494': [0.37331646610398406],\n",
       "             'post_496': [0.3755558688809867, 0.3823985873019857],\n",
       "             'post_497': [0.3522881723879979, 0.3550162166449903],\n",
       "             'post_498': [0.3443632602409846, 0.3379747457659922],\n",
       "             'post_499': [0.3856577538989856,\n",
       "              0.40933541256598394,\n",
       "              0.3516569376949964],\n",
       "             'post_5': [0.3632184457749894, 0.3424719093929961],\n",
       "             'post_50': [0.3770694731799825],\n",
       "             'post_500': [0.3427019195359984, 0.38113011154498555],\n",
       "             'post_501': [0.3427240102729838, 0.3590206715979999],\n",
       "             'post_502': [0.36248927033599077,\n",
       "              0.34083221768098493,\n",
       "              0.3383609236209921,\n",
       "              0.33157063840099443],\n",
       "             'post_503': [0.36076944633796837,\n",
       "              0.3388068949509907,\n",
       "              0.35535077701898454,\n",
       "              0.34422348748498444,\n",
       "              0.32976711176799745],\n",
       "             'post_504': [0.3540714659709887],\n",
       "             'post_505': [0.3814722925599703,\n",
       "              0.364304850006984,\n",
       "              0.3762051056059942,\n",
       "              0.3677811961739973],\n",
       "             'post_506': [0.3680904457379949,\n",
       "              0.38495470741896876,\n",
       "              0.3611394698319912,\n",
       "              0.36898188577399416],\n",
       "             'post_507': [0.32653871963799885,\n",
       "              0.34744396688998846,\n",
       "              0.3580679041269853],\n",
       "             'post_508': [0.41247288287998907],\n",
       "             'post_509': [0.3296210598149918],\n",
       "             'post_510': [0.366347905929991],\n",
       "             'post_511': [0.32740112920899567,\n",
       "              0.320248815562997,\n",
       "              0.33722358714599776,\n",
       "              0.3523816410639845,\n",
       "              0.335628165382973],\n",
       "             'post_512': [0.3137206690989848, 0.3136235951019981],\n",
       "             'post_513': [0.3982012865659965,\n",
       "              0.4038391794359907,\n",
       "              0.38993588731997886],\n",
       "             'post_514': [0.3604680566609978,\n",
       "              0.3717097499849912,\n",
       "              0.3715612984359846,\n",
       "              0.34756386906999037],\n",
       "             'post_515': [0.36730344568898465, 0.36662953223199235],\n",
       "             'post_516': [0.3504212839619958,\n",
       "              0.3519384913359982,\n",
       "              0.3469658948799902],\n",
       "             'post_517': [0.3773601521419837,\n",
       "              0.38155318890797774,\n",
       "              0.4065332000389882,\n",
       "              0.37104937221599377],\n",
       "             'post_518': [0.32918436990599753, 0.3331300705819903],\n",
       "             'post_519': [0.31758490388897387],\n",
       "             'post_52': [0.3961625812729963],\n",
       "             'post_521': [0.3574350232269915],\n",
       "             'post_522': [0.4056626194769817, 0.3829135786649869],\n",
       "             'post_523': [0.3614097710339912,\n",
       "              0.34703673191398854,\n",
       "              0.3701246507889846],\n",
       "             'post_524': [0.3578528225179699,\n",
       "              0.3574225001519896,\n",
       "              0.33263034024099747],\n",
       "             'post_527': [0.3490025734419743, 0.3604024922549699],\n",
       "             'post_528': [0.39921409764896887],\n",
       "             'post_529': [0.27456228653199855],\n",
       "             'post_53': [0.42540840404299807,\n",
       "              0.39563476708698797,\n",
       "              0.3900246417709955,\n",
       "              0.4088928120329969],\n",
       "             'post_530': [0.36638988350099033, 0.37259037788099036],\n",
       "             'post_531': [0.37901482167696876,\n",
       "              0.36333847152998877,\n",
       "              0.33470164532299773],\n",
       "             'post_532': [0.33265186094399024],\n",
       "             'post_533': [0.3146211681199851],\n",
       "             'post_535': [0.36825966676197, 0.3809292159239738],\n",
       "             'post_538': [0.3698788645879869, 0.37778485767599557],\n",
       "             'post_539': [0.3901877028449897, 0.37552975676999456],\n",
       "             'post_54': [0.40636142695599775],\n",
       "             'post_541': [0.37679686247696864],\n",
       "             'post_542': [0.36828093821198404,\n",
       "              0.39313932070899993,\n",
       "              0.3407673585149974],\n",
       "             'post_543': [0.36305109732799756,\n",
       "              0.37130719907799126,\n",
       "              0.3756048308219847,\n",
       "              0.3563206517979933,\n",
       "              0.36208775217497857,\n",
       "              0.3380524254949958],\n",
       "             'post_544': [0.37335113736198555],\n",
       "             'post_545': [0.38129136328598967],\n",
       "             'post_546': [0.32513665606197395,\n",
       "              0.3632558171729845,\n",
       "              0.34957331137898384],\n",
       "             'post_548': [0.3234321669219875, 0.3469231832599843],\n",
       "             'post_549': [0.30581129427499776, 0.29794551385198564],\n",
       "             'post_552': [0.40599442605598934],\n",
       "             'post_553': [0.331339570819,\n",
       "              0.3894328354069897,\n",
       "              0.3869466534389917],\n",
       "             'post_555': [0.30955975367799715, 0.32299057499999884],\n",
       "             'post_556': [0.3261151751679964],\n",
       "             'post_557': [0.39235993396899194, 0.39549172904999064],\n",
       "             'post_558': [0.3779685963349687, 0.3538713657879824],\n",
       "             'post_56': [0.3621731433199744, 0.3718315231579875],\n",
       "             'post_560': [0.3885668696439999, 0.3459208019119977],\n",
       "             'post_563': [0.357897864170985,\n",
       "              0.34333578792099706,\n",
       "              0.3639340361969845,\n",
       "              0.35338007882898437,\n",
       "              0.3481029411759975],\n",
       "             'post_565': [0.37701614416599716],\n",
       "             'post_569': [0.37387208146599993],\n",
       "             'post_57': [0.28248362706699537, 0.25649755173799516],\n",
       "             'post_570': [0.32674439797099997,\n",
       "              0.35265149828299247,\n",
       "              0.3621971879960001],\n",
       "             'post_573': [0.35994370051099145, 0.3648312362449847],\n",
       "             'post_576': [0.367185786028987, 0.36175108300798764],\n",
       "             'post_577': [0.3606828511679683, 0.3553413415439819],\n",
       "             'post_578': [0.4082782031539819],\n",
       "             'post_584': [0.36093157009497334],\n",
       "             'post_585': [0.3729557147920002, 0.3622408436879977],\n",
       "             'post_586': [0.4072916077359816, 0.382061663691978],\n",
       "             'post_587': [0.25519940730698754, 0.28098780714799776],\n",
       "             'post_589': [0.39782774764198503],\n",
       "             'post_59': [0.33341319380499757],\n",
       "             'post_590': [0.3852628057139884, 0.3871712164769835],\n",
       "             'post_592': [0.37174209161499583],\n",
       "             'post_593': [0.37376542511899613],\n",
       "             'post_594': [0.32132644892299755],\n",
       "             'post_595': [0.40157842770399743],\n",
       "             'post_596': [0.360840782127],\n",
       "             'post_597': [0.3658537234939919],\n",
       "             'post_598': [0.3532048586439961],\n",
       "             'post_599': [0.35649174397599703, 0.38307778644098567],\n",
       "             'post_6': [0.3723616468099957,\n",
       "              0.38119529760399584,\n",
       "              0.38722260049499346],\n",
       "             'post_60': [0.41439762078099507, 0.4399730865049699],\n",
       "             'post_600': [0.3832015838519973, 0.37556421587499744],\n",
       "             'post_601': [0.34428956442899916],\n",
       "             'post_602': [0.3411360679809966],\n",
       "             'post_603': [0.30362804489196726, 0.28578524150699014],\n",
       "             'post_604': [0.36512883677499575, 0.33537503244398115],\n",
       "             'post_605': [0.3860206509759936, 0.38945319468298434],\n",
       "             'post_606': [0.38697808424299585,\n",
       "              0.3500148419379875,\n",
       "              0.3548355099889865],\n",
       "             'post_607': [0.3651915567749955],\n",
       "             'post_608': [0.4047355058499922],\n",
       "             'post_609': [0.3755619350969829],\n",
       "             'post_61': [0.37374177112599793],\n",
       "             'post_610': [0.3845584027139911],\n",
       "             'post_611': [0.3994312045559999, 0.3811428183819914],\n",
       "             'post_612': [0.3227762894889846, 0.3170735380399925],\n",
       "             'post_613': [0.28737021264099705],\n",
       "             'post_615': [0.41919750820899127],\n",
       "             'post_616': [0.40763757888199137, 0.4414370224899882],\n",
       "             'post_617': [0.286018822884997,\n",
       "              0.30276505260598463,\n",
       "              0.30161930563199246,\n",
       "              0.31453772973699734],\n",
       "             'post_619': [0.35693141501799486],\n",
       "             'post_62': [0.2946999173269963],\n",
       "             'post_620': [0.39912619059098187],\n",
       "             'post_621': [0.3872379181029928],\n",
       "             'post_622': [0.3544599854259912,\n",
       "              0.33815432559098746,\n",
       "              0.3409316590329863,\n",
       "              0.33306549005099895],\n",
       "             'post_623': [0.3504875895949948],\n",
       "             'post_624': [0.37360400181397346],\n",
       "             'post_625': [0.4177693678989982],\n",
       "             'post_626': [0.2471290339940001],\n",
       "             'post_627': [0.3652879307349991],\n",
       "             'post_628': [0.37749292064997375],\n",
       "             'post_629': [0.4070709639159915],\n",
       "             'post_63': [0.36610468427099063],\n",
       "             'post_630': [0.432592791900995, 0.45273400752499715],\n",
       "             'post_632': [0.3785106282609997],\n",
       "             'post_633': [0.340293651681995, 0.3356996056289926],\n",
       "             'post_636': [0.3883767166779821, 0.36389577884099467],\n",
       "             'post_638': [0.35767669806098856],\n",
       "             'post_639': [0.38307470216899697, 0.4054412150749843],\n",
       "             'post_64': [0.3211155958409737, 0.33566534593499653],\n",
       "             'post_640': [0.36441609844798695, 0.3710892454669815],\n",
       "             'post_641': [0.3491441763739903],\n",
       "             'post_642': [0.39595913765699786,\n",
       "              0.39831438385499796,\n",
       "              0.3722254254289957],\n",
       "             'post_643': [0.3728504616359912,\n",
       "              0.3657829706249843,\n",
       "              0.3554476674519854],\n",
       "             'post_644': [0.4222229984829978],\n",
       "             'post_645': [0.34231674993598493],\n",
       "             'post_646': [0.30462898055200016,\n",
       "              0.3114204794169969,\n",
       "              0.3342838388679922,\n",
       "              0.33310826808199023],\n",
       "             'post_647': [0.3066782879999993,\n",
       "              0.28844442850598706,\n",
       "              0.30337265271799985],\n",
       "             'post_654': [0.38711629248698287,\n",
       "              0.37235835772198367,\n",
       "              0.3782091645259781],\n",
       "             'post_655': [0.3425482723349902,\n",
       "              0.3504811446939916,\n",
       "              0.3515340506129847],\n",
       "             'post_656': [0.3539424106089919],\n",
       "             'post_657': [0.3815131758659702,\n",
       "              0.37119739277598807,\n",
       "              0.3516090011149976,\n",
       "              0.36075648149997863],\n",
       "             'post_658': [0.4725216999009971,\n",
       "              0.3920297913369809,\n",
       "              0.41519290354798477,\n",
       "              0.4051614259249843],\n",
       "             'post_659': [0.37771848944398767,\n",
       "              0.3412137173819918,\n",
       "              0.37245521748898447],\n",
       "             'post_660': [0.37781620216799583, 0.3930074366859848],\n",
       "             'post_661': [0.3611711872829849, 0.359371331348987],\n",
       "             'post_662': [0.3342851661099848],\n",
       "             'post_663': [0.3383030309869868,\n",
       "              0.3437770118069846,\n",
       "              0.3295468350229843],\n",
       "             'post_664': [0.3680404562399868, 0.3666404719269879],\n",
       "             'post_665': [0.37394196887399334,\n",
       "              0.37659276196099045,\n",
       "              0.36242388294197336],\n",
       "             'post_666': [0.3787261023219868, 0.3629760465679851],\n",
       "             'post_667': [0.3760485521399881, 0.330141704265],\n",
       "             'post_668': [0.4028025830619689,\n",
       "              0.39342855614299554,\n",
       "              0.3903193532579867],\n",
       "             'post_669': [0.4761009718969864],\n",
       "             'post_67': [0.39572135936598785],\n",
       "             'post_670': [0.37492436037998433,\n",
       "              0.372621897057993,\n",
       "              0.352790931779999],\n",
       "             'post_671': [0.3462970846389678,\n",
       "              0.3397289406449904,\n",
       "              0.3369750290999872,\n",
       "              0.3123608740749998],\n",
       "             'post_672': [0.40775155458198165],\n",
       "             'post_673': [0.3664675389599791],\n",
       "             'post_674': [0.3715716931459887, 0.3905207390469788],\n",
       "             'post_675': [0.3951334450279689,\n",
       "              0.38739218468898273,\n",
       "              0.3915482985819788],\n",
       "             'post_676': [0.36736689740797446,\n",
       "              0.39054133028598714,\n",
       "              0.3706027195979964],\n",
       "             'post_677': [0.303127265832983, 0.29809419913199775],\n",
       "             'post_678': [0.3294725713589677,\n",
       "              0.31642835340198205,\n",
       "              0.3243922088369867,\n",
       "              0.3277626279179846,\n",
       "              0.32117981590297795,\n",
       "              0.3233928963659839],\n",
       "             'post_679': [0.3329617319369903, 0.3518084194659976],\n",
       "             'post_680': [0.35020306467796813, 0.33079486387798673],\n",
       "             'post_681': [0.36026463602196834,\n",
       "              0.3443459288969869,\n",
       "              0.3155824629869999],\n",
       "             'post_682': [0.3780951476639959, 0.3994326047489847],\n",
       "             'post_683': [0.32402817211798673],\n",
       "             'post_684': [0.3335956940589986, 0.3458351288979975],\n",
       "             'post_687': [0.37797598452098724],\n",
       "             'post_69': [0.40581564521499636, 0.3835051883719971],\n",
       "             'post_693': [0.34978440935798694],\n",
       "             'post_694': [0.3690003162659976],\n",
       "             'post_7': [0.41388858588799715,\n",
       "              0.4111415101619912,\n",
       "              0.4152601095549845],\n",
       "             'post_700': [0.30669781198199564,\n",
       "              0.31701495084899123,\n",
       "              0.3204099778869868,\n",
       "              0.28639155813799533],\n",
       "             'post_701': [0.4006898571509846],\n",
       "             'post_702': [0.3610422795189946],\n",
       "             'post_704': [0.3659299481839867],\n",
       "             'post_705': [0.36941634909198695],\n",
       "             'post_708': [0.3395317747759805,\n",
       "              0.35957832637998677,\n",
       "              0.3621838762469839],\n",
       "             'post_709': [0.347568851215995,\n",
       "              0.3804713831379869,\n",
       "              0.3557646051099812],\n",
       "             'post_71': [0.3956910008299964],\n",
       "             'post_710': [0.3549073209619975],\n",
       "             'post_712': [0.3709846408549964],\n",
       "             'post_719': [0.35027863371399615],\n",
       "             'post_720': [0.33017821884598497],\n",
       "             'post_721': [0.40846542273898434, 0.3813218029279919],\n",
       "             'post_722': [0.3657686821499958, 0.4078037916429874],\n",
       "             'post_724': [0.32754539349899314],\n",
       "             'post_725': [0.4081829182019695, 0.3993055633279865],\n",
       "             'post_728': [0.4087637220759872, 0.3826906604519925],\n",
       "             'post_729': [0.3355513810169919, 0.2993993980789985],\n",
       "             'post_730': [0.38074346270398673],\n",
       "             'post_731': [0.3593846463649979, 0.3520966188669944],\n",
       "             'post_733': [0.2902216807229997],\n",
       "             'post_734': [0.3296373292499851,\n",
       "              0.28125608452099804,\n",
       "              0.31674634292998094],\n",
       "             'post_735': [0.3354816632809867, 0.3129478723429945],\n",
       "             'post_737': [0.3104193616989994],\n",
       "             'post_739': [0.34605880354098684],\n",
       "             'post_74': [0.3336934567759816,\n",
       "              0.30285777206999165,\n",
       "              0.3203696558089787],\n",
       "             'post_743': [0.3767889965679867],\n",
       "             'post_745': [0.3580885593889983, 0.3697857950169876],\n",
       "             'post_749': [0.3389553489929802, 0.3612467525079842],\n",
       "             'post_756': [0.40260981549896935],\n",
       "             'post_757': [0.4095217498989846, 0.401765584213979],\n",
       "             'post_765': [0.340177768295987],\n",
       "             'post_767': [0.2903213978379867],\n",
       "             'post_768': [0.31396033190099726, 0.30859226384799965],\n",
       "             'post_769': [0.3358991752819853, 0.37948313970799985],\n",
       "             'post_770': [0.3368522383849961],\n",
       "             'post_771': [0.3468334938709907],\n",
       "             'post_772': [0.4012375420439912,\n",
       "              0.4077321911889883,\n",
       "              0.4029286584699846,\n",
       "              0.39798465722898435],\n",
       "             'post_773': [0.2971628014749874,\n",
       "              0.2909988033449984,\n",
       "              0.3025316670889965,\n",
       "              0.2575532630779961],\n",
       "             'post_774': [0.3799593498849999],\n",
       "             'post_775': [0.2984354262799973, 0.325380611915981],\n",
       "             'post_776': [0.3450502582549958, 0.3484479670449875],\n",
       "             'post_777': [0.36682022414299575, 0.3455431344829981],\n",
       "             'post_778': [0.36100974167698485],\n",
       "             'post_779': [0.3476012969319867,\n",
       "              0.33226309554699784,\n",
       "              0.33703192006498117],\n",
       "             'post_78': [0.33136541493399607],\n",
       "             'post_780': [0.21822107907199872, 0.2891383807789907],\n",
       "             'post_781': [0.34224056605699993,\n",
       "              0.3663169904399848,\n",
       "              0.35140936799898526],\n",
       "             'post_782': [0.3841542319859851, 0.40616489646599996],\n",
       "             'post_783': [0.35028339119399476],\n",
       "             'post_784': [0.39468264669897046, 0.3844347671309961],\n",
       "             'post_785': [0.39589398215896887,\n",
       "              0.35955019538298505,\n",
       "              0.35847257491899975],\n",
       "             'post_786': [0.33937828540699344],\n",
       "             'post_788': [0.3694417874689837, 0.367243981576978],\n",
       "             'post_789': [0.37279589743399344],\n",
       "             'post_79': [0.4720717484449978, 0.4023734100919958],\n",
       "             'post_790': [0.3758319786869978,\n",
       "              0.37540058418898925,\n",
       "              0.3554231080379814],\n",
       "             'post_791': [0.34867300038299565,\n",
       "              0.3386001535819987,\n",
       "              0.33373334056699155],\n",
       "             'post_792': [0.2928473126599983,\n",
       "              0.3200788936949964,\n",
       "              0.2988603370189964],\n",
       "             'post_793': [0.35998849585498804, 0.36201560382999565],\n",
       "             'post_794': [0.30742117744099584],\n",
       "             'post_795': [0.2862941047439982,\n",
       "              0.35339254545599086,\n",
       "              0.36480924182099994],\n",
       "             'post_796': [0.3468474468209868, 0.2969564782949985],\n",
       "             'post_797': [0.295194773656996],\n",
       "             'post_798': [0.3797090249019843],\n",
       "             'post_799': [0.3725497812779862, 0.38861664617198566],\n",
       "             'post_8': [0.3545253380759954, 0.38817898128799533],\n",
       "             'post_800': [0.37105891766598686, 0.3499999533259812],\n",
       "             'post_802': [0.3827541340999904,\n",
       "              0.3016367606360001,\n",
       "              0.38345450698898487,\n",
       "              0.38727855906897846],\n",
       "             'post_803': [0.36762021735398476, 0.3530150192729974],\n",
       "             'post_804': [0.3385160991909907, 0.2979805514199916],\n",
       "             'post_805': [0.36700373080098747],\n",
       "             'post_806': [0.3652493481359881, 0.42334346384200006],\n",
       "             'post_807': [0.3647322544139906],\n",
       "             'post_808': [0.2897026373549987, 0.34113703158698805],\n",
       "             'post_809': [0.31963511990098514, 0.30961442031899555],\n",
       "             'post_810': [0.3345858288439927,\n",
       "              0.40810060551899985,\n",
       "              0.3835318339319944],\n",
       "             'post_811': [0.3427327908269875],\n",
       "             'post_812': [0.3944300194089957],\n",
       "             'post_813': [0.35276742282999785,\n",
       "              0.37184354432598943,\n",
       "              0.3434536174179874,\n",
       "              0.3613364011719976],\n",
       "             'post_814': [0.3091794014319864],\n",
       "             'post_815': [0.32572706367298465],\n",
       "             'post_817': [0.34702958383799065, 0.2940800058099987],\n",
       "             'post_818': [0.3983545997799909, 0.3656580390469989],\n",
       "             'post_819': [0.3877771778539909,\n",
       "              0.40729547281699807,\n",
       "              0.41461384903599774],\n",
       "             'post_82': [0.376303475037998],\n",
       "             'post_820': [0.3227097592639878,\n",
       "              0.31835266507599547,\n",
       "              0.29661318106699874],\n",
       "             'post_821': [0.36091372043899805,\n",
       "              0.3612846353879876,\n",
       "              0.3568109988829954],\n",
       "             'post_822': [0.3861061173899941],\n",
       "             'post_823': [0.34805964203198825],\n",
       "             'post_824': [0.3542139720449976],\n",
       "             'post_825': [0.264358332001996],\n",
       "             'post_828': [0.3531147951159841],\n",
       "             'post_83': [0.39459372532599823,\n",
       "              0.4484482992009843,\n",
       "              0.4243559204099907],\n",
       "             'post_831': [0.351031261318998],\n",
       "             'post_835': [0.3149713852879964],\n",
       "             'post_839': [0.35795072774399994, 0.3352967487299965],\n",
       "             'post_84': [0.34864051242499816, 0.3371729617489875],\n",
       "             'post_840': [0.35809234130998857],\n",
       "             'post_841': [0.36327454084998356,\n",
       "              0.35632422650498685,\n",
       "              0.34123157290799033],\n",
       "             'post_842': [0.39209859916798373,\n",
       "              0.3720632410549868,\n",
       "              0.4037374658679782],\n",
       "             'post_843': [0.34540860610798696, 0.34528364303497305],\n",
       "             'post_846': [0.3658225061029954],\n",
       "             'post_847': [0.33525594458898667, 0.3446169283959958],\n",
       "             'post_848': [0.39088752428196916,\n",
       "              0.43143294849098435,\n",
       "              0.38961553297699725],\n",
       "             'post_85': [0.35476160500298504,\n",
       "              0.3530477210809957,\n",
       "              0.34659957839598743],\n",
       "             'post_850': [0.3421914493949956, 0.3696995396589904],\n",
       "             'post_853': [0.3601340475329913,\n",
       "              0.3472595579289971,\n",
       "              0.3494032168779867,\n",
       "              0.3593294187089846],\n",
       "             'post_854': [0.4101161992899911,\n",
       "              0.3929009441219853,\n",
       "              0.391946569197987],\n",
       "             'post_855': [0.33359963514198665,\n",
       "              0.33698885186799576,\n",
       "              0.33034805347398744],\n",
       "             'post_858': [0.38746235860298184,\n",
       "              0.38882103345899743,\n",
       "              0.391532812201992],\n",
       "             'post_859': [0.3872798796919871,\n",
       "              0.389147544619985,\n",
       "              0.38449501789898466],\n",
       "             'post_86': [0.3678049703979974],\n",
       "             'post_860': [0.3301761102279911],\n",
       "             'post_861': [0.3391786002949867, 0.3399946509669812],\n",
       "             'post_862': [0.3705093665609699,\n",
       "              0.39470848633999633,\n",
       "              0.38055445359498985,\n",
       "              0.3825342838099851,\n",
       "              0.3739701061559869,\n",
       "              0.31852469236699876],\n",
       "             'post_863': [0.2810562003419942],\n",
       "             'post_864': [0.3779231015729869],\n",
       "             'post_865': [0.40142929109299086],\n",
       "             'post_866': [0.34267568729096953,\n",
       "              0.34992781550598995,\n",
       "              0.3384264016789834,\n",
       "              0.333191885655978],\n",
       "             'post_867': [0.40837843014199526,\n",
       "              0.3972148462769707,\n",
       "              0.39987305635798975,\n",
       "              0.3892328966169867,\n",
       "              0.42031878197099737,\n",
       "              0.4241736550839842,\n",
       "              0.3948007609269909],\n",
       "             'post_870': [0.34970149446499754],\n",
       "             'post_872': [0.34656975108098487, 0.3595962501879839],\n",
       "             'post_873': [0.3290096780799677,\n",
       "              0.317240804525982,\n",
       "              0.32477836247898173,\n",
       "              0.31446775239899727],\n",
       "             'post_874': [0.3601340339189867, 0.3570705514229936],\n",
       "             'post_875': [0.35941934359396976,\n",
       "              0.3699738740859976,\n",
       "              0.36536380256699086,\n",
       "              0.36850602136698674,\n",
       "              0.35025627805499304,\n",
       "              0.3479294793409953,\n",
       "              0.33848252298899995],\n",
       "             'post_876': [0.33729253133698456],\n",
       "             'post_877': [0.3365938047089869],\n",
       "             'post_878': [0.3602006181429901,\n",
       "              0.35002211579698606,\n",
       "              0.36178028437799126,\n",
       "              0.3808808458239946],\n",
       "             'post_88': [0.3026813427959846],\n",
       "             'post_880': [0.36780436421099405, 0.38158236376197896],\n",
       "             'post_883': [0.31038377756899005],\n",
       "             'post_884': [0.4070663601419827],\n",
       "             'post_885': [0.3526829272639975],\n",
       "             'post_886': [0.34943585788499565,\n",
       "              0.37205277663498526,\n",
       "              0.3641531672109851,\n",
       "              0.3735721521349912,\n",
       "              0.3692068496469868,\n",
       "              0.3753284028999846,\n",
       "              0.36582395786197863],\n",
       "             'post_887': [0.3711011138119841,\n",
       "              0.3820716737549882,\n",
       "              0.3754600227549868],\n",
       "             'post_888': [0.34860493132296944,\n",
       "              0.35301606095999016,\n",
       "              0.32420856101399553,\n",
       "              0.34780792449899034],\n",
       "             'post_89': [0.3265103600839847, 0.32784569918699225],\n",
       "             'post_890': [0.35874639652198703],\n",
       "             'post_892': [0.3445003983529895, 0.3357566975699944],\n",
       "             'post_893': [0.35240813963798534, 0.3462274923489853],\n",
       "             'post_894': [0.4236821053099695, 0.4067675285699971],\n",
       "             'post_896': [0.3957758558089829],\n",
       "             'post_897': [0.36684734492799,\n",
       "              0.34265849346998856,\n",
       "              0.3722812183949906],\n",
       "             'post_9': [0.3542000108279876,\n",
       "              0.38051247832397017,\n",
       "              0.37134231103298765,\n",
       "              0.3688046994259866],\n",
       "             'post_90': [0.3492628372979897],\n",
       "             'post_900': [0.33951114543098604,\n",
       "              0.3492225889539844,\n",
       "              0.34819508001899746],\n",
       "             'post_901': [0.3848264042269869,\n",
       "              0.37179191169599635,\n",
       "              0.3926327322009855],\n",
       "             'post_902': [0.3665576275479684],\n",
       "             'post_903': [0.44303730915098827,\n",
       "              0.43618400817499736,\n",
       "              0.39236613774897866],\n",
       "             'post_904': [0.3625496785449819,\n",
       "              0.3380544699389979,\n",
       "              0.3369783522449955],\n",
       "             'post_906': [0.3578486375709977],\n",
       "             'post_907': [0.3853937000919909,\n",
       "              0.36243526569098483,\n",
       "              0.38389651730198804],\n",
       "             'post_908': [0.39927110428298673],\n",
       "             'post_909': [0.35590089012898496],\n",
       "             'post_91': [0.3455073124079866, 0.3644133790849927],\n",
       "             'post_910': [0.3458831024169975],\n",
       "             'post_911': [0.3745368387779967, 0.35338035635499754],\n",
       "             'post_912': [0.34770258656796804,\n",
       "              0.32850181287798674,\n",
       "              0.3436135003439845],\n",
       "             'post_913': [0.3035593908119868],\n",
       "             'post_915': [0.39854450088498394],\n",
       "             'post_917': [0.3836620458829981,\n",
       "              0.3952933891169872,\n",
       "              0.37610512103199034],\n",
       "             'post_918': [0.33783991730298657,\n",
       "              0.3637029726869959,\n",
       "              0.35400880831399606,\n",
       "              0.35243592954699465],\n",
       "             'post_919': [0.3170353200629873],\n",
       "             'post_92': [0.3555116758279886],\n",
       "             'post_920': [0.39307348735598524,\n",
       "              0.37699518228498197,\n",
       "              0.36985868729199756,\n",
       "              0.3658612421529919],\n",
       "             'post_921': [0.35254271144498206,\n",
       "              0.34800995940199764,\n",
       "              0.3425296497639917,\n",
       "              0.338863742311994],\n",
       "             'post_922': [0.3535171671449908,\n",
       "              0.34702819014598174,\n",
       "              0.3472020157059973,\n",
       "              0.33193662666199186,\n",
       "              0.3602651442609912,\n",
       "              0.365583500338988,\n",
       "              0.3622759820379846,\n",
       "              0.3484792920139843],\n",
       "             'post_923': [0.36949911704699634],\n",
       "             'post_924': [0.36738331142999636,\n",
       "              0.3688420073939971,\n",
       "              0.3568981566009787],\n",
       "             'post_925': [0.38471206380498635, 0.39996898128899716],\n",
       "             'post_926': [0.4022193816069839,\n",
       "              0.38582367661399797,\n",
       "              0.3620358338949955],\n",
       "             'post_927': [0.39714625167898465],\n",
       "             'post_929': [0.3807437614039817],\n",
       "             'post_93': [0.34779462554599794, 0.3488947847499979],\n",
       "             'post_94': [0.35620067553399815, 0.3588396587689985],\n",
       "             'post_95': [0.41484881091899417, 0.3533663178089965],\n",
       "             'post_97': [0.3033222982589925, 0.3377645024009944],\n",
       "             'post_98': [0.3527769978869837,\n",
       "              0.3133254579579987,\n",
       "              0.2574472625699977],\n",
       "             'post_99': [0.39298136653998994, 0.38889620357999133]})"
      ]
     },
     "execution_count": 302,
     "metadata": {},
     "output_type": "execute_result"
    }
   ],
   "source": [
    "post_tags_similarities"
   ]
  },
  {
   "cell_type": "code",
   "execution_count": 347,
   "metadata": {
    "collapsed": false
   },
   "outputs": [
    {
     "data": {
      "image/png": "[encoded data removed]",
      "text/plain": [
       "<matplotlib.figure.Figure at 0x222d602d0>"
      ]
     },
     "metadata": {},
     "output_type": "display_data"
    }
   ],
   "source": [
    "post_tags_similarities_average = dict((n, np.mean(x)) if len(x) > 0 else (n, np.nan) for n,x in post_tags_similarities.items())\n",
    "post_tags_similarities_n = dict((n, len(x)) for n,x in post_tags_similarities.items())\n",
    "tmp = plt.hist(post_tags_similarities_average.values(), 50)\n",
    "# spread in post similarity scores seen"
   ]
  },
  {
   "cell_type": "code",
   "execution_count": 349,
   "metadata": {
    "collapsed": false
   },
   "outputs": [
    {
     "data": {
      "text/plain": [
       "[<matplotlib.lines.Line2D at 0x2237b5d50>]"
      ]
     },
     "execution_count": 349,
     "metadata": {},
     "output_type": "execute_result"
    },
    {
     "data": {
      "image/png": "[encoded data removed]",
      "text/plain": [
       "<matplotlib.figure.Figure at 0x21f3b8950>"
      ]
     },
     "metadata": {},
     "output_type": "display_data"
    }
   ],
   "source": [
    "tmp = [(post_tags_similarities_average[post], post_tags_similarities_n[post]) for post in post_tags_similarities_average]\n",
    "plt.plot(np.array([t[1] for t in tmp])+np.random.uniform(size=len(tmp)), [t[0] for t in tmp], '.') \n",
    "# similarity seems not driven by number of tags applied to post"
   ]
  },
  {
   "cell_type": "code",
   "execution_count": 355,
   "metadata": {
    "collapsed": false
   },
   "outputs": [],
   "source": [
    "# get all the tag indicators\n",
    "for c in postsusers.columns.values[12:313]:\n",
    "    postsusers[c] = postsusers[c].notnull().apply(int)"
   ]
  },
  {
   "cell_type": "code",
   "execution_count": null,
   "metadata": {
    "collapsed": true
   },
   "outputs": [],
   "source": [
    "# get the similarity measure in the dataframe"
   ]
  },
  {
   "cell_type": "code",
   "execution_count": null,
   "metadata": {
    "collapsed": true
   },
   "outputs": [],
   "source": [
    "# drop anythting with a missing similarity score"
   ]
  },
  {
   "cell_type": "code",
   "execution_count": 376,
   "metadata": {
    "collapsed": false
   },
   "outputs": [
    {
     "data": {
      "text/plain": [
       "True"
      ]
     },
     "execution_count": 376,
     "metadata": {},
     "output_type": "execute_result"
    }
   ],
   "source": [
    "post\n",
    "#post_tags_similarities_average\n",
    "post_tags_similarities_average['post_'+str(post)]\n",
    "#post_tags_similarities_average\n",
    "'post_'+str(post) in post_tags_similarities_average"
   ]
  },
  {
   "cell_type": "code",
   "execution_count": null,
   "metadata": {
    "collapsed": false
   },
   "outputs": [
    {
     "name": "stderr",
     "output_type": "stream",
     "text": [
      "/Users/schwarls37/anaconda/lib/python2.7/site-packages/ipykernel/__main__.py:4: SettingWithCopyWarning: \n",
      "A value is trying to be set on a copy of a slice from a DataFrame\n",
      "\n",
      "See the caveats in the documentation: http://pandas.pydata.org/pandas-docs/stable/indexing.html#indexing-view-versus-copy\n",
      "/Users/schwarls37/anaconda/lib/python2.7/site-packages/ipykernel/__main__.py:6: SettingWithCopyWarning: \n",
      "A value is trying to be set on a copy of a slice from a DataFrame\n",
      "\n",
      "See the caveats in the documentation: http://pandas.pydata.org/pandas-docs/stable/indexing.html#indexing-view-versus-copy\n"
     ]
    }
   ],
   "source": [
    "tmp = postsusers.date\n",
    "\n",
    "for post in range(len(p[:limit])):\n",
    "    tmp[post] = np.nan\n",
    "    if 'post_'+str(post) in post_tags_similarities_average:\n",
    "        tmp[post] = post_tags_similarities_average['post_'+str(post)]"
   ]
  },
  {
   "cell_type": "code",
   "execution_count": null,
   "metadata": {
    "collapsed": true
   },
   "outputs": [],
   "source": []
  },
  {
   "cell_type": "code",
   "execution_count": 364,
   "metadata": {
    "collapsed": false
   },
   "outputs": [
    {
     "data": {
      "text/plain": [
       "17976"
      ]
     },
     "execution_count": 364,
     "metadata": {},
     "output_type": "execute_result"
    }
   ],
   "source": [
    "len(postsusers[['votes_count_x', 'website_url', 'comments_count', 'num_makers', 'num_topics', 'date', 'collections_count', 'followed_topics_count', 'followers_count', 'followings_count', 'maker_of_count', 'posts_count', 'votes_count_y', 'time_Afternoon', 'time_Evening', 'time_Morning', 'time_Night','day_Friday', 'day_Monday', 'day_Saturday', 'day_Sunday', 'day_Thursday', 'day_Tuesday', 'day_Wednesday']+list(postsusers.columns.values[12:313])].dropna())\n"
   ]
  },
  {
   "cell_type": "code",
   "execution_count": null,
   "metadata": {
    "collapsed": true
   },
   "outputs": [],
   "source": []
  },
  {
   "cell_type": "code",
   "execution_count": 366,
   "metadata": {
    "collapsed": false
   },
   "outputs": [
    {
     "data": {
      "text/plain": [
       "10796"
      ]
     },
     "execution_count": 366,
     "metadata": {},
     "output_type": "execute_result"
    }
   ],
   "source": [
    "len(post_tags_similarities_average)"
   ]
  },
  {
   "cell_type": "code",
   "execution_count": null,
   "metadata": {
    "collapsed": true
   },
   "outputs": [],
   "source": [
    "from sklearn.ensemble import RandomForestRegressor\n",
    "\n",
    "rf = RandomForestRegressor(n_estimators=100, max_features=\"sqrt\")\n"
   ]
  },
  {
   "cell_type": "code",
   "execution_count": null,
   "metadata": {
    "collapsed": true
   },
   "outputs": [],
   "source": [
    "y = postsusers['votes_count_x']\n",
    "X = postsusers[['website_url', 'comments_count', 'num_makers', 'num_topics', 'date', 'collections_count', 'followed_topics_count', 'followers_count', 'followings_count', 'maker_of_count', 'posts_count', 'votes_count_y', 'time_Afternoon', 'time_Evening', 'time_Morning', 'time_Night','day_Friday', 'day_Monday', 'day_Saturday', 'day_Sunday', 'day_Thursday', 'day_Tuesday', 'day_Wednesday']].dropna()"
   ]
  },
  {
   "cell_type": "code",
   "execution_count": null,
   "metadata": {
    "collapsed": true
   },
   "outputs": [],
   "source": [
    "rf.fit(X,y)"
   ]
  },
  {
   "cell_type": "code",
   "execution_count": null,
   "metadata": {
    "collapsed": true
   },
   "outputs": [],
   "source": []
  },
  {
   "cell_type": "code",
   "execution_count": null,
   "metadata": {
    "collapsed": true
   },
   "outputs": [],
   "source": [
    "rf.feature_importances_"
   ]
  },
  {
   "cell_type": "code",
   "execution_count": 35,
   "metadata": {
    "collapsed": false
   },
   "outputs": [
    {
     "data": {
      "text/plain": [
       "[0.40136736617696556,\n",
       " 0.3994280686959656,\n",
       " 0.37344412162996576,\n",
       " 0.388274644754966,\n",
       " 0.40752735711796595,\n",
       " 0.3752346048199656,\n",
       " 0.3972107371389656,\n",
       " 0.4122929570199656,\n",
       " 0.38073641592196594,\n",
       " 0.3922234053799656,\n",
       " 0.40669717750096557,\n",
       " 0.39150416197396576,\n",
       " 0.33775358162796565,\n",
       " 0.3619717218519656,\n",
       " 0.3911533446879656,\n",
       " 0.39744283717496554,\n",
       " 0.39013868478796554,\n",
       " 0.39107538935696595,\n",
       " 0.38950878469496597,\n",
       " 0.4047292682849656,\n",
       " 0.41454808971996515,\n",
       " 0.3885562041199653,\n",
       " 0.41991541046896586,\n",
       " 0.3665962150739658,\n",
       " 0.428651931040966,\n",
       " 0.3362642232909656,\n",
       " 0.4044713378899656,\n",
       " 0.35456766126496586,\n",
       " 0.3628489772739655,\n",
       " 0.3843399365649658,\n",
       " 0.3844320391049656,\n",
       " 0.4498519624499656,\n",
       " 0.4016737907249658,\n",
       " 0.4026825876729655,\n",
       " 0.4162185400359659,\n",
       " 0.4282304697859656,\n",
       " 0.42522818701296594,\n",
       " 0.35292359725796596,\n",
       " 0.3361246792439656,\n",
       " 0.4418405986089655,\n",
       " 0.4103660692559652,\n",
       " 0.406734853604966,\n",
       " 0.38467180991996597,\n",
       " 0.36861976576196553,\n",
       " 0.35370622926996564,\n",
       " 0.38271613039396557,\n",
       " 0.3673129378579656,\n",
       " 0.410816848938966,\n",
       " 0.3597221373959656,\n",
       " 0.40249233194696554,\n",
       " 0.3697798532639657,\n",
       " 0.41338609314596597,\n",
       " 0.3898245063729656,\n",
       " 0.42815208984196607,\n",
       " 0.41253978028996596,\n",
       " 0.40411369194396596,\n",
       " 0.3802633132219657,\n",
       " 0.2972189925469655,\n",
       " 0.3422171326229655,\n",
       " 0.38848983158596573,\n",
       " 0.4142497633429656,\n",
       " 0.38544402368096586,\n",
       " 0.31942179098696555,\n",
       " 0.39992313998396556,\n",
       " 0.3499177673009658,\n",
       " 0.3651254125579657,\n",
       " 0.40429336284396555,\n",
       " 0.42034888057096564,\n",
       " 0.3638850429349656,\n",
       " 0.4033934055759656,\n",
       " 0.3860311883069659,\n",
       " 0.38930301494596553,\n",
       " 0.41462834018396555,\n",
       " 0.3431396914579655,\n",
       " 0.34103548878596557,\n",
       " 0.4215785686679656,\n",
       " 0.41578569671896526,\n",
       " 0.34633154799996557,\n",
       " 0.377683122417966,\n",
       " 0.40038267391396565,\n",
       " 0.4042466983809655,\n",
       " 0.31375963727096556,\n",
       " 0.3818492019879658,\n",
       " 0.4066253694319658,\n",
       " 0.36715687500796557,\n",
       " 0.36643446304996563,\n",
       " 0.4088794145959652,\n",
       " 0.39009572619696564,\n",
       " 0.3243889929099656,\n",
       " 0.3407204794369656,\n",
       " 0.3682685840829656,\n",
       " 0.3661150227339658,\n",
       " 0.3765641758569652,\n",
       " 0.3765379803549659,\n",
       " 0.37516957488196556,\n",
       " 0.40193549322696553,\n",
       " 0.3470362186739656,\n",
       " 0.35743960339196557,\n",
       " 0.36546307061796557,\n",
       " 0.3819296014599656,\n",
       " 0.34584665016996563,\n",
       " 0.4070802230519651,\n",
       " 0.39421650870396574,\n",
       " 0.37024145441196565,\n",
       " 0.3789823913489656,\n",
       " 0.38550111774496576,\n",
       " 0.3593146106869656,\n",
       " 0.36557519184696596,\n",
       " 0.3762011126549655,\n",
       " 0.39398982489896583,\n",
       " 0.3976708309279656,\n",
       " 0.37601171458896576,\n",
       " 0.3636100003099656,\n",
       " 0.3961857820199657,\n",
       " 0.36037708769496557,\n",
       " 0.398700369962966,\n",
       " 0.38039211680996565,\n",
       " 0.4133311905299656,\n",
       " 0.37715690417196557,\n",
       " 0.3504387074929656,\n",
       " 0.37603089173996584,\n",
       " 0.3942988740149658,\n",
       " 0.40955668484096586,\n",
       " 0.3745794842769655,\n",
       " 0.3695659015369658,\n",
       " 0.38342495038196556,\n",
       " 0.39823185804896566,\n",
       " 0.32833910825196555,\n",
       " 0.39904488421896556,\n",
       " 0.34332197967096567,\n",
       " 0.39053260031396597,\n",
       " 0.3911693569849656,\n",
       " 0.3842396728069658,\n",
       " 0.4310551934019653,\n",
       " 0.41484292446896553,\n",
       " 0.3187873832679655,\n",
       " 0.3743475054619656,\n",
       " 0.39368122159996566,\n",
       " 0.3829095038529656,\n",
       " 0.3974707080999652,\n",
       " 0.41185225125096525,\n",
       " 0.40339713264696575,\n",
       " 0.3572472237029659,\n",
       " 0.3816323742639658,\n",
       " 0.4152208954739657,\n",
       " 0.36738285120996583,\n",
       " 0.40342045705396556,\n",
       " 0.3585032155029655,\n",
       " 0.36247286040896576,\n",
       " 0.36319992456296557,\n",
       " 0.38748699446796575,\n",
       " 0.39409157255596583]"
      ]
     },
     "execution_count": 35,
     "metadata": {},
     "output_type": "execute_result"
    }
   ],
   "source": [
    "fig, axes = plt.subplots(nrows=1, ncols=2, figsize=(9, 4))\n",
    "\n",
    "# generate some random test data\n",
    "all_data = [np.random.normal(0, std, 100) for std in range(6, 10)]\n",
    "\n",
    "# plot violin plot\n",
    "axes[0].violinplot(all_data,\n",
    "                   showmeans=False,\n",
    "                   showmedians=True)\n",
    "axes[0].set_title('violin plot')"
   ]
  },
  {
   "cell_type": "code",
   "execution_count": null,
   "metadata": {
    "collapsed": true
   },
   "outputs": [],
   "source": []
  },
  {
   "cell_type": "code",
   "execution_count": null,
   "metadata": {
    "collapsed": true
   },
   "outputs": [],
   "source": []
  },
  {
   "cell_type": "code",
   "execution_count": 146,
   "metadata": {
    "collapsed": false
   },
   "outputs": [],
   "source": [
    "terms_lists = (textacy_documents[tag].to_terms_list(ngrams=1, named_entities=True, as_strings=True) for tag in tags)"
   ]
  },
  {
   "cell_type": "code",
   "execution_count": 147,
   "metadata": {
    "collapsed": false
   },
   "outputs": [
    {
     "data": {
      "text/plain": [
       "<generator object <genexpr> at 0x18e0a35a0>"
      ]
     },
     "execution_count": 147,
     "metadata": {},
     "output_type": "execute_result"
    }
   ],
   "source": [
    "terms_lists"
   ]
  },
  {
   "cell_type": "code",
   "execution_count": 148,
   "metadata": {
    "collapsed": false
   },
   "outputs": [
    {
     "data": {
      "text/plain": [
       "<228x1000 sparse matrix of type '<type 'numpy.float64'>'\n",
       "\twith 11597 stored elements in Compressed Sparse Row format>"
      ]
     },
     "execution_count": 148,
     "metadata": {},
     "output_type": "execute_result"
    }
   ],
   "source": [
    "doc_term_matrix, id2term = textacy.vsm.doc_term_matrix(\n",
    "    terms_lists, weighting='tfidf', normalize=True, smooth_idf=True, min_df=3, max_df=0.95, max_n_terms=1000)"
   ]
  },
  {
   "cell_type": "code",
   "execution_count": 155,
   "metadata": {
    "collapsed": false
   },
   "outputs": [],
   "source": [
    "#textacy.math_utils.cosine_similarity(doc_term_matrix[0], doc_term_matrix[1])\n",
    "tmp = doc_term_matrix[1]"
   ]
  },
  {
   "cell_type": "code",
   "execution_count": 159,
   "metadata": {
    "collapsed": false
   },
   "outputs": [
    {
     "ename": "AttributeError",
     "evalue": "'function' object has no attribute 'dot'",
     "output_type": "error",
     "traceback": [
      "\u001b[0;31m--------------------------------------------------------------------\u001b[0m",
      "\u001b[0;31mAttributeError\u001b[0m                     Traceback (most recent call last)",
      "\u001b[0;32m<ipython-input-159-b3a30dd6e0d7>\u001b[0m in \u001b[0;36m<module>\u001b[0;34m()\u001b[0m\n\u001b[1;32m      1\u001b[0m \u001b[0;31m#tmp.dot(tmp)\u001b[0m\u001b[0;34m\u001b[0m\u001b[0;34m\u001b[0m\u001b[0m\n\u001b[0;32m----> 2\u001b[0;31m \u001b[0mtmp\u001b[0m\u001b[0;34m.\u001b[0m\u001b[0mtranspose\u001b[0m\u001b[0;34m.\u001b[0m\u001b[0mdot\u001b[0m\u001b[0;34m(\u001b[0m\u001b[0mtmp\u001b[0m\u001b[0;34m)\u001b[0m\u001b[0;34m\u001b[0m\u001b[0m\n\u001b[0m",
      "\u001b[0;31mAttributeError\u001b[0m: 'function' object has no attribute 'dot'"
     ]
    }
   ],
   "source": [
    "#tmp.dot(tmp)\n",
    "tmp.transpose.dot(tmp)"
   ]
  },
  {
   "cell_type": "code",
   "execution_count": 154,
   "metadata": {
    "collapsed": true
   },
   "outputs": [],
   "source": [
    "import scipy as sp"
   ]
  },
  {
   "cell_type": "code",
   "execution_count": null,
   "metadata": {
    "collapsed": true
   },
   "outputs": [],
   "source": [
    "\n",
    "scipy.sparse.csc_matrix.dot"
   ]
  },
  {
   "cell_type": "code",
   "execution_count": 50,
   "metadata": {
    "collapsed": false
   },
   "outputs": [
    {
     "data": {
      "text/plain": [
       "<generator object to_terms_list at 0x180755550>"
      ]
     },
     "execution_count": 50,
     "metadata": {},
     "output_type": "execute_result"
    }
   ],
   "source": [
    "documents['bots'].to_terms_list(ngrams=1, named_entities=True, as_strings=True)"
   ]
  }
 ],
 "metadata": {
  "anaconda-cloud": {},
  "kernelspec": {
   "display_name": "Python [Root]",
   "language": "python",
   "name": "Python [Root]"
  },
  "language_info": {
   "codemirror_mode": {
    "name": "ipython",
    "version": 2
   },
   "file_extension": ".py",
   "mimetype": "text/x-python",
   "name": "python",
   "nbconvert_exporter": "python",
   "pygments_lexer": "ipython2",
   "version": "2.7.12"
  }
 },
 "nbformat": 4,
 "nbformat_minor": 0
}
