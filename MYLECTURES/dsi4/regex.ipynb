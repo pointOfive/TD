{
 "cells": [
  {
   "cell_type": "code",
   "execution_count": 2,
   "metadata": {
    "collapsed": false
   },
   "outputs": [
    {
     "name": "stdout",
     "output_type": "stream",
     "text": [
      "abcdef\n",
      "abc\n"
     ]
    }
   ],
   "source": [
    "import re\n",
    "# re.search(regular_expression, text_to_search_through)\n",
    "# parenthesis indicate a capture group\n",
    "m = re.search('(abc)def', 'abcdef')\n",
    "print m.group(0)\n",
    "print m.group(1)"
   ]
  },
  {
   "cell_type": "code",
   "execution_count": 6,
   "metadata": {
    "collapsed": false
   },
   "outputs": [
    {
     "name": "stdout",
     "output_type": "stream",
     "text": [
      "abc\n",
      "abc\n",
      "abcdef\n",
      "abc\n"
     ]
    }
   ],
   "source": [
    "# \\w indicates an alphanumeric character\n",
    "# + indicated one or more instances of the previous item\n",
    "# \\w+ would match one or more instances of alphanumeric character(s)\n",
    "m = re.search('(\\w+)def', 'abcdef')\n",
    "print m.group(1)\n",
    "print m.group(1)\n",
    "m = re.search('(\\w+)\\w\\w\\w', 'abcdef')\n",
    "print m.group(0)\n",
    "print m.group(1)"
   ]
  },
  {
   "cell_type": "code",
   "execution_count": 16,
   "metadata": {
    "collapsed": false
   },
   "outputs": [
    {
     "name": "stdout",
     "output_type": "stream",
     "text": [
      "('12', 'abc', '45')\n",
      "('23', 'def', '99')\n"
     ]
    }
   ],
   "source": [
    "# \\d indicates a digit\n",
    "# {<number>} indicates exactly <number> of the previous items\n",
    "# . is like a wildcard that matches anything\n",
    "my_string = \"12-abc-45\\n\\\n",
    "             23-def-99\"\n",
    "m = re.findall('(\\d{2})-(.{3})-(\\d\\d)', my_string)\n",
    "print m[0]\n",
    "print m[1]"
   ]
  },
  {
   "cell_type": "code",
   "execution_count": 20,
   "metadata": {
    "collapsed": false
   },
   "outputs": [
    {
     "name": "stdout",
     "output_type": "stream",
     "text": [
      "('12', 'c', '45')\n",
      "('2', 'def', '99')\n"
     ]
    }
   ],
   "source": [
    "#{<min>,<max>} indicates a range for the number of the previous item (at least min, at most max)\n",
    "my_string = \"12-c-45\\n\\\n",
    "             2-def-99\"\n",
    "m = re.findall('(\\d{1,2})-(.+)-(\\d\\d)', my_string)\n",
    "print m[0]\n",
    "print m[1]"
   ]
  },
  {
   "cell_type": "code",
   "execution_count": 30,
   "metadata": {
    "collapsed": false
   },
   "outputs": [
    {
     "name": "stdout",
     "output_type": "stream",
     "text": [
      "['2']\n"
     ]
    }
   ],
   "source": [
    "# \\1 references the first capture group\n",
    "my_string = \"2c2\\\n",
    "            13j12\\\n",
    "            49k48\"\n",
    "m = re.findall(r'(\\d)\\w\\1', my_string)\n",
    "print m"
   ]
  },
  {
   "cell_type": "code",
   "execution_count": 35,
   "metadata": {
    "collapsed": false
   },
   "outputs": [],
   "source": [
    "import urllib2\n",
    "url ='https://www.indeed.com/jobs?q=data+scientist&l=Austin%2C+TX'\n",
    "response = urllib2.urlopen(url)\n",
    "html = response.read()\n",
    "# print html.find(\"location\")"
   ]
  },
  {
   "cell_type": "code",
   "execution_count": 38,
   "metadata": {
    "collapsed": false
   },
   "outputs": [
    {
     "data": {
      "text/plain": [
       "10"
      ]
     },
     "execution_count": 38,
     "metadata": {},
     "output_type": "execute_result"
    }
   ],
   "source": [
    "my_re = '<span itemprop=\"addressLocality\">(.+?)</span>'\n",
    "m = re.findall(my_re, html, re.DOTALL)\n",
    "len(m)"
   ]
  },
  {
   "cell_type": "code",
   "execution_count": 34,
   "metadata": {
    "collapsed": false
   },
   "outputs": [
    {
     "data": {
      "text/plain": [
       "['Austin, TX',\n",
       " 'Austin, TX',\n",
       " 'Austin, TX',\n",
       " 'Austin, TX',\n",
       " 'Austin, TX 73344',\n",
       " 'Austin, TX 78716',\n",
       " 'Austin, TX 78759 <span style=\"font-size: smaller\">(Arboretum area)',\n",
       " 'Austin, TX',\n",
       " 'Austin, TX',\n",
       " 'Austin, TX']"
      ]
     },
     "execution_count": 34,
     "metadata": {},
     "output_type": "execute_result"
    }
   ],
   "source": [
    "m"
   ]
  },
  {
   "cell_type": "code",
   "execution_count": 42,
   "metadata": {
    "collapsed": false
   },
   "outputs": [
    {
     "name": "stdout",
     "output_type": "stream",
     "text": [
      "[]\n"
     ]
    }
   ],
   "source": [
    "# practice problems\n",
    "sent = 'My name is John.  His name is Fred.  Her name is Sam.'\n",
    "regex = r'z'\n",
    "m = re.findall(regex, sent)\n",
    "print m"
   ]
  },
  {
   "cell_type": "code",
   "execution_count": 47,
   "metadata": {
    "collapsed": false
   },
   "outputs": [
    {
     "name": "stdout",
     "output_type": "stream",
     "text": [
      "['Sam', 'Susan', 'Samantha']\n"
     ]
    }
   ],
   "source": [
    "# practice problems\n",
    "sent = 'Bob, Sam, John, Susan, Fred, Jim, George, Samantha, Jessica'\n",
    "regex = r'z'\n",
    "m = re.findall(regex, sent)\n",
    "print m"
   ]
  },
  {
   "cell_type": "code",
   "execution_count": 45,
   "metadata": {
    "collapsed": false
   },
   "outputs": [
    {
     "name": "stdout",
     "output_type": "stream",
     "text": [
      "['3', '2', '4']\n"
     ]
    }
   ],
   "source": [
    "# practice problems\n",
    "sent = 'I have 3 bitcoins.  You have 2 dollars. She has 4 yen.'\n",
    "regex = r'z'\n",
    "m = re.findall(regex, sent)\n",
    "print m"
   ]
  },
  {
   "cell_type": "code",
   "execution_count": null,
   "metadata": {
    "collapsed": true
   },
   "outputs": [],
   "source": [
    ".\n",
    ".\n",
    ".\n",
    ".\n",
    ".\n",
    ".\n",
    ".\n",
    ".\n",
    ".\n",
    ".\n",
    ".\n",
    ".\n",
    ".\n",
    ".\n",
    ".\n",
    ".\n",
    ".\n",
    ".\n",
    "//possible solutions\n",
    "regex = r'\\s(\\w+)\\.'\n",
    "regex = r'(S\\w+),'\n",
    "regex = r'(have|has) (\\d+)'"
   ]
  }
 ],
 "metadata": {
  "kernelspec": {
   "display_name": "Python 2",
   "language": "python",
   "name": "python2"
  },
  "language_info": {
   "codemirror_mode": {
    "name": "ipython",
    "version": 2
   },
   "file_extension": ".py",
   "mimetype": "text/x-python",
   "name": "python",
   "nbconvert_exporter": "python",
   "pygments_lexer": "ipython2",
   "version": "2.7.13"
  }
 },
 "nbformat": 4,
 "nbformat_minor": 2
}
