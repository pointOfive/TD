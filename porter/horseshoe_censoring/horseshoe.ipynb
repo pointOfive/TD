{
 "cells": [
  {
   "cell_type": "code",
   "execution_count": 1,
   "metadata": {},
   "outputs": [],
   "source": [
    "import pymc3 as pm\n",
    "import numpy as np\n",
    "from scipy import stats\n",
    "from scipy.special import expit as invlogit\n",
    "import matplotlib.pyplot as plt\n",
    "from pymc3.math import invlogit as tt_invlogit"
   ]
  },
  {
   "cell_type": "markdown",
   "metadata": {},
   "source": [
    "# V1: Horseshoe Prior"
   ]
  },
  {
   "cell_type": "code",
   "execution_count": 2,
   "metadata": {},
   "outputs": [
    {
     "data": {
      "text/plain": [
       "[<matplotlib.lines.Line2D at 0x7f97295eb4f0>]"
      ]
     },
     "execution_count": 2,
     "metadata": {},
     "output_type": "execute_result"
    },
    {
     "data": {
      "image/png": "[encoded data removed]",
      "text/plain": [
       "<Figure size 432x288 with 1 Axes>"
      ]
     },
     "metadata": {
      "needs_background": "light"
     },
     "output_type": "display_data"
    }
   ],
   "source": [
    "# non-zero coefs\n",
    "K=100\n",
    "# coefficients \"weights\" w (beta is reserved for the Half-Cauchy parameter below)\n",
    "w = np.arange(1,K+1)/K\n",
    "# noise coeffs\n",
    "Q = 100\n",
    "w = np.concatenate([np.zeros((1,Q)), w[np.newaxis,:]], axis=1).flatten()\n",
    "plt.plot(w)"
   ]
  },
  {
   "cell_type": "code",
   "execution_count": 3,
   "metadata": {},
   "outputs": [
    {
     "data": {
      "text/plain": [
       "(1000, 200)"
      ]
     },
     "execution_count": 3,
     "metadata": {},
     "output_type": "execute_result"
    }
   ],
   "source": [
    "# number of subpopulations\n",
    "P=1000\n",
    "# randomly assigned characteristics\n",
    "X = stats.bernoulli(p=0.5).rvs(size=(K+Q)*P).reshape(P,(K+Q))\n",
    "X.shape"
   ]
  },
  {
   "cell_type": "code",
   "execution_count": 4,
   "metadata": {},
   "outputs": [
    {
     "data": {
      "text/plain": [
       "[<matplotlib.lines.Line2D at 0x7f97189c0550>]"
      ]
     },
     "execution_count": 4,
     "metadata": {},
     "output_type": "execute_result"
    },
    {
     "data": {
      "image/png": "[encoded data removed]",
      "text/plain": [
       "<Figure size 432x288 with 1 Axes>"
      ]
     },
     "metadata": {
      "needs_background": "light"
     },
     "output_type": "display_data"
    }
   ],
   "source": [
    "# sample size per subpopulation\n",
    "N = 100\n",
    "# fixed and assumed known intercept\n",
    "THETA=-25\n",
    "x = stats.binom(p=invlogit(THETA+X@w), n=[N]*P).rvs()\n",
    "plt.plot(sorted(x))"
   ]
  },
  {
   "cell_type": "markdown",
   "metadata": {},
   "source": [
    "Half-Cauchy ($HC_+$): $$f(x \\mid \\beta) = \\frac{2\\cdot 1_{[x>=0]}(x)}{\\pi \\beta \\left[1 + \\left(\\frac{x}{\\beta}\\right)^2\\right]} $$\n",
    "\n",
    "Horseshoe Prior ($HSP$): \n",
    "\\begin{align*}\n",
    "w_i|\\tau &\\sim N(0, \\sigma^2=\\lambda_i^2\\tau^2)\\\\\n",
    "\\lambda_i &\\sim HC_+(0,1)\\\\\n",
    "\\tau &\\sim HC_+(0,\\tau_0)\n",
    "\\end{align*}\n",
    "\n",
    "\n",
    "\n",
    "https://faculty.mccombs.utexas.edu/carlos.carvalho/Carvalhoetal2009.pdf"
   ]
  },
  {
   "cell_type": "code",
   "execution_count": 5,
   "metadata": {},
   "outputs": [
    {
     "data": {
      "text/plain": [
       "[<matplotlib.lines.Line2D at 0x7f971899b130>]"
      ]
     },
     "execution_count": 5,
     "metadata": {},
     "output_type": "execute_result"
    },
    {
     "data": {
      "image/png": "[encoded data removed]",
      "text/plain": [
       "<Figure size 432x288 with 1 Axes>"
      ]
     },
     "metadata": {
      "needs_background": "light"
     },
     "output_type": "display_data"
    }
   ],
   "source": [
    "support = np.linspace(0,5,1000)\n",
    "# posterior variance contribution from prior\n",
    "shrinkage = 1/(1+support**2)\n",
    "plt.plot(support, shrinkage)"
   ]
  },
  {
   "cell_type": "code",
   "execution_count": 6,
   "metadata": {},
   "outputs": [
    {
     "name": "stderr",
     "output_type": "stream",
     "text": [
      "Auto-assigning NUTS sampler...\n",
      "Initializing NUTS using jitter+adapt_diag...\n",
      "Multiprocess sampling (4 chains in 4 jobs)\n",
      "NUTS: [weights, lambdas, tau]\n"
     ]
    },
    {
     "data": {
      "text/html": [
       "\n",
       "    <div>\n",
       "        <style>\n",
       "            /* Turns off some styling */\n",
       "            progress {\n",
       "                /* gets rid of default border in Firefox and Opera. */\n",
       "                border: none;\n",
       "                /* Needs to be in here for Safari polyfill so background images work as expected. */\n",
       "                background-size: auto;\n",
       "            }\n",
       "            .progress-bar-interrupted, .progress-bar-interrupted::-webkit-progress-bar {\n",
       "                background: #F44336;\n",
       "            }\n",
       "        </style>\n",
       "      <progress value='782' class='' max='8000' style='width:300px; height:20px; vertical-align: middle;'></progress>\n",
       "      9.78% [782/8000 01:16<11:45 Sampling 4 chains, 0 divergences]\n",
       "    </div>\n",
       "    "
      ],
      "text/plain": [
       "<IPython.core.display.HTML object>"
      ]
     },
     "metadata": {},
     "output_type": "display_data"
    },
    {
     "ename": "ValueError",
     "evalue": "Not enough samples to build a trace.",
     "output_type": "error",
     "traceback": [
      "\u001b[0;31m---------------------------------------------------------------------------\u001b[0m",
      "\u001b[0;31mKeyboardInterrupt\u001b[0m                         Traceback (most recent call last)",
      "\u001b[0;32m~/opt/anaconda3/envs/PyMC/lib/python3.8/site-packages/pymc3/sampling.py\u001b[0m in \u001b[0;36m_mp_sample\u001b[0;34m(draws, tune, step, chains, cores, chain, random_seed, start, progressbar, trace, model, callback, discard_tuned_samples, mp_ctx, pickle_backend, **kwargs)\u001b[0m\n\u001b[1;32m   1485\u001b[0m             \u001b[0;32mwith\u001b[0m \u001b[0msampler\u001b[0m\u001b[0;34m:\u001b[0m\u001b[0;34m\u001b[0m\u001b[0;34m\u001b[0m\u001b[0m\n\u001b[0;32m-> 1486\u001b[0;31m                 \u001b[0;32mfor\u001b[0m \u001b[0mdraw\u001b[0m \u001b[0;32min\u001b[0m \u001b[0msampler\u001b[0m\u001b[0;34m:\u001b[0m\u001b[0;34m\u001b[0m\u001b[0;34m\u001b[0m\u001b[0m\n\u001b[0m\u001b[1;32m   1487\u001b[0m                     \u001b[0mtrace\u001b[0m \u001b[0;34m=\u001b[0m \u001b[0mtraces\u001b[0m\u001b[0;34m[\u001b[0m\u001b[0mdraw\u001b[0m\u001b[0;34m.\u001b[0m\u001b[0mchain\u001b[0m \u001b[0;34m-\u001b[0m \u001b[0mchain\u001b[0m\u001b[0;34m]\u001b[0m\u001b[0;34m\u001b[0m\u001b[0;34m\u001b[0m\u001b[0m\n",
      "\u001b[0;32m~/opt/anaconda3/envs/PyMC/lib/python3.8/site-packages/pymc3/parallel_sampling.py\u001b[0m in \u001b[0;36m__iter__\u001b[0;34m(self)\u001b[0m\n\u001b[1;32m    491\u001b[0m         \u001b[0;32mwhile\u001b[0m \u001b[0mself\u001b[0m\u001b[0;34m.\u001b[0m\u001b[0m_active\u001b[0m\u001b[0;34m:\u001b[0m\u001b[0;34m\u001b[0m\u001b[0;34m\u001b[0m\u001b[0m\n\u001b[0;32m--> 492\u001b[0;31m             \u001b[0mdraw\u001b[0m \u001b[0;34m=\u001b[0m \u001b[0mProcessAdapter\u001b[0m\u001b[0;34m.\u001b[0m\u001b[0mrecv_draw\u001b[0m\u001b[0;34m(\u001b[0m\u001b[0mself\u001b[0m\u001b[0;34m.\u001b[0m\u001b[0m_active\u001b[0m\u001b[0;34m)\u001b[0m\u001b[0;34m\u001b[0m\u001b[0;34m\u001b[0m\u001b[0m\n\u001b[0m\u001b[1;32m    493\u001b[0m             \u001b[0mproc\u001b[0m\u001b[0;34m,\u001b[0m \u001b[0mis_last\u001b[0m\u001b[0;34m,\u001b[0m \u001b[0mdraw\u001b[0m\u001b[0;34m,\u001b[0m \u001b[0mtuning\u001b[0m\u001b[0;34m,\u001b[0m \u001b[0mstats\u001b[0m\u001b[0;34m,\u001b[0m \u001b[0mwarns\u001b[0m \u001b[0;34m=\u001b[0m \u001b[0mdraw\u001b[0m\u001b[0;34m\u001b[0m\u001b[0;34m\u001b[0m\u001b[0m\n",
      "\u001b[0;32m~/opt/anaconda3/envs/PyMC/lib/python3.8/site-packages/pymc3/parallel_sampling.py\u001b[0m in \u001b[0;36mrecv_draw\u001b[0;34m(processes, timeout)\u001b[0m\n\u001b[1;32m    351\u001b[0m         \u001b[0mpipes\u001b[0m \u001b[0;34m=\u001b[0m \u001b[0;34m[\u001b[0m\u001b[0mproc\u001b[0m\u001b[0;34m.\u001b[0m\u001b[0m_msg_pipe\u001b[0m \u001b[0;32mfor\u001b[0m \u001b[0mproc\u001b[0m \u001b[0;32min\u001b[0m \u001b[0mprocesses\u001b[0m\u001b[0;34m]\u001b[0m\u001b[0;34m\u001b[0m\u001b[0;34m\u001b[0m\u001b[0m\n\u001b[0;32m--> 352\u001b[0;31m         \u001b[0mready\u001b[0m \u001b[0;34m=\u001b[0m \u001b[0mmultiprocessing\u001b[0m\u001b[0;34m.\u001b[0m\u001b[0mconnection\u001b[0m\u001b[0;34m.\u001b[0m\u001b[0mwait\u001b[0m\u001b[0;34m(\u001b[0m\u001b[0mpipes\u001b[0m\u001b[0;34m)\u001b[0m\u001b[0;34m\u001b[0m\u001b[0;34m\u001b[0m\u001b[0m\n\u001b[0m\u001b[1;32m    353\u001b[0m         \u001b[0;32mif\u001b[0m \u001b[0;32mnot\u001b[0m \u001b[0mready\u001b[0m\u001b[0;34m:\u001b[0m\u001b[0;34m\u001b[0m\u001b[0;34m\u001b[0m\u001b[0m\n",
      "\u001b[0;32m~/opt/anaconda3/envs/PyMC/lib/python3.8/multiprocessing/connection.py\u001b[0m in \u001b[0;36mwait\u001b[0;34m(object_list, timeout)\u001b[0m\n\u001b[1;32m    930\u001b[0m             \u001b[0;32mwhile\u001b[0m \u001b[0;32mTrue\u001b[0m\u001b[0;34m:\u001b[0m\u001b[0;34m\u001b[0m\u001b[0;34m\u001b[0m\u001b[0m\n\u001b[0;32m--> 931\u001b[0;31m                 \u001b[0mready\u001b[0m \u001b[0;34m=\u001b[0m \u001b[0mselector\u001b[0m\u001b[0;34m.\u001b[0m\u001b[0mselect\u001b[0m\u001b[0;34m(\u001b[0m\u001b[0mtimeout\u001b[0m\u001b[0;34m)\u001b[0m\u001b[0;34m\u001b[0m\u001b[0;34m\u001b[0m\u001b[0m\n\u001b[0m\u001b[1;32m    932\u001b[0m                 \u001b[0;32mif\u001b[0m \u001b[0mready\u001b[0m\u001b[0;34m:\u001b[0m\u001b[0;34m\u001b[0m\u001b[0;34m\u001b[0m\u001b[0m\n",
      "\u001b[0;32m~/opt/anaconda3/envs/PyMC/lib/python3.8/selectors.py\u001b[0m in \u001b[0;36mselect\u001b[0;34m(self, timeout)\u001b[0m\n\u001b[1;32m    414\u001b[0m         \u001b[0;32mtry\u001b[0m\u001b[0;34m:\u001b[0m\u001b[0;34m\u001b[0m\u001b[0;34m\u001b[0m\u001b[0m\n\u001b[0;32m--> 415\u001b[0;31m             \u001b[0mfd_event_list\u001b[0m \u001b[0;34m=\u001b[0m \u001b[0mself\u001b[0m\u001b[0;34m.\u001b[0m\u001b[0m_selector\u001b[0m\u001b[0;34m.\u001b[0m\u001b[0mpoll\u001b[0m\u001b[0;34m(\u001b[0m\u001b[0mtimeout\u001b[0m\u001b[0;34m)\u001b[0m\u001b[0;34m\u001b[0m\u001b[0;34m\u001b[0m\u001b[0m\n\u001b[0m\u001b[1;32m    416\u001b[0m         \u001b[0;32mexcept\u001b[0m \u001b[0mInterruptedError\u001b[0m\u001b[0;34m:\u001b[0m\u001b[0;34m\u001b[0m\u001b[0;34m\u001b[0m\u001b[0m\n",
      "\u001b[0;31mKeyboardInterrupt\u001b[0m: ",
      "\nDuring handling of the above exception, another exception occurred:\n",
      "\u001b[0;31mValueError\u001b[0m                                Traceback (most recent call last)",
      "\u001b[0;32m<ipython-input-6-a495807e6cb2>\u001b[0m in \u001b[0;36m<module>\u001b[0;34m\u001b[0m\n\u001b[1;32m      9\u001b[0m \u001b[0;34m\u001b[0m\u001b[0m\n\u001b[1;32m     10\u001b[0m \u001b[0;32mwith\u001b[0m \u001b[0mmod\u001b[0m\u001b[0;34m:\u001b[0m\u001b[0;34m\u001b[0m\u001b[0;34m\u001b[0m\u001b[0m\n\u001b[0;32m---> 11\u001b[0;31m     \u001b[0mposterior\u001b[0m \u001b[0;34m=\u001b[0m \u001b[0mpm\u001b[0m\u001b[0;34m.\u001b[0m\u001b[0msample\u001b[0m\u001b[0;34m(\u001b[0m\u001b[0;34m)\u001b[0m\u001b[0;34m\u001b[0m\u001b[0;34m\u001b[0m\u001b[0m\n\u001b[0m",
      "\u001b[0;32m~/opt/anaconda3/envs/PyMC/lib/python3.8/site-packages/pymc3/sampling.py\u001b[0m in \u001b[0;36msample\u001b[0;34m(draws, step, init, n_init, start, trace, chain_idx, chains, cores, tune, progressbar, model, random_seed, discard_tuned_samples, compute_convergence_checks, callback, return_inferencedata, idata_kwargs, mp_ctx, pickle_backend, **kwargs)\u001b[0m\n\u001b[1;32m    543\u001b[0m         \u001b[0m_print_step_hierarchy\u001b[0m\u001b[0;34m(\u001b[0m\u001b[0mstep\u001b[0m\u001b[0;34m)\u001b[0m\u001b[0;34m\u001b[0m\u001b[0;34m\u001b[0m\u001b[0m\n\u001b[1;32m    544\u001b[0m         \u001b[0;32mtry\u001b[0m\u001b[0;34m:\u001b[0m\u001b[0;34m\u001b[0m\u001b[0;34m\u001b[0m\u001b[0m\n\u001b[0;32m--> 545\u001b[0;31m             \u001b[0mtrace\u001b[0m \u001b[0;34m=\u001b[0m \u001b[0m_mp_sample\u001b[0m\u001b[0;34m(\u001b[0m\u001b[0;34m**\u001b[0m\u001b[0msample_args\u001b[0m\u001b[0;34m,\u001b[0m \u001b[0;34m**\u001b[0m\u001b[0mparallel_args\u001b[0m\u001b[0;34m)\u001b[0m\u001b[0;34m\u001b[0m\u001b[0;34m\u001b[0m\u001b[0m\n\u001b[0m\u001b[1;32m    546\u001b[0m         \u001b[0;32mexcept\u001b[0m \u001b[0mpickle\u001b[0m\u001b[0;34m.\u001b[0m\u001b[0mPickleError\u001b[0m\u001b[0;34m:\u001b[0m\u001b[0;34m\u001b[0m\u001b[0;34m\u001b[0m\u001b[0m\n\u001b[1;32m    547\u001b[0m             \u001b[0m_log\u001b[0m\u001b[0;34m.\u001b[0m\u001b[0mwarning\u001b[0m\u001b[0;34m(\u001b[0m\u001b[0;34m\"Could not pickle model, sampling singlethreaded.\"\u001b[0m\u001b[0;34m)\u001b[0m\u001b[0;34m\u001b[0m\u001b[0;34m\u001b[0m\u001b[0m\n",
      "\u001b[0;32m~/opt/anaconda3/envs/PyMC/lib/python3.8/site-packages/pymc3/sampling.py\u001b[0m in \u001b[0;36m_mp_sample\u001b[0;34m(draws, tune, step, chains, cores, chain, random_seed, start, progressbar, trace, model, callback, discard_tuned_samples, mp_ctx, pickle_backend, **kwargs)\u001b[0m\n\u001b[1;32m   1510\u001b[0m     \u001b[0;32mexcept\u001b[0m \u001b[0mKeyboardInterrupt\u001b[0m\u001b[0;34m:\u001b[0m\u001b[0;34m\u001b[0m\u001b[0;34m\u001b[0m\u001b[0m\n\u001b[1;32m   1511\u001b[0m         \u001b[0;32mif\u001b[0m \u001b[0mdiscard_tuned_samples\u001b[0m\u001b[0;34m:\u001b[0m\u001b[0;34m\u001b[0m\u001b[0;34m\u001b[0m\u001b[0m\n\u001b[0;32m-> 1512\u001b[0;31m             \u001b[0mtraces\u001b[0m\u001b[0;34m,\u001b[0m \u001b[0mlength\u001b[0m \u001b[0;34m=\u001b[0m \u001b[0m_choose_chains\u001b[0m\u001b[0;34m(\u001b[0m\u001b[0mtraces\u001b[0m\u001b[0;34m,\u001b[0m \u001b[0mtune\u001b[0m\u001b[0;34m)\u001b[0m\u001b[0;34m\u001b[0m\u001b[0;34m\u001b[0m\u001b[0m\n\u001b[0m\u001b[1;32m   1513\u001b[0m         \u001b[0;32melse\u001b[0m\u001b[0;34m:\u001b[0m\u001b[0;34m\u001b[0m\u001b[0;34m\u001b[0m\u001b[0m\n\u001b[1;32m   1514\u001b[0m             \u001b[0mtraces\u001b[0m\u001b[0;34m,\u001b[0m \u001b[0mlength\u001b[0m \u001b[0;34m=\u001b[0m \u001b[0m_choose_chains\u001b[0m\u001b[0;34m(\u001b[0m\u001b[0mtraces\u001b[0m\u001b[0;34m,\u001b[0m \u001b[0;36m0\u001b[0m\u001b[0;34m)\u001b[0m\u001b[0;34m\u001b[0m\u001b[0;34m\u001b[0m\u001b[0m\n",
      "\u001b[0;32m~/opt/anaconda3/envs/PyMC/lib/python3.8/site-packages/pymc3/sampling.py\u001b[0m in \u001b[0;36m_choose_chains\u001b[0;34m(traces, tune)\u001b[0m\n\u001b[1;32m   1528\u001b[0m     \u001b[0mlengths\u001b[0m \u001b[0;34m=\u001b[0m \u001b[0;34m[\u001b[0m\u001b[0mmax\u001b[0m\u001b[0;34m(\u001b[0m\u001b[0;36m0\u001b[0m\u001b[0;34m,\u001b[0m \u001b[0mlen\u001b[0m\u001b[0;34m(\u001b[0m\u001b[0mtrace\u001b[0m\u001b[0;34m)\u001b[0m \u001b[0;34m-\u001b[0m \u001b[0mtune\u001b[0m\u001b[0;34m)\u001b[0m \u001b[0;32mfor\u001b[0m \u001b[0mtrace\u001b[0m \u001b[0;32min\u001b[0m \u001b[0mtraces\u001b[0m\u001b[0;34m]\u001b[0m\u001b[0;34m\u001b[0m\u001b[0;34m\u001b[0m\u001b[0m\n\u001b[1;32m   1529\u001b[0m     \u001b[0;32mif\u001b[0m \u001b[0;32mnot\u001b[0m \u001b[0msum\u001b[0m\u001b[0;34m(\u001b[0m\u001b[0mlengths\u001b[0m\u001b[0;34m)\u001b[0m\u001b[0;34m:\u001b[0m\u001b[0;34m\u001b[0m\u001b[0;34m\u001b[0m\u001b[0m\n\u001b[0;32m-> 1530\u001b[0;31m         \u001b[0;32mraise\u001b[0m \u001b[0mValueError\u001b[0m\u001b[0;34m(\u001b[0m\u001b[0;34m\"Not enough samples to build a trace.\"\u001b[0m\u001b[0;34m)\u001b[0m\u001b[0;34m\u001b[0m\u001b[0;34m\u001b[0m\u001b[0m\n\u001b[0m\u001b[1;32m   1531\u001b[0m \u001b[0;34m\u001b[0m\u001b[0m\n\u001b[1;32m   1532\u001b[0m     \u001b[0midxs\u001b[0m \u001b[0;34m=\u001b[0m \u001b[0mnp\u001b[0m\u001b[0;34m.\u001b[0m\u001b[0margsort\u001b[0m\u001b[0;34m(\u001b[0m\u001b[0mlengths\u001b[0m\u001b[0;34m)\u001b[0m\u001b[0;34m[\u001b[0m\u001b[0;34m:\u001b[0m\u001b[0;34m:\u001b[0m\u001b[0;34m-\u001b[0m\u001b[0;36m1\u001b[0m\u001b[0;34m]\u001b[0m\u001b[0;34m\u001b[0m\u001b[0;34m\u001b[0m\u001b[0m\n",
      "\u001b[0;31mValueError\u001b[0m: Not enough samples to build a trace."
     ]
    }
   ],
   "source": [
    "with pm.Model() as mod:\n",
    "    \n",
    "    tau_0 = 1\n",
    "    tau = pm.HalfCauchy('tau', beta=tau_0, shape=1)\n",
    "    lambdas = pm.HalfCauchy('lambdas', beta=1, shape=(Q+K))\n",
    "    weights = pm.Normal('weights', mu=0, sd=tau*lambdas, shape=(Q+K))\n",
    "    successes = pm.Binomial('successes', p=tt_invlogit(X@weights+THETA), n=[N]*P,\n",
    "                            observed=x)\n",
    "    \n",
    "with mod:\n",
    "    posterior = pm.sample()    "
   ]
  },
  {
   "cell_type": "code",
   "execution_count": 9,
   "metadata": {},
   "outputs": [
    {
     "data": {
      "text/plain": [
       "Text(0.5, 1.0, 'The Horseshoe!')"
      ]
     },
     "execution_count": 9,
     "metadata": {},
     "output_type": "execute_result"
    },
    {
     "data": {
      "image/png": "[encoded data removed]",
      "text/plain": [
       "<Figure size 432x288 with 1 Axes>"
      ]
     },
     "metadata": {
      "needs_background": "light"
     },
     "output_type": "display_data"
    }
   ],
   "source": [
    "# change of variables\n",
    "# shrnk = trans(spprt) = 1/(1+sprt**2)\n",
    "# spprt = (1/shrnk-1)**0.5\n",
    "# E.g., 1/(1+.5**2), (1/.8-1)**0.5\n",
    "# jacobian: .5(1/shrnk-1)**(-.5)*shrnk**(-2)\n",
    "shrinkage = np.linspace(0,1,100)\n",
    "plt.plot(shrinkage, \n",
    "         stats.halfcauchy(scale=1).pdf((1/shrinkage-1)**0.5) * \n",
    "         .5*(1/shrinkage-1)**(-.5)*shrinkage**(-2))\n",
    "plt.title('The Horseshoe!')"
   ]
  },
  {
   "cell_type": "code",
   "execution_count": 8,
   "metadata": {},
   "outputs": [
    {
     "data": {
      "text/plain": [
       "<matplotlib.legend.Legend at 0x7fbe50f59af0>"
      ]
     },
     "execution_count": 8,
     "metadata": {},
     "output_type": "execute_result"
    },
    {
     "data": {
      "image/png": "[encoded data removed]",
      "text/plain": [
       "<Figure size 432x288 with 1 Axes>"
      ]
     },
     "metadata": {
      "needs_background": "light"
     },
     "output_type": "display_data"
    }
   ],
   "source": [
    "plt.plot(posterior['weights'].mean(axis=0), label='Estimated')\n",
    "plt.plot(w, label='Truth')\n",
    "plt.legend()"
   ]
  },
  {
   "cell_type": "code",
   "execution_count": 9,
   "metadata": {},
   "outputs": [
    {
     "data": {
      "text/plain": [
       "Text(0.5, 1.0, 'Shrinkage Profile')"
      ]
     },
     "execution_count": 9,
     "metadata": {},
     "output_type": "execute_result"
    },
    {
     "data": {
      "image/png": "[encoded data removed]",
      "text/plain": [
       "<Figure size 432x288 with 1 Axes>"
      ]
     },
     "metadata": {
      "needs_background": "light"
     },
     "output_type": "display_data"
    }
   ],
   "source": [
    "plt.hist(1/(1+posterior['lambdas'].mean(axis=0)**2))\n",
    "plt.title('Shrinkage Profile')"
   ]
  },
  {
   "cell_type": "markdown",
   "metadata": {},
   "source": [
    "# V2: Regularized Horseshoe Prior\n",
    "\n",
    "- https://avehtari.github.io/modelselection/regularizedhorseshoe_slides.pdf\n",
    "- https://www.youtube.com/watch?v=EuhvfvY8ISc\n",
    "- https://arxiv.org/pdf/1707.01694.pdf\n",
    "\n",
    "On Page 74 (and Figure 2) of the original horseshoe manuscript (Carvalhoetal2009.pdf) -- Carvalho, Polsen, and Scott 2009 -- the assumption that $\\tau=\\sigma=n=1$ is used to illustrate shrinkage as $\\kappa_i=\\frac{1}{1+\\tau_j}$; however, a fuller form is given in Piironen and Vehtari 2017 (1707.01694.pdf); namely:\n",
    "\n",
    "$$\\frac{1}{1 + n \\sigma^{-2}\\tau^2 s_{x_j}^2 \\lambda^2_j} = \\frac{1}{1 + \\frac{n}{ \\sigma^2}\\tau^2 \\lambda^2_j}$$ \n",
    "\n",
    "if $Var(x_j) = s_{x_j}^2 = 1$, as in the case of standardized data. \n",
    "\n",
    "Piironen and Vehtari 2017 Further show that the *smaller* $\\frac{n}{\\sigma^2}\\tau^2$ gets, the *greater* the number of parameters will be that experience shrinkage, and they formulate the \n",
    "following expectation on the effective number of parameters resulting from the choice of $\\tau = \\tau_0$:\n",
    "\n",
    "- $E\\left[ \\sum_{k=1}^D 1 - \\kappa_j \\right] = \\frac{\\frac{\\tau_0}{\\sigma}\\sqrt{n}}{1+\\frac{\\tau_0}{\\sigma}\\sqrt{n}}D$\n",
    "- where $\\tau_0 = \\frac{p_0}{D-p_0}\\frac{\\sigma}{\\sqrt{n}}$ \n",
    "- where $p_0$ is the number of \"effectively non-zero\" parameters and $D$ is the total number of parameters. \n",
    "\n",
    "\n",
    "\n",
    "Below we demonstrate the behavior of their proposed priors based on different choices of $\\tau_0$\n",
    "\n",
    "- $\\tau = \\tau_0$\n",
    "- $N_+\\left(􏰀0, \\tau_0^2\\right)$􏰁\n",
    "- $C_+\\left(􏰀0, \\tau_0^2\\right)$􏰁\n",
    "- $C_+\\left(􏰀0, 1\\right)$􏰁\n",
    "\n",
    "\n"
   ]
  },
  {
   "cell_type": "code",
   "execution_count": 57,
   "metadata": {},
   "outputs": [
    {
     "data": {
      "text/plain": [
       "array([ 8.55,  7.99, 10.1 ,  4.23,  5.  ,  8.22,  7.78,  6.18,  7.33,\n",
       "        7.04,  5.56,  6.38,  7.92,  7.49,  4.56,  5.81,  8.4 ,  8.12,\n",
       "        7.87,  8.02,  8.57,  7.35,  5.28,  5.83,  9.22,  5.76, 10.21,\n",
       "        5.99,  3.96,  2.4 ,  5.53,  6.03,  8.11,  6.22,  7.88,  5.95,\n",
       "        6.95,  7.71,  5.96,  4.  ,  8.56,  5.97,  7.17,  7.06,  6.99,\n",
       "        4.23,  6.85,  6.17,  6.12,  8.25,  7.87,  4.56,  8.79,  6.26,\n",
       "        6.33,  8.52,  7.67,  6.87,  6.45,  5.09,  8.6 ,  6.31,  6.95,\n",
       "        6.09,  5.24,  5.3 ,  6.98,  4.47,  9.28,  6.11,  7.48,  7.58,\n",
       "        5.71,  7.9 ,  6.87,  5.75, 10.28,  7.07,  5.77,  3.75,  6.28,\n",
       "        6.42,  5.43,  7.74,  5.17,  6.91,  3.85,  3.82,  9.29,  5.59,\n",
       "        8.48,  9.89,  6.23,  6.17,  5.47,  5.87,  7.64,  6.99,  7.41,\n",
       "        6.25,  5.77,  7.18,  8.55,  8.23,  6.73,  8.83,  8.2 ,  8.58,\n",
       "        4.81,  9.71,  7.97,  7.24,  7.32,  7.53,  7.64,  6.11,  5.23,\n",
       "        6.85,  5.26,  5.98, 10.37,  6.85,  4.43,  9.84,  6.48,  8.11,\n",
       "        8.99,  9.04,  4.17,  7.53,  6.38,  7.55,  5.95,  6.41,  9.88,\n",
       "        7.02,  5.55,  9.19,  9.37,  7.82,  8.13,  8.05,  6.36,  4.38,\n",
       "        5.96,  8.04,  5.59,  7.83,  7.58,  6.02,  8.87,  5.48,  6.69,\n",
       "        7.41,  7.96, 10.06,  6.74,  6.78,  3.84,  8.68,  7.68,  6.18,\n",
       "        9.27,  9.27,  5.36,  8.49,  7.42,  8.21,  6.36,  4.89,  6.62,\n",
       "        8.63,  5.59,  8.78,  4.69,  6.22,  6.25,  5.89,  8.05,  7.58,\n",
       "        4.13,  7.55,  8.44,  6.17,  5.05,  7.31,  5.7 ,  8.64,  8.24,\n",
       "        7.21,  8.71,  6.99,  7.71,  7.81,  7.17,  5.32,  7.24,  6.91,\n",
       "        6.83,  6.11,  7.92,  6.37,  7.75,  7.79,  6.34,  7.63,  8.39,\n",
       "        7.38,  4.83,  7.94,  6.34,  6.75,  7.42,  7.55,  4.  ,  7.91,\n",
       "        6.28,  7.53,  6.18, 10.36,  7.76,  7.18,  5.74,  5.47,  7.02,\n",
       "        5.58,  7.24, 10.19,  3.61,  6.71,  5.79,  7.42,  6.45,  5.47,\n",
       "        5.74,  6.96,  6.29,  5.32,  7.19,  6.67,  2.99,  7.25,  8.35,\n",
       "        6.47,  5.8 ,  6.66,  7.26,  8.26,  8.42,  7.37,  5.48,  4.49,\n",
       "        6.31,  4.97,  7.24,  5.87,  8.28,  5.92,  8.4 ,  6.89,  6.31,\n",
       "        7.55,  6.33,  5.48,  7.3 ,  7.87,  4.98,  9.58,  6.51,  8.58,\n",
       "        6.37,  3.82,  5.95,  6.87,  4.6 ,  6.97,  8.78,  5.97,  7.28,\n",
       "        4.14,  6.1 ,  6.14,  7.47,  7.2 ,  5.85,  5.75,  6.83,  7.91,\n",
       "        5.93,  6.51,  4.56,  4.7 ,  5.54,  8.11,  5.94,  5.23,  7.53,\n",
       "        4.16,  4.6 ,  7.99,  7.84,  5.54,  5.43,  5.75,  9.34,  7.14,\n",
       "        8.19,  6.32,  6.59,  6.21,  5.24,  4.64,  6.4 ,  5.09,  3.35,\n",
       "        6.78,  5.44,  5.5 ,  7.12,  4.58,  8.37,  6.02,  6.4 ,  7.48,\n",
       "        5.41,  5.94,  5.64,  5.32,  5.06,  4.15,  6.93,  9.71,  3.94,\n",
       "        6.23,  2.72,  5.24,  4.23,  5.69,  7.84,  8.04,  7.03,  4.1 ,\n",
       "        4.64,  6.76,  8.89,  4.62,  6.23,  7.07,  5.26,  9.06,  5.7 ,\n",
       "        4.69,  5.82,  7.41,  8.45,  7.27,  7.12,  8.14,  8.39,  4.33,\n",
       "        6.45,  5.26,  6.74,  4.06,  8.4 ,  8.02,  8.67,  3.99,  8.41,\n",
       "        7.89,  6.47,  6.83,  6.02,  6.22,  5.8 ,  6.66,  6.84,  2.89,\n",
       "        7.12, 11.79,  7.91,  6.88,  8.21, 10.51,  9.23,  6.01,  7.99,\n",
       "        7.66,  7.15,  7.83,  8.45,  4.28,  5.9 ,  5.72,  3.41,  6.24,\n",
       "        5.81,  6.59,  7.57,  7.42,  9.61,  5.94,  8.15,  6.51,  7.73,\n",
       "        4.9 ,  6.19,  7.48,  8.59,  9.78,  8.03,  6.77,  5.02,  2.93,\n",
       "        8.23,  7.27,  8.86,  7.63,  7.54,  5.62,  4.94,  6.22,  6.6 ,\n",
       "        6.51,  7.4 ,  6.63,  5.76,  9.58,  8.35,  4.63,  6.72,  7.03,\n",
       "        9.34,  5.22,  5.14,  6.97,  8.26,  7.85,  4.43,  8.5 ,  7.89,\n",
       "        6.82,  7.26,  5.14,  7.81,  6.99,  8.54,  7.66,  4.65,  7.47,\n",
       "        6.05,  5.91,  7.25,  7.03,  6.23,  4.11,  5.82,  7.02,  2.98,\n",
       "        7.21,  7.99,  8.38,  5.48,  6.11,  5.23,  5.35,  4.88,  3.67,\n",
       "        6.26,  5.13,  6.11,  9.14,  7.32,  6.42,  8.5 ,  6.1 ,  9.21,\n",
       "        3.44,  6.81,  8.46,  6.55,  8.19,  4.75,  4.47,  7.77,  5.07,\n",
       "        9.89,  5.79,  5.41, 10.09,  6.23,  8.28,  7.99,  5.08,  6.95,\n",
       "        6.94,  4.33,  6.94,  5.75,  6.96,  9.39,  5.76,  7.8 ,  8.91,\n",
       "        8.7 ,  6.78,  6.32,  6.58,  4.63,  7.18,  8.72,  5.71,  5.98,\n",
       "        5.66,  5.22,  4.75,  5.33,  5.46,  5.76,  8.41,  5.83,  4.63,\n",
       "        7.44,  7.37,  7.55,  6.48,  9.19,  9.05,  4.96,  7.46,  3.53,\n",
       "        6.46,  6.65,  3.39,  7.65,  9.35,  6.87,  5.85,  5.27,  4.65,\n",
       "        5.34,  6.06,  6.7 ,  7.44,  9.11,  9.55,  6.67,  6.59,  6.65,\n",
       "        9.92,  8.67,  7.91,  6.68,  6.42,  5.73,  5.19,  3.99,  8.96,\n",
       "        7.17,  5.85,  6.3 ,  9.51,  5.33,  9.06,  7.32,  3.69,  4.1 ,\n",
       "        5.58,  7.06,  7.35,  5.18,  7.2 ,  7.98,  7.28,  5.42,  4.34,\n",
       "        7.46,  9.24,  5.88,  5.16,  5.35,  8.2 ,  6.2 , 10.64,  5.16,\n",
       "        7.1 ,  7.01,  8.06,  5.96,  7.07,  5.87,  6.63,  6.91,  9.22,\n",
       "        4.42,  5.66,  7.73,  7.09,  5.  ,  7.6 ,  2.78,  5.55,  8.19,\n",
       "        7.53,  8.48,  6.81,  4.38,  9.67,  7.54,  5.81,  7.22,  6.67,\n",
       "        8.35,  7.6 ,  6.58,  5.13,  7.23,  6.37,  6.84,  5.35,  8.04,\n",
       "        7.25,  5.62,  7.29,  6.31,  7.77,  7.68,  7.14,  9.78,  8.92,\n",
       "        8.62,  5.5 ,  6.45,  8.01,  6.43,  7.78,  5.16,  6.97,  6.07,\n",
       "        7.15,  5.46,  6.78,  7.11,  8.24,  8.94,  9.74,  6.47,  4.16,\n",
       "        8.97,  6.39,  8.  ,  5.31,  8.14, 11.35,  4.02,  4.89,  6.72,\n",
       "        5.21,  7.85,  6.43,  4.11,  3.79,  5.93,  5.36,  8.67,  4.73,\n",
       "        8.14,  6.21,  7.16,  7.48,  5.8 ,  7.02,  5.66,  5.55,  7.56,\n",
       "        6.67,  8.47,  7.76,  6.56,  5.9 ,  9.4 ,  7.34,  7.81,  9.53,\n",
       "        5.73,  8.5 ,  5.59,  7.64,  6.12,  6.28,  9.81,  7.51,  8.51,\n",
       "        5.91,  6.94,  7.27,  5.47,  7.45,  4.63,  6.94,  6.34,  5.2 ,\n",
       "        5.83,  7.89,  5.69,  4.32,  5.26,  7.51,  6.42,  7.19,  3.62,\n",
       "        5.32,  6.27,  3.36,  5.57,  5.27,  8.93,  9.54,  5.57,  7.21,\n",
       "        7.05,  6.22,  7.37, 10.37,  7.38,  7.15,  5.09,  8.85,  7.61,\n",
       "        6.52,  6.71,  5.87,  6.18,  5.17,  5.7 ,  6.28,  7.97,  5.86,\n",
       "        5.77,  5.98,  9.25,  6.77,  7.38,  8.68,  8.38,  6.97,  7.04,\n",
       "        4.26,  7.07,  8.64,  6.51,  3.92,  7.74,  9.62,  5.14,  6.6 ,\n",
       "        8.15,  6.83,  8.6 ,  3.56,  7.81,  6.96,  5.95,  8.64,  9.91,\n",
       "        7.21,  7.55,  4.57,  4.21,  7.  ,  6.89,  7.01,  5.77,  8.84,\n",
       "        8.99,  7.5 ,  8.53,  5.63,  7.08,  8.61,  6.42,  6.36,  6.96,\n",
       "        5.71,  4.55,  7.27,  4.1 ,  7.81,  4.52,  6.56,  5.31,  8.15,\n",
       "        7.29, 10.75,  5.81,  5.23,  8.81,  8.42,  8.49,  7.04,  8.07,\n",
       "        6.56,  6.26,  5.7 ,  8.13,  7.22,  6.37,  6.23,  7.32,  8.3 ,\n",
       "        4.88,  8.62,  6.92,  6.81,  5.14,  6.7 ,  7.24,  6.86,  4.86,\n",
       "        5.02,  5.94,  6.53,  9.47,  5.14,  5.19,  7.57,  6.54,  6.17,\n",
       "       10.12,  5.52,  6.91,  6.84,  6.76,  8.1 ,  5.78,  5.72,  6.72,\n",
       "        5.89,  7.45,  6.77,  7.24,  5.99,  6.19,  8.75,  9.06,  7.39,\n",
       "        7.4 ,  6.52,  7.41,  7.2 ,  4.8 ,  7.26,  5.74,  6.55,  6.43,\n",
       "        6.18,  7.4 ,  6.3 ,  7.87,  5.38,  7.11,  4.48,  8.25,  4.48,\n",
       "        6.46,  6.47,  8.36,  8.53,  8.55,  6.33,  9.11,  5.04,  8.77,\n",
       "       10.37,  7.55,  5.89,  5.83,  5.87,  6.95,  8.23,  7.67,  5.17,\n",
       "        6.09,  8.51,  5.02,  5.35,  5.78,  6.28,  4.26,  6.05,  8.55,\n",
       "        7.55,  7.55,  6.88,  9.2 ,  4.24,  8.26,  7.25,  7.37,  4.28,\n",
       "        7.42,  9.09,  8.72,  6.9 ,  5.02,  5.32,  7.65,  3.53,  6.88,\n",
       "        9.01,  9.54,  4.2 ,  4.25,  5.69,  6.91,  5.65,  6.91,  6.66,\n",
       "        6.31,  7.62,  6.95, 10.36,  4.59,  5.9 ,  6.46,  7.74,  7.26,\n",
       "        7.44,  7.64,  7.82,  8.76,  9.35,  4.75,  5.5 ,  8.76,  6.6 ,\n",
       "        8.59,  6.25,  6.71,  9.74,  6.37,  6.92,  5.93,  6.06,  4.49,\n",
       "        8.33,  4.69,  8.52,  5.51,  6.35,  8.92,  8.16,  6.76,  6.89,\n",
       "        7.16,  6.28,  4.66,  7.85,  9.15,  6.58,  5.36,  7.27,  6.97,\n",
       "        7.27,  6.68,  5.08,  6.71,  7.94,  3.84,  8.77,  8.1 ,  6.71,\n",
       "        4.75,  3.92, 10.78,  6.11,  5.43,  6.91,  8.42,  4.72,  6.94,\n",
       "        7.87,  8.  ,  6.37,  9.54,  7.83,  7.47,  6.69,  5.57,  5.76,\n",
       "        8.12,  8.58,  7.97,  5.51,  7.44,  9.38,  7.83,  4.04,  6.92,\n",
       "        7.05])"
      ]
     },
     "execution_count": 57,
     "metadata": {},
     "output_type": "execute_result"
    }
   ],
   "source": [
    "X@w_prime"
   ]
  },
  {
   "cell_type": "code",
   "execution_count": 51,
   "metadata": {},
   "outputs": [
    {
     "data": {
      "text/plain": [
       "[<matplotlib.lines.Line2D at 0x7fbe430aad30>]"
      ]
     },
     "execution_count": 51,
     "metadata": {},
     "output_type": "execute_result"
    },
    {
     "data": {
      "image/png": "[encoded data removed]",
      "text/plain": [
       "<Figure size 432x288 with 1 Axes>"
      ]
     },
     "metadata": {
      "needs_background": "light"
     },
     "output_type": "display_data"
    }
   ],
   "source": [
    "# zero out some coefficients\n",
    "\n",
    "import random\n",
    "w_prime = w.copy()\n",
    "w_prime[random.sample(range(len(w)), 150)] = 0\n",
    "\n",
    "THETA = -6\n",
    "x = stats.binom(p=invlogit(THETA+X@w_prime), n=[N]*P).rvs()\n",
    "plt.plot(sorted(x/N))"
   ]
  },
  {
   "cell_type": "code",
   "execution_count": 98,
   "metadata": {},
   "outputs": [
    {
     "name": "stderr",
     "output_type": "stream",
     "text": [
      "Auto-assigning NUTS sampler...\n",
      "Initializing NUTS using jitter+adapt_diag...\n",
      "Multiprocess sampling (4 chains in 4 jobs)\n",
      "NUTS: [weights, lambdas]\n"
     ]
    },
    {
     "data": {
      "text/html": [
       "\n",
       "    <div>\n",
       "        <style>\n",
       "            /* Turns off some styling */\n",
       "            progress {\n",
       "                /* gets rid of default border in Firefox and Opera. */\n",
       "                border: none;\n",
       "                /* Needs to be in here for Safari polyfill so background images work as expected. */\n",
       "                background-size: auto;\n",
       "            }\n",
       "            .progress-bar-interrupted, .progress-bar-interrupted::-webkit-progress-bar {\n",
       "                background: #F44336;\n",
       "            }\n",
       "        </style>\n",
       "      <progress value='8000' class='' max='8000' style='width:300px; height:20px; vertical-align: middle;'></progress>\n",
       "      100.00% [8000/8000 04:21<00:00 Sampling 4 chains, 2,292 divergences]\n",
       "    </div>\n",
       "    "
      ],
      "text/plain": [
       "<IPython.core.display.HTML object>"
      ]
     },
     "metadata": {},
     "output_type": "display_data"
    },
    {
     "name": "stderr",
     "output_type": "stream",
     "text": [
      "Sampling 4 chains for 1_000 tune and 1_000 draw iterations (4_000 + 4_000 draws total) took 269 seconds.\n",
      "There were 556 divergences after tuning. Increase `target_accept` or reparameterize.\n",
      "The acceptance probability does not match the target. It is 0.6567554954983804, but should be close to 0.8. Try to increase the number of tuning steps.\n",
      "There were 608 divergences after tuning. Increase `target_accept` or reparameterize.\n",
      "The acceptance probability does not match the target. It is 0.5883855841523762, but should be close to 0.8. Try to increase the number of tuning steps.\n",
      "There were 589 divergences after tuning. Increase `target_accept` or reparameterize.\n",
      "The acceptance probability does not match the target. It is 0.5792905146786848, but should be close to 0.8. Try to increase the number of tuning steps.\n",
      "There were 539 divergences after tuning. Increase `target_accept` or reparameterize.\n",
      "The acceptance probability does not match the target. It is 0.6915559603229503, but should be close to 0.8. Try to increase the number of tuning steps.\n",
      "The rhat statistic is larger than 1.05 for some parameters. This indicates slight problems during sampling.\n",
      "The estimated number of effective samples is smaller than 200 for some parameters.\n"
     ]
    }
   ],
   "source": [
    "with pm.Model() as mod_reg_1p0:\n",
    "    \n",
    "    tau_0 = 1#.01\n",
    "    #tau = pm.HalfCauchy('tau', beta=tau_0, shape=1)\n",
    "    tau = tau_0\n",
    "    lambdas = pm.HalfCauchy('lambdas', beta=1, shape=(Q+K))\n",
    "    weights = pm.Normal('weights', mu=0, sd=tau*lambdas, shape=(Q+K))\n",
    "    successes = pm.Binomial('successes', p=tt_invlogit(X@weights+THETA), n=[N]*P,\n",
    "                            observed=x)\n",
    "    \n",
    "with mod_reg_1p0:\n",
    "    posterior_reg_1p0 = pm.sample()    "
   ]
  },
  {
   "cell_type": "code",
   "execution_count": 100,
   "metadata": {},
   "outputs": [
    {
     "name": "stderr",
     "output_type": "stream",
     "text": [
      "Auto-assigning NUTS sampler...\n",
      "Initializing NUTS using jitter+adapt_diag...\n",
      "Multiprocess sampling (4 chains in 4 jobs)\n",
      "NUTS: [weights, lambdas]\n"
     ]
    },
    {
     "data": {
      "text/html": [
       "\n",
       "    <div>\n",
       "        <style>\n",
       "            /* Turns off some styling */\n",
       "            progress {\n",
       "                /* gets rid of default border in Firefox and Opera. */\n",
       "                border: none;\n",
       "                /* Needs to be in here for Safari polyfill so background images work as expected. */\n",
       "                background-size: auto;\n",
       "            }\n",
       "            .progress-bar-interrupted, .progress-bar-interrupted::-webkit-progress-bar {\n",
       "                background: #F44336;\n",
       "            }\n",
       "        </style>\n",
       "      <progress value='8000' class='' max='8000' style='width:300px; height:20px; vertical-align: middle;'></progress>\n",
       "      100.00% [8000/8000 10:36<00:00 Sampling 4 chains, 2,796 divergences]\n",
       "    </div>\n",
       "    "
      ],
      "text/plain": [
       "<IPython.core.display.HTML object>"
      ]
     },
     "metadata": {},
     "output_type": "display_data"
    },
    {
     "name": "stderr",
     "output_type": "stream",
     "text": [
      "Sampling 4 chains for 1_000 tune and 1_000 draw iterations (4_000 + 4_000 draws total) took 643 seconds.\n",
      "There were 735 divergences after tuning. Increase `target_accept` or reparameterize.\n",
      "The acceptance probability does not match the target. It is 0.7057983875570116, but should be close to 0.8. Try to increase the number of tuning steps.\n",
      "There were 793 divergences after tuning. Increase `target_accept` or reparameterize.\n",
      "The acceptance probability does not match the target. It is 0.6249111628696028, but should be close to 0.8. Try to increase the number of tuning steps.\n",
      "There were 666 divergences after tuning. Increase `target_accept` or reparameterize.\n",
      "There were 602 divergences after tuning. Increase `target_accept` or reparameterize.\n",
      "The rhat statistic is larger than 1.05 for some parameters. This indicates slight problems during sampling.\n",
      "The estimated number of effective samples is smaller than 200 for some parameters.\n"
     ]
    }
   ],
   "source": [
    "with pm.Model() as mod_reg_0p01:\n",
    "    \n",
    "    tau_0 = 0.01\n",
    "    #tau = pm.HalfCauchy('tau', beta=tau_0, shape=1)\n",
    "    tau = tau_0\n",
    "    lambdas = pm.HalfCauchy('lambdas', beta=1, shape=(Q+K))\n",
    "    weights = pm.Normal('weights', mu=0, sd=tau*lambdas, shape=(Q+K))\n",
    "    successes = pm.Binomial('successes', p=tt_invlogit(X@weights+THETA), n=[N]*P,\n",
    "                            observed=x)\n",
    "    \n",
    "with mod_reg_0p01:\n",
    "    posterior_reg_0p01 = pm.sample()    "
   ]
  },
  {
   "cell_type": "code",
   "execution_count": 117,
   "metadata": {},
   "outputs": [
    {
     "data": {
      "text/plain": [
       "<matplotlib.legend.Legend at 0x7fbe51fefeb0>"
      ]
     },
     "execution_count": 117,
     "metadata": {},
     "output_type": "execute_result"
    },
    {
     "data": {
      "image/png": "[encoded data removed]",
      "text/plain": [
       "<Figure size 432x288 with 1 Axes>"
      ]
     },
     "metadata": {
      "needs_background": "light"
     },
     "output_type": "display_data"
    }
   ],
   "source": [
    "#plt.plot(posterior_reg['weights'].mean(axis=0), label='Estimated')\n",
    "par_1p0 = np.array(2*[np.arange(len(posterior_reg_1p0['weights'].mean(axis=0)))])\n",
    "val_1p0 = np.percentile(posterior_reg_1p0['weights'], [1, 99], axis=0)\n",
    "plt.plot(par_1p0,val_1p0,'orange')\n",
    "plt.plot(par_1p0[:,0],val_1p0[:,0],'orange', label='98% credible')\n",
    "plt.plot(w_prime, '.', label='Truth')\n",
    "plt.ylabel('$\\\\tau_0$=1')\n",
    "\n",
    "\n",
    "plt.legend()"
   ]
  },
  {
   "cell_type": "code",
   "execution_count": 118,
   "metadata": {},
   "outputs": [
    {
     "data": {
      "text/plain": [
       "<matplotlib.legend.Legend at 0x7fbe51ff4400>"
      ]
     },
     "execution_count": 118,
     "metadata": {},
     "output_type": "execute_result"
    },
    {
     "data": {
      "image/png": "[encoded data removed]",
      "text/plain": [
       "<Figure size 432x288 with 1 Axes>"
      ]
     },
     "metadata": {
      "needs_background": "light"
     },
     "output_type": "display_data"
    }
   ],
   "source": [
    "#plt.plot(posterior_reg['weights'].mean(axis=0), label='Estimated')\n",
    "par_0p01 = np.array(2*[np.arange(len(posterior_reg_0p01['weights'].mean(axis=0)))])\n",
    "val_0p01 = np.percentile(posterior_reg_0p01['weights'], [1, 99], axis=0)\n",
    "plt.plot(par_0p01,val_0p01,'orange')\n",
    "plt.plot(par_0p01[:,0],val_0p01[:,0],'orange', label='98% credible')\n",
    "plt.plot(w_prime, '.', label='Truth')\n",
    "plt.ylabel('$\\\\tau_0$=0.01')\n",
    "\n",
    "plt.legend()"
   ]
  },
  {
   "cell_type": "code",
   "execution_count": 119,
   "metadata": {},
   "outputs": [
    {
     "data": {
      "text/plain": [
       "[<matplotlib.lines.Line2D at 0x7fbe33542d60>]"
      ]
     },
     "execution_count": 119,
     "metadata": {},
     "output_type": "execute_result"
    },
    {
     "data": {
      "image/png": "[encoded data removed]",
      "text/plain": [
       "<Figure size 432x288 with 1 Axes>"
      ]
     },
     "metadata": {
      "needs_background": "light"
     },
     "output_type": "display_data"
    }
   ],
   "source": [
    "plt.plot(val_1p0[1]-val_1p0[0],val_0p01[1]-val_0p01[0],'.')\n",
    "plt.xlabel('$\\\\tau_0$=1')\n",
    "plt.ylabel('$\\\\tau_0$=0.01')\n",
    "plt.title('98% credible widths')\n",
    "plt.plot([.03,.1],[.03,.1])\n"
   ]
  },
  {
   "cell_type": "code",
   "execution_count": null,
   "metadata": {},
   "outputs": [],
   "source": []
  }
 ],
 "metadata": {
  "kernelspec": {
   "display_name": "Python 3",
   "language": "python",
   "name": "python3"
  },
  "language_info": {
   "codemirror_mode": {
    "name": "ipython",
    "version": 3
   },
   "file_extension": ".py",
   "mimetype": "text/x-python",
   "name": "python",
   "nbconvert_exporter": "python",
   "pygments_lexer": "ipython3",
   "version": "3.8.5"
  }
 },
 "nbformat": 4,
 "nbformat_minor": 4
}
